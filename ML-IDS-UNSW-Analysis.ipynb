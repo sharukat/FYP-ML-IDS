{
 "cells": [
  {
   "cell_type": "code",
   "execution_count": 1,
   "metadata": {},
   "outputs": [
    {
     "name": "stdout",
     "output_type": "stream",
     "text": [
      "C:\\Users\\Sharuka Thirimanne\\Desktop\\FYP-ML-IDS\n"
     ]
    }
   ],
   "source": [
    "cd C:\\\\Users\\\\Sharuka Thirimanne\\\\Desktop\\\\FYP-ML-IDS"
   ]
  },
  {
   "cell_type": "code",
   "execution_count": 2,
   "metadata": {},
   "outputs": [],
   "source": [
    "import numpy as np\n",
    "import pandas as pd\n",
    "import seaborn as sns\n",
    "import matplotlib.pyplot as plt"
   ]
  },
  {
   "cell_type": "markdown",
   "metadata": {},
   "source": [
    "#### CorrelationAttributeEval function in Weka was used to perform feature selection\n",
    "Correlation is more formally referred to as Pearson’s correlation coefficient in statistics.\n",
    "\n",
    "You can calculate the correlation between each attribute and the output variable and select only those attributes that have a moderate-to-high positive or negative correlation (close to -1 or 1) and drop those attributes with a low correlation (value close to zero).\n",
    "\n",
    "Weka supports correlation based feature selection with the CorrelationAttributeEval technique that requires use of a Ranker search method.\n",
    "\n",
    "[Link]('https://machinelearningmastery.com/perform-feature-selection-machine-learning-data-weka/#:~:text=Weka%20supports%20correlation%20based%20feature,correlation%20with%20the%20output%20class.')"
   ]
  },
  {
   "cell_type": "code",
   "execution_count": 3,
   "metadata": {
    "scrolled": true
   },
   "outputs": [
    {
     "name": "stdout",
     "output_type": "stream",
     "text": [
      "Number of duplicated initially : 76463\n",
      "Number of duplicated after : 0\n"
     ]
    }
   ],
   "source": [
    "df = pd.read_csv('Datasets/UNSW_NB15_training-set.csv')\n",
    "df.drop(['id'], axis = 'columns' , inplace = True)\n",
    "#df.drop(['attack_cat'], axis = 'columns' , inplace = True)\n",
    "\n",
    "\n",
    "df.drop(['attack_cat','sbytes', 'sjit', 'sloss', 'dinpkt', 'is_ftp_login', 'ct_ftp_cmd', \n",
    "         'ct_src_ltm', 'response_body_len', 'spkts', 'djit','dtcpb',\n",
    "         'stcpb','ct_dst_ltm','dbytes'], axis = 'columns' , inplace = True)\n",
    "\n",
    "\n",
    "print('Number of duplicated initially :',df.duplicated().sum())\n",
    "df.drop_duplicates(keep='first',inplace=True)\n",
    "print('Number of duplicated after :',df.duplicated().sum())\n"
   ]
  },
  {
   "cell_type": "code",
   "execution_count": 4,
   "metadata": {},
   "outputs": [
    {
     "data": {
      "text/plain": [
       "Index(['dur', 'proto', 'service', 'state', 'dpkts', 'rate', 'sttl', 'dttl',\n",
       "       'sload', 'dload', 'dloss', 'sinpkt', 'swin', 'dwin', 'tcprtt', 'synack',\n",
       "       'ackdat', 'smean', 'dmean', 'trans_depth', 'ct_srv_src', 'ct_state_ttl',\n",
       "       'ct_src_dport_ltm', 'ct_dst_sport_ltm', 'ct_dst_src_ltm',\n",
       "       'ct_flw_http_mthd', 'ct_srv_dst', 'is_sm_ips_ports', 'label'],\n",
       "      dtype='object')"
      ]
     },
     "execution_count": 4,
     "metadata": {},
     "output_type": "execute_result"
    }
   ],
   "source": [
    "df.columns"
   ]
  },
  {
   "cell_type": "code",
   "execution_count": 5,
   "metadata": {},
   "outputs": [
    {
     "data": {
      "text/html": [
       "<div>\n",
       "<style scoped>\n",
       "    .dataframe tbody tr th:only-of-type {\n",
       "        vertical-align: middle;\n",
       "    }\n",
       "\n",
       "    .dataframe tbody tr th {\n",
       "        vertical-align: top;\n",
       "    }\n",
       "\n",
       "    .dataframe thead th {\n",
       "        text-align: right;\n",
       "    }\n",
       "</style>\n",
       "<table border=\"1\" class=\"dataframe\">\n",
       "  <thead>\n",
       "    <tr style=\"text-align: right;\">\n",
       "      <th></th>\n",
       "      <th>dur</th>\n",
       "      <th>proto</th>\n",
       "      <th>service</th>\n",
       "      <th>state</th>\n",
       "      <th>dpkts</th>\n",
       "      <th>rate</th>\n",
       "      <th>sttl</th>\n",
       "      <th>dttl</th>\n",
       "      <th>sload</th>\n",
       "      <th>dload</th>\n",
       "      <th>...</th>\n",
       "      <th>trans_depth</th>\n",
       "      <th>ct_srv_src</th>\n",
       "      <th>ct_state_ttl</th>\n",
       "      <th>ct_src_dport_ltm</th>\n",
       "      <th>ct_dst_sport_ltm</th>\n",
       "      <th>ct_dst_src_ltm</th>\n",
       "      <th>ct_flw_http_mthd</th>\n",
       "      <th>ct_srv_dst</th>\n",
       "      <th>is_sm_ips_ports</th>\n",
       "      <th>label</th>\n",
       "    </tr>\n",
       "  </thead>\n",
       "  <tbody>\n",
       "    <tr>\n",
       "      <th>0</th>\n",
       "      <td>0.121478</td>\n",
       "      <td>tcp</td>\n",
       "      <td>-</td>\n",
       "      <td>FIN</td>\n",
       "      <td>4</td>\n",
       "      <td>74.087490</td>\n",
       "      <td>252</td>\n",
       "      <td>254</td>\n",
       "      <td>14158.942380</td>\n",
       "      <td>8495.365234</td>\n",
       "      <td>...</td>\n",
       "      <td>0</td>\n",
       "      <td>1</td>\n",
       "      <td>0</td>\n",
       "      <td>1</td>\n",
       "      <td>1</td>\n",
       "      <td>1</td>\n",
       "      <td>0</td>\n",
       "      <td>1</td>\n",
       "      <td>0</td>\n",
       "      <td>0</td>\n",
       "    </tr>\n",
       "    <tr>\n",
       "      <th>1</th>\n",
       "      <td>0.649902</td>\n",
       "      <td>tcp</td>\n",
       "      <td>-</td>\n",
       "      <td>FIN</td>\n",
       "      <td>38</td>\n",
       "      <td>78.473372</td>\n",
       "      <td>62</td>\n",
       "      <td>252</td>\n",
       "      <td>8395.112305</td>\n",
       "      <td>503571.312500</td>\n",
       "      <td>...</td>\n",
       "      <td>0</td>\n",
       "      <td>43</td>\n",
       "      <td>1</td>\n",
       "      <td>1</td>\n",
       "      <td>1</td>\n",
       "      <td>2</td>\n",
       "      <td>0</td>\n",
       "      <td>6</td>\n",
       "      <td>0</td>\n",
       "      <td>0</td>\n",
       "    </tr>\n",
       "    <tr>\n",
       "      <th>2</th>\n",
       "      <td>1.623129</td>\n",
       "      <td>tcp</td>\n",
       "      <td>-</td>\n",
       "      <td>FIN</td>\n",
       "      <td>16</td>\n",
       "      <td>14.170161</td>\n",
       "      <td>62</td>\n",
       "      <td>252</td>\n",
       "      <td>1572.271851</td>\n",
       "      <td>60929.230470</td>\n",
       "      <td>...</td>\n",
       "      <td>0</td>\n",
       "      <td>7</td>\n",
       "      <td>1</td>\n",
       "      <td>1</td>\n",
       "      <td>1</td>\n",
       "      <td>3</td>\n",
       "      <td>0</td>\n",
       "      <td>6</td>\n",
       "      <td>0</td>\n",
       "      <td>0</td>\n",
       "    </tr>\n",
       "    <tr>\n",
       "      <th>3</th>\n",
       "      <td>1.681642</td>\n",
       "      <td>tcp</td>\n",
       "      <td>ftp</td>\n",
       "      <td>FIN</td>\n",
       "      <td>12</td>\n",
       "      <td>13.677108</td>\n",
       "      <td>62</td>\n",
       "      <td>252</td>\n",
       "      <td>2740.178955</td>\n",
       "      <td>3358.622070</td>\n",
       "      <td>...</td>\n",
       "      <td>0</td>\n",
       "      <td>1</td>\n",
       "      <td>1</td>\n",
       "      <td>1</td>\n",
       "      <td>1</td>\n",
       "      <td>3</td>\n",
       "      <td>0</td>\n",
       "      <td>1</td>\n",
       "      <td>0</td>\n",
       "      <td>0</td>\n",
       "    </tr>\n",
       "    <tr>\n",
       "      <th>4</th>\n",
       "      <td>0.449454</td>\n",
       "      <td>tcp</td>\n",
       "      <td>-</td>\n",
       "      <td>FIN</td>\n",
       "      <td>6</td>\n",
       "      <td>33.373826</td>\n",
       "      <td>254</td>\n",
       "      <td>252</td>\n",
       "      <td>8561.499023</td>\n",
       "      <td>3987.059814</td>\n",
       "      <td>...</td>\n",
       "      <td>0</td>\n",
       "      <td>43</td>\n",
       "      <td>1</td>\n",
       "      <td>2</td>\n",
       "      <td>1</td>\n",
       "      <td>40</td>\n",
       "      <td>0</td>\n",
       "      <td>39</td>\n",
       "      <td>0</td>\n",
       "      <td>0</td>\n",
       "    </tr>\n",
       "  </tbody>\n",
       "</table>\n",
       "<p>5 rows × 29 columns</p>\n",
       "</div>"
      ],
      "text/plain": [
       "        dur proto service state  dpkts       rate  sttl  dttl         sload  \\\n",
       "0  0.121478   tcp       -   FIN      4  74.087490   252   254  14158.942380   \n",
       "1  0.649902   tcp       -   FIN     38  78.473372    62   252   8395.112305   \n",
       "2  1.623129   tcp       -   FIN     16  14.170161    62   252   1572.271851   \n",
       "3  1.681642   tcp     ftp   FIN     12  13.677108    62   252   2740.178955   \n",
       "4  0.449454   tcp       -   FIN      6  33.373826   254   252   8561.499023   \n",
       "\n",
       "           dload  ...  trans_depth  ct_srv_src  ct_state_ttl  \\\n",
       "0    8495.365234  ...            0           1             0   \n",
       "1  503571.312500  ...            0          43             1   \n",
       "2   60929.230470  ...            0           7             1   \n",
       "3    3358.622070  ...            0           1             1   \n",
       "4    3987.059814  ...            0          43             1   \n",
       "\n",
       "   ct_src_dport_ltm  ct_dst_sport_ltm  ct_dst_src_ltm  ct_flw_http_mthd  \\\n",
       "0                 1                 1               1                 0   \n",
       "1                 1                 1               2                 0   \n",
       "2                 1                 1               3                 0   \n",
       "3                 1                 1               3                 0   \n",
       "4                 2                 1              40                 0   \n",
       "\n",
       "   ct_srv_dst  is_sm_ips_ports  label  \n",
       "0           1                0      0  \n",
       "1           6                0      0  \n",
       "2           6                0      0  \n",
       "3           1                0      0  \n",
       "4          39                0      0  \n",
       "\n",
       "[5 rows x 29 columns]"
      ]
     },
     "execution_count": 5,
     "metadata": {},
     "output_type": "execute_result"
    }
   ],
   "source": [
    "df.head()"
   ]
  },
  {
   "cell_type": "code",
   "execution_count": 6,
   "metadata": {},
   "outputs": [
    {
     "name": "stdout",
     "output_type": "stream",
     "text": [
      "Number of duplicated final : 0\n"
     ]
    }
   ],
   "source": [
    "df.drop_duplicates(subset=['dur', 'proto', 'service', 'state', 'dpkts', 'rate', 'sttl', 'dttl',\n",
    "                           'sload', 'dload', 'dloss', 'sinpkt', 'swin', 'dwin', 'tcprtt', 'synack',\n",
    "                           'ackdat', 'smean', 'dmean', 'trans_depth', 'ct_srv_src', 'ct_state_ttl',\n",
    "                           'ct_src_dport_ltm', 'ct_dst_sport_ltm', 'ct_dst_src_ltm',\n",
    "                           'ct_flw_http_mthd', 'ct_srv_dst', 'is_sm_ips_ports'],inplace=True)\n",
    "print('Number of duplicated final :',df.duplicated().sum())"
   ]
  },
  {
   "cell_type": "code",
   "execution_count": 7,
   "metadata": {},
   "outputs": [
    {
     "data": {
      "text/plain": [
       "(98592, 29)"
      ]
     },
     "execution_count": 7,
     "metadata": {},
     "output_type": "execute_result"
    }
   ],
   "source": [
    "df.shape"
   ]
  },
  {
   "cell_type": "code",
   "execution_count": 8,
   "metadata": {
    "scrolled": false
   },
   "outputs": [
    {
     "data": {
      "text/plain": [
       "tcp     75978\n",
       "udp     20860\n",
       "arp       443\n",
       "unas      273\n",
       "ospf      190\n",
       "sctp       60\n",
       "any        18\n",
       "igmp       16\n",
       "Name: proto, dtype: int64"
      ]
     },
     "execution_count": 8,
     "metadata": {},
     "output_type": "execute_result"
    }
   ],
   "source": [
    "df['proto'].value_counts()[:8]"
   ]
  },
  {
   "cell_type": "code",
   "execution_count": 9,
   "metadata": {},
   "outputs": [],
   "source": [
    "for col in ['proto','service','state']:\n",
    "        df[col] = df[col].astype('category')"
   ]
  },
  {
   "cell_type": "code",
   "execution_count": 10,
   "metadata": {},
   "outputs": [],
   "source": [
    "label1 = 'other_proto'\n",
    "others2 = df['proto'].value_counts().index[2:]\n",
    "# apply new category label\n",
    "df['proto'] = df['proto'].cat.add_categories([label1])\n",
    "df['proto'] = df['proto'].replace(others2, label1)"
   ]
  },
  {
   "cell_type": "code",
   "execution_count": 11,
   "metadata": {
    "scrolled": true
   },
   "outputs": [
    {
     "data": {
      "text/plain": [
       "tcp            75978\n",
       "udp            20860\n",
       "other_proto     1754\n",
       "Name: proto, dtype: int64"
      ]
     },
     "execution_count": 11,
     "metadata": {},
     "output_type": "execute_result"
    }
   ],
   "source": [
    "df['proto'].value_counts()"
   ]
  },
  {
   "cell_type": "code",
   "execution_count": 12,
   "metadata": {
    "scrolled": true
   },
   "outputs": [
    {
     "data": {
      "text/plain": [
       "FIN    74298\n",
       "CON    12183\n",
       "INT    11370\n",
       "REQ      645\n",
       "RST       83\n",
       "ECO       10\n",
       "no         1\n",
       "URN        1\n",
       "PAR        1\n",
       "Name: state, dtype: int64"
      ]
     },
     "execution_count": 12,
     "metadata": {},
     "output_type": "execute_result"
    }
   ],
   "source": [
    "df['state'].value_counts()"
   ]
  },
  {
   "cell_type": "code",
   "execution_count": 13,
   "metadata": {},
   "outputs": [],
   "source": [
    "label2 = 'other_state'\n",
    "others3 = df['state'].value_counts().index[3:]\n",
    "# apply new category label\n",
    "df['state'] = df['state'].cat.add_categories([label2])\n",
    "df['state'] = df['state'].replace(others3, label2)"
   ]
  },
  {
   "cell_type": "code",
   "execution_count": 14,
   "metadata": {
    "scrolled": false
   },
   "outputs": [
    {
     "data": {
      "text/plain": [
       "FIN            74298\n",
       "CON            12183\n",
       "INT            11370\n",
       "other_state      741\n",
       "Name: state, dtype: int64"
      ]
     },
     "execution_count": 14,
     "metadata": {},
     "output_type": "execute_result"
    }
   ],
   "source": [
    "df['state'].value_counts()"
   ]
  },
  {
   "cell_type": "code",
   "execution_count": 15,
   "metadata": {},
   "outputs": [
    {
     "data": {
      "text/plain": [
       "-           56823\n",
       "http        17973\n",
       "dns         10231\n",
       "smtp         5019\n",
       "ftp-data     3282\n",
       "ftp          2689\n",
       "ssh          1295\n",
       "pop3         1104\n",
       "ssl            56\n",
       "snmp           46\n",
       "dhcp           37\n",
       "irc            25\n",
       "radius         12\n",
       "Name: service, dtype: int64"
      ]
     },
     "execution_count": 15,
     "metadata": {},
     "output_type": "execute_result"
    }
   ],
   "source": [
    "df['service'].value_counts()"
   ]
  },
  {
   "cell_type": "code",
   "execution_count": 16,
   "metadata": {},
   "outputs": [],
   "source": [
    "label3 = 'other_service'\n",
    "others_service = df['service'].value_counts().index[6:]\n",
    "# apply new category label\n",
    "df['service'] = df['service'].cat.add_categories([label3])\n",
    "df['service'] = df['service'].replace(others_service, label3)"
   ]
  },
  {
   "cell_type": "code",
   "execution_count": 17,
   "metadata": {},
   "outputs": [
    {
     "data": {
      "text/plain": [
       "-                56823\n",
       "http             17973\n",
       "dns              10231\n",
       "smtp              5019\n",
       "ftp-data          3282\n",
       "ftp               2689\n",
       "other_service     2575\n",
       "Name: service, dtype: int64"
      ]
     },
     "execution_count": 17,
     "metadata": {},
     "output_type": "execute_result"
    }
   ],
   "source": [
    "df['service'].value_counts()"
   ]
  },
  {
   "cell_type": "code",
   "execution_count": 18,
   "metadata": {},
   "outputs": [
    {
     "name": "stdout",
     "output_type": "stream",
     "text": [
      "Number of duplicated before : 524\n",
      "Number of duplicated after : 0\n"
     ]
    }
   ],
   "source": [
    "print('Number of duplicated before :',df.duplicated().sum())\n",
    "df.drop_duplicates(keep='first',inplace=True)\n",
    "print('Number of duplicated after :',df.duplicated().sum())"
   ]
  },
  {
   "cell_type": "code",
   "execution_count": 38,
   "metadata": {
    "scrolled": true
   },
   "outputs": [
    {
     "ename": "KeyError",
     "evalue": "'attack_cat'",
     "output_type": "error",
     "traceback": [
      "\u001b[1;31m---------------------------------------------------------------------------\u001b[0m",
      "\u001b[1;31mKeyError\u001b[0m                                  Traceback (most recent call last)",
      "\u001b[1;32m<ipython-input-38-b9129eebf72d>\u001b[0m in \u001b[0;36m<module>\u001b[1;34m\u001b[0m\n\u001b[1;32m----> 1\u001b[1;33m \u001b[0mdf1\u001b[0m \u001b[1;33m=\u001b[0m \u001b[0mpd\u001b[0m\u001b[1;33m.\u001b[0m\u001b[0mDataFrame\u001b[0m\u001b[1;33m(\u001b[0m\u001b[0mdf\u001b[0m\u001b[1;33m.\u001b[0m\u001b[0mgroupby\u001b[0m\u001b[1;33m(\u001b[0m\u001b[1;33m[\u001b[0m\u001b[1;34m'attack_cat'\u001b[0m\u001b[1;33m]\u001b[0m\u001b[1;33m)\u001b[0m\u001b[1;33m[\u001b[0m\u001b[1;34m'attack_cat'\u001b[0m\u001b[1;33m]\u001b[0m\u001b[1;33m.\u001b[0m\u001b[0mcount\u001b[0m\u001b[1;33m(\u001b[0m\u001b[1;33m)\u001b[0m\u001b[1;33m)\u001b[0m\u001b[1;33m\u001b[0m\u001b[1;33m\u001b[0m\u001b[0m\n\u001b[0m\u001b[0;32m      2\u001b[0m \u001b[0mdf2\u001b[0m \u001b[1;33m=\u001b[0m \u001b[0mpd\u001b[0m\u001b[1;33m.\u001b[0m\u001b[0mDataFrame\u001b[0m\u001b[1;33m(\u001b[0m\u001b[0mdf\u001b[0m\u001b[1;33m.\u001b[0m\u001b[0mgroupby\u001b[0m\u001b[1;33m(\u001b[0m\u001b[1;33m[\u001b[0m\u001b[1;34m'label'\u001b[0m\u001b[1;33m]\u001b[0m\u001b[1;33m)\u001b[0m\u001b[1;33m[\u001b[0m\u001b[1;34m'label'\u001b[0m\u001b[1;33m]\u001b[0m\u001b[1;33m.\u001b[0m\u001b[0mcount\u001b[0m\u001b[1;33m(\u001b[0m\u001b[1;33m)\u001b[0m\u001b[1;33m)\u001b[0m\u001b[1;33m\u001b[0m\u001b[1;33m\u001b[0m\u001b[0m\n",
      "\u001b[1;32mc:\\users\\sharuka thirimanne\\appdata\\local\\programs\\python\\python37\\lib\\site-packages\\pandas\\core\\frame.py\u001b[0m in \u001b[0;36mgroupby\u001b[1;34m(self, by, axis, level, as_index, sort, group_keys, squeeze, observed)\u001b[0m\n\u001b[0;32m   5808\u001b[0m             \u001b[0mgroup_keys\u001b[0m\u001b[1;33m=\u001b[0m\u001b[0mgroup_keys\u001b[0m\u001b[1;33m,\u001b[0m\u001b[1;33m\u001b[0m\u001b[1;33m\u001b[0m\u001b[0m\n\u001b[0;32m   5809\u001b[0m             \u001b[0msqueeze\u001b[0m\u001b[1;33m=\u001b[0m\u001b[0msqueeze\u001b[0m\u001b[1;33m,\u001b[0m\u001b[1;33m\u001b[0m\u001b[1;33m\u001b[0m\u001b[0m\n\u001b[1;32m-> 5810\u001b[1;33m             \u001b[0mobserved\u001b[0m\u001b[1;33m=\u001b[0m\u001b[0mobserved\u001b[0m\u001b[1;33m,\u001b[0m\u001b[1;33m\u001b[0m\u001b[1;33m\u001b[0m\u001b[0m\n\u001b[0m\u001b[0;32m   5811\u001b[0m         )\n\u001b[0;32m   5812\u001b[0m \u001b[1;33m\u001b[0m\u001b[0m\n",
      "\u001b[1;32mc:\\users\\sharuka thirimanne\\appdata\\local\\programs\\python\\python37\\lib\\site-packages\\pandas\\core\\groupby\\groupby.py\u001b[0m in \u001b[0;36m__init__\u001b[1;34m(self, obj, keys, axis, level, grouper, exclusions, selection, as_index, sort, group_keys, squeeze, observed, mutated)\u001b[0m\n\u001b[0;32m    408\u001b[0m                 \u001b[0msort\u001b[0m\u001b[1;33m=\u001b[0m\u001b[0msort\u001b[0m\u001b[1;33m,\u001b[0m\u001b[1;33m\u001b[0m\u001b[1;33m\u001b[0m\u001b[0m\n\u001b[0;32m    409\u001b[0m                 \u001b[0mobserved\u001b[0m\u001b[1;33m=\u001b[0m\u001b[0mobserved\u001b[0m\u001b[1;33m,\u001b[0m\u001b[1;33m\u001b[0m\u001b[1;33m\u001b[0m\u001b[0m\n\u001b[1;32m--> 410\u001b[1;33m                 \u001b[0mmutated\u001b[0m\u001b[1;33m=\u001b[0m\u001b[0mself\u001b[0m\u001b[1;33m.\u001b[0m\u001b[0mmutated\u001b[0m\u001b[1;33m,\u001b[0m\u001b[1;33m\u001b[0m\u001b[1;33m\u001b[0m\u001b[0m\n\u001b[0m\u001b[0;32m    411\u001b[0m             )\n\u001b[0;32m    412\u001b[0m \u001b[1;33m\u001b[0m\u001b[0m\n",
      "\u001b[1;32mc:\\users\\sharuka thirimanne\\appdata\\local\\programs\\python\\python37\\lib\\site-packages\\pandas\\core\\groupby\\grouper.py\u001b[0m in \u001b[0;36mget_grouper\u001b[1;34m(obj, key, axis, level, sort, observed, mutated, validate)\u001b[0m\n\u001b[0;32m    598\u001b[0m                 \u001b[0min_axis\u001b[0m\u001b[1;33m,\u001b[0m \u001b[0mname\u001b[0m\u001b[1;33m,\u001b[0m \u001b[0mlevel\u001b[0m\u001b[1;33m,\u001b[0m \u001b[0mgpr\u001b[0m \u001b[1;33m=\u001b[0m \u001b[1;32mFalse\u001b[0m\u001b[1;33m,\u001b[0m \u001b[1;32mNone\u001b[0m\u001b[1;33m,\u001b[0m \u001b[0mgpr\u001b[0m\u001b[1;33m,\u001b[0m \u001b[1;32mNone\u001b[0m\u001b[1;33m\u001b[0m\u001b[1;33m\u001b[0m\u001b[0m\n\u001b[0;32m    599\u001b[0m             \u001b[1;32melse\u001b[0m\u001b[1;33m:\u001b[0m\u001b[1;33m\u001b[0m\u001b[1;33m\u001b[0m\u001b[0m\n\u001b[1;32m--> 600\u001b[1;33m                 \u001b[1;32mraise\u001b[0m \u001b[0mKeyError\u001b[0m\u001b[1;33m(\u001b[0m\u001b[0mgpr\u001b[0m\u001b[1;33m)\u001b[0m\u001b[1;33m\u001b[0m\u001b[1;33m\u001b[0m\u001b[0m\n\u001b[0m\u001b[0;32m    601\u001b[0m         \u001b[1;32melif\u001b[0m \u001b[0misinstance\u001b[0m\u001b[1;33m(\u001b[0m\u001b[0mgpr\u001b[0m\u001b[1;33m,\u001b[0m \u001b[0mGrouper\u001b[0m\u001b[1;33m)\u001b[0m \u001b[1;32mand\u001b[0m \u001b[0mgpr\u001b[0m\u001b[1;33m.\u001b[0m\u001b[0mkey\u001b[0m \u001b[1;32mis\u001b[0m \u001b[1;32mnot\u001b[0m \u001b[1;32mNone\u001b[0m\u001b[1;33m:\u001b[0m\u001b[1;33m\u001b[0m\u001b[1;33m\u001b[0m\u001b[0m\n\u001b[0;32m    602\u001b[0m             \u001b[1;31m# Add key to exclusions\u001b[0m\u001b[1;33m\u001b[0m\u001b[1;33m\u001b[0m\u001b[1;33m\u001b[0m\u001b[0m\n",
      "\u001b[1;31mKeyError\u001b[0m: 'attack_cat'"
     ]
    }
   ],
   "source": [
    "df1 = pd.DataFrame(df.groupby(['attack_cat'])['attack_cat'].count())\n",
    "df2 = pd.DataFrame(df.groupby(['label'])['label'].count())\n"
   ]
  },
  {
   "cell_type": "code",
   "execution_count": null,
   "metadata": {},
   "outputs": [],
   "source": [
    "def autolabel1(rects,ax):\n",
    "    for rect in rects:\n",
    "        height = rect.get_height()\n",
    "        ax.text(rect.get_x() + rect.get_width()/2., 1.01*height,\n",
    "                '%d' % int(height),ha='center', va='bottom',fontsize=10)\n"
   ]
  },
  {
   "cell_type": "code",
   "execution_count": null,
   "metadata": {
    "scrolled": false
   },
   "outputs": [],
   "source": [
    "attack_cat = []\n",
    "label = []\n",
    "plot = []\n",
    "attack_cat_labels = ['Analysis','Backdoor','DoS','Exploits','Fuzzers','Generic','Normal','Reconnaissance','Shellcode','Worms']\n",
    "class_labels = ['Normal','Attack']\n",
    "\n",
    "for i in range(0,len(df1['attack_cat'])):\n",
    "    attack_cat.append(df1['attack_cat'].values[i])\n",
    "for i in range(0,len(df2['label'])):\n",
    "    label.append(df2['label'].values[i])\n",
    "\n",
    "fig , (ax1,ax2) = plt.subplots(1,2,figsize=(18,8))\n",
    "    \n",
    "pl1 = ax1.bar(np.arange(len(df1['attack_cat'])), attack_cat)\n",
    "ax1.set_xticks(np.arange(len(attack_cat_labels)))\n",
    "ax1.set_xticklabels(labels=attack_cat_labels,rotation=45,ha='right')\n",
    "ax1.set_yticks([])\n",
    "ax1.set_title('Attack Type count in the Dataset',fontsize=10)\n",
    "autolabel1(pl1,ax1)\n",
    "\n",
    "pl2 = ax2.bar(np.arange(len(df2['label'])), label)\n",
    "ax2.set_xticks(np.arange(len(class_labels)))\n",
    "ax2.set_xticklabels(labels=class_labels,rotation=45,ha='right')\n",
    "ax2.set_yticks([])\n",
    "ax2.set_title('Number of Attacks and Normal Instances in the Dataset',fontsize=10)\n",
    "autolabel1(pl2,ax2)\n",
    "\n"
   ]
  },
  {
   "cell_type": "code",
   "execution_count": null,
   "metadata": {},
   "outputs": [],
   "source": [
    "df.groupby('attack_cat')['attack_cat'].count()"
   ]
  },
  {
   "cell_type": "code",
   "execution_count": null,
   "metadata": {},
   "outputs": [],
   "source": [
    "n_proto = []\n",
    "a_proto = []\n",
    "n_service = []\n",
    "a_service = []\n",
    "n_state = []\n",
    "a_state = []\n",
    "n_attack_cat = []\n",
    "a_attack_cat = []\n",
    "\n",
    "\n",
    "for i in range(0,7):\n",
    "    f_death.append(df_new['Deaths'].values[i])\n",
    "    l_death.append(df_new['Deaths'].values[i+7])\n",
    "    \n",
    "for i in range(0,7):\n",
    "    f_injured.append(df_new['Injured'].values[i])\n",
    "    l_injured.append(df_new['Injured'].values[i+7])\n",
    "    \n",
    "for i in range(0,7):\n",
    "    f_h_destoyed.append(df_new['Houses Destroyed'].values[i])\n",
    "    l_h_destoyed.append(df_new['Houses Destroyed'].values[i+7])\n",
    "    \n",
    "for i in range(0,7):\n",
    "    f_h_damaged.append(df_new['Houses Damaged'].values[i])\n",
    "    l_h_damaged.append(df_new['Houses Damaged'].values[i+7])\n",
    "    \n",
    "lst1 = [f_death,f_injured,f_h_destoyed,f_h_damaged]\n",
    "lst2 = [l_death,l_injured,l_h_destoyed,l_h_damaged]\n",
    "\n",
    "width =0.3\n",
    "plots1=[]\n",
    "plots2=[]\n",
    "names = ['Deaths','Injured','Houses Destroyed','Houses Damaged']\n",
    "provinces = ['Central','North-Central','North-Western','Sabaragamuwa','Southern','Uva','Western']\n",
    "\n",
    "fig, axes = plt.subplots(2,2,figsize=(10,10))  \n",
    "fig.subplots_adjust(hspace=0.5)\n",
    "\n",
    "axes = axes.flatten()\n",
    "\n",
    "for i,ax in enumerate(axes):\n",
    "    plots1.append(axes[i].bar(np.arange(len(lst1[i])), lst1[i], width=width,label='Flood'))\n",
    "    plots2.append(axes[i].bar(np.arange(len(lst2[i]))+ width, lst2[i], width=width , label='Landslide'))\n",
    "    axes[i].set_xticks(np.arange(len(lst[0])) + width / 2)\n",
    "    axes[i].set_xticklabels(labels = provinces, fontsize = 10, rotation = 45)\n",
    "    axes[i].legend(loc='best')\n",
    "    axes[i].set_yticks([])\n",
    "    axes[i].set_title('Resuls of Floods and Landslides : {}'.format(names[i]),fontsize=10)\n",
    "    autolabel1(plots1[i],axes[i])\n",
    "    autolabel1(plots2[i],axes[i])"
   ]
  },
  {
   "cell_type": "code",
   "execution_count": 19,
   "metadata": {
    "scrolled": false
   },
   "outputs": [
    {
     "name": "stdout",
     "output_type": "stream",
     "text": [
      "Number of duplicated initially : 29844\n",
      "Number of duplicated after : 0\n"
     ]
    }
   ],
   "source": [
    "df_test = pd.read_csv('Datasets/UNSW_NB15_testing-set.csv')\n",
    "df_test.drop(['id'], axis = 'columns' , inplace = True)\n",
    "#df_test.drop(['attack_cat'], axis = 'columns', inplace=True)\n",
    "\n",
    "df_test.drop(['attack_cat','sbytes', 'sjit', 'sloss', 'dinpkt', 'is_ftp_login', 'ct_ftp_cmd', \n",
    "         'ct_src_ltm', 'response_body_len', 'spkts', 'djit','dtcpb',\n",
    "         'stcpb','ct_dst_ltm','dbytes'], axis = 'columns' , inplace = True)\n",
    "\n",
    "print('Number of duplicated initially :',df_test.duplicated().sum())\n",
    "df_test.drop_duplicates(keep='first',inplace=True)\n",
    "print('Number of duplicated after :',df_test.duplicated().sum())"
   ]
  },
  {
   "cell_type": "code",
   "execution_count": 20,
   "metadata": {},
   "outputs": [
    {
     "data": {
      "text/plain": [
       "Index(['dur', 'proto', 'service', 'state', 'dpkts', 'rate', 'sttl', 'dttl',\n",
       "       'sload', 'dload', 'dloss', 'sinpkt', 'swin', 'dwin', 'tcprtt', 'synack',\n",
       "       'ackdat', 'smean', 'dmean', 'trans_depth', 'ct_srv_src', 'ct_state_ttl',\n",
       "       'ct_src_dport_ltm', 'ct_dst_sport_ltm', 'ct_dst_src_ltm',\n",
       "       'ct_flw_http_mthd', 'ct_srv_dst', 'is_sm_ips_ports', 'label'],\n",
       "      dtype='object')"
      ]
     },
     "execution_count": 20,
     "metadata": {},
     "output_type": "execute_result"
    }
   ],
   "source": [
    "df_test.columns"
   ]
  },
  {
   "cell_type": "code",
   "execution_count": 21,
   "metadata": {},
   "outputs": [
    {
     "name": "stdout",
     "output_type": "stream",
     "text": [
      "Number of duplicated final : 0\n"
     ]
    }
   ],
   "source": [
    "df_test.drop_duplicates(subset=['dur', 'proto', 'service', 'state', 'dpkts', 'rate', 'sttl', 'dttl',\n",
    "                                'sload', 'dload', 'dloss', 'sinpkt', 'swin', 'dwin', 'tcprtt', 'synack',\n",
    "                                'ackdat', 'smean', 'dmean', 'trans_depth', 'ct_srv_src', 'ct_state_ttl',\n",
    "                                'ct_src_dport_ltm', 'ct_dst_sport_ltm', 'ct_dst_src_ltm',\n",
    "                                'ct_flw_http_mthd', 'ct_srv_dst', 'is_sm_ips_ports'],inplace=True)\n",
    "print('Number of duplicated final :',df_test.duplicated().sum())"
   ]
  },
  {
   "cell_type": "code",
   "execution_count": 22,
   "metadata": {},
   "outputs": [
    {
     "data": {
      "text/plain": [
       "(52464, 29)"
      ]
     },
     "execution_count": 22,
     "metadata": {},
     "output_type": "execute_result"
    }
   ],
   "source": [
    "df_test.shape"
   ]
  },
  {
   "cell_type": "code",
   "execution_count": 23,
   "metadata": {
    "scrolled": true
   },
   "outputs": [
    {
     "data": {
      "text/plain": [
       "tcp     40183\n",
       "udp     11496\n",
       "arp       212\n",
       "unas      170\n",
       "ospf       72\n",
       "sctp       26\n",
       "igmp       26\n",
       "any         6\n",
       "Name: proto, dtype: int64"
      ]
     },
     "execution_count": 23,
     "metadata": {},
     "output_type": "execute_result"
    }
   ],
   "source": [
    "df_test['proto'].value_counts()[:8]"
   ]
  },
  {
   "cell_type": "code",
   "execution_count": 24,
   "metadata": {},
   "outputs": [],
   "source": [
    "for col in ['proto','service','state']:\n",
    "        df_test[col] = df_test[col].astype('category')"
   ]
  },
  {
   "cell_type": "code",
   "execution_count": 25,
   "metadata": {},
   "outputs": [],
   "source": [
    "label1 = 'other_proto'\n",
    "others4 = df_test['proto'].value_counts().index[2:]\n",
    "# apply new category label\n",
    "df_test['proto'] = df_test['proto'].cat.add_categories([label1])\n",
    "df_test['proto'] = df_test['proto'].replace(others4, label1)"
   ]
  },
  {
   "cell_type": "code",
   "execution_count": 26,
   "metadata": {},
   "outputs": [
    {
     "data": {
      "text/plain": [
       "tcp            40183\n",
       "udp            11496\n",
       "other_proto      785\n",
       "Name: proto, dtype: int64"
      ]
     },
     "execution_count": 26,
     "metadata": {},
     "output_type": "execute_result"
    }
   ],
   "source": [
    "df_test['proto'].value_counts()"
   ]
  },
  {
   "cell_type": "code",
   "execution_count": 27,
   "metadata": {},
   "outputs": [],
   "source": [
    "label2 = 'other_state'\n",
    "others5 = df_test['state'].value_counts().index[3:]\n",
    "# apply new category label\n",
    "df_test['state'] = df_test['state'].cat.add_categories([label2])\n",
    "df_test['state'] = df_test['state'].replace(others5, label2)"
   ]
  },
  {
   "cell_type": "code",
   "execution_count": 28,
   "metadata": {},
   "outputs": [
    {
     "data": {
      "text/plain": [
       "FIN            37308\n",
       "INT             7625\n",
       "CON             6648\n",
       "other_state      883\n",
       "Name: state, dtype: int64"
      ]
     },
     "execution_count": 28,
     "metadata": {},
     "output_type": "execute_result"
    }
   ],
   "source": [
    "df_test['state'].value_counts()"
   ]
  },
  {
   "cell_type": "code",
   "execution_count": 29,
   "metadata": {},
   "outputs": [
    {
     "data": {
      "text/plain": [
       "-           34151\n",
       "http         7887\n",
       "dns          5536\n",
       "smtp         1759\n",
       "ftp          1290\n",
       "ftp-data     1177\n",
       "pop3          381\n",
       "ssh           204\n",
       "ssl            30\n",
       "snmp           22\n",
       "dhcp           16\n",
       "radius          6\n",
       "irc             5\n",
       "Name: service, dtype: int64"
      ]
     },
     "execution_count": 29,
     "metadata": {},
     "output_type": "execute_result"
    }
   ],
   "source": [
    "df_test['service'].value_counts()"
   ]
  },
  {
   "cell_type": "code",
   "execution_count": 30,
   "metadata": {},
   "outputs": [
    {
     "data": {
      "text/plain": [
       "-                34151\n",
       "http              7887\n",
       "dns               5536\n",
       "smtp              1759\n",
       "ftp               1290\n",
       "ftp-data          1177\n",
       "other_service      664\n",
       "Name: service, dtype: int64"
      ]
     },
     "execution_count": 30,
     "metadata": {},
     "output_type": "execute_result"
    }
   ],
   "source": [
    "label3 = 'other_service'\n",
    "others_service1 = df_test['service'].value_counts().index[6:]\n",
    "# apply new category label\n",
    "df_test['service'] = df_test['service'].cat.add_categories([label3])\n",
    "df_test['service'] = df_test['service'].replace(others_service1, label3)\n",
    "df_test['service'].value_counts()"
   ]
  },
  {
   "cell_type": "code",
   "execution_count": 31,
   "metadata": {},
   "outputs": [
    {
     "name": "stdout",
     "output_type": "stream",
     "text": [
      "Number of duplicated before : 117\n",
      "Number of duplicated after : 0\n"
     ]
    }
   ],
   "source": [
    "print('Number of duplicated before :',df_test.duplicated().sum())\n",
    "df_test.drop_duplicates(keep='first',inplace=True)\n",
    "print('Number of duplicated after :',df_test.duplicated().sum())"
   ]
  },
  {
   "cell_type": "code",
   "execution_count": 32,
   "metadata": {},
   "outputs": [
    {
     "data": {
      "text/plain": [
       "(150415, 29)"
      ]
     },
     "execution_count": 32,
     "metadata": {},
     "output_type": "execute_result"
    }
   ],
   "source": [
    "df_new = pd.concat([df,df_test],axis=0)\n",
    "df_new.shape"
   ]
  },
  {
   "cell_type": "code",
   "execution_count": 33,
   "metadata": {},
   "outputs": [],
   "source": [
    "df_new.drop_duplicates(subset=['dur', 'proto', 'service', 'state', 'dpkts', 'rate', 'sttl', 'dttl',\n",
    "                               'sload', 'dload', 'dloss', 'sinpkt', 'swin', 'dwin', 'tcprtt', 'synack',\n",
    "                               'ackdat', 'smean', 'dmean', 'trans_depth', 'ct_srv_src', 'ct_state_ttl',\n",
    "                               'ct_src_dport_ltm', 'ct_dst_sport_ltm', 'ct_dst_src_ltm',\n",
    "                               'ct_flw_http_mthd', 'ct_srv_dst', 'is_sm_ips_ports'],inplace=True)\n"
   ]
  },
  {
   "cell_type": "code",
   "execution_count": 34,
   "metadata": {},
   "outputs": [
    {
     "data": {
      "text/plain": [
       "0"
      ]
     },
     "execution_count": 34,
     "metadata": {},
     "output_type": "execute_result"
    }
   ],
   "source": [
    "df_new.duplicated().sum()"
   ]
  },
  {
   "cell_type": "code",
   "execution_count": 35,
   "metadata": {},
   "outputs": [
    {
     "data": {
      "text/plain": [
       "(148985, 29)"
      ]
     },
     "execution_count": 35,
     "metadata": {},
     "output_type": "execute_result"
    }
   ],
   "source": [
    "df_new.shape"
   ]
  },
  {
   "cell_type": "code",
   "execution_count": 36,
   "metadata": {},
   "outputs": [
    {
     "data": {
      "text/plain": [
       "Index(['dur', 'proto', 'service', 'state', 'dpkts', 'rate', 'sttl', 'dttl',\n",
       "       'sload', 'dload', 'dloss', 'sinpkt', 'swin', 'dwin', 'tcprtt', 'synack',\n",
       "       'ackdat', 'smean', 'dmean', 'trans_depth', 'ct_srv_src', 'ct_state_ttl',\n",
       "       'ct_src_dport_ltm', 'ct_dst_sport_ltm', 'ct_dst_src_ltm',\n",
       "       'ct_flw_http_mthd', 'ct_srv_dst', 'is_sm_ips_ports', 'label'],\n",
       "      dtype='object')"
      ]
     },
     "execution_count": 36,
     "metadata": {},
     "output_type": "execute_result"
    }
   ],
   "source": [
    "df_new.columns"
   ]
  },
  {
   "cell_type": "code",
   "execution_count": 37,
   "metadata": {},
   "outputs": [],
   "source": [
    "limit = df_new.shape[1]-1\n",
    "    \n",
    "X = df_new.iloc[:,0:limit] # train set features\n",
    "Y = df_new.iloc[:,limit]"
   ]
  },
  {
   "cell_type": "code",
   "execution_count": 38,
   "metadata": {},
   "outputs": [],
   "source": [
    "from sklearn.model_selection import train_test_split"
   ]
  },
  {
   "cell_type": "code",
   "execution_count": 39,
   "metadata": {
    "scrolled": true
   },
   "outputs": [
    {
     "name": "stdout",
     "output_type": "stream",
     "text": [
      "Training X : (119188, 28)\n",
      "Test_X : (29797, 28)\n",
      "Training_Y : (119188,)\n",
      "Test_Y : (29797,)\n"
     ]
    }
   ],
   "source": [
    "train_X, test_X , train_Y , test_Y = train_test_split(X, Y, test_size=0.2,stratify=Y,shuffle=True,random_state=5)\n",
    "\n",
    "print('Training X :',train_X.shape)\n",
    "print('Test_X :',test_X.shape)\n",
    "print('Training_Y :',train_Y.shape)\n",
    "print('Test_Y :',test_Y.shape)"
   ]
  },
  {
   "cell_type": "code",
   "execution_count": 40,
   "metadata": {},
   "outputs": [
    {
     "data": {
      "text/plain": [
       "pandas.core.frame.DataFrame"
      ]
     },
     "execution_count": 40,
     "metadata": {},
     "output_type": "execute_result"
    }
   ],
   "source": [
    "type(train_X)"
   ]
  },
  {
   "cell_type": "code",
   "execution_count": 41,
   "metadata": {
    "scrolled": false
   },
   "outputs": [
    {
     "data": {
      "text/html": [
       "<div>\n",
       "<style scoped>\n",
       "    .dataframe tbody tr th:only-of-type {\n",
       "        vertical-align: middle;\n",
       "    }\n",
       "\n",
       "    .dataframe tbody tr th {\n",
       "        vertical-align: top;\n",
       "    }\n",
       "\n",
       "    .dataframe thead th {\n",
       "        text-align: right;\n",
       "    }\n",
       "</style>\n",
       "<table border=\"1\" class=\"dataframe\">\n",
       "  <thead>\n",
       "    <tr style=\"text-align: right;\">\n",
       "      <th></th>\n",
       "      <th>dur</th>\n",
       "      <th>proto</th>\n",
       "      <th>service</th>\n",
       "      <th>state</th>\n",
       "      <th>dpkts</th>\n",
       "      <th>rate</th>\n",
       "      <th>sttl</th>\n",
       "      <th>dttl</th>\n",
       "      <th>sload</th>\n",
       "      <th>dload</th>\n",
       "      <th>...</th>\n",
       "      <th>trans_depth</th>\n",
       "      <th>ct_srv_src</th>\n",
       "      <th>ct_state_ttl</th>\n",
       "      <th>ct_src_dport_ltm</th>\n",
       "      <th>ct_dst_sport_ltm</th>\n",
       "      <th>ct_dst_src_ltm</th>\n",
       "      <th>ct_flw_http_mthd</th>\n",
       "      <th>ct_srv_dst</th>\n",
       "      <th>is_sm_ips_ports</th>\n",
       "      <th>label</th>\n",
       "    </tr>\n",
       "  </thead>\n",
       "  <tbody>\n",
       "    <tr>\n",
       "      <th>46515</th>\n",
       "      <td>0.644512</td>\n",
       "      <td>tcp</td>\n",
       "      <td>-</td>\n",
       "      <td>FIN</td>\n",
       "      <td>8</td>\n",
       "      <td>26.376545</td>\n",
       "      <td>254</td>\n",
       "      <td>252</td>\n",
       "      <td>6.305546e+03</td>\n",
       "      <td>3.847873e+03</td>\n",
       "      <td>...</td>\n",
       "      <td>0</td>\n",
       "      <td>1</td>\n",
       "      <td>1</td>\n",
       "      <td>1</td>\n",
       "      <td>1</td>\n",
       "      <td>1</td>\n",
       "      <td>0</td>\n",
       "      <td>1</td>\n",
       "      <td>0</td>\n",
       "      <td>1</td>\n",
       "    </tr>\n",
       "    <tr>\n",
       "      <th>17824</th>\n",
       "      <td>0.006075</td>\n",
       "      <td>tcp</td>\n",
       "      <td>ftp-data</td>\n",
       "      <td>FIN</td>\n",
       "      <td>6</td>\n",
       "      <td>3127.572055</td>\n",
       "      <td>31</td>\n",
       "      <td>29</td>\n",
       "      <td>1.091819e+07</td>\n",
       "      <td>3.516049e+05</td>\n",
       "      <td>...</td>\n",
       "      <td>0</td>\n",
       "      <td>3</td>\n",
       "      <td>0</td>\n",
       "      <td>1</td>\n",
       "      <td>1</td>\n",
       "      <td>5</td>\n",
       "      <td>0</td>\n",
       "      <td>3</td>\n",
       "      <td>0</td>\n",
       "      <td>0</td>\n",
       "    </tr>\n",
       "    <tr>\n",
       "      <th>24117</th>\n",
       "      <td>0.011907</td>\n",
       "      <td>tcp</td>\n",
       "      <td>-</td>\n",
       "      <td>FIN</td>\n",
       "      <td>36</td>\n",
       "      <td>5794.910511</td>\n",
       "      <td>31</td>\n",
       "      <td>29</td>\n",
       "      <td>1.454606e+06</td>\n",
       "      <td>9.794575e+06</td>\n",
       "      <td>...</td>\n",
       "      <td>0</td>\n",
       "      <td>3</td>\n",
       "      <td>0</td>\n",
       "      <td>1</td>\n",
       "      <td>1</td>\n",
       "      <td>1</td>\n",
       "      <td>0</td>\n",
       "      <td>6</td>\n",
       "      <td>0</td>\n",
       "      <td>0</td>\n",
       "    </tr>\n",
       "    <tr>\n",
       "      <th>649</th>\n",
       "      <td>0.207650</td>\n",
       "      <td>tcp</td>\n",
       "      <td>http</td>\n",
       "      <td>FIN</td>\n",
       "      <td>12</td>\n",
       "      <td>101.131709</td>\n",
       "      <td>62</td>\n",
       "      <td>252</td>\n",
       "      <td>2.839393e+04</td>\n",
       "      <td>3.225812e+05</td>\n",
       "      <td>...</td>\n",
       "      <td>1</td>\n",
       "      <td>2</td>\n",
       "      <td>1</td>\n",
       "      <td>1</td>\n",
       "      <td>1</td>\n",
       "      <td>1</td>\n",
       "      <td>1</td>\n",
       "      <td>1</td>\n",
       "      <td>0</td>\n",
       "      <td>1</td>\n",
       "    </tr>\n",
       "    <tr>\n",
       "      <th>78491</th>\n",
       "      <td>0.905537</td>\n",
       "      <td>tcp</td>\n",
       "      <td>-</td>\n",
       "      <td>FIN</td>\n",
       "      <td>8</td>\n",
       "      <td>18.773391</td>\n",
       "      <td>254</td>\n",
       "      <td>252</td>\n",
       "      <td>4.487945e+03</td>\n",
       "      <td>2.738706e+03</td>\n",
       "      <td>...</td>\n",
       "      <td>0</td>\n",
       "      <td>5</td>\n",
       "      <td>1</td>\n",
       "      <td>1</td>\n",
       "      <td>1</td>\n",
       "      <td>1</td>\n",
       "      <td>0</td>\n",
       "      <td>1</td>\n",
       "      <td>0</td>\n",
       "      <td>1</td>\n",
       "    </tr>\n",
       "    <tr>\n",
       "      <th>...</th>\n",
       "      <td>...</td>\n",
       "      <td>...</td>\n",
       "      <td>...</td>\n",
       "      <td>...</td>\n",
       "      <td>...</td>\n",
       "      <td>...</td>\n",
       "      <td>...</td>\n",
       "      <td>...</td>\n",
       "      <td>...</td>\n",
       "      <td>...</td>\n",
       "      <td>...</td>\n",
       "      <td>...</td>\n",
       "      <td>...</td>\n",
       "      <td>...</td>\n",
       "      <td>...</td>\n",
       "      <td>...</td>\n",
       "      <td>...</td>\n",
       "      <td>...</td>\n",
       "      <td>...</td>\n",
       "      <td>...</td>\n",
       "      <td>...</td>\n",
       "    </tr>\n",
       "    <tr>\n",
       "      <th>30857</th>\n",
       "      <td>0.016296</td>\n",
       "      <td>tcp</td>\n",
       "      <td>-</td>\n",
       "      <td>FIN</td>\n",
       "      <td>42</td>\n",
       "      <td>4970.545136</td>\n",
       "      <td>31</td>\n",
       "      <td>29</td>\n",
       "      <td>1.216986e+06</td>\n",
       "      <td>1.126608e+07</td>\n",
       "      <td>...</td>\n",
       "      <td>0</td>\n",
       "      <td>10</td>\n",
       "      <td>0</td>\n",
       "      <td>1</td>\n",
       "      <td>1</td>\n",
       "      <td>1</td>\n",
       "      <td>0</td>\n",
       "      <td>4</td>\n",
       "      <td>0</td>\n",
       "      <td>0</td>\n",
       "    </tr>\n",
       "    <tr>\n",
       "      <th>83703</th>\n",
       "      <td>0.404591</td>\n",
       "      <td>tcp</td>\n",
       "      <td>http</td>\n",
       "      <td>FIN</td>\n",
       "      <td>6</td>\n",
       "      <td>37.074478</td>\n",
       "      <td>254</td>\n",
       "      <td>252</td>\n",
       "      <td>1.498798e+04</td>\n",
       "      <td>4.429165e+03</td>\n",
       "      <td>...</td>\n",
       "      <td>0</td>\n",
       "      <td>1</td>\n",
       "      <td>1</td>\n",
       "      <td>1</td>\n",
       "      <td>1</td>\n",
       "      <td>1</td>\n",
       "      <td>0</td>\n",
       "      <td>1</td>\n",
       "      <td>0</td>\n",
       "      <td>1</td>\n",
       "    </tr>\n",
       "    <tr>\n",
       "      <th>14093</th>\n",
       "      <td>13.278695</td>\n",
       "      <td>tcp</td>\n",
       "      <td>-</td>\n",
       "      <td>FIN</td>\n",
       "      <td>438</td>\n",
       "      <td>50.080222</td>\n",
       "      <td>31</td>\n",
       "      <td>29</td>\n",
       "      <td>7.883305e+03</td>\n",
       "      <td>3.295294e+05</td>\n",
       "      <td>...</td>\n",
       "      <td>0</td>\n",
       "      <td>2</td>\n",
       "      <td>0</td>\n",
       "      <td>2</td>\n",
       "      <td>1</td>\n",
       "      <td>5</td>\n",
       "      <td>0</td>\n",
       "      <td>4</td>\n",
       "      <td>0</td>\n",
       "      <td>0</td>\n",
       "    </tr>\n",
       "    <tr>\n",
       "      <th>1279</th>\n",
       "      <td>0.661048</td>\n",
       "      <td>tcp</td>\n",
       "      <td>-</td>\n",
       "      <td>FIN</td>\n",
       "      <td>8</td>\n",
       "      <td>25.716741</td>\n",
       "      <td>254</td>\n",
       "      <td>252</td>\n",
       "      <td>6.147814e+03</td>\n",
       "      <td>3.751619e+03</td>\n",
       "      <td>...</td>\n",
       "      <td>0</td>\n",
       "      <td>1</td>\n",
       "      <td>1</td>\n",
       "      <td>1</td>\n",
       "      <td>1</td>\n",
       "      <td>1</td>\n",
       "      <td>0</td>\n",
       "      <td>1</td>\n",
       "      <td>0</td>\n",
       "      <td>1</td>\n",
       "    </tr>\n",
       "    <tr>\n",
       "      <th>62356</th>\n",
       "      <td>0.675280</td>\n",
       "      <td>tcp</td>\n",
       "      <td>-</td>\n",
       "      <td>FIN</td>\n",
       "      <td>8</td>\n",
       "      <td>25.174743</td>\n",
       "      <td>254</td>\n",
       "      <td>252</td>\n",
       "      <td>5.698377e+03</td>\n",
       "      <td>3.672551e+03</td>\n",
       "      <td>...</td>\n",
       "      <td>0</td>\n",
       "      <td>5</td>\n",
       "      <td>1</td>\n",
       "      <td>2</td>\n",
       "      <td>2</td>\n",
       "      <td>5</td>\n",
       "      <td>0</td>\n",
       "      <td>4</td>\n",
       "      <td>0</td>\n",
       "      <td>0</td>\n",
       "    </tr>\n",
       "  </tbody>\n",
       "</table>\n",
       "<p>119188 rows × 29 columns</p>\n",
       "</div>"
      ],
      "text/plain": [
       "             dur proto   service state  dpkts         rate  sttl  dttl  \\\n",
       "46515   0.644512   tcp         -   FIN      8    26.376545   254   252   \n",
       "17824   0.006075   tcp  ftp-data   FIN      6  3127.572055    31    29   \n",
       "24117   0.011907   tcp         -   FIN     36  5794.910511    31    29   \n",
       "649     0.207650   tcp      http   FIN     12   101.131709    62   252   \n",
       "78491   0.905537   tcp         -   FIN      8    18.773391   254   252   \n",
       "...          ...   ...       ...   ...    ...          ...   ...   ...   \n",
       "30857   0.016296   tcp         -   FIN     42  4970.545136    31    29   \n",
       "83703   0.404591   tcp      http   FIN      6    37.074478   254   252   \n",
       "14093  13.278695   tcp         -   FIN    438    50.080222    31    29   \n",
       "1279    0.661048   tcp         -   FIN      8    25.716741   254   252   \n",
       "62356   0.675280   tcp         -   FIN      8    25.174743   254   252   \n",
       "\n",
       "              sload         dload  ...  trans_depth  ct_srv_src  ct_state_ttl  \\\n",
       "46515  6.305546e+03  3.847873e+03  ...            0           1             1   \n",
       "17824  1.091819e+07  3.516049e+05  ...            0           3             0   \n",
       "24117  1.454606e+06  9.794575e+06  ...            0           3             0   \n",
       "649    2.839393e+04  3.225812e+05  ...            1           2             1   \n",
       "78491  4.487945e+03  2.738706e+03  ...            0           5             1   \n",
       "...             ...           ...  ...          ...         ...           ...   \n",
       "30857  1.216986e+06  1.126608e+07  ...            0          10             0   \n",
       "83703  1.498798e+04  4.429165e+03  ...            0           1             1   \n",
       "14093  7.883305e+03  3.295294e+05  ...            0           2             0   \n",
       "1279   6.147814e+03  3.751619e+03  ...            0           1             1   \n",
       "62356  5.698377e+03  3.672551e+03  ...            0           5             1   \n",
       "\n",
       "       ct_src_dport_ltm  ct_dst_sport_ltm  ct_dst_src_ltm  ct_flw_http_mthd  \\\n",
       "46515                 1                 1               1                 0   \n",
       "17824                 1                 1               5                 0   \n",
       "24117                 1                 1               1                 0   \n",
       "649                   1                 1               1                 1   \n",
       "78491                 1                 1               1                 0   \n",
       "...                 ...               ...             ...               ...   \n",
       "30857                 1                 1               1                 0   \n",
       "83703                 1                 1               1                 0   \n",
       "14093                 2                 1               5                 0   \n",
       "1279                  1                 1               1                 0   \n",
       "62356                 2                 2               5                 0   \n",
       "\n",
       "       ct_srv_dst  is_sm_ips_ports  label  \n",
       "46515           1                0      1  \n",
       "17824           3                0      0  \n",
       "24117           6                0      0  \n",
       "649             1                0      1  \n",
       "78491           1                0      1  \n",
       "...           ...              ...    ...  \n",
       "30857           4                0      0  \n",
       "83703           1                0      1  \n",
       "14093           4                0      0  \n",
       "1279            1                0      1  \n",
       "62356           4                0      0  \n",
       "\n",
       "[119188 rows x 29 columns]"
      ]
     },
     "execution_count": 41,
     "metadata": {},
     "output_type": "execute_result"
    }
   ],
   "source": [
    "df_train = pd.concat([train_X,train_Y],axis=1)\n",
    "df_train"
   ]
  },
  {
   "cell_type": "code",
   "execution_count": 42,
   "metadata": {
    "scrolled": true
   },
   "outputs": [
    {
     "data": {
      "text/plain": [
       "Index(['dur', 'proto', 'service', 'state', 'dpkts', 'rate', 'sttl', 'dttl',\n",
       "       'sload', 'dload', 'dloss', 'sinpkt', 'swin', 'dwin', 'tcprtt', 'synack',\n",
       "       'ackdat', 'smean', 'dmean', 'trans_depth', 'ct_srv_src', 'ct_state_ttl',\n",
       "       'ct_src_dport_ltm', 'ct_dst_sport_ltm', 'ct_dst_src_ltm',\n",
       "       'ct_flw_http_mthd', 'ct_srv_dst', 'is_sm_ips_ports', 'label'],\n",
       "      dtype='object')"
      ]
     },
     "execution_count": 42,
     "metadata": {},
     "output_type": "execute_result"
    }
   ],
   "source": [
    "df_train.columns"
   ]
  },
  {
   "cell_type": "code",
   "execution_count": 43,
   "metadata": {},
   "outputs": [],
   "source": [
    "# Class count\n",
    "count_class_0, count_class_1 = df_train['label'].value_counts()\n",
    "\n",
    "# Divide by class\n",
    "df_class_0 = df_train[df_train['label'] == 0]\n",
    "df_class_1 = df_train[df_train['label'] == 1]\n",
    "    \n",
    "df_class_0_under = df_class_0.sample(count_class_1)\n",
    "df_train = pd.concat([df_class_0_under, df_class_1], axis=0)"
   ]
  },
  {
   "cell_type": "code",
   "execution_count": 44,
   "metadata": {},
   "outputs": [
    {
     "data": {
      "text/plain": [
       "0"
      ]
     },
     "execution_count": 44,
     "metadata": {},
     "output_type": "execute_result"
    }
   ],
   "source": [
    "df_train.duplicated().sum()"
   ]
  },
  {
   "cell_type": "code",
   "execution_count": 45,
   "metadata": {},
   "outputs": [
    {
     "data": {
      "text/plain": [
       "label\n",
       "0    52030\n",
       "1    52030\n",
       "Name: label, dtype: int64"
      ]
     },
     "execution_count": 45,
     "metadata": {},
     "output_type": "execute_result"
    }
   ],
   "source": [
    "df_train.groupby('label')['label'].count()"
   ]
  },
  {
   "cell_type": "code",
   "execution_count": 46,
   "metadata": {},
   "outputs": [
    {
     "data": {
      "text/plain": [
       "label\n",
       "0    33494\n",
       "1    18853\n",
       "Name: label, dtype: int64"
      ]
     },
     "execution_count": 46,
     "metadata": {},
     "output_type": "execute_result"
    }
   ],
   "source": [
    "df_test.groupby('label')['label'].count()"
   ]
  },
  {
   "cell_type": "code",
   "execution_count": 47,
   "metadata": {},
   "outputs": [
    {
     "data": {
      "text/html": [
       "<div>\n",
       "<style scoped>\n",
       "    .dataframe tbody tr th:only-of-type {\n",
       "        vertical-align: middle;\n",
       "    }\n",
       "\n",
       "    .dataframe tbody tr th {\n",
       "        vertical-align: top;\n",
       "    }\n",
       "\n",
       "    .dataframe thead th {\n",
       "        text-align: right;\n",
       "    }\n",
       "</style>\n",
       "<table border=\"1\" class=\"dataframe\">\n",
       "  <thead>\n",
       "    <tr style=\"text-align: right;\">\n",
       "      <th></th>\n",
       "      <th>dur</th>\n",
       "      <th>proto</th>\n",
       "      <th>service</th>\n",
       "      <th>state</th>\n",
       "      <th>dpkts</th>\n",
       "      <th>rate</th>\n",
       "      <th>sttl</th>\n",
       "      <th>dttl</th>\n",
       "      <th>sload</th>\n",
       "      <th>dload</th>\n",
       "      <th>...</th>\n",
       "      <th>trans_depth</th>\n",
       "      <th>ct_srv_src</th>\n",
       "      <th>ct_state_ttl</th>\n",
       "      <th>ct_src_dport_ltm</th>\n",
       "      <th>ct_dst_sport_ltm</th>\n",
       "      <th>ct_dst_src_ltm</th>\n",
       "      <th>ct_flw_http_mthd</th>\n",
       "      <th>ct_srv_dst</th>\n",
       "      <th>is_sm_ips_ports</th>\n",
       "      <th>label</th>\n",
       "    </tr>\n",
       "  </thead>\n",
       "  <tbody>\n",
       "    <tr>\n",
       "      <th>1111</th>\n",
       "      <td>2.728969</td>\n",
       "      <td>tcp</td>\n",
       "      <td>-</td>\n",
       "      <td>FIN</td>\n",
       "      <td>18</td>\n",
       "      <td>12.092478</td>\n",
       "      <td>31</td>\n",
       "      <td>29</td>\n",
       "      <td>4.233100e+03</td>\n",
       "      <td>4.552635e+03</td>\n",
       "      <td>...</td>\n",
       "      <td>0</td>\n",
       "      <td>14</td>\n",
       "      <td>0</td>\n",
       "      <td>13</td>\n",
       "      <td>1</td>\n",
       "      <td>4</td>\n",
       "      <td>0</td>\n",
       "      <td>16</td>\n",
       "      <td>0</td>\n",
       "      <td>0</td>\n",
       "    </tr>\n",
       "    <tr>\n",
       "      <th>77729</th>\n",
       "      <td>0.921654</td>\n",
       "      <td>tcp</td>\n",
       "      <td>-</td>\n",
       "      <td>FIN</td>\n",
       "      <td>8</td>\n",
       "      <td>18.445100</td>\n",
       "      <td>254</td>\n",
       "      <td>252</td>\n",
       "      <td>1.259475e+04</td>\n",
       "      <td>2.690815e+03</td>\n",
       "      <td>...</td>\n",
       "      <td>0</td>\n",
       "      <td>5</td>\n",
       "      <td>1</td>\n",
       "      <td>1</td>\n",
       "      <td>1</td>\n",
       "      <td>5</td>\n",
       "      <td>0</td>\n",
       "      <td>5</td>\n",
       "      <td>0</td>\n",
       "      <td>0</td>\n",
       "    </tr>\n",
       "    <tr>\n",
       "      <th>40223</th>\n",
       "      <td>0.103981</td>\n",
       "      <td>tcp</td>\n",
       "      <td>-</td>\n",
       "      <td>FIN</td>\n",
       "      <td>74</td>\n",
       "      <td>1394.485489</td>\n",
       "      <td>31</td>\n",
       "      <td>29</td>\n",
       "      <td>3.215972e+05</td>\n",
       "      <td>4.828498e+06</td>\n",
       "      <td>...</td>\n",
       "      <td>0</td>\n",
       "      <td>4</td>\n",
       "      <td>0</td>\n",
       "      <td>1</td>\n",
       "      <td>1</td>\n",
       "      <td>4</td>\n",
       "      <td>0</td>\n",
       "      <td>9</td>\n",
       "      <td>0</td>\n",
       "      <td>0</td>\n",
       "    </tr>\n",
       "    <tr>\n",
       "      <th>67343</th>\n",
       "      <td>1.681813</td>\n",
       "      <td>tcp</td>\n",
       "      <td>-</td>\n",
       "      <td>FIN</td>\n",
       "      <td>8</td>\n",
       "      <td>10.108139</td>\n",
       "      <td>254</td>\n",
       "      <td>252</td>\n",
       "      <td>2.288007e+03</td>\n",
       "      <td>1.474599e+03</td>\n",
       "      <td>...</td>\n",
       "      <td>0</td>\n",
       "      <td>4</td>\n",
       "      <td>1</td>\n",
       "      <td>1</td>\n",
       "      <td>1</td>\n",
       "      <td>2</td>\n",
       "      <td>0</td>\n",
       "      <td>4</td>\n",
       "      <td>0</td>\n",
       "      <td>0</td>\n",
       "    </tr>\n",
       "    <tr>\n",
       "      <th>31168</th>\n",
       "      <td>0.001134</td>\n",
       "      <td>udp</td>\n",
       "      <td>dns</td>\n",
       "      <td>CON</td>\n",
       "      <td>2</td>\n",
       "      <td>2645.502599</td>\n",
       "      <td>31</td>\n",
       "      <td>29</td>\n",
       "      <td>5.149912e+05</td>\n",
       "      <td>6.278659e+05</td>\n",
       "      <td>...</td>\n",
       "      <td>0</td>\n",
       "      <td>3</td>\n",
       "      <td>0</td>\n",
       "      <td>1</td>\n",
       "      <td>1</td>\n",
       "      <td>1</td>\n",
       "      <td>0</td>\n",
       "      <td>3</td>\n",
       "      <td>0</td>\n",
       "      <td>0</td>\n",
       "    </tr>\n",
       "    <tr>\n",
       "      <th>...</th>\n",
       "      <td>...</td>\n",
       "      <td>...</td>\n",
       "      <td>...</td>\n",
       "      <td>...</td>\n",
       "      <td>...</td>\n",
       "      <td>...</td>\n",
       "      <td>...</td>\n",
       "      <td>...</td>\n",
       "      <td>...</td>\n",
       "      <td>...</td>\n",
       "      <td>...</td>\n",
       "      <td>...</td>\n",
       "      <td>...</td>\n",
       "      <td>...</td>\n",
       "      <td>...</td>\n",
       "      <td>...</td>\n",
       "      <td>...</td>\n",
       "      <td>...</td>\n",
       "      <td>...</td>\n",
       "      <td>...</td>\n",
       "      <td>...</td>\n",
       "    </tr>\n",
       "    <tr>\n",
       "      <th>16683</th>\n",
       "      <td>0.000008</td>\n",
       "      <td>udp</td>\n",
       "      <td>dns</td>\n",
       "      <td>INT</td>\n",
       "      <td>0</td>\n",
       "      <td>125000.000300</td>\n",
       "      <td>254</td>\n",
       "      <td>0</td>\n",
       "      <td>5.700000e+07</td>\n",
       "      <td>0.000000e+00</td>\n",
       "      <td>...</td>\n",
       "      <td>0</td>\n",
       "      <td>28</td>\n",
       "      <td>2</td>\n",
       "      <td>3</td>\n",
       "      <td>3</td>\n",
       "      <td>28</td>\n",
       "      <td>0</td>\n",
       "      <td>28</td>\n",
       "      <td>0</td>\n",
       "      <td>1</td>\n",
       "    </tr>\n",
       "    <tr>\n",
       "      <th>75602</th>\n",
       "      <td>0.523856</td>\n",
       "      <td>tcp</td>\n",
       "      <td>smtp</td>\n",
       "      <td>FIN</td>\n",
       "      <td>22</td>\n",
       "      <td>112.626374</td>\n",
       "      <td>62</td>\n",
       "      <td>252</td>\n",
       "      <td>4.603402e+05</td>\n",
       "      <td>2.790080e+04</td>\n",
       "      <td>...</td>\n",
       "      <td>0</td>\n",
       "      <td>1</td>\n",
       "      <td>1</td>\n",
       "      <td>1</td>\n",
       "      <td>1</td>\n",
       "      <td>1</td>\n",
       "      <td>0</td>\n",
       "      <td>1</td>\n",
       "      <td>0</td>\n",
       "      <td>1</td>\n",
       "    </tr>\n",
       "    <tr>\n",
       "      <th>104376</th>\n",
       "      <td>1.193694</td>\n",
       "      <td>tcp</td>\n",
       "      <td>-</td>\n",
       "      <td>FIN</td>\n",
       "      <td>8</td>\n",
       "      <td>14.241506</td>\n",
       "      <td>254</td>\n",
       "      <td>252</td>\n",
       "      <td>4.671214e+03</td>\n",
       "      <td>2.077584e+03</td>\n",
       "      <td>...</td>\n",
       "      <td>0</td>\n",
       "      <td>10</td>\n",
       "      <td>1</td>\n",
       "      <td>1</td>\n",
       "      <td>1</td>\n",
       "      <td>8</td>\n",
       "      <td>0</td>\n",
       "      <td>6</td>\n",
       "      <td>0</td>\n",
       "      <td>1</td>\n",
       "    </tr>\n",
       "    <tr>\n",
       "      <th>83703</th>\n",
       "      <td>0.404591</td>\n",
       "      <td>tcp</td>\n",
       "      <td>http</td>\n",
       "      <td>FIN</td>\n",
       "      <td>6</td>\n",
       "      <td>37.074478</td>\n",
       "      <td>254</td>\n",
       "      <td>252</td>\n",
       "      <td>1.498798e+04</td>\n",
       "      <td>4.429165e+03</td>\n",
       "      <td>...</td>\n",
       "      <td>0</td>\n",
       "      <td>1</td>\n",
       "      <td>1</td>\n",
       "      <td>1</td>\n",
       "      <td>1</td>\n",
       "      <td>1</td>\n",
       "      <td>0</td>\n",
       "      <td>1</td>\n",
       "      <td>0</td>\n",
       "      <td>1</td>\n",
       "    </tr>\n",
       "    <tr>\n",
       "      <th>1279</th>\n",
       "      <td>0.661048</td>\n",
       "      <td>tcp</td>\n",
       "      <td>-</td>\n",
       "      <td>FIN</td>\n",
       "      <td>8</td>\n",
       "      <td>25.716741</td>\n",
       "      <td>254</td>\n",
       "      <td>252</td>\n",
       "      <td>6.147814e+03</td>\n",
       "      <td>3.751619e+03</td>\n",
       "      <td>...</td>\n",
       "      <td>0</td>\n",
       "      <td>1</td>\n",
       "      <td>1</td>\n",
       "      <td>1</td>\n",
       "      <td>1</td>\n",
       "      <td>1</td>\n",
       "      <td>0</td>\n",
       "      <td>1</td>\n",
       "      <td>0</td>\n",
       "      <td>1</td>\n",
       "    </tr>\n",
       "  </tbody>\n",
       "</table>\n",
       "<p>104060 rows × 29 columns</p>\n",
       "</div>"
      ],
      "text/plain": [
       "             dur proto service state  dpkts           rate  sttl  dttl  \\\n",
       "1111    2.728969   tcp       -   FIN     18      12.092478    31    29   \n",
       "77729   0.921654   tcp       -   FIN      8      18.445100   254   252   \n",
       "40223   0.103981   tcp       -   FIN     74    1394.485489    31    29   \n",
       "67343   1.681813   tcp       -   FIN      8      10.108139   254   252   \n",
       "31168   0.001134   udp     dns   CON      2    2645.502599    31    29   \n",
       "...          ...   ...     ...   ...    ...            ...   ...   ...   \n",
       "16683   0.000008   udp     dns   INT      0  125000.000300   254     0   \n",
       "75602   0.523856   tcp    smtp   FIN     22     112.626374    62   252   \n",
       "104376  1.193694   tcp       -   FIN      8      14.241506   254   252   \n",
       "83703   0.404591   tcp    http   FIN      6      37.074478   254   252   \n",
       "1279    0.661048   tcp       -   FIN      8      25.716741   254   252   \n",
       "\n",
       "               sload         dload  ...  trans_depth  ct_srv_src  \\\n",
       "1111    4.233100e+03  4.552635e+03  ...            0          14   \n",
       "77729   1.259475e+04  2.690815e+03  ...            0           5   \n",
       "40223   3.215972e+05  4.828498e+06  ...            0           4   \n",
       "67343   2.288007e+03  1.474599e+03  ...            0           4   \n",
       "31168   5.149912e+05  6.278659e+05  ...            0           3   \n",
       "...              ...           ...  ...          ...         ...   \n",
       "16683   5.700000e+07  0.000000e+00  ...            0          28   \n",
       "75602   4.603402e+05  2.790080e+04  ...            0           1   \n",
       "104376  4.671214e+03  2.077584e+03  ...            0          10   \n",
       "83703   1.498798e+04  4.429165e+03  ...            0           1   \n",
       "1279    6.147814e+03  3.751619e+03  ...            0           1   \n",
       "\n",
       "        ct_state_ttl  ct_src_dport_ltm  ct_dst_sport_ltm  ct_dst_src_ltm  \\\n",
       "1111               0                13                 1               4   \n",
       "77729              1                 1                 1               5   \n",
       "40223              0                 1                 1               4   \n",
       "67343              1                 1                 1               2   \n",
       "31168              0                 1                 1               1   \n",
       "...              ...               ...               ...             ...   \n",
       "16683              2                 3                 3              28   \n",
       "75602              1                 1                 1               1   \n",
       "104376             1                 1                 1               8   \n",
       "83703              1                 1                 1               1   \n",
       "1279               1                 1                 1               1   \n",
       "\n",
       "        ct_flw_http_mthd  ct_srv_dst  is_sm_ips_ports  label  \n",
       "1111                   0          16                0      0  \n",
       "77729                  0           5                0      0  \n",
       "40223                  0           9                0      0  \n",
       "67343                  0           4                0      0  \n",
       "31168                  0           3                0      0  \n",
       "...                  ...         ...              ...    ...  \n",
       "16683                  0          28                0      1  \n",
       "75602                  0           1                0      1  \n",
       "104376                 0           6                0      1  \n",
       "83703                  0           1                0      1  \n",
       "1279                   0           1                0      1  \n",
       "\n",
       "[104060 rows x 29 columns]"
      ]
     },
     "execution_count": 47,
     "metadata": {},
     "output_type": "execute_result"
    }
   ],
   "source": [
    "df_train"
   ]
  },
  {
   "cell_type": "code",
   "execution_count": 48,
   "metadata": {
    "scrolled": true
   },
   "outputs": [],
   "source": [
    "df_train.reset_index(drop=True,inplace=True)\n",
    "df_train.reset_index(inplace=True)\n"
   ]
  },
  {
   "cell_type": "code",
   "execution_count": 49,
   "metadata": {},
   "outputs": [
    {
     "data": {
      "text/html": [
       "<div>\n",
       "<style scoped>\n",
       "    .dataframe tbody tr th:only-of-type {\n",
       "        vertical-align: middle;\n",
       "    }\n",
       "\n",
       "    .dataframe tbody tr th {\n",
       "        vertical-align: top;\n",
       "    }\n",
       "\n",
       "    .dataframe thead th {\n",
       "        text-align: right;\n",
       "    }\n",
       "</style>\n",
       "<table border=\"1\" class=\"dataframe\">\n",
       "  <thead>\n",
       "    <tr style=\"text-align: right;\">\n",
       "      <th></th>\n",
       "      <th>index</th>\n",
       "      <th>dur</th>\n",
       "      <th>proto</th>\n",
       "      <th>service</th>\n",
       "      <th>state</th>\n",
       "      <th>dpkts</th>\n",
       "      <th>rate</th>\n",
       "      <th>sttl</th>\n",
       "      <th>dttl</th>\n",
       "      <th>sload</th>\n",
       "      <th>...</th>\n",
       "      <th>trans_depth</th>\n",
       "      <th>ct_srv_src</th>\n",
       "      <th>ct_state_ttl</th>\n",
       "      <th>ct_src_dport_ltm</th>\n",
       "      <th>ct_dst_sport_ltm</th>\n",
       "      <th>ct_dst_src_ltm</th>\n",
       "      <th>ct_flw_http_mthd</th>\n",
       "      <th>ct_srv_dst</th>\n",
       "      <th>is_sm_ips_ports</th>\n",
       "      <th>label</th>\n",
       "    </tr>\n",
       "  </thead>\n",
       "  <tbody>\n",
       "    <tr>\n",
       "      <th>0</th>\n",
       "      <td>0</td>\n",
       "      <td>2.728969</td>\n",
       "      <td>tcp</td>\n",
       "      <td>-</td>\n",
       "      <td>FIN</td>\n",
       "      <td>18</td>\n",
       "      <td>12.092478</td>\n",
       "      <td>31</td>\n",
       "      <td>29</td>\n",
       "      <td>4233.100098</td>\n",
       "      <td>...</td>\n",
       "      <td>0</td>\n",
       "      <td>14</td>\n",
       "      <td>0</td>\n",
       "      <td>13</td>\n",
       "      <td>1</td>\n",
       "      <td>4</td>\n",
       "      <td>0</td>\n",
       "      <td>16</td>\n",
       "      <td>0</td>\n",
       "      <td>0</td>\n",
       "    </tr>\n",
       "    <tr>\n",
       "      <th>1</th>\n",
       "      <td>1</td>\n",
       "      <td>0.921654</td>\n",
       "      <td>tcp</td>\n",
       "      <td>-</td>\n",
       "      <td>FIN</td>\n",
       "      <td>8</td>\n",
       "      <td>18.445100</td>\n",
       "      <td>254</td>\n",
       "      <td>252</td>\n",
       "      <td>12594.748050</td>\n",
       "      <td>...</td>\n",
       "      <td>0</td>\n",
       "      <td>5</td>\n",
       "      <td>1</td>\n",
       "      <td>1</td>\n",
       "      <td>1</td>\n",
       "      <td>5</td>\n",
       "      <td>0</td>\n",
       "      <td>5</td>\n",
       "      <td>0</td>\n",
       "      <td>0</td>\n",
       "    </tr>\n",
       "    <tr>\n",
       "      <th>2</th>\n",
       "      <td>2</td>\n",
       "      <td>0.103981</td>\n",
       "      <td>tcp</td>\n",
       "      <td>-</td>\n",
       "      <td>FIN</td>\n",
       "      <td>74</td>\n",
       "      <td>1394.485489</td>\n",
       "      <td>31</td>\n",
       "      <td>29</td>\n",
       "      <td>321597.218800</td>\n",
       "      <td>...</td>\n",
       "      <td>0</td>\n",
       "      <td>4</td>\n",
       "      <td>0</td>\n",
       "      <td>1</td>\n",
       "      <td>1</td>\n",
       "      <td>4</td>\n",
       "      <td>0</td>\n",
       "      <td>9</td>\n",
       "      <td>0</td>\n",
       "      <td>0</td>\n",
       "    </tr>\n",
       "    <tr>\n",
       "      <th>3</th>\n",
       "      <td>3</td>\n",
       "      <td>1.681813</td>\n",
       "      <td>tcp</td>\n",
       "      <td>-</td>\n",
       "      <td>FIN</td>\n",
       "      <td>8</td>\n",
       "      <td>10.108139</td>\n",
       "      <td>254</td>\n",
       "      <td>252</td>\n",
       "      <td>2288.007080</td>\n",
       "      <td>...</td>\n",
       "      <td>0</td>\n",
       "      <td>4</td>\n",
       "      <td>1</td>\n",
       "      <td>1</td>\n",
       "      <td>1</td>\n",
       "      <td>2</td>\n",
       "      <td>0</td>\n",
       "      <td>4</td>\n",
       "      <td>0</td>\n",
       "      <td>0</td>\n",
       "    </tr>\n",
       "    <tr>\n",
       "      <th>4</th>\n",
       "      <td>4</td>\n",
       "      <td>0.001134</td>\n",
       "      <td>udp</td>\n",
       "      <td>dns</td>\n",
       "      <td>CON</td>\n",
       "      <td>2</td>\n",
       "      <td>2645.502599</td>\n",
       "      <td>31</td>\n",
       "      <td>29</td>\n",
       "      <td>514991.187500</td>\n",
       "      <td>...</td>\n",
       "      <td>0</td>\n",
       "      <td>3</td>\n",
       "      <td>0</td>\n",
       "      <td>1</td>\n",
       "      <td>1</td>\n",
       "      <td>1</td>\n",
       "      <td>0</td>\n",
       "      <td>3</td>\n",
       "      <td>0</td>\n",
       "      <td>0</td>\n",
       "    </tr>\n",
       "  </tbody>\n",
       "</table>\n",
       "<p>5 rows × 30 columns</p>\n",
       "</div>"
      ],
      "text/plain": [
       "   index       dur proto service state  dpkts         rate  sttl  dttl  \\\n",
       "0      0  2.728969   tcp       -   FIN     18    12.092478    31    29   \n",
       "1      1  0.921654   tcp       -   FIN      8    18.445100   254   252   \n",
       "2      2  0.103981   tcp       -   FIN     74  1394.485489    31    29   \n",
       "3      3  1.681813   tcp       -   FIN      8    10.108139   254   252   \n",
       "4      4  0.001134   udp     dns   CON      2  2645.502599    31    29   \n",
       "\n",
       "           sload  ...  trans_depth  ct_srv_src  ct_state_ttl  \\\n",
       "0    4233.100098  ...            0          14             0   \n",
       "1   12594.748050  ...            0           5             1   \n",
       "2  321597.218800  ...            0           4             0   \n",
       "3    2288.007080  ...            0           4             1   \n",
       "4  514991.187500  ...            0           3             0   \n",
       "\n",
       "   ct_src_dport_ltm  ct_dst_sport_ltm  ct_dst_src_ltm  ct_flw_http_mthd  \\\n",
       "0                13                 1               4                 0   \n",
       "1                 1                 1               5                 0   \n",
       "2                 1                 1               4                 0   \n",
       "3                 1                 1               2                 0   \n",
       "4                 1                 1               1                 0   \n",
       "\n",
       "   ct_srv_dst  is_sm_ips_ports  label  \n",
       "0          16                0      0  \n",
       "1           5                0      0  \n",
       "2           9                0      0  \n",
       "3           4                0      0  \n",
       "4           3                0      0  \n",
       "\n",
       "[5 rows x 30 columns]"
      ]
     },
     "execution_count": 49,
     "metadata": {},
     "output_type": "execute_result"
    }
   ],
   "source": [
    "df_train.to_csv('USNW_train-set.csv')\n",
    "df_train.head()"
   ]
  },
  {
   "cell_type": "code",
   "execution_count": 50,
   "metadata": {},
   "outputs": [
    {
     "data": {
      "text/html": [
       "<div>\n",
       "<style scoped>\n",
       "    .dataframe tbody tr th:only-of-type {\n",
       "        vertical-align: middle;\n",
       "    }\n",
       "\n",
       "    .dataframe tbody tr th {\n",
       "        vertical-align: top;\n",
       "    }\n",
       "\n",
       "    .dataframe thead th {\n",
       "        text-align: right;\n",
       "    }\n",
       "</style>\n",
       "<table border=\"1\" class=\"dataframe\">\n",
       "  <thead>\n",
       "    <tr style=\"text-align: right;\">\n",
       "      <th></th>\n",
       "      <th>index</th>\n",
       "      <th>dur</th>\n",
       "      <th>proto</th>\n",
       "      <th>service</th>\n",
       "      <th>state</th>\n",
       "      <th>dpkts</th>\n",
       "      <th>rate</th>\n",
       "      <th>sttl</th>\n",
       "      <th>dttl</th>\n",
       "      <th>sload</th>\n",
       "      <th>...</th>\n",
       "      <th>trans_depth</th>\n",
       "      <th>ct_srv_src</th>\n",
       "      <th>ct_state_ttl</th>\n",
       "      <th>ct_src_dport_ltm</th>\n",
       "      <th>ct_dst_sport_ltm</th>\n",
       "      <th>ct_dst_src_ltm</th>\n",
       "      <th>ct_flw_http_mthd</th>\n",
       "      <th>ct_srv_dst</th>\n",
       "      <th>is_sm_ips_ports</th>\n",
       "      <th>label</th>\n",
       "    </tr>\n",
       "  </thead>\n",
       "  <tbody>\n",
       "    <tr>\n",
       "      <th>0</th>\n",
       "      <td>0</td>\n",
       "      <td>0.079968</td>\n",
       "      <td>tcp</td>\n",
       "      <td>-</td>\n",
       "      <td>FIN</td>\n",
       "      <td>92</td>\n",
       "      <td>2263.405420</td>\n",
       "      <td>31</td>\n",
       "      <td>29</td>\n",
       "      <td>511904.781300</td>\n",
       "      <td>...</td>\n",
       "      <td>0</td>\n",
       "      <td>5</td>\n",
       "      <td>0</td>\n",
       "      <td>1</td>\n",
       "      <td>1</td>\n",
       "      <td>1</td>\n",
       "      <td>0</td>\n",
       "      <td>6</td>\n",
       "      <td>0</td>\n",
       "      <td>0</td>\n",
       "    </tr>\n",
       "    <tr>\n",
       "      <th>1</th>\n",
       "      <td>1</td>\n",
       "      <td>0.001068</td>\n",
       "      <td>udp</td>\n",
       "      <td>dns</td>\n",
       "      <td>CON</td>\n",
       "      <td>2</td>\n",
       "      <td>2808.988808</td>\n",
       "      <td>31</td>\n",
       "      <td>29</td>\n",
       "      <td>546816.500000</td>\n",
       "      <td>...</td>\n",
       "      <td>0</td>\n",
       "      <td>4</td>\n",
       "      <td>0</td>\n",
       "      <td>2</td>\n",
       "      <td>1</td>\n",
       "      <td>1</td>\n",
       "      <td>0</td>\n",
       "      <td>3</td>\n",
       "      <td>0</td>\n",
       "      <td>0</td>\n",
       "    </tr>\n",
       "    <tr>\n",
       "      <th>2</th>\n",
       "      <td>2</td>\n",
       "      <td>1.614434</td>\n",
       "      <td>tcp</td>\n",
       "      <td>http</td>\n",
       "      <td>FIN</td>\n",
       "      <td>112</td>\n",
       "      <td>88.575934</td>\n",
       "      <td>62</td>\n",
       "      <td>252</td>\n",
       "      <td>15316.823240</td>\n",
       "      <td>...</td>\n",
       "      <td>1</td>\n",
       "      <td>1</td>\n",
       "      <td>1</td>\n",
       "      <td>1</td>\n",
       "      <td>1</td>\n",
       "      <td>1</td>\n",
       "      <td>1</td>\n",
       "      <td>1</td>\n",
       "      <td>0</td>\n",
       "      <td>1</td>\n",
       "    </tr>\n",
       "    <tr>\n",
       "      <th>3</th>\n",
       "      <td>3</td>\n",
       "      <td>0.001054</td>\n",
       "      <td>udp</td>\n",
       "      <td>dns</td>\n",
       "      <td>CON</td>\n",
       "      <td>2</td>\n",
       "      <td>2846.299829</td>\n",
       "      <td>31</td>\n",
       "      <td>29</td>\n",
       "      <td>554079.687500</td>\n",
       "      <td>...</td>\n",
       "      <td>0</td>\n",
       "      <td>2</td>\n",
       "      <td>0</td>\n",
       "      <td>2</td>\n",
       "      <td>1</td>\n",
       "      <td>1</td>\n",
       "      <td>0</td>\n",
       "      <td>4</td>\n",
       "      <td>0</td>\n",
       "      <td>0</td>\n",
       "    </tr>\n",
       "    <tr>\n",
       "      <th>4</th>\n",
       "      <td>4</td>\n",
       "      <td>2.232915</td>\n",
       "      <td>tcp</td>\n",
       "      <td>http</td>\n",
       "      <td>FIN</td>\n",
       "      <td>10</td>\n",
       "      <td>8.509057</td>\n",
       "      <td>62</td>\n",
       "      <td>252</td>\n",
       "      <td>2568.839355</td>\n",
       "      <td>...</td>\n",
       "      <td>1</td>\n",
       "      <td>1</td>\n",
       "      <td>1</td>\n",
       "      <td>1</td>\n",
       "      <td>1</td>\n",
       "      <td>1</td>\n",
       "      <td>1</td>\n",
       "      <td>1</td>\n",
       "      <td>0</td>\n",
       "      <td>1</td>\n",
       "    </tr>\n",
       "  </tbody>\n",
       "</table>\n",
       "<p>5 rows × 30 columns</p>\n",
       "</div>"
      ],
      "text/plain": [
       "   index       dur proto service state  dpkts         rate  sttl  dttl  \\\n",
       "0      0  0.079968   tcp       -   FIN     92  2263.405420    31    29   \n",
       "1      1  0.001068   udp     dns   CON      2  2808.988808    31    29   \n",
       "2      2  1.614434   tcp    http   FIN    112    88.575934    62   252   \n",
       "3      3  0.001054   udp     dns   CON      2  2846.299829    31    29   \n",
       "4      4  2.232915   tcp    http   FIN     10     8.509057    62   252   \n",
       "\n",
       "           sload  ...  trans_depth  ct_srv_src  ct_state_ttl  \\\n",
       "0  511904.781300  ...            0           5             0   \n",
       "1  546816.500000  ...            0           4             0   \n",
       "2   15316.823240  ...            1           1             1   \n",
       "3  554079.687500  ...            0           2             0   \n",
       "4    2568.839355  ...            1           1             1   \n",
       "\n",
       "   ct_src_dport_ltm  ct_dst_sport_ltm  ct_dst_src_ltm  ct_flw_http_mthd  \\\n",
       "0                 1                 1               1                 0   \n",
       "1                 2                 1               1                 0   \n",
       "2                 1                 1               1                 1   \n",
       "3                 2                 1               1                 0   \n",
       "4                 1                 1               1                 1   \n",
       "\n",
       "   ct_srv_dst  is_sm_ips_ports  label  \n",
       "0           6                0      0  \n",
       "1           3                0      0  \n",
       "2           1                0      1  \n",
       "3           4                0      0  \n",
       "4           1                0      1  \n",
       "\n",
       "[5 rows x 30 columns]"
      ]
     },
     "execution_count": 50,
     "metadata": {},
     "output_type": "execute_result"
    }
   ],
   "source": [
    "df_test = pd.concat([test_X,test_Y],axis=1)\n",
    "df_test.reset_index(drop=True,inplace=True)\n",
    "df_test.reset_index(inplace=True)\n",
    "df_test.to_csv('USNW_test-set.csv')\n",
    "df_test.head()"
   ]
  },
  {
   "cell_type": "code",
   "execution_count": 51,
   "metadata": {
    "scrolled": true
   },
   "outputs": [
    {
     "data": {
      "text/plain": [
       "0"
      ]
     },
     "execution_count": 51,
     "metadata": {},
     "output_type": "execute_result"
    }
   ],
   "source": [
    "df_test.duplicated().sum()"
   ]
  },
  {
   "cell_type": "code",
   "execution_count": 52,
   "metadata": {},
   "outputs": [
    {
     "name": "stdout",
     "output_type": "stream",
     "text": [
      "Train 3\n",
      "Test 3\n",
      "=======================================\n",
      "Train 7\n",
      "Test 7\n",
      "=======================================\n",
      "Train 4\n",
      "Test 4\n"
     ]
    }
   ],
   "source": [
    "print('Train',len(df_train['proto'].unique()))\n",
    "print('Test',len(df_test['proto'].unique()))\n",
    "print('=======================================')\n",
    "print('Train',len(df_train['service'].unique()))\n",
    "print('Test',len(df_test['service'].unique()))\n",
    "print('=======================================')\n",
    "print('Train',len(df_train['state'].unique()))\n",
    "print('Test',len(df_test['state'].unique()))"
   ]
  },
  {
   "cell_type": "code",
   "execution_count": 53,
   "metadata": {},
   "outputs": [
    {
     "data": {
      "text/plain": [
       "tcp            81341\n",
       "udp            21547\n",
       "other_proto     1172\n",
       "Name: proto, dtype: int64"
      ]
     },
     "execution_count": 53,
     "metadata": {},
     "output_type": "execute_result"
    }
   ],
   "source": [
    "df_train['proto'].value_counts()"
   ]
  },
  {
   "cell_type": "code",
   "execution_count": 54,
   "metadata": {},
   "outputs": [
    {
     "data": {
      "text/plain": [
       "tcp            23205\n",
       "udp             6267\n",
       "other_proto      325\n",
       "Name: proto, dtype: int64"
      ]
     },
     "execution_count": 54,
     "metadata": {},
     "output_type": "execute_result"
    }
   ],
   "source": [
    "df_test['proto'].value_counts()"
   ]
  }
 ],
 "metadata": {
  "kernelspec": {
   "display_name": "Python 3",
   "language": "python",
   "name": "python3"
  },
  "language_info": {
   "codemirror_mode": {
    "name": "ipython",
    "version": 3
   },
   "file_extension": ".py",
   "mimetype": "text/x-python",
   "name": "python",
   "nbconvert_exporter": "python",
   "pygments_lexer": "ipython3",
   "version": "3.7.3"
  }
 },
 "nbformat": 4,
 "nbformat_minor": 4
}
