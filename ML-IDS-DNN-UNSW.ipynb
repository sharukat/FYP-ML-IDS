{
 "cells": [
  {
   "cell_type": "code",
   "execution_count": 1,
   "metadata": {},
   "outputs": [
    {
     "name": "stdout",
     "output_type": "stream",
     "text": [
      "C:\\Users\\Sharuka Thirimanne\\Desktop\\FYP-ML-IDS\n"
     ]
    }
   ],
   "source": [
    "cd C:\\\\Users\\\\Sharuka Thirimanne\\\\Desktop\\\\FYP-ML-IDS"
   ]
  },
  {
   "cell_type": "code",
   "execution_count": 2,
   "metadata": {},
   "outputs": [
    {
     "name": "stderr",
     "output_type": "stream",
     "text": [
      "c:\\users\\sharuka thirimanne\\appdata\\local\\programs\\python\\python37\\lib\\site-packages\\tensorboard\\compat\\tensorflow_stub\\dtypes.py:541: FutureWarning: Passing (type, 1) or '1type' as a synonym of type is deprecated; in a future version of numpy, it will be understood as (type, (1,)) / '(1,)type'.\n",
      "  _np_qint8 = np.dtype([(\"qint8\", np.int8, 1)])\n",
      "c:\\users\\sharuka thirimanne\\appdata\\local\\programs\\python\\python37\\lib\\site-packages\\tensorboard\\compat\\tensorflow_stub\\dtypes.py:542: FutureWarning: Passing (type, 1) or '1type' as a synonym of type is deprecated; in a future version of numpy, it will be understood as (type, (1,)) / '(1,)type'.\n",
      "  _np_quint8 = np.dtype([(\"quint8\", np.uint8, 1)])\n",
      "c:\\users\\sharuka thirimanne\\appdata\\local\\programs\\python\\python37\\lib\\site-packages\\tensorboard\\compat\\tensorflow_stub\\dtypes.py:543: FutureWarning: Passing (type, 1) or '1type' as a synonym of type is deprecated; in a future version of numpy, it will be understood as (type, (1,)) / '(1,)type'.\n",
      "  _np_qint16 = np.dtype([(\"qint16\", np.int16, 1)])\n",
      "c:\\users\\sharuka thirimanne\\appdata\\local\\programs\\python\\python37\\lib\\site-packages\\tensorboard\\compat\\tensorflow_stub\\dtypes.py:544: FutureWarning: Passing (type, 1) or '1type' as a synonym of type is deprecated; in a future version of numpy, it will be understood as (type, (1,)) / '(1,)type'.\n",
      "  _np_quint16 = np.dtype([(\"quint16\", np.uint16, 1)])\n",
      "c:\\users\\sharuka thirimanne\\appdata\\local\\programs\\python\\python37\\lib\\site-packages\\tensorboard\\compat\\tensorflow_stub\\dtypes.py:545: FutureWarning: Passing (type, 1) or '1type' as a synonym of type is deprecated; in a future version of numpy, it will be understood as (type, (1,)) / '(1,)type'.\n",
      "  _np_qint32 = np.dtype([(\"qint32\", np.int32, 1)])\n",
      "c:\\users\\sharuka thirimanne\\appdata\\local\\programs\\python\\python37\\lib\\site-packages\\tensorboard\\compat\\tensorflow_stub\\dtypes.py:550: FutureWarning: Passing (type, 1) or '1type' as a synonym of type is deprecated; in a future version of numpy, it will be understood as (type, (1,)) / '(1,)type'.\n",
      "  np_resource = np.dtype([(\"resource\", np.ubyte, 1)])\n",
      "Using TensorFlow backend.\n"
     ]
    }
   ],
   "source": [
    "import sklearn\n",
    "import numpy as np\n",
    "import pandas as pd\n",
    "import seaborn as sns\n",
    "import tensorflow as tf\n",
    "import matplotlib as mpl\n",
    "import matplotlib.pyplot as plt\n",
    "\n",
    "from tensorflow import keras\n",
    "from keras.layers import Dense\n",
    "from keras.models import Sequential\n",
    "from sklearn.decomposition import PCA\n",
    "from tensorflow.keras import regularizers\n",
    "from sklearn.preprocessing import LabelBinarizer\n",
    "from sklearn.preprocessing import OneHotEncoder\n",
    "from keras.wrappers.scikit_learn import KerasClassifier\n",
    "from sklearn.pipeline import Pipeline\n",
    "from sklearn.compose import make_column_transformer\n",
    "from sklearn.compose import ColumnTransformer\n",
    "from tensorflow.keras import Model, layers\n",
    "from sklearn.metrics import confusion_matrix\n",
    "from sklearn.preprocessing import LabelEncoder\n",
    "from sklearn.preprocessing import MinMaxScaler\n",
    "from sklearn.preprocessing import StandardScaler\n",
    "from sklearn.metrics import classification_report\n",
    "from sklearn.model_selection import train_test_split\n",
    "scaler = MinMaxScaler()"
   ]
  },
  {
   "cell_type": "code",
   "execution_count": 3,
   "metadata": {},
   "outputs": [],
   "source": [
    "mpl.rcParams['figure.figsize'] = (12, 10)\n",
    "colors = plt.rcParams['axes.prop_cycle'].by_key()['color']"
   ]
  },
  {
   "cell_type": "code",
   "execution_count": 4,
   "metadata": {
    "scrolled": true
   },
   "outputs": [],
   "source": [
    "def load_train_dataset():\n",
    "    df_train = pd.read_csv('Datasets/UNSW_train-set.csv')\n",
    "    df_train.drop(['index'], axis = 'columns' , inplace = True)\n",
    "    df_train.drop(['attack_cat'], axis = 'columns' , inplace = True)\n",
    "    \n",
    "    \n",
    "    for col in ['proto','service','state']:\n",
    "        df_train[col] = df_train[col].astype('category')\n",
    "        \n",
    "    others1 = df_train['proto'].value_counts().index[8:]\n",
    "    label = 'Other'\n",
    "    # apply new category label\n",
    "    df_train['proto'] = df_train['proto'].cat.add_categories([label])\n",
    "    df_train['proto'] = df_train['proto'].replace(others1, label)\n",
    "    \n",
    "    others3 = df_train['service'].value_counts().index[8:]\n",
    "    # apply new category label\n",
    "    df_train['service'] = df_train['service'].cat.add_categories([label])\n",
    "    df_train['service'] = df_train['service'].replace(others3, label)\n",
    "    \n",
    "    others5 = df_train['state'].value_counts().index[4:]\n",
    "    # apply new category label\n",
    "    df_train['state'] = df_train['state'].cat.add_categories([label])\n",
    "    df_train['state'] = df_train['state'].replace(others5, label)\n",
    "    \n",
    "    df_train.drop_duplicates(keep='first',inplace=True)\n",
    "    \n",
    "    limit1 = df_train.shape[1]-1\n",
    "    \n",
    "    X_train = df_train.iloc[:,0:limit1]\n",
    "    Y_train = df_train.iloc[:,limit1]\n",
    "    \n",
    "    return  X_train, Y_train,  df_train\n",
    "\n",
    "X_train, Y_train,  df_train = load_train_dataset()"
   ]
  },
  {
   "cell_type": "code",
   "execution_count": 5,
   "metadata": {},
   "outputs": [],
   "source": [
    "def load_test_dataset():\n",
    "    df_test = pd.read_csv('Datasets/UNSW_test-set.csv')\n",
    "    df_test.drop(['index'], axis = 'columns' , inplace = True)\n",
    "    df_test.drop(['attack_cat'], axis = 'columns' , inplace = True)\n",
    "    \n",
    "    #Below categories in the state feature are available in the test set but not in the training set\n",
    "    df_test.drop(df_test[df_test['state'] == 'CLO'].index, inplace = True)\n",
    "    df_test.drop(df_test[df_test['state'] == 'ACC'].index, inplace = True)\n",
    "    \n",
    "    \n",
    "    \n",
    "    for col in ['proto','service','state']:\n",
    "        df_test[col] = df_test[col].astype('category')\n",
    "        \n",
    "    label = 'Other'\n",
    "    \n",
    "    others2 = df_test['proto'].value_counts().index[8:]\n",
    "    # apply new category label\n",
    "    df_test['proto'] = df_test['proto'].cat.add_categories([label])\n",
    "    df_test['proto'] = df_test['proto'].replace(others2, label)\n",
    "    \n",
    "    others4 = df_test['service'].value_counts().index[8:]\n",
    "    # apply new category label\n",
    "    df_test['service'] = df_test['service'].cat.add_categories([label])\n",
    "    df_test['service'] = df_test['service'].replace(others4, label)\n",
    "    \n",
    "    others6 = df_test['state'].value_counts().index[4:]\n",
    "    # apply new category label\n",
    "    df_test['state'] = df_test['state'].cat.add_categories([label])\n",
    "    df_test['state'] = df_test['state'].replace(others6, label)\n",
    "    \n",
    "    df_test.drop_duplicates(keep='first',inplace=True)\n",
    "    \n",
    "    limit2 = df_test.shape[1]-1\n",
    "    \n",
    "    X_test = df_test.iloc[:,0:limit2]\n",
    "    Y_test = df_test.iloc[:,limit2]\n",
    "    \n",
    "    return X_test, Y_test,df_test\n",
    "\n",
    "X_test, Y_test ,df_test = load_test_dataset()"
   ]
  },
  {
   "cell_type": "code",
   "execution_count": 6,
   "metadata": {},
   "outputs": [],
   "source": [
    "categorical_cols = ['proto','service','state']"
   ]
  },
  {
   "cell_type": "code",
   "execution_count": 7,
   "metadata": {},
   "outputs": [],
   "source": [
    "# Training dataset one hot encoding\n",
    "ohe1 = OneHotEncoder(handle_unknown = 'ignore')\n",
    "ohe1.fit(X_train[categorical_cols])\n",
    "array_hot_encoded1 = ohe1.transform(X_train[categorical_cols]).toarray()\n",
    "data_hot_encoded1 = pd.DataFrame(array_hot_encoded1, index=X_train.index)\n",
    "X_train = X_train.drop(columns=categorical_cols)\n",
    "X_train = pd.concat([data_hot_encoded1,X_train], axis=1)"
   ]
  },
  {
   "cell_type": "code",
   "execution_count": 8,
   "metadata": {},
   "outputs": [],
   "source": [
    "# Test dataset one hot encoding\n",
    "#ohe1 = OneHotEncoder(handle_unknown = 'ignore')\n",
    "array_hot_encoded2 = ohe1.transform(X_test[categorical_cols]).toarray()\n",
    "data_hot_encoded2 = pd.DataFrame(array_hot_encoded2, index=X_test.index)\n",
    "X_test = X_test.drop(columns=categorical_cols)\n",
    "X_test = pd.concat([data_hot_encoded2,X_test], axis=1)"
   ]
  },
  {
   "cell_type": "code",
   "execution_count": 9,
   "metadata": {},
   "outputs": [],
   "source": [
    "#scaler = MinMaxScaler()\n",
    "X_train = scaler.fit_transform(X_train)\n",
    "X_test = scaler.transform(X_test)"
   ]
  },
  {
   "cell_type": "code",
   "execution_count": 20,
   "metadata": {},
   "outputs": [],
   "source": [
    "from sklearn.feature_selection import SelectKBest\n",
    "from sklearn.feature_selection import chi2, f_classif"
   ]
  },
  {
   "cell_type": "code",
   "execution_count": 22,
   "metadata": {},
   "outputs": [
    {
     "name": "stdout",
     "output_type": "stream",
     "text": [
      "Original number of features: 72\n",
      "Reduced number of features: 30\n"
     ]
    },
    {
     "name": "stderr",
     "output_type": "stream",
     "text": [
      "c:\\users\\sharuka thirimanne\\appdata\\local\\programs\\python\\python37\\lib\\site-packages\\sklearn\\feature_selection\\_univariate_selection.py:116: RuntimeWarning: divide by zero encountered in true_divide\n",
      "  f = msb / msw\n"
     ]
    }
   ],
   "source": [
    "fvalue_selector = SelectKBest(f_classif, k=30)\n",
    "features_kbest = fvalue_selector.fit_transform(X_train, Y_train)\n",
    "# Show results\n",
    "print(\"Original number of features:\", X_train.shape[1])\n",
    "print(\"Reduced number of features:\", features_kbest.shape[1])"
   ]
  },
  {
   "cell_type": "code",
   "execution_count": 10,
   "metadata": {},
   "outputs": [
    {
     "data": {
      "text/plain": [
       "(122378, 62)"
      ]
     },
     "execution_count": 10,
     "metadata": {},
     "output_type": "execute_result"
    }
   ],
   "source": [
    "X_train.shape"
   ]
  },
  {
   "cell_type": "code",
   "execution_count": 11,
   "metadata": {},
   "outputs": [],
   "source": [
    "METRICS = [ \n",
    "      keras.metrics.BinaryAccuracy(name='accuracy'),\n",
    "      keras.metrics.Precision(name='precision'),\n",
    "      keras.metrics.Recall(name='recall'),\n",
    "      keras.metrics.AUC(name='auc'),\n",
    "]"
   ]
  },
  {
   "cell_type": "code",
   "execution_count": 12,
   "metadata": {},
   "outputs": [],
   "source": [
    "early_stopping = tf.keras.callbacks.EarlyStopping(\n",
    "    monitor='accuracy', \n",
    "    verbose=1,\n",
    "    patience=10,\n",
    "    mode='max',\n",
    "    restore_best_weights=True)"
   ]
  },
  {
   "cell_type": "code",
   "execution_count": 13,
   "metadata": {},
   "outputs": [],
   "source": [
    "def neural_network():\n",
    "    #Neural Network Model\n",
    "    model = Sequential()\n",
    "    model.add(Dense(128, input_dim=62, activation='relu',kernel_initializer='glorot_uniform',\n",
    "                    bias_initializer='zeros',kernel_regularizer=regularizers.l2(0.01)))\n",
    "    model.add(Dense(128, activation='relu',kernel_regularizer=regularizers.l2(0.01)))\n",
    "    model.add(Dense(128, activation='relu',kernel_regularizer=regularizers.l2(0.01)))\n",
    "    model.add(Dense(128, activation='relu',kernel_regularizer=regularizers.l2(0.01)))\n",
    "    model.add(Dense(64, activation='relu',kernel_regularizer=regularizers.l2(0.01)))\n",
    "    model.add(Dense(1, activation='sigmoid'))\n",
    "\n",
    "    model.compile(loss='binary_crossentropy', optimizer='adam', metrics = METRICS)\n",
    "    \n",
    "    return model\n"
   ]
  },
  {
   "cell_type": "code",
   "execution_count": 14,
   "metadata": {},
   "outputs": [],
   "source": [
    "from sklearn.model_selection import StratifiedKFold\n",
    "from sklearn.model_selection import cross_val_score"
   ]
  },
  {
   "cell_type": "code",
   "execution_count": 39,
   "metadata": {
    "scrolled": true
   },
   "outputs": [
    {
     "name": "stdout",
     "output_type": "stream",
     "text": [
      "Train on 104021 samples, validate on 18357 samples\n",
      "Epoch 1/15\n",
      "104021/104021 [==============================] - 4s 42us/step - loss: 0.7560 - accuracy: 0.9139 - precision: 0.8535 - recall: 0.9818 - auc: 0.9705 - val_loss: 0.1494 - val_accuracy: 0.9139 - val_precision: 0.8535 - val_recall: 0.9818 - val_auc: 0.9704\n",
      "Epoch 2/15\n",
      "104021/104021 [==============================] - 3s 33us/step - loss: 0.3328 - accuracy: 0.9139 - precision: 0.8535 - recall: 0.9818 - auc: 0.9704 - val_loss: 0.1323 - val_accuracy: 0.9139 - val_precision: 0.8535 - val_recall: 0.9818 - val_auc: 0.9704\n",
      "Epoch 3/15\n",
      "104021/104021 [==============================] - 3s 30us/step - loss: 0.3162 - accuracy: 0.9139 - precision: 0.8535 - recall: 0.9818 - auc: 0.9704 - val_loss: 0.1094 - val_accuracy: 0.9139 - val_precision: 0.8535 - val_recall: 0.9818 - val_auc: 0.9704\n",
      "Epoch 4/15\n",
      "104021/104021 [==============================] - 3s 30us/step - loss: 0.3081 - accuracy: 0.9139 - precision: 0.8535 - recall: 0.9819 - auc: 0.9704 - val_loss: 0.1113 - val_accuracy: 0.9139 - val_precision: 0.8535 - val_recall: 0.9819 - val_auc: 0.9704\n",
      "Epoch 5/15\n",
      "104021/104021 [==============================] - 3s 28us/step - loss: 0.3024 - accuracy: 0.9139 - precision: 0.8535 - recall: 0.9819 - auc: 0.9704 - val_loss: 0.1052 - val_accuracy: 0.9139 - val_precision: 0.8535 - val_recall: 0.9819 - val_auc: 0.9704\n",
      "Epoch 6/15\n",
      "104021/104021 [==============================] - 3s 28us/step - loss: 0.2972 - accuracy: 0.9139 - precision: 0.8535 - recall: 0.9819 - auc: 0.9704 - val_loss: 0.1164 - val_accuracy: 0.9139 - val_precision: 0.8535 - val_recall: 0.9819 - val_auc: 0.9704\n",
      "Epoch 7/15\n",
      "104021/104021 [==============================] - 3s 28us/step - loss: 0.2970 - accuracy: 0.9139 - precision: 0.8535 - recall: 0.9819 - auc: 0.9704 - val_loss: 0.1120 - val_accuracy: 0.9139 - val_precision: 0.8535 - val_recall: 0.9819 - val_auc: 0.9704\n",
      "Epoch 8/15\n",
      "104021/104021 [==============================] - 3s 28us/step - loss: 0.2909 - accuracy: 0.9139 - precision: 0.8535 - recall: 0.9819 - auc: 0.9704 - val_loss: 0.1101 - val_accuracy: 0.9139 - val_precision: 0.8535 - val_recall: 0.9819 - val_auc: 0.9704\n",
      "Epoch 9/15\n",
      "104021/104021 [==============================] - 3s 28us/step - loss: 0.2891 - accuracy: 0.9139 - precision: 0.8535 - recall: 0.9819 - auc: 0.9704 - val_loss: 0.1008 - val_accuracy: 0.9139 - val_precision: 0.8535 - val_recall: 0.9819 - val_auc: 0.9704\n",
      "Epoch 10/15\n",
      "104021/104021 [==============================] - 3s 27us/step - loss: 0.2872 - accuracy: 0.9139 - precision: 0.8535 - recall: 0.9819 - auc: 0.9704 - val_loss: 0.0870 - val_accuracy: 0.9139 - val_precision: 0.8535 - val_recall: 0.9819 - val_auc: 0.9704\n",
      "Epoch 11/15\n",
      "104021/104021 [==============================] - 3s 27us/step - loss: 0.2856 - accuracy: 0.9139 - precision: 0.8535 - recall: 0.9819 - auc: 0.9704 - val_loss: 0.1016 - val_accuracy: 0.9139 - val_precision: 0.8535 - val_recall: 0.9819 - val_auc: 0.9704\n",
      "Epoch 12/15\n",
      "104021/104021 [==============================] - 3s 27us/step - loss: 0.2832 - accuracy: 0.9139 - precision: 0.8535 - recall: 0.9819 - auc: 0.9704 - val_loss: 0.0948 - val_accuracy: 0.9139 - val_precision: 0.8535 - val_recall: 0.9819 - val_auc: 0.9704\n",
      "Epoch 13/15\n",
      "104021/104021 [==============================] - 3s 28us/step - loss: 0.2823 - accuracy: 0.9139 - precision: 0.8535 - recall: 0.9819 - auc: 0.9704 - val_loss: 0.0895 - val_accuracy: 0.9139 - val_precision: 0.8535 - val_recall: 0.9819 - val_auc: 0.9704\n",
      "Epoch 14/15\n",
      "104021/104021 [==============================] - 3s 28us/step - loss: 0.2797 - accuracy: 0.9139 - precision: 0.8535 - recall: 0.9819 - auc: 0.9704 - val_loss: 0.0887 - val_accuracy: 0.9139 - val_precision: 0.8535 - val_recall: 0.9819 - val_auc: 0.9704\n",
      "Epoch 15/15\n",
      "104021/104021 [==============================] - 3s 28us/step - loss: 0.2780 - accuracy: 0.9139 - precision: 0.8535 - recall: 0.9819 - auc: 0.9705 - val_loss: 0.0805 - val_accuracy: 0.9139 - val_precision: 0.8535 - val_recall: 0.9818 - val_auc: 0.9705\n",
      "Train on 104021 samples, validate on 18357 samples\n",
      "Epoch 1/15\n",
      "104021/104021 [==============================] - 3s 31us/step - loss: 0.7452 - accuracy: 0.9130 - precision: 0.8542 - recall: 0.9821 - auc: 0.9700 - val_loss: 0.1524 - val_accuracy: 0.9130 - val_precision: 0.8542 - val_recall: 0.9821 - val_auc: 0.9700\n",
      "Epoch 2/15\n",
      "104021/104021 [==============================] - 3s 27us/step - loss: 0.3321 - accuracy: 0.9130 - precision: 0.8542 - recall: 0.9821 - auc: 0.9700 - val_loss: 0.1204 - val_accuracy: 0.9130 - val_precision: 0.8542 - val_recall: 0.9821 - val_auc: 0.9700\n",
      "Epoch 3/15\n",
      "104021/104021 [==============================] - 3s 27us/step - loss: 0.3153 - accuracy: 0.9130 - precision: 0.8542 - recall: 0.9821 - auc: 0.9700 - val_loss: 0.1138 - val_accuracy: 0.9130 - val_precision: 0.8542 - val_recall: 0.9821 - val_auc: 0.9699\n",
      "Epoch 4/15\n",
      "104021/104021 [==============================] - 3s 27us/step - loss: 0.3066 - accuracy: 0.9130 - precision: 0.8542 - recall: 0.9821 - auc: 0.9699 - val_loss: 0.1071 - val_accuracy: 0.9130 - val_precision: 0.8542 - val_recall: 0.9821 - val_auc: 0.9699\n",
      "Epoch 5/15\n",
      "104021/104021 [==============================] - 3s 27us/step - loss: 0.3017 - accuracy: 0.9130 - precision: 0.8542 - recall: 0.9821 - auc: 0.9699 - val_loss: 0.0969 - val_accuracy: 0.9130 - val_precision: 0.8542 - val_recall: 0.9821 - val_auc: 0.9699\n",
      "Epoch 6/15\n",
      "104021/104021 [==============================] - 3s 27us/step - loss: 0.2980 - accuracy: 0.9130 - precision: 0.8542 - recall: 0.9821 - auc: 0.9700 - val_loss: 0.0987 - val_accuracy: 0.9130 - val_precision: 0.8542 - val_recall: 0.9821 - val_auc: 0.9699\n",
      "Epoch 7/15\n",
      "104021/104021 [==============================] - 3s 27us/step - loss: 0.2938 - accuracy: 0.9130 - precision: 0.8542 - recall: 0.9821 - auc: 0.9700 - val_loss: 0.0911 - val_accuracy: 0.9131 - val_precision: 0.8542 - val_recall: 0.9821 - val_auc: 0.9700\n",
      "Epoch 8/15\n",
      "104021/104021 [==============================] - 3s 27us/step - loss: 0.2915 - accuracy: 0.9130 - precision: 0.8542 - recall: 0.9821 - auc: 0.9700 - val_loss: 0.1033 - val_accuracy: 0.9131 - val_precision: 0.8542 - val_recall: 0.9821 - val_auc: 0.9700\n",
      "Epoch 9/15\n",
      "104021/104021 [==============================] - 3s 31us/step - loss: 0.2907 - accuracy: 0.9131 - precision: 0.8542 - recall: 0.9821 - auc: 0.9700 - val_loss: 0.1008 - val_accuracy: 0.9131 - val_precision: 0.8542 - val_recall: 0.9821 - val_auc: 0.9700\n",
      "Epoch 10/15\n",
      "104021/104021 [==============================] - 3s 27us/step - loss: 0.2877 - accuracy: 0.9131 - precision: 0.8542 - recall: 0.9821 - auc: 0.9700 - val_loss: 0.0941 - val_accuracy: 0.9131 - val_precision: 0.8542 - val_recall: 0.9821 - val_auc: 0.9700\n",
      "Epoch 11/15\n",
      "104021/104021 [==============================] - 3s 28us/step - loss: 0.2847 - accuracy: 0.9131 - precision: 0.8542 - recall: 0.9821 - auc: 0.9700 - val_loss: 0.1020 - val_accuracy: 0.9131 - val_precision: 0.8542 - val_recall: 0.9821 - val_auc: 0.9700\n",
      "Epoch 12/15\n",
      "104021/104021 [==============================] - 3s 27us/step - loss: 0.2842 - accuracy: 0.9131 - precision: 0.8542 - recall: 0.9821 - auc: 0.9700 - val_loss: 0.0844 - val_accuracy: 0.9131 - val_precision: 0.8542 - val_recall: 0.9821 - val_auc: 0.9700\n",
      "Epoch 13/15\n",
      "104021/104021 [==============================] - 3s 27us/step - loss: 0.2830 - accuracy: 0.9131 - precision: 0.8542 - recall: 0.9821 - auc: 0.9700 - val_loss: 0.0953 - val_accuracy: 0.9131 - val_precision: 0.8542 - val_recall: 0.9821 - val_auc: 0.9700\n",
      "Epoch 14/15\n",
      "104021/104021 [==============================] - 3s 27us/step - loss: 0.2821 - accuracy: 0.9131 - precision: 0.8542 - recall: 0.9821 - auc: 0.9700 - val_loss: 0.0856 - val_accuracy: 0.9131 - val_precision: 0.8542 - val_recall: 0.9821 - val_auc: 0.9700\n",
      "Epoch 15/15\n",
      "104021/104021 [==============================] - 3s 27us/step - loss: 0.2795 - accuracy: 0.9131 - precision: 0.8542 - recall: 0.9821 - auc: 0.9700 - val_loss: 0.0840 - val_accuracy: 0.9131 - val_precision: 0.8542 - val_recall: 0.9821 - val_auc: 0.9700\n",
      "Train on 104021 samples, validate on 18357 samples\n",
      "Epoch 1/15\n"
     ]
    },
    {
     "name": "stdout",
     "output_type": "stream",
     "text": [
      "104021/104021 [==============================] - 3s 32us/step - loss: 0.7480 - accuracy: 0.9151 - precision: 0.8558 - recall: 0.9824 - auc: 0.9711 - val_loss: 0.1453 - val_accuracy: 0.9151 - val_precision: 0.8558 - val_recall: 0.9824 - val_auc: 0.9711\n",
      "Epoch 2/15\n",
      "104021/104021 [==============================] - 3s 27us/step - loss: 0.3344 - accuracy: 0.9151 - precision: 0.8558 - recall: 0.9824 - auc: 0.9711 - val_loss: 0.1182 - val_accuracy: 0.9151 - val_precision: 0.8558 - val_recall: 0.9824 - val_auc: 0.9711\n",
      "Epoch 3/15\n",
      "104021/104021 [==============================] - 3s 27us/step - loss: 0.3195 - accuracy: 0.9150 - precision: 0.8558 - recall: 0.9824 - auc: 0.9711 - val_loss: 0.1148 - val_accuracy: 0.9151 - val_precision: 0.8558 - val_recall: 0.9824 - val_auc: 0.9711\n",
      "Epoch 4/15\n",
      "104021/104021 [==============================] - 3s 27us/step - loss: 0.3102 - accuracy: 0.9150 - precision: 0.8558 - recall: 0.9824 - auc: 0.9711 - val_loss: 0.1100 - val_accuracy: 0.9150 - val_precision: 0.8558 - val_recall: 0.9824 - val_auc: 0.9711\n",
      "Epoch 5/15\n",
      "104021/104021 [==============================] - 3s 27us/step - loss: 0.3067 - accuracy: 0.9150 - precision: 0.8558 - recall: 0.9824 - auc: 0.9711 - val_loss: 0.1013 - val_accuracy: 0.9150 - val_precision: 0.8558 - val_recall: 0.9824 - val_auc: 0.9711\n",
      "Epoch 6/15\n",
      "104021/104021 [==============================] - 3s 27us/step - loss: 0.3017 - accuracy: 0.9150 - precision: 0.8558 - recall: 0.9824 - auc: 0.9711 - val_loss: 0.1039 - val_accuracy: 0.9150 - val_precision: 0.8558 - val_recall: 0.9824 - val_auc: 0.9710\n",
      "Epoch 7/15\n",
      "104021/104021 [==============================] - 3s 27us/step - loss: 0.2971 - accuracy: 0.9150 - precision: 0.8557 - recall: 0.9824 - auc: 0.9711 - val_loss: 0.1010 - val_accuracy: 0.9150 - val_precision: 0.8558 - val_recall: 0.9824 - val_auc: 0.9710\n",
      "Epoch 8/15\n",
      "104021/104021 [==============================] - 3s 27us/step - loss: 0.2948 - accuracy: 0.9150 - precision: 0.8557 - recall: 0.9824 - auc: 0.9711 - val_loss: 0.0966 - val_accuracy: 0.9150 - val_precision: 0.8558 - val_recall: 0.9824 - val_auc: 0.9710\n",
      "Epoch 9/15\n",
      "104021/104021 [==============================] - 3s 27us/step - loss: 0.2921 - accuracy: 0.9150 - precision: 0.8557 - recall: 0.9824 - auc: 0.9711 - val_loss: 0.1032 - val_accuracy: 0.9150 - val_precision: 0.8557 - val_recall: 0.9824 - val_auc: 0.9710\n",
      "Epoch 10/15\n",
      "104021/104021 [==============================] - 3s 27us/step - loss: 0.2899 - accuracy: 0.9150 - precision: 0.8557 - recall: 0.9824 - auc: 0.9711 - val_loss: 0.1054 - val_accuracy: 0.9150 - val_precision: 0.8557 - val_recall: 0.9824 - val_auc: 0.9710\n",
      "Epoch 11/15\n",
      "104021/104021 [==============================] - 3s 27us/step - loss: 0.2888 - accuracy: 0.9150 - precision: 0.8557 - recall: 0.9824 - auc: 0.9711 - val_loss: 0.0870 - val_accuracy: 0.9150 - val_precision: 0.8557 - val_recall: 0.9824 - val_auc: 0.9711\n",
      "Restoring model weights from the end of the best epoch.\n",
      "Epoch 00011: early stopping\n",
      "Cross-Validation set accuracy: 86.751710 %\n"
     ]
    }
   ],
   "source": [
    "estimator = KerasClassifier(build_fn=neural_network, epochs=20, batch_size=128, verbose=0)\n",
    "print(\"Cross-Validation set accuracy: {:.6f} %\".format((cross_val_score(estimator, X_train, Y_train, cv=3,scoring='accuracy').mean())*100))"
   ]
  },
  {
   "cell_type": "code",
   "execution_count": 42,
   "metadata": {
    "scrolled": true
   },
   "outputs": [
    {
     "name": "stdout",
     "output_type": "stream",
     "text": [
      "Train on 104021 samples, validate on 18357 samples\n",
      "Epoch 1/15\n",
      "104021/104021 [==============================] - 4s 38us/step - loss: 0.7543 - accuracy: 0.9141 - precision: 0.8540 - recall: 0.9815 - auc: 0.9708 - val_loss: 0.1620 - val_accuracy: 0.9141 - val_precision: 0.8540 - val_recall: 0.9815 - val_auc: 0.9708\n",
      "Epoch 2/15\n",
      "104021/104021 [==============================] - 3s 31us/step - loss: 0.3345 - accuracy: 0.9141 - precision: 0.8540 - recall: 0.9815 - auc: 0.9708 - val_loss: 0.1208 - val_accuracy: 0.9141 - val_precision: 0.8540 - val_recall: 0.9815 - val_auc: 0.9708\n",
      "Epoch 3/15\n",
      "104021/104021 [==============================] - 3s 31us/step - loss: 0.3167 - accuracy: 0.9141 - precision: 0.8540 - recall: 0.9815 - auc: 0.9708 - val_loss: 0.1161 - val_accuracy: 0.9141 - val_precision: 0.8540 - val_recall: 0.9815 - val_auc: 0.9708\n",
      "Epoch 4/15\n",
      "104021/104021 [==============================] - 3s 31us/step - loss: 0.3091 - accuracy: 0.9141 - precision: 0.8540 - recall: 0.9815 - auc: 0.9708 - val_loss: 0.1053 - val_accuracy: 0.9141 - val_precision: 0.8540 - val_recall: 0.9815 - val_auc: 0.9708\n",
      "Epoch 5/15\n",
      "104021/104021 [==============================] - 3s 31us/step - loss: 0.3028 - accuracy: 0.9141 - precision: 0.8540 - recall: 0.9815 - auc: 0.9708 - val_loss: 0.1052 - val_accuracy: 0.9141 - val_precision: 0.8540 - val_recall: 0.9815 - val_auc: 0.9708\n",
      "Epoch 6/15\n",
      "104021/104021 [==============================] - 3s 31us/step - loss: 0.2994 - accuracy: 0.9141 - precision: 0.8540 - recall: 0.9815 - auc: 0.9708 - val_loss: 0.1093 - val_accuracy: 0.9141 - val_precision: 0.8540 - val_recall: 0.9815 - val_auc: 0.9708\n",
      "Epoch 7/15\n",
      "104021/104021 [==============================] - 3s 32us/step - loss: 0.2961 - accuracy: 0.9141 - precision: 0.8540 - recall: 0.9815 - auc: 0.9708 - val_loss: 0.0988 - val_accuracy: 0.9141 - val_precision: 0.8540 - val_recall: 0.9815 - val_auc: 0.9708\n",
      "Epoch 8/15\n",
      "104021/104021 [==============================] - 3s 31us/step - loss: 0.2925 - accuracy: 0.9141 - precision: 0.8540 - recall: 0.9815 - auc: 0.9708 - val_loss: 0.0929 - val_accuracy: 0.9141 - val_precision: 0.8540 - val_recall: 0.9815 - val_auc: 0.9708\n",
      "Epoch 9/15\n",
      "104021/104021 [==============================] - 3s 32us/step - loss: 0.2904 - accuracy: 0.9141 - precision: 0.8540 - recall: 0.9815 - auc: 0.9708 - val_loss: 0.0996 - val_accuracy: 0.9141 - val_precision: 0.8540 - val_recall: 0.9815 - val_auc: 0.9708\n",
      "Epoch 10/15\n",
      "104021/104021 [==============================] - 3s 32us/step - loss: 0.2876 - accuracy: 0.9141 - precision: 0.8540 - recall: 0.9815 - auc: 0.9708 - val_loss: 0.0983 - val_accuracy: 0.9141 - val_precision: 0.8540 - val_recall: 0.9815 - val_auc: 0.9708\n",
      "Epoch 11/15\n",
      "104021/104021 [==============================] - 3s 31us/step - loss: 0.2870 - accuracy: 0.9141 - precision: 0.8540 - recall: 0.9815 - auc: 0.9708 - val_loss: 0.1010 - val_accuracy: 0.9141 - val_precision: 0.8540 - val_recall: 0.9815 - val_auc: 0.9708\n",
      "Epoch 12/15\n",
      "104021/104021 [==============================] - 3s 32us/step - loss: 0.2857 - accuracy: 0.9141 - precision: 0.8540 - recall: 0.9815 - auc: 0.9708 - val_loss: 0.0867 - val_accuracy: 0.9141 - val_precision: 0.8540 - val_recall: 0.9815 - val_auc: 0.9708\n",
      "Epoch 13/15\n",
      "104021/104021 [==============================] - 3s 32us/step - loss: 0.2840 - accuracy: 0.9141 - precision: 0.8540 - recall: 0.9815 - auc: 0.9708 - val_loss: 0.0974 - val_accuracy: 0.9141 - val_precision: 0.8540 - val_recall: 0.9815 - val_auc: 0.9708\n",
      "Epoch 14/15\n",
      "104021/104021 [==============================] - 3s 31us/step - loss: 0.2836 - accuracy: 0.9141 - precision: 0.8540 - recall: 0.9815 - auc: 0.9708 - val_loss: 0.0886 - val_accuracy: 0.9141 - val_precision: 0.8540 - val_recall: 0.9815 - val_auc: 0.9708\n",
      "Epoch 15/15\n",
      "104021/104021 [==============================] - 3s 32us/step - loss: 0.2822 - accuracy: 0.9141 - precision: 0.8540 - recall: 0.9815 - auc: 0.9708 - val_loss: 0.1045 - val_accuracy: 0.9141 - val_precision: 0.8540 - val_recall: 0.9815 - val_auc: 0.9708\n"
     ]
    },
    {
     "data": {
      "text/plain": [
       "<keras.callbacks.callbacks.History at 0x1b0a4dee4e0>"
      ]
     },
     "execution_count": 42,
     "metadata": {},
     "output_type": "execute_result"
    }
   ],
   "source": [
    "estimator.fit(X_train,Y_train)"
   ]
  },
  {
   "cell_type": "code",
   "execution_count": 43,
   "metadata": {},
   "outputs": [],
   "source": [
    "from sklearn.metrics import accuracy_score"
   ]
  },
  {
   "cell_type": "code",
   "execution_count": 44,
   "metadata": {
    "scrolled": true
   },
   "outputs": [
    {
     "name": "stdout",
     "output_type": "stream",
     "text": [
      "Train set accuracy           : 91.414994 %\n",
      "Test set accuracy            : 58.905763 %\n"
     ]
    }
   ],
   "source": [
    "test_predictions = estimator.predict(X_test)\n",
    "print(\"Train set accuracy           : {:.6f} %\".format(estimator.score(X_train,Y_train)*100))\n",
    "#\n",
    "print(\"Test set accuracy            : {:.6f} %\".format(accuracy_score(Y_test, test_predictions)*100))"
   ]
  },
  {
   "cell_type": "code",
   "execution_count": 46,
   "metadata": {},
   "outputs": [],
   "source": [
    "from sklearn.metrics import accuracy_score\n",
    "from sklearn.metrics import precision_score\n",
    "from sklearn.metrics import recall_score"
   ]
  },
  {
   "cell_type": "code",
   "execution_count": 47,
   "metadata": {},
   "outputs": [
    {
     "name": "stdout",
     "output_type": "stream",
     "text": [
      "Test set precision           : 47.36886243 %\n",
      "Test set recall              : 96.72917202 %\n"
     ]
    }
   ],
   "source": [
    "print(\"Test set precision           : {:.8f} %\".format(precision_score(Y_test, test_predictions)*100))\n",
    "print(\"Test set recall              : {:.8f} %\".format(recall_score(Y_test, test_predictions)*100))"
   ]
  },
  {
   "cell_type": "code",
   "execution_count": 48,
   "metadata": {},
   "outputs": [],
   "source": [
    "def plot_cm(labels, predictions, p=0.81):\n",
    "    cm = confusion_matrix(labels, predictions > p)\n",
    "    plt.figure(figsize=(5,5))\n",
    "    sns.heatmap(cm, annot=True, fmt=\"d\")\n",
    "    plt.title('Confusion matrix @{:.2f}'.format(p))\n",
    "    plt.ylabel('Actual label')\n",
    "    plt.xlabel('Predicted label')\n",
    "\n",
    "    plt.text(0.3,2.6,'True Negatives  : '+ str(cm[0][0]),size=14)\n",
    "    plt.text(0.3,2.8,'False Positives   : '+ str(cm[0][1]),size=14)\n",
    "    plt.text(0.3,3,'False Negatives : '+ str(cm[1][0]),size=14)\n",
    "    plt.text(0.3,3.2,'True Positives    : '+ str(cm[1][1]),size=14)"
   ]
  },
  {
   "cell_type": "code",
   "execution_count": 50,
   "metadata": {
    "scrolled": false
   },
   "outputs": [
    {
     "data": {
      "image/png": "[encoded data removed]",
      "text/plain": [
       "<Figure size 360x360 with 2 Axes>"
      ]
     },
     "metadata": {
      "needs_background": "light"
     },
     "output_type": "display_data"
    }
   ],
   "source": [
    "plot_cm(Y_test, test_predictions)"
   ]
  },
  {
   "cell_type": "code",
   "execution_count": 52,
   "metadata": {},
   "outputs": [
    {
     "name": "stdout",
     "output_type": "stream",
     "text": [
      "              precision    recall  f1-score   support\n",
      "\n",
      "           0       0.95      0.37      0.53     19795\n",
      "           1       0.47      0.97      0.64     11679\n",
      "\n",
      "    accuracy                           0.59     31474\n",
      "   macro avg       0.71      0.67      0.58     31474\n",
      "weighted avg       0.77      0.59      0.57     31474\n",
      "\n"
     ]
    }
   ],
   "source": [
    "print(classification_report(Y_test, test_predictions))"
   ]
  },
  {
   "cell_type": "code",
   "execution_count": 31,
   "metadata": {},
   "outputs": [
    {
     "data": {
      "text/plain": [
       "(175468, 164)"
      ]
     },
     "execution_count": 31,
     "metadata": {},
     "output_type": "execute_result"
    }
   ],
   "source": [
    "x = pd.DataFrame(X_train)"
   ]
  },
  {
   "cell_type": "code",
   "execution_count": 29,
   "metadata": {},
   "outputs": [
    {
     "data": {
      "text/html": [
       "<div>\n",
       "<style scoped>\n",
       "    .dataframe tbody tr th:only-of-type {\n",
       "        vertical-align: middle;\n",
       "    }\n",
       "\n",
       "    .dataframe tbody tr th {\n",
       "        vertical-align: top;\n",
       "    }\n",
       "\n",
       "    .dataframe thead th {\n",
       "        text-align: right;\n",
       "    }\n",
       "</style>\n",
       "<table border=\"1\" class=\"dataframe\">\n",
       "  <thead>\n",
       "    <tr style=\"text-align: right;\">\n",
       "      <th></th>\n",
       "      <th>label</th>\n",
       "    </tr>\n",
       "  </thead>\n",
       "  <tbody>\n",
       "    <tr>\n",
       "      <th>0</th>\n",
       "      <td>0</td>\n",
       "    </tr>\n",
       "    <tr>\n",
       "      <th>1</th>\n",
       "      <td>0</td>\n",
       "    </tr>\n",
       "    <tr>\n",
       "      <th>2</th>\n",
       "      <td>0</td>\n",
       "    </tr>\n",
       "    <tr>\n",
       "      <th>3</th>\n",
       "      <td>0</td>\n",
       "    </tr>\n",
       "    <tr>\n",
       "      <th>4</th>\n",
       "      <td>0</td>\n",
       "    </tr>\n",
       "    <tr>\n",
       "      <th>...</th>\n",
       "      <td>...</td>\n",
       "    </tr>\n",
       "    <tr>\n",
       "      <th>175463</th>\n",
       "      <td>0</td>\n",
       "    </tr>\n",
       "    <tr>\n",
       "      <th>175464</th>\n",
       "      <td>0</td>\n",
       "    </tr>\n",
       "    <tr>\n",
       "      <th>175465</th>\n",
       "      <td>0</td>\n",
       "    </tr>\n",
       "    <tr>\n",
       "      <th>175466</th>\n",
       "      <td>0</td>\n",
       "    </tr>\n",
       "    <tr>\n",
       "      <th>175467</th>\n",
       "      <td>0</td>\n",
       "    </tr>\n",
       "  </tbody>\n",
       "</table>\n",
       "<p>175468 rows × 1 columns</p>\n",
       "</div>"
      ],
      "text/plain": [
       "        label\n",
       "0           0\n",
       "1           0\n",
       "2           0\n",
       "3           0\n",
       "4           0\n",
       "...       ...\n",
       "175463      0\n",
       "175464      0\n",
       "175465      0\n",
       "175466      0\n",
       "175467      0\n",
       "\n",
       "[175468 rows x 1 columns]"
      ]
     },
     "execution_count": 29,
     "metadata": {},
     "output_type": "execute_result"
    }
   ],
   "source": [
    "y = pd.DataFrame(Y_train)\n",
    "y.reset_index(drop=True,inplace=True)"
   ]
  },
  {
   "cell_type": "code",
   "execution_count": 32,
   "metadata": {},
   "outputs": [],
   "source": [
    "pca = PCA(n_components=2)\n",
    "principalComponents = pca.fit_transform(x)\n",
    "principalDf = pd.DataFrame(data = principalComponents, columns = ['PC1', 'PC2'])\n",
    "y['label'] = y['label'].map( {0:'normal', 1:'anomaly'} )\n",
    "finalDf = pd.concat([principalDf, y], axis = 1)"
   ]
  },
  {
   "cell_type": "code",
   "execution_count": 33,
   "metadata": {},
   "outputs": [
    {
     "data": {
      "image/png": "[encoded data removed]",
      "text/plain": [
       "<Figure size 576x576 with 1 Axes>"
      ]
     },
     "metadata": {
      "needs_background": "light"
     },
     "output_type": "display_data"
    }
   ],
   "source": [
    "fig = plt.figure(figsize = (8,8))\n",
    "ax = fig.add_subplot(1,1,1) \n",
    "ax.set_xlabel('PC1', fontsize = 15)\n",
    "ax.set_ylabel('PC2', fontsize = 15)\n",
    "ax.set_title('2 Component PCA', fontsize = 20)\n",
    "\n",
    "\n",
    "targets = ['normal', 'anomaly']\n",
    "colors = ['r', 'b']\n",
    "for target, color in zip(targets,colors):\n",
    "    indicesToKeep = finalDf['label'] == target\n",
    "    ax.scatter(finalDf.loc[indicesToKeep, 'PC1'], \n",
    "                  finalDf.loc[indicesToKeep, 'PC2'],  \n",
    "                  c = color, \n",
    "                  s = 50)\n",
    "ax.legend(targets)\n",
    "ax.grid()"
   ]
  }
 ],
 "metadata": {
  "kernelspec": {
   "display_name": "Python 3",
   "language": "python",
   "name": "python3"
  },
  "language_info": {
   "codemirror_mode": {
    "name": "ipython",
    "version": 3
   },
   "file_extension": ".py",
   "mimetype": "text/x-python",
   "name": "python",
   "nbconvert_exporter": "python",
   "pygments_lexer": "ipython3",
   "version": "3.7.3"
  }
 },
 "nbformat": 4,
 "nbformat_minor": 4
}
