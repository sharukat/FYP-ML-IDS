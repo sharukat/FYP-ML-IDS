{
 "cells": [
  {
   "cell_type": "markdown",
   "metadata": {},
   "source": [
    "# DNN - UNSW"
   ]
  },
  {
   "cell_type": "code",
   "execution_count": 1,
   "metadata": {},
   "outputs": [
    {
     "name": "stdout",
     "output_type": "stream",
     "text": [
      "C:\\Users\\Sharuka Thirimanne\\Desktop\\FYP-ML-IDS\n"
     ]
    }
   ],
   "source": [
    "cd C:\\\\Users\\\\Sharuka Thirimanne\\\\Desktop\\\\FYP-ML-IDS"
   ]
  },
  {
   "cell_type": "code",
   "execution_count": 2,
   "metadata": {},
   "outputs": [
    {
     "name": "stderr",
     "output_type": "stream",
     "text": [
      "c:\\users\\sharuka thirimanne\\appdata\\local\\programs\\python\\python37\\lib\\site-packages\\tensorboard\\compat\\tensorflow_stub\\dtypes.py:541: FutureWarning: Passing (type, 1) or '1type' as a synonym of type is deprecated; in a future version of numpy, it will be understood as (type, (1,)) / '(1,)type'.\n",
      "  _np_qint8 = np.dtype([(\"qint8\", np.int8, 1)])\n",
      "c:\\users\\sharuka thirimanne\\appdata\\local\\programs\\python\\python37\\lib\\site-packages\\tensorboard\\compat\\tensorflow_stub\\dtypes.py:542: FutureWarning: Passing (type, 1) or '1type' as a synonym of type is deprecated; in a future version of numpy, it will be understood as (type, (1,)) / '(1,)type'.\n",
      "  _np_quint8 = np.dtype([(\"quint8\", np.uint8, 1)])\n",
      "c:\\users\\sharuka thirimanne\\appdata\\local\\programs\\python\\python37\\lib\\site-packages\\tensorboard\\compat\\tensorflow_stub\\dtypes.py:543: FutureWarning: Passing (type, 1) or '1type' as a synonym of type is deprecated; in a future version of numpy, it will be understood as (type, (1,)) / '(1,)type'.\n",
      "  _np_qint16 = np.dtype([(\"qint16\", np.int16, 1)])\n",
      "c:\\users\\sharuka thirimanne\\appdata\\local\\programs\\python\\python37\\lib\\site-packages\\tensorboard\\compat\\tensorflow_stub\\dtypes.py:544: FutureWarning: Passing (type, 1) or '1type' as a synonym of type is deprecated; in a future version of numpy, it will be understood as (type, (1,)) / '(1,)type'.\n",
      "  _np_quint16 = np.dtype([(\"quint16\", np.uint16, 1)])\n",
      "c:\\users\\sharuka thirimanne\\appdata\\local\\programs\\python\\python37\\lib\\site-packages\\tensorboard\\compat\\tensorflow_stub\\dtypes.py:545: FutureWarning: Passing (type, 1) or '1type' as a synonym of type is deprecated; in a future version of numpy, it will be understood as (type, (1,)) / '(1,)type'.\n",
      "  _np_qint32 = np.dtype([(\"qint32\", np.int32, 1)])\n",
      "c:\\users\\sharuka thirimanne\\appdata\\local\\programs\\python\\python37\\lib\\site-packages\\tensorboard\\compat\\tensorflow_stub\\dtypes.py:550: FutureWarning: Passing (type, 1) or '1type' as a synonym of type is deprecated; in a future version of numpy, it will be understood as (type, (1,)) / '(1,)type'.\n",
      "  np_resource = np.dtype([(\"resource\", np.ubyte, 1)])\n",
      "Using TensorFlow backend.\n"
     ]
    }
   ],
   "source": [
    "import sklearn\n",
    "import numpy as np\n",
    "import pandas as pd\n",
    "import seaborn as sns\n",
    "import tensorflow as tf\n",
    "import matplotlib as mpl\n",
    "import matplotlib.pyplot as plt\n",
    "\n",
    "from tensorflow import keras\n",
    "from keras.layers import Dense\n",
    "from keras.models import Sequential\n",
    "from sklearn.decomposition import PCA\n",
    "from tensorflow.keras import regularizers\n",
    "from tensorflow.keras import Model, layers\n",
    "from sklearn.model_selection import cross_val_score\n",
    "from sklearn.model_selection import train_test_split\n",
    "from keras.wrappers.scikit_learn import KerasClassifier\n",
    "from sklearn.model_selection import GridSearchCV\n",
    "from sklearn.metrics import accuracy_score, precision_score, recall_score, classification_report, confusion_matrix,f1_score\n"
   ]
  },
  {
   "cell_type": "code",
   "execution_count": 3,
   "metadata": {},
   "outputs": [],
   "source": [
    "mpl.rcParams['figure.figsize'] = (12, 10)\n",
    "colors = plt.rcParams['axes.prop_cycle'].by_key()['color']"
   ]
  },
  {
   "cell_type": "code",
   "execution_count": 4,
   "metadata": {
    "scrolled": true
   },
   "outputs": [],
   "source": [
    "def load_train_dataset():\n",
    "    df_train = pd.read_csv('USNW_train-set.csv')\n",
    "\n",
    "    limit1 = df_train.shape[1]-1\n",
    "    \n",
    "    X_train = df_train.iloc[:,0:limit1]\n",
    "    Y_train = df_train.iloc[:,limit1]\n",
    "    \n",
    "    return  X_train, Y_train,  df_train\n",
    "\n",
    "X_train, Y_train,  df_train = load_train_dataset()"
   ]
  },
  {
   "cell_type": "code",
   "execution_count": 5,
   "metadata": {},
   "outputs": [],
   "source": [
    "def load_test_dataset():\n",
    "    df_test = pd.read_csv('USNW_test-set.csv')\n",
    "    \n",
    "    limit2 = df_test.shape[1]-1\n",
    "    \n",
    "    X_test = df_test.iloc[:,0:limit2]\n",
    "    Y_test = df_test.iloc[:,limit2]\n",
    "    \n",
    "    return X_test, Y_test,df_test\n",
    "\n",
    "X_test, Y_test ,df_test = load_test_dataset()"
   ]
  },
  {
   "cell_type": "code",
   "execution_count": 6,
   "metadata": {},
   "outputs": [],
   "source": [
    "METRICS = [ \n",
    "      keras.metrics.BinaryAccuracy(name='accuracy'),\n",
    "      keras.metrics.Precision(name='precision'),\n",
    "      keras.metrics.Recall(name='recall'),\n",
    "      keras.metrics.AUC(name='auc'),\n",
    "]"
   ]
  },
  {
   "cell_type": "code",
   "execution_count": 7,
   "metadata": {},
   "outputs": [],
   "source": [
    "early_stopping = tf.keras.callbacks.EarlyStopping(\n",
    "    monitor='accuracy', \n",
    "    verbose=1,\n",
    "    patience=5,\n",
    "    mode='max',\n",
    "    min_delta = 0.0001,\n",
    "    restore_best_weights=True)"
   ]
  },
  {
   "cell_type": "code",
   "execution_count": 8,
   "metadata": {},
   "outputs": [],
   "source": [
    "def neural_network():\n",
    "    #Neural Network Model\n",
    "    model = Sequential()\n",
    "    model.add(Dense(256, input_dim=65, activation='relu',kernel_initializer='glorot_uniform',bias_initializer='zeros'))\n",
    "    model.add(Dense(256, activation='relu'))\n",
    "    model.add(Dense(256, activation='relu'))\n",
    "    model.add(Dense(256, activation='relu'))\n",
    "    model.add(Dense(256, activation='relu'))\n",
    "    model.add(Dense(256, activation='relu'))\n",
    "    model.add(Dense(256, activation='relu'))\n",
    "    model.add(Dense(256, activation='relu'))\n",
    "    model.add(Dense(256, activation='relu'))\n",
    "    model.add(Dense(256, activation='relu'))\n",
    "    model.add(Dense(256, activation='relu'))\n",
    "    model.add(Dense(256, activation='relu'))\n",
    "\n",
    "    model.add(Dense(1, activation='sigmoid'))\n",
    "\n",
    "    model.compile(loss='binary_crossentropy', optimizer='sgd', metrics = METRICS)\n",
    "    \n",
    "    return model\n"
   ]
  },
  {
   "cell_type": "code",
   "execution_count": 9,
   "metadata": {
    "scrolled": true
   },
   "outputs": [
    {
     "name": "stdout",
     "output_type": "stream",
     "text": [
      "Train on 88480 samples, validate on 9832 samples\n",
      "Epoch 1/200\n",
      "88480/88480 [==============================] - 13s 146us/step - loss: 0.5000 - accuracy: 0.6231 - precision: 0.7005 - recall: 0.2158 - auc: 0.7409 - val_loss: 0.2290 - val_accuracy: 0.7525 - val_precision: 0.8171 - val_recall: 0.6131 - val_auc: 0.8762\n",
      "Epoch 2/200\n",
      "88480/88480 [==============================] - 12s 137us/step - loss: 0.2548 - accuracy: 0.8002 - precision: 0.8288 - recall: 0.7412 - auc: 0.9014 - val_loss: 0.6438 - val_accuracy: 0.8173 - val_precision: 0.8276 - val_recall: 0.7894 - val_auc: 0.9083\n",
      "Epoch 3/200\n",
      "88480/88480 [==============================] - 12s 137us/step - loss: 0.2333 - accuracy: 0.8236 - precision: 0.8285 - recall: 0.8075 - auc: 0.9122 - val_loss: 0.1098 - val_accuracy: 0.8371 - val_precision: 0.8321 - val_recall: 0.8377 - val_auc: 0.9223\n",
      "Epoch 4/200\n",
      "88480/88480 [==============================] - 12s 138us/step - loss: 0.2226 - accuracy: 0.8462 - precision: 0.8356 - recall: 0.8568 - auc: 0.9292 - val_loss: 0.0717 - val_accuracy: 0.8534 - val_precision: 0.8380 - val_recall: 0.8714 - val_auc: 0.9347\n",
      "Epoch 5/200\n",
      "88480/88480 [==============================] - 12s 136us/step - loss: 0.2177 - accuracy: 0.8584 - precision: 0.8400 - recall: 0.8816 - auc: 0.9388 - val_loss: 0.1040 - val_accuracy: 0.8629 - val_precision: 0.8418 - val_recall: 0.8903 - val_auc: 0.9421\n",
      "Epoch 6/200\n",
      "88480/88480 [==============================] - 12s 139us/step - loss: 0.2148 - accuracy: 0.8664 - precision: 0.8433 - recall: 0.8970 - auc: 0.9446 - val_loss: 0.2638 - val_accuracy: 0.8687 - val_precision: 0.8445 - val_recall: 0.9011 - val_auc: 0.9462\n",
      "Epoch 7/200\n",
      "88480/88480 [==============================] - 13s 142us/step - loss: 0.2119 - accuracy: 0.8705 - precision: 0.8456 - recall: 0.9041 - auc: 0.9475 - val_loss: 0.0690 - val_accuracy: 0.8728 - val_precision: 0.8466 - val_recall: 0.9084 - val_auc: 0.9493\n",
      "Epoch 8/200\n",
      "88480/88480 [==============================] - 13s 142us/step - loss: 0.2106 - accuracy: 0.8747 - precision: 0.8475 - recall: 0.9119 - auc: 0.9508 - val_loss: 0.0941 - val_accuracy: 0.8766 - val_precision: 0.8485 - val_recall: 0.9151 - val_auc: 0.9522\n",
      "Epoch 9/200\n",
      "88480/88480 [==============================] - 12s 141us/step - loss: 0.2090 - accuracy: 0.8781 - precision: 0.8494 - recall: 0.9175 - auc: 0.9534 - val_loss: 0.2519 - val_accuracy: 0.8792 - val_precision: 0.8501 - val_recall: 0.9193 - val_auc: 0.9540\n",
      "Epoch 10/200\n",
      "88480/88480 [==============================] - 12s 137us/step - loss: 0.2076 - accuracy: 0.8802 - precision: 0.8506 - recall: 0.9208 - auc: 0.9545 - val_loss: 0.2934 - val_accuracy: 0.8808 - val_precision: 0.8512 - val_recall: 0.9215 - val_auc: 0.9550\n",
      "Epoch 11/200\n",
      "88480/88480 [==============================] - 13s 142us/step - loss: 0.2065 - accuracy: 0.8813 - precision: 0.8516 - recall: 0.9220 - auc: 0.9553 - val_loss: 0.1010 - val_accuracy: 0.8823 - val_precision: 0.8523 - val_recall: 0.9237 - val_auc: 0.9561\n",
      "Epoch 12/200\n",
      "88480/88480 [==============================] - 13s 143us/step - loss: 0.2060 - accuracy: 0.8833 - precision: 0.8529 - recall: 0.9252 - auc: 0.9568 - val_loss: 0.1588 - val_accuracy: 0.8841 - val_precision: 0.8533 - val_recall: 0.9264 - val_auc: 0.9574\n",
      "Epoch 13/200\n",
      "88480/88480 [==============================] - 13s 144us/step - loss: 0.2048 - accuracy: 0.8848 - precision: 0.8538 - recall: 0.9276 - auc: 0.9578 - val_loss: 0.2158 - val_accuracy: 0.8854 - val_precision: 0.8542 - val_recall: 0.9282 - val_auc: 0.9582\n",
      "Epoch 14/200\n",
      "88480/88480 [==============================] - 13s 144us/step - loss: 0.2048 - accuracy: 0.8858 - precision: 0.8545 - recall: 0.9288 - auc: 0.9585 - val_loss: 0.1546 - val_accuracy: 0.8863 - val_precision: 0.8550 - val_recall: 0.9295 - val_auc: 0.9590\n",
      "Epoch 15/200\n",
      "88480/88480 [==============================] - 12s 140us/step - loss: 0.2036 - accuracy: 0.8869 - precision: 0.8554 - recall: 0.9302 - auc: 0.9594 - val_loss: 0.0984 - val_accuracy: 0.8875 - val_precision: 0.8559 - val_recall: 0.9311 - val_auc: 0.9598\n",
      "Epoch 16/200\n",
      "88480/88480 [==============================] - 13s 144us/step - loss: 0.2035 - accuracy: 0.8881 - precision: 0.8563 - recall: 0.9318 - auc: 0.9602 - val_loss: 0.2932 - val_accuracy: 0.8882 - val_precision: 0.8565 - val_recall: 0.9318 - val_auc: 0.9604\n",
      "Epoch 17/200\n",
      "88480/88480 [==============================] - 13s 144us/step - loss: 0.2027 - accuracy: 0.8883 - precision: 0.8568 - recall: 0.9316 - auc: 0.9604 - val_loss: 0.1668 - val_accuracy: 0.8886 - val_precision: 0.8571 - val_recall: 0.9319 - val_auc: 0.9607\n",
      "Epoch 18/200\n",
      "88480/88480 [==============================] - 13s 142us/step - loss: 0.2018 - accuracy: 0.8889 - precision: 0.8575 - recall: 0.9321 - auc: 0.9610 - val_loss: 0.1500 - val_accuracy: 0.8894 - val_precision: 0.8578 - val_recall: 0.9327 - val_auc: 0.9613\n",
      "Epoch 19/200\n",
      "88480/88480 [==============================] - 12s 141us/step - loss: 0.2022 - accuracy: 0.8898 - precision: 0.8581 - recall: 0.9333 - auc: 0.9615 - val_loss: 0.0764 - val_accuracy: 0.8902 - val_precision: 0.8585 - val_recall: 0.9338 - val_auc: 0.9619\n",
      "Epoch 20/200\n",
      "88480/88480 [==============================] - 13s 143us/step - loss: 0.2010 - accuracy: 0.8906 - precision: 0.8588 - recall: 0.9344 - auc: 0.9622 - val_loss: 0.1424 - val_accuracy: 0.8909 - val_precision: 0.8591 - val_recall: 0.9346 - val_auc: 0.9624\n",
      "Epoch 21/200\n",
      "88480/88480 [==============================] - 12s 140us/step - loss: 0.2011 - accuracy: 0.8912 - precision: 0.8594 - recall: 0.9350 - auc: 0.9626 - val_loss: 0.0701 - val_accuracy: 0.8916 - val_precision: 0.8597 - val_recall: 0.9353 - val_auc: 0.9629\n",
      "Epoch 22/200\n",
      "88480/88480 [==============================] - 12s 139us/step - loss: 0.2005 - accuracy: 0.8920 - precision: 0.8600 - recall: 0.9358 - auc: 0.9632 - val_loss: 0.2069 - val_accuracy: 0.8922 - val_precision: 0.8603 - val_recall: 0.9359 - val_auc: 0.9634\n",
      "Epoch 23/200\n",
      "88480/88480 [==============================] - 12s 140us/step - loss: 0.2004 - accuracy: 0.8923 - precision: 0.8605 - recall: 0.9359 - auc: 0.9635 - val_loss: 0.1963 - val_accuracy: 0.8925 - val_precision: 0.8607 - val_recall: 0.9360 - val_auc: 0.9636\n",
      "Epoch 24/200\n",
      "88480/88480 [==============================] - 12s 135us/step - loss: 0.2004 - accuracy: 0.8927 - precision: 0.8610 - recall: 0.9361 - auc: 0.9637 - val_loss: 0.1421 - val_accuracy: 0.8930 - val_precision: 0.8612 - val_recall: 0.9364 - val_auc: 0.9639\n",
      "Epoch 25/200\n",
      "88480/88480 [==============================] - 12s 136us/step - loss: 0.1997 - accuracy: 0.8932 - precision: 0.8614 - recall: 0.9366 - auc: 0.9641 - val_loss: 0.1640 - val_accuracy: 0.8934 - val_precision: 0.8616 - val_recall: 0.9368 - val_auc: 0.9642\n",
      "Epoch 26/200\n",
      "88480/88480 [==============================] - 12s 138us/step - loss: 0.1993 - accuracy: 0.8936 - precision: 0.8618 - recall: 0.9370 - auc: 0.9644 - val_loss: 0.1622 - val_accuracy: 0.8938 - val_precision: 0.8621 - val_recall: 0.9371 - val_auc: 0.9645\n",
      "Epoch 27/200\n",
      "88480/88480 [==============================] - 12s 141us/step - loss: 0.1992 - accuracy: 0.8940 - precision: 0.8623 - recall: 0.9373 - auc: 0.9646 - val_loss: 0.0629 - val_accuracy: 0.8943 - val_precision: 0.8625 - val_recall: 0.9376 - val_auc: 0.9648\n",
      "Epoch 28/200\n",
      "88480/88480 [==============================] - 12s 139us/step - loss: 0.1992 - accuracy: 0.8945 - precision: 0.8627 - recall: 0.9379 - auc: 0.9650 - val_loss: 0.1761 - val_accuracy: 0.8946 - val_precision: 0.8629 - val_recall: 0.9380 - val_auc: 0.9651\n",
      "Epoch 29/200\n",
      "88480/88480 [==============================] - 12s 137us/step - loss: 0.1986 - accuracy: 0.8948 - precision: 0.8630 - recall: 0.9381 - auc: 0.9652 - val_loss: 0.1866 - val_accuracy: 0.8949 - val_precision: 0.8632 - val_recall: 0.9381 - val_auc: 0.9653\n",
      "Epoch 30/200\n",
      "88480/88480 [==============================] - 12s 138us/step - loss: 0.1984 - accuracy: 0.8950 - precision: 0.8633 - recall: 0.9381 - auc: 0.9654 - val_loss: 0.1391 - val_accuracy: 0.8952 - val_precision: 0.8636 - val_recall: 0.9383 - val_auc: 0.9655\n",
      "Epoch 31/200\n",
      "88480/88480 [==============================] - 12s 136us/step - loss: 0.1980 - accuracy: 0.8954 - precision: 0.8638 - recall: 0.9384 - auc: 0.9656 - val_loss: 0.1919 - val_accuracy: 0.8955 - val_precision: 0.8639 - val_recall: 0.9384 - val_auc: 0.9657\n"
     ]
    },
    {
     "name": "stdout",
     "output_type": "stream",
     "text": [
      "Epoch 32/200\n",
      "88480/88480 [==============================] - 12s 138us/step - loss: 0.1980 - accuracy: 0.8956 - precision: 0.8641 - recall: 0.9385 - auc: 0.9658 - val_loss: 0.1964 - val_accuracy: 0.8956 - val_precision: 0.8642 - val_recall: 0.9384 - val_auc: 0.9658\n",
      "Epoch 33/200\n",
      "88480/88480 [==============================] - 12s 141us/step - loss: 0.1976 - accuracy: 0.8957 - precision: 0.8644 - recall: 0.9383 - auc: 0.9659 - val_loss: 0.1865 - val_accuracy: 0.8958 - val_precision: 0.8646 - val_recall: 0.9383 - val_auc: 0.9660\n",
      "Epoch 34/200\n",
      "88480/88480 [==============================] - 13s 144us/step - loss: 0.1973 - accuracy: 0.8959 - precision: 0.8647 - recall: 0.9383 - auc: 0.9660 - val_loss: 0.1319 - val_accuracy: 0.8960 - val_precision: 0.8648 - val_recall: 0.9384 - val_auc: 0.9661\n",
      "Epoch 35/200\n",
      "88480/88480 [==============================] - 12s 141us/step - loss: 0.1969 - accuracy: 0.8961 - precision: 0.8650 - recall: 0.9384 - auc: 0.9662 - val_loss: 0.1109 - val_accuracy: 0.8963 - val_precision: 0.8652 - val_recall: 0.9385 - val_auc: 0.9663\n",
      "Epoch 36/200\n",
      "88480/88480 [==============================] - 12s 141us/step - loss: 0.1971 - accuracy: 0.8964 - precision: 0.8653 - recall: 0.9387 - auc: 0.9665 - val_loss: 0.1584 - val_accuracy: 0.8965 - val_precision: 0.8654 - val_recall: 0.9387 - val_auc: 0.9665\n",
      "Epoch 37/200\n",
      "88480/88480 [==============================] - 13s 142us/step - loss: 0.1964 - accuracy: 0.8966 - precision: 0.8656 - recall: 0.9387 - auc: 0.9666 - val_loss: 0.1446 - val_accuracy: 0.8967 - val_precision: 0.8657 - val_recall: 0.9387 - val_auc: 0.9667\n",
      "Epoch 38/200\n",
      "88480/88480 [==============================] - 13s 143us/step - loss: 0.1962 - accuracy: 0.8968 - precision: 0.8659 - recall: 0.9387 - auc: 0.9668 - val_loss: 0.1589 - val_accuracy: 0.8969 - val_precision: 0.8660 - val_recall: 0.9388 - val_auc: 0.9669\n",
      "Epoch 39/200\n",
      "88480/88480 [==============================] - 13s 142us/step - loss: 0.1962 - accuracy: 0.8970 - precision: 0.8662 - recall: 0.9388 - auc: 0.9669 - val_loss: 0.1586 - val_accuracy: 0.8971 - val_precision: 0.8663 - val_recall: 0.9388 - val_auc: 0.9670\n",
      "Epoch 40/200\n",
      "88480/88480 [==============================] - 13s 143us/step - loss: 0.1963 - accuracy: 0.8972 - precision: 0.8664 - recall: 0.9387 - auc: 0.9671 - val_loss: 0.2715 - val_accuracy: 0.8971 - val_precision: 0.8665 - val_recall: 0.9386 - val_auc: 0.9671\n",
      "Epoch 41/200\n",
      "88480/88480 [==============================] - 13s 143us/step - loss: 0.1958 - accuracy: 0.8971 - precision: 0.8667 - recall: 0.9383 - auc: 0.9671 - val_loss: 0.1314 - val_accuracy: 0.8972 - val_precision: 0.8668 - val_recall: 0.9384 - val_auc: 0.9672\n",
      "Epoch 42/200\n",
      "88480/88480 [==============================] - 13s 142us/step - loss: 0.1954 - accuracy: 0.8973 - precision: 0.8669 - recall: 0.9385 - auc: 0.9672 - val_loss: 0.1060 - val_accuracy: 0.8975 - val_precision: 0.8671 - val_recall: 0.9386 - val_auc: 0.9673\n",
      "Epoch 43/200\n",
      "88480/88480 [==============================] - 13s 142us/step - loss: 0.1952 - accuracy: 0.8976 - precision: 0.8672 - recall: 0.9386 - auc: 0.9674 - val_loss: 0.1515 - val_accuracy: 0.8977 - val_precision: 0.8674 - val_recall: 0.9386 - val_auc: 0.9675\n",
      "Epoch 44/200\n",
      "88480/88480 [==============================] - 13s 149us/step - loss: 0.1952 - accuracy: 0.8977 - precision: 0.8675 - recall: 0.9386 - auc: 0.9675 - val_loss: 0.1952 - val_accuracy: 0.8978 - val_precision: 0.8676 - val_recall: 0.9385 - val_auc: 0.9676\n",
      "Epoch 45/200\n",
      "88480/88480 [==============================] - 14s 155us/step - loss: 0.1947 - accuracy: 0.8978 - precision: 0.8677 - recall: 0.9385 - auc: 0.9676 - val_loss: 0.0655 - val_accuracy: 0.8979 - val_precision: 0.8679 - val_recall: 0.9386 - val_auc: 0.9677\n",
      "Epoch 46/200\n",
      "88480/88480 [==============================] - 13s 152us/step - loss: 0.1950 - accuracy: 0.8981 - precision: 0.8680 - recall: 0.9387 - auc: 0.9678 - val_loss: 0.1213 - val_accuracy: 0.8982 - val_precision: 0.8681 - val_recall: 0.9388 - val_auc: 0.9679\n",
      "Epoch 47/200\n",
      "88480/88480 [==============================] - 13s 147us/step - loss: 0.1942 - accuracy: 0.8983 - precision: 0.8682 - recall: 0.9389 - auc: 0.9680 - val_loss: 0.1252 - val_accuracy: 0.8984 - val_precision: 0.8684 - val_recall: 0.9389 - val_auc: 0.9680\n",
      "Epoch 48/200\n",
      "88480/88480 [==============================] - 13s 150us/step - loss: 0.1943 - accuracy: 0.8985 - precision: 0.8685 - recall: 0.9389 - auc: 0.9681 - val_loss: 0.1796 - val_accuracy: 0.8985 - val_precision: 0.8686 - val_recall: 0.9389 - val_auc: 0.9681\n",
      "Epoch 49/200\n",
      "88480/88480 [==============================] - 13s 146us/step - loss: 0.1937 - accuracy: 0.8986 - precision: 0.8687 - recall: 0.9389 - auc: 0.9681 - val_loss: 0.1674 - val_accuracy: 0.8987 - val_precision: 0.8688 - val_recall: 0.9389 - val_auc: 0.9682\n",
      "Epoch 50/200\n",
      "88480/88480 [==============================] - 13s 144us/step - loss: 0.1939 - accuracy: 0.8988 - precision: 0.8690 - recall: 0.9389 - auc: 0.9682 - val_loss: 0.1079 - val_accuracy: 0.8988 - val_precision: 0.8691 - val_recall: 0.9389 - val_auc: 0.9683\n",
      "Epoch 51/200\n",
      "88480/88480 [==============================] - 13s 142us/step - loss: 0.1935 - accuracy: 0.8989 - precision: 0.8692 - recall: 0.9389 - auc: 0.9684 - val_loss: 0.0732 - val_accuracy: 0.8990 - val_precision: 0.8694 - val_recall: 0.9390 - val_auc: 0.9685\n",
      "Epoch 52/200\n",
      "88480/88480 [==============================] - 12s 139us/step - loss: 0.1940 - accuracy: 0.8991 - precision: 0.8695 - recall: 0.9390 - auc: 0.9685 - val_loss: 0.1566 - val_accuracy: 0.8992 - val_precision: 0.8696 - val_recall: 0.9390 - val_auc: 0.9686\n",
      "Epoch 53/200\n",
      "88480/88480 [==============================] - 12s 138us/step - loss: 0.1933 - accuracy: 0.8992 - precision: 0.8697 - recall: 0.9390 - auc: 0.9686 - val_loss: 0.1272 - val_accuracy: 0.8993 - val_precision: 0.8698 - val_recall: 0.9390 - val_auc: 0.9687\n",
      "Epoch 54/200\n",
      "88480/88480 [==============================] - 13s 142us/step - loss: 0.1934 - accuracy: 0.8994 - precision: 0.8699 - recall: 0.9391 - auc: 0.9687 - val_loss: 0.0764 - val_accuracy: 0.8995 - val_precision: 0.8701 - val_recall: 0.9391 - val_auc: 0.9688\n",
      "Epoch 55/200\n",
      "88480/88480 [==============================] - 13s 142us/step - loss: 0.1930 - accuracy: 0.8996 - precision: 0.8702 - recall: 0.9392 - auc: 0.9689 - val_loss: 0.0908 - val_accuracy: 0.8997 - val_precision: 0.8703 - val_recall: 0.9393 - val_auc: 0.9689\n",
      "Epoch 56/200\n",
      "88480/88480 [==============================] - 13s 145us/step - loss: 0.1927 - accuracy: 0.8998 - precision: 0.8704 - recall: 0.9393 - auc: 0.9690 - val_loss: 0.1084 - val_accuracy: 0.8999 - val_precision: 0.8706 - val_recall: 0.9393 - val_auc: 0.9691\n",
      "Epoch 57/200\n",
      "88480/88480 [==============================] - 13s 145us/step - loss: 0.1932 - accuracy: 0.9000 - precision: 0.8707 - recall: 0.9394 - auc: 0.9691 - val_loss: 0.1768 - val_accuracy: 0.9000 - val_precision: 0.8708 - val_recall: 0.9393 - val_auc: 0.9691\n",
      "Epoch 58/200\n",
      "88480/88480 [==============================] - 12s 141us/step - loss: 0.1925 - accuracy: 0.9001 - precision: 0.8709 - recall: 0.9393 - auc: 0.9692 - val_loss: 0.0969 - val_accuracy: 0.9002 - val_precision: 0.8710 - val_recall: 0.9393 - val_auc: 0.9692\n",
      "Epoch 59/200\n",
      "88480/88480 [==============================] - 13s 143us/step - loss: 0.1927 - accuracy: 0.9003 - precision: 0.8711 - recall: 0.9394 - auc: 0.9693 - val_loss: 0.1036 - val_accuracy: 0.9003 - val_precision: 0.8712 - val_recall: 0.9394 - val_auc: 0.9693\n",
      "Epoch 60/200\n",
      "88480/88480 [==============================] - 13s 149us/step - loss: 0.1922 - accuracy: 0.9004 - precision: 0.8713 - recall: 0.9394 - auc: 0.9694 - val_loss: 0.0788 - val_accuracy: 0.9005 - val_precision: 0.8715 - val_recall: 0.9394 - val_auc: 0.9695\n",
      "Epoch 61/200\n",
      "88480/88480 [==============================] - 13s 150us/step - loss: 0.1916 - accuracy: 0.9006 - precision: 0.8716 - recall: 0.9395 - auc: 0.9695 - val_loss: 0.1643 - val_accuracy: 0.9006 - val_precision: 0.8717 - val_recall: 0.9394 - val_auc: 0.9696\n",
      "Epoch 62/200\n",
      "88480/88480 [==============================] - 13s 151us/step - loss: 0.1920 - accuracy: 0.9007 - precision: 0.8718 - recall: 0.9394 - auc: 0.9696 - val_loss: 0.1090 - val_accuracy: 0.9008 - val_precision: 0.8719 - val_recall: 0.9394 - val_auc: 0.9696\n"
     ]
    },
    {
     "name": "stdout",
     "output_type": "stream",
     "text": [
      "Epoch 63/200\n",
      "88480/88480 [==============================] - 13s 148us/step - loss: 0.1916 - accuracy: 0.9008 - precision: 0.8719 - recall: 0.9395 - auc: 0.9697 - val_loss: 0.1904 - val_accuracy: 0.9009 - val_precision: 0.8720 - val_recall: 0.9394 - val_auc: 0.9697\n",
      "Epoch 64/200\n",
      "88480/88480 [==============================] - 13s 148us/step - loss: 0.1918 - accuracy: 0.9009 - precision: 0.8721 - recall: 0.9393 - auc: 0.9697 - val_loss: 0.1916 - val_accuracy: 0.9009 - val_precision: 0.8722 - val_recall: 0.9393 - val_auc: 0.9697\n",
      "Epoch 65/200\n",
      "88480/88480 [==============================] - 13s 147us/step - loss: 0.1909 - accuracy: 0.9009 - precision: 0.8723 - recall: 0.9392 - auc: 0.9698 - val_loss: 0.1177 - val_accuracy: 0.9010 - val_precision: 0.8724 - val_recall: 0.9392 - val_auc: 0.9698\n",
      "Epoch 66/200\n",
      "88480/88480 [==============================] - 13s 148us/step - loss: 0.1909 - accuracy: 0.9011 - precision: 0.8725 - recall: 0.9392 - auc: 0.9698 - val_loss: 0.1087 - val_accuracy: 0.9011 - val_precision: 0.8726 - val_recall: 0.9392 - val_auc: 0.9699\n",
      "Epoch 67/200\n",
      "88480/88480 [==============================] - 13s 151us/step - loss: 0.1911 - accuracy: 0.9012 - precision: 0.8727 - recall: 0.9392 - auc: 0.9700 - val_loss: 0.1268 - val_accuracy: 0.9012 - val_precision: 0.8728 - val_recall: 0.9392 - val_auc: 0.9700\n",
      "Epoch 68/200\n",
      "88480/88480 [==============================] - 14s 154us/step - loss: 0.1906 - accuracy: 0.9013 - precision: 0.8729 - recall: 0.9391 - auc: 0.9700 - val_loss: 0.1136 - val_accuracy: 0.9013 - val_precision: 0.8730 - val_recall: 0.9391 - val_auc: 0.9701\n",
      "Epoch 69/200\n",
      "88480/88480 [==============================] - 13s 150us/step - loss: 0.1910 - accuracy: 0.9014 - precision: 0.8731 - recall: 0.9390 - auc: 0.9701 - val_loss: 0.1681 - val_accuracy: 0.9014 - val_precision: 0.8732 - val_recall: 0.9390 - val_auc: 0.9701\n",
      "Epoch 70/200\n",
      "88480/88480 [==============================] - 13s 143us/step - loss: 0.1907 - accuracy: 0.9014 - precision: 0.8733 - recall: 0.9390 - auc: 0.9702 - val_loss: 0.1288 - val_accuracy: 0.9015 - val_precision: 0.8734 - val_recall: 0.9390 - val_auc: 0.9702\n",
      "Epoch 71/200\n",
      "88480/88480 [==============================] - 13s 152us/step - loss: 0.1901 - accuracy: 0.9016 - precision: 0.8735 - recall: 0.9390 - auc: 0.9702 - val_loss: 0.1108 - val_accuracy: 0.9016 - val_precision: 0.8736 - val_recall: 0.9390 - val_auc: 0.9703\n",
      "Epoch 72/200\n",
      "88480/88480 [==============================] - 13s 144us/step - loss: 0.1897 - accuracy: 0.9017 - precision: 0.8737 - recall: 0.9389 - auc: 0.9703 - val_loss: 0.1528 - val_accuracy: 0.9017 - val_precision: 0.8738 - val_recall: 0.9389 - val_auc: 0.9703\n",
      "Epoch 73/200\n",
      "88480/88480 [==============================] - 14s 155us/step - loss: 0.1899 - accuracy: 0.9017 - precision: 0.8739 - recall: 0.9389 - auc: 0.9704 - val_loss: 0.1404 - val_accuracy: 0.9018 - val_precision: 0.8740 - val_recall: 0.9389 - val_auc: 0.9704\n",
      "Epoch 74/200\n",
      "88480/88480 [==============================] - 14s 154us/step - loss: 0.1898 - accuracy: 0.9018 - precision: 0.8741 - recall: 0.9388 - auc: 0.9704 - val_loss: 0.1134 - val_accuracy: 0.9019 - val_precision: 0.8741 - val_recall: 0.9388 - val_auc: 0.9705\n",
      "Epoch 75/200\n",
      "88480/88480 [==============================] - 14s 153us/step - loss: 0.1897 - accuracy: 0.9019 - precision: 0.8742 - recall: 0.9387 - auc: 0.9705 - val_loss: 0.1860 - val_accuracy: 0.9019 - val_precision: 0.8743 - val_recall: 0.9387 - val_auc: 0.9705\n",
      "Epoch 76/200\n",
      "88480/88480 [==============================] - 13s 150us/step - loss: 0.1890 - accuracy: 0.9019 - precision: 0.8744 - recall: 0.9386 - auc: 0.9705 - val_loss: 0.1141 - val_accuracy: 0.9020 - val_precision: 0.8745 - val_recall: 0.9386 - val_auc: 0.9706\n",
      "Epoch 77/200\n",
      "88480/88480 [==============================] - 13s 147us/step - loss: 0.1892 - accuracy: 0.9020 - precision: 0.8746 - recall: 0.9385 - auc: 0.9706 - val_loss: 0.0819 - val_accuracy: 0.9021 - val_precision: 0.8747 - val_recall: 0.9385 - val_auc: 0.9707\n",
      "Epoch 78/200\n",
      "88480/88480 [==============================] - 14s 153us/step - loss: 0.1886 - accuracy: 0.9022 - precision: 0.8748 - recall: 0.9386 - auc: 0.9707 - val_loss: 0.1002 - val_accuracy: 0.9022 - val_precision: 0.8749 - val_recall: 0.9386 - val_auc: 0.9707\n",
      "Epoch 79/200\n",
      "88480/88480 [==============================] - 14s 154us/step - loss: 0.1888 - accuracy: 0.9023 - precision: 0.8750 - recall: 0.9386 - auc: 0.9708 - val_loss: 0.1321 - val_accuracy: 0.9023 - val_precision: 0.8751 - val_recall: 0.9385 - val_auc: 0.9708\n",
      "Epoch 80/200\n",
      "88480/88480 [==============================] - 12s 133us/step - loss: 0.1891 - accuracy: 0.9024 - precision: 0.8752 - recall: 0.9385 - auc: 0.9708 - val_loss: 0.1727 - val_accuracy: 0.9024 - val_precision: 0.8752 - val_recall: 0.9384 - val_auc: 0.9709\n",
      "Epoch 81/200\n",
      "88480/88480 [==============================] - 12s 131us/step - loss: 0.1886 - accuracy: 0.9024 - precision: 0.8753 - recall: 0.9384 - auc: 0.9709 - val_loss: 0.1440 - val_accuracy: 0.9025 - val_precision: 0.8754 - val_recall: 0.9383 - val_auc: 0.9709\n",
      "Epoch 82/200\n",
      "88480/88480 [==============================] - 12s 136us/step - loss: 0.1883 - accuracy: 0.9025 - precision: 0.8755 - recall: 0.9383 - auc: 0.9709 - val_loss: 0.1588 - val_accuracy: 0.9025 - val_precision: 0.8756 - val_recall: 0.9382 - val_auc: 0.9710\n",
      "Epoch 83/200\n",
      "88480/88480 [==============================] - 12s 136us/step - loss: 0.1882 - accuracy: 0.9026 - precision: 0.8757 - recall: 0.9382 - auc: 0.9710 - val_loss: 0.1920 - val_accuracy: 0.9026 - val_precision: 0.8758 - val_recall: 0.9381 - val_auc: 0.9710\n",
      "Epoch 84/200\n",
      "88480/88480 [==============================] - 12s 136us/step - loss: 0.1879 - accuracy: 0.9026 - precision: 0.8759 - recall: 0.9380 - auc: 0.9710 - val_loss: 0.2305 - val_accuracy: 0.9026 - val_precision: 0.8759 - val_recall: 0.9379 - val_auc: 0.9710\n",
      "Epoch 85/200\n",
      "88480/88480 [==============================] - 12s 136us/step - loss: 0.1875 - accuracy: 0.9026 - precision: 0.8760 - recall: 0.9378 - auc: 0.9710 - val_loss: 0.2147 - val_accuracy: 0.9026 - val_precision: 0.8761 - val_recall: 0.9377 - val_auc: 0.9710\n",
      "Epoch 86/200\n",
      "88480/88480 [==============================] - 12s 136us/step - loss: 0.1876 - accuracy: 0.9026 - precision: 0.8762 - recall: 0.9376 - auc: 0.9711 - val_loss: 0.1063 - val_accuracy: 0.9027 - val_precision: 0.8763 - val_recall: 0.9376 - val_auc: 0.9711\n",
      "Epoch 87/200\n",
      "88480/88480 [==============================] - 12s 136us/step - loss: 0.1879 - accuracy: 0.9027 - precision: 0.8764 - recall: 0.9376 - auc: 0.9711 - val_loss: 0.1136 - val_accuracy: 0.9028 - val_precision: 0.8764 - val_recall: 0.9376 - val_auc: 0.9712\n",
      "Epoch 88/200\n",
      "88480/88480 [==============================] - 12s 136us/step - loss: 0.1872 - accuracy: 0.9028 - precision: 0.8765 - recall: 0.9376 - auc: 0.9712 - val_loss: 0.0764 - val_accuracy: 0.9029 - val_precision: 0.8766 - val_recall: 0.9376 - val_auc: 0.9712\n",
      "Epoch 89/200\n",
      "88480/88480 [==============================] - 12s 135us/step - loss: 0.1872 - accuracy: 0.9030 - precision: 0.8767 - recall: 0.9376 - auc: 0.9713 - val_loss: 0.2148 - val_accuracy: 0.9030 - val_precision: 0.8768 - val_recall: 0.9376 - val_auc: 0.9713\n",
      "Epoch 90/200\n",
      "88480/88480 [==============================] - 12s 135us/step - loss: 0.1871 - accuracy: 0.9030 - precision: 0.8769 - recall: 0.9374 - auc: 0.9713 - val_loss: 0.1555 - val_accuracy: 0.9030 - val_precision: 0.8769 - val_recall: 0.9374 - val_auc: 0.9713\n",
      "Epoch 91/200\n",
      "88480/88480 [==============================] - 12s 134us/step - loss: 0.1870 - accuracy: 0.9030 - precision: 0.8770 - recall: 0.9373 - auc: 0.9713 - val_loss: 0.1368 - val_accuracy: 0.9030 - val_precision: 0.8771 - val_recall: 0.9373 - val_auc: 0.9714\n",
      "Epoch 92/200\n",
      "88480/88480 [==============================] - 12s 131us/step - loss: 0.1864 - accuracy: 0.9031 - precision: 0.8772 - recall: 0.9373 - auc: 0.9714 - val_loss: 0.1451 - val_accuracy: 0.9031 - val_precision: 0.8773 - val_recall: 0.9372 - val_auc: 0.9714\n",
      "Epoch 93/200\n",
      "88480/88480 [==============================] - 12s 131us/step - loss: 0.1869 - accuracy: 0.9031 - precision: 0.8774 - recall: 0.9372 - auc: 0.9714 - val_loss: 0.1156 - val_accuracy: 0.9032 - val_precision: 0.8775 - val_recall: 0.9371 - val_auc: 0.9715\n"
     ]
    },
    {
     "name": "stdout",
     "output_type": "stream",
     "text": [
      "Epoch 94/200\n",
      "88480/88480 [==============================] - 12s 131us/step - loss: 0.1866 - accuracy: 0.9032 - precision: 0.8775 - recall: 0.9371 - auc: 0.9715 - val_loss: 0.0934 - val_accuracy: 0.9033 - val_precision: 0.8776 - val_recall: 0.9371 - val_auc: 0.9715\n",
      "Epoch 95/200\n",
      "88480/88480 [==============================] - 12s 131us/step - loss: 0.1862 - accuracy: 0.9033 - precision: 0.8777 - recall: 0.9371 - auc: 0.9716 - val_loss: 0.0928 - val_accuracy: 0.9034 - val_precision: 0.8778 - val_recall: 0.9371 - val_auc: 0.9716\n",
      "Epoch 96/200\n",
      "88480/88480 [==============================] - 12s 131us/step - loss: 0.1860 - accuracy: 0.9034 - precision: 0.8779 - recall: 0.9371 - auc: 0.9716 - val_loss: 0.1378 - val_accuracy: 0.9035 - val_precision: 0.8780 - val_recall: 0.9371 - val_auc: 0.9717\n",
      "Epoch 97/200\n",
      "88480/88480 [==============================] - 12s 133us/step - loss: 0.1861 - accuracy: 0.9035 - precision: 0.8781 - recall: 0.9371 - auc: 0.9717 - val_loss: 0.1636 - val_accuracy: 0.9035 - val_precision: 0.8781 - val_recall: 0.9370 - val_auc: 0.9717\n",
      "Epoch 98/200\n",
      "88480/88480 [==============================] - 12s 132us/step - loss: 0.1860 - accuracy: 0.9036 - precision: 0.8782 - recall: 0.9370 - auc: 0.9717 - val_loss: 0.1461 - val_accuracy: 0.9036 - val_precision: 0.8783 - val_recall: 0.9369 - val_auc: 0.9717\n",
      "Epoch 99/200\n",
      "88480/88480 [==============================] - 12s 131us/step - loss: 0.1859 - accuracy: 0.9036 - precision: 0.8784 - recall: 0.9369 - auc: 0.9718 - val_loss: 0.1258 - val_accuracy: 0.9037 - val_precision: 0.8785 - val_recall: 0.9368 - val_auc: 0.9718\n",
      "Epoch 100/200\n",
      "88480/88480 [==============================] - 12s 135us/step - loss: 0.1856 - accuracy: 0.9037 - precision: 0.8786 - recall: 0.9368 - auc: 0.9718 - val_loss: 0.0777 - val_accuracy: 0.9037 - val_precision: 0.8786 - val_recall: 0.9368 - val_auc: 0.9718\n",
      "Epoch 101/200\n",
      "88480/88480 [==============================] - 12s 132us/step - loss: 0.1857 - accuracy: 0.9038 - precision: 0.8787 - recall: 0.9368 - auc: 0.9719 - val_loss: 0.1681 - val_accuracy: 0.9038 - val_precision: 0.8788 - val_recall: 0.9367 - val_auc: 0.9719\n",
      "Epoch 102/200\n",
      "88480/88480 [==============================] - 12s 131us/step - loss: 0.1852 - accuracy: 0.9038 - precision: 0.8789 - recall: 0.9366 - auc: 0.9719 - val_loss: 0.1140 - val_accuracy: 0.9039 - val_precision: 0.8790 - val_recall: 0.9366 - val_auc: 0.9719\n",
      "Epoch 103/200\n",
      "88480/88480 [==============================] - 12s 137us/step - loss: 0.1854 - accuracy: 0.9039 - precision: 0.8790 - recall: 0.9366 - auc: 0.9720 - val_loss: 0.0780 - val_accuracy: 0.9039 - val_precision: 0.8791 - val_recall: 0.9366 - val_auc: 0.9720\n",
      "Epoch 104/200\n",
      "88480/88480 [==============================] - 12s 132us/step - loss: 0.1850 - accuracy: 0.9040 - precision: 0.8792 - recall: 0.9366 - auc: 0.9720 - val_loss: 0.1026 - val_accuracy: 0.9040 - val_precision: 0.8793 - val_recall: 0.9365 - val_auc: 0.9721\n",
      "Epoch 105/200\n",
      "88480/88480 [==============================] - 12s 134us/step - loss: 0.1848 - accuracy: 0.9041 - precision: 0.8794 - recall: 0.9365 - auc: 0.9721 - val_loss: 0.1574 - val_accuracy: 0.9041 - val_precision: 0.8794 - val_recall: 0.9365 - val_auc: 0.9721\n",
      "Epoch 106/200\n",
      "88480/88480 [==============================] - 12s 135us/step - loss: 0.1846 - accuracy: 0.9041 - precision: 0.8795 - recall: 0.9364 - auc: 0.9721 - val_loss: 0.1876 - val_accuracy: 0.9041 - val_precision: 0.8796 - val_recall: 0.9363 - val_auc: 0.9721\n",
      "Epoch 107/200\n",
      "88480/88480 [==============================] - 12s 135us/step - loss: 0.1847 - accuracy: 0.9042 - precision: 0.8797 - recall: 0.9362 - auc: 0.9722 - val_loss: 0.1095 - val_accuracy: 0.9042 - val_precision: 0.8798 - val_recall: 0.9362 - val_auc: 0.9722\n",
      "Epoch 108/200\n",
      "88480/88480 [==============================] - 12s 134us/step - loss: 0.1842 - accuracy: 0.9042 - precision: 0.8798 - recall: 0.9362 - auc: 0.9722 - val_loss: 0.1864 - val_accuracy: 0.9042 - val_precision: 0.8799 - val_recall: 0.9362 - val_auc: 0.9722\n",
      "Epoch 109/200\n",
      "88480/88480 [==============================] - 12s 131us/step - loss: 0.1838 - accuracy: 0.9043 - precision: 0.8800 - recall: 0.9361 - auc: 0.9722 - val_loss: 0.1549 - val_accuracy: 0.9043 - val_precision: 0.8801 - val_recall: 0.9360 - val_auc: 0.9722\n",
      "Epoch 110/200\n",
      "88480/88480 [==============================] - 12s 131us/step - loss: 0.1839 - accuracy: 0.9043 - precision: 0.8801 - recall: 0.9360 - auc: 0.9723 - val_loss: 0.1294 - val_accuracy: 0.9043 - val_precision: 0.8802 - val_recall: 0.9359 - val_auc: 0.9723\n",
      "Epoch 111/200\n",
      "88480/88480 [==============================] - 12s 134us/step - loss: 0.1846 - accuracy: 0.9043 - precision: 0.8803 - recall: 0.9359 - auc: 0.9723 - val_loss: 0.1226 - val_accuracy: 0.9044 - val_precision: 0.8804 - val_recall: 0.9359 - val_auc: 0.9723\n",
      "Epoch 112/200\n",
      "88480/88480 [==============================] - 12s 131us/step - loss: 0.1840 - accuracy: 0.9044 - precision: 0.8804 - recall: 0.9358 - auc: 0.9724 - val_loss: 0.1277 - val_accuracy: 0.9044 - val_precision: 0.8805 - val_recall: 0.9358 - val_auc: 0.9724\n",
      "Epoch 113/200\n",
      "88480/88480 [==============================] - 12s 131us/step - loss: 0.1838 - accuracy: 0.9045 - precision: 0.8806 - recall: 0.9357 - auc: 0.9724 - val_loss: 0.1082 - val_accuracy: 0.9045 - val_precision: 0.8807 - val_recall: 0.9357 - val_auc: 0.9724\n",
      "Epoch 114/200\n",
      "88480/88480 [==============================] - 12s 131us/step - loss: 0.1834 - accuracy: 0.9045 - precision: 0.8807 - recall: 0.9357 - auc: 0.9724 - val_loss: 0.1229 - val_accuracy: 0.9046 - val_precision: 0.8808 - val_recall: 0.9357 - val_auc: 0.9725\n",
      "Epoch 115/200\n",
      "88480/88480 [==============================] - 12s 130us/step - loss: 0.1833 - accuracy: 0.9046 - precision: 0.8809 - recall: 0.9357 - auc: 0.9725 - val_loss: 0.1144 - val_accuracy: 0.9046 - val_precision: 0.8809 - val_recall: 0.9356 - val_auc: 0.9725\n",
      "Epoch 116/200\n",
      "88480/88480 [==============================] - 12s 130us/step - loss: 0.1835 - accuracy: 0.9047 - precision: 0.8810 - recall: 0.9356 - auc: 0.9725 - val_loss: 0.0916 - val_accuracy: 0.9047 - val_precision: 0.8811 - val_recall: 0.9356 - val_auc: 0.9726\n",
      "Epoch 117/200\n",
      "88480/88480 [==============================] - 11s 130us/step - loss: 0.1831 - accuracy: 0.9047 - precision: 0.8812 - recall: 0.9356 - auc: 0.9726 - val_loss: 0.0898 - val_accuracy: 0.9048 - val_precision: 0.8812 - val_recall: 0.9356 - val_auc: 0.9726\n",
      "Epoch 118/200\n",
      "88480/88480 [==============================] - 11s 130us/step - loss: 0.1830 - accuracy: 0.9048 - precision: 0.8813 - recall: 0.9356 - auc: 0.9726 - val_loss: 0.1138 - val_accuracy: 0.9049 - val_precision: 0.8814 - val_recall: 0.9355 - val_auc: 0.9727\n",
      "Epoch 119/200\n",
      "88480/88480 [==============================] - 12s 130us/step - loss: 0.1831 - accuracy: 0.9049 - precision: 0.8815 - recall: 0.9355 - auc: 0.9727 - val_loss: 0.0768 - val_accuracy: 0.9049 - val_precision: 0.8815 - val_recall: 0.9355 - val_auc: 0.9727\n",
      "Epoch 120/200\n",
      "88480/88480 [==============================] - 12s 132us/step - loss: 0.1826 - accuracy: 0.9050 - precision: 0.8816 - recall: 0.9355 - auc: 0.9727 - val_loss: 0.1450 - val_accuracy: 0.9050 - val_precision: 0.8817 - val_recall: 0.9355 - val_auc: 0.9728\n",
      "Epoch 121/200\n",
      "88480/88480 [==============================] - 12s 133us/step - loss: 0.1826 - accuracy: 0.9050 - precision: 0.8818 - recall: 0.9354 - auc: 0.9728 - val_loss: 0.0806 - val_accuracy: 0.9051 - val_precision: 0.8818 - val_recall: 0.9354 - val_auc: 0.9728\n",
      "Epoch 122/200\n",
      "88480/88480 [==============================] - 12s 131us/step - loss: 0.1823 - accuracy: 0.9051 - precision: 0.8819 - recall: 0.9354 - auc: 0.9728 - val_loss: 0.0879 - val_accuracy: 0.9052 - val_precision: 0.8820 - val_recall: 0.9354 - val_auc: 0.9728\n",
      "Epoch 123/200\n",
      "88480/88480 [==============================] - 12s 133us/step - loss: 0.1822 - accuracy: 0.9052 - precision: 0.8821 - recall: 0.9354 - auc: 0.9729 - val_loss: 0.1083 - val_accuracy: 0.9052 - val_precision: 0.8821 - val_recall: 0.9353 - val_auc: 0.9729\n",
      "Epoch 124/200\n",
      "88480/88480 [==============================] - 12s 132us/step - loss: 0.1822 - accuracy: 0.9053 - precision: 0.8822 - recall: 0.9353 - auc: 0.9729 - val_loss: 0.1151 - val_accuracy: 0.9053 - val_precision: 0.8823 - val_recall: 0.9353 - val_auc: 0.9729\n"
     ]
    },
    {
     "name": "stdout",
     "output_type": "stream",
     "text": [
      "Epoch 125/200\n",
      "88480/88480 [==============================] - 12s 134us/step - loss: 0.1822 - accuracy: 0.9053 - precision: 0.8823 - recall: 0.9353 - auc: 0.9730 - val_loss: 0.1688 - val_accuracy: 0.9053 - val_precision: 0.8824 - val_recall: 0.9352 - val_auc: 0.9730\n",
      "Epoch 126/200\n",
      "88480/88480 [==============================] - 12s 134us/step - loss: 0.1820 - accuracy: 0.9054 - precision: 0.8825 - recall: 0.9352 - auc: 0.9730 - val_loss: 0.2292 - val_accuracy: 0.9054 - val_precision: 0.8825 - val_recall: 0.9351 - val_auc: 0.9730\n",
      "Epoch 127/200\n",
      "88480/88480 [==============================] - 12s 134us/step - loss: 0.1820 - accuracy: 0.9053 - precision: 0.8826 - recall: 0.9350 - auc: 0.9730 - val_loss: 0.1769 - val_accuracy: 0.9054 - val_precision: 0.8827 - val_recall: 0.9349 - val_auc: 0.9730\n",
      "Epoch 128/200\n",
      "88480/88480 [==============================] - 12s 135us/step - loss: 0.1817 - accuracy: 0.9054 - precision: 0.8827 - recall: 0.9349 - auc: 0.9730 - val_loss: 0.1044 - val_accuracy: 0.9054 - val_precision: 0.8828 - val_recall: 0.9349 - val_auc: 0.9730\n",
      "Epoch 129/200\n",
      "88480/88480 [==============================] - 12s 134us/step - loss: 0.1822 - accuracy: 0.9054 - precision: 0.8829 - recall: 0.9348 - auc: 0.9731 - val_loss: 0.1340 - val_accuracy: 0.9055 - val_precision: 0.8829 - val_recall: 0.9348 - val_auc: 0.9731\n",
      "Epoch 130/200\n",
      "88480/88480 [==============================] - 12s 134us/step - loss: 0.1808 - accuracy: 0.9055 - precision: 0.8830 - recall: 0.9348 - auc: 0.9731 - val_loss: 0.1098 - val_accuracy: 0.9055 - val_precision: 0.8831 - val_recall: 0.9348 - val_auc: 0.9731\n",
      "Epoch 131/200\n",
      "88480/88480 [==============================] - 12s 136us/step - loss: 0.1812 - accuracy: 0.9056 - precision: 0.8831 - recall: 0.9347 - auc: 0.9731 - val_loss: 0.0708 - val_accuracy: 0.9056 - val_precision: 0.8832 - val_recall: 0.9347 - val_auc: 0.9732\n",
      "Epoch 132/200\n",
      "88480/88480 [==============================] - 12s 133us/step - loss: 0.1810 - accuracy: 0.9056 - precision: 0.8833 - recall: 0.9347 - auc: 0.9732 - val_loss: 0.1563 - val_accuracy: 0.9057 - val_precision: 0.8834 - val_recall: 0.9347 - val_auc: 0.9732\n",
      "Epoch 133/200\n",
      "88480/88480 [==============================] - 12s 131us/step - loss: 0.1808 - accuracy: 0.9057 - precision: 0.8834 - recall: 0.9347 - auc: 0.9732 - val_loss: 0.1543 - val_accuracy: 0.9057 - val_precision: 0.8835 - val_recall: 0.9346 - val_auc: 0.9732\n",
      "Epoch 134/200\n",
      "88480/88480 [==============================] - 12s 131us/step - loss: 0.1810 - accuracy: 0.9057 - precision: 0.8835 - recall: 0.9346 - auc: 0.9733 - val_loss: 0.2011 - val_accuracy: 0.9057 - val_precision: 0.8836 - val_recall: 0.9345 - val_auc: 0.9733\n",
      "Epoch 135/200\n",
      "88480/88480 [==============================] - 12s 131us/step - loss: 0.1812 - accuracy: 0.9058 - precision: 0.8837 - recall: 0.9345 - auc: 0.9733 - val_loss: 0.1449 - val_accuracy: 0.9058 - val_precision: 0.8837 - val_recall: 0.9344 - val_auc: 0.9733\n",
      "Epoch 136/200\n",
      "88480/88480 [==============================] - 12s 131us/step - loss: 0.1807 - accuracy: 0.9058 - precision: 0.8838 - recall: 0.9344 - auc: 0.9733 - val_loss: 0.1747 - val_accuracy: 0.9058 - val_precision: 0.8839 - val_recall: 0.9344 - val_auc: 0.9733\n",
      "Epoch 137/200\n",
      "88480/88480 [==============================] - 12s 131us/step - loss: 0.1808 - accuracy: 0.9058 - precision: 0.8839 - recall: 0.9343 - auc: 0.9733 - val_loss: 0.1211 - val_accuracy: 0.9059 - val_precision: 0.8840 - val_recall: 0.9343 - val_auc: 0.9733\n",
      "Epoch 138/200\n",
      "88480/88480 [==============================] - 12s 131us/step - loss: 0.1803 - accuracy: 0.9059 - precision: 0.8840 - recall: 0.9343 - auc: 0.9734 - val_loss: 0.1133 - val_accuracy: 0.9059 - val_precision: 0.8841 - val_recall: 0.9342 - val_auc: 0.9734\n",
      "Epoch 139/200\n",
      "88480/88480 [==============================] - 12s 133us/step - loss: 0.1808 - accuracy: 0.9060 - precision: 0.8842 - recall: 0.9342 - auc: 0.9734 - val_loss: 0.1305 - val_accuracy: 0.9060 - val_precision: 0.8842 - val_recall: 0.9342 - val_auc: 0.9734\n",
      "Epoch 140/200\n",
      "88480/88480 [==============================] - 12s 134us/step - loss: 0.1804 - accuracy: 0.9060 - precision: 0.8843 - recall: 0.9342 - auc: 0.9734 - val_loss: 0.1144 - val_accuracy: 0.9060 - val_precision: 0.8844 - val_recall: 0.9342 - val_auc: 0.9735\n",
      "Epoch 141/200\n",
      "88480/88480 [==============================] - 12s 134us/step - loss: 0.1803 - accuracy: 0.9061 - precision: 0.8844 - recall: 0.9341 - auc: 0.9735 - val_loss: 0.1126 - val_accuracy: 0.9061 - val_precision: 0.8845 - val_recall: 0.9341 - val_auc: 0.9735\n",
      "Epoch 142/200\n",
      "88480/88480 [==============================] - 12s 134us/step - loss: 0.1799 - accuracy: 0.9061 - precision: 0.8845 - recall: 0.9341 - auc: 0.9735 - val_loss: 0.1079 - val_accuracy: 0.9061 - val_precision: 0.8846 - val_recall: 0.9341 - val_auc: 0.9735\n",
      "Epoch 143/200\n",
      "88480/88480 [==============================] - 12s 133us/step - loss: 0.1795 - accuracy: 0.9062 - precision: 0.8847 - recall: 0.9341 - auc: 0.9735 - val_loss: 0.1243 - val_accuracy: 0.9062 - val_precision: 0.8847 - val_recall: 0.9340 - val_auc: 0.9736\n",
      "Epoch 144/200\n",
      "88480/88480 [==============================] - 11s 130us/step - loss: 0.1800 - accuracy: 0.9062 - precision: 0.8848 - recall: 0.9340 - auc: 0.9736 - val_loss: 0.1146 - val_accuracy: 0.9063 - val_precision: 0.8848 - val_recall: 0.9340 - val_auc: 0.9736\n",
      "Epoch 145/200\n",
      "88480/88480 [==============================] - 12s 130us/step - loss: 0.1795 - accuracy: 0.9063 - precision: 0.8849 - recall: 0.9340 - auc: 0.9736 - val_loss: 0.1518 - val_accuracy: 0.9063 - val_precision: 0.8850 - val_recall: 0.9339 - val_auc: 0.9736\n",
      "Epoch 146/200\n",
      "88480/88480 [==============================] - 12s 131us/step - loss: 0.1800 - accuracy: 0.9063 - precision: 0.8850 - recall: 0.9339 - auc: 0.9736 - val_loss: 0.1649 - val_accuracy: 0.9063 - val_precision: 0.8851 - val_recall: 0.9338 - val_auc: 0.9737\n",
      "Epoch 147/200\n",
      "88480/88480 [==============================] - 12s 134us/step - loss: 0.1798 - accuracy: 0.9064 - precision: 0.8851 - recall: 0.9338 - auc: 0.9737 - val_loss: 0.1965 - val_accuracy: 0.9064 - val_precision: 0.8852 - val_recall: 0.9337 - val_auc: 0.9737\n",
      "Epoch 148/200\n",
      "88480/88480 [==============================] - 12s 134us/step - loss: 0.1793 - accuracy: 0.9064 - precision: 0.8853 - recall: 0.9337 - auc: 0.9737 - val_loss: 0.1346 - val_accuracy: 0.9064 - val_precision: 0.8853 - val_recall: 0.9336 - val_auc: 0.9737\n",
      "Epoch 149/200\n",
      "88480/88480 [==============================] - 12s 134us/step - loss: 0.1794 - accuracy: 0.9064 - precision: 0.8854 - recall: 0.9336 - auc: 0.9737 - val_loss: 0.1494 - val_accuracy: 0.9064 - val_precision: 0.8854 - val_recall: 0.9336 - val_auc: 0.9737\n",
      "Epoch 150/200\n",
      "88480/88480 [==============================] - 12s 130us/step - loss: 0.1791 - accuracy: 0.9064 - precision: 0.8855 - recall: 0.9335 - auc: 0.9738 - val_loss: 0.1263 - val_accuracy: 0.9065 - val_precision: 0.8855 - val_recall: 0.9335 - val_auc: 0.9738\n",
      "Epoch 151/200\n",
      "88480/88480 [==============================] - 12s 131us/step - loss: 0.1785 - accuracy: 0.9065 - precision: 0.8856 - recall: 0.9335 - auc: 0.9738 - val_loss: 0.1079 - val_accuracy: 0.9065 - val_precision: 0.8857 - val_recall: 0.9335 - val_auc: 0.9738\n",
      "Epoch 152/200\n",
      "88480/88480 [==============================] - 12s 131us/step - loss: 0.1787 - accuracy: 0.9065 - precision: 0.8857 - recall: 0.9335 - auc: 0.9738 - val_loss: 0.1526 - val_accuracy: 0.9066 - val_precision: 0.8858 - val_recall: 0.9334 - val_auc: 0.9738\n",
      "Epoch 153/200\n",
      "88480/88480 [==============================] - 12s 131us/step - loss: 0.1784 - accuracy: 0.9066 - precision: 0.8859 - recall: 0.9334 - auc: 0.9739 - val_loss: 0.1404 - val_accuracy: 0.9066 - val_precision: 0.8859 - val_recall: 0.9334 - val_auc: 0.9739\n",
      "Epoch 154/200\n",
      "88480/88480 [==============================] - 12s 131us/step - loss: 0.1788 - accuracy: 0.9066 - precision: 0.8860 - recall: 0.9333 - auc: 0.9739 - val_loss: 0.1049 - val_accuracy: 0.9067 - val_precision: 0.8860 - val_recall: 0.9333 - val_auc: 0.9739\n",
      "Epoch 155/200\n",
      "88480/88480 [==============================] - 12s 131us/step - loss: 0.1780 - accuracy: 0.9067 - precision: 0.8861 - recall: 0.9333 - auc: 0.9739 - val_loss: 0.1557 - val_accuracy: 0.9067 - val_precision: 0.8861 - val_recall: 0.9333 - val_auc: 0.9739\n"
     ]
    },
    {
     "name": "stdout",
     "output_type": "stream",
     "text": [
      "Epoch 156/200\n",
      "88480/88480 [==============================] - 12s 132us/step - loss: 0.1783 - accuracy: 0.9067 - precision: 0.8862 - recall: 0.9333 - auc: 0.9740 - val_loss: 0.1297 - val_accuracy: 0.9068 - val_precision: 0.8863 - val_recall: 0.9333 - val_auc: 0.9740\n",
      "Epoch 157/200\n",
      "88480/88480 [==============================] - 12s 131us/step - loss: 0.1791 - accuracy: 0.9068 - precision: 0.8863 - recall: 0.9332 - auc: 0.9740 - val_loss: 0.1274 - val_accuracy: 0.9068 - val_precision: 0.8864 - val_recall: 0.9332 - val_auc: 0.9740\n",
      "Epoch 158/200\n",
      "88480/88480 [==============================] - 12s 132us/step - loss: 0.1783 - accuracy: 0.9068 - precision: 0.8864 - recall: 0.9332 - auc: 0.9740 - val_loss: 0.2298 - val_accuracy: 0.9068 - val_precision: 0.8865 - val_recall: 0.9331 - val_auc: 0.9740\n",
      "Epoch 159/200\n",
      "88480/88480 [==============================] - 12s 131us/step - loss: 0.1779 - accuracy: 0.9068 - precision: 0.8865 - recall: 0.9330 - auc: 0.9740 - val_loss: 0.1469 - val_accuracy: 0.9069 - val_precision: 0.8866 - val_recall: 0.9330 - val_auc: 0.9740\n",
      "Epoch 160/200\n",
      "88480/88480 [==============================] - 12s 130us/step - loss: 0.1777 - accuracy: 0.9069 - precision: 0.8866 - recall: 0.9330 - auc: 0.9740 - val_loss: 0.1727 - val_accuracy: 0.9069 - val_precision: 0.8867 - val_recall: 0.9329 - val_auc: 0.9741\n",
      "Epoch 161/200\n",
      "88480/88480 [==============================] - 12s 133us/step - loss: 0.1779 - accuracy: 0.9069 - precision: 0.8867 - recall: 0.9329 - auc: 0.9741 - val_loss: 0.2150 - val_accuracy: 0.9069 - val_precision: 0.8868 - val_recall: 0.9328 - val_auc: 0.9741\n",
      "Epoch 162/200\n",
      "88480/88480 [==============================] - 12s 134us/step - loss: 0.1775 - accuracy: 0.9069 - precision: 0.8868 - recall: 0.9327 - auc: 0.9741 - val_loss: 0.1233 - val_accuracy: 0.9069 - val_precision: 0.8869 - val_recall: 0.9327 - val_auc: 0.9741\n",
      "Epoch 163/200\n",
      "88480/88480 [==============================] - 12s 135us/step - loss: 0.1778 - accuracy: 0.9070 - precision: 0.8870 - recall: 0.9327 - auc: 0.9741 - val_loss: 0.1595 - val_accuracy: 0.9070 - val_precision: 0.8870 - val_recall: 0.9327 - val_auc: 0.9741\n",
      "Epoch 164/200\n",
      "88480/88480 [==============================] - 12s 131us/step - loss: 0.1776 - accuracy: 0.9070 - precision: 0.8871 - recall: 0.9327 - auc: 0.9741 - val_loss: 0.1362 - val_accuracy: 0.9070 - val_precision: 0.8871 - val_recall: 0.9326 - val_auc: 0.9741\n",
      "Epoch 165/200\n",
      "88480/88480 [==============================] - 12s 135us/step - loss: 0.1773 - accuracy: 0.9071 - precision: 0.8872 - recall: 0.9326 - auc: 0.9742 - val_loss: 0.0825 - val_accuracy: 0.9071 - val_precision: 0.8872 - val_recall: 0.9326 - val_auc: 0.9742\n",
      "Epoch 166/200\n",
      "88480/88480 [==============================] - 12s 133us/step - loss: 0.1773 - accuracy: 0.9071 - precision: 0.8873 - recall: 0.9326 - auc: 0.9742 - val_loss: 0.1282 - val_accuracy: 0.9071 - val_precision: 0.8873 - val_recall: 0.9326 - val_auc: 0.9742\n",
      "Epoch 167/200\n",
      "88480/88480 [==============================] - 12s 136us/step - loss: 0.1771 - accuracy: 0.9071 - precision: 0.8874 - recall: 0.9325 - auc: 0.9742 - val_loss: 0.1365 - val_accuracy: 0.9072 - val_precision: 0.8875 - val_recall: 0.9325 - val_auc: 0.9742\n",
      "Epoch 168/200\n",
      "88480/88480 [==============================] - 12s 136us/step - loss: 0.1773 - accuracy: 0.9072 - precision: 0.8875 - recall: 0.9325 - auc: 0.9742 - val_loss: 0.1255 - val_accuracy: 0.9072 - val_precision: 0.8876 - val_recall: 0.9325 - val_auc: 0.9743\n",
      "Epoch 169/200\n",
      "88480/88480 [==============================] - 12s 136us/step - loss: 0.1767 - accuracy: 0.9072 - precision: 0.8876 - recall: 0.9324 - auc: 0.9743 - val_loss: 0.1781 - val_accuracy: 0.9072 - val_precision: 0.8877 - val_recall: 0.9324 - val_auc: 0.9743\n",
      "Epoch 170/200\n",
      "88480/88480 [==============================] - 12s 136us/step - loss: 0.1770 - accuracy: 0.9072 - precision: 0.8877 - recall: 0.9324 - auc: 0.9743 - val_loss: 0.0954 - val_accuracy: 0.9073 - val_precision: 0.8878 - val_recall: 0.9323 - val_auc: 0.9743\n",
      "Epoch 171/200\n",
      "88480/88480 [==============================] - 12s 135us/step - loss: 0.1767 - accuracy: 0.9073 - precision: 0.8878 - recall: 0.9323 - auc: 0.9744 - val_loss: 0.1568 - val_accuracy: 0.9073 - val_precision: 0.8879 - val_recall: 0.9323 - val_auc: 0.9744\n",
      "Epoch 172/200\n",
      "88480/88480 [==============================] - 12s 137us/step - loss: 0.1770 - accuracy: 0.9073 - precision: 0.8879 - recall: 0.9323 - auc: 0.9744 - val_loss: 0.1135 - val_accuracy: 0.9074 - val_precision: 0.8880 - val_recall: 0.9323 - val_auc: 0.9744\n",
      "Epoch 173/200\n",
      "88480/88480 [==============================] - 12s 134us/step - loss: 0.1768 - accuracy: 0.9074 - precision: 0.8880 - recall: 0.9323 - auc: 0.9744 - val_loss: 0.1513 - val_accuracy: 0.9074 - val_precision: 0.8881 - val_recall: 0.9322 - val_auc: 0.9744\n",
      "Epoch 174/200\n",
      "88480/88480 [==============================] - 12s 132us/step - loss: 0.1768 - accuracy: 0.9074 - precision: 0.8881 - recall: 0.9322 - auc: 0.9744 - val_loss: 0.1372 - val_accuracy: 0.9074 - val_precision: 0.8882 - val_recall: 0.9322 - val_auc: 0.9744\n",
      "Epoch 175/200\n",
      "88480/88480 [==============================] - 12s 133us/step - loss: 0.1762 - accuracy: 0.9075 - precision: 0.8882 - recall: 0.9322 - auc: 0.9744 - val_loss: 0.1055 - val_accuracy: 0.9075 - val_precision: 0.8883 - val_recall: 0.9322 - val_auc: 0.9745\n",
      "Epoch 176/200\n",
      "88480/88480 [==============================] - 12s 132us/step - loss: 0.1760 - accuracy: 0.9075 - precision: 0.8883 - recall: 0.9321 - auc: 0.9745 - val_loss: 0.0735 - val_accuracy: 0.9075 - val_precision: 0.8884 - val_recall: 0.9321 - val_auc: 0.9745\n",
      "Epoch 177/200\n",
      "88480/88480 [==============================] - 12s 132us/step - loss: 0.1770 - accuracy: 0.9076 - precision: 0.8884 - recall: 0.9321 - auc: 0.9745 - val_loss: 0.1190 - val_accuracy: 0.9076 - val_precision: 0.8885 - val_recall: 0.9321 - val_auc: 0.9745\n",
      "Epoch 178/200\n",
      "88480/88480 [==============================] - 12s 132us/step - loss: 0.1762 - accuracy: 0.9076 - precision: 0.8886 - recall: 0.9321 - auc: 0.9746 - val_loss: 0.1205 - val_accuracy: 0.9077 - val_precision: 0.8886 - val_recall: 0.9321 - val_auc: 0.9746\n",
      "Epoch 179/200\n",
      "88480/88480 [==============================] - 11s 130us/step - loss: 0.1759 - accuracy: 0.9077 - precision: 0.8886 - recall: 0.9321 - auc: 0.9746 - val_loss: 0.1129 - val_accuracy: 0.9077 - val_precision: 0.8887 - val_recall: 0.9321 - val_auc: 0.9746\n",
      "Epoch 180/200\n",
      "88480/88480 [==============================] - 12s 131us/step - loss: 0.1759 - accuracy: 0.9077 - precision: 0.8887 - recall: 0.9321 - auc: 0.9746 - val_loss: 0.2388 - val_accuracy: 0.9077 - val_precision: 0.8888 - val_recall: 0.9320 - val_auc: 0.9746\n",
      "Epoch 181/200\n",
      "88480/88480 [==============================] - 12s 133us/step - loss: 0.1766 - accuracy: 0.9077 - precision: 0.8888 - recall: 0.9319 - auc: 0.9746 - val_loss: 0.1865 - val_accuracy: 0.9077 - val_precision: 0.8889 - val_recall: 0.9319 - val_auc: 0.9746\n",
      "Epoch 182/200\n",
      "88480/88480 [==============================] - 12s 134us/step - loss: 0.1758 - accuracy: 0.9077 - precision: 0.8889 - recall: 0.9318 - auc: 0.9746 - val_loss: 0.1655 - val_accuracy: 0.9077 - val_precision: 0.8890 - val_recall: 0.9318 - val_auc: 0.9746\n",
      "Epoch 183/200\n",
      "88480/88480 [==============================] - 12s 131us/step - loss: 0.1761 - accuracy: 0.9078 - precision: 0.8890 - recall: 0.9318 - auc: 0.9746 - val_loss: 0.1488 - val_accuracy: 0.9078 - val_precision: 0.8891 - val_recall: 0.9317 - val_auc: 0.9747\n",
      "Epoch 184/200\n",
      "88480/88480 [==============================] - 12s 134us/step - loss: 0.1752 - accuracy: 0.9078 - precision: 0.8891 - recall: 0.9317 - auc: 0.9747 - val_loss: 0.0900 - val_accuracy: 0.9078 - val_precision: 0.8892 - val_recall: 0.9317 - val_auc: 0.9747\n",
      "Epoch 185/200\n",
      "88480/88480 [==============================] - 12s 134us/step - loss: 0.1754 - accuracy: 0.9078 - precision: 0.8892 - recall: 0.9317 - auc: 0.9747 - val_loss: 0.1407 - val_accuracy: 0.9078 - val_precision: 0.8893 - val_recall: 0.9317 - val_auc: 0.9747\n",
      "Epoch 186/200\n"
     ]
    },
    {
     "name": "stdout",
     "output_type": "stream",
     "text": [
      "88480/88480 [==============================] - 12s 132us/step - loss: 0.1752 - accuracy: 0.9078 - precision: 0.8893 - recall: 0.9316 - auc: 0.9747 - val_loss: 0.1527 - val_accuracy: 0.9079 - val_precision: 0.8894 - val_recall: 0.9316 - val_auc: 0.9747\n",
      "Epoch 187/200\n",
      "88480/88480 [==============================] - 12s 135us/step - loss: 0.1752 - accuracy: 0.9079 - precision: 0.8894 - recall: 0.9316 - auc: 0.9747 - val_loss: 0.1094 - val_accuracy: 0.9079 - val_precision: 0.8894 - val_recall: 0.9316 - val_auc: 0.9748\n",
      "Epoch 188/200\n",
      "88480/88480 [==============================] - 12s 135us/step - loss: 0.1749 - accuracy: 0.9079 - precision: 0.8895 - recall: 0.9315 - auc: 0.9748 - val_loss: 0.1145 - val_accuracy: 0.9079 - val_precision: 0.8895 - val_recall: 0.9315 - val_auc: 0.9748\n",
      "Epoch 189/200\n",
      "88480/88480 [==============================] - 12s 136us/step - loss: 0.1749 - accuracy: 0.9080 - precision: 0.8896 - recall: 0.9315 - auc: 0.9748 - val_loss: 0.1828 - val_accuracy: 0.9080 - val_precision: 0.8896 - val_recall: 0.9315 - val_auc: 0.9748\n",
      "Epoch 190/200\n",
      "88480/88480 [==============================] - 12s 133us/step - loss: 0.1751 - accuracy: 0.9080 - precision: 0.8897 - recall: 0.9314 - auc: 0.9748 - val_loss: 0.1539 - val_accuracy: 0.9080 - val_precision: 0.8897 - val_recall: 0.9314 - val_auc: 0.9748\n",
      "Epoch 191/200\n",
      "88480/88480 [==============================] - 12s 132us/step - loss: 0.1749 - accuracy: 0.9080 - precision: 0.8898 - recall: 0.9314 - auc: 0.9749 - val_loss: 0.1484 - val_accuracy: 0.9080 - val_precision: 0.8898 - val_recall: 0.9314 - val_auc: 0.9749\n",
      "Epoch 192/200\n",
      "88480/88480 [==============================] - 12s 133us/step - loss: 0.1747 - accuracy: 0.9081 - precision: 0.8899 - recall: 0.9313 - auc: 0.9749 - val_loss: 0.1793 - val_accuracy: 0.9081 - val_precision: 0.8899 - val_recall: 0.9313 - val_auc: 0.9749\n",
      "Epoch 193/200\n",
      "88480/88480 [==============================] - 12s 131us/step - loss: 0.1741 - accuracy: 0.9081 - precision: 0.8899 - recall: 0.9313 - auc: 0.9749 - val_loss: 0.1218 - val_accuracy: 0.9081 - val_precision: 0.8900 - val_recall: 0.9312 - val_auc: 0.9749\n",
      "Epoch 194/200\n",
      "88480/88480 [==============================] - 12s 131us/step - loss: 0.1748 - accuracy: 0.9081 - precision: 0.8900 - recall: 0.9312 - auc: 0.9749 - val_loss: 0.1056 - val_accuracy: 0.9081 - val_precision: 0.8901 - val_recall: 0.9312 - val_auc: 0.9749\n",
      "Epoch 195/200\n",
      "88480/88480 [==============================] - 12s 131us/step - loss: 0.1742 - accuracy: 0.9082 - precision: 0.8901 - recall: 0.9312 - auc: 0.9750 - val_loss: 0.1291 - val_accuracy: 0.9082 - val_precision: 0.8902 - val_recall: 0.9312 - val_auc: 0.9750\n",
      "Epoch 196/200\n",
      "88480/88480 [==============================] - 12s 130us/step - loss: 0.1741 - accuracy: 0.9082 - precision: 0.8902 - recall: 0.9312 - auc: 0.9750 - val_loss: 0.1208 - val_accuracy: 0.9082 - val_precision: 0.8903 - val_recall: 0.9312 - val_auc: 0.9750\n",
      "Epoch 197/200\n",
      "88480/88480 [==============================] - 11s 130us/step - loss: 0.1741 - accuracy: 0.9082 - precision: 0.8903 - recall: 0.9312 - auc: 0.9750 - val_loss: 0.1888 - val_accuracy: 0.9083 - val_precision: 0.8904 - val_recall: 0.9311 - val_auc: 0.9750\n",
      "Epoch 198/200\n",
      "88480/88480 [==============================] - 12s 130us/step - loss: 0.1747 - accuracy: 0.9083 - precision: 0.8904 - recall: 0.9311 - auc: 0.9750 - val_loss: 0.0724 - val_accuracy: 0.9083 - val_precision: 0.8904 - val_recall: 0.9311 - val_auc: 0.9750\n",
      "Epoch 199/200\n",
      "88480/88480 [==============================] - 12s 132us/step - loss: 0.1738 - accuracy: 0.9083 - precision: 0.8905 - recall: 0.9311 - auc: 0.9751 - val_loss: 0.1300 - val_accuracy: 0.9083 - val_precision: 0.8905 - val_recall: 0.9311 - val_auc: 0.9751\n",
      "Epoch 200/200\n",
      "88480/88480 [==============================] - 12s 130us/step - loss: 0.1739 - accuracy: 0.9083 - precision: 0.8906 - recall: 0.9311 - auc: 0.9751 - val_loss: 0.1832 - val_accuracy: 0.9084 - val_precision: 0.8906 - val_recall: 0.9310 - val_auc: 0.9751\n"
     ]
    },
    {
     "data": {
      "text/plain": [
       "<keras.callbacks.callbacks.History at 0x1cdec334da0>"
      ]
     },
     "execution_count": 9,
     "metadata": {},
     "output_type": "execute_result"
    }
   ],
   "source": [
    "estimator = KerasClassifier(build_fn=neural_network)\n",
    "estimator.fit(X_train,Y_train,verbose=1,callbacks=[early_stopping], epochs=200,validation_split=0.1,batch_size=64)"
   ]
  },
  {
   "cell_type": "code",
   "execution_count": 10,
   "metadata": {
    "scrolled": true
   },
   "outputs": [
    {
     "data": {
      "text/plain": [
       "array([[1],\n",
       "       [1],\n",
       "       [1],\n",
       "       ...,\n",
       "       [1],\n",
       "       [1],\n",
       "       [1]], dtype=int64)"
      ]
     },
     "execution_count": 10,
     "metadata": {},
     "output_type": "execute_result"
    }
   ],
   "source": [
    "test_predictions = estimator.predict(X_test)\n",
    "test_predictions"
   ]
  },
  {
   "cell_type": "code",
   "execution_count": 11,
   "metadata": {
    "scrolled": true
   },
   "outputs": [
    {
     "name": "stdout",
     "output_type": "stream",
     "text": [
      "Epoch 1/1\n",
      "65541/65541 [==============================] - 14s 209us/step - loss: 0.3700 - accuracy: 0.9082 - precision: 0.8904 - recall: 0.9312 - auc: 0.9750\n",
      "32771/32771 [==============================] - 3s 77us/step\n",
      "Epoch 1/1\n",
      "65541/65541 [==============================] - 14s 213us/step - loss: 0.4026 - accuracy: 0.9078 - precision: 0.8895 - recall: 0.9315 - auc: 0.9747\n",
      "32771/32771 [==============================] - 3s 78us/step\n",
      "Epoch 1/1\n",
      "65542/65542 [==============================] - 14s 211us/step - loss: 0.3846 - accuracy: 0.9072 - precision: 0.8893 - recall: 0.9300 - auc: 0.9744\n",
      "32770/32770 [==============================] - 3s 78us/step\n",
      "Cross-Validation set accuracy: 90.765609 %\n"
     ]
    }
   ],
   "source": [
    "print(\"Cross-Validation set accuracy: {:.6f} %\".format((cross_val_score(estimator, X_train, Y_train, cv=3).mean())*100))"
   ]
  },
  {
   "cell_type": "code",
   "execution_count": 12,
   "metadata": {},
   "outputs": [
    {
     "name": "stdout",
     "output_type": "stream",
     "text": [
      "98312/98312 [==============================] - 8s 79us/step\n",
      "Train set accuracy : 0.9072\n",
      "Test set accuracy  : 0.8385\n",
      "Test set precision : 0.7326\n",
      "Test set recall    : 0.8787\n",
      "Test set F1-score  : 0.7990\n"
     ]
    }
   ],
   "source": [
    "print(\"Train set accuracy : {:.4f}\".format(estimator.score(X_train,Y_train)))\n",
    "print(\"Test set accuracy  : {:.4f}\".format(accuracy_score(Y_test, test_predictions)))\n",
    "print(\"Test set precision : {:.4f}\".format(precision_score(Y_test, test_predictions)))\n",
    "print(\"Test set recall    : {:.4f}\".format(recall_score(Y_test, test_predictions)))\n",
    "print(\"Test set F1-score  : {:.4f}\".format(f1_score(Y_test, test_predictions)))"
   ]
  },
  {
   "cell_type": "code",
   "execution_count": 50,
   "metadata": {},
   "outputs": [],
   "source": [
    "def plot_cm(labels, predictions, p=0.5):\n",
    "    cm = confusion_matrix(labels, predictions > p, normalize= 'true')\n",
    "    plt.figure(figsize=(5,5))\n",
    "    sns.heatmap(cm, annot=True, fmt=\".2f\")\n",
    "    plt.ylabel('Actual label')\n",
    "    plt.xlabel('Predicted label')\n",
    "\n",
    "    print('True Negatives  : {:.2f}'.format(cm[0][0]))\n",
    "    print('False Positives : {:.2f}'.format(cm[0][1]))\n",
    "    print('False Negatives : {:.2f}'.format(cm[1][0]))\n",
    "    print('True Positives  : {:.2f}'.format(cm[1][1]))"
   ]
  },
  {
   "cell_type": "code",
   "execution_count": 51,
   "metadata": {
    "scrolled": false
   },
   "outputs": [
    {
     "name": "stdout",
     "output_type": "stream",
     "text": [
      "True Negatives  : 0.82\n",
      "False Positives : 0.18\n",
      "False Negatives : 0.12\n",
      "True Positives  : 0.88\n"
     ]
    },
    {
     "data": {
      "image/png": "[encoded data removed]",
      "text/plain": [
       "<Figure size 360x360 with 2 Axes>"
      ]
     },
     "metadata": {
      "needs_background": "light"
     },
     "output_type": "display_data"
    }
   ],
   "source": [
    "plot_cm(Y_test, test_predictions)"
   ]
  },
  {
   "cell_type": "code",
   "execution_count": 15,
   "metadata": {
    "scrolled": true
   },
   "outputs": [
    {
     "name": "stdout",
     "output_type": "stream",
     "text": [
      "              precision    recall  f1-score   support\n",
      "\n",
      "           0       0.92      0.82      0.86     34204\n",
      "           1       0.73      0.88      0.80     19695\n",
      "\n",
      "    accuracy                           0.84     53899\n",
      "   macro avg       0.83      0.85      0.83     53899\n",
      "weighted avg       0.85      0.84      0.84     53899\n",
      "\n"
     ]
    }
   ],
   "source": [
    "print(classification_report(Y_test, test_predictions))"
   ]
  },
  {
   "cell_type": "code",
   "execution_count": 16,
   "metadata": {},
   "outputs": [],
   "source": [
    "from sklearn.metrics import roc_curve, auc"
   ]
  },
  {
   "cell_type": "code",
   "execution_count": 17,
   "metadata": {},
   "outputs": [
    {
     "name": "stderr",
     "output_type": "stream",
     "text": [
      "c:\\users\\sharuka thirimanne\\appdata\\local\\programs\\python\\python37\\lib\\site-packages\\ipykernel_launcher.py:13: MatplotlibDeprecationWarning: Adding an axes using the same arguments as a previous axes currently reuses the earlier instance.  In a future version, a new instance will always be created and returned.  Meanwhile, this warning can be suppressed, and the future behavior ensured, by passing a unique label to each axes instance.\n",
      "  del sys.path[0]\n"
     ]
    },
    {
     "data": {
      "image/png": "[encoded data removed]",
      "text/plain": [
       "<Figure size 864x720 with 1 Axes>"
      ]
     },
     "metadata": {
      "needs_background": "light"
     },
     "output_type": "display_data"
    }
   ],
   "source": [
    "fpr_lr, tpr_lr, _ = roc_curve(Y_test, test_predictions)\n",
    "roc_auc_lr = auc(fpr_lr, tpr_lr)\n",
    "\n",
    "plt.figure()\n",
    "plt.xlim([-0.01, 1.00])\n",
    "plt.ylim([-0.01, 1.01])\n",
    "plt.plot(fpr_lr, tpr_lr, lw=3, label='KNN ROC curve (area = {:0.2f})'.format(roc_auc_lr))\n",
    "plt.xlabel('False Positive Rate', fontsize=16)\n",
    "plt.ylabel('True Positive Rate', fontsize=16)\n",
    "plt.title('ROC curve', fontsize=16)\n",
    "plt.legend(loc='lower right', fontsize=13)\n",
    "plt.plot([0, 1], [0, 1], color='navy', lw=3, linestyle='--')\n",
    "plt.axes().set_aspect('equal')\n",
    "plt.show()"
   ]
  },
  {
   "cell_type": "code",
   "execution_count": 17,
   "metadata": {},
   "outputs": [],
   "source": [
    "x = pd.DataFrame(X_train)"
   ]
  },
  {
   "cell_type": "code",
   "execution_count": 18,
   "metadata": {},
   "outputs": [],
   "source": [
    "y = pd.DataFrame(Y_train)\n",
    "y.reset_index(drop=True,inplace=True)"
   ]
  },
  {
   "cell_type": "code",
   "execution_count": 19,
   "metadata": {},
   "outputs": [],
   "source": [
    "pca = PCA(n_components=2)\n",
    "principalComponents = pca.fit_transform(x)\n",
    "principalDf = pd.DataFrame(data = principalComponents, columns = ['PC1', 'PC2'])\n",
    "y['label'] = y['label'].map( {0:'normal', 1:'anomaly'} )\n",
    "finalDf = pd.concat([principalDf, y], axis = 1)"
   ]
  },
  {
   "cell_type": "code",
   "execution_count": 20,
   "metadata": {},
   "outputs": [
    {
     "data": {
      "image/png": "[encoded data removed]",
      "text/plain": [
       "<Figure size 576x576 with 1 Axes>"
      ]
     },
     "metadata": {
      "needs_background": "light"
     },
     "output_type": "display_data"
    }
   ],
   "source": [
    "fig = plt.figure(figsize = (8,8))\n",
    "ax = fig.add_subplot(1,1,1) \n",
    "ax.set_xlabel('PC1', fontsize = 15)\n",
    "ax.set_ylabel('PC2', fontsize = 15)\n",
    "ax.set_title('2 Component PCA', fontsize = 20)\n",
    "\n",
    "\n",
    "targets = ['normal', 'anomaly']\n",
    "colors = ['r', 'b']\n",
    "for target, color in zip(targets,colors):\n",
    "    indicesToKeep = finalDf['label'] == target\n",
    "    ax.scatter(finalDf.loc[indicesToKeep, 'PC1'], \n",
    "                  finalDf.loc[indicesToKeep, 'PC2'],  \n",
    "                  c = color, \n",
    "                  s = 50)\n",
    "ax.legend(targets)\n",
    "ax.grid()"
   ]
  }
 ],
 "metadata": {
  "kernelspec": {
   "display_name": "Python 3",
   "language": "python",
   "name": "python3"
  },
  "language_info": {
   "codemirror_mode": {
    "name": "ipython",
    "version": 3
   },
   "file_extension": ".py",
   "mimetype": "text/x-python",
   "name": "python",
   "nbconvert_exporter": "python",
   "pygments_lexer": "ipython3",
   "version": "3.7.3"
  }
 },
 "nbformat": 4,
 "nbformat_minor": 4
}
