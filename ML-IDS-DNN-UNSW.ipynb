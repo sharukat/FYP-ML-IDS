{
 "cells": [
  {
   "cell_type": "markdown",
   "metadata": {},
   "source": [
    "# DNN - UNSW"
   ]
  },
  {
   "cell_type": "code",
   "execution_count": 1,
   "metadata": {},
   "outputs": [
    {
     "name": "stdout",
     "output_type": "stream",
     "text": [
      "C:\\Users\\Sharuka Thirimanne\\Desktop\\FYP-ML-IDS\n"
     ]
    }
   ],
   "source": [
    "cd C:\\\\Users\\\\Sharuka Thirimanne\\\\Desktop\\\\FYP-ML-IDS"
   ]
  },
  {
   "cell_type": "code",
   "execution_count": 2,
   "metadata": {},
   "outputs": [
    {
     "name": "stderr",
     "output_type": "stream",
     "text": [
      "c:\\users\\sharuka thirimanne\\appdata\\local\\programs\\python\\python37\\lib\\site-packages\\tensorboard\\compat\\tensorflow_stub\\dtypes.py:541: FutureWarning: Passing (type, 1) or '1type' as a synonym of type is deprecated; in a future version of numpy, it will be understood as (type, (1,)) / '(1,)type'.\n",
      "  _np_qint8 = np.dtype([(\"qint8\", np.int8, 1)])\n",
      "c:\\users\\sharuka thirimanne\\appdata\\local\\programs\\python\\python37\\lib\\site-packages\\tensorboard\\compat\\tensorflow_stub\\dtypes.py:542: FutureWarning: Passing (type, 1) or '1type' as a synonym of type is deprecated; in a future version of numpy, it will be understood as (type, (1,)) / '(1,)type'.\n",
      "  _np_quint8 = np.dtype([(\"quint8\", np.uint8, 1)])\n",
      "c:\\users\\sharuka thirimanne\\appdata\\local\\programs\\python\\python37\\lib\\site-packages\\tensorboard\\compat\\tensorflow_stub\\dtypes.py:543: FutureWarning: Passing (type, 1) or '1type' as a synonym of type is deprecated; in a future version of numpy, it will be understood as (type, (1,)) / '(1,)type'.\n",
      "  _np_qint16 = np.dtype([(\"qint16\", np.int16, 1)])\n",
      "c:\\users\\sharuka thirimanne\\appdata\\local\\programs\\python\\python37\\lib\\site-packages\\tensorboard\\compat\\tensorflow_stub\\dtypes.py:544: FutureWarning: Passing (type, 1) or '1type' as a synonym of type is deprecated; in a future version of numpy, it will be understood as (type, (1,)) / '(1,)type'.\n",
      "  _np_quint16 = np.dtype([(\"quint16\", np.uint16, 1)])\n",
      "c:\\users\\sharuka thirimanne\\appdata\\local\\programs\\python\\python37\\lib\\site-packages\\tensorboard\\compat\\tensorflow_stub\\dtypes.py:545: FutureWarning: Passing (type, 1) or '1type' as a synonym of type is deprecated; in a future version of numpy, it will be understood as (type, (1,)) / '(1,)type'.\n",
      "  _np_qint32 = np.dtype([(\"qint32\", np.int32, 1)])\n",
      "c:\\users\\sharuka thirimanne\\appdata\\local\\programs\\python\\python37\\lib\\site-packages\\tensorboard\\compat\\tensorflow_stub\\dtypes.py:550: FutureWarning: Passing (type, 1) or '1type' as a synonym of type is deprecated; in a future version of numpy, it will be understood as (type, (1,)) / '(1,)type'.\n",
      "  np_resource = np.dtype([(\"resource\", np.ubyte, 1)])\n",
      "Using TensorFlow backend.\n"
     ]
    }
   ],
   "source": [
    "import sklearn\n",
    "import numpy as np\n",
    "import pandas as pd\n",
    "import seaborn as sns\n",
    "import tensorflow as tf\n",
    "import matplotlib as mpl\n",
    "import matplotlib.pyplot as plt\n",
    "\n",
    "from tensorflow import keras\n",
    "from keras.layers import Dense\n",
    "from keras.models import Sequential\n",
    "from sklearn.decomposition import PCA\n",
    "from tensorflow.keras import regularizers\n",
    "from tensorflow.keras import Model, layers\n",
    "from sklearn.model_selection import cross_val_score\n",
    "from sklearn.model_selection import train_test_split\n",
    "from keras.wrappers.scikit_learn import KerasClassifier\n",
    "from sklearn.metrics import accuracy_score, precision_score, recall_score, classification_report, confusion_matrix\n"
   ]
  },
  {
   "cell_type": "code",
   "execution_count": 3,
   "metadata": {},
   "outputs": [],
   "source": [
    "mpl.rcParams['figure.figsize'] = (12, 10)\n",
    "colors = plt.rcParams['axes.prop_cycle'].by_key()['color']"
   ]
  },
  {
   "cell_type": "code",
   "execution_count": 4,
   "metadata": {
    "scrolled": true
   },
   "outputs": [],
   "source": [
    "def load_train_dataset():\n",
    "    df_train = pd.read_csv('USNW_train-set.csv')\n",
    "\n",
    "    limit1 = df_train.shape[1]-1\n",
    "    \n",
    "    X_train = df_train.iloc[:,0:limit1]\n",
    "    Y_train = df_train.iloc[:,limit1]\n",
    "    \n",
    "    return  X_train, Y_train,  df_train\n",
    "\n",
    "X_train, Y_train,  df_train = load_train_dataset()"
   ]
  },
  {
   "cell_type": "code",
   "execution_count": 5,
   "metadata": {},
   "outputs": [],
   "source": [
    "def load_test_dataset():\n",
    "    df_test = pd.read_csv('USNW_test-set.csv')\n",
    "    \n",
    "    limit2 = df_test.shape[1]-1\n",
    "    \n",
    "    X_test = df_test.iloc[:,0:limit2]\n",
    "    Y_test = df_test.iloc[:,limit2]\n",
    "    \n",
    "    return X_test, Y_test,df_test\n",
    "\n",
    "X_test, Y_test ,df_test = load_test_dataset()"
   ]
  },
  {
   "cell_type": "code",
   "execution_count": 6,
   "metadata": {},
   "outputs": [
    {
     "name": "stdout",
     "output_type": "stream",
     "text": [
      "Training X   : (87781, 39)\n",
      "Validation X : (6103, 39)\n",
      "Test_X       : (52347, 39)\n",
      "Training_Y   : (87781,)\n",
      "Validation Y : (6103,)\n",
      "Test_Y       : (52347,)\n"
     ]
    }
   ],
   "source": [
    "X_train, X_val , Y_train , Y_val = train_test_split(X_train,Y_train, test_size=0.065,\n",
    "                                                    stratify = Y_train,shuffle=True,random_state=42)\n",
    "\n",
    "print('Training X   :',X_train.shape)\n",
    "print('Validation X :',X_val.shape)\n",
    "print('Test_X       :',X_test.shape)\n",
    "print('Training_Y   :',Y_train.shape)\n",
    "print('Validation Y :',Y_val.shape)\n",
    "print('Test_Y       :',Y_test.shape)"
   ]
  },
  {
   "cell_type": "code",
   "execution_count": 7,
   "metadata": {},
   "outputs": [],
   "source": [
    "METRICS = [ \n",
    "      keras.metrics.BinaryAccuracy(name='accuracy'),\n",
    "      keras.metrics.Precision(name='precision'),\n",
    "      keras.metrics.Recall(name='recall'),\n",
    "      keras.metrics.AUC(name='auc'),\n",
    "]"
   ]
  },
  {
   "cell_type": "code",
   "execution_count": 8,
   "metadata": {},
   "outputs": [],
   "source": [
    "early_stopping = tf.keras.callbacks.EarlyStopping(\n",
    "    monitor='accuracy', \n",
    "    verbose=1,\n",
    "    patience=3,\n",
    "    mode='max',\n",
    "    min_delta = 0.0001,\n",
    "    restore_best_weights=True)"
   ]
  },
  {
   "cell_type": "code",
   "execution_count": 9,
   "metadata": {},
   "outputs": [],
   "source": [
    "def neural_network():\n",
    "    #Neural Network Model\n",
    "    model = Sequential()\n",
    "    model.add(Dense(42, input_dim=39, activation='relu',kernel_initializer='glorot_uniform',\n",
    "                    bias_initializer='zeros',kernel_regularizer=regularizers.l2(0.0001)))\n",
    "    model.add(Dense(42, activation='relu',kernel_regularizer=regularizers.l2(0.0001)))\n",
    "    model.add(Dense(42, activation='relu',kernel_regularizer=regularizers.l2(0.0001)))\n",
    "    model.add(Dense(42, activation='relu',kernel_regularizer=regularizers.l2(0.0001)))\n",
    "    model.add(Dense(42, activation='relu',kernel_regularizer=regularizers.l2(0.0001)))\n",
    "    model.add(Dense(42, activation='relu',kernel_regularizer=regularizers.l2(0.0001)))\n",
    "    model.add(Dense(42, activation='relu',kernel_regularizer=regularizers.l2(0.0001)))\n",
    "    \n",
    "    model.add(Dense(1, activation='sigmoid'))\n",
    "\n",
    "    model.compile(loss='binary_crossentropy', optimizer='Adagrad', metrics = METRICS)\n",
    "    \n",
    "    return model\n"
   ]
  },
  {
   "cell_type": "code",
   "execution_count": 10,
   "metadata": {
    "scrolled": true
   },
   "outputs": [
    {
     "name": "stdout",
     "output_type": "stream",
     "text": [
      "Train on 87781 samples, validate on 6103 samples\n",
      "Epoch 1/200\n",
      "87781/87781 [==============================] - 4s 42us/step - loss: 0.2366 - accuracy: 0.8848 - precision: 0.8272 - recall: 0.9729 - auc: 0.9464 - val_loss: 0.2119 - val_accuracy: 0.8983 - val_precision: 0.8427 - val_recall: 0.9796 - val_auc: 0.9624\n",
      "Epoch 2/200\n",
      "87781/87781 [==============================] - 3s 34us/step - loss: 0.2156 - accuracy: 0.9000 - precision: 0.8451 - recall: 0.9796 - auc: 0.9648 - val_loss: 0.2097 - val_accuracy: 0.9008 - val_precision: 0.8461 - val_recall: 0.9799 - val_auc: 0.9662\n",
      "Epoch 3/200\n",
      "87781/87781 [==============================] - 3s 34us/step - loss: 0.2119 - accuracy: 0.9015 - precision: 0.8470 - recall: 0.9798 - auc: 0.9671 - val_loss: 0.2055 - val_accuracy: 0.9020 - val_precision: 0.8481 - val_recall: 0.9796 - val_auc: 0.9678\n",
      "Epoch 4/200\n",
      "87781/87781 [==============================] - 3s 33us/step - loss: 0.2101 - accuracy: 0.9025 - precision: 0.8487 - recall: 0.9797 - auc: 0.9682 - val_loss: 0.2043 - val_accuracy: 0.9027 - val_precision: 0.8494 - val_recall: 0.9791 - val_auc: 0.9686\n",
      "Epoch 5/200\n",
      "87781/87781 [==============================] - 3s 34us/step - loss: 0.2084 - accuracy: 0.9031 - precision: 0.8501 - recall: 0.9789 - auc: 0.9690 - val_loss: 0.2041 - val_accuracy: 0.9033 - val_precision: 0.8506 - val_recall: 0.9785 - val_auc: 0.9693\n",
      "Epoch 6/200\n",
      "87781/87781 [==============================] - 3s 35us/step - loss: 0.2069 - accuracy: 0.9035 - precision: 0.8511 - recall: 0.9781 - auc: 0.9695 - val_loss: 0.2016 - val_accuracy: 0.9036 - val_precision: 0.8516 - val_recall: 0.9775 - val_auc: 0.9697\n",
      "Epoch 7/200\n",
      "87781/87781 [==============================] - 3s 32us/step - loss: 0.2058 - accuracy: 0.9036 - precision: 0.8519 - recall: 0.9771 - auc: 0.9699 - val_loss: 0.2010 - val_accuracy: 0.9038 - val_precision: 0.8525 - val_recall: 0.9766 - val_auc: 0.9701\n",
      "Epoch 8/200\n",
      "87781/87781 [==============================] - 3s 34us/step - loss: 0.2049 - accuracy: 0.9040 - precision: 0.8530 - recall: 0.9762 - auc: 0.9703 - val_loss: 0.1998 - val_accuracy: 0.9041 - val_precision: 0.8535 - val_recall: 0.9758 - val_auc: 0.9705\n",
      "Epoch 9/200\n",
      "87781/87781 [==============================] - 3s 34us/step - loss: 0.2042 - accuracy: 0.9043 - precision: 0.8539 - recall: 0.9754 - auc: 0.9706 - val_loss: 0.2000 - val_accuracy: 0.9044 - val_precision: 0.8542 - val_recall: 0.9752 - val_auc: 0.9707\n",
      "Epoch 10/200\n",
      "87781/87781 [==============================] - 3s 32us/step - loss: 0.2037 - accuracy: 0.9045 - precision: 0.8546 - recall: 0.9748 - auc: 0.9709 - val_loss: 0.1997 - val_accuracy: 0.9045 - val_precision: 0.8550 - val_recall: 0.9743 - val_auc: 0.9710\n",
      "Epoch 11/200\n",
      "87781/87781 [==============================] - 3s 31us/step - loss: 0.2028 - accuracy: 0.9046 - precision: 0.8553 - recall: 0.9740 - auc: 0.9711 - val_loss: 0.1984 - val_accuracy: 0.9048 - val_precision: 0.8557 - val_recall: 0.9738 - val_auc: 0.9712\n",
      "Epoch 12/200\n",
      "87781/87781 [==============================] - 3s 33us/step - loss: 0.2023 - accuracy: 0.9049 - precision: 0.8560 - recall: 0.9736 - auc: 0.9713 - val_loss: 0.1977 - val_accuracy: 0.9049 - val_precision: 0.8563 - val_recall: 0.9732 - val_auc: 0.9714\n",
      "Epoch 13/200\n",
      "87781/87781 [==============================] - 3s 31us/step - loss: 0.2017 - accuracy: 0.9050 - precision: 0.8565 - recall: 0.9730 - auc: 0.9714 - val_loss: 0.1983 - val_accuracy: 0.9051 - val_precision: 0.8568 - val_recall: 0.9727 - val_auc: 0.9715\n",
      "Epoch 14/200\n",
      "87781/87781 [==============================] - 3s 31us/step - loss: 0.2011 - accuracy: 0.9052 - precision: 0.8572 - recall: 0.9723 - auc: 0.9716 - val_loss: 0.1988 - val_accuracy: 0.9053 - val_precision: 0.8576 - val_recall: 0.9720 - val_auc: 0.9717\n",
      "Epoch 15/200\n",
      "87781/87781 [==============================] - 3s 34us/step - loss: 0.2007 - accuracy: 0.9054 - precision: 0.8579 - recall: 0.9716 - auc: 0.9718 - val_loss: 0.1953 - val_accuracy: 0.9054 - val_precision: 0.8582 - val_recall: 0.9714 - val_auc: 0.9718\n",
      "Epoch 16/200\n",
      "87781/87781 [==============================] - 3s 32us/step - loss: 0.2002 - accuracy: 0.9055 - precision: 0.8585 - recall: 0.9711 - auc: 0.9719 - val_loss: 0.1966 - val_accuracy: 0.9056 - val_precision: 0.8587 - val_recall: 0.9709 - val_auc: 0.9720\n",
      "Epoch 17/200\n",
      "87781/87781 [==============================] - 3s 30us/step - loss: 0.1997 - accuracy: 0.9056 - precision: 0.8589 - recall: 0.9708 - auc: 0.9720 - val_loss: 0.1950 - val_accuracy: 0.9057 - val_precision: 0.8592 - val_recall: 0.9704 - val_auc: 0.9721\n",
      "Epoch 18/200\n",
      "87781/87781 [==============================] - 3s 30us/step - loss: 0.1994 - accuracy: 0.9058 - precision: 0.8595 - recall: 0.9702 - auc: 0.9722 - val_loss: 0.1943 - val_accuracy: 0.9058 - val_precision: 0.8597 - val_recall: 0.9700 - val_auc: 0.9722\n",
      "Epoch 19/200\n",
      "87781/87781 [==============================] - 3s 30us/step - loss: 0.1990 - accuracy: 0.9059 - precision: 0.8599 - recall: 0.9697 - auc: 0.9723 - val_loss: 0.1959 - val_accuracy: 0.9059 - val_precision: 0.8602 - val_recall: 0.9694 - val_auc: 0.9723\n",
      "Epoch 20/200\n",
      "87781/87781 [==============================] - 3s 32us/step - loss: 0.1988 - accuracy: 0.9060 - precision: 0.8604 - recall: 0.9692 - auc: 0.9724 - val_loss: 0.1993 - val_accuracy: 0.9060 - val_precision: 0.8607 - val_recall: 0.9690 - val_auc: 0.9724\n",
      "Epoch 21/200\n",
      "87781/87781 [==============================] - 3s 31us/step - loss: 0.1982 - accuracy: 0.9061 - precision: 0.8609 - recall: 0.9687 - auc: 0.9725 - val_loss: 0.1940 - val_accuracy: 0.9061 - val_precision: 0.8611 - val_recall: 0.9685 - val_auc: 0.9726\n",
      "Epoch 22/200\n",
      "87781/87781 [==============================] - 3s 31us/step - loss: 0.1980 - accuracy: 0.9062 - precision: 0.8613 - recall: 0.9682 - auc: 0.9726 - val_loss: 0.1926 - val_accuracy: 0.9062 - val_precision: 0.8616 - val_recall: 0.9680 - val_auc: 0.9727\n",
      "Epoch 23/200\n",
      "87781/87781 [==============================] - 3s 34us/step - loss: 0.1976 - accuracy: 0.9062 - precision: 0.8618 - recall: 0.9678 - auc: 0.9727 - val_loss: 0.1927 - val_accuracy: 0.9063 - val_precision: 0.8620 - val_recall: 0.9675 - val_auc: 0.9727\n",
      "Epoch 24/200\n",
      "87781/87781 [==============================] - 3s 30us/step - loss: 0.1974 - accuracy: 0.9064 - precision: 0.8622 - recall: 0.9673 - auc: 0.9728 - val_loss: 0.1987 - val_accuracy: 0.9064 - val_precision: 0.8624 - val_recall: 0.9670 - val_auc: 0.9728\n",
      "Epoch 25/200\n",
      "87781/87781 [==============================] - 3s 30us/step - loss: 0.1968 - accuracy: 0.9064 - precision: 0.8626 - recall: 0.9667 - auc: 0.9729 - val_loss: 0.1918 - val_accuracy: 0.9065 - val_precision: 0.8628 - val_recall: 0.9666 - val_auc: 0.9729\n",
      "Epoch 26/200\n",
      "87781/87781 [==============================] - 3s 32us/step - loss: 0.1967 - accuracy: 0.9065 - precision: 0.8631 - recall: 0.9663 - auc: 0.9730 - val_loss: 0.1921 - val_accuracy: 0.9065 - val_precision: 0.8633 - val_recall: 0.9661 - val_auc: 0.9730\n",
      "Epoch 27/200\n",
      "87781/87781 [==============================] - 3s 32us/step - loss: 0.1964 - accuracy: 0.9066 - precision: 0.8635 - recall: 0.9659 - auc: 0.9731 - val_loss: 0.1930 - val_accuracy: 0.9066 - val_precision: 0.8637 - val_recall: 0.9656 - val_auc: 0.9731\n",
      "Epoch 28/200\n",
      "87781/87781 [==============================] - 3s 31us/step - loss: 0.1958 - accuracy: 0.9067 - precision: 0.8639 - recall: 0.9654 - auc: 0.9731 - val_loss: 0.1926 - val_accuracy: 0.9067 - val_precision: 0.8641 - val_recall: 0.9652 - val_auc: 0.9732\n",
      "Epoch 29/200\n",
      "87781/87781 [==============================] - 3s 30us/step - loss: 0.1958 - accuracy: 0.9067 - precision: 0.8643 - recall: 0.9649 - auc: 0.9732 - val_loss: 0.1933 - val_accuracy: 0.9068 - val_precision: 0.8646 - val_recall: 0.9646 - val_auc: 0.9733\n",
      "Epoch 30/200\n",
      "87781/87781 [==============================] - 3s 30us/step - loss: 0.1956 - accuracy: 0.9068 - precision: 0.8648 - recall: 0.9644 - auc: 0.9733 - val_loss: 0.1918 - val_accuracy: 0.9068 - val_precision: 0.8649 - val_recall: 0.9642 - val_auc: 0.9733\n",
      "Epoch 31/200\n",
      "87781/87781 [==============================] - 3s 30us/step - loss: 0.1953 - accuracy: 0.9068 - precision: 0.8651 - recall: 0.9640 - auc: 0.9734 - val_loss: 0.1912 - val_accuracy: 0.9069 - val_precision: 0.8652 - val_recall: 0.9638 - val_auc: 0.9734\n"
     ]
    },
    {
     "name": "stdout",
     "output_type": "stream",
     "text": [
      "Epoch 32/200\n",
      "87781/87781 [==============================] - 3s 31us/step - loss: 0.1950 - accuracy: 0.9069 - precision: 0.8655 - recall: 0.9636 - auc: 0.9734 - val_loss: 0.1977 - val_accuracy: 0.9069 - val_precision: 0.8656 - val_recall: 0.9634 - val_auc: 0.9735\n",
      "Epoch 33/200\n",
      "87781/87781 [==============================] - 3s 35us/step - loss: 0.1951 - accuracy: 0.9069 - precision: 0.8658 - recall: 0.9632 - auc: 0.9735 - val_loss: 0.1923 - val_accuracy: 0.9070 - val_precision: 0.8660 - val_recall: 0.9629 - val_auc: 0.9735\n",
      "Epoch 34/200\n",
      "87781/87781 [==============================] - 3s 33us/step - loss: 0.1948 - accuracy: 0.9070 - precision: 0.8662 - recall: 0.9627 - auc: 0.9736 - val_loss: 0.1910 - val_accuracy: 0.9070 - val_precision: 0.8663 - val_recall: 0.9625 - val_auc: 0.9736\n",
      "Epoch 35/200\n",
      "87781/87781 [==============================] - 3s 33us/step - loss: 0.1944 - accuracy: 0.9070 - precision: 0.8665 - recall: 0.9624 - auc: 0.9736 - val_loss: 0.1900 - val_accuracy: 0.9071 - val_precision: 0.8667 - val_recall: 0.9622 - val_auc: 0.9737\n",
      "Epoch 36/200\n",
      "87781/87781 [==============================] - 3s 32us/step - loss: 0.1943 - accuracy: 0.9071 - precision: 0.8669 - recall: 0.9620 - auc: 0.9737 - val_loss: 0.1896 - val_accuracy: 0.9071 - val_precision: 0.8670 - val_recall: 0.9618 - val_auc: 0.9737\n",
      "Epoch 37/200\n",
      "87781/87781 [==============================] - 3s 30us/step - loss: 0.1941 - accuracy: 0.9072 - precision: 0.8671 - recall: 0.9617 - auc: 0.9737 - val_loss: 0.1904 - val_accuracy: 0.9072 - val_precision: 0.8673 - val_recall: 0.9615 - val_auc: 0.9738\n",
      "Epoch 38/200\n",
      "87781/87781 [==============================] - ETA: 0s - loss: 0.1941 - accuracy: 0.9072 - precision: 0.8675 - recall: 0.9613 - auc: 0.973 - 3s 31us/step - loss: 0.1939 - accuracy: 0.9072 - precision: 0.8675 - recall: 0.9613 - auc: 0.9738 - val_loss: 0.1905 - val_accuracy: 0.9072 - val_precision: 0.8676 - val_recall: 0.9611 - val_auc: 0.9738\n",
      "Epoch 39/200\n",
      "87781/87781 [==============================] - 3s 32us/step - loss: 0.1936 - accuracy: 0.9072 - precision: 0.8677 - recall: 0.9610 - auc: 0.9739 - val_loss: 0.1892 - val_accuracy: 0.9073 - val_precision: 0.8679 - val_recall: 0.9609 - val_auc: 0.9739\n",
      "Epoch 40/200\n",
      "87781/87781 [==============================] - 3s 33us/step - loss: 0.1935 - accuracy: 0.9073 - precision: 0.8680 - recall: 0.9607 - auc: 0.9739 - val_loss: 0.1892 - val_accuracy: 0.9073 - val_precision: 0.8682 - val_recall: 0.9605 - val_auc: 0.9739\n",
      "Epoch 41/200\n",
      "87781/87781 [==============================] - 3s 32us/step - loss: 0.1933 - accuracy: 0.9073 - precision: 0.8683 - recall: 0.9604 - auc: 0.9740 - val_loss: 0.1892 - val_accuracy: 0.9074 - val_precision: 0.8684 - val_recall: 0.9603 - val_auc: 0.9740\n",
      "Epoch 42/200\n",
      "87781/87781 [==============================] - 3s 31us/step - loss: 0.1932 - accuracy: 0.9074 - precision: 0.8686 - recall: 0.9601 - auc: 0.9740 - val_loss: 0.1905 - val_accuracy: 0.9074 - val_precision: 0.8687 - val_recall: 0.9599 - val_auc: 0.9740\n",
      "Epoch 43/200\n",
      "87781/87781 [==============================] - 3s 33us/step - loss: 0.1931 - accuracy: 0.9075 - precision: 0.8689 - recall: 0.9597 - auc: 0.9741 - val_loss: 0.1897 - val_accuracy: 0.9075 - val_precision: 0.8690 - val_recall: 0.9596 - val_auc: 0.9741\n",
      "Epoch 44/200\n",
      "87781/87781 [==============================] - 3s 33us/step - loss: 0.1929 - accuracy: 0.9075 - precision: 0.8691 - recall: 0.9595 - auc: 0.9741 - val_loss: 0.1891 - val_accuracy: 0.9075 - val_precision: 0.8693 - val_recall: 0.9593 - val_auc: 0.9741\n",
      "Epoch 45/200\n",
      "87781/87781 [==============================] - 3s 30us/step - loss: 0.1926 - accuracy: 0.9076 - precision: 0.8694 - recall: 0.9592 - auc: 0.9742 - val_loss: 0.1882 - val_accuracy: 0.9076 - val_precision: 0.8696 - val_recall: 0.9591 - val_auc: 0.9742\n",
      "Epoch 46/200\n",
      "87781/87781 [==============================] - 3s 33us/step - loss: 0.1925 - accuracy: 0.9076 - precision: 0.8697 - recall: 0.9589 - auc: 0.9742 - val_loss: 0.1930 - val_accuracy: 0.9076 - val_precision: 0.8698 - val_recall: 0.9587 - val_auc: 0.9742\n",
      "Epoch 47/200\n",
      "87781/87781 [==============================] - 3s 33us/step - loss: 0.1925 - accuracy: 0.9076 - precision: 0.8700 - recall: 0.9586 - auc: 0.9742 - val_loss: 0.1898 - val_accuracy: 0.9077 - val_precision: 0.8701 - val_recall: 0.9584 - val_auc: 0.9743\n",
      "Epoch 48/200\n",
      "87781/87781 [==============================] - 3s 33us/step - loss: 0.1925 - accuracy: 0.9077 - precision: 0.8702 - recall: 0.9583 - auc: 0.9743 - val_loss: 0.1889 - val_accuracy: 0.9077 - val_precision: 0.8703 - val_recall: 0.9582 - val_auc: 0.9743\n",
      "Epoch 49/200\n",
      "87781/87781 [==============================] - 3s 35us/step - loss: 0.1922 - accuracy: 0.9077 - precision: 0.8704 - recall: 0.9581 - auc: 0.9743 - val_loss: 0.1881 - val_accuracy: 0.9077 - val_precision: 0.8705 - val_recall: 0.9580 - val_auc: 0.9744\n",
      "Epoch 50/200\n",
      "87781/87781 [==============================] - 3s 35us/step - loss: 0.1919 - accuracy: 0.9078 - precision: 0.8706 - recall: 0.9579 - auc: 0.9744 - val_loss: 0.1940 - val_accuracy: 0.9078 - val_precision: 0.8707 - val_recall: 0.9577 - val_auc: 0.9744\n",
      "Epoch 51/200\n",
      "87781/87781 [==============================] - 3s 34us/step - loss: 0.1919 - accuracy: 0.9078 - precision: 0.8709 - recall: 0.9575 - auc: 0.9744 - val_loss: 0.1881 - val_accuracy: 0.9078 - val_precision: 0.8710 - val_recall: 0.9574 - val_auc: 0.9744\n",
      "Restoring model weights from the end of the best epoch.\n",
      "Epoch 00051: early stopping\n"
     ]
    },
    {
     "data": {
      "text/plain": [
       "<keras.callbacks.callbacks.History at 0x239b796ff60>"
      ]
     },
     "execution_count": 10,
     "metadata": {},
     "output_type": "execute_result"
    }
   ],
   "source": [
    "estimator = KerasClassifier(build_fn=neural_network)\n",
    "estimator.fit(X_train,Y_train,verbose=1,callbacks=[early_stopping], epochs=200,validation_data=(X_val,Y_val), batch_size=64)"
   ]
  },
  {
   "cell_type": "code",
   "execution_count": 11,
   "metadata": {
    "scrolled": true
   },
   "outputs": [
    {
     "data": {
      "text/plain": [
       "array([[1],\n",
       "       [1],\n",
       "       [1],\n",
       "       ...,\n",
       "       [1],\n",
       "       [1],\n",
       "       [1]], dtype=int64)"
      ]
     },
     "execution_count": 11,
     "metadata": {},
     "output_type": "execute_result"
    }
   ],
   "source": [
    "test_predictions = estimator.predict(X_test)\n",
    "test_predictions"
   ]
  },
  {
   "cell_type": "code",
   "execution_count": 12,
   "metadata": {
    "scrolled": true
   },
   "outputs": [
    {
     "name": "stdout",
     "output_type": "stream",
     "text": [
      "Epoch 1/1\n",
      "4882/4882 [==============================] - 1s 130us/step - loss: 0.3001 - accuracy: 0.9078 - precision: 0.8710 - recall: 0.9574 - auc: 0.9744\n",
      "1221/1221 [==============================] - 0s 143us/step\n",
      "Epoch 1/1\n",
      "4882/4882 [==============================] - 1s 128us/step - loss: 0.2868 - accuracy: 0.9078 - precision: 0.8710 - recall: 0.9574 - auc: 0.9744\n",
      "1221/1221 [==============================] - 0s 125us/step\n",
      "Epoch 1/1\n",
      "4882/4882 [==============================] - 1s 123us/step - loss: 0.3004 - accuracy: 0.9078 - precision: 0.8709 - recall: 0.9575 - auc: 0.9744\n",
      "1221/1221 [==============================] - 0s 136us/step\n",
      "Epoch 1/1\n",
      "4883/4883 [==============================] - 1s 146us/step - loss: 0.2927 - accuracy: 0.9077 - precision: 0.8709 - recall: 0.9575 - auc: 0.9743\n",
      "1220/1220 [==============================] - 0s 139us/step\n",
      "Epoch 1/1\n",
      "4883/4883 [==============================] - 1s 164us/step - loss: 0.3036 - accuracy: 0.9077 - precision: 0.8708 - recall: 0.9575 - auc: 0.9743\n",
      "1220/1220 [==============================] - 0s 144us/step\n",
      "Cross-Validation set accuracy: 90.775843 %\n"
     ]
    }
   ],
   "source": [
    "print(\"Cross-Validation set accuracy: {:.6f} %\".format((cross_val_score(estimator, X_val, Y_val, cv=5).mean())*100))"
   ]
  },
  {
   "cell_type": "code",
   "execution_count": 13,
   "metadata": {},
   "outputs": [
    {
     "name": "stdout",
     "output_type": "stream",
     "text": [
      "87781/87781 [==============================] - 3s 34us/step\n",
      "Train set accuracy           : 90.7716 %\n",
      "Test set accuracy            : 78.4247 %\n",
      "Test set precision           : 63.0530 %\n",
      "Test set recall              : 96.8387 %\n"
     ]
    }
   ],
   "source": [
    "print(\"Train set accuracy           : {:.4f} %\".format(estimator.score(X_train,Y_train)*100))\n",
    "print(\"Test set accuracy            : {:.4f} %\".format(accuracy_score(Y_test, test_predictions)*100))\n",
    "print(\"Test set precision           : {:.4f} %\".format(precision_score(Y_test, test_predictions)*100))\n",
    "print(\"Test set recall              : {:.4f} %\".format(recall_score(Y_test, test_predictions)*100))"
   ]
  },
  {
   "cell_type": "code",
   "execution_count": 14,
   "metadata": {},
   "outputs": [],
   "source": [
    "def plot_cm(labels, predictions, p=0.81):\n",
    "    cm = confusion_matrix(labels, predictions > p)\n",
    "    plt.figure(figsize=(5,5))\n",
    "    sns.heatmap(cm, annot=True, fmt=\"d\")\n",
    "    plt.title('Confusion matrix @{:.2f}'.format(p))\n",
    "    plt.ylabel('Actual label')\n",
    "    plt.xlabel('Predicted label')\n",
    "\n",
    "    plt.text(0.3,2.6,'True Negatives  : '+ str(cm[0][0]),size=14)\n",
    "    plt.text(0.3,2.8,'False Positives   : '+ str(cm[0][1]),size=14)\n",
    "    plt.text(0.3,3,'False Negatives : '+ str(cm[1][0]),size=14)\n",
    "    plt.text(0.3,3.2,'True Positives    : '+ str(cm[1][1]),size=14)"
   ]
  },
  {
   "cell_type": "code",
   "execution_count": 15,
   "metadata": {
    "scrolled": false
   },
   "outputs": [
    {
     "data": {
      "image/png": "[encoded data removed]",
      "text/plain": [
       "<Figure size 360x360 with 2 Axes>"
      ]
     },
     "metadata": {
      "needs_background": "light"
     },
     "output_type": "display_data"
    }
   ],
   "source": [
    "plot_cm(Y_test, test_predictions)"
   ]
  },
  {
   "cell_type": "code",
   "execution_count": 16,
   "metadata": {},
   "outputs": [
    {
     "name": "stdout",
     "output_type": "stream",
     "text": [
      "              precision    recall  f1-score   support\n",
      "\n",
      "           0       0.97      0.68      0.80     33494\n",
      "           1       0.63      0.97      0.76     18853\n",
      "\n",
      "    accuracy                           0.78     52347\n",
      "   macro avg       0.80      0.82      0.78     52347\n",
      "weighted avg       0.85      0.78      0.79     52347\n",
      "\n"
     ]
    }
   ],
   "source": [
    "print(classification_report(Y_test, test_predictions))"
   ]
  },
  {
   "cell_type": "code",
   "execution_count": 17,
   "metadata": {},
   "outputs": [],
   "source": [
    "x = pd.DataFrame(X_train)"
   ]
  },
  {
   "cell_type": "code",
   "execution_count": 18,
   "metadata": {},
   "outputs": [],
   "source": [
    "y = pd.DataFrame(Y_train)\n",
    "y.reset_index(drop=True,inplace=True)"
   ]
  },
  {
   "cell_type": "code",
   "execution_count": 19,
   "metadata": {},
   "outputs": [],
   "source": [
    "pca = PCA(n_components=2)\n",
    "principalComponents = pca.fit_transform(x)\n",
    "principalDf = pd.DataFrame(data = principalComponents, columns = ['PC1', 'PC2'])\n",
    "y['label'] = y['label'].map( {0:'normal', 1:'anomaly'} )\n",
    "finalDf = pd.concat([principalDf, y], axis = 1)"
   ]
  },
  {
   "cell_type": "code",
   "execution_count": 20,
   "metadata": {},
   "outputs": [
    {
     "data": {
      "image/png": "[encoded data removed]",
      "text/plain": [
       "<Figure size 576x576 with 1 Axes>"
      ]
     },
     "metadata": {
      "needs_background": "light"
     },
     "output_type": "display_data"
    }
   ],
   "source": [
    "fig = plt.figure(figsize = (8,8))\n",
    "ax = fig.add_subplot(1,1,1) \n",
    "ax.set_xlabel('PC1', fontsize = 15)\n",
    "ax.set_ylabel('PC2', fontsize = 15)\n",
    "ax.set_title('2 Component PCA', fontsize = 20)\n",
    "\n",
    "\n",
    "targets = ['normal', 'anomaly']\n",
    "colors = ['r', 'b']\n",
    "for target, color in zip(targets,colors):\n",
    "    indicesToKeep = finalDf['label'] == target\n",
    "    ax.scatter(finalDf.loc[indicesToKeep, 'PC1'], \n",
    "                  finalDf.loc[indicesToKeep, 'PC2'],  \n",
    "                  c = color, \n",
    "                  s = 50)\n",
    "ax.legend(targets)\n",
    "ax.grid()"
   ]
  }
 ],
 "metadata": {
  "kernelspec": {
   "display_name": "Python 3",
   "language": "python",
   "name": "python3"
  },
  "language_info": {
   "codemirror_mode": {
    "name": "ipython",
    "version": 3
   },
   "file_extension": ".py",
   "mimetype": "text/x-python",
   "name": "python",
   "nbconvert_exporter": "python",
   "pygments_lexer": "ipython3",
   "version": "3.7.3"
  }
 },
 "nbformat": 4,
 "nbformat_minor": 4
}
