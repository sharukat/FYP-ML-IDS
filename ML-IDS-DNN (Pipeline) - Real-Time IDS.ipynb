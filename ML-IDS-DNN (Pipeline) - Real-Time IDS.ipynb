{
 "cells": [
  {
   "cell_type": "code",
   "execution_count": 1,
   "metadata": {},
   "outputs": [
    {
     "name": "stdout",
     "output_type": "stream",
     "text": [
      "/media/sharukathirimanne/OS/Users/Sharuka Thirimanne/Desktop/FYP-ML-IDS\n"
     ]
    }
   ],
   "source": [
    "cd /media/sharukathirimanne/OS/Users/Sharuka Thirimanne/Desktop/FYP-ML-IDS"
   ]
  },
  {
   "cell_type": "code",
   "execution_count": 2,
   "metadata": {},
   "outputs": [],
   "source": [
    "import sklearn\n",
    "import numpy as np\n",
    "import pandas as pd\n",
    "import seaborn as sns\n",
    "import tensorflow as tf\n",
    "import matplotlib.pyplot as plt\n",
    "\n",
    "from tensorflow import keras\n",
    "from keras.layers import Dense\n",
    "from keras.models import Sequential\n",
    "from tensorflow.keras import regularizers\n",
    "from tensorflow.keras import Model, layers\n",
    "from sklearn.model_selection import cross_val_score\n",
    "from keras.wrappers.scikit_learn import KerasClassifier\n",
    "from sklearn.model_selection import GridSearchCV\n",
    "from sklearn.utils import shuffle\n",
    "from sklearn.metrics import accuracy_score, precision_score, recall_score, classification_report, confusion_matrix,f1_score\n",
    "\n",
    "from sklearn.preprocessing import StandardScaler\n",
    "from sklearn.preprocessing import OneHotEncoder\n",
    "\n",
    "#Pipelines\n",
    "from sklearn.compose import ColumnTransformer\n",
    "from sklearn.model_selection import KFold\n",
    "from sklearn.pipeline import make_pipeline\n",
    "from sklearn.pipeline import Pipeline\n",
    "from sklearn.compose import make_column_transformer\n",
    "\n",
    "# Pipeline Saving\n",
    "from pickle import dump\n",
    "from io import StringIO\n",
    "import joblib\n",
    "from keras.models import model_from_json\n",
    "import json\n",
    "\n",
    "import datetime\n"
   ]
  },
  {
   "cell_type": "code",
   "execution_count": 3,
   "metadata": {},
   "outputs": [],
   "source": [
    "# Load the TensorBoard notebook extension\n",
    "%load_ext tensorboard"
   ]
  },
  {
   "cell_type": "code",
   "execution_count": 4,
   "metadata": {},
   "outputs": [],
   "source": [
    "# Clear any logs from previous runs\n",
    "!rm -rf ./logs/ "
   ]
  },
  {
   "cell_type": "markdown",
   "metadata": {},
   "source": [
    "# ML Model Training"
   ]
  },
  {
   "cell_type": "code",
   "execution_count": 5,
   "metadata": {
    "scrolled": false
   },
   "outputs": [
    {
     "name": "stdout",
     "output_type": "stream",
     "text": [
      "Number of features before feature selection : 28\n",
      "Original dataset duplicates : 27\n",
      "Number of features after feature selection : 28\n",
      "Duplicates after feature selection : 27\n",
      "Duplicates after category reduction : 1486\n",
      "Duplicates after duplicate drop : 0\n"
     ]
    }
   ],
   "source": [
    "def train_preprocess():\n",
    "    df_train = pd.read_csv('Datasets/csv_result-KDDTrain+.csv')\n",
    "    df_train.drop(['id'], axis = 'columns' , inplace = True)\n",
    "    \n",
    "    col_list = ['duration','protocol_type','service','flag','src_bytes','dst_bytes','land','wrong_fragment','urgent',\n",
    "                'count','srv_count','serror_rate','srv_serror_rate','rerror_rate','srv_rerror_rate','same_srv_rate',\n",
    "                'diff_srv_rate','srv_diff_host_rate','dst_host_count','dst_host_srv_count','dst_host_same_srv_rate',\n",
    "                'dst_host_diff_srv_rate','dst_host_same_src_port_rate','dst_host_srv_diff_host_rate','dst_host_serror_rate',\n",
    "                'dst_host_srv_serror_rate','dst_host_rerror_rate','dst_host_srv_rerror_rate','class']\n",
    "    \n",
    "    df_train = df_train[col_list]\n",
    "    \n",
    "    #for i in range(11,20):\n",
    "        #df_train.drop(df_train.columns[i],axis='columns',inplace=True)\n",
    "        \n",
    "    num_features = len(df_train.columns) - 1\n",
    "    print('Number of features before feature selection :',num_features)\n",
    "    print('Original dataset duplicates :',df_train.duplicated().sum())\n",
    "\n",
    "    num_features = len(df_train.columns) - 1\n",
    "    print('Number of features after feature selection :',num_features)\n",
    "    print('Duplicates after feature selection :',df_train.duplicated().sum())\n",
    "    for col in ['protocol_type','flag','service']:\n",
    "        df_train[col] = df_train[col].astype('category')\n",
    "    \n",
    "    label1 = 'Other_service'\n",
    "    others1 = df_train['service'].value_counts().index[30:]\n",
    "    df_train['service'] = df_train['service'].cat.add_categories([label1])\n",
    "    df_train['service'] = df_train['service'].replace(others1, label1)\n",
    "\n",
    "    df_train['service'].replace({'time':'Other_service','urp_i':'Other_service',\n",
    "                                 'csnet_ns':'Other_service','supdup':'Other_service',\n",
    "                                 'discard':'Other_service','http_443':'Other_service'}, inplace = True)\n",
    "    \n",
    "    print('Duplicates after category reduction :',df_train.duplicated().sum())\n",
    "    df_train['class'] = df_train['class'].map( {'normal':0, 'anomaly':1} )\n",
    "    df_train.drop_duplicates(keep='first',inplace=True)\n",
    "    print('Duplicates after duplicate drop :',df_train.duplicated().sum())\n",
    "    df_train.reset_index(drop=True,inplace=True)\n",
    "    \n",
    "    return df_train\n",
    "df_train = train_preprocess()"
   ]
  },
  {
   "cell_type": "code",
   "execution_count": 6,
   "metadata": {},
   "outputs": [
    {
     "name": "stdout",
     "output_type": "stream",
     "text": [
      "tcp     101212\n",
      "udp      14993\n",
      "icmp      8282\n",
      "Name: protocol_type, dtype: int64\n",
      "======================================\n",
      "http             40332\n",
      "private          21853\n",
      "Other_service    12075\n",
      "domain_u          9043\n",
      "smtp              7313\n",
      "ftp_data          6848\n",
      "eco_i             4582\n",
      "other             4359\n",
      "ecr_i             3072\n",
      "telnet            2353\n",
      "finger            1767\n",
      "ftp               1754\n",
      "auth               955\n",
      "Z39_50             862\n",
      "uucp               780\n",
      "courier            734\n",
      "bgp                710\n",
      "whois              693\n",
      "uucp_path          689\n",
      "iso_tsap           687\n",
      "imap4              647\n",
      "nnsp               630\n",
      "vmnet              617\n",
      "domain             569\n",
      "ctf                563\n",
      "Name: service, dtype: int64\n",
      "======================================\n",
      "SF        74918\n",
      "S0        33653\n",
      "REJ       11058\n",
      "RSTR       2389\n",
      "RSTO       1527\n",
      "S1          365\n",
      "SH          252\n",
      "S2          127\n",
      "RSTOS0      103\n",
      "S3           49\n",
      "OTH          46\n",
      "Name: flag, dtype: int64\n"
     ]
    }
   ],
   "source": [
    "print(df_train['protocol_type'].value_counts())\n",
    "print('======================================')\n",
    "print(df_train['service'].value_counts())\n",
    "print('======================================')\n",
    "print(df_train['flag'].value_counts())"
   ]
  },
  {
   "cell_type": "code",
   "execution_count": 7,
   "metadata": {},
   "outputs": [
    {
     "data": {
      "text/plain": [
       "Index(['duration', 'protocol_type', 'service', 'flag', 'src_bytes',\n",
       "       'dst_bytes', 'land', 'wrong_fragment', 'urgent', 'count', 'srv_count',\n",
       "       'serror_rate', 'srv_serror_rate', 'rerror_rate', 'srv_rerror_rate',\n",
       "       'same_srv_rate', 'diff_srv_rate', 'srv_diff_host_rate',\n",
       "       'dst_host_count', 'dst_host_srv_count', 'dst_host_same_srv_rate',\n",
       "       'dst_host_diff_srv_rate', 'dst_host_same_src_port_rate',\n",
       "       'dst_host_srv_diff_host_rate', 'dst_host_serror_rate',\n",
       "       'dst_host_srv_serror_rate', 'dst_host_rerror_rate',\n",
       "       'dst_host_srv_rerror_rate', 'class'],\n",
       "      dtype='object')"
      ]
     },
     "execution_count": 7,
     "metadata": {},
     "output_type": "execute_result"
    }
   ],
   "source": [
    "df_train.columns"
   ]
  },
  {
   "cell_type": "code",
   "execution_count": 8,
   "metadata": {},
   "outputs": [
    {
     "data": {
      "text/plain": [
       "(124487, 29)"
      ]
     },
     "execution_count": 8,
     "metadata": {},
     "output_type": "execute_result"
    }
   ],
   "source": [
    "df_train.shape"
   ]
  },
  {
   "cell_type": "code",
   "execution_count": 9,
   "metadata": {},
   "outputs": [],
   "source": [
    "limit1 = df_train.shape[1]-1\n",
    "    \n",
    "X_train = df_train.iloc[:,0:limit1] # train set features\n",
    "y_train = df_train.iloc[:,limit1]"
   ]
  },
  {
   "cell_type": "code",
   "execution_count": 10,
   "metadata": {},
   "outputs": [
    {
     "data": {
      "text/plain": [
       "Index(['duration', 'protocol_type', 'service', 'flag', 'src_bytes',\n",
       "       'dst_bytes', 'land', 'wrong_fragment', 'urgent', 'count', 'srv_count',\n",
       "       'serror_rate', 'srv_serror_rate', 'rerror_rate', 'srv_rerror_rate',\n",
       "       'same_srv_rate', 'diff_srv_rate', 'srv_diff_host_rate',\n",
       "       'dst_host_count', 'dst_host_srv_count', 'dst_host_same_srv_rate',\n",
       "       'dst_host_diff_srv_rate', 'dst_host_same_src_port_rate',\n",
       "       'dst_host_srv_diff_host_rate', 'dst_host_serror_rate',\n",
       "       'dst_host_srv_serror_rate', 'dst_host_rerror_rate',\n",
       "       'dst_host_srv_rerror_rate', 'class'],\n",
       "      dtype='object')"
      ]
     },
     "execution_count": 10,
     "metadata": {},
     "output_type": "execute_result"
    }
   ],
   "source": [
    "df_train.columns"
   ]
  },
  {
   "cell_type": "code",
   "execution_count": 11,
   "metadata": {},
   "outputs": [],
   "source": [
    "categorical_cols = ['protocol_type','flag','service']\n",
    "std_cols = ['duration','src_bytes','dst_bytes', 'land', 'wrong_fragment', 'urgent', 'count', 'srv_count','serror_rate',\n",
    "            'srv_serror_rate', 'rerror_rate', 'srv_rerror_rate','same_srv_rate', 'diff_srv_rate', 'srv_diff_host_rate',\n",
    "            'dst_host_count', 'dst_host_srv_count', 'dst_host_same_srv_rate','dst_host_diff_srv_rate',\n",
    "            'dst_host_same_src_port_rate','dst_host_srv_diff_host_rate', 'dst_host_serror_rate','dst_host_srv_serror_rate',\n",
    "            'dst_host_rerror_rate','dst_host_srv_rerror_rate']"
   ]
  },
  {
   "cell_type": "code",
   "execution_count": 12,
   "metadata": {},
   "outputs": [
    {
     "data": {
      "text/plain": [
       "(124487, 28)"
      ]
     },
     "execution_count": 12,
     "metadata": {},
     "output_type": "execute_result"
    }
   ],
   "source": [
    "X_train.shape"
   ]
  },
  {
   "cell_type": "code",
   "execution_count": 13,
   "metadata": {},
   "outputs": [],
   "source": [
    "ohe = OneHotEncoder()\n",
    "std_scaler = StandardScaler()\n",
    "\n",
    "columnTransformer = make_column_transformer(\n",
    "    ( ohe, categorical_cols),\n",
    "    (std_scaler,std_cols), \n",
    "    remainder='passthrough')\n",
    "\n",
    "X_train = columnTransformer.fit_transform(X_train)"
   ]
  },
  {
   "cell_type": "code",
   "execution_count": 14,
   "metadata": {},
   "outputs": [
    {
     "data": {
      "text/plain": [
       "(124487, 64)"
      ]
     },
     "execution_count": 14,
     "metadata": {},
     "output_type": "execute_result"
    }
   ],
   "source": [
    "X_train.shape"
   ]
  },
  {
   "cell_type": "code",
   "execution_count": 15,
   "metadata": {},
   "outputs": [],
   "source": [
    "METRICS = [ \n",
    "      keras.metrics.BinaryAccuracy(name='accuracy'),\n",
    "      keras.metrics.Precision(name='precision'),\n",
    "      keras.metrics.Recall(name='recall'),\n",
    "      keras.metrics.AUC(name='auc'),]\n",
    "\n",
    "early_stopping = tf.keras.callbacks.EarlyStopping(\n",
    "    monitor='accuracy', \n",
    "    verbose=1,\n",
    "    patience=3,\n",
    "    mode='max',\n",
    "    restore_best_weights=True)"
   ]
  },
  {
   "cell_type": "code",
   "execution_count": 16,
   "metadata": {
    "scrolled": true
   },
   "outputs": [
    {
     "name": "stdout",
     "output_type": "stream",
     "text": [
      "Epoch 1/50\n",
      "2724/2724 [==============================] - 18s 3ms/step - loss: 0.0678 - accuracy: 0.9650 - precision: 0.9631 - recall: 0.9659 - auc: 0.9908 - val_loss: 0.0355 - val_accuracy: 0.9839 - val_precision: 0.9861 - val_recall: 0.9788 - val_auc: 0.9981\n",
      "Epoch 2/50\n",
      "2724/2724 [==============================] - 7s 3ms/step - loss: 0.0323 - accuracy: 0.9853 - precision: 0.9868 - recall: 0.9811 - auc: 0.9984 - val_loss: 0.0240 - val_accuracy: 0.9869 - val_precision: 0.9886 - val_recall: 0.9827 - val_auc: 0.9987\n",
      "Epoch 3/50\n",
      "2724/2724 [==============================] - 8s 3ms/step - loss: 0.0246 - accuracy: 0.9874 - precision: 0.9894 - recall: 0.9832 - auc: 0.9988 - val_loss: 0.0249 - val_accuracy: 0.9882 - val_precision: 0.9903 - val_recall: 0.9840 - val_auc: 0.9990\n",
      "Epoch 4/50\n",
      "2724/2724 [==============================] - 9s 3ms/step - loss: 0.0220 - accuracy: 0.9886 - precision: 0.9908 - recall: 0.9842 - auc: 0.9990 - val_loss: 0.0211 - val_accuracy: 0.9892 - val_precision: 0.9911 - val_recall: 0.9854 - val_auc: 0.9991\n",
      "Epoch 5/50\n",
      "2724/2724 [==============================] - 9s 3ms/step - loss: 0.0203 - accuracy: 0.9895 - precision: 0.9912 - recall: 0.9859 - auc: 0.9991 - val_loss: 0.0246 - val_accuracy: 0.9899 - val_precision: 0.9916 - val_recall: 0.9864 - val_auc: 0.9992\n",
      "Epoch 6/50\n",
      "2724/2724 [==============================] - 9s 3ms/step - loss: 0.0183 - accuracy: 0.9901 - precision: 0.9918 - recall: 0.9867 - auc: 0.9992 - val_loss: 0.0285 - val_accuracy: 0.9905 - val_precision: 0.9921 - val_recall: 0.9872 - val_auc: 0.9992\n",
      "Epoch 7/50\n",
      "2724/2724 [==============================] - 9s 3ms/step - loss: 0.0166 - accuracy: 0.9907 - precision: 0.9922 - recall: 0.9875 - auc: 0.9993 - val_loss: 0.0213 - val_accuracy: 0.9910 - val_precision: 0.9925 - val_recall: 0.9880 - val_auc: 0.9993\n",
      "Epoch 8/50\n",
      "2724/2724 [==============================] - 9s 3ms/step - loss: 0.0152 - accuracy: 0.9912 - precision: 0.9927 - recall: 0.9882 - auc: 0.9993 - val_loss: 0.0238 - val_accuracy: 0.9915 - val_precision: 0.9929 - val_recall: 0.9885 - val_auc: 0.9993\n",
      "Epoch 9/50\n",
      "2724/2724 [==============================] - 9s 3ms/step - loss: 0.0151 - accuracy: 0.9916 - precision: 0.9931 - recall: 0.9886 - auc: 0.9993 - val_loss: 0.0235 - val_accuracy: 0.9918 - val_precision: 0.9933 - val_recall: 0.9888 - val_auc: 0.9993\n",
      "Epoch 10/50\n",
      "2724/2724 [==============================] - 10s 4ms/step - loss: 0.0148 - accuracy: 0.9919 - precision: 0.9934 - recall: 0.9889 - auc: 0.9993 - val_loss: 0.0255 - val_accuracy: 0.9921 - val_precision: 0.9935 - val_recall: 0.9892 - val_auc: 0.9994\n",
      "Epoch 11/50\n",
      "2724/2724 [==============================] - 10s 4ms/step - loss: 0.0140 - accuracy: 0.9921 - precision: 0.9934 - recall: 0.9893 - auc: 0.9994 - val_loss: 0.0195 - val_accuracy: 0.9922 - val_precision: 0.9936 - val_recall: 0.9895 - val_auc: 0.9994\n",
      "Epoch 12/50\n",
      "2724/2724 [==============================] - 11s 4ms/step - loss: 0.0139 - accuracy: 0.9923 - precision: 0.9936 - recall: 0.9896 - auc: 0.9994 - val_loss: 0.0194 - val_accuracy: 0.9924 - val_precision: 0.9937 - val_recall: 0.9898 - val_auc: 0.9994\n",
      "Epoch 13/50\n",
      "2724/2724 [==============================] - 9s 3ms/step - loss: 0.0125 - accuracy: 0.9925 - precision: 0.9938 - recall: 0.9899 - auc: 0.9994 - val_loss: 0.0160 - val_accuracy: 0.9927 - val_precision: 0.9939 - val_recall: 0.9901 - val_auc: 0.9994\n",
      "Epoch 14/50\n",
      "2724/2724 [==============================] - 11s 4ms/step - loss: 0.0137 - accuracy: 0.9927 - precision: 0.9940 - recall: 0.9902 - auc: 0.9994 - val_loss: 0.0164 - val_accuracy: 0.9928 - val_precision: 0.9941 - val_recall: 0.9903 - val_auc: 0.9994\n",
      "Epoch 15/50\n",
      "2724/2724 [==============================] - 9s 3ms/step - loss: 0.0119 - accuracy: 0.9929 - precision: 0.9941 - recall: 0.9903 - auc: 0.9994 - val_loss: 0.0241 - val_accuracy: 0.9930 - val_precision: 0.9942 - val_recall: 0.9905 - val_auc: 0.9994\n",
      "Epoch 16/50\n",
      "2724/2724 [==============================] - 9s 3ms/step - loss: 0.0134 - accuracy: 0.9930 - precision: 0.9943 - recall: 0.9905 - auc: 0.9994 - val_loss: 0.0227 - val_accuracy: 0.9931 - val_precision: 0.9944 - val_recall: 0.9906 - val_auc: 0.9994\n",
      "Epoch 17/50\n",
      "2724/2724 [==============================] - 11s 4ms/step - loss: 0.0127 - accuracy: 0.9932 - precision: 0.9944 - recall: 0.9907 - auc: 0.9995 - val_loss: 0.0195 - val_accuracy: 0.9932 - val_precision: 0.9944 - val_recall: 0.9908 - val_auc: 0.9995\n",
      "Epoch 18/50\n",
      "2724/2724 [==============================] - 10s 4ms/step - loss: 0.0100 - accuracy: 0.9933 - precision: 0.9945 - recall: 0.9909 - auc: 0.9995 - val_loss: 0.0186 - val_accuracy: 0.9934 - val_precision: 0.9946 - val_recall: 0.9910 - val_auc: 0.9995\n",
      "Epoch 19/50\n",
      "2724/2724 [==============================] - 11s 4ms/step - loss: 0.0124 - accuracy: 0.9934 - precision: 0.9946 - recall: 0.9910 - auc: 0.9995 - val_loss: 0.0232 - val_accuracy: 0.9935 - val_precision: 0.9947 - val_recall: 0.9911 - val_auc: 0.9995\n",
      "Epoch 20/50\n",
      "2724/2724 [==============================] - 9s 3ms/step - loss: 0.0111 - accuracy: 0.9935 - precision: 0.9947 - recall: 0.9912 - auc: 0.9995 - val_loss: 0.1190 - val_accuracy: 0.9936 - val_precision: 0.9948 - val_recall: 0.9912 - val_auc: 0.9995\n",
      "Epoch 21/50\n",
      "2724/2724 [==============================] - 9s 3ms/step - loss: 0.0727 - accuracy: 0.9936 - precision: 0.9948 - recall: 0.9912 - auc: 0.9995 - val_loss: 0.0210 - val_accuracy: 0.9937 - val_precision: 0.9949 - val_recall: 0.9913 - val_auc: 0.9995\n",
      "Epoch 22/50\n",
      "2724/2724 [==============================] - 10s 4ms/step - loss: 0.0107 - accuracy: 0.9937 - precision: 0.9949 - recall: 0.9914 - auc: 0.9995 - val_loss: 0.0275 - val_accuracy: 0.9938 - val_precision: 0.9949 - val_recall: 0.9915 - val_auc: 0.9995\n",
      "Epoch 23/50\n",
      "2724/2724 [==============================] - 9s 3ms/step - loss: 0.0115 - accuracy: 0.9938 - precision: 0.9949 - recall: 0.9915 - auc: 0.9995 - val_loss: 0.0498 - val_accuracy: 0.9938 - val_precision: 0.9950 - val_recall: 0.9916 - val_auc: 0.9995\n",
      "Epoch 24/50\n",
      "2724/2724 [==============================] - 9s 3ms/step - loss: 0.0165 - accuracy: 0.9939 - precision: 0.9950 - recall: 0.9916 - auc: 0.9995 - val_loss: 0.0225 - val_accuracy: 0.9939 - val_precision: 0.9951 - val_recall: 0.9916 - val_auc: 0.9995\n",
      "Epoch 25/50\n",
      "2724/2724 [==============================] - 9s 3ms/step - loss: 0.0110 - accuracy: 0.9939 - precision: 0.9951 - recall: 0.9917 - auc: 0.9995 - val_loss: 0.0203 - val_accuracy: 0.9940 - val_precision: 0.9951 - val_recall: 0.9917 - val_auc: 0.9995\n",
      "Epoch 26/50\n",
      "2724/2724 [==============================] - 9s 3ms/step - loss: 0.0203 - accuracy: 0.9940 - precision: 0.9951 - recall: 0.9918 - auc: 0.9995 - val_loss: 0.0203 - val_accuracy: 0.9941 - val_precision: 0.9952 - val_recall: 0.9918 - val_auc: 0.9995\n",
      "Epoch 27/50\n",
      "2724/2724 [==============================] - 10s 4ms/step - loss: 0.0106 - accuracy: 0.9941 - precision: 0.9952 - recall: 0.9918 - auc: 0.9995 - val_loss: 0.0241 - val_accuracy: 0.9941 - val_precision: 0.9953 - val_recall: 0.9919 - val_auc: 0.9995\n",
      "Epoch 28/50\n",
      "2724/2724 [==============================] - 9s 3ms/step - loss: 0.0097 - accuracy: 0.9941 - precision: 0.9953 - recall: 0.9919 - auc: 0.9995 - val_loss: 0.0219 - val_accuracy: 0.9942 - val_precision: 0.9954 - val_recall: 0.9920 - val_auc: 0.9995\n",
      "Epoch 29/50\n",
      "2724/2724 [==============================] - 9s 3ms/step - loss: 0.0097 - accuracy: 0.9942 - precision: 0.9954 - recall: 0.9920 - auc: 0.9995 - val_loss: 0.0271 - val_accuracy: 0.9943 - val_precision: 0.9954 - val_recall: 0.9921 - val_auc: 0.9995\n",
      "Epoch 30/50\n",
      "2724/2724 [==============================] - 9s 3ms/step - loss: 0.0097 - accuracy: 0.9943 - precision: 0.9954 - recall: 0.9921 - auc: 0.9995 - val_loss: 0.0385 - val_accuracy: 0.9943 - val_precision: 0.9955 - val_recall: 0.9921 - val_auc: 0.9995\n",
      "Epoch 31/50\n",
      "2724/2724 [==============================] - 10s 4ms/step - loss: 0.0105 - accuracy: 0.9943 - precision: 0.9955 - recall: 0.9921 - auc: 0.9995 - val_loss: 0.0409 - val_accuracy: 0.9944 - val_precision: 0.9955 - val_recall: 0.9922 - val_auc: 0.9995\n",
      "Epoch 32/50\n",
      "2724/2724 [==============================] - 9s 3ms/step - loss: 0.0172 - accuracy: 0.9944 - precision: 0.9956 - recall: 0.9922 - auc: 0.9995 - val_loss: 0.0432 - val_accuracy: 0.9944 - val_precision: 0.9956 - val_recall: 0.9923 - val_auc: 0.9995\n"
     ]
    },
    {
     "name": "stdout",
     "output_type": "stream",
     "text": [
      "Epoch 33/50\n",
      "2724/2724 [==============================] - 8s 3ms/step - loss: 0.0091 - accuracy: 0.9945 - precision: 0.9956 - recall: 0.9923 - auc: 0.9995 - val_loss: 0.0610 - val_accuracy: 0.9945 - val_precision: 0.9956 - val_recall: 0.9924 - val_auc: 0.9996\n",
      "Epoch 34/50\n",
      "2724/2724 [==============================] - 9s 3ms/step - loss: 0.0086 - accuracy: 0.9945 - precision: 0.9957 - recall: 0.9924 - auc: 0.9995 - val_loss: 0.0454 - val_accuracy: 0.9945 - val_precision: 0.9957 - val_recall: 0.9924 - val_auc: 0.9996\n",
      "Epoch 35/50\n",
      "2724/2724 [==============================] - 8s 3ms/step - loss: 0.0088 - accuracy: 0.9946 - precision: 0.9957 - recall: 0.9924 - auc: 0.9995 - val_loss: 0.0381 - val_accuracy: 0.9946 - val_precision: 0.9957 - val_recall: 0.9925 - val_auc: 0.9996\n",
      "Epoch 36/50\n",
      "2724/2724 [==============================] - 8s 3ms/step - loss: 0.0139 - accuracy: 0.9946 - precision: 0.9957 - recall: 0.9925 - auc: 0.9995 - val_loss: 0.0370 - val_accuracy: 0.9946 - val_precision: 0.9958 - val_recall: 0.9926 - val_auc: 0.9996\n",
      "Epoch 37/50\n",
      "2724/2724 [==============================] - 8s 3ms/step - loss: 0.0089 - accuracy: 0.9946 - precision: 0.9958 - recall: 0.9926 - auc: 0.9995 - val_loss: 0.0428 - val_accuracy: 0.9947 - val_precision: 0.9958 - val_recall: 0.9926 - val_auc: 0.9996\n",
      "Epoch 38/50\n",
      "2724/2724 [==============================] - 8s 3ms/step - loss: 0.0135 - accuracy: 0.9947 - precision: 0.9958 - recall: 0.9926 - auc: 0.9995 - val_loss: 0.0508 - val_accuracy: 0.9947 - val_precision: 0.9958 - val_recall: 0.9927 - val_auc: 0.9996\n",
      "Epoch 39/50\n",
      "2724/2724 [==============================] - 8s 3ms/step - loss: 0.0102 - accuracy: 0.9947 - precision: 0.9958 - recall: 0.9927 - auc: 0.9995 - val_loss: 0.0429 - val_accuracy: 0.9948 - val_precision: 0.9958 - val_recall: 0.9927 - val_auc: 0.9996\n",
      "Epoch 40/50\n",
      "2724/2724 [==============================] - 8s 3ms/step - loss: 0.0092 - accuracy: 0.9948 - precision: 0.9958 - recall: 0.9927 - auc: 0.9995 - val_loss: 0.0279 - val_accuracy: 0.9948 - val_precision: 0.9959 - val_recall: 0.9928 - val_auc: 0.9996\n",
      "Epoch 41/50\n",
      "2724/2724 [==============================] - 8s 3ms/step - loss: 0.0089 - accuracy: 0.9948 - precision: 0.9959 - recall: 0.9928 - auc: 0.9996 - val_loss: 0.0612 - val_accuracy: 0.9948 - val_precision: 0.9959 - val_recall: 0.9928 - val_auc: 0.9996\n",
      "Epoch 42/50\n",
      "2724/2724 [==============================] - 8s 3ms/step - loss: 0.0111 - accuracy: 0.9949 - precision: 0.9959 - recall: 0.9928 - auc: 0.9996 - val_loss: 0.0418 - val_accuracy: 0.9949 - val_precision: 0.9960 - val_recall: 0.9929 - val_auc: 0.9996\n",
      "Epoch 43/50\n",
      "2724/2724 [==============================] - 8s 3ms/step - loss: 0.0083 - accuracy: 0.9949 - precision: 0.9960 - recall: 0.9929 - auc: 0.9996 - val_loss: 0.0706 - val_accuracy: 0.9949 - val_precision: 0.9960 - val_recall: 0.9929 - val_auc: 0.9996\n",
      "Epoch 44/50\n",
      "2724/2724 [==============================] - 8s 3ms/step - loss: 0.0092 - accuracy: 0.9949 - precision: 0.9960 - recall: 0.9929 - auc: 0.9996 - val_loss: 0.0314 - val_accuracy: 0.9949 - val_precision: 0.9960 - val_recall: 0.9929 - val_auc: 0.9996\n",
      "Epoch 45/50\n",
      "2724/2724 [==============================] - 8s 3ms/step - loss: 0.0086 - accuracy: 0.9950 - precision: 0.9961 - recall: 0.9929 - auc: 0.9996 - val_loss: 0.0218 - val_accuracy: 0.9950 - val_precision: 0.9961 - val_recall: 0.9930 - val_auc: 0.9996\n",
      "Epoch 46/50\n",
      "2724/2724 [==============================] - 8s 3ms/step - loss: 0.0087 - accuracy: 0.9950 - precision: 0.9961 - recall: 0.9930 - auc: 0.9996 - val_loss: 0.0344 - val_accuracy: 0.9950 - val_precision: 0.9961 - val_recall: 0.9930 - val_auc: 0.9996\n",
      "Epoch 47/50\n",
      "2724/2724 [==============================] - 8s 3ms/step - loss: 0.0091 - accuracy: 0.9950 - precision: 0.9961 - recall: 0.9930 - auc: 0.9996 - val_loss: 0.0608 - val_accuracy: 0.9950 - val_precision: 0.9961 - val_recall: 0.9931 - val_auc: 0.9996\n",
      "Epoch 48/50\n",
      "2724/2724 [==============================] - 8s 3ms/step - loss: 0.0105 - accuracy: 0.9950 - precision: 0.9961 - recall: 0.9931 - auc: 0.9996 - val_loss: 0.0492 - val_accuracy: 0.9951 - val_precision: 0.9961 - val_recall: 0.9931 - val_auc: 0.9996\n",
      "Epoch 49/50\n",
      "2724/2724 [==============================] - 8s 3ms/step - loss: 0.0130 - accuracy: 0.9951 - precision: 0.9961 - recall: 0.9931 - auc: 0.9996 - val_loss: 0.0822 - val_accuracy: 0.9951 - val_precision: 0.9961 - val_recall: 0.9932 - val_auc: 0.9996\n",
      "Epoch 50/50\n",
      "2724/2724 [==============================] - 8s 3ms/step - loss: 0.0102 - accuracy: 0.9951 - precision: 0.9962 - recall: 0.9932 - auc: 0.9996 - val_loss: 0.0688 - val_accuracy: 0.9951 - val_precision: 0.9962 - val_recall: 0.9932 - val_auc: 0.9996\n"
     ]
    }
   ],
   "source": [
    "#Neural Network Model\n",
    "model = Sequential()\n",
    "model.add(Dense(256, input_dim=64, activation='relu', kernel_initializer='glorot_uniform', \n",
    "                bias_initializer='zeros'))\n",
    "model.add(Dense(256, activation='relu'))\n",
    "model.add(Dense(256, activation='relu'))\n",
    "model.add(Dense(256, activation='relu'))\n",
    "model.add(Dense(1, activation='sigmoid'))\n",
    "\n",
    "model.compile(loss='binary_crossentropy', optimizer='adam', metrics = METRICS)\n",
    "\n",
    "log_dir = \"logs/fit/\" + datetime.datetime.now().strftime(\"%Y%m%d-%H%M%S\")\n",
    "tensorboard_callback = tf.keras.callbacks.TensorBoard(log_dir=log_dir, histogram_freq=1)\n",
    "\n",
    "history = model.fit(x=X_train, y=y_train, epochs=50, validation_split=0.3, \n",
    "                    callbacks=[tensorboard_callback, early_stopping])"
   ]
  },
  {
   "cell_type": "code",
   "execution_count": 19,
   "metadata": {},
   "outputs": [
    {
     "data": {
      "image/png": "[encoded data removed]",
      "text/plain": [
       "<IPython.core.display.Image object>"
      ]
     },
     "execution_count": 19,
     "metadata": {},
     "output_type": "execute_result"
    }
   ],
   "source": [
    "from keras.utils.vis_utils import plot_model\n",
    "plot_model(model, to_file='model_plot.png', show_shapes=True, show_layer_names=True)"
   ]
  },
  {
   "cell_type": "code",
   "execution_count": 18,
   "metadata": {
    "scrolled": false
   },
   "outputs": [
    {
     "data": {
      "image/png": "[encoded data removed]",
      "text/plain": [
       "<Figure size 720x576 with 1 Axes>"
      ]
     },
     "metadata": {
      "needs_background": "light"
     },
     "output_type": "display_data"
    }
   ],
   "source": [
    "plt.figure(figsize=(10,8))\n",
    "plt.plot(history.history['accuracy'])\n",
    "plt.plot(history.history['precision'])\n",
    "plt.plot(history.history['recall'])\n",
    "plt.title('DNN Machine Learning Model Accuracy')\n",
    "plt.ylabel('Accuracy')\n",
    "plt.xlabel('epoch')\n",
    "plt.legend(['Accuracy', 'Precision','Recall'], loc='upper left')\n",
    "plt.show()"
   ]
  },
  {
   "cell_type": "code",
   "execution_count": 20,
   "metadata": {},
   "outputs": [
    {
     "data": {
      "text/html": [
       "\n",
       "      <iframe id=\"tensorboard-frame-e5a3091c54ec73ef\" width=\"100%\" height=\"800\" frameborder=\"0\">\n",
       "      </iframe>\n",
       "      <script>\n",
       "        (function() {\n",
       "          const frame = document.getElementById(\"tensorboard-frame-e5a3091c54ec73ef\");\n",
       "          const url = new URL(\"/\", window.location);\n",
       "          const port = 6006;\n",
       "          if (port) {\n",
       "            url.port = port;\n",
       "          }\n",
       "          frame.src = url;\n",
       "        })();\n",
       "      </script>\n",
       "    "
      ],
      "text/plain": [
       "<IPython.core.display.HTML object>"
      ]
     },
     "metadata": {},
     "output_type": "display_data"
    }
   ],
   "source": [
    "%tensorboard --logdir logs/fit"
   ]
  },
  {
   "cell_type": "markdown",
   "metadata": {},
   "source": [
    "# Testing "
   ]
  },
  {
   "cell_type": "code",
   "execution_count": 21,
   "metadata": {
    "scrolled": true
   },
   "outputs": [
    {
     "name": "stdout",
     "output_type": "stream",
     "text": [
      "Duplicates after category reduction : 44\n",
      "Duplicates after duplicate drop : 0\n"
     ]
    }
   ],
   "source": [
    "def test_preprocess():\n",
    "    df_test = pd.read_csv('Datasets/csv_result-KDDTest+.csv')\n",
    "    df_test.drop(['id'], axis = 'columns' , inplace = True)\n",
    "    \n",
    "    #for i in range(11,20):\n",
    "        #df_train.drop(df_train.columns[i],axis='columns',inplace=True)\n",
    "        \n",
    "    col_list = ['duration','protocol_type','service','flag','src_bytes','dst_bytes','land','wrong_fragment','urgent',\n",
    "                'count','srv_count','serror_rate','srv_serror_rate','rerror_rate','srv_rerror_rate','same_srv_rate',\n",
    "                'diff_srv_rate','srv_diff_host_rate','dst_host_count','dst_host_srv_count','dst_host_same_srv_rate',\n",
    "                'dst_host_diff_srv_rate','dst_host_same_src_port_rate','dst_host_srv_diff_host_rate','dst_host_serror_rate',\n",
    "                'dst_host_srv_serror_rate','dst_host_rerror_rate','dst_host_srv_rerror_rate','class']\n",
    "    \n",
    "    df_test = df_test[col_list]\n",
    "        \n",
    "    for col in ['protocol_type','flag','service']:\n",
    "        df_test[col] = df_test[col].astype('category')\n",
    "    \n",
    "    label1 = 'Other_service'\n",
    "    others1 = df_test['service'].value_counts().index[30:]\n",
    "    # apply new category label\n",
    "    df_test['service'] = df_test['service'].cat.add_categories([label1])\n",
    "    df_test['service'] = df_test['service'].replace(others1, label1)\n",
    "\n",
    "    print('Duplicates after category reduction :',df_test.duplicated().sum())\n",
    "    df_test['service'].replace({'pop_3':'Other_service','sunrpc':'Other_service',\n",
    "                                'link':'Other_service','name':'Other_service','echo':'Other_service',\n",
    "                                'netbios_ns':'Other_service'}, inplace = True)\n",
    "    \n",
    "    df_test['class'] = df_test['class'].map( {'normal':0, 'anomaly':1} )\n",
    "    df_test.drop_duplicates(keep='first',inplace=True)\n",
    "    print('Duplicates after duplicate drop :',df_test.duplicated().sum())\n",
    "    \n",
    "    return df_test\n",
    "df_test = test_preprocess()"
   ]
  },
  {
   "cell_type": "code",
   "execution_count": 22,
   "metadata": {
    "scrolled": true
   },
   "outputs": [
    {
     "name": "stdout",
     "output_type": "stream",
     "text": [
      "tcp     18828\n",
      "udp      2621\n",
      "icmp     1043\n",
      "Name: protocol_type, dtype: int64\n",
      "======================================\n",
      "http             7849\n",
      "private          4774\n",
      "Other_service    2040\n",
      "telnet           1626\n",
      "smtp              934\n",
      "domain_u          894\n",
      "other             835\n",
      "ftp_data          833\n",
      "ecr_i             752\n",
      "ftp               692\n",
      "imap4             306\n",
      "eco_i             262\n",
      "finger            136\n",
      "auth               67\n",
      "domain             51\n",
      "uucp               50\n",
      "iso_tsap           48\n",
      "bgp                46\n",
      "uucp_path          46\n",
      "Z39_50             45\n",
      "vmnet              43\n",
      "nnsp               42\n",
      "ctf                41\n",
      "whois              40\n",
      "courier            40\n",
      "Name: service, dtype: int64\n",
      "======================================\n",
      "SF        14853\n",
      "REJ        3839\n",
      "S0         1996\n",
      "RSTO        771\n",
      "RSTR        669\n",
      "S3          249\n",
      "SH           73\n",
      "S1           21\n",
      "S2           15\n",
      "OTH           4\n",
      "RSTOS0        2\n",
      "Name: flag, dtype: int64\n"
     ]
    }
   ],
   "source": [
    "print(df_test['protocol_type'].value_counts())\n",
    "print('======================================')\n",
    "print(df_test['service'].value_counts())\n",
    "print('======================================')\n",
    "print(df_test['flag'].value_counts())"
   ]
  },
  {
   "cell_type": "code",
   "execution_count": 23,
   "metadata": {
    "scrolled": true
   },
   "outputs": [
    {
     "data": {
      "text/plain": [
       "Index(['duration', 'protocol_type', 'service', 'flag', 'src_bytes',\n",
       "       'dst_bytes', 'land', 'wrong_fragment', 'urgent', 'count', 'srv_count',\n",
       "       'serror_rate', 'srv_serror_rate', 'rerror_rate', 'srv_rerror_rate',\n",
       "       'same_srv_rate', 'diff_srv_rate', 'srv_diff_host_rate',\n",
       "       'dst_host_count', 'dst_host_srv_count', 'dst_host_same_srv_rate',\n",
       "       'dst_host_diff_srv_rate', 'dst_host_same_src_port_rate',\n",
       "       'dst_host_srv_diff_host_rate', 'dst_host_serror_rate',\n",
       "       'dst_host_srv_serror_rate', 'dst_host_rerror_rate',\n",
       "       'dst_host_srv_rerror_rate', 'class'],\n",
       "      dtype='object')"
      ]
     },
     "execution_count": 23,
     "metadata": {},
     "output_type": "execute_result"
    }
   ],
   "source": [
    "df_test.columns"
   ]
  },
  {
   "cell_type": "code",
   "execution_count": 24,
   "metadata": {},
   "outputs": [
    {
     "data": {
      "text/plain": [
       "29"
      ]
     },
     "execution_count": 24,
     "metadata": {},
     "output_type": "execute_result"
    }
   ],
   "source": [
    "len(df_test.columns)"
   ]
  },
  {
   "cell_type": "code",
   "execution_count": 25,
   "metadata": {},
   "outputs": [],
   "source": [
    "limit2 = df_test.shape[1]-1\n",
    "    \n",
    "X_test = df_test.iloc[:,0:limit2] # train set features\n",
    "Y_test = df_test.iloc[:,limit2]"
   ]
  },
  {
   "cell_type": "code",
   "execution_count": 26,
   "metadata": {},
   "outputs": [],
   "source": [
    "X_test = columnTransformer.transform(X_test)"
   ]
  },
  {
   "cell_type": "code",
   "execution_count": 27,
   "metadata": {},
   "outputs": [
    {
     "data": {
      "text/plain": [
       "(22492, 64)"
      ]
     },
     "execution_count": 27,
     "metadata": {},
     "output_type": "execute_result"
    }
   ],
   "source": [
    "X_test.shape"
   ]
  },
  {
   "cell_type": "code",
   "execution_count": 28,
   "metadata": {},
   "outputs": [
    {
     "data": {
      "text/plain": [
       "array([[1.0000000e+00],\n",
       "       [1.0000000e+00],\n",
       "       [1.0564365e-05],\n",
       "       ...,\n",
       "       [1.3810694e-03],\n",
       "       [0.0000000e+00],\n",
       "       [4.8350441e-01]], dtype=float32)"
      ]
     },
     "execution_count": 28,
     "metadata": {},
     "output_type": "execute_result"
    }
   ],
   "source": [
    "test_predictions = model.predict(X_test)\n",
    "test_predictions"
   ]
  },
  {
   "cell_type": "code",
   "execution_count": 29,
   "metadata": {},
   "outputs": [
    {
     "name": "stdout",
     "output_type": "stream",
     "text": [
      "[0.0000000e+00 1.2017428e-38 1.3916125e-38 ... 9.9999982e-01 9.9999988e-01\n",
      " 1.0000000e+00]\n"
     ]
    }
   ],
   "source": [
    "print(np.unique(test_predictions))"
   ]
  },
  {
   "cell_type": "code",
   "execution_count": 30,
   "metadata": {},
   "outputs": [
    {
     "data": {
      "text/plain": [
       "array([1.8527738e-15], dtype=float32)"
      ]
     },
     "execution_count": 30,
     "metadata": {},
     "output_type": "execute_result"
    }
   ],
   "source": [
    "test_predictions[5]"
   ]
  },
  {
   "cell_type": "code",
   "execution_count": 31,
   "metadata": {},
   "outputs": [],
   "source": [
    "rounded_test_predictions = []\n",
    "\n",
    "for i, value in enumerate(test_predictions):\n",
    "    if value > 0.5:\n",
    "        rounded_test_predictions.append(1)\n",
    "    else:\n",
    "        rounded_test_predictions.append(0)\n",
    "                "
   ]
  },
  {
   "cell_type": "code",
   "execution_count": 32,
   "metadata": {
    "scrolled": false
   },
   "outputs": [
    {
     "name": "stdout",
     "output_type": "stream",
     "text": [
      "True Negatives  : 0.9440\n",
      "False Positives : 0.0560\n",
      "False Negatives : 0.3641\n",
      "True Positives  : 0.6359\n"
     ]
    },
    {
     "data": {
      "image/png": "[encoded data removed]",
      "text/plain": [
       "<Figure size 324x288 with 2 Axes>"
      ]
     },
     "metadata": {
      "needs_background": "light"
     },
     "output_type": "display_data"
    }
   ],
   "source": [
    "def plot_cm(labels, predictions, title = 'Confusion Matrix'):\n",
    "    cm = confusion_matrix(labels, predictions, normalize= 'true')\n",
    "    plt.figure(figsize=(4.5,4))\n",
    "    sns.heatmap(cm, cmap= 'PuBu', annot=True, fmt='.4f', annot_kws=    {'size':16})\n",
    "    plt.xlabel('Predicted', fontsize=16)\n",
    "    plt.ylabel('Actual', fontsize=16)\n",
    "    plt.title(title, fontsize=18)\n",
    "\n",
    "    print('True Negatives  : {:.4f}'.format(cm[0][0]))\n",
    "    print('False Positives : {:.4f}'.format(cm[0][1]))\n",
    "    print('False Negatives : {:.4f}'.format(cm[1][0]))\n",
    "    print('True Positives  : {:.4f}'.format(cm[1][1]))\n",
    "    \n",
    "plot_cm(Y_test,rounded_test_predictions)"
   ]
  },
  {
   "cell_type": "code",
   "execution_count": 33,
   "metadata": {},
   "outputs": [
    {
     "name": "stdout",
     "output_type": "stream",
     "text": [
      "Test set accuracy  : 0.7689\n",
      "Test set precision : 0.9373\n",
      "Test set recall    : 0.6359\n",
      "Test set F1-score  : 0.7577\n"
     ]
    }
   ],
   "source": [
    "print(\"Test set accuracy  : {:.4f}\".format(accuracy_score(Y_test, rounded_test_predictions)))\n",
    "print(\"Test set precision : {:.4f}\".format(precision_score(Y_test, rounded_test_predictions)))\n",
    "print(\"Test set recall    : {:.4f}\".format(recall_score(Y_test, rounded_test_predictions)))\n",
    "print(\"Test set F1-score  : {:.4f}\".format(f1_score(Y_test, rounded_test_predictions)))"
   ]
  },
  {
   "cell_type": "code",
   "execution_count": 35,
   "metadata": {},
   "outputs": [
    {
     "name": "stderr",
     "output_type": "stream",
     "text": [
      "<ipython-input-35-129bfb7c9ca4>:14: MatplotlibDeprecationWarning: Adding an axes using the same arguments as a previous axes currently reuses the earlier instance.  In a future version, a new instance will always be created and returned.  Meanwhile, this warning can be suppressed, and the future behavior ensured, by passing a unique label to each axes instance.\n",
      "  plt.axes().set_aspect('equal')\n"
     ]
    },
    {
     "data": {
      "image/png": "[encoded data removed]",
      "text/plain": [
       "<Figure size 432x288 with 1 Axes>"
      ]
     },
     "metadata": {
      "needs_background": "light"
     },
     "output_type": "display_data"
    }
   ],
   "source": [
    "from sklearn.metrics import roc_curve, auc\n",
    "fpr_lr, tpr_lr, _ = roc_curve(Y_test, rounded_test_predictions)\n",
    "roc_auc_lr = auc(fpr_lr, tpr_lr)\n",
    "\n",
    "plt.figure()\n",
    "plt.xlim([-0.01, 1.00])\n",
    "plt.ylim([-0.01, 1.01])\n",
    "plt.plot(fpr_lr, tpr_lr, lw=3, label='DNN ROC curve (area = {:0.2f})'.format(roc_auc_lr))\n",
    "plt.xlabel('False Positive Rate', fontsize=18)\n",
    "plt.ylabel('True Positive Rate', fontsize=18)\n",
    "plt.title('ROC curve', fontsize=18)\n",
    "plt.legend(loc='lower right', fontsize=18)\n",
    "plt.plot([0, 1], [0, 1], color='navy', lw=3, linestyle='--')\n",
    "plt.axes().set_aspect('equal')\n",
    "plt.show()"
   ]
  },
  {
   "cell_type": "markdown",
   "metadata": {},
   "source": [
    "## Saving ML Model and OneHotEncoder/StandardScaler"
   ]
  },
  {
   "cell_type": "code",
   "execution_count": 36,
   "metadata": {},
   "outputs": [],
   "source": [
    "# saving model\n",
    "json_model = model.to_json()\n",
    "open('DNN_Realtime_Model.json', 'w').write(json_model)\n",
    "# saving weights\n",
    "model.save_weights('DNN_model_weights.h5', overwrite=True)"
   ]
  },
  {
   "cell_type": "code",
   "execution_count": 37,
   "metadata": {},
   "outputs": [
    {
     "data": {
      "text/plain": [
       "['DNN_Realtime_ColumnTransformer']"
      ]
     },
     "execution_count": 37,
     "metadata": {},
     "output_type": "execute_result"
    }
   ],
   "source": [
    "joblib.dump(columnTransformer,\"DNN_Realtime_ColumnTransformer\")"
   ]
  }
 ],
 "metadata": {
  "kernelspec": {
   "display_name": "Python 3",
   "language": "python",
   "name": "python3"
  },
  "language_info": {
   "codemirror_mode": {
    "name": "ipython",
    "version": 3
   },
   "file_extension": ".py",
   "mimetype": "text/x-python",
   "name": "python",
   "nbconvert_exporter": "python",
   "pygments_lexer": "ipython3",
   "version": "3.8.6"
  }
 },
 "nbformat": 4,
 "nbformat_minor": 4
}
