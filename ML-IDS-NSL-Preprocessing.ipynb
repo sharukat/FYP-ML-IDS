{
 "cells": [
  {
   "cell_type": "markdown",
   "metadata": {},
   "source": [
    "# NSL Pre-processing"
   ]
  },
  {
   "cell_type": "code",
   "execution_count": 1,
   "metadata": {},
   "outputs": [],
   "source": [
    "cd C:\\\\Users\\\\Sharuka Thirimanne\\\\Desktop\\\\FYP-ML-IDS"
   ]
  },
  {
   "cell_type": "code",
   "execution_count": 2,
   "metadata": {},
   "outputs": [],
   "source": [
    "import numpy as np\n",
    "import pandas as pd\n",
    "import seaborn as sns\n",
    "import matplotlib.pyplot as plt\n",
    "from sklearn.decomposition import PCA\n",
    "from sklearn.model_selection import train_test_split\n",
    "from sklearn.preprocessing import StandardScaler\n",
    "from sklearn.preprocessing import MinMaxScaler\n",
    "from sklearn.preprocessing import OneHotEncoder\n",
    "from sklearn.preprocessing import LabelEncoder\n",
    "from sklearn.model_selection import cross_val_score\n",
    "from sklearn.metrics import confusion_matrix\n",
    "from sklearn.metrics import classification_report\n",
    "from sklearn.metrics import accuracy_score\n",
    "from sklearn.model_selection import GridSearchCV"
   ]
  },
  {
   "cell_type": "code",
   "execution_count": 3,
   "metadata": {},
   "outputs": [
    {
     "name": "stdout",
     "output_type": "stream",
     "text": [
      "Number of features before feature selection : 41\n",
      "Original dataset duplicates : 9\n",
      "Number of features after feature selection : 25\n",
      "Duplicates after feature selection : 4210\n",
      "Duplicates after category reduction : 5629\n",
      "Duplicates after duplicate drop : 0\n"
     ]
    }
   ],
   "source": [
    "def train_preprocess():\n",
    "    df_train = pd.read_csv('Datasets/csv_result-KDDTrain+.csv')\n",
    "    df_train.drop(['id'], axis = 'columns' , inplace = True)\n",
    "    num_features = len(df_train.columns) - 1\n",
    "    print('Number of features before feature selection :',num_features)\n",
    "    print('Original dataset duplicates :',df_train.duplicated().sum())\n",
    "    df_train.drop(['duration', 'is_guest_login', 'num_access_files', 'su_attempted', 'num_file_creations',\n",
    "                   'root_shell', 'hot', 'num_root', 'num_compromised', 'num_shells', 'land', \n",
    "                   'num_failed_logins', 'urgent','is_host_login', \n",
    "                   'srv_count', 'num_outbound_cmds'], axis = 'columns' , inplace = True)\n",
    "    num_features = len(df_train.columns) - 1\n",
    "    print('Number of features after feature selection :',num_features)\n",
    "    print('Duplicates after feature selection :',df_train.duplicated().sum())\n",
    "    for col in ['protocol_type','flag','service']:\n",
    "        df_train[col] = df_train[col].astype('category')\n",
    "    \n",
    "    label1 = 'Other_service'\n",
    "    others1 = df_train['service'].value_counts().index[30:]\n",
    "    df_train['service'] = df_train['service'].cat.add_categories([label1])\n",
    "    df_train['service'] = df_train['service'].replace(others1, label1)\n",
    "\n",
    "    df_train['service'].replace({'time':'Other_service','urp_i':'Other_service',\n",
    "                                 'csnet_ns':'Other_service','supdup':'Other_service',\n",
    "                                 'discard':'Other_service'}, inplace = True)\n",
    "    \n",
    "    print('Duplicates after category reduction :',df_train.duplicated().sum())\n",
    "    df_train['class'] = df_train['class'].map( {'normal':0, 'anomaly':1} )\n",
    "    df_train.drop_duplicates(keep='first',inplace=True)\n",
    "    print('Duplicates after duplicate drop :',df_train.duplicated().sum())\n",
    "    \n",
    "    return df_train\n",
    "df_train = train_preprocess()"
   ]
  },
  {
   "cell_type": "code",
   "execution_count": 4,
   "metadata": {},
   "outputs": [
    {
     "data": {
      "text/plain": [
       "class\n",
       "0    66946\n",
       "1    53398\n",
       "Name: class, dtype: int64"
      ]
     },
     "execution_count": 4,
     "metadata": {},
     "output_type": "execute_result"
    }
   ],
   "source": [
    "df_train.groupby('class')['class'].count()"
   ]
  },
  {
   "cell_type": "code",
   "execution_count": 5,
   "metadata": {},
   "outputs": [
    {
     "name": "stdout",
     "output_type": "stream",
     "text": [
      "Original dataset duplicates : 3\n",
      "Duplicates after feature selection : 211\n",
      "Duplicates after category reduction : 230\n",
      "Duplicates after duplicate drop : 0\n"
     ]
    }
   ],
   "source": [
    "def test_preprocess():\n",
    "    df_test = pd.read_csv('Datasets/csv_result-KDDTest+.csv')\n",
    "    df_test.drop(['id'], axis = 'columns' , inplace = True)\n",
    "    print('Original dataset duplicates :',df_test.duplicated().sum())\n",
    "    df_test.drop(['duration', 'is_guest_login', 'num_access_files', 'su_attempted', 'num_file_creations',\n",
    "                  'root_shell', 'hot', 'num_root', 'num_compromised', 'num_shells', 'land', \n",
    "                  'num_failed_logins', 'urgent','is_host_login', \n",
    "                  'srv_count', 'num_outbound_cmds'], axis = 'columns' , inplace = True)\n",
    "    \n",
    "    print('Duplicates after feature selection :',df_test.duplicated().sum())\n",
    "    for col in ['protocol_type','flag','service']:\n",
    "        df_test[col] = df_test[col].astype('category')\n",
    "    \n",
    "    label1 = 'Other_service'\n",
    "    others1 = df_test['service'].value_counts().index[30:]\n",
    "    # apply new category label\n",
    "    df_test['service'] = df_test['service'].cat.add_categories([label1])\n",
    "    df_test['service'] = df_test['service'].replace(others1, label1)\n",
    "\n",
    "    print('Duplicates after category reduction :',df_test.duplicated().sum())\n",
    "    df_test['service'].replace({'pop_3':'Other_service','sunrpc':'Other_service',\n",
    "                                'link':'Other_service','name':'Other_service','echo':'Other_service'}, inplace = True)\n",
    "    \n",
    "    df_test['class'] = df_test['class'].map( {'normal':0, 'anomaly':1} )\n",
    "    df_test.drop_duplicates(keep='first',inplace=True)\n",
    "    print('Duplicates after duplicate drop :',df_test.duplicated().sum())\n",
    "    \n",
    "    return df_test\n",
    "df_test = test_preprocess()"
   ]
  },
  {
   "cell_type": "code",
   "execution_count": 6,
   "metadata": {},
   "outputs": [
    {
     "name": "stdout",
     "output_type": "stream",
     "text": [
      "Train set shape: (120344, 26)\n",
      "Test set shape: (22310, 26)\n"
     ]
    }
   ],
   "source": [
    "print('Train set shape:',df_train.shape)\n",
    "print('Test set shape:',df_test.shape)"
   ]
  },
  {
   "cell_type": "code",
   "execution_count": 7,
   "metadata": {
    "scrolled": true
   },
   "outputs": [
    {
     "name": "stdout",
     "output_type": "stream",
     "text": [
      "Train 26\n",
      "Test 26\n",
      "=======================================\n",
      "Train 11\n",
      "Test 11\n",
      "=======================================\n",
      "Train 3\n",
      "Test 3\n"
     ]
    }
   ],
   "source": [
    "print('Train',len(df_train['service'].unique()))\n",
    "print('Test',len(df_test['service'].unique()))\n",
    "print('=======================================')\n",
    "print('Train',len(df_train['flag'].unique()))\n",
    "print('Test',len(df_test['flag'].unique()))\n",
    "print('=======================================')\n",
    "print('Train',len(df_train['protocol_type'].unique()))\n",
    "print('Test',len(df_test['protocol_type'].unique()))"
   ]
  },
  {
   "cell_type": "code",
   "execution_count": 8,
   "metadata": {},
   "outputs": [],
   "source": [
    "limit1 = df_train.shape[1]-1\n",
    "    \n",
    "X_train = df_train.iloc[:,0:limit1] # train set features\n",
    "Y_train = df_train.iloc[:,limit1]\n",
    "    \n",
    "limit2 = df_test.shape[1]-1\n",
    "    \n",
    "X_test = df_test.iloc[:,0:limit2] # train set features\n",
    "Y_test = df_test.iloc[:,limit2]"
   ]
  },
  {
   "cell_type": "code",
   "execution_count": 9,
   "metadata": {},
   "outputs": [
    {
     "name": "stdout",
     "output_type": "stream",
     "text": [
      "X_train shape : (120344, 62)\n",
      "X_test shape : (22310, 62)\n"
     ]
    }
   ],
   "source": [
    "def one_hot_encode(X_train,X_test):\n",
    "    \n",
    "    categorical_cols = ['protocol_type','flag','service']\n",
    "\n",
    "    # Training dataset one hot encoding\n",
    "    ohe = OneHotEncoder(handle_unknown = 'ignore')\n",
    "    ohe.fit(X_train[categorical_cols])\n",
    "    array_hot_encoded1 = ohe.transform(X_train[categorical_cols]).toarray()\n",
    "    data_hot_encoded1 = pd.DataFrame(array_hot_encoded1, index=X_train.index)\n",
    "    X_train = X_train.drop(columns=categorical_cols)\n",
    "    X_train = pd.concat([data_hot_encoded1,X_train], axis=1)\n",
    "    \n",
    "    print('X_train shape :',X_train.shape)\n",
    "    \n",
    "    # Test dataset one hot encoding\n",
    "    array_hot_encoded2 = ohe.transform(X_test[categorical_cols]).toarray()\n",
    "    data_hot_encoded2 = pd.DataFrame(array_hot_encoded2, index=X_test.index)\n",
    "    X_test = X_test.drop(columns=categorical_cols)\n",
    "    X_test = pd.concat([data_hot_encoded2,X_test], axis=1)\n",
    "    \n",
    "    print('X_test shape :',X_test.shape)\n",
    "    \n",
    "    return X_train, X_test\n",
    "\n",
    "X_train, X_test = one_hot_encode(X_train,X_test)"
   ]
  },
  {
   "cell_type": "code",
   "execution_count": 10,
   "metadata": {},
   "outputs": [],
   "source": [
    "def scaling(X_train,X_test):\n",
    "    scaler = StandardScaler()\n",
    "    X_train = scaler.fit_transform(X_train)\n",
    "    X_test = scaler.transform(X_test)\n",
    "    \n",
    "    return X_train, X_test\n",
    "\n",
    "X_train, X_test = scaling(X_train,X_test)"
   ]
  },
  {
   "cell_type": "code",
   "execution_count": 11,
   "metadata": {},
   "outputs": [],
   "source": [
    "X_train = pd.DataFrame(X_train)\n",
    "X_test = pd.DataFrame(X_test)\n",
    "\n",
    "Y_train.reset_index(drop=True,inplace=True)\n",
    "Y_test.reset_index(drop=True,inplace=True)"
   ]
  },
  {
   "cell_type": "code",
   "execution_count": 12,
   "metadata": {},
   "outputs": [
    {
     "name": "stdout",
     "output_type": "stream",
     "text": [
      "(120344, 62)\n",
      "(120344,)\n",
      "(22310, 62)\n",
      "(22310,)\n"
     ]
    }
   ],
   "source": [
    "print(X_train.shape)\n",
    "print(Y_train.shape)\n",
    "print(X_test.shape)\n",
    "print(Y_test.shape)"
   ]
  },
  {
   "cell_type": "code",
   "execution_count": 13,
   "metadata": {
    "scrolled": false
   },
   "outputs": [],
   "source": [
    "df_train = pd.concat([X_train,Y_train],axis=1)\n",
    "df_test = pd.concat([X_test,Y_test],axis=1)"
   ]
  },
  {
   "cell_type": "code",
   "execution_count": 14,
   "metadata": {},
   "outputs": [],
   "source": [
    "# Class count\n",
    "count_class_0, count_class_1 = df_train['class'].value_counts()\n",
    "\n",
    "# Divide by class\n",
    "df_class_0 = df_train[df_train['class'] == 0]\n",
    "df_class_1 = df_train[df_train['class'] == 1]\n",
    "    \n",
    "df_class_0_under = df_class_0.sample(count_class_1)\n",
    "df_train = pd.concat([df_class_0_under, df_class_1], axis=0)"
   ]
  },
  {
   "cell_type": "code",
   "execution_count": 15,
   "metadata": {},
   "outputs": [
    {
     "data": {
      "text/plain": [
       "class\n",
       "0    53398\n",
       "1    53398\n",
       "Name: class, dtype: int64"
      ]
     },
     "execution_count": 15,
     "metadata": {},
     "output_type": "execute_result"
    }
   ],
   "source": [
    "df_train.groupby('class')['class'].count()"
   ]
  },
  {
   "cell_type": "code",
   "execution_count": 16,
   "metadata": {},
   "outputs": [],
   "source": [
    "df_train.reset_index(drop=True,inplace=True)\n",
    "df_test.reset_index(drop=True,inplace=True)"
   ]
  },
  {
   "cell_type": "code",
   "execution_count": 17,
   "metadata": {},
   "outputs": [],
   "source": [
    "df_train.to_csv('NSL_train-set.csv')\n",
    "df_test.to_csv('NSL_test-set.csv')"
   ]
  }
 ],
 "metadata": {
  "kernelspec": {
   "display_name": "Python 3",
   "language": "python",
   "name": "python3"
  },
  "language_info": {
   "codemirror_mode": {
    "name": "ipython",
    "version": 3
   },
   "file_extension": ".py",
   "mimetype": "text/x-python",
   "name": "python",
   "nbconvert_exporter": "python",
   "pygments_lexer": "ipython3",
   "version": "3.7.3"
  }
 },
 "nbformat": 4,
 "nbformat_minor": 4
}
