{
 "cells": [
  {
   "cell_type": "markdown",
   "metadata": {},
   "source": [
    "# DNN - NSL"
   ]
  },
  {
   "cell_type": "code",
   "execution_count": 1,
   "metadata": {},
   "outputs": [
    {
     "name": "stdout",
     "output_type": "stream",
     "text": [
      "C:\\Users\\Sharuka Thirimanne\\Desktop\\FYP-ML-IDS\n"
     ]
    }
   ],
   "source": [
    "cd C:\\\\Users\\\\Sharuka Thirimanne\\\\Desktop\\\\FYP-ML-IDS"
   ]
  },
  {
   "cell_type": "code",
   "execution_count": 2,
   "metadata": {},
   "outputs": [
    {
     "name": "stderr",
     "output_type": "stream",
     "text": [
      "c:\\users\\sharuka thirimanne\\appdata\\local\\programs\\python\\python37\\lib\\site-packages\\tensorboard\\compat\\tensorflow_stub\\dtypes.py:541: FutureWarning: Passing (type, 1) or '1type' as a synonym of type is deprecated; in a future version of numpy, it will be understood as (type, (1,)) / '(1,)type'.\n",
      "  _np_qint8 = np.dtype([(\"qint8\", np.int8, 1)])\n",
      "c:\\users\\sharuka thirimanne\\appdata\\local\\programs\\python\\python37\\lib\\site-packages\\tensorboard\\compat\\tensorflow_stub\\dtypes.py:542: FutureWarning: Passing (type, 1) or '1type' as a synonym of type is deprecated; in a future version of numpy, it will be understood as (type, (1,)) / '(1,)type'.\n",
      "  _np_quint8 = np.dtype([(\"quint8\", np.uint8, 1)])\n",
      "c:\\users\\sharuka thirimanne\\appdata\\local\\programs\\python\\python37\\lib\\site-packages\\tensorboard\\compat\\tensorflow_stub\\dtypes.py:543: FutureWarning: Passing (type, 1) or '1type' as a synonym of type is deprecated; in a future version of numpy, it will be understood as (type, (1,)) / '(1,)type'.\n",
      "  _np_qint16 = np.dtype([(\"qint16\", np.int16, 1)])\n",
      "c:\\users\\sharuka thirimanne\\appdata\\local\\programs\\python\\python37\\lib\\site-packages\\tensorboard\\compat\\tensorflow_stub\\dtypes.py:544: FutureWarning: Passing (type, 1) or '1type' as a synonym of type is deprecated; in a future version of numpy, it will be understood as (type, (1,)) / '(1,)type'.\n",
      "  _np_quint16 = np.dtype([(\"quint16\", np.uint16, 1)])\n",
      "c:\\users\\sharuka thirimanne\\appdata\\local\\programs\\python\\python37\\lib\\site-packages\\tensorboard\\compat\\tensorflow_stub\\dtypes.py:545: FutureWarning: Passing (type, 1) or '1type' as a synonym of type is deprecated; in a future version of numpy, it will be understood as (type, (1,)) / '(1,)type'.\n",
      "  _np_qint32 = np.dtype([(\"qint32\", np.int32, 1)])\n",
      "c:\\users\\sharuka thirimanne\\appdata\\local\\programs\\python\\python37\\lib\\site-packages\\tensorboard\\compat\\tensorflow_stub\\dtypes.py:550: FutureWarning: Passing (type, 1) or '1type' as a synonym of type is deprecated; in a future version of numpy, it will be understood as (type, (1,)) / '(1,)type'.\n",
      "  np_resource = np.dtype([(\"resource\", np.ubyte, 1)])\n",
      "Using TensorFlow backend.\n"
     ]
    }
   ],
   "source": [
    "import sklearn\n",
    "import numpy as np\n",
    "import pandas as pd\n",
    "import seaborn as sns\n",
    "import tensorflow as tf\n",
    "import matplotlib as mpl\n",
    "import matplotlib.pyplot as plt\n",
    "\n",
    "from tensorflow import keras\n",
    "from keras.layers import Dense\n",
    "from keras.models import Sequential\n",
    "from sklearn.decomposition import PCA\n",
    "from tensorflow.keras import regularizers\n",
    "from tensorflow.keras import Model, layers\n",
    "from keras.wrappers.scikit_learn import KerasClassifier\n",
    "from sklearn.model_selection import cross_val_score, train_test_split\n",
    "from sklearn.metrics import accuracy_score, precision_score, recall_score, classification_report,confusion_matrix\n"
   ]
  },
  {
   "cell_type": "code",
   "execution_count": 3,
   "metadata": {},
   "outputs": [],
   "source": [
    "mpl.rcParams['figure.figsize'] = (12, 10)\n",
    "colors = plt.rcParams['axes.prop_cycle'].by_key()['color']"
   ]
  },
  {
   "cell_type": "code",
   "execution_count": 4,
   "metadata": {
    "scrolled": false
   },
   "outputs": [],
   "source": [
    "def load_train_dataset():\n",
    "    df_train = pd.read_csv('NSL_train-set.csv')\n",
    "    \n",
    "    limit = df_train.shape[1]-1\n",
    "    \n",
    "    X_train = df_train.iloc[:,0:limit]\n",
    "    Y_train = df_train.iloc[:,limit]\n",
    "    \n",
    "    return X_train, Y_train, df_train\n",
    "\n",
    "X_train, Y_train, df_train = load_train_dataset()"
   ]
  },
  {
   "cell_type": "code",
   "execution_count": 5,
   "metadata": {},
   "outputs": [],
   "source": [
    "def load_test_dataset():\n",
    "    df_test = pd.read_csv('NSL_test-set.csv')\n",
    "\n",
    "    limit = df_test.shape[1]-1\n",
    "    \n",
    "    X_test = df_test.iloc[:,0:limit]\n",
    "    Y_test = df_test.iloc[:,limit]\n",
    "    \n",
    "    return X_test, Y_test, df_test\n",
    "\n",
    "X_test, Y_test, df_test = load_test_dataset()"
   ]
  },
  {
   "cell_type": "code",
   "execution_count": 6,
   "metadata": {},
   "outputs": [
    {
     "name": "stdout",
     "output_type": "stream",
     "text": [
      "Training X   : (99854, 62)\n",
      "Validation X : (6942, 62)\n",
      "Test_X       : (22310, 62)\n",
      "Training_Y   : (99854,)\n",
      "Validation Y : (6942,)\n",
      "Test_Y       : (22310,)\n"
     ]
    }
   ],
   "source": [
    "X_train, X_val , Y_train , Y_val = train_test_split(X_train,Y_train, test_size=0.065,stratify = Y_train,shuffle=True,random_state=42)\n",
    "\n",
    "print('Training X   :',X_train.shape)\n",
    "print('Validation X :',X_val.shape)\n",
    "print('Test_X       :',X_test.shape)\n",
    "print('Training_Y   :',Y_train.shape)\n",
    "print('Validation Y :',Y_val.shape)\n",
    "print('Test_Y       :',Y_test.shape)"
   ]
  },
  {
   "cell_type": "code",
   "execution_count": 7,
   "metadata": {},
   "outputs": [],
   "source": [
    "METRICS = [ \n",
    "      keras.metrics.BinaryAccuracy(name='accuracy'),\n",
    "      keras.metrics.Precision(name='precision'),\n",
    "      keras.metrics.Recall(name='recall'),\n",
    "      keras.metrics.AUC(name='auc'),\n",
    "]"
   ]
  },
  {
   "cell_type": "code",
   "execution_count": 8,
   "metadata": {},
   "outputs": [],
   "source": [
    "early_stopping = tf.keras.callbacks.EarlyStopping(\n",
    "    monitor='accuracy', \n",
    "    verbose=1,\n",
    "    patience=5,\n",
    "    mode='max',\n",
    "    restore_best_weights=True)"
   ]
  },
  {
   "cell_type": "code",
   "execution_count": 9,
   "metadata": {},
   "outputs": [],
   "source": [
    "def neural_network():\n",
    "    #Neural Network Model\n",
    "    model = Sequential()\n",
    "    model.add(Dense(128, input_dim=62, activation='relu',kernel_initializer='glorot_uniform',\n",
    "                    bias_initializer='zeros',kernel_regularizer=regularizers.l2(0.01)))\n",
    "    model.add(Dense(128, activation='relu',kernel_regularizer=regularizers.l2(0.01)))\n",
    "    model.add(Dense(128, activation='relu',kernel_regularizer=regularizers.l2(0.01)))\n",
    "    model.add(Dense(128, activation='relu',kernel_regularizer=regularizers.l2(0.01)))\n",
    "    model.add(Dense(128, activation='relu',kernel_regularizer=regularizers.l2(0.01)))\n",
    "    model.add(Dense(1, activation='sigmoid'))\n",
    "\n",
    "    model.compile(loss='binary_crossentropy', optimizer='SGD', metrics = METRICS)\n",
    "    \n",
    "    return model\n"
   ]
  },
  {
   "cell_type": "code",
   "execution_count": 10,
   "metadata": {
    "scrolled": true
   },
   "outputs": [
    {
     "name": "stdout",
     "output_type": "stream",
     "text": [
      "Train on 99854 samples, validate on 6942 samples\n",
      "Epoch 1/200\n",
      "99854/99854 [==============================] - 3s 28us/step - loss: 5.4672 - accuracy: 0.8642 - precision: 0.9773 - recall: 0.7441 - auc: 0.9290 - val_loss: 4.5688 - val_accuracy: 0.9239 - val_precision: 0.9762 - val_recall: 0.8690 - val_auc: 0.9681\n",
      "Epoch 2/200\n",
      "99854/99854 [==============================] - 2s 25us/step - loss: 3.9419 - accuracy: 0.9372 - precision: 0.9761 - recall: 0.8963 - auc: 0.9747 - val_loss: 3.3843 - val_accuracy: 0.9458 - val_precision: 0.9770 - val_recall: 0.9131 - val_auc: 0.9792\n",
      "Epoch 3/200\n",
      "99854/99854 [==============================] - 2s 25us/step - loss: 2.9297 - accuracy: 0.9504 - precision: 0.9782 - recall: 0.9215 - auc: 0.9817 - val_loss: 2.5247 - val_accuracy: 0.9539 - val_precision: 0.9793 - val_recall: 0.9275 - val_auc: 0.9838\n",
      "Epoch 4/200\n",
      "99854/99854 [==============================] - 3s 27us/step - loss: 2.1922 - accuracy: 0.9562 - precision: 0.9800 - recall: 0.9315 - auc: 0.9852 - val_loss: 1.8971 - val_accuracy: 0.9581 - val_precision: 0.9807 - val_recall: 0.9346 - val_auc: 0.9864\n",
      "Epoch 5/200\n",
      "99854/99854 [==============================] - 2s 25us/step - loss: 1.6533 - accuracy: 0.9594 - precision: 0.9812 - recall: 0.9368 - auc: 0.9873 - val_loss: 1.4383 - val_accuracy: 0.9607 - val_precision: 0.9817 - val_recall: 0.9388 - val_auc: 0.9882\n",
      "Epoch 6/200\n",
      "99854/99854 [==============================] - 2s 25us/step - loss: 1.2588 - accuracy: 0.9616 - precision: 0.9821 - recall: 0.9403 - auc: 0.9888 - val_loss: 1.1025 - val_accuracy: 0.9624 - val_precision: 0.9825 - val_recall: 0.9416 - val_auc: 0.9894\n",
      "Epoch 7/200\n",
      "99854/99854 [==============================] - 3s 25us/step - loss: 0.9696 - accuracy: 0.9631 - precision: 0.9828 - recall: 0.9426 - auc: 0.9898 - val_loss: 0.8552 - val_accuracy: 0.9637 - val_precision: 0.9830 - val_recall: 0.9437 - val_auc: 0.9902\n",
      "Epoch 8/200\n",
      "99854/99854 [==============================] - 2s 25us/step - loss: 0.7572 - accuracy: 0.9642 - precision: 0.9832 - recall: 0.9445 - auc: 0.9906 - val_loss: 0.6743 - val_accuracy: 0.9647 - val_precision: 0.9835 - val_recall: 0.9452 - val_auc: 0.9909\n",
      "Epoch 9/200\n",
      "99854/99854 [==============================] - 2s 25us/step - loss: 0.6010 - accuracy: 0.9651 - precision: 0.9836 - recall: 0.9459 - auc: 0.9912 - val_loss: 0.5407 - val_accuracy: 0.9655 - val_precision: 0.9838 - val_recall: 0.9465 - val_auc: 0.9914\n",
      "Epoch 10/200\n",
      "99854/99854 [==============================] - 2s 25us/step - loss: 0.4860 - accuracy: 0.9658 - precision: 0.9840 - recall: 0.9469 - auc: 0.9916 - val_loss: 0.4430 - val_accuracy: 0.9661 - val_precision: 0.9842 - val_recall: 0.9475 - val_auc: 0.9919\n",
      "Epoch 11/200\n",
      "99854/99854 [==============================] - 2s 25us/step - loss: 0.4011 - accuracy: 0.9664 - precision: 0.9843 - recall: 0.9479 - auc: 0.9920 - val_loss: 0.3698 - val_accuracy: 0.9667 - val_precision: 0.9844 - val_recall: 0.9484 - val_auc: 0.9922\n",
      "Epoch 12/200\n",
      "99854/99854 [==============================] - 2s 25us/step - loss: 0.3384 - accuracy: 0.9669 - precision: 0.9845 - recall: 0.9488 - auc: 0.9924 - val_loss: 0.3167 - val_accuracy: 0.9672 - val_precision: 0.9846 - val_recall: 0.9491 - val_auc: 0.9925\n",
      "Epoch 13/200\n",
      "99854/99854 [==============================] - 2s 25us/step - loss: 0.2922 - accuracy: 0.9674 - precision: 0.9847 - recall: 0.9494 - auc: 0.9926 - val_loss: 0.2778 - val_accuracy: 0.9676 - val_precision: 0.9848 - val_recall: 0.9498 - val_auc: 0.9928\n",
      "Epoch 14/200\n",
      "99854/99854 [==============================] - 2s 25us/step - loss: 0.2578 - accuracy: 0.9678 - precision: 0.9849 - recall: 0.9501 - auc: 0.9929 - val_loss: 0.2471 - val_accuracy: 0.9680 - val_precision: 0.9850 - val_recall: 0.9504 - val_auc: 0.9930\n",
      "Epoch 15/200\n",
      "99854/99854 [==============================] - 2s 25us/step - loss: 0.2322 - accuracy: 0.9681 - precision: 0.9850 - recall: 0.9507 - auc: 0.9931 - val_loss: 0.2268 - val_accuracy: 0.9683 - val_precision: 0.9851 - val_recall: 0.9510 - val_auc: 0.9932\n",
      "Epoch 16/200\n",
      "99854/99854 [==============================] - 2s 25us/step - loss: 0.2132 - accuracy: 0.9684 - precision: 0.9852 - recall: 0.9512 - auc: 0.9933 - val_loss: 0.2082 - val_accuracy: 0.9686 - val_precision: 0.9852 - val_recall: 0.9515 - val_auc: 0.9934\n",
      "Epoch 17/200\n",
      "99854/99854 [==============================] - 2s 25us/step - loss: 0.1990 - accuracy: 0.9687 - precision: 0.9853 - recall: 0.9517 - auc: 0.9934 - val_loss: 0.1968 - val_accuracy: 0.9689 - val_precision: 0.9854 - val_recall: 0.9519 - val_auc: 0.9935\n",
      "Epoch 18/200\n",
      "99854/99854 [==============================] - 2s 25us/step - loss: 0.1884 - accuracy: 0.9690 - precision: 0.9854 - recall: 0.9521 - auc: 0.9936 - val_loss: 0.1874 - val_accuracy: 0.9691 - val_precision: 0.9855 - val_recall: 0.9523 - val_auc: 0.9937\n",
      "Epoch 19/200\n",
      "99854/99854 [==============================] - 3s 26us/step - loss: 0.1803 - accuracy: 0.9693 - precision: 0.9855 - recall: 0.9525 - auc: 0.9937 - val_loss: 0.1803 - val_accuracy: 0.9694 - val_precision: 0.9856 - val_recall: 0.9527 - val_auc: 0.9938\n",
      "Epoch 20/200\n",
      "99854/99854 [==============================] - 3s 26us/step - loss: 0.1742 - accuracy: 0.9695 - precision: 0.9856 - recall: 0.9528 - auc: 0.9939 - val_loss: 0.1743 - val_accuracy: 0.9696 - val_precision: 0.9857 - val_recall: 0.9530 - val_auc: 0.9939\n",
      "Epoch 21/200\n",
      "99854/99854 [==============================] - 3s 26us/step - loss: 0.1694 - accuracy: 0.9697 - precision: 0.9857 - recall: 0.9532 - auc: 0.9940 - val_loss: 0.1709 - val_accuracy: 0.9698 - val_precision: 0.9858 - val_recall: 0.9534 - val_auc: 0.9940\n",
      "Epoch 22/200\n",
      "99854/99854 [==============================] - 3s 27us/step - loss: 0.1658 - accuracy: 0.9699 - precision: 0.9858 - recall: 0.9535 - auc: 0.9941 - val_loss: 0.1669 - val_accuracy: 0.9700 - val_precision: 0.9858 - val_recall: 0.9537 - val_auc: 0.9941\n",
      "Epoch 23/200\n",
      "99854/99854 [==============================] - 3s 26us/step - loss: 0.1630 - accuracy: 0.9701 - precision: 0.9858 - recall: 0.9538 - auc: 0.9942 - val_loss: 0.1644 - val_accuracy: 0.9702 - val_precision: 0.9859 - val_recall: 0.9540 - val_auc: 0.9942\n",
      "Epoch 24/200\n",
      "99854/99854 [==============================] - 3s 25us/step - loss: 0.1607 - accuracy: 0.9702 - precision: 0.9859 - recall: 0.9541 - auc: 0.9943 - val_loss: 0.1626 - val_accuracy: 0.9703 - val_precision: 0.9859 - val_recall: 0.9543 - val_auc: 0.9943\n",
      "Epoch 25/200\n",
      "99854/99854 [==============================] - 3s 25us/step - loss: 0.1589 - accuracy: 0.9704 - precision: 0.9860 - recall: 0.9544 - auc: 0.9944 - val_loss: 0.1613 - val_accuracy: 0.9705 - val_precision: 0.9860 - val_recall: 0.9545 - val_auc: 0.9944\n",
      "Epoch 26/200\n",
      "99854/99854 [==============================] - 2s 24us/step - loss: 0.1573 - accuracy: 0.9706 - precision: 0.9860 - recall: 0.9546 - auc: 0.9944 - val_loss: 0.1593 - val_accuracy: 0.9706 - val_precision: 0.9861 - val_recall: 0.9548 - val_auc: 0.9945\n",
      "Epoch 27/200\n",
      "99854/99854 [==============================] - 2s 24us/step - loss: 0.1561 - accuracy: 0.9707 - precision: 0.9861 - recall: 0.9549 - auc: 0.9945 - val_loss: 0.1580 - val_accuracy: 0.9708 - val_precision: 0.9861 - val_recall: 0.9550 - val_auc: 0.9945\n",
      "Epoch 28/200\n",
      "99854/99854 [==============================] - 2s 24us/step - loss: 0.1551 - accuracy: 0.9709 - precision: 0.9862 - recall: 0.9551 - auc: 0.9946 - val_loss: 0.1621 - val_accuracy: 0.9709 - val_precision: 0.9862 - val_recall: 0.9552 - val_auc: 0.9946\n",
      "Epoch 29/200\n",
      "99854/99854 [==============================] - 3s 27us/step - loss: 0.1541 - accuracy: 0.9710 - precision: 0.9862 - recall: 0.9553 - auc: 0.9946 - val_loss: 0.1633 - val_accuracy: 0.9711 - val_precision: 0.9862 - val_recall: 0.9554 - val_auc: 0.9947\n",
      "Epoch 30/200\n",
      "99854/99854 [==============================] - 3s 31us/step - loss: 0.1535 - accuracy: 0.9711 - precision: 0.9862 - recall: 0.9555 - auc: 0.9947 - val_loss: 0.1563 - val_accuracy: 0.9712 - val_precision: 0.9863 - val_recall: 0.9557 - val_auc: 0.9947\n",
      "Epoch 31/200\n",
      "99854/99854 [==============================] - 4s 37us/step - loss: 0.1527 - accuracy: 0.9713 - precision: 0.9863 - recall: 0.9558 - auc: 0.9947 - val_loss: 0.1620 - val_accuracy: 0.9713 - val_precision: 0.9863 - val_recall: 0.9559 - val_auc: 0.9948\n"
     ]
    },
    {
     "name": "stdout",
     "output_type": "stream",
     "text": [
      "Epoch 32/200\n",
      "99854/99854 [==============================] - 4s 37us/step - loss: 0.1521 - accuracy: 0.9714 - precision: 0.9863 - recall: 0.9560 - auc: 0.9948 - val_loss: 0.1553 - val_accuracy: 0.9714 - val_precision: 0.9863 - val_recall: 0.9561 - val_auc: 0.9948\n",
      "Epoch 33/200\n",
      "99854/99854 [==============================] - 3s 32us/step - loss: 0.1515 - accuracy: 0.9715 - precision: 0.9864 - recall: 0.9562 - auc: 0.9949 - val_loss: 0.1540 - val_accuracy: 0.9715 - val_precision: 0.9864 - val_recall: 0.9563 - val_auc: 0.9949\n",
      "Epoch 34/200\n",
      "99854/99854 [==============================] - 3s 34us/step - loss: 0.1510 - accuracy: 0.9716 - precision: 0.9864 - recall: 0.9564 - auc: 0.9949 - val_loss: 0.1543 - val_accuracy: 0.9716 - val_precision: 0.9864 - val_recall: 0.9564 - val_auc: 0.9949\n",
      "Epoch 35/200\n",
      "99854/99854 [==============================] - 3s 32us/step - loss: 0.1505 - accuracy: 0.9717 - precision: 0.9864 - recall: 0.9565 - auc: 0.9950 - val_loss: 0.1531 - val_accuracy: 0.9717 - val_precision: 0.9865 - val_recall: 0.9566 - val_auc: 0.9950\n",
      "Epoch 36/200\n",
      "99854/99854 [==============================] - 3s 34us/step - loss: 0.1501 - accuracy: 0.9718 - precision: 0.9865 - recall: 0.9567 - auc: 0.9950 - val_loss: 0.1564 - val_accuracy: 0.9718 - val_precision: 0.9865 - val_recall: 0.9568 - val_auc: 0.9950\n",
      "Epoch 37/200\n",
      "99854/99854 [==============================] - 3s 33us/step - loss: 0.1497 - accuracy: 0.9719 - precision: 0.9865 - recall: 0.9568 - auc: 0.9950 - val_loss: 0.1518 - val_accuracy: 0.9719 - val_precision: 0.9866 - val_recall: 0.9569 - val_auc: 0.9951\n",
      "Epoch 38/200\n",
      "99854/99854 [==============================] - 3s 33us/step - loss: 0.1493 - accuracy: 0.9720 - precision: 0.9866 - recall: 0.9570 - auc: 0.9951 - val_loss: 0.1547 - val_accuracy: 0.9720 - val_precision: 0.9866 - val_recall: 0.9571 - val_auc: 0.9951\n",
      "Epoch 39/200\n",
      "99854/99854 [==============================] - 3s 34us/step - loss: 0.1489 - accuracy: 0.9721 - precision: 0.9866 - recall: 0.9571 - auc: 0.9951 - val_loss: 0.1512 - val_accuracy: 0.9721 - val_precision: 0.9866 - val_recall: 0.9572 - val_auc: 0.9951\n",
      "Epoch 40/200\n",
      "99854/99854 [==============================] - 3s 33us/step - loss: 0.1485 - accuracy: 0.9722 - precision: 0.9866 - recall: 0.9573 - auc: 0.9952 - val_loss: 0.1508 - val_accuracy: 0.9722 - val_precision: 0.9867 - val_recall: 0.9574 - val_auc: 0.9952\n",
      "Epoch 41/200\n",
      "99854/99854 [==============================] - 3s 33us/step - loss: 0.1482 - accuracy: 0.9723 - precision: 0.9867 - recall: 0.9574 - auc: 0.9952 - val_loss: 0.1509 - val_accuracy: 0.9723 - val_precision: 0.9867 - val_recall: 0.9575 - val_auc: 0.9952\n",
      "Epoch 42/200\n",
      "99854/99854 [==============================] - 3s 34us/step - loss: 0.1479 - accuracy: 0.9723 - precision: 0.9867 - recall: 0.9576 - auc: 0.9952 - val_loss: 0.1530 - val_accuracy: 0.9724 - val_precision: 0.9867 - val_recall: 0.9577 - val_auc: 0.9952\n",
      "Epoch 43/200\n",
      "99854/99854 [==============================] - 3s 34us/step - loss: 0.1475 - accuracy: 0.9724 - precision: 0.9867 - recall: 0.9577 - auc: 0.9953 - val_loss: 0.1506 - val_accuracy: 0.9725 - val_precision: 0.9867 - val_recall: 0.9578 - val_auc: 0.9953\n",
      "Epoch 44/200\n",
      "99854/99854 [==============================] - 3s 35us/step - loss: 0.1472 - accuracy: 0.9725 - precision: 0.9867 - recall: 0.9579 - auc: 0.9953 - val_loss: 0.1623 - val_accuracy: 0.9725 - val_precision: 0.9868 - val_recall: 0.9579 - val_auc: 0.9953\n",
      "Epoch 45/200\n",
      "99854/99854 [==============================] - 3s 35us/step - loss: 0.1469 - accuracy: 0.9726 - precision: 0.9868 - recall: 0.9580 - auc: 0.9953 - val_loss: 0.1505 - val_accuracy: 0.9726 - val_precision: 0.9868 - val_recall: 0.9581 - val_auc: 0.9953\n",
      "Epoch 46/200\n",
      "99854/99854 [==============================] - 3s 33us/step - loss: 0.1466 - accuracy: 0.9726 - precision: 0.9868 - recall: 0.9581 - auc: 0.9954 - val_loss: 0.1519 - val_accuracy: 0.9727 - val_precision: 0.9868 - val_recall: 0.9582 - val_auc: 0.9954\n",
      "Epoch 47/200\n",
      "99854/99854 [==============================] - 3s 34us/step - loss: 0.1464 - accuracy: 0.9727 - precision: 0.9868 - recall: 0.9582 - auc: 0.9954 - val_loss: 0.1489 - val_accuracy: 0.9728 - val_precision: 0.9868 - val_recall: 0.9583 - val_auc: 0.9954\n",
      "Epoch 48/200\n",
      "99854/99854 [==============================] - 3s 34us/step - loss: 0.1461 - accuracy: 0.9728 - precision: 0.9869 - recall: 0.9583 - auc: 0.9954 - val_loss: 0.1498 - val_accuracy: 0.9728 - val_precision: 0.9869 - val_recall: 0.9584 - val_auc: 0.9954\n",
      "Epoch 49/200\n",
      "99854/99854 [==============================] - 3s 34us/step - loss: 0.1458 - accuracy: 0.9729 - precision: 0.9869 - recall: 0.9584 - auc: 0.9955 - val_loss: 0.1566 - val_accuracy: 0.9729 - val_precision: 0.9869 - val_recall: 0.9585 - val_auc: 0.9955\n",
      "Epoch 50/200\n",
      "99854/99854 [==============================] - 3s 34us/step - loss: 0.1456 - accuracy: 0.9729 - precision: 0.9869 - recall: 0.9586 - auc: 0.9955 - val_loss: 0.1478 - val_accuracy: 0.9730 - val_precision: 0.9869 - val_recall: 0.9586 - val_auc: 0.9955\n",
      "Epoch 51/200\n",
      "99854/99854 [==============================] - 3s 34us/step - loss: 0.1454 - accuracy: 0.9730 - precision: 0.9869 - recall: 0.9587 - auc: 0.9955 - val_loss: 0.1478 - val_accuracy: 0.9730 - val_precision: 0.9869 - val_recall: 0.9587 - val_auc: 0.9955\n",
      "Epoch 52/200\n",
      "99854/99854 [==============================] - 3s 34us/step - loss: 0.1450 - accuracy: 0.9731 - precision: 0.9869 - recall: 0.9588 - auc: 0.9955 - val_loss: 0.1482 - val_accuracy: 0.9731 - val_precision: 0.9870 - val_recall: 0.9588 - val_auc: 0.9955\n",
      "Epoch 53/200\n",
      "99854/99854 [==============================] - 3s 33us/step - loss: 0.1447 - accuracy: 0.9731 - precision: 0.9870 - recall: 0.9589 - auc: 0.9955 - val_loss: 0.1475 - val_accuracy: 0.9732 - val_precision: 0.9870 - val_recall: 0.9589 - val_auc: 0.9956\n",
      "Epoch 54/200\n",
      "99854/99854 [==============================] - 4s 36us/step - loss: 0.1445 - accuracy: 0.9732 - precision: 0.9870 - recall: 0.9590 - auc: 0.9956 - val_loss: 0.1467 - val_accuracy: 0.9732 - val_precision: 0.9870 - val_recall: 0.9590 - val_auc: 0.9956\n",
      "Epoch 55/200\n",
      "99854/99854 [==============================] - 3s 32us/step - loss: 0.1444 - accuracy: 0.9732 - precision: 0.9870 - recall: 0.9591 - auc: 0.9956 - val_loss: 0.1463 - val_accuracy: 0.9733 - val_precision: 0.9870 - val_recall: 0.9591 - val_auc: 0.9956\n",
      "Epoch 56/200\n",
      "99854/99854 [==============================] - 3s 27us/step - loss: 0.1440 - accuracy: 0.9733 - precision: 0.9871 - recall: 0.9592 - auc: 0.9956 - val_loss: 0.1466 - val_accuracy: 0.9733 - val_precision: 0.9871 - val_recall: 0.9592 - val_auc: 0.9956\n",
      "Epoch 57/200\n",
      "99854/99854 [==============================] - 3s 30us/step - loss: 0.1439 - accuracy: 0.9734 - precision: 0.9871 - recall: 0.9593 - auc: 0.9956 - val_loss: 0.1467 - val_accuracy: 0.9734 - val_precision: 0.9871 - val_recall: 0.9593 - val_auc: 0.9957\n",
      "Epoch 58/200\n",
      "99854/99854 [==============================] - 3s 33us/step - loss: 0.1436 - accuracy: 0.9734 - precision: 0.9871 - recall: 0.9594 - auc: 0.9957 - val_loss: 0.1459 - val_accuracy: 0.9734 - val_precision: 0.9871 - val_recall: 0.9594 - val_auc: 0.9957\n",
      "Epoch 59/200\n",
      "99854/99854 [==============================] - 3s 33us/step - loss: 0.1434 - accuracy: 0.9735 - precision: 0.9871 - recall: 0.9595 - auc: 0.9957 - val_loss: 0.1462 - val_accuracy: 0.9735 - val_precision: 0.9871 - val_recall: 0.9595 - val_auc: 0.9957\n",
      "Epoch 60/200\n",
      "99854/99854 [==============================] - 3s 29us/step - loss: 0.1432 - accuracy: 0.9735 - precision: 0.9872 - recall: 0.9596 - auc: 0.9957 - val_loss: 0.1456 - val_accuracy: 0.9736 - val_precision: 0.9872 - val_recall: 0.9596 - val_auc: 0.9957\n",
      "Epoch 61/200\n",
      "99854/99854 [==============================] - 3s 27us/step - loss: 0.1430 - accuracy: 0.9736 - precision: 0.9872 - recall: 0.9596 - auc: 0.9957 - val_loss: 0.1454 - val_accuracy: 0.9736 - val_precision: 0.9872 - val_recall: 0.9597 - val_auc: 0.9957\n",
      "Epoch 62/200\n",
      "99854/99854 [==============================] - 3s 27us/step - loss: 0.1428 - accuracy: 0.9736 - precision: 0.9872 - recall: 0.9597 - auc: 0.9958 - val_loss: 0.1449 - val_accuracy: 0.9737 - val_precision: 0.9872 - val_recall: 0.9598 - val_auc: 0.9958\n",
      "Epoch 63/200\n",
      "99854/99854 [==============================] - 3s 26us/step - loss: 0.1426 - accuracy: 0.9737 - precision: 0.9872 - recall: 0.9598 - auc: 0.9958 - val_loss: 0.1456 - val_accuracy: 0.9737 - val_precision: 0.9872 - val_recall: 0.9599 - val_auc: 0.9958\n",
      "Epoch 64/200\n",
      "99854/99854 [==============================] - 3s 27us/step - loss: 0.1423 - accuracy: 0.9737 - precision: 0.9872 - recall: 0.9599 - auc: 0.9958 - val_loss: 0.1459 - val_accuracy: 0.9738 - val_precision: 0.9872 - val_recall: 0.9599 - val_auc: 0.9958\n",
      "Epoch 65/200\n",
      "99854/99854 [==============================] - 3s 27us/step - loss: 0.1421 - accuracy: 0.9738 - precision: 0.9872 - recall: 0.9600 - auc: 0.9958 - val_loss: 0.1444 - val_accuracy: 0.9738 - val_precision: 0.9873 - val_recall: 0.9600 - val_auc: 0.9958\n",
      "Epoch 66/200\n",
      "99854/99854 [==============================] - 3s 27us/step - loss: 0.1419 - accuracy: 0.9738 - precision: 0.9873 - recall: 0.9601 - auc: 0.9958 - val_loss: 0.1462 - val_accuracy: 0.9739 - val_precision: 0.9873 - val_recall: 0.9601 - val_auc: 0.9958\n",
      "Epoch 67/200\n",
      "99854/99854 [==============================] - 3s 26us/step - loss: 0.1419 - accuracy: 0.9739 - precision: 0.9873 - recall: 0.9601 - auc: 0.9958 - val_loss: 0.1467 - val_accuracy: 0.9739 - val_precision: 0.9873 - val_recall: 0.9602 - val_auc: 0.9959\n",
      "Epoch 68/200\n",
      "99854/99854 [==============================] - 3s 26us/step - loss: 0.1416 - accuracy: 0.9739 - precision: 0.9873 - recall: 0.9602 - auc: 0.9959 - val_loss: 0.1446 - val_accuracy: 0.9740 - val_precision: 0.9873 - val_recall: 0.9603 - val_auc: 0.9959\n",
      "Epoch 69/200\n",
      "99854/99854 [==============================] - 3s 26us/step - loss: 0.1413 - accuracy: 0.9740 - precision: 0.9873 - recall: 0.9603 - auc: 0.9959 - val_loss: 0.1440 - val_accuracy: 0.9740 - val_precision: 0.9873 - val_recall: 0.9604 - val_auc: 0.9959\n",
      "Epoch 70/200\n",
      "99854/99854 [==============================] - 3s 27us/step - loss: 0.1413 - accuracy: 0.9740 - precision: 0.9873 - recall: 0.9604 - auc: 0.9959 - val_loss: 0.1434 - val_accuracy: 0.9741 - val_precision: 0.9873 - val_recall: 0.9604 - val_auc: 0.9959\n",
      "Epoch 71/200\n",
      "99854/99854 [==============================] - 3s 26us/step - loss: 0.1410 - accuracy: 0.9741 - precision: 0.9874 - recall: 0.9605 - auc: 0.9959 - val_loss: 0.1433 - val_accuracy: 0.9741 - val_precision: 0.9874 - val_recall: 0.9605 - val_auc: 0.9959\n",
      "Epoch 72/200\n",
      "99854/99854 [==============================] - 3s 26us/step - loss: 0.1409 - accuracy: 0.9741 - precision: 0.9874 - recall: 0.9605 - auc: 0.9959 - val_loss: 0.1429 - val_accuracy: 0.9741 - val_precision: 0.9874 - val_recall: 0.9606 - val_auc: 0.9959\n",
      "Epoch 73/200\n",
      "99854/99854 [==============================] - 3s 26us/step - loss: 0.1407 - accuracy: 0.9742 - precision: 0.9874 - recall: 0.9606 - auc: 0.9960 - val_loss: 0.1463 - val_accuracy: 0.9742 - val_precision: 0.9874 - val_recall: 0.9606 - val_auc: 0.9960\n",
      "Epoch 74/200\n",
      "99854/99854 [==============================] - 3s 26us/step - loss: 0.1405 - accuracy: 0.9742 - precision: 0.9874 - recall: 0.9607 - auc: 0.9960 - val_loss: 0.1434 - val_accuracy: 0.9742 - val_precision: 0.9874 - val_recall: 0.9607 - val_auc: 0.9960\n",
      "Epoch 75/200\n",
      "99854/99854 [==============================] - 3s 29us/step - loss: 0.1405 - accuracy: 0.9742 - precision: 0.9874 - recall: 0.9607 - auc: 0.9960 - val_loss: 0.1438 - val_accuracy: 0.9743 - val_precision: 0.9874 - val_recall: 0.9608 - val_auc: 0.9960\n",
      "Epoch 76/200\n",
      "99854/99854 [==============================] - 3s 26us/step - loss: 0.1403 - accuracy: 0.9743 - precision: 0.9874 - recall: 0.9608 - auc: 0.9960 - val_loss: 0.1433 - val_accuracy: 0.9743 - val_precision: 0.9875 - val_recall: 0.9608 - val_auc: 0.9960\n",
      "Epoch 77/200\n",
      "99854/99854 [==============================] - 3s 26us/step - loss: 0.1399 - accuracy: 0.9743 - precision: 0.9875 - recall: 0.9609 - auc: 0.9960 - val_loss: 0.1426 - val_accuracy: 0.9744 - val_precision: 0.9875 - val_recall: 0.9609 - val_auc: 0.9960\n",
      "Epoch 78/200\n",
      "99854/99854 [==============================] - 3s 26us/step - loss: 0.1399 - accuracy: 0.9744 - precision: 0.9875 - recall: 0.9609 - auc: 0.9960 - val_loss: 0.1544 - val_accuracy: 0.9744 - val_precision: 0.9875 - val_recall: 0.9610 - val_auc: 0.9960\n",
      "Epoch 79/200\n",
      "99854/99854 [==============================] - 3s 28us/step - loss: 0.1397 - accuracy: 0.9744 - precision: 0.9875 - recall: 0.9610 - auc: 0.9960 - val_loss: 0.1419 - val_accuracy: 0.9744 - val_precision: 0.9875 - val_recall: 0.9610 - val_auc: 0.9960\n",
      "Epoch 80/200\n",
      "99854/99854 [==============================] - 3s 28us/step - loss: 0.1396 - accuracy: 0.9745 - precision: 0.9875 - recall: 0.9611 - auc: 0.9960 - val_loss: 0.1533 - val_accuracy: 0.9745 - val_precision: 0.9875 - val_recall: 0.9611 - val_auc: 0.9960\n",
      "Epoch 81/200\n",
      "99854/99854 [==============================] - 3s 27us/step - loss: 0.1395 - accuracy: 0.9745 - precision: 0.9875 - recall: 0.9612 - auc: 0.9960 - val_loss: 0.1425 - val_accuracy: 0.9745 - val_precision: 0.9875 - val_recall: 0.9612 - val_auc: 0.9961\n",
      "Epoch 82/200\n",
      "99854/99854 [==============================] - 3s 27us/step - loss: 0.1392 - accuracy: 0.9745 - precision: 0.9875 - recall: 0.9612 - auc: 0.9961 - val_loss: 0.1494 - val_accuracy: 0.9745 - val_precision: 0.9875 - val_recall: 0.9612 - val_auc: 0.9961\n",
      "Epoch 83/200\n",
      "99854/99854 [==============================] - 3s 27us/step - loss: 0.1392 - accuracy: 0.9746 - precision: 0.9875 - recall: 0.9613 - auc: 0.9961 - val_loss: 0.1416 - val_accuracy: 0.9746 - val_precision: 0.9875 - val_recall: 0.9613 - val_auc: 0.9961\n",
      "Epoch 84/200\n",
      "99854/99854 [==============================] - 3s 27us/step - loss: 0.1389 - accuracy: 0.9746 - precision: 0.9875 - recall: 0.9613 - auc: 0.9961 - val_loss: 0.1420 - val_accuracy: 0.9746 - val_precision: 0.9875 - val_recall: 0.9614 - val_auc: 0.9961\n",
      "Epoch 85/200\n",
      "99854/99854 [==============================] - 3s 26us/step - loss: 0.1388 - accuracy: 0.9746 - precision: 0.9875 - recall: 0.9614 - auc: 0.9961 - val_loss: 0.1426 - val_accuracy: 0.9747 - val_precision: 0.9875 - val_recall: 0.9614 - val_auc: 0.9961\n",
      "Epoch 86/200\n",
      "99854/99854 [==============================] - 3s 26us/step - loss: 0.1387 - accuracy: 0.9747 - precision: 0.9875 - recall: 0.9615 - auc: 0.9961 - val_loss: 0.1408 - val_accuracy: 0.9747 - val_precision: 0.9876 - val_recall: 0.9615 - val_auc: 0.9961\n",
      "Epoch 87/200\n",
      "99854/99854 [==============================] - 3s 27us/step - loss: 0.1385 - accuracy: 0.9747 - precision: 0.9876 - recall: 0.9615 - auc: 0.9961 - val_loss: 0.1415 - val_accuracy: 0.9747 - val_precision: 0.9876 - val_recall: 0.9615 - val_auc: 0.9961\n",
      "Epoch 88/200\n",
      "99854/99854 [==============================] - 3s 27us/step - loss: 0.1383 - accuracy: 0.9747 - precision: 0.9876 - recall: 0.9616 - auc: 0.9961 - val_loss: 0.1439 - val_accuracy: 0.9748 - val_precision: 0.9876 - val_recall: 0.9616 - val_auc: 0.9961\n",
      "Epoch 89/200\n",
      "99854/99854 [==============================] - 3s 27us/step - loss: 0.1384 - accuracy: 0.9748 - precision: 0.9876 - recall: 0.9616 - auc: 0.9962 - val_loss: 0.1421 - val_accuracy: 0.9748 - val_precision: 0.9876 - val_recall: 0.9617 - val_auc: 0.9962\n",
      "Epoch 90/200\n",
      "99854/99854 [==============================] - 3s 27us/step - loss: 0.1381 - accuracy: 0.9748 - precision: 0.9876 - recall: 0.9617 - auc: 0.9962 - val_loss: 0.1415 - val_accuracy: 0.9748 - val_precision: 0.9876 - val_recall: 0.9617 - val_auc: 0.9962\n",
      "Epoch 91/200\n",
      "99854/99854 [==============================] - 3s 27us/step - loss: 0.1379 - accuracy: 0.9748 - precision: 0.9876 - recall: 0.9617 - auc: 0.9962 - val_loss: 0.1431 - val_accuracy: 0.9749 - val_precision: 0.9876 - val_recall: 0.9618 - val_auc: 0.9962\n",
      "Epoch 92/200\n",
      "99854/99854 [==============================] - 3s 28us/step - loss: 0.1377 - accuracy: 0.9749 - precision: 0.9876 - recall: 0.9618 - auc: 0.9962 - val_loss: 0.1418 - val_accuracy: 0.9749 - val_precision: 0.9876 - val_recall: 0.9618 - val_auc: 0.9962\n",
      "Epoch 93/200\n",
      "99854/99854 [==============================] - 3s 26us/step - loss: 0.1378 - accuracy: 0.9749 - precision: 0.9877 - recall: 0.9618 - auc: 0.9962 - val_loss: 0.1407 - val_accuracy: 0.9749 - val_precision: 0.9877 - val_recall: 0.9619 - val_auc: 0.9962\n",
      "Epoch 94/200\n"
     ]
    },
    {
     "name": "stdout",
     "output_type": "stream",
     "text": [
      "99854/99854 [==============================] - 3s 26us/step - loss: 0.1374 - accuracy: 0.9750 - precision: 0.9877 - recall: 0.9619 - auc: 0.9962 - val_loss: 0.1407 - val_accuracy: 0.9750 - val_precision: 0.9877 - val_recall: 0.9619 - val_auc: 0.9962\n",
      "Epoch 95/200\n",
      "99854/99854 [==============================] - 3s 27us/step - loss: 0.1375 - accuracy: 0.9750 - precision: 0.9877 - recall: 0.9620 - auc: 0.9962 - val_loss: 0.1430 - val_accuracy: 0.9750 - val_precision: 0.9877 - val_recall: 0.9620 - val_auc: 0.9962\n",
      "Epoch 96/200\n",
      "99854/99854 [==============================] - 3s 28us/step - loss: 0.1373 - accuracy: 0.9750 - precision: 0.9877 - recall: 0.9620 - auc: 0.9962 - val_loss: 0.1404 - val_accuracy: 0.9750 - val_precision: 0.9877 - val_recall: 0.9620 - val_auc: 0.9962\n",
      "Epoch 97/200\n",
      "99854/99854 [==============================] - 3s 28us/step - loss: 0.1372 - accuracy: 0.9750 - precision: 0.9877 - recall: 0.9620 - auc: 0.9962 - val_loss: 0.1391 - val_accuracy: 0.9751 - val_precision: 0.9877 - val_recall: 0.9621 - val_auc: 0.9962\n",
      "Epoch 98/200\n",
      "99854/99854 [==============================] - 3s 28us/step - loss: 0.1371 - accuracy: 0.9751 - precision: 0.9877 - recall: 0.9621 - auc: 0.9962 - val_loss: 0.1432 - val_accuracy: 0.9751 - val_precision: 0.9877 - val_recall: 0.9621 - val_auc: 0.9962\n",
      "Epoch 99/200\n",
      "99854/99854 [==============================] - 3s 27us/step - loss: 0.1369 - accuracy: 0.9751 - precision: 0.9877 - recall: 0.9621 - auc: 0.9963 - val_loss: 0.1390 - val_accuracy: 0.9751 - val_precision: 0.9877 - val_recall: 0.9622 - val_auc: 0.9963\n",
      "Epoch 100/200\n",
      "99854/99854 [==============================] - 3s 28us/step - loss: 0.1368 - accuracy: 0.9751 - precision: 0.9877 - recall: 0.9622 - auc: 0.9963 - val_loss: 0.1415 - val_accuracy: 0.9751 - val_precision: 0.9878 - val_recall: 0.9622 - val_auc: 0.9963\n",
      "Epoch 101/200\n",
      "99854/99854 [==============================] - 3s 29us/step - loss: 0.1366 - accuracy: 0.9752 - precision: 0.9877 - recall: 0.9623 - auc: 0.9963 - val_loss: 0.1389 - val_accuracy: 0.9752 - val_precision: 0.9878 - val_recall: 0.9623 - val_auc: 0.9963\n",
      "Epoch 102/200\n",
      "99854/99854 [==============================] - 3s 28us/step - loss: 0.1366 - accuracy: 0.9752 - precision: 0.9878 - recall: 0.9623 - auc: 0.9963 - val_loss: 0.1385 - val_accuracy: 0.9752 - val_precision: 0.9878 - val_recall: 0.9623 - val_auc: 0.9963\n",
      "Epoch 103/200\n",
      "99854/99854 [==============================] - 3s 29us/step - loss: 0.1364 - accuracy: 0.9752 - precision: 0.9878 - recall: 0.9623 - auc: 0.9963 - val_loss: 0.1393 - val_accuracy: 0.9752 - val_precision: 0.9878 - val_recall: 0.9624 - val_auc: 0.9963\n",
      "Epoch 104/200\n",
      "99854/99854 [==============================] - 3s 27us/step - loss: 0.1363 - accuracy: 0.9753 - precision: 0.9878 - recall: 0.9624 - auc: 0.9963 - val_loss: 0.1383 - val_accuracy: 0.9753 - val_precision: 0.9878 - val_recall: 0.9624 - val_auc: 0.9963\n",
      "Epoch 105/200\n",
      "99854/99854 [==============================] - 3s 26us/step - loss: 0.1362 - accuracy: 0.9753 - precision: 0.9878 - recall: 0.9624 - auc: 0.9963 - val_loss: 0.1388 - val_accuracy: 0.9753 - val_precision: 0.9878 - val_recall: 0.9625 - val_auc: 0.9963\n",
      "Epoch 106/200\n",
      "99854/99854 [==============================] - 3s 26us/step - loss: 0.1361 - accuracy: 0.9753 - precision: 0.9878 - recall: 0.9625 - auc: 0.9963 - val_loss: 0.1475 - val_accuracy: 0.9753 - val_precision: 0.9878 - val_recall: 0.9625 - val_auc: 0.9963\n",
      "Epoch 107/200\n",
      "99854/99854 [==============================] - 3s 27us/step - loss: 0.1358 - accuracy: 0.9753 - precision: 0.9878 - recall: 0.9625 - auc: 0.9963 - val_loss: 0.1419 - val_accuracy: 0.9753 - val_precision: 0.9878 - val_recall: 0.9626 - val_auc: 0.9963\n",
      "Epoch 108/200\n",
      "99854/99854 [==============================] - 3s 26us/step - loss: 0.1358 - accuracy: 0.9754 - precision: 0.9878 - recall: 0.9626 - auc: 0.9963 - val_loss: 0.1439 - val_accuracy: 0.9754 - val_precision: 0.9878 - val_recall: 0.9626 - val_auc: 0.9963\n",
      "Epoch 109/200\n",
      "99854/99854 [==============================] - 3s 28us/step - loss: 0.1357 - accuracy: 0.9754 - precision: 0.9879 - recall: 0.9626 - auc: 0.9963 - val_loss: 0.1378 - val_accuracy: 0.9754 - val_precision: 0.9879 - val_recall: 0.9626 - val_auc: 0.9963\n",
      "Epoch 110/200\n",
      "99854/99854 [==============================] - 3s 26us/step - loss: 0.1356 - accuracy: 0.9754 - precision: 0.9879 - recall: 0.9626 - auc: 0.9963 - val_loss: 0.1706 - val_accuracy: 0.9754 - val_precision: 0.9879 - val_recall: 0.9627 - val_auc: 0.9964\n",
      "Epoch 111/200\n",
      "99854/99854 [==============================] - 3s 26us/step - loss: 0.1355 - accuracy: 0.9754 - precision: 0.9879 - recall: 0.9627 - auc: 0.9964 - val_loss: 0.1377 - val_accuracy: 0.9754 - val_precision: 0.9879 - val_recall: 0.9627 - val_auc: 0.9964\n",
      "Epoch 112/200\n",
      "99854/99854 [==============================] - 3s 27us/step - loss: 0.1353 - accuracy: 0.9755 - precision: 0.9879 - recall: 0.9628 - auc: 0.9964 - val_loss: 0.1374 - val_accuracy: 0.9755 - val_precision: 0.9879 - val_recall: 0.9628 - val_auc: 0.9964\n",
      "Epoch 113/200\n",
      "99854/99854 [==============================] - 3s 27us/step - loss: 0.1354 - accuracy: 0.9755 - precision: 0.9879 - recall: 0.9628 - auc: 0.9964 - val_loss: 0.1374 - val_accuracy: 0.9755 - val_precision: 0.9879 - val_recall: 0.9628 - val_auc: 0.9964\n",
      "Epoch 114/200\n",
      "99854/99854 [==============================] - 3s 27us/step - loss: 0.1352 - accuracy: 0.9755 - precision: 0.9879 - recall: 0.9628 - auc: 0.9964 - val_loss: 0.1389 - val_accuracy: 0.9755 - val_precision: 0.9879 - val_recall: 0.9629 - val_auc: 0.9964\n",
      "Epoch 115/200\n",
      "99854/99854 [==============================] - 3s 27us/step - loss: 0.1350 - accuracy: 0.9755 - precision: 0.9879 - recall: 0.9629 - auc: 0.9964 - val_loss: 0.1371 - val_accuracy: 0.9756 - val_precision: 0.9879 - val_recall: 0.9629 - val_auc: 0.9964\n",
      "Epoch 116/200\n",
      "99854/99854 [==============================] - 3s 27us/step - loss: 0.1349 - accuracy: 0.9756 - precision: 0.9879 - recall: 0.9629 - auc: 0.9964 - val_loss: 0.1374 - val_accuracy: 0.9756 - val_precision: 0.9879 - val_recall: 0.9629 - val_auc: 0.9964\n",
      "Epoch 117/200\n",
      "99854/99854 [==============================] - 3s 28us/step - loss: 0.1348 - accuracy: 0.9756 - precision: 0.9879 - recall: 0.9630 - auc: 0.9964 - val_loss: 0.1369 - val_accuracy: 0.9756 - val_precision: 0.9879 - val_recall: 0.9630 - val_auc: 0.9964\n",
      "Epoch 118/200\n",
      "99854/99854 [==============================] - 3s 28us/step - loss: 0.1348 - accuracy: 0.9756 - precision: 0.9879 - recall: 0.9630 - auc: 0.9964 - val_loss: 0.1372 - val_accuracy: 0.9756 - val_precision: 0.9879 - val_recall: 0.9630 - val_auc: 0.9964\n",
      "Epoch 119/200\n",
      "99854/99854 [==============================] - 3s 27us/step - loss: 0.1347 - accuracy: 0.9756 - precision: 0.9879 - recall: 0.9630 - auc: 0.9964 - val_loss: 0.1376 - val_accuracy: 0.9756 - val_precision: 0.9879 - val_recall: 0.9631 - val_auc: 0.9964\n",
      "Epoch 120/200\n",
      "99854/99854 [==============================] - 3s 27us/step - loss: 0.1346 - accuracy: 0.9757 - precision: 0.9880 - recall: 0.9631 - auc: 0.9964 - val_loss: 0.1364 - val_accuracy: 0.9757 - val_precision: 0.9879 - val_recall: 0.9631 - val_auc: 0.9964\n",
      "Epoch 121/200\n",
      "99854/99854 [==============================] - 3s 27us/step - loss: 0.1343 - accuracy: 0.9757 - precision: 0.9880 - recall: 0.9631 - auc: 0.9964 - val_loss: 0.1482 - val_accuracy: 0.9757 - val_precision: 0.9880 - val_recall: 0.9631 - val_auc: 0.9964\n",
      "Epoch 122/200\n",
      "99854/99854 [==============================] - 3s 29us/step - loss: 0.1345 - accuracy: 0.9757 - precision: 0.9880 - recall: 0.9631 - auc: 0.9964 - val_loss: 0.1362 - val_accuracy: 0.9757 - val_precision: 0.9880 - val_recall: 0.9632 - val_auc: 0.9964\n",
      "Epoch 123/200\n",
      "99854/99854 [==============================] - 3s 27us/step - loss: 0.1342 - accuracy: 0.9757 - precision: 0.9880 - recall: 0.9632 - auc: 0.9965 - val_loss: 0.1364 - val_accuracy: 0.9757 - val_precision: 0.9880 - val_recall: 0.9632 - val_auc: 0.9964\n",
      "Epoch 124/200\n",
      "99854/99854 [==============================] - 3s 29us/step - loss: 0.1342 - accuracy: 0.9757 - precision: 0.9880 - recall: 0.9632 - auc: 0.9965 - val_loss: 0.1401 - val_accuracy: 0.9758 - val_precision: 0.9880 - val_recall: 0.9632 - val_auc: 0.9965\n",
      "Epoch 125/200\n",
      "99854/99854 [==============================] - 3s 27us/step - loss: 0.1341 - accuracy: 0.9758 - precision: 0.9880 - recall: 0.9632 - auc: 0.9965 - val_loss: 0.1390 - val_accuracy: 0.9758 - val_precision: 0.9880 - val_recall: 0.9633 - val_auc: 0.9965\n",
      "Epoch 126/200\n",
      "99854/99854 [==============================] - 3s 27us/step - loss: 0.1341 - accuracy: 0.9758 - precision: 0.9880 - recall: 0.9633 - auc: 0.9965 - val_loss: 0.1421 - val_accuracy: 0.9758 - val_precision: 0.9880 - val_recall: 0.9633 - val_auc: 0.9965\n",
      "Epoch 127/200\n",
      "99854/99854 [==============================] - 3s 27us/step - loss: 0.1339 - accuracy: 0.9758 - precision: 0.9880 - recall: 0.9633 - auc: 0.9965 - val_loss: 0.1359 - val_accuracy: 0.9758 - val_precision: 0.9880 - val_recall: 0.9633 - val_auc: 0.9965\n",
      "Epoch 128/200\n",
      "99854/99854 [==============================] - 3s 27us/step - loss: 0.1336 - accuracy: 0.9758 - precision: 0.9880 - recall: 0.9633 - auc: 0.9965 - val_loss: 0.1456 - val_accuracy: 0.9758 - val_precision: 0.9880 - val_recall: 0.9634 - val_auc: 0.9965\n",
      "Epoch 129/200\n",
      "99854/99854 [==============================] - 3s 29us/step - loss: 0.1337 - accuracy: 0.9759 - precision: 0.9880 - recall: 0.9634 - auc: 0.9965 - val_loss: 0.1357 - val_accuracy: 0.9759 - val_precision: 0.9880 - val_recall: 0.9634 - val_auc: 0.9965\n",
      "Epoch 130/200\n",
      "99854/99854 [==============================] - 3s 27us/step - loss: 0.1336 - accuracy: 0.9759 - precision: 0.9881 - recall: 0.9634 - auc: 0.9965 - val_loss: 0.1464 - val_accuracy: 0.9759 - val_precision: 0.9881 - val_recall: 0.9634 - val_auc: 0.9965\n",
      "Epoch 131/200\n",
      "99854/99854 [==============================] - ETA: 0s - loss: 0.1333 - accuracy: 0.9759 - precision: 0.9880 - recall: 0.9634 - auc: 0.996 - 3s 27us/step - loss: 0.1333 - accuracy: 0.9759 - precision: 0.9880 - recall: 0.9634 - auc: 0.9965 - val_loss: 0.1360 - val_accuracy: 0.9759 - val_precision: 0.9881 - val_recall: 0.9635 - val_auc: 0.9965\n",
      "Epoch 132/200\n",
      "99854/99854 [==============================] - 3s 28us/step - loss: 0.1334 - accuracy: 0.9759 - precision: 0.9881 - recall: 0.9635 - auc: 0.9965 - val_loss: 0.1473 - val_accuracy: 0.9759 - val_precision: 0.9881 - val_recall: 0.9635 - val_auc: 0.9965\n",
      "Epoch 133/200\n",
      "99854/99854 [==============================] - 3s 26us/step - loss: 0.1334 - accuracy: 0.9759 - precision: 0.9881 - recall: 0.9635 - auc: 0.9965 - val_loss: 0.1370 - val_accuracy: 0.9760 - val_precision: 0.9881 - val_recall: 0.9635 - val_auc: 0.9965\n",
      "Epoch 134/200\n",
      "99854/99854 [==============================] - 3s 27us/step - loss: 0.1332 - accuracy: 0.9760 - precision: 0.9881 - recall: 0.9636 - auc: 0.9965 - val_loss: 0.1361 - val_accuracy: 0.9760 - val_precision: 0.9881 - val_recall: 0.9636 - val_auc: 0.9965\n",
      "Epoch 135/200\n",
      "99854/99854 [==============================] - 3s 26us/step - loss: 0.1331 - accuracy: 0.9760 - precision: 0.9881 - recall: 0.9636 - auc: 0.9965 - val_loss: 0.1351 - val_accuracy: 0.9760 - val_precision: 0.9881 - val_recall: 0.9636 - val_auc: 0.9965\n",
      "Epoch 136/200\n",
      "99854/99854 [==============================] - 3s 29us/step - loss: 0.1329 - accuracy: 0.9760 - precision: 0.9881 - recall: 0.9636 - auc: 0.9965 - val_loss: 0.1366 - val_accuracy: 0.9760 - val_precision: 0.9881 - val_recall: 0.9636 - val_auc: 0.9965\n",
      "Epoch 137/200\n",
      "99854/99854 [==============================] - 3s 28us/step - loss: 0.1329 - accuracy: 0.9760 - precision: 0.9881 - recall: 0.9637 - auc: 0.9965 - val_loss: 0.1360 - val_accuracy: 0.9760 - val_precision: 0.9881 - val_recall: 0.9637 - val_auc: 0.9965\n",
      "Epoch 138/200\n",
      "99854/99854 [==============================] - 3s 27us/step - loss: 0.1327 - accuracy: 0.9761 - precision: 0.9881 - recall: 0.9637 - auc: 0.9965 - val_loss: 0.1361 - val_accuracy: 0.9761 - val_precision: 0.9881 - val_recall: 0.9637 - val_auc: 0.9965\n",
      "Epoch 139/200\n",
      "99854/99854 [==============================] - 3s 25us/step - loss: 0.1327 - accuracy: 0.9761 - precision: 0.9881 - recall: 0.9637 - auc: 0.9965 - val_loss: 0.1463 - val_accuracy: 0.9761 - val_precision: 0.9881 - val_recall: 0.9637 - val_auc: 0.9965\n",
      "Epoch 140/200\n",
      "99854/99854 [==============================] - 3s 26us/step - loss: 0.1326 - accuracy: 0.9761 - precision: 0.9881 - recall: 0.9638 - auc: 0.9966 - val_loss: 0.1365 - val_accuracy: 0.9761 - val_precision: 0.9881 - val_recall: 0.9638 - val_auc: 0.9966\n",
      "Epoch 141/200\n",
      "99854/99854 [==============================] - 3s 25us/step - loss: 0.1325 - accuracy: 0.9761 - precision: 0.9881 - recall: 0.9638 - auc: 0.9966 - val_loss: 0.1345 - val_accuracy: 0.9761 - val_precision: 0.9881 - val_recall: 0.9638 - val_auc: 0.9966\n",
      "Epoch 142/200\n",
      "99854/99854 [==============================] - 3s 27us/step - loss: 0.1325 - accuracy: 0.9761 - precision: 0.9882 - recall: 0.9638 - auc: 0.9966 - val_loss: 0.1364 - val_accuracy: 0.9761 - val_precision: 0.9882 - val_recall: 0.9638 - val_auc: 0.9966\n",
      "Epoch 143/200\n",
      "99854/99854 [==============================] - 3s 26us/step - loss: 0.1322 - accuracy: 0.9762 - precision: 0.9882 - recall: 0.9639 - auc: 0.9966 - val_loss: 0.1346 - val_accuracy: 0.9762 - val_precision: 0.9882 - val_recall: 0.9639 - val_auc: 0.9966\n",
      "Epoch 144/200\n",
      "99854/99854 [==============================] - 3s 28us/step - loss: 0.1322 - accuracy: 0.9762 - precision: 0.9882 - recall: 0.9639 - auc: 0.9966 - val_loss: 0.1379 - val_accuracy: 0.9762 - val_precision: 0.9882 - val_recall: 0.9639 - val_auc: 0.9966\n",
      "Epoch 145/200\n",
      "99854/99854 [==============================] - 3s 27us/step - loss: 0.1321 - accuracy: 0.9762 - precision: 0.9882 - recall: 0.9639 - auc: 0.9966 - val_loss: 0.1613 - val_accuracy: 0.9762 - val_precision: 0.9882 - val_recall: 0.9639 - val_auc: 0.9966\n",
      "Epoch 146/200\n",
      "99854/99854 [==============================] - 3s 25us/step - loss: 0.1321 - accuracy: 0.9762 - precision: 0.9882 - recall: 0.9640 - auc: 0.9966 - val_loss: 0.1342 - val_accuracy: 0.9762 - val_precision: 0.9882 - val_recall: 0.9640 - val_auc: 0.9966\n",
      "Epoch 147/200\n",
      "99854/99854 [==============================] - 3s 27us/step - loss: 0.1320 - accuracy: 0.9762 - precision: 0.9882 - recall: 0.9640 - auc: 0.9966 - val_loss: 0.1343 - val_accuracy: 0.9762 - val_precision: 0.9882 - val_recall: 0.9640 - val_auc: 0.9966\n",
      "Epoch 148/200\n",
      "99854/99854 [==============================] - 3s 26us/step - loss: 0.1320 - accuracy: 0.9763 - precision: 0.9882 - recall: 0.9640 - auc: 0.9966 - val_loss: 0.1354 - val_accuracy: 0.9763 - val_precision: 0.9882 - val_recall: 0.9640 - val_auc: 0.9966\n",
      "Epoch 149/200\n",
      "99854/99854 [==============================] - 3s 26us/step - loss: 0.1318 - accuracy: 0.9763 - precision: 0.9882 - recall: 0.9640 - auc: 0.9966 - val_loss: 0.1437 - val_accuracy: 0.9763 - val_precision: 0.9882 - val_recall: 0.9641 - val_auc: 0.9966\n",
      "Epoch 150/200\n",
      "99854/99854 [==============================] - 3s 27us/step - loss: 0.1318 - accuracy: 0.9763 - precision: 0.9882 - recall: 0.9641 - auc: 0.9966 - val_loss: 0.1356 - val_accuracy: 0.9763 - val_precision: 0.9882 - val_recall: 0.9641 - val_auc: 0.9966\n",
      "Epoch 151/200\n",
      "99854/99854 [==============================] - 3s 28us/step - loss: 0.1316 - accuracy: 0.9763 - precision: 0.9882 - recall: 0.9641 - auc: 0.9966 - val_loss: 0.1375 - val_accuracy: 0.9763 - val_precision: 0.9882 - val_recall: 0.9641 - val_auc: 0.9966\n",
      "Epoch 152/200\n",
      "99854/99854 [==============================] - 3s 26us/step - loss: 0.1316 - accuracy: 0.9763 - precision: 0.9882 - recall: 0.9641 - auc: 0.9966 - val_loss: 0.1363 - val_accuracy: 0.9763 - val_precision: 0.9882 - val_recall: 0.9642 - val_auc: 0.9966\n",
      "Epoch 153/200\n",
      "99854/99854 [==============================] - 3s 26us/step - loss: 0.1315 - accuracy: 0.9764 - precision: 0.9882 - recall: 0.9642 - auc: 0.9966 - val_loss: 0.1401 - val_accuracy: 0.9764 - val_precision: 0.9882 - val_recall: 0.9642 - val_auc: 0.9966\n",
      "Epoch 154/200\n",
      "99854/99854 [==============================] - 3s 28us/step - loss: 0.1314 - accuracy: 0.9764 - precision: 0.9883 - recall: 0.9642 - auc: 0.9966 - val_loss: 0.1376 - val_accuracy: 0.9764 - val_precision: 0.9883 - val_recall: 0.9642 - val_auc: 0.9966\n",
      "Epoch 155/200\n",
      "99854/99854 [==============================] - 3s 25us/step - loss: 0.1314 - accuracy: 0.9764 - precision: 0.9883 - recall: 0.9642 - auc: 0.9966 - val_loss: 0.1337 - val_accuracy: 0.9764 - val_precision: 0.9883 - val_recall: 0.9642 - val_auc: 0.9966\n"
     ]
    },
    {
     "name": "stdout",
     "output_type": "stream",
     "text": [
      "Epoch 156/200\n",
      "99854/99854 [==============================] - 3s 25us/step - loss: 0.1312 - accuracy: 0.9764 - precision: 0.9883 - recall: 0.9642 - auc: 0.9966 - val_loss: 0.1446 - val_accuracy: 0.9764 - val_precision: 0.9883 - val_recall: 0.9643 - val_auc: 0.9966\n",
      "Epoch 157/200\n",
      "99854/99854 [==============================] - 3s 26us/step - loss: 0.1313 - accuracy: 0.9764 - precision: 0.9883 - recall: 0.9643 - auc: 0.9966 - val_loss: 0.1338 - val_accuracy: 0.9764 - val_precision: 0.9883 - val_recall: 0.9643 - val_auc: 0.9966\n",
      "Epoch 158/200\n",
      "99854/99854 [==============================] - 3s 25us/step - loss: 0.1311 - accuracy: 0.9764 - precision: 0.9883 - recall: 0.9643 - auc: 0.9966 - val_loss: 0.1338 - val_accuracy: 0.9764 - val_precision: 0.9883 - val_recall: 0.9643 - val_auc: 0.9967\n",
      "Epoch 159/200\n",
      "99854/99854 [==============================] - 3s 25us/step - loss: 0.1310 - accuracy: 0.9764 - precision: 0.9883 - recall: 0.9643 - auc: 0.9966 - val_loss: 0.1564 - val_accuracy: 0.9765 - val_precision: 0.9883 - val_recall: 0.9644 - val_auc: 0.9967\n",
      "Epoch 160/200\n",
      "99854/99854 [==============================] - 3s 25us/step - loss: 0.1310 - accuracy: 0.9765 - precision: 0.9883 - recall: 0.9644 - auc: 0.9966 - val_loss: 0.1471 - val_accuracy: 0.9765 - val_precision: 0.9883 - val_recall: 0.9644 - val_auc: 0.9967\n",
      "Epoch 161/200\n",
      "99854/99854 [==============================] - 3s 25us/step - loss: 0.1309 - accuracy: 0.9765 - precision: 0.9883 - recall: 0.9644 - auc: 0.9967 - val_loss: 0.1325 - val_accuracy: 0.9765 - val_precision: 0.9883 - val_recall: 0.9644 - val_auc: 0.9967\n",
      "Epoch 162/200\n",
      "99854/99854 [==============================] - 3s 27us/step - loss: 0.1307 - accuracy: 0.9765 - precision: 0.9883 - recall: 0.9644 - auc: 0.9967 - val_loss: 0.1361 - val_accuracy: 0.9765 - val_precision: 0.9883 - val_recall: 0.9644 - val_auc: 0.9967\n",
      "Epoch 163/200\n",
      "99854/99854 [==============================] - 2s 25us/step - loss: 0.1309 - accuracy: 0.9765 - precision: 0.9883 - recall: 0.9645 - auc: 0.9967 - val_loss: 0.1330 - val_accuracy: 0.9765 - val_precision: 0.9883 - val_recall: 0.9645 - val_auc: 0.9967\n",
      "Epoch 164/200\n",
      "99854/99854 [==============================] - 3s 25us/step - loss: 0.1306 - accuracy: 0.9765 - precision: 0.9883 - recall: 0.9645 - auc: 0.9967 - val_loss: 0.1349 - val_accuracy: 0.9765 - val_precision: 0.9883 - val_recall: 0.9645 - val_auc: 0.9967\n",
      "Epoch 165/200\n",
      "99854/99854 [==============================] - 3s 26us/step - loss: 0.1306 - accuracy: 0.9766 - precision: 0.9883 - recall: 0.9645 - auc: 0.9967 - val_loss: 0.1330 - val_accuracy: 0.9766 - val_precision: 0.9883 - val_recall: 0.9645 - val_auc: 0.9967\n",
      "Epoch 166/200\n",
      "99854/99854 [==============================] - 3s 25us/step - loss: 0.1306 - accuracy: 0.9766 - precision: 0.9883 - recall: 0.9645 - auc: 0.9967 - val_loss: 0.1432 - val_accuracy: 0.9766 - val_precision: 0.9883 - val_recall: 0.9645 - val_auc: 0.9967\n",
      "Epoch 167/200\n",
      "99854/99854 [==============================] - 2s 24us/step - loss: 0.1305 - accuracy: 0.9766 - precision: 0.9883 - recall: 0.9646 - auc: 0.9967 - val_loss: 0.1330 - val_accuracy: 0.9766 - val_precision: 0.9883 - val_recall: 0.9646 - val_auc: 0.9967\n",
      "Epoch 168/200\n",
      "99854/99854 [==============================] - 2s 24us/step - loss: 0.1304 - accuracy: 0.9766 - precision: 0.9883 - recall: 0.9646 - auc: 0.9967 - val_loss: 0.1322 - val_accuracy: 0.9766 - val_precision: 0.9883 - val_recall: 0.9646 - val_auc: 0.9967\n",
      "Epoch 169/200\n",
      "99854/99854 [==============================] - 3s 25us/step - loss: 0.1303 - accuracy: 0.9766 - precision: 0.9883 - recall: 0.9646 - auc: 0.9967 - val_loss: 0.1330 - val_accuracy: 0.9766 - val_precision: 0.9883 - val_recall: 0.9646 - val_auc: 0.9967\n",
      "Epoch 170/200\n",
      "99854/99854 [==============================] - 3s 27us/step - loss: 0.1302 - accuracy: 0.9766 - precision: 0.9883 - recall: 0.9646 - auc: 0.9967 - val_loss: 0.1519 - val_accuracy: 0.9766 - val_precision: 0.9883 - val_recall: 0.9647 - val_auc: 0.9967\n",
      "Epoch 171/200\n",
      "99854/99854 [==============================] - 3s 28us/step - loss: 0.1301 - accuracy: 0.9767 - precision: 0.9883 - recall: 0.9647 - auc: 0.9967 - val_loss: 0.1321 - val_accuracy: 0.9767 - val_precision: 0.9883 - val_recall: 0.9647 - val_auc: 0.9967\n",
      "Epoch 172/200\n",
      "99854/99854 [==============================] - 3s 26us/step - loss: 0.1300 - accuracy: 0.9767 - precision: 0.9883 - recall: 0.9647 - auc: 0.9967 - val_loss: 0.1321 - val_accuracy: 0.9767 - val_precision: 0.9883 - val_recall: 0.9647 - val_auc: 0.9967\n",
      "Epoch 173/200\n",
      "99854/99854 [==============================] - 3s 26us/step - loss: 0.1300 - accuracy: 0.9767 - precision: 0.9883 - recall: 0.9647 - auc: 0.9967 - val_loss: 0.1341 - val_accuracy: 0.9767 - val_precision: 0.9884 - val_recall: 0.9647 - val_auc: 0.9967\n",
      "Epoch 174/200\n",
      "99854/99854 [==============================] - 2s 25us/step - loss: 0.1301 - accuracy: 0.9767 - precision: 0.9884 - recall: 0.9648 - auc: 0.9967 - val_loss: 0.1318 - val_accuracy: 0.9767 - val_precision: 0.9884 - val_recall: 0.9648 - val_auc: 0.9967\n",
      "Epoch 175/200\n",
      "99854/99854 [==============================] - 3s 26us/step - loss: 0.1298 - accuracy: 0.9767 - precision: 0.9884 - recall: 0.9648 - auc: 0.9967 - val_loss: 0.1315 - val_accuracy: 0.9767 - val_precision: 0.9884 - val_recall: 0.9648 - val_auc: 0.9967\n",
      "Epoch 176/200\n",
      "99854/99854 [==============================] - 2s 25us/step - loss: 0.1297 - accuracy: 0.9767 - precision: 0.9884 - recall: 0.9648 - auc: 0.9967 - val_loss: 0.1328 - val_accuracy: 0.9767 - val_precision: 0.9884 - val_recall: 0.9648 - val_auc: 0.9967\n",
      "Epoch 177/200\n",
      "99854/99854 [==============================] - 2s 24us/step - loss: 0.1297 - accuracy: 0.9767 - precision: 0.9884 - recall: 0.9648 - auc: 0.9967 - val_loss: 0.1331 - val_accuracy: 0.9768 - val_precision: 0.9884 - val_recall: 0.9648 - val_auc: 0.9967\n",
      "Epoch 178/200\n",
      "99854/99854 [==============================] - 3s 25us/step - loss: 0.1296 - accuracy: 0.9768 - precision: 0.9884 - recall: 0.9648 - auc: 0.9967 - val_loss: 0.1366 - val_accuracy: 0.9768 - val_precision: 0.9884 - val_recall: 0.9649 - val_auc: 0.9967\n",
      "Epoch 179/200\n",
      "99854/99854 [==============================] - 2s 25us/step - loss: 0.1297 - accuracy: 0.9768 - precision: 0.9884 - recall: 0.9649 - auc: 0.9967 - val_loss: 0.1331 - val_accuracy: 0.9768 - val_precision: 0.9884 - val_recall: 0.9649 - val_auc: 0.9967\n",
      "Epoch 180/200\n",
      "99854/99854 [==============================] - 2s 24us/step - loss: 0.1296 - accuracy: 0.9768 - precision: 0.9884 - recall: 0.9649 - auc: 0.9967 - val_loss: 0.1329 - val_accuracy: 0.9768 - val_precision: 0.9884 - val_recall: 0.9649 - val_auc: 0.9967\n",
      "Epoch 181/200\n",
      "99854/99854 [==============================] - 2s 25us/step - loss: 0.1295 - accuracy: 0.9768 - precision: 0.9884 - recall: 0.9649 - auc: 0.9968 - val_loss: 0.1363 - val_accuracy: 0.9768 - val_precision: 0.9884 - val_recall: 0.9649 - val_auc: 0.9968\n",
      "Epoch 182/200\n",
      "99854/99854 [==============================] - 2s 24us/step - loss: 0.1294 - accuracy: 0.9768 - precision: 0.9884 - recall: 0.9649 - auc: 0.9968 - val_loss: 0.1313 - val_accuracy: 0.9768 - val_precision: 0.9884 - val_recall: 0.9649 - val_auc: 0.9968\n",
      "Epoch 183/200\n",
      "99854/99854 [==============================] - 3s 27us/step - loss: 0.1293 - accuracy: 0.9768 - precision: 0.9884 - recall: 0.9650 - auc: 0.9968 - val_loss: 0.1334 - val_accuracy: 0.9768 - val_precision: 0.9884 - val_recall: 0.9650 - val_auc: 0.9968\n",
      "Epoch 184/200\n",
      "99854/99854 [==============================] - 3s 27us/step - loss: 0.1293 - accuracy: 0.9769 - precision: 0.9884 - recall: 0.9650 - auc: 0.9968 - val_loss: 0.1317 - val_accuracy: 0.9769 - val_precision: 0.9884 - val_recall: 0.9650 - val_auc: 0.9968\n",
      "Epoch 185/200\n",
      "99854/99854 [==============================] - 3s 26us/step - loss: 0.1293 - accuracy: 0.9769 - precision: 0.9884 - recall: 0.9650 - auc: 0.9968 - val_loss: 0.1343 - val_accuracy: 0.9769 - val_precision: 0.9884 - val_recall: 0.9650 - val_auc: 0.9968\n",
      "Epoch 186/200\n",
      "99854/99854 [==============================] - 3s 26us/step - loss: 0.1291 - accuracy: 0.9769 - precision: 0.9884 - recall: 0.9650 - auc: 0.9968 - val_loss: 0.1386 - val_accuracy: 0.9769 - val_precision: 0.9884 - val_recall: 0.9650 - val_auc: 0.9968\n",
      "Epoch 187/200\n"
     ]
    },
    {
     "name": "stdout",
     "output_type": "stream",
     "text": [
      "99854/99854 [==============================] - 3s 25us/step - loss: 0.1291 - accuracy: 0.9769 - precision: 0.9885 - recall: 0.9650 - auc: 0.9968 - val_loss: 0.1407 - val_accuracy: 0.9769 - val_precision: 0.9885 - val_recall: 0.9651 - val_auc: 0.9968\n",
      "Epoch 188/200\n",
      "99854/99854 [==============================] - 3s 26us/step - loss: 0.1291 - accuracy: 0.9769 - precision: 0.9885 - recall: 0.9651 - auc: 0.9968 - val_loss: 0.1331 - val_accuracy: 0.9769 - val_precision: 0.9885 - val_recall: 0.9651 - val_auc: 0.9968\n",
      "Epoch 189/200\n",
      "99854/99854 [==============================] - 3s 26us/step - loss: 0.1291 - accuracy: 0.9769 - precision: 0.9885 - recall: 0.9651 - auc: 0.9968 - val_loss: 0.1330 - val_accuracy: 0.9769 - val_precision: 0.9885 - val_recall: 0.9651 - val_auc: 0.9968\n",
      "Epoch 190/200\n",
      "99854/99854 [==============================] - 2s 25us/step - loss: 0.1289 - accuracy: 0.9769 - precision: 0.9885 - recall: 0.9651 - auc: 0.9968 - val_loss: 0.1327 - val_accuracy: 0.9769 - val_precision: 0.9885 - val_recall: 0.9651 - val_auc: 0.9968\n",
      "Epoch 191/200\n",
      "99854/99854 [==============================] - 3s 27us/step - loss: 0.1290 - accuracy: 0.9769 - precision: 0.9885 - recall: 0.9651 - auc: 0.9968 - val_loss: 0.1359 - val_accuracy: 0.9770 - val_precision: 0.9885 - val_recall: 0.9651 - val_auc: 0.9968\n",
      "Epoch 192/200\n",
      "99854/99854 [==============================] - 3s 27us/step - loss: 0.1289 - accuracy: 0.9770 - precision: 0.9885 - recall: 0.9651 - auc: 0.9968 - val_loss: 0.1343 - val_accuracy: 0.9770 - val_precision: 0.9885 - val_recall: 0.9652 - val_auc: 0.9968\n",
      "Epoch 193/200\n",
      "99854/99854 [==============================] - 3s 25us/step - loss: 0.1287 - accuracy: 0.9770 - precision: 0.9885 - recall: 0.9651 - auc: 0.9968 - val_loss: 0.1317 - val_accuracy: 0.9770 - val_precision: 0.9885 - val_recall: 0.9652 - val_auc: 0.9968\n",
      "Epoch 194/200\n",
      "99854/99854 [==============================] - 3s 26us/step - loss: 0.1289 - accuracy: 0.9770 - precision: 0.9885 - recall: 0.9652 - auc: 0.9968 - val_loss: 0.1316 - val_accuracy: 0.9770 - val_precision: 0.9885 - val_recall: 0.9652 - val_auc: 0.9968\n",
      "Epoch 195/200\n",
      "99854/99854 [==============================] - 3s 27us/step - loss: 0.1285 - accuracy: 0.9770 - precision: 0.9885 - recall: 0.9652 - auc: 0.9968 - val_loss: 0.1306 - val_accuracy: 0.9770 - val_precision: 0.9885 - val_recall: 0.9652 - val_auc: 0.9968\n",
      "Epoch 196/200\n",
      "99854/99854 [==============================] - 3s 25us/step - loss: 0.1285 - accuracy: 0.9770 - precision: 0.9885 - recall: 0.9652 - auc: 0.9968 - val_loss: 0.1327 - val_accuracy: 0.9770 - val_precision: 0.9885 - val_recall: 0.9652 - val_auc: 0.9968\n",
      "Epoch 197/200\n",
      "99854/99854 [==============================] - 2s 24us/step - loss: 0.1285 - accuracy: 0.9770 - precision: 0.9885 - recall: 0.9652 - auc: 0.9968 - val_loss: 0.1320 - val_accuracy: 0.9770 - val_precision: 0.9885 - val_recall: 0.9653 - val_auc: 0.9968\n",
      "Epoch 198/200\n",
      "99854/99854 [==============================] - 2s 24us/step - loss: 0.1286 - accuracy: 0.9770 - precision: 0.9885 - recall: 0.9653 - auc: 0.9968 - val_loss: 0.1373 - val_accuracy: 0.9771 - val_precision: 0.9885 - val_recall: 0.9653 - val_auc: 0.9968\n",
      "Epoch 199/200\n",
      "99854/99854 [==============================] - 2s 24us/step - loss: 0.1284 - accuracy: 0.9771 - precision: 0.9885 - recall: 0.9653 - auc: 0.9968 - val_loss: 0.1342 - val_accuracy: 0.9771 - val_precision: 0.9885 - val_recall: 0.9653 - val_auc: 0.9968\n",
      "Epoch 200/200\n",
      "99854/99854 [==============================] - 2s 24us/step - loss: 0.1282 - accuracy: 0.9771 - precision: 0.9885 - recall: 0.9653 - auc: 0.9968 - val_loss: 0.1302 - val_accuracy: 0.9771 - val_precision: 0.9885 - val_recall: 0.9653 - val_auc: 0.9968\n"
     ]
    },
    {
     "data": {
      "text/plain": [
       "<keras.callbacks.callbacks.History at 0x26ea7d91f28>"
      ]
     },
     "execution_count": 10,
     "metadata": {},
     "output_type": "execute_result"
    }
   ],
   "source": [
    "estimator = KerasClassifier(build_fn=neural_network)\n",
    "estimator.fit(X_train,Y_train,verbose=1,callbacks=[early_stopping], epochs=200,validation_data=(X_val,Y_val), batch_size=128)\n"
   ]
  },
  {
   "cell_type": "code",
   "execution_count": 11,
   "metadata": {},
   "outputs": [
    {
     "name": "stdout",
     "output_type": "stream",
     "text": [
      "Epoch 1/1\n",
      "4628/4628 [==============================] - 0s 107us/step - loss: 6.4053 - accuracy: 0.9771 - precision: 0.9885 - recall: 0.9653 - auc: 0.9968\n",
      "Epoch 1/1\n",
      "4628/4628 [==============================] - 0s 108us/step - loss: 6.4057 - accuracy: 0.9770 - precision: 0.9885 - recall: 0.9652 - auc: 0.9968\n",
      "Epoch 1/1\n",
      "4628/4628 [==============================] - 0s 107us/step - loss: 6.4526 - accuracy: 0.9770 - precision: 0.9885 - recall: 0.9652 - auc: 0.9968\n",
      "Cross-Validation set accuracy: 89.455488 %\n",
      "99854/99854 [==============================] - 3s 31us/step\n",
      "Train set accuracy           : 97.7031 %\n",
      "Test set accuracy            : 78.6688 %\n",
      "Test set precision           : 92.3700 %\n",
      "Test set recall              : 67.8333 %\n"
     ]
    }
   ],
   "source": [
    "print(\"Cross-Validation set accuracy: {:.6f} %\".format((cross_val_score(estimator, X_val, Y_val, \n",
    "                                                                        cv=3,scoring='accuracy').mean())*100))\n",
    "test_predictions = estimator.predict(X_test)\n",
    "print(\"Train set accuracy           : {:.4f} %\".format(estimator.score(X_train,Y_train)*100))\n",
    "print(\"Test set accuracy            : {:.4f} %\".format(accuracy_score(Y_test, test_predictions)*100))\n",
    "print(\"Test set precision           : {:.4f} %\".format(precision_score(Y_test, test_predictions)*100))\n",
    "print(\"Test set recall              : {:.4f} %\".format(recall_score(Y_test, test_predictions)*100))"
   ]
  },
  {
   "cell_type": "code",
   "execution_count": 21,
   "metadata": {},
   "outputs": [],
   "source": [
    "def plot_metrics(history):\n",
    "  metrics =  ['accuracy', 'precision', 'recall','auc']\n",
    "  for n, metric in enumerate(metrics):\n",
    "    name = metric.replace(\"_\",\" \").capitalize()\n",
    "    plt.subplots(2,2)\n",
    "    plt.plot(history.epochs,  history.history[metric], color=colors[0], label='Train')\n",
    "    plt.plot(history.epochs, history.history['val_'+metric], color=colors[0], linestyle=\"--\", label='Val')\n",
    "    plt.xlabel('Epoch')\n",
    "    plt.ylabel(name)\n",
    "    if metric == 'loss':\n",
    "      plt.ylim([0, plt.ylim()[1]])\n",
    "    elif metric == 'accuracy':\n",
    "      plt.ylim([0.8,1])\n",
    "    elif metric == 'precision':\n",
    "      plt.ylim([0.8,1])\n",
    "    elif metric == 'recall':\n",
    "      plt.ylim([0.8,1])\n",
    "\n",
    "    plt.legend()"
   ]
  },
  {
   "cell_type": "code",
   "execution_count": 22,
   "metadata": {},
   "outputs": [
    {
     "ename": "AttributeError",
     "evalue": "'KerasClassifier' object has no attribute 'epochs'",
     "output_type": "error",
     "traceback": [
      "\u001b[1;31m---------------------------------------------------------------------------\u001b[0m",
      "\u001b[1;31mAttributeError\u001b[0m                            Traceback (most recent call last)",
      "\u001b[1;32m<ipython-input-22-59f7d85a0aa5>\u001b[0m in \u001b[0;36m<module>\u001b[1;34m\u001b[0m\n\u001b[1;32m----> 1\u001b[1;33m \u001b[0mplot_metrics\u001b[0m\u001b[1;33m(\u001b[0m\u001b[0mestimator\u001b[0m\u001b[1;33m)\u001b[0m\u001b[1;33m\u001b[0m\u001b[1;33m\u001b[0m\u001b[0m\n\u001b[0m",
      "\u001b[1;32m<ipython-input-21-cb4df212ad2e>\u001b[0m in \u001b[0;36mplot_metrics\u001b[1;34m(history)\u001b[0m\n\u001b[0;32m      4\u001b[0m     \u001b[0mname\u001b[0m \u001b[1;33m=\u001b[0m \u001b[0mmetric\u001b[0m\u001b[1;33m.\u001b[0m\u001b[0mreplace\u001b[0m\u001b[1;33m(\u001b[0m\u001b[1;34m\"_\"\u001b[0m\u001b[1;33m,\u001b[0m\u001b[1;34m\" \"\u001b[0m\u001b[1;33m)\u001b[0m\u001b[1;33m.\u001b[0m\u001b[0mcapitalize\u001b[0m\u001b[1;33m(\u001b[0m\u001b[1;33m)\u001b[0m\u001b[1;33m\u001b[0m\u001b[1;33m\u001b[0m\u001b[0m\n\u001b[0;32m      5\u001b[0m     \u001b[0mplt\u001b[0m\u001b[1;33m.\u001b[0m\u001b[0msubplots\u001b[0m\u001b[1;33m(\u001b[0m\u001b[1;36m2\u001b[0m\u001b[1;33m,\u001b[0m\u001b[1;36m2\u001b[0m\u001b[1;33m)\u001b[0m\u001b[1;33m\u001b[0m\u001b[1;33m\u001b[0m\u001b[0m\n\u001b[1;32m----> 6\u001b[1;33m     \u001b[0mplt\u001b[0m\u001b[1;33m.\u001b[0m\u001b[0mplot\u001b[0m\u001b[1;33m(\u001b[0m\u001b[0mhistory\u001b[0m\u001b[1;33m.\u001b[0m\u001b[0mepochs\u001b[0m\u001b[1;33m,\u001b[0m  \u001b[0mhistory\u001b[0m\u001b[1;33m.\u001b[0m\u001b[0mhistory\u001b[0m\u001b[1;33m[\u001b[0m\u001b[0mmetric\u001b[0m\u001b[1;33m]\u001b[0m\u001b[1;33m,\u001b[0m \u001b[0mcolor\u001b[0m\u001b[1;33m=\u001b[0m\u001b[0mcolors\u001b[0m\u001b[1;33m[\u001b[0m\u001b[1;36m0\u001b[0m\u001b[1;33m]\u001b[0m\u001b[1;33m,\u001b[0m \u001b[0mlabel\u001b[0m\u001b[1;33m=\u001b[0m\u001b[1;34m'Train'\u001b[0m\u001b[1;33m)\u001b[0m\u001b[1;33m\u001b[0m\u001b[1;33m\u001b[0m\u001b[0m\n\u001b[0m\u001b[0;32m      7\u001b[0m     \u001b[0mplt\u001b[0m\u001b[1;33m.\u001b[0m\u001b[0mplot\u001b[0m\u001b[1;33m(\u001b[0m\u001b[0mhistory\u001b[0m\u001b[1;33m.\u001b[0m\u001b[0mepochs\u001b[0m\u001b[1;33m,\u001b[0m \u001b[0mhistory\u001b[0m\u001b[1;33m.\u001b[0m\u001b[0mhistory\u001b[0m\u001b[1;33m[\u001b[0m\u001b[1;34m'val_'\u001b[0m\u001b[1;33m+\u001b[0m\u001b[0mmetric\u001b[0m\u001b[1;33m]\u001b[0m\u001b[1;33m,\u001b[0m \u001b[0mcolor\u001b[0m\u001b[1;33m=\u001b[0m\u001b[0mcolors\u001b[0m\u001b[1;33m[\u001b[0m\u001b[1;36m0\u001b[0m\u001b[1;33m]\u001b[0m\u001b[1;33m,\u001b[0m \u001b[0mlinestyle\u001b[0m\u001b[1;33m=\u001b[0m\u001b[1;34m\"--\"\u001b[0m\u001b[1;33m,\u001b[0m \u001b[0mlabel\u001b[0m\u001b[1;33m=\u001b[0m\u001b[1;34m'Val'\u001b[0m\u001b[1;33m)\u001b[0m\u001b[1;33m\u001b[0m\u001b[1;33m\u001b[0m\u001b[0m\n\u001b[0;32m      8\u001b[0m     \u001b[0mplt\u001b[0m\u001b[1;33m.\u001b[0m\u001b[0mxlabel\u001b[0m\u001b[1;33m(\u001b[0m\u001b[1;34m'Epoch'\u001b[0m\u001b[1;33m)\u001b[0m\u001b[1;33m\u001b[0m\u001b[1;33m\u001b[0m\u001b[0m\n",
      "\u001b[1;31mAttributeError\u001b[0m: 'KerasClassifier' object has no attribute 'epochs'"
     ]
    },
    {
     "data": {
      "image/png": "[encoded data removed]",
      "text/plain": [
       "<Figure size 864x720 with 4 Axes>"
      ]
     },
     "metadata": {
      "needs_background": "light"
     },
     "output_type": "display_data"
    }
   ],
   "source": [
    "plot_metrics(estimator)"
   ]
  },
  {
   "cell_type": "code",
   "execution_count": 23,
   "metadata": {},
   "outputs": [],
   "source": [
    "def plot_cm(labels, predictions, p=0.81):\n",
    "    cm = confusion_matrix(labels, predictions > p)\n",
    "    plt.figure(figsize=(5,5))\n",
    "    sns.heatmap(cm, annot=True, fmt=\"d\")\n",
    "    plt.title('Confusion matrix @{:.2f}'.format(p))\n",
    "    plt.ylabel('Actual label')\n",
    "    plt.xlabel('Predicted label')\n",
    "\n",
    "    plt.text(0.3,2.6,'True Negatives  : '+ str(cm[0][0]),size=14)\n",
    "    plt.text(0.3,2.8,'False Positives   : '+ str(cm[0][1]),size=14)\n",
    "    plt.text(0.3,3,'False Negatives : '+ str(cm[1][0]),size=14)\n",
    "    plt.text(0.3,3.2,'True Positives    : '+ str(cm[1][1]),size=14)"
   ]
  },
  {
   "cell_type": "code",
   "execution_count": 24,
   "metadata": {
    "scrolled": false
   },
   "outputs": [
    {
     "data": {
      "image/png": "[encoded data removed]",
      "text/plain": [
       "<Figure size 360x360 with 2 Axes>"
      ]
     },
     "metadata": {
      "needs_background": "light"
     },
     "output_type": "display_data"
    }
   ],
   "source": [
    "plot_cm(Y_test, test_predictions)"
   ]
  },
  {
   "cell_type": "code",
   "execution_count": 25,
   "metadata": {},
   "outputs": [
    {
     "name": "stdout",
     "output_type": "stream",
     "text": [
      "              precision    recall  f1-score   support\n",
      "\n",
      "           0       0.69      0.93      0.79      9710\n",
      "           1       0.92      0.68      0.78     12600\n",
      "\n",
      "    accuracy                           0.79     22310\n",
      "   macro avg       0.81      0.80      0.79     22310\n",
      "weighted avg       0.82      0.79      0.79     22310\n",
      "\n"
     ]
    }
   ],
   "source": [
    "print(classification_report(Y_test, test_predictions.round()))"
   ]
  }
 ],
 "metadata": {
  "kernelspec": {
   "display_name": "Python 3",
   "language": "python",
   "name": "python3"
  },
  "language_info": {
   "codemirror_mode": {
    "name": "ipython",
    "version": 3
   },
   "file_extension": ".py",
   "mimetype": "text/x-python",
   "name": "python",
   "nbconvert_exporter": "python",
   "pygments_lexer": "ipython3",
   "version": "3.7.3"
  }
 },
 "nbformat": 4,
 "nbformat_minor": 4
}
