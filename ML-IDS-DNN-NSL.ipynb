{
 "cells": [
  {
   "cell_type": "markdown",
   "metadata": {},
   "source": [
    "# DNN - NSL"
   ]
  },
  {
   "cell_type": "code",
   "execution_count": 1,
   "metadata": {},
   "outputs": [
    {
     "name": "stdout",
     "output_type": "stream",
     "text": [
      "C:\\Users\\Sharuka Thirimanne\\Desktop\\FYP-ML-IDS\n"
     ]
    }
   ],
   "source": [
    "cd C:\\\\Users\\\\Sharuka Thirimanne\\\\Desktop\\\\FYP-ML-IDS"
   ]
  },
  {
   "cell_type": "code",
   "execution_count": 17,
   "metadata": {},
   "outputs": [],
   "source": [
    "import sklearn\n",
    "import numpy as np\n",
    "import pandas as pd\n",
    "import seaborn as sns\n",
    "import tensorflow as tf\n",
    "import matplotlib as mpl\n",
    "import matplotlib.pyplot as plt\n",
    "\n",
    "from tensorflow import keras\n",
    "from keras.layers import Dense\n",
    "from keras.models import Sequential\n",
    "from sklearn.decomposition import PCA\n",
    "from tensorflow.keras import regularizers\n",
    "from tensorflow.keras import Model, layers\n",
    "from keras.wrappers.scikit_learn import KerasClassifier\n",
    "from sklearn.model_selection import GridSearchCV\n",
    "from sklearn.model_selection import cross_val_score, train_test_split\n",
    "from sklearn.metrics import accuracy_score, precision_score, recall_score, classification_report,confusion_matrix,f1_score\n"
   ]
  },
  {
   "cell_type": "code",
   "execution_count": 3,
   "metadata": {},
   "outputs": [],
   "source": [
    "mpl.rcParams['figure.figsize'] = (12, 10)\n",
    "colors = plt.rcParams['axes.prop_cycle'].by_key()['color']"
   ]
  },
  {
   "cell_type": "code",
   "execution_count": 4,
   "metadata": {
    "scrolled": false
   },
   "outputs": [],
   "source": [
    "def load_train_dataset():\n",
    "    df_train = pd.read_csv('NSL_train-set.csv')\n",
    "    \n",
    "    limit = df_train.shape[1]-1\n",
    "    \n",
    "    X_train = df_train.iloc[:,0:limit]\n",
    "    Y_train = df_train.iloc[:,limit]\n",
    "    \n",
    "    return X_train, Y_train, df_train\n",
    "\n",
    "X_train, Y_train, df_train = load_train_dataset()"
   ]
  },
  {
   "cell_type": "code",
   "execution_count": 5,
   "metadata": {},
   "outputs": [],
   "source": [
    "def load_test_dataset():\n",
    "    df_test = pd.read_csv('NSL_test-set.csv')\n",
    "\n",
    "    limit = df_test.shape[1]-1\n",
    "    \n",
    "    X_test = df_test.iloc[:,0:limit]\n",
    "    Y_test = df_test.iloc[:,limit]\n",
    "    \n",
    "    return X_test, Y_test, df_test\n",
    "\n",
    "X_test, Y_test, df_test = load_test_dataset()"
   ]
  },
  {
   "cell_type": "code",
   "execution_count": 6,
   "metadata": {},
   "outputs": [],
   "source": [
    "METRICS = [ \n",
    "      keras.metrics.BinaryAccuracy(name='accuracy'),\n",
    "      keras.metrics.Precision(name='precision'),\n",
    "      keras.metrics.Recall(name='recall'),\n",
    "      keras.metrics.AUC(name='auc'),\n",
    "]"
   ]
  },
  {
   "cell_type": "code",
   "execution_count": 7,
   "metadata": {},
   "outputs": [],
   "source": [
    "early_stopping = tf.keras.callbacks.EarlyStopping(\n",
    "    monitor='accuracy', \n",
    "    verbose=1,\n",
    "    patience=5,\n",
    "    mode='max',\n",
    "    restore_best_weights=True)"
   ]
  },
  {
   "cell_type": "code",
   "execution_count": 8,
   "metadata": {},
   "outputs": [],
   "source": [
    "def neural_network(optimizer='sgd', init='glorot_uniform'):\n",
    "    #Neural Network Model\n",
    "    model = Sequential()\n",
    "    model.add(Dense(256, input_dim=77, activation='relu', kernel_initializer=init, bias_initializer='zeros'))\n",
    "    model.add(Dense(256, activation='relu'))\n",
    "    model.add(Dense(256, activation='relu'))\n",
    "    model.add(Dense(256, activation='relu'))\n",
    "    model.add(Dense(256, activation='relu'))\n",
    "    model.add(Dense(256, activation='relu'))\n",
    "    model.add(Dense(256, activation='relu'))\n",
    "    model.add(Dense(1, activation='sigmoid'))\n",
    "\n",
    "    model.compile(loss='binary_crossentropy', optimizer=optimizer, metrics = METRICS)\n",
    "    \n",
    "    return model\n"
   ]
  },
  {
   "cell_type": "code",
   "execution_count": 9,
   "metadata": {
    "scrolled": true
   },
   "outputs": [
    {
     "name": "stdout",
     "output_type": "stream",
     "text": [
      "Train on 91459 samples, validate on 22865 samples\n",
      "Epoch 1/200\n",
      "91459/91459 [==============================] - 5s 55us/step - loss: 0.3224 - accuracy: 0.7404 - precision: 0.8687 - recall: 0.3222 - auc: 0.8610 - val_loss: 0.1564 - val_accuracy: 0.8704 - val_precision: 0.9816 - val_recall: 0.7174 - val_auc: 0.9587\n",
      "Epoch 2/200\n",
      "91459/91459 [==============================] - 5s 51us/step - loss: 0.0829 - accuracy: 0.9052 - precision: 0.9854 - recall: 0.8095 - auc: 0.9721 - val_loss: 0.1225 - val_accuracy: 0.9252 - val_precision: 0.9872 - val_recall: 0.8527 - val_auc: 0.9792\n",
      "Epoch 3/200\n",
      "91459/91459 [==============================] - 5s 51us/step - loss: 0.0691 - accuracy: 0.9356 - precision: 0.9884 - recall: 0.8764 - auc: 0.9824 - val_loss: 0.1159 - val_accuracy: 0.9432 - val_precision: 0.9891 - val_recall: 0.8921 - val_auc: 0.9846\n",
      "Epoch 4/200\n",
      "91459/91459 [==============================] - 5s 51us/step - loss: 0.0625 - accuracy: 0.9482 - precision: 0.9897 - recall: 0.9028 - auc: 0.9861 - val_loss: 0.1024 - val_accuracy: 0.9522 - val_precision: 0.9901 - val_recall: 0.9111 - val_auc: 0.9873\n",
      "Epoch 5/200\n",
      "91459/91459 [==============================] - 5s 51us/step - loss: 0.0528 - accuracy: 0.9552 - precision: 0.9904 - recall: 0.9172 - auc: 0.9885 - val_loss: 0.0792 - val_accuracy: 0.9577 - val_precision: 0.9907 - val_recall: 0.9224 - val_auc: 0.9896\n",
      "Epoch 6/200\n",
      "91459/91459 [==============================] - 5s 51us/step - loss: 0.0465 - accuracy: 0.9598 - precision: 0.9910 - recall: 0.9265 - auc: 0.9905 - val_loss: 0.0698 - val_accuracy: 0.9617 - val_precision: 0.9912 - val_recall: 0.9303 - val_auc: 0.9913\n",
      "Epoch 7/200\n",
      "91459/91459 [==============================] - 5s 51us/step - loss: 0.0424 - accuracy: 0.9633 - precision: 0.9914 - recall: 0.9336 - auc: 0.9919 - val_loss: 0.0968 - val_accuracy: 0.9646 - val_precision: 0.9916 - val_recall: 0.9361 - val_auc: 0.9924\n",
      "Epoch 8/200\n",
      "91459/91459 [==============================] - 5s 52us/step - loss: 0.0401 - accuracy: 0.9657 - precision: 0.9918 - recall: 0.9383 - auc: 0.9928 - val_loss: 0.0726 - val_accuracy: 0.9669 - val_precision: 0.9919 - val_recall: 0.9406 - val_auc: 0.9933\n",
      "Epoch 9/200\n",
      "91459/91459 [==============================] - 5s 51us/step - loss: 0.0382 - accuracy: 0.9679 - precision: 0.9920 - recall: 0.9427 - auc: 0.9936 - val_loss: 0.0368 - val_accuracy: 0.9690 - val_precision: 0.9921 - val_recall: 0.9448 - val_auc: 0.9940\n",
      "Epoch 10/200\n",
      "91459/91459 [==============================] - 5s 51us/step - loss: 0.0365 - accuracy: 0.9700 - precision: 0.9922 - recall: 0.9468 - auc: 0.9943 - val_loss: 0.0631 - val_accuracy: 0.9708 - val_precision: 0.9923 - val_recall: 0.9484 - val_auc: 0.9946\n",
      "Epoch 11/200\n",
      "91459/91459 [==============================] - 5s 51us/step - loss: 0.0351 - accuracy: 0.9715 - precision: 0.9923 - recall: 0.9499 - auc: 0.9948 - val_loss: 0.0784 - val_accuracy: 0.9721 - val_precision: 0.9924 - val_recall: 0.9510 - val_auc: 0.9950\n",
      "Epoch 12/200\n",
      "91459/91459 [==============================] - 5s 51us/step - loss: 0.0331 - accuracy: 0.9726 - precision: 0.9925 - recall: 0.9520 - auc: 0.9952 - val_loss: 0.0446 - val_accuracy: 0.9733 - val_precision: 0.9925 - val_recall: 0.9533 - val_auc: 0.9954\n",
      "Epoch 13/200\n",
      "91459/91459 [==============================] - 5s 51us/step - loss: 0.0328 - accuracy: 0.9738 - precision: 0.9926 - recall: 0.9544 - auc: 0.9955 - val_loss: 0.0538 - val_accuracy: 0.9743 - val_precision: 0.9926 - val_recall: 0.9553 - val_auc: 0.9957\n",
      "Epoch 14/200\n",
      "91459/91459 [==============================] - 5s 51us/step - loss: 0.0314 - accuracy: 0.9748 - precision: 0.9927 - recall: 0.9563 - auc: 0.9958 - val_loss: 0.0558 - val_accuracy: 0.9753 - val_precision: 0.9927 - val_recall: 0.9571 - val_auc: 0.9960\n",
      "Epoch 15/200\n",
      "91459/91459 [==============================] - 5s 51us/step - loss: 0.0312 - accuracy: 0.9757 - precision: 0.9928 - recall: 0.9580 - auc: 0.9961 - val_loss: 0.0281 - val_accuracy: 0.9761 - val_precision: 0.9928 - val_recall: 0.9589 - val_auc: 0.9962\n",
      "Epoch 16/200\n",
      "91459/91459 [==============================] - 5s 51us/step - loss: 0.0305 - accuracy: 0.9766 - precision: 0.9928 - recall: 0.9597 - auc: 0.9963 - val_loss: 0.0446 - val_accuracy: 0.9769 - val_precision: 0.9929 - val_recall: 0.9605 - val_auc: 0.9964\n",
      "Epoch 17/200\n",
      "91459/91459 [==============================] - 5s 51us/step - loss: 0.0301 - accuracy: 0.9773 - precision: 0.9929 - recall: 0.9611 - auc: 0.9965 - val_loss: 0.1061 - val_accuracy: 0.9775 - val_precision: 0.9930 - val_recall: 0.9615 - val_auc: 0.9966\n",
      "Epoch 18/200\n",
      "91459/91459 [==============================] - 5s 51us/step - loss: 0.0286 - accuracy: 0.9777 - precision: 0.9930 - recall: 0.9619 - auc: 0.9966 - val_loss: 0.0407 - val_accuracy: 0.9780 - val_precision: 0.9931 - val_recall: 0.9625 - val_auc: 0.9967\n",
      "Epoch 19/200\n",
      "91459/91459 [==============================] - 5s 51us/step - loss: 0.0292 - accuracy: 0.9783 - precision: 0.9931 - recall: 0.9630 - auc: 0.9968 - val_loss: 0.0388 - val_accuracy: 0.9786 - val_precision: 0.9931 - val_recall: 0.9636 - val_auc: 0.9968\n",
      "Epoch 20/200\n",
      "91459/91459 [==============================] - 5s 51us/step - loss: 0.0291 - accuracy: 0.9788 - precision: 0.9931 - recall: 0.9641 - auc: 0.9969 - val_loss: 0.0706 - val_accuracy: 0.9790 - val_precision: 0.9932 - val_recall: 0.9645 - val_auc: 0.9970\n",
      "Epoch 21/200\n",
      "91459/91459 [==============================] - 5s 51us/step - loss: 0.0268 - accuracy: 0.9792 - precision: 0.9932 - recall: 0.9649 - auc: 0.9970 - val_loss: 0.0359 - val_accuracy: 0.9795 - val_precision: 0.9932 - val_recall: 0.9654 - val_auc: 0.9971\n",
      "Epoch 22/200\n",
      "91459/91459 [==============================] - 5s 51us/step - loss: 0.0271 - accuracy: 0.9797 - precision: 0.9933 - recall: 0.9658 - auc: 0.9971 - val_loss: 0.0420 - val_accuracy: 0.9800 - val_precision: 0.9933 - val_recall: 0.9662 - val_auc: 0.9972\n",
      "Epoch 23/200\n",
      "91459/91459 [==============================] - 5s 51us/step - loss: 0.0259 - accuracy: 0.9802 - precision: 0.9934 - recall: 0.9666 - auc: 0.9972 - val_loss: 0.0216 - val_accuracy: 0.9804 - val_precision: 0.9934 - val_recall: 0.9671 - val_auc: 0.9973\n",
      "Epoch 24/200\n",
      "91459/91459 [==============================] - 5s 51us/step - loss: 0.0259 - accuracy: 0.9806 - precision: 0.9934 - recall: 0.9675 - auc: 0.9974 - val_loss: 0.0887 - val_accuracy: 0.9807 - val_precision: 0.9934 - val_recall: 0.9677 - val_auc: 0.9974\n",
      "Epoch 25/200\n",
      "91459/91459 [==============================] - 5s 51us/step - loss: 0.0251 - accuracy: 0.9808 - precision: 0.9935 - recall: 0.9679 - auc: 0.9974 - val_loss: 0.0539 - val_accuracy: 0.9810 - val_precision: 0.9935 - val_recall: 0.9682 - val_auc: 0.9974\n",
      "Epoch 26/200\n",
      "91459/91459 [==============================] - 5s 51us/step - loss: 0.0251 - accuracy: 0.9812 - precision: 0.9935 - recall: 0.9685 - auc: 0.9975 - val_loss: 0.0469 - val_accuracy: 0.9813 - val_precision: 0.9936 - val_recall: 0.9688 - val_auc: 0.9975\n",
      "Epoch 27/200\n",
      "91459/91459 [==============================] - 5s 51us/step - loss: 0.0253 - accuracy: 0.9815 - precision: 0.9936 - recall: 0.9691 - auc: 0.9975 - val_loss: 0.0192 - val_accuracy: 0.9817 - val_precision: 0.9936 - val_recall: 0.9694 - val_auc: 0.9976\n",
      "Epoch 28/200\n",
      "91459/91459 [==============================] - 5s 51us/step - loss: 0.0241 - accuracy: 0.9819 - precision: 0.9936 - recall: 0.9698 - auc: 0.9976 - val_loss: 0.0285 - val_accuracy: 0.9820 - val_precision: 0.9937 - val_recall: 0.9701 - val_auc: 0.9977\n",
      "Epoch 29/200\n",
      "91459/91459 [==============================] - 5s 52us/step - loss: 0.0234 - accuracy: 0.9822 - precision: 0.9937 - recall: 0.9705 - auc: 0.9977 - val_loss: 0.0423 - val_accuracy: 0.9824 - val_precision: 0.9937 - val_recall: 0.9707 - val_auc: 0.9977\n",
      "Epoch 30/200\n",
      "91459/91459 [==============================] - 5s 51us/step - loss: 0.0235 - accuracy: 0.9825 - precision: 0.9937 - recall: 0.9710 - auc: 0.9978 - val_loss: 0.0503 - val_accuracy: 0.9826 - val_precision: 0.9938 - val_recall: 0.9712 - val_auc: 0.9978\n",
      "Epoch 31/200\n",
      "91459/91459 [==============================] - 5s 51us/step - loss: 0.0219 - accuracy: 0.9827 - precision: 0.9938 - recall: 0.9714 - auc: 0.9978 - val_loss: 0.0465 - val_accuracy: 0.9828 - val_precision: 0.9938 - val_recall: 0.9716 - val_auc: 0.9978\n"
     ]
    },
    {
     "name": "stdout",
     "output_type": "stream",
     "text": [
      "Epoch 32/200\n",
      "91459/91459 [==============================] - 5s 50us/step - loss: 0.0228 - accuracy: 0.9830 - precision: 0.9939 - recall: 0.9718 - auc: 0.9979 - val_loss: 0.0983 - val_accuracy: 0.9830 - val_precision: 0.9939 - val_recall: 0.9719 - val_auc: 0.9979\n",
      "Epoch 33/200\n",
      "91459/91459 [==============================] - 5s 51us/step - loss: 0.0235 - accuracy: 0.9831 - precision: 0.9939 - recall: 0.9720 - auc: 0.9979 - val_loss: 0.0243 - val_accuracy: 0.9832 - val_precision: 0.9939 - val_recall: 0.9722 - val_auc: 0.9979\n",
      "Epoch 34/200\n",
      "91459/91459 [==============================] - 5s 51us/step - loss: 0.0214 - accuracy: 0.9833 - precision: 0.9940 - recall: 0.9724 - auc: 0.9980 - val_loss: 0.0435 - val_accuracy: 0.9834 - val_precision: 0.9940 - val_recall: 0.9726 - val_auc: 0.9980\n",
      "Epoch 35/200\n",
      "91459/91459 [==============================] - 5s 51us/step - loss: 0.0225 - accuracy: 0.9835 - precision: 0.9940 - recall: 0.9728 - auc: 0.9980 - val_loss: 0.0238 - val_accuracy: 0.9837 - val_precision: 0.9940 - val_recall: 0.9731 - val_auc: 0.9980\n",
      "Epoch 36/200\n",
      "91459/91459 [==============================] - 5s 51us/step - loss: 0.0210 - accuracy: 0.9838 - precision: 0.9940 - recall: 0.9733 - auc: 0.9980 - val_loss: 0.0449 - val_accuracy: 0.9839 - val_precision: 0.9941 - val_recall: 0.9735 - val_auc: 0.9981\n",
      "Epoch 37/200\n",
      "91459/91459 [==============================] - 5s 51us/step - loss: 0.0208 - accuracy: 0.9840 - precision: 0.9941 - recall: 0.9736 - auc: 0.9981 - val_loss: 0.0175 - val_accuracy: 0.9841 - val_precision: 0.9941 - val_recall: 0.9739 - val_auc: 0.9981\n",
      "Epoch 38/200\n",
      "91459/91459 [==============================] - 5s 51us/step - loss: 0.0219 - accuracy: 0.9842 - precision: 0.9941 - recall: 0.9741 - auc: 0.9981 - val_loss: 0.0214 - val_accuracy: 0.9843 - val_precision: 0.9942 - val_recall: 0.9743 - val_auc: 0.9981\n",
      "Epoch 39/200\n",
      "91459/91459 [==============================] - 5s 51us/step - loss: 0.0213 - accuracy: 0.9844 - precision: 0.9942 - recall: 0.9745 - auc: 0.9982 - val_loss: 0.0162 - val_accuracy: 0.9845 - val_precision: 0.9942 - val_recall: 0.9747 - val_auc: 0.9982\n",
      "Epoch 40/200\n",
      "91459/91459 [==============================] - 5s 51us/step - loss: 0.0197 - accuracy: 0.9846 - precision: 0.9942 - recall: 0.9749 - auc: 0.9982 - val_loss: 0.0273 - val_accuracy: 0.9847 - val_precision: 0.9942 - val_recall: 0.9750 - val_auc: 0.9982\n",
      "Epoch 41/200\n",
      "91459/91459 [==============================] - 5s 51us/step - loss: 0.0190 - accuracy: 0.9848 - precision: 0.9943 - recall: 0.9752 - auc: 0.9983 - val_loss: 0.0529 - val_accuracy: 0.9849 - val_precision: 0.9943 - val_recall: 0.9753 - val_auc: 0.9983\n",
      "Epoch 42/200\n",
      "91459/91459 [==============================] - 5s 51us/step - loss: 0.0192 - accuracy: 0.9850 - precision: 0.9943 - recall: 0.9755 - auc: 0.9983 - val_loss: 0.0491 - val_accuracy: 0.9850 - val_precision: 0.9943 - val_recall: 0.9756 - val_auc: 0.9983\n",
      "Epoch 43/200\n",
      "91459/91459 [==============================] - 5s 51us/step - loss: 0.0221 - accuracy: 0.9851 - precision: 0.9943 - recall: 0.9757 - auc: 0.9983 - val_loss: 0.0483 - val_accuracy: 0.9852 - val_precision: 0.9944 - val_recall: 0.9758 - val_auc: 0.9983\n",
      "Epoch 44/200\n",
      "91459/91459 [==============================] - 5s 51us/step - loss: 0.0183 - accuracy: 0.9852 - precision: 0.9944 - recall: 0.9759 - auc: 0.9983 - val_loss: 0.0438 - val_accuracy: 0.9853 - val_precision: 0.9944 - val_recall: 0.9761 - val_auc: 0.9983\n",
      "Epoch 45/200\n",
      "91459/91459 [==============================] - 5s 51us/step - loss: 0.0188 - accuracy: 0.9854 - precision: 0.9944 - recall: 0.9762 - auc: 0.9983 - val_loss: 0.0193 - val_accuracy: 0.9855 - val_precision: 0.9944 - val_recall: 0.9763 - val_auc: 0.9984\n",
      "Epoch 46/200\n",
      "91459/91459 [==============================] - 5s 51us/step - loss: 0.0181 - accuracy: 0.9856 - precision: 0.9945 - recall: 0.9765 - auc: 0.9984 - val_loss: 0.0162 - val_accuracy: 0.9857 - val_precision: 0.9945 - val_recall: 0.9767 - val_auc: 0.9984\n",
      "Epoch 47/200\n",
      "91459/91459 [==============================] - 5s 51us/step - loss: 0.0204 - accuracy: 0.9857 - precision: 0.9945 - recall: 0.9768 - auc: 0.9984 - val_loss: 0.0291 - val_accuracy: 0.9858 - val_precision: 0.9945 - val_recall: 0.9769 - val_auc: 0.9984\n",
      "Epoch 48/200\n",
      "91459/91459 [==============================] - 5s 51us/step - loss: 0.0179 - accuracy: 0.9859 - precision: 0.9945 - recall: 0.9771 - auc: 0.9984 - val_loss: 0.0374 - val_accuracy: 0.9860 - val_precision: 0.9946 - val_recall: 0.9772 - val_auc: 0.9984\n",
      "Epoch 49/200\n",
      "91459/91459 [==============================] - 5s 51us/step - loss: 0.0181 - accuracy: 0.9860 - precision: 0.9946 - recall: 0.9773 - auc: 0.9985 - val_loss: 0.0491 - val_accuracy: 0.9861 - val_precision: 0.9946 - val_recall: 0.9774 - val_auc: 0.9985\n",
      "Epoch 50/200\n",
      "91459/91459 [==============================] - 5s 51us/step - loss: 0.0171 - accuracy: 0.9862 - precision: 0.9946 - recall: 0.9775 - auc: 0.9985 - val_loss: 0.0493 - val_accuracy: 0.9862 - val_precision: 0.9946 - val_recall: 0.9776 - val_auc: 0.9985\n",
      "Epoch 51/200\n",
      "91459/91459 [==============================] - 5s 51us/step - loss: 0.0170 - accuracy: 0.9863 - precision: 0.9947 - recall: 0.9777 - auc: 0.9985 - val_loss: 0.0220 - val_accuracy: 0.9863 - val_precision: 0.9947 - val_recall: 0.9779 - val_auc: 0.9985\n",
      "Epoch 52/200\n",
      "91459/91459 [==============================] - 5s 53us/step - loss: 0.0169 - accuracy: 0.9864 - precision: 0.9947 - recall: 0.9780 - auc: 0.9985 - val_loss: 0.0481 - val_accuracy: 0.9865 - val_precision: 0.9947 - val_recall: 0.9781 - val_auc: 0.9985\n",
      "Epoch 53/200\n",
      "91459/91459 [==============================] - 5s 55us/step - loss: 0.0210 - accuracy: 0.9865 - precision: 0.9947 - recall: 0.9781 - auc: 0.9985 - val_loss: 0.0269 - val_accuracy: 0.9866 - val_precision: 0.9947 - val_recall: 0.9783 - val_auc: 0.9985\n",
      "Epoch 54/200\n",
      "91459/91459 [==============================] - 5s 52us/step - loss: 0.0173 - accuracy: 0.9866 - precision: 0.9948 - recall: 0.9784 - auc: 0.9985 - val_loss: 0.0592 - val_accuracy: 0.9867 - val_precision: 0.9948 - val_recall: 0.9784 - val_auc: 0.9985\n",
      "Epoch 55/200\n",
      "91459/91459 [==============================] - 5s 53us/step - loss: 0.0166 - accuracy: 0.9867 - precision: 0.9948 - recall: 0.9785 - auc: 0.9985 - val_loss: 0.0404 - val_accuracy: 0.9868 - val_precision: 0.9948 - val_recall: 0.9786 - val_auc: 0.9986\n",
      "Epoch 56/200\n",
      "91459/91459 [==============================] - 5s 52us/step - loss: 0.0176 - accuracy: 0.9868 - precision: 0.9948 - recall: 0.9787 - auc: 0.9986 - val_loss: 0.0262 - val_accuracy: 0.9869 - val_precision: 0.9948 - val_recall: 0.9788 - val_auc: 0.9986\n",
      "Epoch 57/200\n",
      "91459/91459 [==============================] - 5s 52us/step - loss: 0.0178 - accuracy: 0.9869 - precision: 0.9948 - recall: 0.9789 - auc: 0.9986 - val_loss: 0.0130 - val_accuracy: 0.9870 - val_precision: 0.9949 - val_recall: 0.9790 - val_auc: 0.9986\n",
      "Epoch 58/200\n",
      "91459/91459 [==============================] - 5s 51us/step - loss: 0.0157 - accuracy: 0.9870 - precision: 0.9949 - recall: 0.9791 - auc: 0.9986 - val_loss: 0.0198 - val_accuracy: 0.9871 - val_precision: 0.9949 - val_recall: 0.9792 - val_auc: 0.9986\n",
      "Epoch 59/200\n",
      "91459/91459 [==============================] - 5s 51us/step - loss: 0.0147 - accuracy: 0.9872 - precision: 0.9949 - recall: 0.9793 - auc: 0.9986 - val_loss: 0.0520 - val_accuracy: 0.9872 - val_precision: 0.9949 - val_recall: 0.9794 - val_auc: 0.9986\n",
      "Epoch 60/200\n",
      "91459/91459 [==============================] - 5s 51us/step - loss: 0.0157 - accuracy: 0.9873 - precision: 0.9949 - recall: 0.9794 - auc: 0.9986 - val_loss: 0.0228 - val_accuracy: 0.9873 - val_precision: 0.9949 - val_recall: 0.9795 - val_auc: 0.9987\n",
      "Epoch 61/200\n",
      "91459/91459 [==============================] - 5s 51us/step - loss: 0.0164 - accuracy: 0.9874 - precision: 0.9950 - recall: 0.9796 - auc: 0.9987 - val_loss: 0.0256 - val_accuracy: 0.9874 - val_precision: 0.9950 - val_recall: 0.9797 - val_auc: 0.9987\n",
      "Epoch 62/200\n",
      "91459/91459 [==============================] - 5s 52us/step - loss: 0.0144 - accuracy: 0.9875 - precision: 0.9950 - recall: 0.9798 - auc: 0.9987 - val_loss: 0.0381 - val_accuracy: 0.9875 - val_precision: 0.9950 - val_recall: 0.9799 - val_auc: 0.9987\n",
      "Epoch 63/200\n"
     ]
    },
    {
     "name": "stdout",
     "output_type": "stream",
     "text": [
      "91459/91459 [==============================] - 5s 51us/step - loss: 0.0151 - accuracy: 0.9875 - precision: 0.9950 - recall: 0.9800 - auc: 0.9987 - val_loss: 0.0184 - val_accuracy: 0.9876 - val_precision: 0.9950 - val_recall: 0.9801 - val_auc: 0.9987\n",
      "Epoch 64/200\n",
      "91459/91459 [==============================] - 5s 51us/step - loss: 0.0155 - accuracy: 0.9876 - precision: 0.9951 - recall: 0.9801 - auc: 0.9987 - val_loss: 0.0276 - val_accuracy: 0.9877 - val_precision: 0.9951 - val_recall: 0.9802 - val_auc: 0.9987\n",
      "Epoch 65/200\n",
      "91459/91459 [==============================] - 5s 51us/step - loss: 0.0168 - accuracy: 0.9877 - precision: 0.9951 - recall: 0.9803 - auc: 0.9987 - val_loss: 0.0421 - val_accuracy: 0.9878 - val_precision: 0.9951 - val_recall: 0.9804 - val_auc: 0.9987\n",
      "Epoch 66/200\n",
      "91459/91459 [==============================] - 5s 51us/step - loss: 0.0145 - accuracy: 0.9878 - precision: 0.9951 - recall: 0.9804 - auc: 0.9987 - val_loss: 0.0287 - val_accuracy: 0.9879 - val_precision: 0.9951 - val_recall: 0.9805 - val_auc: 0.9987\n",
      "Epoch 67/200\n",
      "91459/91459 [==============================] - 5s 52us/step - loss: 0.0138 - accuracy: 0.9879 - precision: 0.9951 - recall: 0.9806 - auc: 0.9988 - val_loss: 0.0340 - val_accuracy: 0.9879 - val_precision: 0.9951 - val_recall: 0.9807 - val_auc: 0.9988\n",
      "Epoch 68/200\n",
      "91459/91459 [==============================] - 5s 51us/step - loss: 0.0146 - accuracy: 0.9880 - precision: 0.9951 - recall: 0.9807 - auc: 0.9988 - val_loss: 0.0157 - val_accuracy: 0.9880 - val_precision: 0.9952 - val_recall: 0.9808 - val_auc: 0.9988\n",
      "Epoch 69/200\n",
      "91459/91459 [==============================] - 5s 52us/step - loss: 0.0178 - accuracy: 0.9881 - precision: 0.9952 - recall: 0.9809 - auc: 0.9988 - val_loss: 0.0233 - val_accuracy: 0.9881 - val_precision: 0.9952 - val_recall: 0.9810 - val_auc: 0.9988\n",
      "Epoch 70/200\n",
      "91459/91459 [==============================] - 5s 51us/step - loss: 0.0140 - accuracy: 0.9882 - precision: 0.9952 - recall: 0.9810 - auc: 0.9988 - val_loss: 0.0134 - val_accuracy: 0.9882 - val_precision: 0.9952 - val_recall: 0.9811 - val_auc: 0.9988\n",
      "Epoch 71/200\n",
      "91459/91459 [==============================] - 5s 52us/step - loss: 0.0141 - accuracy: 0.9883 - precision: 0.9952 - recall: 0.9812 - auc: 0.9988 - val_loss: 0.0204 - val_accuracy: 0.9883 - val_precision: 0.9952 - val_recall: 0.9813 - val_auc: 0.9988\n",
      "Epoch 72/200\n",
      "91459/91459 [==============================] - 5s 52us/step - loss: 0.0139 - accuracy: 0.9884 - precision: 0.9952 - recall: 0.9814 - auc: 0.9988 - val_loss: 0.0178 - val_accuracy: 0.9884 - val_precision: 0.9953 - val_recall: 0.9815 - val_auc: 0.9988\n",
      "Epoch 73/200\n",
      "91459/91459 [==============================] - 5s 52us/step - loss: 0.0145 - accuracy: 0.9884 - precision: 0.9953 - recall: 0.9815 - auc: 0.9988 - val_loss: 0.0319 - val_accuracy: 0.9885 - val_precision: 0.9953 - val_recall: 0.9816 - val_auc: 0.9988\n",
      "Epoch 74/200\n",
      "91459/91459 [==============================] - 5s 52us/step - loss: 0.0157 - accuracy: 0.9885 - precision: 0.9953 - recall: 0.9816 - auc: 0.9988 - val_loss: 0.0356 - val_accuracy: 0.9885 - val_precision: 0.9953 - val_recall: 0.9817 - val_auc: 0.9988\n",
      "Epoch 75/200\n",
      "91459/91459 [==============================] - 5s 52us/step - loss: 0.0126 - accuracy: 0.9886 - precision: 0.9953 - recall: 0.9818 - auc: 0.9988 - val_loss: 0.0219 - val_accuracy: 0.9886 - val_precision: 0.9953 - val_recall: 0.9818 - val_auc: 0.9989\n",
      "Epoch 76/200\n",
      "91459/91459 [==============================] - 5s 54us/step - loss: 0.0127 - accuracy: 0.9887 - precision: 0.9953 - recall: 0.9819 - auc: 0.9989 - val_loss: 0.0437 - val_accuracy: 0.9887 - val_precision: 0.9953 - val_recall: 0.9819 - val_auc: 0.9989\n",
      "Epoch 77/200\n",
      "91459/91459 [==============================] - 5s 52us/step - loss: 0.0146 - accuracy: 0.9887 - precision: 0.9954 - recall: 0.9820 - auc: 0.9989 - val_loss: 0.0673 - val_accuracy: 0.9887 - val_precision: 0.9954 - val_recall: 0.9820 - val_auc: 0.9989\n",
      "Epoch 78/200\n",
      "91459/91459 [==============================] - 5s 53us/step - loss: 0.0131 - accuracy: 0.9888 - precision: 0.9954 - recall: 0.9820 - auc: 0.9989 - val_loss: 0.0227 - val_accuracy: 0.9888 - val_precision: 0.9954 - val_recall: 0.9821 - val_auc: 0.9989\n",
      "Epoch 79/200\n",
      "91459/91459 [==============================] - 5s 52us/step - loss: 0.0132 - accuracy: 0.9888 - precision: 0.9954 - recall: 0.9822 - auc: 0.9989 - val_loss: 0.0168 - val_accuracy: 0.9889 - val_precision: 0.9954 - val_recall: 0.9822 - val_auc: 0.9989\n",
      "Epoch 80/200\n",
      "91459/91459 [==============================] - 5s 53us/step - loss: 0.0159 - accuracy: 0.9889 - precision: 0.9954 - recall: 0.9823 - auc: 0.9989 - val_loss: 0.0152 - val_accuracy: 0.9889 - val_precision: 0.9954 - val_recall: 0.9824 - val_auc: 0.9989\n",
      "Epoch 81/200\n",
      "91459/91459 [==============================] - 5s 52us/step - loss: 0.0130 - accuracy: 0.9890 - precision: 0.9954 - recall: 0.9824 - auc: 0.9989 - val_loss: 0.0255 - val_accuracy: 0.9890 - val_precision: 0.9954 - val_recall: 0.9825 - val_auc: 0.9989\n",
      "Epoch 82/200\n",
      "91459/91459 [==============================] - 5s 52us/step - loss: 0.0116 - accuracy: 0.9890 - precision: 0.9954 - recall: 0.9825 - auc: 0.9989 - val_loss: 0.0160 - val_accuracy: 0.9891 - val_precision: 0.9955 - val_recall: 0.9826 - val_auc: 0.9989\n",
      "Epoch 83/200\n",
      "91459/91459 [==============================] - 5s 52us/step - loss: 0.0122 - accuracy: 0.9891 - precision: 0.9955 - recall: 0.9827 - auc: 0.9989 - val_loss: 0.0159 - val_accuracy: 0.9892 - val_precision: 0.9955 - val_recall: 0.9827 - val_auc: 0.9989\n",
      "Epoch 84/200\n",
      "91459/91459 [==============================] - 5s 52us/step - loss: 0.0114 - accuracy: 0.9892 - precision: 0.9955 - recall: 0.9828 - auc: 0.9989 - val_loss: 0.0099 - val_accuracy: 0.9892 - val_precision: 0.9955 - val_recall: 0.9829 - val_auc: 0.9989\n",
      "Epoch 85/200\n",
      "91459/91459 [==============================] - 5s 53us/step - loss: 0.0132 - accuracy: 0.9893 - precision: 0.9955 - recall: 0.9829 - auc: 0.9990 - val_loss: 0.0468 - val_accuracy: 0.9893 - val_precision: 0.9955 - val_recall: 0.9830 - val_auc: 0.9990\n",
      "Epoch 86/200\n",
      "91459/91459 [==============================] - 5s 52us/step - loss: 0.0124 - accuracy: 0.9893 - precision: 0.9955 - recall: 0.9830 - auc: 0.9990 - val_loss: 0.0305 - val_accuracy: 0.9893 - val_precision: 0.9955 - val_recall: 0.9831 - val_auc: 0.9990\n",
      "Epoch 87/200\n",
      "91459/91459 [==============================] - 5s 52us/step - loss: 0.0160 - accuracy: 0.9894 - precision: 0.9955 - recall: 0.9831 - auc: 0.9990 - val_loss: 0.0581 - val_accuracy: 0.9894 - val_precision: 0.9956 - val_recall: 0.9831 - val_auc: 0.9990\n",
      "Epoch 88/200\n",
      "91459/91459 [==============================] - 5s 52us/step - loss: 0.0117 - accuracy: 0.9894 - precision: 0.9956 - recall: 0.9832 - auc: 0.9990 - val_loss: 0.0370 - val_accuracy: 0.9894 - val_precision: 0.9956 - val_recall: 0.9832 - val_auc: 0.9990\n",
      "Epoch 89/200\n",
      "91459/91459 [==============================] - 5s 52us/step - loss: 0.0111 - accuracy: 0.9895 - precision: 0.9956 - recall: 0.9832 - auc: 0.9990 - val_loss: 0.0237 - val_accuracy: 0.9895 - val_precision: 0.9956 - val_recall: 0.9833 - val_auc: 0.9990\n",
      "Epoch 90/200\n",
      "91459/91459 [==============================] - 5s 52us/step - loss: 0.0107 - accuracy: 0.9895 - precision: 0.9956 - recall: 0.9834 - auc: 0.9990 - val_loss: 0.0194 - val_accuracy: 0.9896 - val_precision: 0.9956 - val_recall: 0.9834 - val_auc: 0.9990\n",
      "Epoch 91/200\n",
      "91459/91459 [==============================] - 5s 52us/step - loss: 0.0148 - accuracy: 0.9896 - precision: 0.9956 - recall: 0.9835 - auc: 0.9990 - val_loss: 0.0182 - val_accuracy: 0.9896 - val_precision: 0.9956 - val_recall: 0.9835 - val_auc: 0.9990\n",
      "Epoch 92/200\n",
      "91459/91459 [==============================] - 5s 54us/step - loss: 0.0165 - accuracy: 0.9896 - precision: 0.9956 - recall: 0.9836 - auc: 0.9990 - val_loss: 0.0381 - val_accuracy: 0.9897 - val_precision: 0.9956 - val_recall: 0.9836 - val_auc: 0.9990\n",
      "Epoch 93/200\n",
      "91459/91459 [==============================] - 5s 53us/step - loss: 0.0101 - accuracy: 0.9897 - precision: 0.9957 - recall: 0.9836 - auc: 0.9990 - val_loss: 0.0240 - val_accuracy: 0.9897 - val_precision: 0.9957 - val_recall: 0.9837 - val_auc: 0.9990\n",
      "Epoch 94/200\n"
     ]
    },
    {
     "name": "stdout",
     "output_type": "stream",
     "text": [
      "91459/91459 [==============================] - 5s 53us/step - loss: 0.0107 - accuracy: 0.9897 - precision: 0.9957 - recall: 0.9837 - auc: 0.9990 - val_loss: 0.0190 - val_accuracy: 0.9898 - val_precision: 0.9957 - val_recall: 0.9838 - val_auc: 0.9990\n",
      "Epoch 95/200\n",
      "91459/91459 [==============================] - 5s 53us/step - loss: 0.0128 - accuracy: 0.9898 - precision: 0.9957 - recall: 0.9838 - auc: 0.9990 - val_loss: 0.0280 - val_accuracy: 0.9898 - val_precision: 0.9957 - val_recall: 0.9839 - val_auc: 0.9990\n",
      "Epoch 96/200\n",
      "91459/91459 [==============================] - 5s 52us/step - loss: 0.0113 - accuracy: 0.9898 - precision: 0.9957 - recall: 0.9839 - auc: 0.9990 - val_loss: 0.0096 - val_accuracy: 0.9899 - val_precision: 0.9957 - val_recall: 0.9840 - val_auc: 0.9990\n",
      "Epoch 97/200\n",
      "91459/91459 [==============================] - 5s 53us/step - loss: 0.0107 - accuracy: 0.9899 - precision: 0.9957 - recall: 0.9840 - auc: 0.9990 - val_loss: 0.0069 - val_accuracy: 0.9899 - val_precision: 0.9957 - val_recall: 0.9841 - val_auc: 0.9990\n",
      "Epoch 98/200\n",
      "91459/91459 [==============================] - 5s 53us/step - loss: 0.0112 - accuracy: 0.9900 - precision: 0.9957 - recall: 0.9841 - auc: 0.9991 - val_loss: 0.0215 - val_accuracy: 0.9900 - val_precision: 0.9958 - val_recall: 0.9842 - val_auc: 0.9991\n",
      "Epoch 99/200\n",
      "91459/91459 [==============================] - 5s 52us/step - loss: 0.0103 - accuracy: 0.9900 - precision: 0.9958 - recall: 0.9842 - auc: 0.9991 - val_loss: 0.0268 - val_accuracy: 0.9901 - val_precision: 0.9958 - val_recall: 0.9843 - val_auc: 0.9991\n",
      "Epoch 100/200\n",
      "91459/91459 [==============================] - 5s 52us/step - loss: 0.0230 - accuracy: 0.9901 - precision: 0.9958 - recall: 0.9843 - auc: 0.9991 - val_loss: 0.0455 - val_accuracy: 0.9901 - val_precision: 0.9958 - val_recall: 0.9843 - val_auc: 0.9991\n",
      "Epoch 101/200\n",
      "91459/91459 [==============================] - 5s 52us/step - loss: 0.0127 - accuracy: 0.9901 - precision: 0.9958 - recall: 0.9844 - auc: 0.9991 - val_loss: 0.0219 - val_accuracy: 0.9901 - val_precision: 0.9958 - val_recall: 0.9844 - val_auc: 0.9991\n",
      "Epoch 102/200\n",
      "91459/91459 [==============================] - 5s 52us/step - loss: 0.0111 - accuracy: 0.9902 - precision: 0.9958 - recall: 0.9844 - auc: 0.9991 - val_loss: 0.0238 - val_accuracy: 0.9902 - val_precision: 0.9958 - val_recall: 0.9845 - val_auc: 0.9991\n",
      "Epoch 103/200\n",
      "91459/91459 [==============================] - 5s 53us/step - loss: 0.0121 - accuracy: 0.9902 - precision: 0.9958 - recall: 0.9845 - auc: 0.9991 - val_loss: 0.0169 - val_accuracy: 0.9902 - val_precision: 0.9958 - val_recall: 0.9846 - val_auc: 0.9991\n",
      "Epoch 104/200\n",
      "91459/91459 [==============================] - 5s 52us/step - loss: 0.0102 - accuracy: 0.9903 - precision: 0.9958 - recall: 0.9846 - auc: 0.9991 - val_loss: 0.0244 - val_accuracy: 0.9903 - val_precision: 0.9958 - val_recall: 0.9846 - val_auc: 0.9991\n",
      "Epoch 105/200\n",
      "91459/91459 [==============================] - 5s 52us/step - loss: 0.0104 - accuracy: 0.9903 - precision: 0.9959 - recall: 0.9847 - auc: 0.9991 - val_loss: 0.0406 - val_accuracy: 0.9903 - val_precision: 0.9959 - val_recall: 0.9847 - val_auc: 0.9991\n",
      "Epoch 106/200\n",
      "91459/91459 [==============================] - 5s 52us/step - loss: 0.0160 - accuracy: 0.9903 - precision: 0.9959 - recall: 0.9847 - auc: 0.9991 - val_loss: 0.0324 - val_accuracy: 0.9903 - val_precision: 0.9959 - val_recall: 0.9848 - val_auc: 0.9991\n",
      "Epoch 107/200\n",
      "91459/91459 [==============================] - 5s 53us/step - loss: 0.0100 - accuracy: 0.9904 - precision: 0.9959 - recall: 0.9848 - auc: 0.9991 - val_loss: 0.0287 - val_accuracy: 0.9904 - val_precision: 0.9959 - val_recall: 0.9848 - val_auc: 0.9991\n",
      "Epoch 108/200\n",
      "91459/91459 [==============================] - 5s 53us/step - loss: 0.0119 - accuracy: 0.9904 - precision: 0.9959 - recall: 0.9849 - auc: 0.9991 - val_loss: 0.0228 - val_accuracy: 0.9904 - val_precision: 0.9959 - val_recall: 0.9849 - val_auc: 0.9991\n",
      "Epoch 109/200\n",
      "91459/91459 [==============================] - 5s 53us/step - loss: 0.0134 - accuracy: 0.9905 - precision: 0.9959 - recall: 0.9849 - auc: 0.9991 - val_loss: 0.0109 - val_accuracy: 0.9905 - val_precision: 0.9959 - val_recall: 0.9850 - val_auc: 0.9991\n",
      "Epoch 110/200\n",
      "91459/91459 [==============================] - 5s 51us/step - loss: 0.0097 - accuracy: 0.9905 - precision: 0.9959 - recall: 0.9850 - auc: 0.9991 - val_loss: 0.0236 - val_accuracy: 0.9905 - val_precision: 0.9959 - val_recall: 0.9851 - val_auc: 0.9991\n",
      "Epoch 111/200\n",
      "91459/91459 [==============================] - 5s 51us/step - loss: 0.0136 - accuracy: 0.9905 - precision: 0.9960 - recall: 0.9851 - auc: 0.9991 - val_loss: 0.0186 - val_accuracy: 0.9906 - val_precision: 0.9960 - val_recall: 0.9851 - val_auc: 0.9991\n",
      "Epoch 112/200\n",
      "91459/91459 [==============================] - 5s 51us/step - loss: 0.0093 - accuracy: 0.9906 - precision: 0.9960 - recall: 0.9852 - auc: 0.9991 - val_loss: 0.0289 - val_accuracy: 0.9906 - val_precision: 0.9960 - val_recall: 0.9852 - val_auc: 0.9991\n",
      "Epoch 113/200\n",
      "91459/91459 [==============================] - 5s 51us/step - loss: 0.0091 - accuracy: 0.9906 - precision: 0.9960 - recall: 0.9852 - auc: 0.9991 - val_loss: 0.0101 - val_accuracy: 0.9907 - val_precision: 0.9960 - val_recall: 0.9853 - val_auc: 0.9991\n",
      "Epoch 114/200\n",
      "91459/91459 [==============================] - 5s 51us/step - loss: 0.0094 - accuracy: 0.9907 - precision: 0.9960 - recall: 0.9853 - auc: 0.9991 - val_loss: 0.0164 - val_accuracy: 0.9907 - val_precision: 0.9960 - val_recall: 0.9854 - val_auc: 0.9991\n",
      "Epoch 115/200\n",
      "91459/91459 [==============================] - 5s 51us/step - loss: 0.0117 - accuracy: 0.9907 - precision: 0.9960 - recall: 0.9854 - auc: 0.9991 - val_loss: 0.0599 - val_accuracy: 0.9907 - val_precision: 0.9960 - val_recall: 0.9854 - val_auc: 0.9991\n",
      "Epoch 116/200\n",
      "91459/91459 [==============================] - 5s 51us/step - loss: 0.0092 - accuracy: 0.9908 - precision: 0.9960 - recall: 0.9854 - auc: 0.9991 - val_loss: 0.0293 - val_accuracy: 0.9908 - val_precision: 0.9960 - val_recall: 0.9855 - val_auc: 0.9991\n",
      "Epoch 117/200\n",
      "91459/91459 [==============================] - 5s 51us/step - loss: 0.0150 - accuracy: 0.9908 - precision: 0.9960 - recall: 0.9855 - auc: 0.9991 - val_loss: 0.0161 - val_accuracy: 0.9908 - val_precision: 0.9960 - val_recall: 0.9855 - val_auc: 0.9991\n",
      "Epoch 118/200\n",
      "91459/91459 [==============================] - 5s 51us/step - loss: 0.0097 - accuracy: 0.9908 - precision: 0.9960 - recall: 0.9856 - auc: 0.9991 - val_loss: 0.0223 - val_accuracy: 0.9908 - val_precision: 0.9961 - val_recall: 0.9856 - val_auc: 0.9991\n",
      "Epoch 119/200\n",
      "91459/91459 [==============================] - 5s 51us/step - loss: 0.0092 - accuracy: 0.9909 - precision: 0.9961 - recall: 0.9856 - auc: 0.9991 - val_loss: 0.0254 - val_accuracy: 0.9909 - val_precision: 0.9961 - val_recall: 0.9857 - val_auc: 0.9992\n",
      "Epoch 120/200\n",
      "91459/91459 [==============================] - 5s 51us/step - loss: 0.0088 - accuracy: 0.9909 - precision: 0.9961 - recall: 0.9857 - auc: 0.9991 - val_loss: 0.0105 - val_accuracy: 0.9909 - val_precision: 0.9961 - val_recall: 0.9857 - val_auc: 0.9992\n",
      "Epoch 121/200\n",
      "91459/91459 [==============================] - 5s 51us/step - loss: 0.0137 - accuracy: 0.9910 - precision: 0.9961 - recall: 0.9858 - auc: 0.9992 - val_loss: 0.0416 - val_accuracy: 0.9910 - val_precision: 0.9961 - val_recall: 0.9858 - val_auc: 0.9992\n",
      "Epoch 122/200\n",
      "91459/91459 [==============================] - 5s 51us/step - loss: 0.0094 - accuracy: 0.9910 - precision: 0.9961 - recall: 0.9858 - auc: 0.9992 - val_loss: 0.0185 - val_accuracy: 0.9910 - val_precision: 0.9961 - val_recall: 0.9858 - val_auc: 0.9992\n",
      "Epoch 123/200\n",
      "91459/91459 [==============================] - 5s 51us/step - loss: 0.0096 - accuracy: 0.9910 - precision: 0.9961 - recall: 0.9859 - auc: 0.9992 - val_loss: 0.0184 - val_accuracy: 0.9910 - val_precision: 0.9961 - val_recall: 0.9859 - val_auc: 0.9992\n",
      "Epoch 124/200\n",
      "91459/91459 [==============================] - 5s 51us/step - loss: 0.0093 - accuracy: 0.9911 - precision: 0.9961 - recall: 0.9859 - auc: 0.9992 - val_loss: 0.0107 - val_accuracy: 0.9911 - val_precision: 0.9961 - val_recall: 0.9860 - val_auc: 0.9992\n",
      "Epoch 125/200\n"
     ]
    },
    {
     "name": "stdout",
     "output_type": "stream",
     "text": [
      "91459/91459 [==============================] - 5s 51us/step - loss: 0.0167 - accuracy: 0.9911 - precision: 0.9962 - recall: 0.9860 - auc: 0.9992 - val_loss: 0.0252 - val_accuracy: 0.9911 - val_precision: 0.9961 - val_recall: 0.9860 - val_auc: 0.9992\n",
      "Epoch 126/200\n",
      "91459/91459 [==============================] - 5s 50us/step - loss: 0.0095 - accuracy: 0.9911 - precision: 0.9962 - recall: 0.9861 - auc: 0.9992 - val_loss: 0.0177 - val_accuracy: 0.9912 - val_precision: 0.9962 - val_recall: 0.9861 - val_auc: 0.9992\n",
      "Epoch 127/200\n",
      "91459/91459 [==============================] - 5s 51us/step - loss: 0.0092 - accuracy: 0.9912 - precision: 0.9962 - recall: 0.9861 - auc: 0.9992 - val_loss: 0.0156 - val_accuracy: 0.9912 - val_precision: 0.9962 - val_recall: 0.9862 - val_auc: 0.9992\n",
      "Epoch 128/200\n",
      "91459/91459 [==============================] - 5s 50us/step - loss: 0.0097 - accuracy: 0.9912 - precision: 0.9962 - recall: 0.9862 - auc: 0.9992 - val_loss: 0.0140 - val_accuracy: 0.9912 - val_precision: 0.9962 - val_recall: 0.9862 - val_auc: 0.9992\n",
      "Epoch 129/200\n",
      "91459/91459 [==============================] - 5s 51us/step - loss: 0.0111 - accuracy: 0.9913 - precision: 0.9962 - recall: 0.9863 - auc: 0.9992 - val_loss: 0.0115 - val_accuracy: 0.9913 - val_precision: 0.9962 - val_recall: 0.9863 - val_auc: 0.9992\n",
      "Epoch 130/200\n",
      "91459/91459 [==============================] - 5s 51us/step - loss: 0.0083 - accuracy: 0.9913 - precision: 0.9962 - recall: 0.9863 - auc: 0.9992 - val_loss: 0.0132 - val_accuracy: 0.9913 - val_precision: 0.9962 - val_recall: 0.9864 - val_auc: 0.9992\n",
      "Epoch 131/200\n",
      "91459/91459 [==============================] - 5s 51us/step - loss: 0.0087 - accuracy: 0.9913 - precision: 0.9962 - recall: 0.9864 - auc: 0.9992 - val_loss: 0.0351 - val_accuracy: 0.9914 - val_precision: 0.9962 - val_recall: 0.9864 - val_auc: 0.9992\n",
      "Epoch 132/200\n",
      "91459/91459 [==============================] - 5s 51us/step - loss: 0.0085 - accuracy: 0.9914 - precision: 0.9962 - recall: 0.9864 - auc: 0.9992 - val_loss: 0.0185 - val_accuracy: 0.9914 - val_precision: 0.9962 - val_recall: 0.9865 - val_auc: 0.9992\n",
      "Epoch 133/200\n",
      "91459/91459 [==============================] - 5s 51us/step - loss: 0.0083 - accuracy: 0.9914 - precision: 0.9963 - recall: 0.9865 - auc: 0.9992 - val_loss: 0.0145 - val_accuracy: 0.9914 - val_precision: 0.9963 - val_recall: 0.9866 - val_auc: 0.9992\n",
      "Epoch 134/200\n",
      "91459/91459 [==============================] - 5s 51us/step - loss: 0.0090 - accuracy: 0.9914 - precision: 0.9963 - recall: 0.9866 - auc: 0.9992 - val_loss: 0.0219 - val_accuracy: 0.9915 - val_precision: 0.9963 - val_recall: 0.9866 - val_auc: 0.9992\n",
      "Epoch 135/200\n",
      "91459/91459 [==============================] - 5s 50us/step - loss: 0.0096 - accuracy: 0.9915 - precision: 0.9963 - recall: 0.9866 - auc: 0.9992 - val_loss: 0.0220 - val_accuracy: 0.9915 - val_precision: 0.9963 - val_recall: 0.9867 - val_auc: 0.9992\n",
      "Epoch 136/200\n",
      "91459/91459 [==============================] - 5s 51us/step - loss: 0.0093 - accuracy: 0.9915 - precision: 0.9963 - recall: 0.9867 - auc: 0.9992 - val_loss: 0.0227 - val_accuracy: 0.9915 - val_precision: 0.9963 - val_recall: 0.9867 - val_auc: 0.9992\n",
      "Epoch 137/200\n",
      "91459/91459 [==============================] - 5s 51us/step - loss: 0.0086 - accuracy: 0.9915 - precision: 0.9963 - recall: 0.9867 - auc: 0.9992 - val_loss: 0.0191 - val_accuracy: 0.9916 - val_precision: 0.9963 - val_recall: 0.9868 - val_auc: 0.9992\n",
      "Epoch 138/200\n",
      "91459/91459 [==============================] - 5s 50us/step - loss: 0.0087 - accuracy: 0.9916 - precision: 0.9963 - recall: 0.9868 - auc: 0.9992 - val_loss: 0.0165 - val_accuracy: 0.9916 - val_precision: 0.9963 - val_recall: 0.9868 - val_auc: 0.9992\n",
      "Epoch 139/200\n",
      "91459/91459 [==============================] - 5s 51us/step - loss: 0.0084 - accuracy: 0.9916 - precision: 0.9963 - recall: 0.9869 - auc: 0.9992 - val_loss: 0.0287 - val_accuracy: 0.9916 - val_precision: 0.9963 - val_recall: 0.9869 - val_auc: 0.9992\n",
      "Epoch 140/200\n",
      "91459/91459 [==============================] - 5s 51us/step - loss: 0.0091 - accuracy: 0.9916 - precision: 0.9963 - recall: 0.9869 - auc: 0.9992 - val_loss: 0.0216 - val_accuracy: 0.9917 - val_precision: 0.9963 - val_recall: 0.9869 - val_auc: 0.9992\n",
      "Epoch 141/200\n",
      "91459/91459 [==============================] - 5s 51us/step - loss: 0.0090 - accuracy: 0.9917 - precision: 0.9963 - recall: 0.9870 - auc: 0.9992 - val_loss: 0.0115 - val_accuracy: 0.9917 - val_precision: 0.9963 - val_recall: 0.9870 - val_auc: 0.9993\n",
      "Epoch 142/200\n",
      "91459/91459 [==============================] - 5s 51us/step - loss: 0.0104 - accuracy: 0.9917 - precision: 0.9963 - recall: 0.9870 - auc: 0.9993 - val_loss: 0.0109 - val_accuracy: 0.9917 - val_precision: 0.9964 - val_recall: 0.9870 - val_auc: 0.9993\n",
      "Epoch 143/200\n",
      "91459/91459 [==============================] - 5s 51us/step - loss: 0.0083 - accuracy: 0.9917 - precision: 0.9964 - recall: 0.9871 - auc: 0.9993 - val_loss: 0.0122 - val_accuracy: 0.9918 - val_precision: 0.9964 - val_recall: 0.9871 - val_auc: 0.9993\n",
      "Epoch 144/200\n",
      "91459/91459 [==============================] - 5s 51us/step - loss: 0.0086 - accuracy: 0.9918 - precision: 0.9964 - recall: 0.9871 - auc: 0.9993 - val_loss: 0.0188 - val_accuracy: 0.9918 - val_precision: 0.9964 - val_recall: 0.9872 - val_auc: 0.9993\n",
      "Epoch 145/200\n",
      "91459/91459 [==============================] - 5s 52us/step - loss: 0.0131 - accuracy: 0.9918 - precision: 0.9964 - recall: 0.9872 - auc: 0.9993 - val_loss: 0.0179 - val_accuracy: 0.9918 - val_precision: 0.9964 - val_recall: 0.9872 - val_auc: 0.9993\n",
      "Epoch 146/200\n",
      "91459/91459 [==============================] - 5s 51us/step - loss: 0.0081 - accuracy: 0.9918 - precision: 0.9964 - recall: 0.9872 - auc: 0.9993 - val_loss: 0.0295 - val_accuracy: 0.9918 - val_precision: 0.9964 - val_recall: 0.9873 - val_auc: 0.9993\n",
      "Epoch 147/200\n",
      "91459/91459 [==============================] - 5s 51us/step - loss: 0.0085 - accuracy: 0.9919 - precision: 0.9964 - recall: 0.9873 - auc: 0.9993 - val_loss: 0.0229 - val_accuracy: 0.9919 - val_precision: 0.9964 - val_recall: 0.9873 - val_auc: 0.9993\n",
      "Epoch 148/200\n",
      "91459/91459 [==============================] - 5s 51us/step - loss: 0.0076 - accuracy: 0.9919 - precision: 0.9964 - recall: 0.9873 - auc: 0.9993 - val_loss: 0.0220 - val_accuracy: 0.9919 - val_precision: 0.9964 - val_recall: 0.9873 - val_auc: 0.9993\n",
      "Epoch 149/200\n",
      "91459/91459 [==============================] - 5s 51us/step - loss: 0.0092 - accuracy: 0.9919 - precision: 0.9964 - recall: 0.9874 - auc: 0.9993 - val_loss: 0.0281 - val_accuracy: 0.9919 - val_precision: 0.9964 - val_recall: 0.9874 - val_auc: 0.9993\n",
      "Epoch 150/200\n",
      "91459/91459 [==============================] - 5s 51us/step - loss: 0.0077 - accuracy: 0.9919 - precision: 0.9964 - recall: 0.9874 - auc: 0.9993 - val_loss: 0.0175 - val_accuracy: 0.9920 - val_precision: 0.9964 - val_recall: 0.9874 - val_auc: 0.9993\n",
      "Epoch 151/200\n",
      "91459/91459 [==============================] - 5s 51us/step - loss: 0.0080 - accuracy: 0.9920 - precision: 0.9964 - recall: 0.9875 - auc: 0.9993 - val_loss: 0.0343 - val_accuracy: 0.9920 - val_precision: 0.9964 - val_recall: 0.9875 - val_auc: 0.9993\n",
      "Epoch 152/200\n",
      "91459/91459 [==============================] - 5s 51us/step - loss: 0.0089 - accuracy: 0.9920 - precision: 0.9965 - recall: 0.9875 - auc: 0.9993 - val_loss: 0.0188 - val_accuracy: 0.9920 - val_precision: 0.9965 - val_recall: 0.9875 - val_auc: 0.9993\n",
      "Epoch 153/200\n",
      "91459/91459 [==============================] - 5s 52us/step - loss: 0.0077 - accuracy: 0.9921 - precision: 0.9965 - recall: 0.9875 - auc: 0.9993 - val_loss: 0.0347 - val_accuracy: 0.9921 - val_precision: 0.9965 - val_recall: 0.9876 - val_auc: 0.9993\n",
      "Epoch 154/200\n",
      "91459/91459 [==============================] - 5s 52us/step - loss: 0.0074 - accuracy: 0.9921 - precision: 0.9965 - recall: 0.9876 - auc: 0.9993 - val_loss: 0.0200 - val_accuracy: 0.9921 - val_precision: 0.9965 - val_recall: 0.9876 - val_auc: 0.9993\n",
      "Epoch 155/200\n",
      "91459/91459 [==============================] - 5s 52us/step - loss: 0.0083 - accuracy: 0.9921 - precision: 0.9965 - recall: 0.9876 - auc: 0.9993 - val_loss: 0.0267 - val_accuracy: 0.9921 - val_precision: 0.9965 - val_recall: 0.9877 - val_auc: 0.9993\n",
      "Epoch 156/200\n"
     ]
    },
    {
     "name": "stdout",
     "output_type": "stream",
     "text": [
      "91459/91459 [==============================] - 5s 51us/step - loss: 0.0080 - accuracy: 0.9922 - precision: 0.9965 - recall: 0.9877 - auc: 0.9993 - val_loss: 0.0171 - val_accuracy: 0.9922 - val_precision: 0.9965 - val_recall: 0.9877 - val_auc: 0.9993\n",
      "Epoch 157/200\n",
      "91459/91459 [==============================] - 5s 51us/step - loss: 0.0077 - accuracy: 0.9922 - precision: 0.9965 - recall: 0.9877 - auc: 0.9993 - val_loss: 0.0197 - val_accuracy: 0.9922 - val_precision: 0.9965 - val_recall: 0.9877 - val_auc: 0.9993\n",
      "Epoch 158/200\n",
      "91459/91459 [==============================] - 5s 51us/step - loss: 0.0079 - accuracy: 0.9922 - precision: 0.9965 - recall: 0.9878 - auc: 0.9993 - val_loss: 0.0205 - val_accuracy: 0.9923 - val_precision: 0.9965 - val_recall: 0.9878 - val_auc: 0.9993\n",
      "Epoch 159/200\n",
      "91459/91459 [==============================] - 5s 51us/step - loss: 0.0086 - accuracy: 0.9923 - precision: 0.9965 - recall: 0.9878 - auc: 0.9993 - val_loss: 0.0173 - val_accuracy: 0.9923 - val_precision: 0.9965 - val_recall: 0.9878 - val_auc: 0.9993\n",
      "Epoch 160/200\n",
      "91459/91459 [==============================] - 5s 51us/step - loss: 0.0086 - accuracy: 0.9923 - precision: 0.9965 - recall: 0.9879 - auc: 0.9993 - val_loss: 0.0285 - val_accuracy: 0.9923 - val_precision: 0.9965 - val_recall: 0.9879 - val_auc: 0.9993\n",
      "Epoch 161/200\n",
      "91459/91459 [==============================] - 5s 51us/step - loss: 0.0076 - accuracy: 0.9923 - precision: 0.9965 - recall: 0.9879 - auc: 0.9993 - val_loss: 0.0151 - val_accuracy: 0.9924 - val_precision: 0.9965 - val_recall: 0.9879 - val_auc: 0.9993\n",
      "Epoch 162/200\n",
      "91459/91459 [==============================] - 5s 51us/step - loss: 0.0096 - accuracy: 0.9924 - precision: 0.9965 - recall: 0.9879 - auc: 0.9993 - val_loss: 0.0213 - val_accuracy: 0.9924 - val_precision: 0.9965 - val_recall: 0.9880 - val_auc: 0.9993\n",
      "Epoch 163/200\n",
      "91459/91459 [==============================] - 5s 51us/step - loss: 0.0080 - accuracy: 0.9924 - precision: 0.9966 - recall: 0.9880 - auc: 0.9993 - val_loss: 0.0166 - val_accuracy: 0.9924 - val_precision: 0.9966 - val_recall: 0.9880 - val_auc: 0.9993\n",
      "Epoch 164/200\n",
      "91459/91459 [==============================] - 5s 51us/step - loss: 0.0132 - accuracy: 0.9924 - precision: 0.9966 - recall: 0.9880 - auc: 0.9993 - val_loss: 0.0181 - val_accuracy: 0.9925 - val_precision: 0.9966 - val_recall: 0.9880 - val_auc: 0.9993\n",
      "Epoch 165/200\n",
      "91459/91459 [==============================] - 5s 51us/step - loss: 0.0073 - accuracy: 0.9925 - precision: 0.9966 - recall: 0.9881 - auc: 0.9993 - val_loss: 0.0188 - val_accuracy: 0.9925 - val_precision: 0.9966 - val_recall: 0.9881 - val_auc: 0.9993\n",
      "Epoch 166/200\n",
      "91459/91459 [==============================] - 5s 51us/step - loss: 0.0086 - accuracy: 0.9925 - precision: 0.9966 - recall: 0.9881 - auc: 0.9993 - val_loss: 0.0100 - val_accuracy: 0.9925 - val_precision: 0.9966 - val_recall: 0.9881 - val_auc: 0.9993\n",
      "Epoch 167/200\n",
      "91459/91459 [==============================] - 5s 51us/step - loss: 0.0074 - accuracy: 0.9925 - precision: 0.9966 - recall: 0.9882 - auc: 0.9993 - val_loss: 0.0177 - val_accuracy: 0.9926 - val_precision: 0.9966 - val_recall: 0.9882 - val_auc: 0.9993\n",
      "Epoch 168/200\n",
      "91459/91459 [==============================] - 5s 51us/step - loss: 0.0072 - accuracy: 0.9926 - precision: 0.9966 - recall: 0.9882 - auc: 0.9993 - val_loss: 0.0232 - val_accuracy: 0.9926 - val_precision: 0.9966 - val_recall: 0.9882 - val_auc: 0.9993\n",
      "Epoch 169/200\n",
      "91459/91459 [==============================] - 5s 52us/step - loss: 0.0074 - accuracy: 0.9926 - precision: 0.9966 - recall: 0.9882 - auc: 0.9993 - val_loss: 0.0433 - val_accuracy: 0.9926 - val_precision: 0.9966 - val_recall: 0.9882 - val_auc: 0.9993\n",
      "Epoch 170/200\n",
      "91459/91459 [==============================] - 5s 51us/step - loss: 0.0098 - accuracy: 0.9926 - precision: 0.9966 - recall: 0.9883 - auc: 0.9993 - val_loss: 0.0145 - val_accuracy: 0.9926 - val_precision: 0.9966 - val_recall: 0.9883 - val_auc: 0.9993\n",
      "Epoch 171/200\n",
      "91459/91459 [==============================] - 5s 51us/step - loss: 0.0074 - accuracy: 0.9927 - precision: 0.9966 - recall: 0.9883 - auc: 0.9993 - val_loss: 0.0197 - val_accuracy: 0.9927 - val_precision: 0.9966 - val_recall: 0.9883 - val_auc: 0.9993\n",
      "Epoch 172/200\n",
      "91459/91459 [==============================] - 5s 51us/step - loss: 0.0088 - accuracy: 0.9927 - precision: 0.9966 - recall: 0.9883 - auc: 0.9993 - val_loss: 0.0276 - val_accuracy: 0.9927 - val_precision: 0.9966 - val_recall: 0.9884 - val_auc: 0.9993\n",
      "Epoch 173/200\n",
      "91459/91459 [==============================] - 5s 51us/step - loss: 0.0079 - accuracy: 0.9927 - precision: 0.9966 - recall: 0.9884 - auc: 0.9993 - val_loss: 0.0311 - val_accuracy: 0.9927 - val_precision: 0.9966 - val_recall: 0.9884 - val_auc: 0.9993\n",
      "Epoch 174/200\n",
      "91459/91459 [==============================] - 5s 51us/step - loss: 0.0078 - accuracy: 0.9927 - precision: 0.9966 - recall: 0.9884 - auc: 0.9993 - val_loss: 0.0125 - val_accuracy: 0.9928 - val_precision: 0.9967 - val_recall: 0.9884 - val_auc: 0.9993\n",
      "Epoch 175/200\n",
      "91459/91459 [==============================] - 5s 51us/step - loss: 0.0074 - accuracy: 0.9928 - precision: 0.9967 - recall: 0.9884 - auc: 0.9993 - val_loss: 0.0227 - val_accuracy: 0.9928 - val_precision: 0.9967 - val_recall: 0.9885 - val_auc: 0.9993\n",
      "Epoch 176/200\n",
      "91459/91459 [==============================] - 5s 51us/step - loss: 0.0086 - accuracy: 0.9928 - precision: 0.9967 - recall: 0.9885 - auc: 0.9993 - val_loss: 0.0178 - val_accuracy: 0.9928 - val_precision: 0.9967 - val_recall: 0.9885 - val_auc: 0.9993\n",
      "Epoch 177/200\n",
      "91459/91459 [==============================] - 5s 51us/step - loss: 0.0073 - accuracy: 0.9928 - precision: 0.9967 - recall: 0.9885 - auc: 0.9993 - val_loss: 0.0155 - val_accuracy: 0.9928 - val_precision: 0.9967 - val_recall: 0.9885 - val_auc: 0.9993\n",
      "Epoch 178/200\n",
      "91459/91459 [==============================] - 5s 51us/step - loss: 0.0079 - accuracy: 0.9929 - precision: 0.9967 - recall: 0.9886 - auc: 0.9993 - val_loss: 0.0133 - val_accuracy: 0.9929 - val_precision: 0.9967 - val_recall: 0.9886 - val_auc: 0.9993\n",
      "Epoch 179/200\n",
      "91459/91459 [==============================] - 5s 51us/step - loss: 0.0074 - accuracy: 0.9929 - precision: 0.9967 - recall: 0.9886 - auc: 0.9993 - val_loss: 0.0173 - val_accuracy: 0.9929 - val_precision: 0.9967 - val_recall: 0.9886 - val_auc: 0.9994\n",
      "Epoch 180/200\n",
      "91459/91459 [==============================] - 5s 51us/step - loss: 0.0090 - accuracy: 0.9929 - precision: 0.9967 - recall: 0.9886 - auc: 0.9993 - val_loss: 0.0464 - val_accuracy: 0.9929 - val_precision: 0.9967 - val_recall: 0.9886 - val_auc: 0.9994\n",
      "Epoch 181/200\n",
      "91459/91459 [==============================] - 5s 51us/step - loss: 0.0073 - accuracy: 0.9929 - precision: 0.9967 - recall: 0.9886 - auc: 0.9993 - val_loss: 0.0075 - val_accuracy: 0.9930 - val_precision: 0.9967 - val_recall: 0.9887 - val_auc: 0.9994\n",
      "Epoch 182/200\n",
      "91459/91459 [==============================] - 5s 52us/step - loss: 0.0074 - accuracy: 0.9930 - precision: 0.9967 - recall: 0.9887 - auc: 0.9994 - val_loss: 0.0326 - val_accuracy: 0.9930 - val_precision: 0.9967 - val_recall: 0.9887 - val_auc: 0.9994\n",
      "Epoch 183/200\n",
      "91459/91459 [==============================] - 5s 51us/step - loss: 0.0070 - accuracy: 0.9930 - precision: 0.9967 - recall: 0.9887 - auc: 0.9994 - val_loss: 0.0206 - val_accuracy: 0.9930 - val_precision: 0.9967 - val_recall: 0.9887 - val_auc: 0.9994\n",
      "Epoch 184/200\n",
      "91459/91459 [==============================] - 5s 51us/step - loss: 0.0071 - accuracy: 0.9930 - precision: 0.9967 - recall: 0.9888 - auc: 0.9994 - val_loss: 0.0140 - val_accuracy: 0.9930 - val_precision: 0.9967 - val_recall: 0.9888 - val_auc: 0.9994\n",
      "Epoch 185/200\n",
      "91459/91459 [==============================] - 5s 51us/step - loss: 0.0074 - accuracy: 0.9930 - precision: 0.9967 - recall: 0.9888 - auc: 0.9994 - val_loss: 0.0079 - val_accuracy: 0.9931 - val_precision: 0.9967 - val_recall: 0.9888 - val_auc: 0.9994\n",
      "Epoch 186/200\n",
      "91459/91459 [==============================] - 5s 52us/step - loss: 0.0076 - accuracy: 0.9931 - precision: 0.9967 - recall: 0.9888 - auc: 0.9994 - val_loss: 0.0173 - val_accuracy: 0.9931 - val_precision: 0.9967 - val_recall: 0.9888 - val_auc: 0.9994\n",
      "Epoch 187/200\n"
     ]
    },
    {
     "name": "stdout",
     "output_type": "stream",
     "text": [
      "91459/91459 [==============================] - 5s 52us/step - loss: 0.0072 - accuracy: 0.9931 - precision: 0.9968 - recall: 0.9889 - auc: 0.9994 - val_loss: 0.0235 - val_accuracy: 0.9931 - val_precision: 0.9968 - val_recall: 0.9889 - val_auc: 0.9994\n",
      "Epoch 188/200\n",
      "91459/91459 [==============================] - 5s 52us/step - loss: 0.0076 - accuracy: 0.9931 - precision: 0.9968 - recall: 0.9889 - auc: 0.9994 - val_loss: 0.0171 - val_accuracy: 0.9931 - val_precision: 0.9968 - val_recall: 0.9889 - val_auc: 0.9994\n",
      "Epoch 189/200\n",
      "91459/91459 [==============================] - 5s 52us/step - loss: 0.0189 - accuracy: 0.9932 - precision: 0.9968 - recall: 0.9889 - auc: 0.9994 - val_loss: 0.0182 - val_accuracy: 0.9932 - val_precision: 0.9968 - val_recall: 0.9889 - val_auc: 0.9994\n",
      "Epoch 190/200\n",
      "91459/91459 [==============================] - 5s 51us/step - loss: 0.0082 - accuracy: 0.9932 - precision: 0.9968 - recall: 0.9889 - auc: 0.9994 - val_loss: 0.0141 - val_accuracy: 0.9932 - val_precision: 0.9968 - val_recall: 0.9890 - val_auc: 0.9994\n",
      "Epoch 191/200\n",
      "91459/91459 [==============================] - 5s 52us/step - loss: 0.0073 - accuracy: 0.9932 - precision: 0.9968 - recall: 0.9890 - auc: 0.9994 - val_loss: 0.0169 - val_accuracy: 0.9932 - val_precision: 0.9968 - val_recall: 0.9890 - val_auc: 0.9994\n",
      "Epoch 192/200\n",
      "91459/91459 [==============================] - 5s 52us/step - loss: 0.0082 - accuracy: 0.9932 - precision: 0.9968 - recall: 0.9890 - auc: 0.9994 - val_loss: 0.0300 - val_accuracy: 0.9932 - val_precision: 0.9968 - val_recall: 0.9890 - val_auc: 0.9994\n",
      "Epoch 193/200\n",
      "91459/91459 [==============================] - 5s 52us/step - loss: 0.0075 - accuracy: 0.9932 - precision: 0.9968 - recall: 0.9890 - auc: 0.9994 - val_loss: 0.0153 - val_accuracy: 0.9933 - val_precision: 0.9968 - val_recall: 0.9891 - val_auc: 0.9994\n",
      "Epoch 194/200\n",
      "91459/91459 [==============================] - 5s 52us/step - loss: 0.0073 - accuracy: 0.9933 - precision: 0.9968 - recall: 0.9891 - auc: 0.9994 - val_loss: 0.0243 - val_accuracy: 0.9933 - val_precision: 0.9968 - val_recall: 0.9891 - val_auc: 0.9994\n",
      "Epoch 195/200\n",
      "91459/91459 [==============================] - 5s 51us/step - loss: 0.0073 - accuracy: 0.9933 - precision: 0.9968 - recall: 0.9891 - auc: 0.9994 - val_loss: 0.0146 - val_accuracy: 0.9933 - val_precision: 0.9968 - val_recall: 0.9891 - val_auc: 0.9994\n",
      "Epoch 196/200\n",
      "91459/91459 [==============================] - 5s 52us/step - loss: 0.0086 - accuracy: 0.9933 - precision: 0.9968 - recall: 0.9891 - auc: 0.9994 - val_loss: 0.0109 - val_accuracy: 0.9933 - val_precision: 0.9968 - val_recall: 0.9892 - val_auc: 0.9994\n",
      "Epoch 197/200\n",
      "91459/91459 [==============================] - 5s 52us/step - loss: 0.0070 - accuracy: 0.9933 - precision: 0.9968 - recall: 0.9892 - auc: 0.9994 - val_loss: 0.0106 - val_accuracy: 0.9934 - val_precision: 0.9968 - val_recall: 0.9892 - val_auc: 0.9994\n",
      "Epoch 198/200\n",
      "91459/91459 [==============================] - 5s 52us/step - loss: 0.0090 - accuracy: 0.9934 - precision: 0.9968 - recall: 0.9892 - auc: 0.9994 - val_loss: 0.0190 - val_accuracy: 0.9934 - val_precision: 0.9968 - val_recall: 0.9892 - val_auc: 0.9994\n",
      "Epoch 199/200\n",
      "91459/91459 [==============================] - 5s 52us/step - loss: 0.0070 - accuracy: 0.9934 - precision: 0.9968 - recall: 0.9892 - auc: 0.9994 - val_loss: 0.0129 - val_accuracy: 0.9934 - val_precision: 0.9968 - val_recall: 0.9893 - val_auc: 0.9994\n",
      "Epoch 200/200\n",
      "91459/91459 [==============================] - 5s 52us/step - loss: 0.0074 - accuracy: 0.9934 - precision: 0.9968 - recall: 0.9893 - auc: 0.9994 - val_loss: 0.0236 - val_accuracy: 0.9934 - val_precision: 0.9968 - val_recall: 0.9893 - val_auc: 0.9994\n"
     ]
    },
    {
     "data": {
      "text/plain": [
       "<keras.callbacks.callbacks.History at 0x1b9998ef358>"
      ]
     },
     "execution_count": 9,
     "metadata": {},
     "output_type": "execute_result"
    }
   ],
   "source": [
    "estimator = KerasClassifier(build_fn=neural_network)\n",
    "estimator.fit(X_train,Y_train,verbose=1,callbacks=[early_stopping], epochs=200,validation_split=0.2, batch_size=128)\n"
   ]
  },
  {
   "cell_type": "code",
   "execution_count": 18,
   "metadata": {},
   "outputs": [
    {
     "name": "stdout",
     "output_type": "stream",
     "text": [
      "Epoch 1/1\n",
      "76216/76216 [==============================] - 11s 145us/step - loss: 0.1701 - accuracy: 0.9929 - precision: 0.9962 - recall: 0.9887 - auc: 0.9994\n",
      "Epoch 1/1\n",
      "76216/76216 [==============================] - 11s 145us/step - loss: 0.1557 - accuracy: 0.9928 - precision: 0.9962 - recall: 0.9886 - auc: 0.9994\n",
      "Epoch 1/1\n",
      "76216/76216 [==============================] - 11s 141us/step - loss: 0.1428 - accuracy: 0.9927 - precision: 0.9961 - recall: 0.9883 - auc: 0.9993\n",
      "Cross-Validation set accuracy: 95.530247 %\n",
      "114324/114324 [==============================] - 7s 57us/step\n",
      "Train set accuracy           : 99.2662 %\n",
      "Test set accuracy            : 79.4039 %\n",
      "Test set precision : 0.9340\n",
      "Test set recall    : 0.6863\n",
      "Test set F1-score  : 0.7912\n"
     ]
    }
   ],
   "source": [
    "print(\"Cross-Validation set accuracy: {:.6f} %\".format((cross_val_score(estimator, X_train, Y_train, \n",
    "                                                                        cv=3,scoring='accuracy').mean())*100))\n",
    "test_predictions = estimator.predict(X_test)\n",
    "print(\"Train set accuracy           : {:.4f} %\".format(estimator.score(X_train,Y_train)*100))\n",
    "print(\"Test set accuracy            : {:.4f} %\".format(accuracy_score(Y_test, test_predictions)*100))\n",
    "print(\"Test set precision : {:.4f}\".format(precision_score(Y_test, test_predictions)))\n",
    "print(\"Test set recall    : {:.4f}\".format(recall_score(Y_test, test_predictions)))\n",
    "print(\"Test set F1-score  : {:.4f}\".format(f1_score(Y_test, test_predictions)))"
   ]
  },
  {
   "cell_type": "code",
   "execution_count": 19,
   "metadata": {},
   "outputs": [],
   "source": [
    "def plot_cm(labels, predictions, p=0.5):\n",
    "    cm = confusion_matrix(labels, predictions > p, normalize= 'true')\n",
    "    plt.figure(figsize=(5,5))\n",
    "    sns.heatmap(cm, annot=True, fmt=\".2f\")\n",
    "    plt.title('Confusion matrix @{:.2f}'.format(p))\n",
    "    plt.ylabel('Actual label')\n",
    "    plt.xlabel('Predicted label')\n",
    "\n",
    "    plt.text(0.3,2.6,'True Negatives  : '+ str(cm[0][0]),size=14)\n",
    "    plt.text(0.3,2.8,'False Positives   : '+ str(cm[0][1]),size=14)\n",
    "    plt.text(0.3,3,'False Negatives : '+ str(cm[1][0]),size=14)\n",
    "    plt.text(0.3,3.2,'True Positives    : '+ str(cm[1][1]),size=14)"
   ]
  },
  {
   "cell_type": "code",
   "execution_count": 20,
   "metadata": {
    "scrolled": false
   },
   "outputs": [
    {
     "data": {
      "image/png": "[encoded data removed]",
      "text/plain": [
       "<Figure size 360x360 with 2 Axes>"
      ]
     },
     "metadata": {
      "needs_background": "light"
     },
     "output_type": "display_data"
    }
   ],
   "source": [
    "plot_cm(Y_test, test_predictions)"
   ]
  },
  {
   "cell_type": "code",
   "execution_count": 13,
   "metadata": {
    "scrolled": false
   },
   "outputs": [
    {
     "name": "stdout",
     "output_type": "stream",
     "text": [
      "              precision    recall  f1-score   support\n",
      "\n",
      "           0       0.69      0.94      0.80      9711\n",
      "           1       0.93      0.69      0.79     12803\n",
      "\n",
      "    accuracy                           0.79     22514\n",
      "   macro avg       0.81      0.81      0.79     22514\n",
      "weighted avg       0.83      0.79      0.79     22514\n",
      "\n"
     ]
    }
   ],
   "source": [
    "print(classification_report(Y_test, test_predictions.round()))"
   ]
  },
  {
   "cell_type": "code",
   "execution_count": 14,
   "metadata": {},
   "outputs": [],
   "source": [
    "from sklearn.metrics import roc_curve, auc"
   ]
  },
  {
   "cell_type": "code",
   "execution_count": 16,
   "metadata": {
    "scrolled": false
   },
   "outputs": [
    {
     "name": "stderr",
     "output_type": "stream",
     "text": [
      "c:\\users\\sharuka thirimanne\\appdata\\local\\programs\\python\\python37\\lib\\site-packages\\ipykernel_launcher.py:13: MatplotlibDeprecationWarning: Adding an axes using the same arguments as a previous axes currently reuses the earlier instance.  In a future version, a new instance will always be created and returned.  Meanwhile, this warning can be suppressed, and the future behavior ensured, by passing a unique label to each axes instance.\n",
      "  del sys.path[0]\n"
     ]
    },
    {
     "data": {
      "image/png": "[encoded data removed]",
      "text/plain": [
       "<Figure size 864x720 with 1 Axes>"
      ]
     },
     "metadata": {
      "needs_background": "light"
     },
     "output_type": "display_data"
    }
   ],
   "source": [
    "fpr_lr, tpr_lr, _ = roc_curve(Y_test, test_predictions)\n",
    "roc_auc_lr = auc(fpr_lr, tpr_lr)\n",
    "\n",
    "plt.figure()\n",
    "plt.xlim([-0.01, 1.00])\n",
    "plt.ylim([-0.01, 1.01])\n",
    "plt.plot(fpr_lr, tpr_lr, lw=3, label='KNN ROC curve (area = {:0.2f})'.format(roc_auc_lr))\n",
    "plt.xlabel('False Positive Rate', fontsize=18)\n",
    "plt.ylabel('True Positive Rate', fontsize=18)\n",
    "plt.title('ROC curve', fontsize=18)\n",
    "plt.legend(loc='lower right', fontsize=18)\n",
    "plt.plot([0, 1], [0, 1], color='navy', lw=3, linestyle='--')\n",
    "plt.axes().set_aspect('equal')\n",
    "plt.show()"
   ]
  },
  {
   "cell_type": "code",
   "execution_count": 16,
   "metadata": {},
   "outputs": [
    {
     "data": {
      "text/plain": [
       "{'build_fn': <function __main__.neural_network(optimizer='Adagrad', init='glorot_uniform')>}"
      ]
     },
     "execution_count": 16,
     "metadata": {},
     "output_type": "execute_result"
    }
   ],
   "source": [
    "estimator.get_params()"
   ]
  },
  {
   "cell_type": "code",
   "execution_count": 19,
   "metadata": {
    "scrolled": true
   },
   "outputs": [
    {
     "name": "stdout",
     "output_type": "stream",
     "text": [
      "Fitting 2 folds for each of 20 candidates, totalling 40 fits\n",
      "[CV] batch_size=32, nb_epoch=50 ......................................\n"
     ]
    },
    {
     "name": "stderr",
     "output_type": "stream",
     "text": [
      "[Parallel(n_jobs=1)]: Using backend SequentialBackend with 1 concurrent workers.\n"
     ]
    },
    {
     "name": "stdout",
     "output_type": "stream",
     "text": [
      "Epoch 1/1\n",
      "57162/57162 [==============================] - 6s 113us/step - loss: 3.8412e-04 - accuracy: 0.9979 - precision: 0.9987 - recall: 0.9963 - auc: 0.9997\n",
      "[CV] ....................... batch_size=32, nb_epoch=50, total=   8.5s\n",
      "[CV] batch_size=32, nb_epoch=50 ......................................\n"
     ]
    },
    {
     "name": "stderr",
     "output_type": "stream",
     "text": [
      "[Parallel(n_jobs=1)]: Done   1 out of   1 | elapsed:    8.4s remaining:    0.0s\n"
     ]
    },
    {
     "name": "stdout",
     "output_type": "stream",
     "text": [
      "Epoch 1/1\n",
      "57162/57162 [==============================] - 6s 109us/step - loss: 4.0823e-04 - accuracy: 0.9979 - precision: 0.9987 - recall: 0.9963 - auc: 0.9997\n",
      "[CV] ....................... batch_size=32, nb_epoch=50, total=   8.3s\n",
      "[CV] batch_size=32, nb_epoch=100 .....................................\n",
      "Epoch 1/1\n",
      "57162/57162 [==============================] - 6s 108us/step - loss: 3.9084e-04 - accuracy: 0.9979 - precision: 0.9987 - recall: 0.9963 - auc: 0.9997\n",
      "[CV] ...................... batch_size=32, nb_epoch=100, total=   8.2s\n",
      "[CV] batch_size=32, nb_epoch=100 .....................................\n",
      "Epoch 1/1\n",
      "57162/57162 [==============================] - 6s 112us/step - loss: 3.6749e-04 - accuracy: 0.9980 - precision: 0.9987 - recall: 0.9963 - auc: 0.9997\n",
      "[CV] ...................... batch_size=32, nb_epoch=100, total=   8.6s\n",
      "[CV] batch_size=32, nb_epoch=150 .....................................\n",
      "Epoch 1/1\n",
      "57162/57162 [==============================] - 6s 110us/step - loss: 3.9751e-04 - accuracy: 0.9980 - precision: 0.9987 - recall: 0.9963 - auc: 0.9997\n",
      "[CV] ...................... batch_size=32, nb_epoch=150, total=   8.4s\n",
      "[CV] batch_size=32, nb_epoch=150 .....................................\n",
      "Epoch 1/1\n",
      "57162/57162 [==============================] - 7s 117us/step - loss: 4.0226e-04 - accuracy: 0.9980 - precision: 0.9987 - recall: 0.9963 - auc: 0.9997\n",
      "[CV] ...................... batch_size=32, nb_epoch=150, total=   9.0s\n",
      "[CV] batch_size=32, nb_epoch=200 .....................................\n",
      "Epoch 1/1\n",
      "57162/57162 [==============================] - 6s 113us/step - loss: 3.9768e-04 - accuracy: 0.9980 - precision: 0.9987 - recall: 0.9963 - auc: 0.9997\n",
      "[CV] ...................... batch_size=32, nb_epoch=200, total=   8.6s\n",
      "[CV] batch_size=32, nb_epoch=200 .....................................\n",
      "Epoch 1/1\n",
      "57162/57162 [==============================] - 6s 112us/step - loss: 4.0385e-04 - accuracy: 0.9980 - precision: 0.9987 - recall: 0.9963 - auc: 0.9997\n",
      "[CV] ...................... batch_size=32, nb_epoch=200, total=   8.7s\n",
      "[CV] batch_size=64, nb_epoch=50 ......................................\n",
      "Epoch 1/1\n",
      "57162/57162 [==============================] - 4s 70us/step - loss: 8.8643e-04 - accuracy: 0.9980 - precision: 0.9987 - recall: 0.9963 - auc: 0.9997\n",
      "[CV] ....................... batch_size=64, nb_epoch=50, total=   5.9s\n",
      "[CV] batch_size=64, nb_epoch=50 ......................................\n",
      "Epoch 1/1\n",
      "57162/57162 [==============================] - 4s 69us/step - loss: 7.6847e-04 - accuracy: 0.9980 - precision: 0.9987 - recall: 0.9963 - auc: 0.9997\n",
      "[CV] ....................... batch_size=64, nb_epoch=50, total=   5.9s\n",
      "[CV] batch_size=64, nb_epoch=100 .....................................\n",
      "Epoch 1/1\n",
      "57162/57162 [==============================] - 4s 70us/step - loss: 7.6861e-04 - accuracy: 0.9980 - precision: 0.9987 - recall: 0.9963 - auc: 0.9997\n",
      "[CV] ...................... batch_size=64, nb_epoch=100, total=   6.0s\n",
      "[CV] batch_size=64, nb_epoch=100 .....................................\n",
      "Epoch 1/1\n",
      "57162/57162 [==============================] - 4s 72us/step - loss: 7.7669e-04 - accuracy: 0.9980 - precision: 0.9987 - recall: 0.9963 - auc: 0.9997\n",
      "[CV] ...................... batch_size=64, nb_epoch=100, total=   6.3s\n",
      "[CV] batch_size=64, nb_epoch=150 .....................................\n",
      "Epoch 1/1\n",
      "57162/57162 [==============================] - 4s 72us/step - loss: 8.3839e-04 - accuracy: 0.9980 - precision: 0.9987 - recall: 0.9963 - auc: 0.9997\n",
      "[CV] ...................... batch_size=64, nb_epoch=150, total=   6.1s\n",
      "[CV] batch_size=64, nb_epoch=150 .....................................\n",
      "Epoch 1/1\n",
      "57162/57162 [==============================] - 4s 71us/step - loss: 7.5440e-04 - accuracy: 0.9980 - precision: 0.9987 - recall: 0.9963 - auc: 0.9997\n",
      "[CV] ...................... batch_size=64, nb_epoch=150, total=   6.0s\n",
      "[CV] batch_size=64, nb_epoch=200 .....................................\n",
      "Epoch 1/1\n",
      "57162/57162 [==============================] - 4s 72us/step - loss: 7.9062e-04 - accuracy: 0.9980 - precision: 0.9987 - recall: 0.9963 - auc: 0.9997\n",
      "[CV] ...................... batch_size=64, nb_epoch=200, total=   6.1s\n",
      "[CV] batch_size=64, nb_epoch=200 .....................................\n",
      "Epoch 1/1\n",
      "57162/57162 [==============================] - 4s 70us/step - loss: 7.9948e-04 - accuracy: 0.9980 - precision: 0.9987 - recall: 0.9963 - auc: 0.9997\n",
      "[CV] ...................... batch_size=64, nb_epoch=200, total=   6.0s\n",
      "[CV] batch_size=128, nb_epoch=50 .....................................\n",
      "Epoch 1/1\n",
      "57162/57162 [==============================] - 2s 42us/step - loss: 0.0015 - accuracy: 0.9980 - precision: 0.9987 - recall: 0.9963 - auc: 0.9997\n",
      "[CV] ...................... batch_size=128, nb_epoch=50, total=   4.0s\n",
      "[CV] batch_size=128, nb_epoch=50 .....................................\n",
      "Epoch 1/1\n",
      "57162/57162 [==============================] - 2s 42us/step - loss: 0.0016 - accuracy: 0.9980 - precision: 0.9987 - recall: 0.9963 - auc: 0.9997\n",
      "[CV] ...................... batch_size=128, nb_epoch=50, total=   4.0s\n",
      "[CV] batch_size=128, nb_epoch=100 ....................................\n",
      "Epoch 1/1\n",
      "57162/57162 [==============================] - 2s 43us/step - loss: 0.0015 - accuracy: 0.9980 - precision: 0.9987 - recall: 0.9963 - auc: 0.9997\n",
      "[CV] ..................... batch_size=128, nb_epoch=100, total=   4.0s\n",
      "[CV] batch_size=128, nb_epoch=100 ....................................\n",
      "Epoch 1/1\n",
      "57162/57162 [==============================] - 3s 47us/step - loss: 0.0015 - accuracy: 0.9980 - precision: 0.9987 - recall: 0.9963 - auc: 0.9997\n",
      "[CV] ..................... batch_size=128, nb_epoch=100, total=   4.6s\n",
      "[CV] batch_size=128, nb_epoch=150 ....................................\n",
      "Epoch 1/1\n",
      "57162/57162 [==============================] - 3s 45us/step - loss: 0.0016 - accuracy: 0.9980 - precision: 0.9987 - recall: 0.9963 - auc: 0.9997\n",
      "[CV] ..................... batch_size=128, nb_epoch=150, total=   4.3s\n",
      "[CV] batch_size=128, nb_epoch=150 ....................................\n",
      "Epoch 1/1\n",
      "57162/57162 [==============================] - 3s 44us/step - loss: 0.0016 - accuracy: 0.9980 - precision: 0.9987 - recall: 0.9963 - auc: 0.9997\n",
      "[CV] ..................... batch_size=128, nb_epoch=150, total=   4.1s\n",
      "[CV] batch_size=128, nb_epoch=200 ....................................\n",
      "Epoch 1/1\n",
      "57162/57162 [==============================] - 3s 45us/step - loss: 0.0015 - accuracy: 0.9980 - precision: 0.9987 - recall: 0.9963 - auc: 0.9997\n",
      "[CV] ..................... batch_size=128, nb_epoch=200, total=   4.2s\n",
      "[CV] batch_size=128, nb_epoch=200 ....................................\n",
      "Epoch 1/1\n",
      "57162/57162 [==============================] - 3s 44us/step - loss: 0.0015 - accuracy: 0.9980 - precision: 0.9987 - recall: 0.9963 - auc: 0.9997\n",
      "[CV] ..................... batch_size=128, nb_epoch=200, total=   4.2s\n",
      "[CV] batch_size=256, nb_epoch=50 .....................................\n",
      "Epoch 1/1\n",
      "57162/57162 [==============================] - 2s 31us/step - loss: 0.0034 - accuracy: 0.9980 - precision: 0.9986 - recall: 0.9963 - auc: 0.9997\n",
      "[CV] ...................... batch_size=256, nb_epoch=50, total=   3.2s\n",
      "[CV] batch_size=256, nb_epoch=50 .....................................\n",
      "Epoch 1/1\n",
      "57162/57162 [==============================] - 2s 31us/step - loss: 0.0033 - accuracy: 0.9980 - precision: 0.9986 - recall: 0.9963 - auc: 0.9997\n",
      "[CV] ...................... batch_size=256, nb_epoch=50, total=   3.2s\n",
      "[CV] batch_size=256, nb_epoch=100 ....................................\n",
      "Epoch 1/1\n",
      "57162/57162 [==============================] - 2s 31us/step - loss: 0.0030 - accuracy: 0.9980 - precision: 0.9986 - recall: 0.9963 - auc: 0.9997\n",
      "[CV] ..................... batch_size=256, nb_epoch=100, total=   3.1s\n",
      "[CV] batch_size=256, nb_epoch=100 ....................................\n",
      "Epoch 1/1\n",
      "57162/57162 [==============================] - 2s 34us/step - loss: 0.0033 - accuracy: 0.9980 - precision: 0.9986 - recall: 0.9963 - auc: 0.9997\n",
      "[CV] ..................... batch_size=256, nb_epoch=100, total=   3.6s\n",
      "[CV] batch_size=256, nb_epoch=150 ....................................\n",
      "Epoch 1/1\n"
     ]
    },
    {
     "name": "stdout",
     "output_type": "stream",
     "text": [
      "57162/57162 [==============================] - 2s 32us/step - loss: 0.0033 - accuracy: 0.9980 - precision: 0.9986 - recall: 0.9963 - auc: 0.9997\n",
      "[CV] ..................... batch_size=256, nb_epoch=150, total=   3.2s\n",
      "[CV] batch_size=256, nb_epoch=150 ....................................\n",
      "Epoch 1/1\n",
      "57162/57162 [==============================] - 2s 32us/step - loss: 0.0032 - accuracy: 0.9980 - precision: 0.9985 - recall: 0.9963 - auc: 0.9997\n",
      "[CV] ..................... batch_size=256, nb_epoch=150, total=   3.2s\n",
      "[CV] batch_size=256, nb_epoch=200 ....................................\n",
      "Epoch 1/1\n",
      "57162/57162 [==============================] - 2s 30us/step - loss: 0.0031 - accuracy: 0.9980 - precision: 0.9985 - recall: 0.9963 - auc: 0.9997\n",
      "[CV] ..................... batch_size=256, nb_epoch=200, total=   3.1s\n",
      "[CV] batch_size=256, nb_epoch=200 ....................................\n",
      "Epoch 1/1\n",
      "57162/57162 [==============================] - 2s 31us/step - loss: 0.0031 - accuracy: 0.9980 - precision: 0.9985 - recall: 0.9963 - auc: 0.9997\n",
      "[CV] ..................... batch_size=256, nb_epoch=200, total=   3.1s\n",
      "[CV] batch_size=512, nb_epoch=50 .....................................\n",
      "Epoch 1/1\n",
      "57162/57162 [==============================] - 1s 25us/step - loss: 0.0063 - accuracy: 0.9980 - precision: 0.9985 - recall: 0.9963 - auc: 0.9997\n",
      "[CV] ...................... batch_size=512, nb_epoch=50, total=   2.7s\n",
      "[CV] batch_size=512, nb_epoch=50 .....................................\n",
      "Epoch 1/1\n",
      "57162/57162 [==============================] - 1s 25us/step - loss: 0.0061 - accuracy: 0.9980 - precision: 0.9985 - recall: 0.9963 - auc: 0.9997\n",
      "[CV] ...................... batch_size=512, nb_epoch=50, total=   2.7s\n",
      "[CV] batch_size=512, nb_epoch=100 ....................................\n",
      "Epoch 1/1\n",
      "57162/57162 [==============================] - 1s 25us/step - loss: 0.0062 - accuracy: 0.9980 - precision: 0.9985 - recall: 0.9963 - auc: 0.9997\n",
      "[CV] ..................... batch_size=512, nb_epoch=100, total=   2.7s\n",
      "[CV] batch_size=512, nb_epoch=100 ....................................\n",
      "Epoch 1/1\n",
      "57162/57162 [==============================] - 2s 27us/step - loss: 0.0063 - accuracy: 0.9980 - precision: 0.9984 - recall: 0.9963 - auc: 0.9997\n",
      "[CV] ..................... batch_size=512, nb_epoch=100, total=   3.1s\n",
      "[CV] batch_size=512, nb_epoch=150 ....................................\n",
      "Epoch 1/1\n",
      "57162/57162 [==============================] - 2s 27us/step - loss: 0.0065 - accuracy: 0.9980 - precision: 0.9984 - recall: 0.9963 - auc: 0.9997\n",
      "[CV] ..................... batch_size=512, nb_epoch=150, total=   2.8s\n",
      "[CV] batch_size=512, nb_epoch=150 ....................................\n",
      "Epoch 1/1\n",
      "57162/57162 [==============================] - 2s 26us/step - loss: 0.0062 - accuracy: 0.9979 - precision: 0.9984 - recall: 0.9963 - auc: 0.9997\n",
      "[CV] ..................... batch_size=512, nb_epoch=150, total=   2.8s\n",
      "[CV] batch_size=512, nb_epoch=200 ....................................\n",
      "Epoch 1/1\n",
      "57162/57162 [==============================] - 2s 27us/step - loss: 0.0062 - accuracy: 0.9979 - precision: 0.9983 - recall: 0.9963 - auc: 0.9997\n",
      "[CV] ..................... batch_size=512, nb_epoch=200, total=   2.8s\n",
      "[CV] batch_size=512, nb_epoch=200 ....................................\n",
      "Epoch 1/1\n",
      "57162/57162 [==============================] - 2s 27us/step - loss: 0.0063 - accuracy: 0.9979 - precision: 0.9983 - recall: 0.9963 - auc: 0.9997\n",
      "[CV] ..................... batch_size=512, nb_epoch=200, total=   2.8s\n"
     ]
    },
    {
     "name": "stderr",
     "output_type": "stream",
     "text": [
      "[Parallel(n_jobs=1)]: Done  40 out of  40 | elapsed:  3.3min finished\n"
     ]
    },
    {
     "ename": "RuntimeError",
     "evalue": "Cannot clone object <keras.wrappers.scikit_learn.KerasClassifier object at 0x0000018B05539908>, as the constructor either does not set or modifies parameter batch_size",
     "output_type": "error",
     "traceback": [
      "\u001b[1;31m---------------------------------------------------------------------------\u001b[0m",
      "\u001b[1;31mRuntimeError\u001b[0m                              Traceback (most recent call last)",
      "\u001b[1;32m<ipython-input-19-898d6a8a7a3d>\u001b[0m in \u001b[0;36m<module>\u001b[1;34m\u001b[0m\n\u001b[0;32m     12\u001b[0m     \u001b[0mscoring\u001b[0m \u001b[1;33m=\u001b[0m\u001b[1;34m'accuracy'\u001b[0m\u001b[1;33m,\u001b[0m\u001b[1;33m\u001b[0m\u001b[1;33m\u001b[0m\u001b[0m\n\u001b[0;32m     13\u001b[0m     verbose = 2)\n\u001b[1;32m---> 14\u001b[1;33m \u001b[0moptimal_params\u001b[0m\u001b[1;33m.\u001b[0m\u001b[0mfit\u001b[0m\u001b[1;33m(\u001b[0m\u001b[0mX_train\u001b[0m\u001b[1;33m,\u001b[0m\u001b[0mY_train\u001b[0m\u001b[1;33m)\u001b[0m\u001b[1;33m\u001b[0m\u001b[1;33m\u001b[0m\u001b[0m\n\u001b[0m\u001b[0;32m     15\u001b[0m \u001b[0mprint\u001b[0m\u001b[1;33m(\u001b[0m\u001b[0moptimal_params\u001b[0m\u001b[1;33m.\u001b[0m\u001b[0mbest_params_\u001b[0m\u001b[1;33m)\u001b[0m\u001b[1;33m\u001b[0m\u001b[1;33m\u001b[0m\u001b[0m\n",
      "\u001b[1;32mc:\\users\\sharuka thirimanne\\appdata\\local\\programs\\python\\python37\\lib\\site-packages\\sklearn\\utils\\validation.py\u001b[0m in \u001b[0;36minner_f\u001b[1;34m(*args, **kwargs)\u001b[0m\n\u001b[0;32m     70\u001b[0m                           FutureWarning)\n\u001b[0;32m     71\u001b[0m         \u001b[0mkwargs\u001b[0m\u001b[1;33m.\u001b[0m\u001b[0mupdate\u001b[0m\u001b[1;33m(\u001b[0m\u001b[1;33m{\u001b[0m\u001b[0mk\u001b[0m\u001b[1;33m:\u001b[0m \u001b[0marg\u001b[0m \u001b[1;32mfor\u001b[0m \u001b[0mk\u001b[0m\u001b[1;33m,\u001b[0m \u001b[0marg\u001b[0m \u001b[1;32min\u001b[0m \u001b[0mzip\u001b[0m\u001b[1;33m(\u001b[0m\u001b[0msig\u001b[0m\u001b[1;33m.\u001b[0m\u001b[0mparameters\u001b[0m\u001b[1;33m,\u001b[0m \u001b[0margs\u001b[0m\u001b[1;33m)\u001b[0m\u001b[1;33m}\u001b[0m\u001b[1;33m)\u001b[0m\u001b[1;33m\u001b[0m\u001b[1;33m\u001b[0m\u001b[0m\n\u001b[1;32m---> 72\u001b[1;33m         \u001b[1;32mreturn\u001b[0m \u001b[0mf\u001b[0m\u001b[1;33m(\u001b[0m\u001b[1;33m**\u001b[0m\u001b[0mkwargs\u001b[0m\u001b[1;33m)\u001b[0m\u001b[1;33m\u001b[0m\u001b[1;33m\u001b[0m\u001b[0m\n\u001b[0m\u001b[0;32m     73\u001b[0m     \u001b[1;32mreturn\u001b[0m \u001b[0minner_f\u001b[0m\u001b[1;33m\u001b[0m\u001b[1;33m\u001b[0m\u001b[0m\n\u001b[0;32m     74\u001b[0m \u001b[1;33m\u001b[0m\u001b[0m\n",
      "\u001b[1;32mc:\\users\\sharuka thirimanne\\appdata\\local\\programs\\python\\python37\\lib\\site-packages\\sklearn\\model_selection\\_search.py\u001b[0m in \u001b[0;36mfit\u001b[1;34m(self, X, y, groups, **fit_params)\u001b[0m\n\u001b[0;32m    760\u001b[0m             \u001b[1;31m# of the params are estimators as well.\u001b[0m\u001b[1;33m\u001b[0m\u001b[1;33m\u001b[0m\u001b[1;33m\u001b[0m\u001b[0m\n\u001b[0;32m    761\u001b[0m             self.best_estimator_ = clone(clone(base_estimator).set_params(\n\u001b[1;32m--> 762\u001b[1;33m                 **self.best_params_))\n\u001b[0m\u001b[0;32m    763\u001b[0m             \u001b[0mrefit_start_time\u001b[0m \u001b[1;33m=\u001b[0m \u001b[0mtime\u001b[0m\u001b[1;33m.\u001b[0m\u001b[0mtime\u001b[0m\u001b[1;33m(\u001b[0m\u001b[1;33m)\u001b[0m\u001b[1;33m\u001b[0m\u001b[1;33m\u001b[0m\u001b[0m\n\u001b[0;32m    764\u001b[0m             \u001b[1;32mif\u001b[0m \u001b[0my\u001b[0m \u001b[1;32mis\u001b[0m \u001b[1;32mnot\u001b[0m \u001b[1;32mNone\u001b[0m\u001b[1;33m:\u001b[0m\u001b[1;33m\u001b[0m\u001b[1;33m\u001b[0m\u001b[0m\n",
      "\u001b[1;32mc:\\users\\sharuka thirimanne\\appdata\\local\\programs\\python\\python37\\lib\\site-packages\\sklearn\\utils\\validation.py\u001b[0m in \u001b[0;36minner_f\u001b[1;34m(*args, **kwargs)\u001b[0m\n\u001b[0;32m     70\u001b[0m                           FutureWarning)\n\u001b[0;32m     71\u001b[0m         \u001b[0mkwargs\u001b[0m\u001b[1;33m.\u001b[0m\u001b[0mupdate\u001b[0m\u001b[1;33m(\u001b[0m\u001b[1;33m{\u001b[0m\u001b[0mk\u001b[0m\u001b[1;33m:\u001b[0m \u001b[0marg\u001b[0m \u001b[1;32mfor\u001b[0m \u001b[0mk\u001b[0m\u001b[1;33m,\u001b[0m \u001b[0marg\u001b[0m \u001b[1;32min\u001b[0m \u001b[0mzip\u001b[0m\u001b[1;33m(\u001b[0m\u001b[0msig\u001b[0m\u001b[1;33m.\u001b[0m\u001b[0mparameters\u001b[0m\u001b[1;33m,\u001b[0m \u001b[0margs\u001b[0m\u001b[1;33m)\u001b[0m\u001b[1;33m}\u001b[0m\u001b[1;33m)\u001b[0m\u001b[1;33m\u001b[0m\u001b[1;33m\u001b[0m\u001b[0m\n\u001b[1;32m---> 72\u001b[1;33m         \u001b[1;32mreturn\u001b[0m \u001b[0mf\u001b[0m\u001b[1;33m(\u001b[0m\u001b[1;33m**\u001b[0m\u001b[0mkwargs\u001b[0m\u001b[1;33m)\u001b[0m\u001b[1;33m\u001b[0m\u001b[1;33m\u001b[0m\u001b[0m\n\u001b[0m\u001b[0;32m     73\u001b[0m     \u001b[1;32mreturn\u001b[0m \u001b[0minner_f\u001b[0m\u001b[1;33m\u001b[0m\u001b[1;33m\u001b[0m\u001b[0m\n\u001b[0;32m     74\u001b[0m \u001b[1;33m\u001b[0m\u001b[0m\n",
      "\u001b[1;32mc:\\users\\sharuka thirimanne\\appdata\\local\\programs\\python\\python37\\lib\\site-packages\\sklearn\\base.py\u001b[0m in \u001b[0;36mclone\u001b[1;34m(estimator, safe)\u001b[0m\n\u001b[0;32m     96\u001b[0m             raise RuntimeError('Cannot clone object %s, as the constructor '\n\u001b[0;32m     97\u001b[0m                                \u001b[1;34m'either does not set or modifies parameter %s'\u001b[0m \u001b[1;33m%\u001b[0m\u001b[1;33m\u001b[0m\u001b[1;33m\u001b[0m\u001b[0m\n\u001b[1;32m---> 98\u001b[1;33m                                (estimator, name))\n\u001b[0m\u001b[0;32m     99\u001b[0m     \u001b[1;32mreturn\u001b[0m \u001b[0mnew_object\u001b[0m\u001b[1;33m\u001b[0m\u001b[1;33m\u001b[0m\u001b[0m\n\u001b[0;32m    100\u001b[0m \u001b[1;33m\u001b[0m\u001b[0m\n",
      "\u001b[1;31mRuntimeError\u001b[0m: Cannot clone object <keras.wrappers.scikit_learn.KerasClassifier object at 0x0000018B05539908>, as the constructor either does not set or modifies parameter batch_size"
     ]
    }
   ],
   "source": [
    "optimizers = ['sgd','rmsprop', 'adam']\n",
    "init = ['glorot_uniform', 'normal', 'uniform']\n",
    "epochs = np.array([50, 100, 150,200])\n",
    "batches = np.array([32,64,128,256,512])\n",
    "#param_grid = dict(optimizer=optimizers, nb_epoch=epochs, batch_size=batches, init=init)\n",
    "param_grid = dict(nb_epoch=epochs, batch_size=batches)\n",
    "\n",
    "optimal_params = GridSearchCV(\n",
    "    estimator = estimator,\n",
    "    param_grid = param_grid,\n",
    "    cv=2,\n",
    "    scoring ='accuracy',\n",
    "    verbose = 2)\n",
    "optimal_params.fit(X_train,Y_train)\n",
    "print(optimal_params.best_params_)\n"
   ]
  },
  {
   "cell_type": "code",
   "execution_count": null,
   "metadata": {},
   "outputs": [],
   "source": [
    "def plot_metrics(history):\n",
    "  metrics =  ['accuracy', 'precision', 'recall','auc']\n",
    "  for n, metric in enumerate(metrics):\n",
    "    name = metric.replace(\"_\",\" \").capitalize()\n",
    "    plt.subplots(2,2)\n",
    "    plt.plot(history.epochs,  history.history[metric], color=colors[0], label='Train')\n",
    "    plt.plot(history.epochs, history.history['val_'+metric], color=colors[0], linestyle=\"--\", label='Val')\n",
    "    plt.xlabel('Epoch')\n",
    "    plt.ylabel(name)\n",
    "    if metric == 'loss':\n",
    "      plt.ylim([0, plt.ylim()[1]])\n",
    "    elif metric == 'accuracy':\n",
    "      plt.ylim([0.8,1])\n",
    "    elif metric == 'precision':\n",
    "      plt.ylim([0.8,1])\n",
    "    elif metric == 'recall':\n",
    "      plt.ylim([0.8,1])\n",
    "\n",
    "    plt.legend()\n",
    "    \n",
    "plot_metrics(estimator)"
   ]
  }
 ],
 "metadata": {
  "kernelspec": {
   "display_name": "Python 3",
   "language": "python",
   "name": "python3"
  },
  "language_info": {
   "codemirror_mode": {
    "name": "ipython",
    "version": 3
   },
   "file_extension": ".py",
   "mimetype": "text/x-python",
   "name": "python",
   "nbconvert_exporter": "python",
   "pygments_lexer": "ipython3",
   "version": "3.7.3"
  }
 },
 "nbformat": 4,
 "nbformat_minor": 4
}
