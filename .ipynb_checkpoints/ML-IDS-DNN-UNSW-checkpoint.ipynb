{
 "cells": [
  {
   "cell_type": "markdown",
   "metadata": {},
   "source": [
    "# DNN - UNSW"
   ]
  },
  {
   "cell_type": "code",
   "execution_count": 1,
   "metadata": {},
   "outputs": [
    {
     "name": "stdout",
     "output_type": "stream",
     "text": [
      "C:\\Users\\Sharuka Thirimanne\\Desktop\\FYP-ML-IDS\n"
     ]
    }
   ],
   "source": [
    "cd C:\\\\Users\\\\Sharuka Thirimanne\\\\Desktop\\\\FYP-ML-IDS"
   ]
  },
  {
   "cell_type": "code",
   "execution_count": 2,
   "metadata": {},
   "outputs": [
    {
     "name": "stderr",
     "output_type": "stream",
     "text": [
      "c:\\users\\sharuka thirimanne\\appdata\\local\\programs\\python\\python37\\lib\\site-packages\\tensorboard\\compat\\tensorflow_stub\\dtypes.py:541: FutureWarning: Passing (type, 1) or '1type' as a synonym of type is deprecated; in a future version of numpy, it will be understood as (type, (1,)) / '(1,)type'.\n",
      "  _np_qint8 = np.dtype([(\"qint8\", np.int8, 1)])\n",
      "c:\\users\\sharuka thirimanne\\appdata\\local\\programs\\python\\python37\\lib\\site-packages\\tensorboard\\compat\\tensorflow_stub\\dtypes.py:542: FutureWarning: Passing (type, 1) or '1type' as a synonym of type is deprecated; in a future version of numpy, it will be understood as (type, (1,)) / '(1,)type'.\n",
      "  _np_quint8 = np.dtype([(\"quint8\", np.uint8, 1)])\n",
      "c:\\users\\sharuka thirimanne\\appdata\\local\\programs\\python\\python37\\lib\\site-packages\\tensorboard\\compat\\tensorflow_stub\\dtypes.py:543: FutureWarning: Passing (type, 1) or '1type' as a synonym of type is deprecated; in a future version of numpy, it will be understood as (type, (1,)) / '(1,)type'.\n",
      "  _np_qint16 = np.dtype([(\"qint16\", np.int16, 1)])\n",
      "c:\\users\\sharuka thirimanne\\appdata\\local\\programs\\python\\python37\\lib\\site-packages\\tensorboard\\compat\\tensorflow_stub\\dtypes.py:544: FutureWarning: Passing (type, 1) or '1type' as a synonym of type is deprecated; in a future version of numpy, it will be understood as (type, (1,)) / '(1,)type'.\n",
      "  _np_quint16 = np.dtype([(\"quint16\", np.uint16, 1)])\n",
      "c:\\users\\sharuka thirimanne\\appdata\\local\\programs\\python\\python37\\lib\\site-packages\\tensorboard\\compat\\tensorflow_stub\\dtypes.py:545: FutureWarning: Passing (type, 1) or '1type' as a synonym of type is deprecated; in a future version of numpy, it will be understood as (type, (1,)) / '(1,)type'.\n",
      "  _np_qint32 = np.dtype([(\"qint32\", np.int32, 1)])\n",
      "c:\\users\\sharuka thirimanne\\appdata\\local\\programs\\python\\python37\\lib\\site-packages\\tensorboard\\compat\\tensorflow_stub\\dtypes.py:550: FutureWarning: Passing (type, 1) or '1type' as a synonym of type is deprecated; in a future version of numpy, it will be understood as (type, (1,)) / '(1,)type'.\n",
      "  np_resource = np.dtype([(\"resource\", np.ubyte, 1)])\n",
      "Using TensorFlow backend.\n"
     ]
    }
   ],
   "source": [
    "import sklearn\n",
    "import numpy as np\n",
    "import pandas as pd\n",
    "import seaborn as sns\n",
    "import tensorflow as tf\n",
    "import matplotlib as mpl\n",
    "import matplotlib.pyplot as plt\n",
    "\n",
    "from tensorflow import keras\n",
    "from keras.layers import Dense\n",
    "from keras.models import Sequential\n",
    "from sklearn.decomposition import PCA\n",
    "from tensorflow.keras import regularizers\n",
    "from tensorflow.keras import Model, layers\n",
    "from sklearn.model_selection import cross_val_score\n",
    "from sklearn.model_selection import train_test_split\n",
    "from keras.wrappers.scikit_learn import KerasClassifier\n",
    "from sklearn.model_selection import GridSearchCV\n",
    "from sklearn.metrics import accuracy_score, precision_score, recall_score, classification_report, confusion_matrix,f1_score\n"
   ]
  },
  {
   "cell_type": "code",
   "execution_count": 3,
   "metadata": {},
   "outputs": [],
   "source": [
    "mpl.rcParams['figure.figsize'] = (12, 10)\n",
    "colors = plt.rcParams['axes.prop_cycle'].by_key()['color']"
   ]
  },
  {
   "cell_type": "code",
   "execution_count": 4,
   "metadata": {
    "scrolled": true
   },
   "outputs": [],
   "source": [
    "def load_train_dataset():\n",
    "    df_train = pd.read_csv('USNW_train-set.csv')\n",
    "\n",
    "    limit1 = df_train.shape[1]-1\n",
    "    \n",
    "    X_train = df_train.iloc[:,0:limit1]\n",
    "    Y_train = df_train.iloc[:,limit1]\n",
    "    \n",
    "    return  X_train, Y_train,  df_train\n",
    "\n",
    "X_train, Y_train,  df_train = load_train_dataset()"
   ]
  },
  {
   "cell_type": "code",
   "execution_count": 5,
   "metadata": {},
   "outputs": [],
   "source": [
    "def load_test_dataset():\n",
    "    df_test = pd.read_csv('USNW_test-set.csv')\n",
    "    \n",
    "    limit2 = df_test.shape[1]-1\n",
    "    \n",
    "    X_test = df_test.iloc[:,0:limit2]\n",
    "    Y_test = df_test.iloc[:,limit2]\n",
    "    \n",
    "    return X_test, Y_test,df_test\n",
    "\n",
    "X_test, Y_test ,df_test = load_test_dataset()"
   ]
  },
  {
   "cell_type": "code",
   "execution_count": 6,
   "metadata": {},
   "outputs": [],
   "source": [
    "METRICS = [ \n",
    "      keras.metrics.BinaryAccuracy(name='accuracy'),\n",
    "      keras.metrics.Precision(name='precision'),\n",
    "      keras.metrics.Recall(name='recall'),\n",
    "      keras.metrics.AUC(name='auc'),\n",
    "]"
   ]
  },
  {
   "cell_type": "code",
   "execution_count": 7,
   "metadata": {},
   "outputs": [],
   "source": [
    "early_stopping = tf.keras.callbacks.EarlyStopping(\n",
    "    monitor='accuracy', \n",
    "    verbose=1,\n",
    "    patience=5,\n",
    "    mode='max',\n",
    "    min_delta = 0.0001,\n",
    "    restore_best_weights=True)"
   ]
  },
  {
   "cell_type": "code",
   "execution_count": 8,
   "metadata": {},
   "outputs": [],
   "source": [
    "def neural_network():\n",
    "    #Neural Network Model\n",
    "    model = Sequential()\n",
    "    model.add(Dense(256, input_dim=65, activation='relu',kernel_initializer='glorot_uniform',bias_initializer='zeros'))\n",
    "    model.add(Dense(256, activation='relu'))\n",
    "    model.add(Dense(256, activation='relu'))\n",
    "    model.add(Dense(256, activation='relu'))\n",
    "    model.add(Dense(256, activation='relu'))\n",
    "    model.add(Dense(256, activation='relu'))\n",
    "    model.add(Dense(256, activation='relu'))\n",
    "    model.add(Dense(256, activation='relu'))\n",
    "    model.add(Dense(256, activation='relu'))\n",
    "    model.add(Dense(256, activation='relu'))\n",
    "    model.add(Dense(256, activation='relu'))\n",
    "    model.add(Dense(256, activation='relu'))\n",
    "\n",
    "    model.add(Dense(1, activation='sigmoid'))\n",
    "\n",
    "    model.compile(loss='binary_crossentropy', optimizer='sgd', metrics = METRICS)\n",
    "    \n",
    "    return model\n"
   ]
  },
  {
   "cell_type": "code",
   "execution_count": 9,
   "metadata": {
    "scrolled": true
   },
   "outputs": [
    {
     "name": "stdout",
     "output_type": "stream",
     "text": [
      "Train on 90941 samples, validate on 10105 samples\n",
      "Epoch 1/200\n",
      "90941/90941 [==============================] - 22s 240us/step - loss: 0.4135 - accuracy: 0.6589 - precision: 0.6280 - recall: 0.2943 - auc: 0.7572 - val_loss: 0.1703 - val_accuracy: 0.7852 - val_precision: 0.8210 - val_recall: 0.6789 - val_auc: 0.8989\n",
      "Epoch 2/200\n",
      "90941/90941 [==============================] - 18s 200us/step - loss: 0.2137 - accuracy: 0.8226 - precision: 0.8398 - recall: 0.7697 - auc: 0.9251 - val_loss: 0.1372 - val_accuracy: 0.8445 - val_precision: 0.8483 - val_recall: 0.8176 - val_auc: 0.9395\n",
      "Epoch 3/200\n",
      "90941/90941 [==============================] - 19s 204us/step - loss: 0.2008 - accuracy: 0.8565 - precision: 0.8547 - recall: 0.8420 - auc: 0.9468 - val_loss: 0.1315 - val_accuracy: 0.8653 - val_precision: 0.8590 - val_recall: 0.8589 - val_auc: 0.9521\n",
      "Epoch 4/200\n",
      "90941/90941 [==============================] - 19s 205us/step - loss: 0.1966 - accuracy: 0.8711 - precision: 0.8626 - recall: 0.8697 - auc: 0.9555 - val_loss: 0.1643 - val_accuracy: 0.8757 - val_precision: 0.8650 - val_recall: 0.8780 - val_auc: 0.9581\n",
      "Epoch 5/200\n",
      "90941/90941 [==============================] - 18s 203us/step - loss: 0.1928 - accuracy: 0.8793 - precision: 0.8673 - recall: 0.8842 - auc: 0.9599 - val_loss: 0.0895 - val_accuracy: 0.8825 - val_precision: 0.8691 - val_recall: 0.8899 - val_auc: 0.9618\n",
      "Epoch 6/200\n",
      "90941/90941 [==============================] - 18s 202us/step - loss: 0.1905 - accuracy: 0.8852 - precision: 0.8707 - recall: 0.8945 - auc: 0.9632 - val_loss: 0.1574 - val_accuracy: 0.8872 - val_precision: 0.8721 - val_recall: 0.8976 - val_auc: 0.9643\n",
      "Epoch 7/200\n",
      "90941/90941 [==============================] - 18s 199us/step - loss: 0.1889 - accuracy: 0.8888 - precision: 0.8735 - recall: 0.9001 - auc: 0.9652 - val_loss: 0.1287 - val_accuracy: 0.8904 - val_precision: 0.8746 - val_recall: 0.9024 - val_auc: 0.9661\n",
      "Epoch 8/200\n",
      "90941/90941 [==============================] - 18s 201us/step - loss: 0.1868 - accuracy: 0.8918 - precision: 0.8758 - recall: 0.9045 - auc: 0.9668 - val_loss: 0.1546 - val_accuracy: 0.8929 - val_precision: 0.8766 - val_recall: 0.9059 - val_auc: 0.9674\n",
      "Epoch 9/200\n",
      "90941/90941 [==============================] - 18s 200us/step - loss: 0.1854 - accuracy: 0.8939 - precision: 0.8775 - recall: 0.9072 - auc: 0.9679 - val_loss: 0.1649 - val_accuracy: 0.8948 - val_precision: 0.8784 - val_recall: 0.9082 - val_auc: 0.9684\n",
      "Epoch 10/200\n",
      "90941/90941 [==============================] - 18s 199us/step - loss: 0.1842 - accuracy: 0.8956 - precision: 0.8792 - recall: 0.9091 - auc: 0.9688 - val_loss: 0.1315 - val_accuracy: 0.8965 - val_precision: 0.8799 - val_recall: 0.9103 - val_auc: 0.9693\n",
      "Epoch 11/200\n",
      "90941/90941 [==============================] - 18s 201us/step - loss: 0.1828 - accuracy: 0.8973 - precision: 0.8807 - recall: 0.9114 - auc: 0.9697 - val_loss: 0.2036 - val_accuracy: 0.8978 - val_precision: 0.8813 - val_recall: 0.9118 - val_auc: 0.9700808 - recall: 0.9113 - - ETA: 4s - loss: 0.1827 - accuracy: 0.8972 - precision: 0.8808 - rec - ETA: 3s - loss: 0.1826 - accuracy: 0.\n",
      "Epoch 12/200\n",
      "90941/90941 [==============================] - 18s 198us/step - loss: 0.1825 - accuracy: 0.8983 - precision: 0.8819 - recall: 0.9121 - auc: 0.9702 - val_loss: 0.1206 - val_accuracy: 0.8990 - val_precision: 0.8825 - val_recall: 0.9130 - val_auc: 0.9706\n",
      "Epoch 13/200\n",
      "90941/90941 [==============================] - 18s 200us/step - loss: 0.1811 - accuracy: 0.8996 - precision: 0.8831 - recall: 0.9138 - auc: 0.9709 - val_loss: 0.1258 - val_accuracy: 0.9003 - val_precision: 0.8837 - val_recall: 0.9145 - val_auc: 0.9712\n",
      "Epoch 14/200\n",
      "90941/90941 [==============================] - 19s 212us/step - loss: 0.1802 - accuracy: 0.9008 - precision: 0.8843 - recall: 0.9150 - auc: 0.9715 - val_loss: 0.1537 - val_accuracy: 0.9012 - val_precision: 0.8848 - val_recall: 0.9155 - val_auc: 0.9717curacy: 0.9008 - precision: 0.8843 - recall:\n",
      "Epoch 15/200\n",
      "90941/90941 [==============================] - 20s 215us/step - loss: 0.1788 - accuracy: 0.9016 - precision: 0.8852 - recall: 0.9157 - auc: 0.9719 - val_loss: 0.1118 - val_accuracy: 0.9021 - val_precision: 0.8858 - val_recall: 0.9163 - val_auc: 0.97229016 - precision: 0.8852 - recall: 0.9157 - auc: 0.97\n",
      "Epoch 16/200\n",
      "90941/90941 [==============================] - 19s 210us/step - loss: 0.1776 - accuracy: 0.9026 - precision: 0.8863 - recall: 0.9168 - auc: 0.9725 - val_loss: 0.1587 - val_accuracy: 0.9030 - val_precision: 0.8868 - val_recall: 0.9170 - val_auc: 0.9727\n",
      "Epoch 17/200\n",
      "90941/90941 [==============================] - 19s 211us/step - loss: 0.1767 - accuracy: 0.9033 - precision: 0.8872 - recall: 0.9172 - auc: 0.9728 - val_loss: 0.1625 - val_accuracy: 0.9036 - val_precision: 0.8876 - val_recall: 0.9173 - val_auc: 0.9730\n",
      "Epoch 18/200\n",
      "90941/90941 [==============================] - 19s 211us/step - loss: 0.1765 - accuracy: 0.9038 - precision: 0.8881 - recall: 0.9174 - auc: 0.9732 - val_loss: 0.1551 - val_accuracy: 0.9041 - val_precision: 0.8885 - val_recall: 0.9175 - val_auc: 0.9733\n",
      "Epoch 19/200\n",
      "90941/90941 [==============================] - 20s 218us/step - loss: 0.1753 - accuracy: 0.9044 - precision: 0.8889 - recall: 0.9176 - auc: 0.9735 - val_loss: 0.1358 - val_accuracy: 0.9048 - val_precision: 0.8893 - val_recall: 0.9179 - val_auc: 0.9737\n",
      "Epoch 20/200\n",
      "90941/90941 [==============================] - 19s 212us/step - loss: 0.1747 - accuracy: 0.9051 - precision: 0.8897 - recall: 0.9182 - auc: 0.9738 - val_loss: 0.1106 - val_accuracy: 0.9054 - val_precision: 0.8901 - val_recall: 0.9185 - val_auc: 0.9740\n",
      "Epoch 21/200\n",
      "90941/90941 [==============================] - 20s 215us/step - loss: 0.1741 - accuracy: 0.9058 - precision: 0.8905 - recall: 0.9187 - auc: 0.9742 - val_loss: 0.1540 - val_accuracy: 0.9060 - val_precision: 0.8909 - val_recall: 0.9188 - val_auc: 0.9743\n",
      "Epoch 22/200\n",
      "90941/90941 [==============================] - 20s 225us/step - loss: 0.1733 - accuracy: 0.9062 - precision: 0.8913 - recall: 0.9187 - auc: 0.9744 - val_loss: 0.1498 - val_accuracy: 0.9064 - val_precision: 0.8916 - val_recall: 0.9189 - val_auc: 0.9745\n",
      "Epoch 23/200\n",
      "90941/90941 [==============================] - 21s 228us/step - loss: 0.1729 - accuracy: 0.9066 - precision: 0.8920 - recall: 0.9189 - auc: 0.9747 - val_loss: 0.1956 - val_accuracy: 0.9067 - val_precision: 0.8922 - val_recall: 0.9188 - val_auc: 0.9747\n",
      "Epoch 24/200\n",
      "90941/90941 [==============================] - 20s 224us/step - loss: 0.1724 - accuracy: 0.9068 - precision: 0.8925 - recall: 0.9186 - auc: 0.9748 - val_loss: 0.1090 - val_accuracy: 0.9071 - val_precision: 0.8929 - val_recall: 0.9188 - val_auc: 0.9750\n",
      "Epoch 25/200\n",
      "90941/90941 [==============================] - 21s 225us/step - loss: 0.1715 - accuracy: 0.9073 - precision: 0.8932 - recall: 0.9190 - auc: 0.9751 - val_loss: 0.1108 - val_accuracy: 0.9076 - val_precision: 0.8935 - val_recall: 0.9191 - val_auc: 0.9752\n",
      "Epoch 26/200\n",
      "90941/90941 [==============================] - 20s 225us/step - loss: 0.1709 - accuracy: 0.9078 - precision: 0.8938 - recall: 0.9193 - auc: 0.9753 - val_loss: 0.1081 - val_accuracy: 0.9080 - val_precision: 0.8941 - val_recall: 0.9195 - val_auc: 0.9755\n",
      "Epoch 27/200\n",
      "90941/90941 [==============================] - 21s 230us/step - loss: 0.1701 - accuracy: 0.9082 - precision: 0.8944 - recall: 0.9196 - auc: 0.9756 - val_loss: 0.1372 - val_accuracy: 0.9084 - val_precision: 0.8947 - val_recall: 0.9197 - val_auc: 0.9757\n",
      "Epoch 28/200\n",
      "90941/90941 [==============================] - 20s 224us/step - loss: 0.1691 - accuracy: 0.9086 - precision: 0.8950 - recall: 0.9197 - auc: 0.9758 - val_loss: 0.1565 - val_accuracy: 0.9088 - val_precision: 0.8953 - val_recall: 0.9197 - val_auc: 0.9759\n",
      "Epoch 29/200\n",
      "90941/90941 [==============================] - 20s 221us/step - loss: 0.1689 - accuracy: 0.9089 - precision: 0.8955 - recall: 0.9196 - auc: 0.9760 - val_loss: 0.0962 - val_accuracy: 0.9091 - val_precision: 0.8958 - val_recall: 0.9198 - val_auc: 0.9761\n",
      "Epoch 30/200\n"
     ]
    },
    {
     "name": "stdout",
     "output_type": "stream",
     "text": [
      "90941/90941 [==============================] - 19s 211us/step - loss: 0.1690 - accuracy: 0.9093 - precision: 0.8961 - recall: 0.9200 - auc: 0.9762 - val_loss: 0.1751 - val_accuracy: 0.9095 - val_precision: 0.8964 - val_recall: 0.9199 - val_auc: 0.9763precision: 0.8961 - recall: 0.9200 - ETA: 1s - loss: 0.1688 - accuracy: 0.9093 - precision: 0.8961 \n",
      "Epoch 31/200\n",
      "90941/90941 [==============================] - 20s 218us/step - loss: 0.1679 - accuracy: 0.9096 - precision: 0.8966 - recall: 0.9198 - auc: 0.9763 - val_loss: 0.0990 - val_accuracy: 0.9097 - val_precision: 0.8969 - val_recall: 0.9199 - val_auc: 0.9764\n",
      "Epoch 32/200\n",
      "90941/90941 [==============================] - 19s 211us/step - loss: 0.1676 - accuracy: 0.9099 - precision: 0.8971 - recall: 0.9200 - auc: 0.9765 - val_loss: 0.1329 - val_accuracy: 0.9101 - val_precision: 0.8974 - val_recall: 0.9200 - val_auc: 0.9766\n",
      "Epoch 33/200\n",
      "90941/90941 [==============================] - 19s 207us/step - loss: 0.1671 - accuracy: 0.9102 - precision: 0.8977 - recall: 0.9200 - auc: 0.9767 - val_loss: 0.2221 - val_accuracy: 0.9103 - val_precision: 0.8979 - val_recall: 0.9199 - val_auc: 0.9767ll: 0.9200 - auc: 0\n",
      "Epoch 34/200\n",
      "90941/90941 [==============================] - 19s 209us/step - loss: 0.1667 - accuracy: 0.9103 - precision: 0.8981 - recall: 0.9196 - auc: 0.9768 - val_loss: 0.0986 - val_accuracy: 0.9105 - val_precision: 0.8984 - val_recall: 0.9198 - val_auc: 0.9768\n",
      "Epoch 35/200\n",
      "90941/90941 [==============================] - 20s 215us/step - loss: 0.1660 - accuracy: 0.9107 - precision: 0.8986 - recall: 0.9199 - auc: 0.9769 - val_loss: 0.1642 - val_accuracy: 0.9108 - val_precision: 0.8988 - val_recall: 0.9199 - val_auc: 0.9770\n",
      "Epoch 36/200\n",
      "90941/90941 [==============================] - 19s 207us/step - loss: 0.1659 - accuracy: 0.9109 - precision: 0.8991 - recall: 0.9198 - auc: 0.9770 - val_loss: 0.1581 - val_accuracy: 0.9110 - val_precision: 0.8993 - val_recall: 0.9198 - val_auc: 0.9771\n",
      "Epoch 37/200\n",
      "90941/90941 [==============================] - 19s 205us/step - loss: 0.1651 - accuracy: 0.9111 - precision: 0.8995 - recall: 0.9197 - auc: 0.9772 - val_loss: 0.1389 - val_accuracy: 0.9112 - val_precision: 0.8997 - val_recall: 0.9197 - val_auc: 0.9773\n",
      "Epoch 38/200\n",
      "90941/90941 [==============================] - 19s 214us/step - loss: 0.1649 - accuracy: 0.9113 - precision: 0.8999 - recall: 0.9197 - auc: 0.9773 - val_loss: 0.1076 - val_accuracy: 0.9115 - val_precision: 0.9001 - val_recall: 0.9198 - val_auc: 0.9774\n",
      "Epoch 39/200\n",
      "90941/90941 [==============================] - 19s 208us/step - loss: 0.1642 - accuracy: 0.9116 - precision: 0.9003 - recall: 0.9198 - auc: 0.9775 - val_loss: 0.1420 - val_accuracy: 0.9117 - val_precision: 0.9005 - val_recall: 0.9199 - val_auc: 0.9775\n",
      "Epoch 40/200\n",
      "90941/90941 [==============================] - 19s 209us/step - loss: 0.1635 - accuracy: 0.9118 - precision: 0.9007 - recall: 0.9199 - auc: 0.9776 - val_loss: 0.1433 - val_accuracy: 0.9119 - val_precision: 0.9009 - val_recall: 0.9199 - val_auc: 0.9776\n",
      "Epoch 41/200\n",
      "90941/90941 [==============================] - 19s 210us/step - loss: 0.1629 - accuracy: 0.9121 - precision: 0.9011 - recall: 0.9199 - auc: 0.9777 - val_loss: 0.1025 - val_accuracy: 0.9122 - val_precision: 0.9013 - val_recall: 0.9200 - val_auc: 0.9778\n",
      "Epoch 42/200\n",
      "90941/90941 [==============================] - 20s 217us/step - loss: 0.1629 - accuracy: 0.9123 - precision: 0.9015 - recall: 0.9200 - auc: 0.9779 - val_loss: 0.1475 - val_accuracy: 0.9124 - val_precision: 0.9017 - val_recall: 0.9200 - val_auc: 0.9779\n",
      "Epoch 43/200\n",
      "90941/90941 [==============================] - 19s 213us/step - loss: 0.1623 - accuracy: 0.9125 - precision: 0.9019 - recall: 0.9200 - auc: 0.9780 - val_loss: 0.1515 - val_accuracy: 0.9126 - val_precision: 0.9021 - val_recall: 0.9200 - val_auc: 0.9780\n",
      "Epoch 44/200\n",
      "90941/90941 [==============================] - 19s 211us/step - loss: 0.1622 - accuracy: 0.9127 - precision: 0.9023 - recall: 0.9199 - auc: 0.9781 - val_loss: 0.1222 - val_accuracy: 0.9128 - val_precision: 0.9025 - val_recall: 0.9200 - val_auc: 0.9781\n",
      "Epoch 45/200\n",
      "90941/90941 [==============================] - 20s 219us/step - loss: 0.1612 - accuracy: 0.9129 - precision: 0.9027 - recall: 0.9200 - auc: 0.9782 - val_loss: 0.1113 - val_accuracy: 0.9131 - val_precision: 0.9028 - val_recall: 0.9201 - val_auc: 0.9782\n",
      "Epoch 46/200\n",
      "90941/90941 [==============================] - 19s 211us/step - loss: 0.1611 - accuracy: 0.9132 - precision: 0.9030 - recall: 0.9202 - auc: 0.9783 - val_loss: 0.1255 - val_accuracy: 0.9133 - val_precision: 0.9032 - val_recall: 0.9202 - val_auc: 0.9784\n",
      "Epoch 47/200\n",
      "90941/90941 [==============================] - 19s 213us/step - loss: 0.1604 - accuracy: 0.9134 - precision: 0.9034 - recall: 0.9202 - auc: 0.9784 - val_loss: 0.1989 - val_accuracy: 0.9135 - val_precision: 0.9035 - val_recall: 0.9201 - val_auc: 0.9784- precision: 0.9034 - recall: 0.9\n",
      "Epoch 48/200\n",
      "90941/90941 [==============================] - 19s 210us/step - loss: 0.1602 - accuracy: 0.9135 - precision: 0.9037 - recall: 0.9200 - auc: 0.9785 - val_loss: 0.1202 - val_accuracy: 0.9136 - val_precision: 0.9039 - val_recall: 0.9201 - val_auc: 0.9785\n",
      "Epoch 49/200\n",
      "90941/90941 [==============================] - 19s 213us/step - loss: 0.1594 - accuracy: 0.9137 - precision: 0.9040 - recall: 0.9201 - auc: 0.9786 - val_loss: 0.1617 - val_accuracy: 0.9138 - val_precision: 0.9042 - val_recall: 0.9201 - val_auc: 0.9786\n",
      "Epoch 50/200\n",
      "90941/90941 [==============================] - 20s 216us/step - loss: 0.1594 - accuracy: 0.9139 - precision: 0.9044 - recall: 0.9201 - auc: 0.9787 - val_loss: 0.1638 - val_accuracy: 0.9139 - val_precision: 0.9045 - val_recall: 0.9201 - val_auc: 0.9787\n",
      "Epoch 51/200\n",
      "90941/90941 [==============================] - 20s 225us/step - loss: 0.1590 - accuracy: 0.9140 - precision: 0.9047 - recall: 0.9200 - auc: 0.9787 - val_loss: 0.1484 - val_accuracy: 0.9141 - val_precision: 0.9048 - val_recall: 0.9200 - val_auc: 0.9788\n",
      "Epoch 52/200\n",
      "90941/90941 [==============================] - 20s 221us/step - loss: 0.1582 - accuracy: 0.9142 - precision: 0.9050 - recall: 0.9201 - auc: 0.9789 - val_loss: 0.1578 - val_accuracy: 0.9143 - val_precision: 0.9051 - val_recall: 0.9200 - val_auc: 0.9789\n",
      "Epoch 53/200\n",
      "90941/90941 [==============================] - 20s 223us/step - loss: 0.1579 - accuracy: 0.9143 - precision: 0.9053 - recall: 0.9200 - auc: 0.9789 - val_loss: 0.1611 - val_accuracy: 0.9144 - val_precision: 0.9054 - val_recall: 0.9200 - val_auc: 0.9790\n",
      "Epoch 54/200\n",
      "90941/90941 [==============================] - 20s 221us/step - loss: 0.1576 - accuracy: 0.9145 - precision: 0.9055 - recall: 0.9200 - auc: 0.9790 - val_loss: 0.1125 - val_accuracy: 0.9146 - val_precision: 0.9057 - val_recall: 0.9201 - val_auc: 0.9791\n",
      "Epoch 55/200\n",
      "90941/90941 [==============================] - 20s 223us/step - loss: 0.1571 - accuracy: 0.9147 - precision: 0.9058 - recall: 0.9201 - auc: 0.9791 - val_loss: 0.1573 - val_accuracy: 0.9148 - val_precision: 0.9060 - val_recall: 0.9201 - val_auc: 0.9792\n",
      "Epoch 56/200\n",
      "90941/90941 [==============================] - 20s 221us/step - loss: 0.1568 - accuracy: 0.9148 - precision: 0.9061 - recall: 0.9201 - auc: 0.9792 - val_loss: 0.1625 - val_accuracy: 0.9149 - val_precision: 0.9062 - val_recall: 0.9201 - val_auc: 0.9792\n",
      "Epoch 57/200\n",
      "90941/90941 [==============================] - 20s 222us/step - loss: 0.1565 - accuracy: 0.9150 - precision: 0.9064 - recall: 0.9201 - auc: 0.9792 - val_loss: 0.1083 - val_accuracy: 0.9150 - val_precision: 0.9065 - val_recall: 0.9201 - val_auc: 0.9793\n",
      "Epoch 58/200\n",
      "90941/90941 [==============================] - 20s 225us/step - loss: 0.1565 - accuracy: 0.9151 - precision: 0.9066 - recall: 0.9202 - auc: 0.9794 - val_loss: 0.1801 - val_accuracy: 0.9152 - val_precision: 0.9068 - val_recall: 0.9201 - val_auc: 0.9794\n",
      "Epoch 59/200\n",
      "90941/90941 [==============================] - 20s 219us/step - loss: 0.1555 - accuracy: 0.9152 - precision: 0.9069 - recall: 0.9201 - auc: 0.9794 - val_loss: 0.1804 - val_accuracy: 0.9153 - val_precision: 0.9070 - val_recall: 0.9201 - val_auc: 0.9795\n",
      "Epoch 60/200\n"
     ]
    },
    {
     "name": "stdout",
     "output_type": "stream",
     "text": [
      "90941/90941 [==============================] - 20s 216us/step - loss: 0.1547 - accuracy: 0.9154 - precision: 0.9071 - recall: 0.9200 - auc: 0.9795 - val_loss: 0.1475 - val_accuracy: 0.9154 - val_precision: 0.9073 - val_recall: 0.9200 - val_auc: 0.9795\n",
      "Epoch 61/200\n",
      "90941/90941 [==============================] - 20s 217us/step - loss: 0.1549 - accuracy: 0.9155 - precision: 0.9074 - recall: 0.9200 - auc: 0.9796 - val_loss: 0.1816 - val_accuracy: 0.9155 - val_precision: 0.9075 - val_recall: 0.9200 - val_auc: 0.9796\n",
      "Epoch 62/200\n",
      "90941/90941 [==============================] - 20s 217us/step - loss: 0.1546 - accuracy: 0.9156 - precision: 0.9076 - recall: 0.9200 - auc: 0.9796 - val_loss: 0.1643 - val_accuracy: 0.9157 - val_precision: 0.9078 - val_recall: 0.9200 - val_auc: 0.9797\n",
      "Epoch 63/200\n",
      "90941/90941 [==============================] - 20s 217us/step - loss: 0.1539 - accuracy: 0.9157 - precision: 0.9079 - recall: 0.9200 - auc: 0.9797 - val_loss: 0.1006 - val_accuracy: 0.9158 - val_precision: 0.9080 - val_recall: 0.9200 - val_auc: 0.9798\n",
      "Epoch 64/200\n",
      "90941/90941 [==============================] - 20s 217us/step - loss: 0.1529 - accuracy: 0.9159 - precision: 0.9081 - recall: 0.9201 - auc: 0.9798 - val_loss: 0.1342 - val_accuracy: 0.9160 - val_precision: 0.9083 - val_recall: 0.9201 - val_auc: 0.9798\n",
      "Epoch 65/200\n",
      "90941/90941 [==============================] - 19s 214us/step - loss: 0.1534 - accuracy: 0.9161 - precision: 0.9084 - recall: 0.9202 - auc: 0.9799 - val_loss: 0.1471 - val_accuracy: 0.9161 - val_precision: 0.9085 - val_recall: 0.9202 - val_auc: 0.9799\n",
      "Epoch 66/200\n",
      "90941/90941 [==============================] - 19s 213us/step - loss: 0.1529 - accuracy: 0.9162 - precision: 0.9086 - recall: 0.9202 - auc: 0.9800 - val_loss: 0.2132 - val_accuracy: 0.9163 - val_precision: 0.9087 - val_recall: 0.9201 - val_auc: 0.9800\n",
      "Epoch 67/200\n",
      "90941/90941 [==============================] - 19s 211us/step - loss: 0.1520 - accuracy: 0.9163 - precision: 0.9088 - recall: 0.9201 - auc: 0.9800 - val_loss: 0.2030 - val_accuracy: 0.9163 - val_precision: 0.9090 - val_recall: 0.9201 - val_auc: 0.9800\n",
      "Epoch 68/200\n",
      "90941/90941 [==============================] - 19s 213us/step - loss: 0.1518 - accuracy: 0.9164 - precision: 0.9091 - recall: 0.9200 - auc: 0.9801 - val_loss: 0.1292 - val_accuracy: 0.9165 - val_precision: 0.9092 - val_recall: 0.9201 - val_auc: 0.9801\n",
      "Epoch 69/200\n",
      "90941/90941 [==============================] - 19s 214us/step - loss: 0.1513 - accuracy: 0.9165 - precision: 0.9093 - recall: 0.9201 - auc: 0.9801 - val_loss: 0.1981 - val_accuracy: 0.9166 - val_precision: 0.9094 - val_recall: 0.9201 - val_auc: 0.9802\n",
      "Epoch 70/200\n",
      "90941/90941 [==============================] - 21s 226us/step - loss: 0.1505 - accuracy: 0.9166 - precision: 0.9095 - recall: 0.9200 - auc: 0.9802 - val_loss: 0.1493 - val_accuracy: 0.9167 - val_precision: 0.9096 - val_recall: 0.9201 - val_auc: 0.9802\n",
      "Epoch 71/200\n",
      "90941/90941 [==============================] - 20s 224us/step - loss: 0.1511 - accuracy: 0.9168 - precision: 0.9097 - recall: 0.9201 - auc: 0.9802 - val_loss: 0.1599 - val_accuracy: 0.9168 - val_precision: 0.9098 - val_recall: 0.9201 - val_auc: 0.9803\n",
      "Epoch 72/200\n",
      "90941/90941 [==============================] - 20s 218us/step - loss: 0.1503 - accuracy: 0.9169 - precision: 0.9099 - recall: 0.9201 - auc: 0.9803 - val_loss: 0.3225 - val_accuracy: 0.9169 - val_precision: 0.9100 - val_recall: 0.9200 - val_auc: 0.9803\n",
      "Epoch 73/200\n",
      "90941/90941 [==============================] - 20s 219us/step - loss: 0.1498 - accuracy: 0.9169 - precision: 0.9101 - recall: 0.9198 - auc: 0.9803 - val_loss: 0.1457 - val_accuracy: 0.9169 - val_precision: 0.9102 - val_recall: 0.9199 - val_auc: 0.9804\n",
      "Epoch 74/200\n",
      "90941/90941 [==============================] - 20s 216us/step - loss: 0.1495 - accuracy: 0.9170 - precision: 0.9103 - recall: 0.9199 - auc: 0.9804 - val_loss: 0.1826 - val_accuracy: 0.9170 - val_precision: 0.9104 - val_recall: 0.9199 - val_auc: 0.9804\n",
      "Epoch 75/200\n",
      "90941/90941 [==============================] - 20s 221us/step - loss: 0.1493 - accuracy: 0.9171 - precision: 0.9105 - recall: 0.9198 - auc: 0.9805 - val_loss: 0.1851 - val_accuracy: 0.9171 - val_precision: 0.9106 - val_recall: 0.9198 - val_auc: 0.98052s - loss: 0.1485 - accuracy: 0.9171 - precisio\n",
      "Epoch 76/200\n",
      "90941/90941 [==============================] - 20s 223us/step - loss: 0.1485 - accuracy: 0.9172 - precision: 0.9107 - recall: 0.9198 - auc: 0.9805 - val_loss: 0.1755 - val_accuracy: 0.9172 - val_precision: 0.9108 - val_recall: 0.9198 - val_auc: 0.9805\n",
      "Epoch 77/200\n",
      "90941/90941 [==============================] - 20s 224us/step - loss: 0.1480 - accuracy: 0.9173 - precision: 0.9109 - recall: 0.9198 - auc: 0.9806 - val_loss: 0.1289 - val_accuracy: 0.9174 - val_precision: 0.9110 - val_recall: 0.9199 - val_auc: 0.9806\n",
      "Epoch 78/200\n",
      "90941/90941 [==============================] - 20s 222us/step - loss: 0.1482 - accuracy: 0.9174 - precision: 0.9111 - recall: 0.9199 - auc: 0.9806 - val_loss: 0.1667 - val_accuracy: 0.9175 - val_precision: 0.9112 - val_recall: 0.9199 - val_auc: 0.9807\n",
      "Epoch 79/200\n",
      "90941/90941 [==============================] - 20s 224us/step - loss: 0.1477 - accuracy: 0.9176 - precision: 0.9113 - recall: 0.9199 - auc: 0.9807 - val_loss: 0.1290 - val_accuracy: 0.9176 - val_precision: 0.9114 - val_recall: 0.9200 - val_auc: 0.9807\n",
      "Epoch 80/200\n",
      "90941/90941 [==============================] - 20s 218us/step - loss: 0.1465 - accuracy: 0.9177 - precision: 0.9115 - recall: 0.9200 - auc: 0.9808 - val_loss: 0.1351 - val_accuracy: 0.9178 - val_precision: 0.9116 - val_recall: 0.9201 - val_auc: 0.9808\n",
      "Epoch 81/200\n",
      "90941/90941 [==============================] - 18s 198us/step - loss: 0.1467 - accuracy: 0.9179 - precision: 0.9117 - recall: 0.9201 - auc: 0.9808 - val_loss: 0.2087 - val_accuracy: 0.9179 - val_precision: 0.9118 - val_recall: 0.9201 - val_auc: 0.9809\n",
      "Epoch 82/200\n",
      "90941/90941 [==============================] - 18s 193us/step - loss: 0.1456 - accuracy: 0.9179 - precision: 0.9119 - recall: 0.9201 - auc: 0.9809 - val_loss: 0.1528 - val_accuracy: 0.9180 - val_precision: 0.9120 - val_recall: 0.9201 - val_auc: 0.9809\n",
      "Epoch 83/200\n",
      "90941/90941 [==============================] - 18s 203us/step - loss: 0.1456 - accuracy: 0.9181 - precision: 0.9121 - recall: 0.9201 - auc: 0.9809 - val_loss: 0.1317 - val_accuracy: 0.9181 - val_precision: 0.9122 - val_recall: 0.9202 - val_auc: 0.9810\n",
      "Epoch 84/200\n",
      "90941/90941 [==============================] - 17s 192us/step - loss: 0.1452 - accuracy: 0.9182 - precision: 0.9123 - recall: 0.9202 - auc: 0.9810 - val_loss: 0.2078 - val_accuracy: 0.9182 - val_precision: 0.9124 - val_recall: 0.9202 - val_auc: 0.9810\n",
      "Epoch 85/200\n",
      "90941/90941 [==============================] - 17s 186us/step - loss: 0.1449 - accuracy: 0.9183 - precision: 0.9125 - recall: 0.9202 - auc: 0.9811 - val_loss: 0.1354 - val_accuracy: 0.9184 - val_precision: 0.9126 - val_recall: 0.9203 - val_auc: 0.9811\n",
      "Epoch 86/200\n",
      "90941/90941 [==============================] - 15s 169us/step - loss: 0.1445 - accuracy: 0.9184 - precision: 0.9126 - recall: 0.9203 - auc: 0.9811 - val_loss: 0.1119 - val_accuracy: 0.9185 - val_precision: 0.9127 - val_recall: 0.9204 - val_auc: 0.9812\n",
      "Epoch 87/200\n",
      "90941/90941 [==============================] - 15s 163us/step - loss: 0.1430 - accuracy: 0.9186 - precision: 0.9128 - recall: 0.9204 - auc: 0.9812 - val_loss: 0.1838 - val_accuracy: 0.9186 - val_precision: 0.9130 - val_recall: 0.9204 - val_auc: 0.9812\n",
      "Epoch 88/200\n",
      "90941/90941 [==============================] - 15s 166us/step - loss: 0.1430 - accuracy: 0.9187 - precision: 0.9131 - recall: 0.9204 - auc: 0.9813 - val_loss: 0.1337 - val_accuracy: 0.9188 - val_precision: 0.9131 - val_recall: 0.9205 - val_auc: 0.9813\n",
      "Epoch 89/200\n",
      "90941/90941 [==============================] - 15s 161us/step - loss: 0.1432 - accuracy: 0.9189 - precision: 0.9133 - recall: 0.9205 - auc: 0.9813 - val_loss: 0.1756 - val_accuracy: 0.9189 - val_precision: 0.9133 - val_recall: 0.9206 - val_auc: 0.9814\n",
      "Epoch 90/200\n"
     ]
    },
    {
     "name": "stdout",
     "output_type": "stream",
     "text": [
      "90941/90941 [==============================] - 14s 159us/step - loss: 0.1422 - accuracy: 0.9190 - precision: 0.9134 - recall: 0.9206 - auc: 0.9814 - val_loss: 0.2046 - val_accuracy: 0.9190 - val_precision: 0.9135 - val_recall: 0.9206 - val_auc: 0.9814\n",
      "Epoch 91/200\n",
      "90941/90941 [==============================] - 14s 159us/step - loss: 0.1420 - accuracy: 0.9190 - precision: 0.9136 - recall: 0.9206 - auc: 0.9814 - val_loss: 0.1137 - val_accuracy: 0.9191 - val_precision: 0.9137 - val_recall: 0.9206 - val_auc: 0.9815\n",
      "Epoch 92/200\n",
      "90941/90941 [==============================] - 15s 161us/step - loss: 0.1420 - accuracy: 0.9192 - precision: 0.9138 - recall: 0.9207 - auc: 0.9815 - val_loss: 0.1405 - val_accuracy: 0.9193 - val_precision: 0.9139 - val_recall: 0.9207 - val_auc: 0.9815\n",
      "Epoch 93/200\n",
      "90941/90941 [==============================] - 15s 164us/step - loss: 0.1407 - accuracy: 0.9194 - precision: 0.9140 - recall: 0.9208 - auc: 0.9816 - val_loss: 0.2009 - val_accuracy: 0.9194 - val_precision: 0.9141 - val_recall: 0.9208 - val_auc: 0.9816\n",
      "Epoch 94/200\n",
      "90941/90941 [==============================] - 15s 162us/step - loss: 0.1405 - accuracy: 0.9194 - precision: 0.9142 - recall: 0.9208 - auc: 0.9816 - val_loss: 0.1420 - val_accuracy: 0.9195 - val_precision: 0.9142 - val_recall: 0.9208 - val_auc: 0.9816\n",
      "Epoch 95/200\n",
      "90941/90941 [==============================] - 14s 157us/step - loss: 0.1399 - accuracy: 0.9196 - precision: 0.9143 - recall: 0.9209 - auc: 0.9817 - val_loss: 0.1230 - val_accuracy: 0.9197 - val_precision: 0.9144 - val_recall: 0.9210 - val_auc: 0.9817\n",
      "Epoch 96/200\n",
      "90941/90941 [==============================] - 15s 163us/step - loss: 0.1398 - accuracy: 0.9197 - precision: 0.9145 - recall: 0.9210 - auc: 0.9818 - val_loss: 0.1556 - val_accuracy: 0.9198 - val_precision: 0.9146 - val_recall: 0.9210 - val_auc: 0.9818\n",
      "Epoch 97/200\n",
      "90941/90941 [==============================] - 14s 158us/step - loss: 0.1389 - accuracy: 0.9199 - precision: 0.9147 - recall: 0.9211 - auc: 0.9818 - val_loss: 0.1264 - val_accuracy: 0.9199 - val_precision: 0.9148 - val_recall: 0.9211 - val_auc: 0.9818\n",
      "Epoch 98/200\n",
      "90941/90941 [==============================] - 15s 163us/step - loss: 0.1402 - accuracy: 0.9200 - precision: 0.9149 - recall: 0.9212 - auc: 0.9819 - val_loss: 0.1049 - val_accuracy: 0.9201 - val_precision: 0.9150 - val_recall: 0.9213 - val_auc: 0.9819\n",
      "Epoch 99/200\n",
      "90941/90941 [==============================] - 15s 162us/step - loss: 0.1411 - accuracy: 0.9202 - precision: 0.9151 - recall: 0.9213 - auc: 0.9819 - val_loss: 0.1271 - val_accuracy: 0.9202 - val_precision: 0.9151 - val_recall: 0.9214 - val_auc: 0.9820\n",
      "Epoch 100/200\n",
      "90941/90941 [==============================] - 14s 155us/step - loss: 0.1404 - accuracy: 0.9203 - precision: 0.9152 - recall: 0.9214 - auc: 0.9820 - val_loss: 0.1816 - val_accuracy: 0.9203 - val_precision: 0.9153 - val_recall: 0.9214 - val_auc: 0.9820\n",
      "Epoch 101/200\n",
      "90941/90941 [==============================] - 14s 157us/step - loss: 0.1381 - accuracy: 0.9204 - precision: 0.9154 - recall: 0.9214 - auc: 0.9820 - val_loss: 0.1706 - val_accuracy: 0.9204 - val_precision: 0.9155 - val_recall: 0.9215 - val_auc: 0.9821\n",
      "Epoch 102/200\n",
      "90941/90941 [==============================] - 14s 158us/step - loss: 0.1376 - accuracy: 0.9205 - precision: 0.9155 - recall: 0.9215 - auc: 0.9821 - val_loss: 0.1818 - val_accuracy: 0.9205 - val_precision: 0.9156 - val_recall: 0.9215 - val_auc: 0.9821\n",
      "Epoch 103/200\n",
      "90941/90941 [==============================] - 14s 155us/step - loss: 0.1372 - accuracy: 0.9206 - precision: 0.9157 - recall: 0.9215 - auc: 0.9821 - val_loss: 0.1625 - val_accuracy: 0.9206 - val_precision: 0.9158 - val_recall: 0.9215 - val_auc: 0.9822\n",
      "Epoch 104/200\n",
      "90941/90941 [==============================] - 14s 159us/step - loss: 0.1365 - accuracy: 0.9207 - precision: 0.9159 - recall: 0.9215 - auc: 0.9822 - val_loss: 0.1981 - val_accuracy: 0.9207 - val_precision: 0.9160 - val_recall: 0.9216 - val_auc: 0.9822\n",
      "Epoch 105/200\n",
      "90941/90941 [==============================] - 15s 169us/step - loss: 0.1357 - accuracy: 0.9208 - precision: 0.9161 - recall: 0.9216 - auc: 0.9822 - val_loss: 0.1814 - val_accuracy: 0.9209 - val_precision: 0.9161 - val_recall: 0.9216 - val_auc: 0.9823\n",
      "Epoch 106/200\n",
      "90941/90941 [==============================] - 15s 163us/step - loss: 0.1351 - accuracy: 0.9209 - precision: 0.9162 - recall: 0.9216 - auc: 0.9823 - val_loss: 0.1585 - val_accuracy: 0.9210 - val_precision: 0.9163 - val_recall: 0.9216 - val_auc: 0.9823\n",
      "Epoch 107/200\n",
      "90941/90941 [==============================] - 14s 155us/step - loss: 0.1346 - accuracy: 0.9210 - precision: 0.9164 - recall: 0.9217 - auc: 0.9823 - val_loss: 0.1932 - val_accuracy: 0.9211 - val_precision: 0.9165 - val_recall: 0.9217 - val_auc: 0.9824\n",
      "Epoch 108/200\n",
      "90941/90941 [==============================] - 14s 156us/step - loss: 0.1343 - accuracy: 0.9211 - precision: 0.9166 - recall: 0.9217 - auc: 0.9824 - val_loss: 0.1049 - val_accuracy: 0.9212 - val_precision: 0.9166 - val_recall: 0.9218 - val_auc: 0.9824\n",
      "Epoch 109/200\n",
      "90941/90941 [==============================] - 14s 158us/step - loss: 0.1342 - accuracy: 0.9213 - precision: 0.9167 - recall: 0.9219 - auc: 0.9824 - val_loss: 0.1213 - val_accuracy: 0.9214 - val_precision: 0.9168 - val_recall: 0.9219 - val_auc: 0.9825\n",
      "Epoch 110/200\n",
      "90941/90941 [==============================] - 20s 221us/step - loss: 0.1336 - accuracy: 0.9214 - precision: 0.9169 - recall: 0.9220 - auc: 0.9825 - val_loss: 0.2628 - val_accuracy: 0.9215 - val_precision: 0.9170 - val_recall: 0.9220 - val_auc: 0.9825\n",
      "Epoch 111/200\n",
      "90941/90941 [==============================] - 20s 223us/step - loss: 0.1328 - accuracy: 0.9215 - precision: 0.9171 - recall: 0.9219 - auc: 0.9825 - val_loss: 0.1198 - val_accuracy: 0.9216 - val_precision: 0.9172 - val_recall: 0.9220 - val_auc: 0.9826\n",
      "Epoch 112/200\n",
      "90941/90941 [==============================] - 20s 220us/step - loss: 0.1330 - accuracy: 0.9216 - precision: 0.9172 - recall: 0.9221 - auc: 0.9826 - val_loss: 0.1845 - val_accuracy: 0.9217 - val_precision: 0.9173 - val_recall: 0.9221 - val_auc: 0.9826\n",
      "Epoch 113/200\n",
      "90941/90941 [==============================] - 20s 219us/step - loss: 0.1325 - accuracy: 0.9217 - precision: 0.9174 - recall: 0.9221 - auc: 0.9827 - val_loss: 0.1983 - val_accuracy: 0.9218 - val_precision: 0.9175 - val_recall: 0.9221 - val_auc: 0.9827\n",
      "Epoch 114/200\n",
      "90941/90941 [==============================] - 20s 220us/step - loss: 0.1313 - accuracy: 0.9219 - precision: 0.9176 - recall: 0.9221 - auc: 0.9827 - val_loss: 0.1299 - val_accuracy: 0.9219 - val_precision: 0.9176 - val_recall: 0.9222 - val_auc: 0.9827\n",
      "Epoch 115/200\n",
      "90941/90941 [==============================] - 20s 219us/step - loss: 0.1309 - accuracy: 0.9220 - precision: 0.9177 - recall: 0.9222 - auc: 0.9828 - val_loss: 0.1849 - val_accuracy: 0.9220 - val_precision: 0.9178 - val_recall: 0.9223 - val_auc: 0.9828\n",
      "Epoch 116/200\n",
      "90941/90941 [==============================] - 20s 218us/step - loss: 0.1306 - accuracy: 0.9221 - precision: 0.9179 - recall: 0.9222 - auc: 0.9828 - val_loss: 0.1511 - val_accuracy: 0.9221 - val_precision: 0.9180 - val_recall: 0.9223 - val_auc: 0.9828\n",
      "Epoch 117/200\n",
      "90941/90941 [==============================] - 20s 222us/step - loss: 0.1304 - accuracy: 0.9222 - precision: 0.9181 - recall: 0.9224 - auc: 0.9829 - val_loss: 0.2077 - val_accuracy: 0.9223 - val_precision: 0.9181 - val_recall: 0.9224 - val_auc: 0.9829\n",
      "Epoch 118/200\n",
      "90941/90941 [==============================] - 20s 219us/step - loss: 0.1290 - accuracy: 0.9223 - precision: 0.9182 - recall: 0.9224 - auc: 0.9829 - val_loss: 0.1464 - val_accuracy: 0.9224 - val_precision: 0.9183 - val_recall: 0.9224 - val_auc: 0.9829\n",
      "Epoch 119/200\n",
      "90941/90941 [==============================] - 21s 235us/step - loss: 0.1298 - accuracy: 0.9224 - precision: 0.9184 - recall: 0.9225 - auc: 0.9830 - val_loss: 0.1931 - val_accuracy: 0.9225 - val_precision: 0.9185 - val_recall: 0.9225 - val_auc: 0.9830\n",
      "Epoch 120/200\n"
     ]
    },
    {
     "name": "stdout",
     "output_type": "stream",
     "text": [
      "90941/90941 [==============================] - 22s 238us/step - loss: 0.1286 - accuracy: 0.9225 - precision: 0.9186 - recall: 0.9225 - auc: 0.9830 - val_loss: 0.1364 - val_accuracy: 0.9226 - val_precision: 0.9186 - val_recall: 0.9226 - val_auc: 0.9831\n",
      "Epoch 121/200\n",
      "90941/90941 [==============================] - 20s 225us/step - loss: 0.1285 - accuracy: 0.9227 - precision: 0.9187 - recall: 0.9226 - auc: 0.9831 - val_loss: 0.1606 - val_accuracy: 0.9227 - val_precision: 0.9188 - val_recall: 0.9227 - val_auc: 0.9831\n",
      "Epoch 122/200\n",
      "90941/90941 [==============================] - 21s 226us/step - loss: 0.1276 - accuracy: 0.9228 - precision: 0.9189 - recall: 0.9227 - auc: 0.9831 - val_loss: 0.1538 - val_accuracy: 0.9229 - val_precision: 0.9189 - val_recall: 0.9228 - val_auc: 0.9832\n",
      "Epoch 123/200\n",
      "90941/90941 [==============================] - 20s 220us/step - loss: 0.1273 - accuracy: 0.9229 - precision: 0.9190 - recall: 0.9228 - auc: 0.9832 - val_loss: 0.1152 - val_accuracy: 0.9230 - val_precision: 0.9191 - val_recall: 0.9229 - val_auc: 0.9832\n",
      "Epoch 124/200\n",
      "90941/90941 [==============================] - 20s 217us/step - loss: 0.1272 - accuracy: 0.9231 - precision: 0.9192 - recall: 0.9229 - auc: 0.9833 - val_loss: 0.1431 - val_accuracy: 0.9231 - val_precision: 0.9192 - val_recall: 0.9230 - val_auc: 0.9833cision: 0.9\n",
      "Epoch 125/200\n",
      "90941/90941 [==============================] - 19s 211us/step - loss: 0.1268 - accuracy: 0.9232 - precision: 0.9193 - recall: 0.9230 - auc: 0.9833 - val_loss: 0.1955 - val_accuracy: 0.9232 - val_precision: 0.9194 - val_recall: 0.9230 - val_auc: 0.9833\n",
      "Epoch 126/200\n",
      "90941/90941 [==============================] - 20s 222us/step - loss: 0.1253 - accuracy: 0.9233 - precision: 0.9195 - recall: 0.9230 - auc: 0.9834 - val_loss: 0.2174 - val_accuracy: 0.9233 - val_precision: 0.9196 - val_recall: 0.9231 - val_auc: 0.9834\n",
      "Epoch 127/200\n",
      "90941/90941 [==============================] - 20s 216us/step - loss: 0.1255 - accuracy: 0.9234 - precision: 0.9196 - recall: 0.9231 - auc: 0.9834 - val_loss: 0.2330 - val_accuracy: 0.9234 - val_precision: 0.9197 - val_recall: 0.9231 - val_auc: 0.9834\n",
      "Epoch 128/200\n",
      "90941/90941 [==============================] - 20s 221us/step - loss: 0.1247 - accuracy: 0.9235 - precision: 0.9198 - recall: 0.9231 - auc: 0.9834 - val_loss: 0.1211 - val_accuracy: 0.9235 - val_precision: 0.9199 - val_recall: 0.9232 - val_auc: 0.9835\n",
      "Epoch 129/200\n",
      "90941/90941 [==============================] - 21s 227us/step - loss: 0.1252 - accuracy: 0.9236 - precision: 0.9200 - recall: 0.9232 - auc: 0.9835 - val_loss: 0.1969 - val_accuracy: 0.9237 - val_precision: 0.9200 - val_recall: 0.9233 - val_auc: 0.9835\n",
      "Epoch 130/200\n",
      "90941/90941 [==============================] - 21s 229us/step - loss: 0.1236 - accuracy: 0.9237 - precision: 0.9201 - recall: 0.9233 - auc: 0.9835 - val_loss: 0.2019 - val_accuracy: 0.9238 - val_precision: 0.9202 - val_recall: 0.9233 - val_auc: 0.9836\n",
      "Epoch 131/200\n",
      "90941/90941 [==============================] - 21s 232us/step - loss: 0.1226 - accuracy: 0.9238 - precision: 0.9203 - recall: 0.9233 - auc: 0.9836 - val_loss: 0.1867 - val_accuracy: 0.9239 - val_precision: 0.9203 - val_recall: 0.9234 - val_auc: 0.9836\n",
      "Epoch 132/200\n",
      "90941/90941 [==============================] - 21s 230us/step - loss: 0.1222 - accuracy: 0.9239 - precision: 0.9204 - recall: 0.9234 - auc: 0.9836 - val_loss: 0.1351 - val_accuracy: 0.9240 - val_precision: 0.9205 - val_recall: 0.9235 - val_auc: 0.9837\n",
      "Epoch 133/200\n",
      "90941/90941 [==============================] - 21s 226us/step - loss: 0.1222 - accuracy: 0.9241 - precision: 0.9206 - recall: 0.9235 - auc: 0.9837 - val_loss: 0.2208 - val_accuracy: 0.9241 - val_precision: 0.9206 - val_recall: 0.9236 - val_auc: 0.9837\n",
      "Epoch 134/200\n",
      "90941/90941 [==============================] - 21s 232us/step - loss: 0.1207 - accuracy: 0.9242 - precision: 0.9207 - recall: 0.9236 - auc: 0.9837 - val_loss: 0.1419 - val_accuracy: 0.9242 - val_precision: 0.9208 - val_recall: 0.9236 - val_auc: 0.9838\n",
      "Epoch 135/200\n",
      "90941/90941 [==============================] - 21s 229us/step - loss: 0.1208 - accuracy: 0.9243 - precision: 0.9209 - recall: 0.9237 - auc: 0.9838 - val_loss: 0.1313 - val_accuracy: 0.9244 - val_precision: 0.9210 - val_recall: 0.9237 - val_auc: 0.9838\n",
      "Epoch 136/200\n",
      "90941/90941 [==============================] - 20s 217us/step - loss: 0.1206 - accuracy: 0.9244 - precision: 0.9211 - recall: 0.9238 - auc: 0.9839 - val_loss: 0.3065 - val_accuracy: 0.9245 - val_precision: 0.9211 - val_recall: 0.9238 - val_auc: 0.98394 - accuracy: 0.9244 - precision: 0.9211 - recall: 0.9238 - auc: 0.\n",
      "Epoch 137/200\n",
      "90941/90941 [==============================] - 20s 224us/step - loss: 0.1196 - accuracy: 0.9245 - precision: 0.9212 - recall: 0.9238 - auc: 0.9839 - val_loss: 0.2416 - val_accuracy: 0.9245 - val_precision: 0.9213 - val_recall: 0.9238 - val_auc: 0.9839\n",
      "Epoch 138/200\n",
      "90941/90941 [==============================] - 20s 220us/step - loss: 0.1201 - accuracy: 0.9246 - precision: 0.9214 - recall: 0.9238 - auc: 0.9839 - val_loss: 0.1864 - val_accuracy: 0.9246 - val_precision: 0.9214 - val_recall: 0.9238 - val_auc: 0.9839\n",
      "Epoch 139/200\n",
      "90941/90941 [==============================] - 20s 215us/step - loss: 0.1201 - accuracy: 0.9247 - precision: 0.9215 - recall: 0.9239 - auc: 0.9840 - val_loss: 0.2562 - val_accuracy: 0.9247 - val_precision: 0.9216 - val_recall: 0.9239 - val_auc: 0.9840.9247 - precision: 0.9215 - r\n",
      "Epoch 140/200\n",
      "90941/90941 [==============================] - 19s 214us/step - loss: 0.1186 - accuracy: 0.9248 - precision: 0.9216 - recall: 0.9239 - auc: 0.9840 - val_loss: 0.2739 - val_accuracy: 0.9248 - val_precision: 0.9217 - val_recall: 0.9239 - val_auc: 0.9840\n",
      "Epoch 141/200\n",
      "90941/90941 [==============================] - 21s 230us/step - loss: 0.1176 - accuracy: 0.9249 - precision: 0.9218 - recall: 0.9239 - auc: 0.9841 - val_loss: 0.1953 - val_accuracy: 0.9249 - val_precision: 0.9219 - val_recall: 0.9239 - val_auc: 0.9841\n",
      "Epoch 142/200\n",
      "90941/90941 [==============================] - 19s 212us/step - loss: 0.1169 - accuracy: 0.9250 - precision: 0.9219 - recall: 0.9239 - auc: 0.9841 - val_loss: 0.1865 - val_accuracy: 0.9250 - val_precision: 0.9220 - val_recall: 0.9240 - val_auc: 0.9841\n",
      "Epoch 143/200\n",
      "90941/90941 [==============================] - 20s 219us/step - loss: 0.1187 - accuracy: 0.9251 - precision: 0.9221 - recall: 0.9240 - auc: 0.9841 - val_loss: 0.1978 - val_accuracy: 0.9252 - val_precision: 0.9222 - val_recall: 0.9241 - val_auc: 0.9842\n",
      "Epoch 144/200\n",
      "90941/90941 [==============================] - 21s 228us/step - loss: 0.1156 - accuracy: 0.9252 - precision: 0.9222 - recall: 0.9241 - auc: 0.9842 - val_loss: 0.1772 - val_accuracy: 0.9253 - val_precision: 0.9223 - val_recall: 0.9241 - val_auc: 0.9842\n",
      "Epoch 145/200\n",
      "90941/90941 [==============================] - 21s 228us/step - loss: 0.1160 - accuracy: 0.9253 - precision: 0.9224 - recall: 0.9242 - auc: 0.9842 - val_loss: 0.2166 - val_accuracy: 0.9254 - val_precision: 0.9225 - val_recall: 0.9242 - val_auc: 0.9843\n",
      "Epoch 146/200\n",
      "90941/90941 [==============================] - 21s 232us/step - loss: 0.1150 - accuracy: 0.9254 - precision: 0.9226 - recall: 0.9243 - auc: 0.9843 - val_loss: 0.2123 - val_accuracy: 0.9255 - val_precision: 0.9226 - val_recall: 0.9243 - val_auc: 0.9843.9254 - precisio\n",
      "Epoch 147/200\n",
      "90941/90941 [==============================] - 21s 226us/step - loss: 0.1143 - accuracy: 0.9255 - precision: 0.9227 - recall: 0.9243 - auc: 0.9843 - val_loss: 0.2429 - val_accuracy: 0.9256 - val_precision: 0.9228 - val_recall: 0.9243 - val_auc: 0.9844\n",
      "Epoch 148/200\n",
      "90941/90941 [==============================] - 21s 229us/step - loss: 0.1146 - accuracy: 0.9256 - precision: 0.9229 - recall: 0.9243 - auc: 0.9844 - val_loss: 0.1300 - val_accuracy: 0.9257 - val_precision: 0.9229 - val_recall: 0.9244 - val_auc: 0.9844\n",
      "Epoch 149/200\n",
      "90941/90941 [==============================] - 19s 214us/step - loss: 0.1134 - accuracy: 0.9258 - precision: 0.9230 - recall: 0.9245 - auc: 0.9844 - val_loss: 0.1516 - val_accuracy: 0.9258 - val_precision: 0.9231 - val_recall: 0.9245 - val_auc: 0.9845\n",
      "Epoch 150/200\n"
     ]
    },
    {
     "name": "stdout",
     "output_type": "stream",
     "text": [
      "90941/90941 [==============================] - 20s 222us/step - loss: 0.1143 - accuracy: 0.9259 - precision: 0.9232 - recall: 0.9246 - auc: 0.9845 - val_loss: 0.2216 - val_accuracy: 0.9260 - val_precision: 0.9232 - val_recall: 0.9246 - val_auc: 0.9845\n",
      "Epoch 151/200\n",
      "90941/90941 [==============================] - 21s 228us/step - loss: 0.1114 - accuracy: 0.9260 - precision: 0.9233 - recall: 0.9246 - auc: 0.9845 - val_loss: 0.2714 - val_accuracy: 0.9261 - val_precision: 0.9234 - val_recall: 0.9247 - val_auc: 0.9845\n",
      "Epoch 152/200\n",
      "90941/90941 [==============================] - 20s 225us/step - loss: 0.1112 - accuracy: 0.9261 - precision: 0.9235 - recall: 0.9247 - auc: 0.9846 - val_loss: 0.1801 - val_accuracy: 0.9262 - val_precision: 0.9235 - val_recall: 0.9247 - val_auc: 0.9846\n",
      "Epoch 153/200\n",
      "90941/90941 [==============================] - 20s 223us/step - loss: 0.1114 - accuracy: 0.9262 - precision: 0.9236 - recall: 0.9248 - auc: 0.9846 - val_loss: 0.1601 - val_accuracy: 0.9263 - val_precision: 0.9237 - val_recall: 0.9248 - val_auc: 0.9846\n",
      "Epoch 154/200\n",
      "90941/90941 [==============================] - 20s 218us/step - loss: 0.1098 - accuracy: 0.9264 - precision: 0.9238 - recall: 0.9249 - auc: 0.9847 - val_loss: 0.2227 - val_accuracy: 0.9264 - val_precision: 0.9239 - val_recall: 0.9249 - val_auc: 0.9847\n",
      "Epoch 155/200\n",
      "90941/90941 [==============================] - 20s 217us/step - loss: 0.1109 - accuracy: 0.9265 - precision: 0.9239 - recall: 0.9250 - auc: 0.9847 - val_loss: 0.2205 - val_accuracy: 0.9265 - val_precision: 0.9240 - val_recall: 0.9250 - val_auc: 0.9847\n",
      "Epoch 156/200\n",
      "90941/90941 [==============================] - 20s 218us/step - loss: 0.1108 - accuracy: 0.9266 - precision: 0.9241 - recall: 0.9250 - auc: 0.9847 - val_loss: 0.1448 - val_accuracy: 0.9267 - val_precision: 0.9242 - val_recall: 0.9251 - val_auc: 0.9848\n",
      "Epoch 157/200\n",
      "90941/90941 [==============================] - 20s 219us/step - loss: 0.1098 - accuracy: 0.9267 - precision: 0.9242 - recall: 0.9252 - auc: 0.9848 - val_loss: 0.1624 - val_accuracy: 0.9268 - val_precision: 0.9243 - val_recall: 0.9252 - val_auc: 0.9848\n",
      "Epoch 158/200\n",
      "90941/90941 [==============================] - 20s 220us/step - loss: 0.1078 - accuracy: 0.9269 - precision: 0.9244 - recall: 0.9253 - auc: 0.9849 - val_loss: 0.2021 - val_accuracy: 0.9269 - val_precision: 0.9245 - val_recall: 0.9253 - val_auc: 0.9849\n",
      "Epoch 159/200\n",
      "90941/90941 [==============================] - 20s 219us/step - loss: 0.1076 - accuracy: 0.9270 - precision: 0.9245 - recall: 0.9254 - auc: 0.9849 - val_loss: 0.1535 - val_accuracy: 0.9270 - val_precision: 0.9246 - val_recall: 0.9254 - val_auc: 0.9849\n",
      "Epoch 160/200\n",
      "90941/90941 [==============================] - 20s 219us/step - loss: 0.1085 - accuracy: 0.9271 - precision: 0.9247 - recall: 0.9255 - auc: 0.9850 - val_loss: 0.1503 - val_accuracy: 0.9272 - val_precision: 0.9248 - val_recall: 0.9256 - val_auc: 0.9850recision: 0.9247 \n",
      "Epoch 161/200\n",
      "90941/90941 [==============================] - 20s 224us/step - loss: 0.1075 - accuracy: 0.9272 - precision: 0.9248 - recall: 0.9256 - auc: 0.9850 - val_loss: 0.2054 - val_accuracy: 0.9273 - val_precision: 0.9249 - val_recall: 0.9257 - val_auc: 0.9850\n",
      "Epoch 162/200\n",
      "90941/90941 [==============================] - 20s 220us/step - loss: 0.1066 - accuracy: 0.9274 - precision: 0.9250 - recall: 0.9257 - auc: 0.9851 - val_loss: 0.1387 - val_accuracy: 0.9274 - val_precision: 0.9251 - val_recall: 0.9258 - val_auc: 0.9851\n",
      "Epoch 163/200\n",
      "90941/90941 [==============================] - 20s 220us/step - loss: 0.1053 - accuracy: 0.9275 - precision: 0.9251 - recall: 0.9258 - auc: 0.9851 - val_loss: 0.1971 - val_accuracy: 0.9276 - val_precision: 0.9252 - val_recall: 0.9259 - val_auc: 0.9851\n",
      "Epoch 164/200\n",
      "90941/90941 [==============================] - 20s 219us/step - loss: 0.1047 - accuracy: 0.9276 - precision: 0.9253 - recall: 0.9259 - auc: 0.9852 - val_loss: 0.2716 - val_accuracy: 0.9277 - val_precision: 0.9254 - val_recall: 0.9260 - val_auc: 0.9852\n",
      "Epoch 165/200\n",
      "90941/90941 [==============================] - 21s 226us/step - loss: 0.1052 - accuracy: 0.9277 - precision: 0.9254 - recall: 0.9260 - auc: 0.9852 - val_loss: 0.2418 - val_accuracy: 0.9278 - val_precision: 0.9255 - val_recall: 0.9260 - val_auc: 0.9852 - pre\n",
      "Epoch 166/200\n",
      "90941/90941 [==============================] - 20s 220us/step - loss: 0.1046 - accuracy: 0.9278 - precision: 0.9256 - recall: 0.9261 - auc: 0.9852 - val_loss: 0.2734 - val_accuracy: 0.9279 - val_precision: 0.9257 - val_recall: 0.9261 - val_auc: 0.9853\n",
      "Epoch 167/200\n",
      "90941/90941 [==============================] - 20s 220us/step - loss: 0.1025 - accuracy: 0.9279 - precision: 0.9257 - recall: 0.9261 - auc: 0.9853 - val_loss: 0.2123 - val_accuracy: 0.9280 - val_precision: 0.9258 - val_recall: 0.9262 - val_auc: 0.9853\n",
      "Epoch 168/200\n",
      "90941/90941 [==============================] - 20s 223us/step - loss: 0.1022 - accuracy: 0.9281 - precision: 0.9259 - recall: 0.9262 - auc: 0.9853 - val_loss: 0.1530 - val_accuracy: 0.9281 - val_precision: 0.9260 - val_recall: 0.9263 - val_auc: 0.9854\n",
      "Epoch 169/200\n",
      "90941/90941 [==============================] - 20s 223us/step - loss: 0.1024 - accuracy: 0.9282 - precision: 0.9260 - recall: 0.9263 - auc: 0.9854 - val_loss: 0.1628 - val_accuracy: 0.9283 - val_precision: 0.9261 - val_recall: 0.9264 - val_auc: 0.9854\n",
      "Epoch 170/200\n",
      "90941/90941 [==============================] - 20s 222us/step - loss: 0.1027 - accuracy: 0.9283 - precision: 0.9262 - recall: 0.9265 - auc: 0.9854 - val_loss: 0.1469 - val_accuracy: 0.9284 - val_precision: 0.9263 - val_recall: 0.9265 - val_auc: 0.9855\n",
      "Epoch 171/200\n",
      "90941/90941 [==============================] - 20s 220us/step - loss: 0.1008 - accuracy: 0.9285 - precision: 0.9264 - recall: 0.9266 - auc: 0.9855 - val_loss: 0.1099 - val_accuracy: 0.9285 - val_precision: 0.9264 - val_recall: 0.9266 - val_auc: 0.9855\n",
      "Epoch 172/200\n",
      "90941/90941 [==============================] - 20s 219us/step - loss: 0.1016 - accuracy: 0.9286 - precision: 0.9265 - recall: 0.9267 - auc: 0.9856 - val_loss: 0.1496 - val_accuracy: 0.9287 - val_precision: 0.9266 - val_recall: 0.9268 - val_auc: 0.9856\n",
      "Epoch 173/200\n",
      "90941/90941 [==============================] - 20s 221us/step - loss: 0.1011 - accuracy: 0.9288 - precision: 0.9267 - recall: 0.9268 - auc: 0.9856 - val_loss: 0.2133 - val_accuracy: 0.9288 - val_precision: 0.9267 - val_recall: 0.9269 - val_auc: 0.9856\n",
      "Epoch 174/200\n",
      "90941/90941 [==============================] - 20s 221us/step - loss: 0.0987 - accuracy: 0.9289 - precision: 0.9268 - recall: 0.9269 - auc: 0.9857 - val_loss: 0.2449 - val_accuracy: 0.9289 - val_precision: 0.9269 - val_recall: 0.9270 - val_auc: 0.9857\n",
      "Epoch 175/200\n",
      "90941/90941 [==============================] - 20s 219us/step - loss: 0.0990 - accuracy: 0.9290 - precision: 0.9270 - recall: 0.9270 - auc: 0.9857 - val_loss: 0.2124 - val_accuracy: 0.9291 - val_precision: 0.9270 - val_recall: 0.9271 - val_auc: 0.9857oss\n",
      "Epoch 176/200\n",
      "90941/90941 [==============================] - 20s 221us/step - loss: 0.0993 - accuracy: 0.9291 - precision: 0.9271 - recall: 0.9271 - auc: 0.9857 - val_loss: 0.1319 - val_accuracy: 0.9292 - val_precision: 0.9272 - val_recall: 0.9272 - val_auc: 0.9858\n",
      "Epoch 177/200\n",
      "90941/90941 [==============================] - 20s 221us/step - loss: 0.0977 - accuracy: 0.9293 - precision: 0.9273 - recall: 0.9272 - auc: 0.9858 - val_loss: 0.1824 - val_accuracy: 0.9293 - val_precision: 0.9273 - val_recall: 0.9273 - val_auc: 0.9858\n",
      "Epoch 178/200\n",
      "90941/90941 [==============================] - 21s 226us/step - loss: 0.1016 - accuracy: 0.9294 - precision: 0.9274 - recall: 0.9274 - auc: 0.9858 - val_loss: 0.3450 - val_accuracy: 0.9294 - val_precision: 0.9275 - val_recall: 0.9274 - val_auc: 0.9859\n",
      "Epoch 179/200\n"
     ]
    },
    {
     "name": "stdout",
     "output_type": "stream",
     "text": [
      "90941/90941 [==============================] - 20s 220us/step - loss: 0.0975 - accuracy: 0.9295 - precision: 0.9276 - recall: 0.9274 - auc: 0.9859 - val_loss: 0.2035 - val_accuracy: 0.9295 - val_precision: 0.9276 - val_recall: 0.9274 - val_auc: 0.9859: 0.0959 - accuracy: 0.9295 - precision: 0.9276 - recall: 0.9 - ETA: 4s - loss: 0.0960 - accuracy: 0.9295 - precision: 0.9276 - recall: 0.9274 - a - ETA: 3s - loss: 0.0966 - accura\n",
      "Epoch 180/200\n",
      "90941/90941 [==============================] - 20s 218us/step - loss: 0.0964 - accuracy: 0.9296 - precision: 0.9277 - recall: 0.9275 - auc: 0.9859 - val_loss: 0.1824 - val_accuracy: 0.9297 - val_precision: 0.9278 - val_recall: 0.9275 - val_auc: 0.9859\n",
      "Epoch 181/200\n",
      "90941/90941 [==============================] - 20s 219us/step - loss: 0.0964 - accuracy: 0.9297 - precision: 0.9279 - recall: 0.9276 - auc: 0.9860 - val_loss: 0.2287 - val_accuracy: 0.9298 - val_precision: 0.9279 - val_recall: 0.9276 - val_auc: 0.9860\n",
      "Epoch 182/200\n",
      "90941/90941 [==============================] - 20s 215us/step - loss: 0.0950 - accuracy: 0.9299 - precision: 0.9280 - recall: 0.9277 - auc: 0.9860 - val_loss: 0.1896 - val_accuracy: 0.9299 - val_precision: 0.9281 - val_recall: 0.9277 - val_auc: 0.9860\n",
      "Epoch 183/200\n",
      "90941/90941 [==============================] - 20s 219us/step - loss: 0.0944 - accuracy: 0.9300 - precision: 0.9282 - recall: 0.9278 - auc: 0.9861 - val_loss: 0.1795 - val_accuracy: 0.9300 - val_precision: 0.9282 - val_recall: 0.9279 - val_auc: 0.9861\n",
      "Epoch 184/200\n",
      "90941/90941 [==============================] - 20s 219us/step - loss: 0.0944 - accuracy: 0.9301 - precision: 0.9283 - recall: 0.9279 - auc: 0.9861 - val_loss: 0.1909 - val_accuracy: 0.9302 - val_precision: 0.9284 - val_recall: 0.9280 - val_auc: 0.9861TA: 2s - loss: 0.0932 - accuracy: 0.9301 - preci\n",
      "Epoch 185/200\n",
      "90941/90941 [==============================] - 20s 217us/step - loss: 0.0934 - accuracy: 0.9302 - precision: 0.9285 - recall: 0.9280 - auc: 0.9862 - val_loss: 0.2455 - val_accuracy: 0.9303 - val_precision: 0.9285 - val_recall: 0.9281 - val_auc: 0.9862\n",
      "Epoch 186/200\n",
      "90941/90941 [==============================] - 20s 218us/step - loss: 0.0949 - accuracy: 0.9303 - precision: 0.9286 - recall: 0.9281 - auc: 0.9862 - val_loss: 0.1807 - val_accuracy: 0.9304 - val_precision: 0.9287 - val_recall: 0.9282 - val_auc: 0.9862\n",
      "Epoch 187/200\n",
      "90941/90941 [==============================] - 20s 217us/step - loss: 0.0935 - accuracy: 0.9305 - precision: 0.9288 - recall: 0.9282 - auc: 0.9862 - val_loss: 0.1900 - val_accuracy: 0.9305 - val_precision: 0.9288 - val_recall: 0.9283 - val_auc: 0.9863\n",
      "Epoch 188/200\n",
      "90941/90941 [==============================] - 19s 210us/step - loss: 0.0906 - accuracy: 0.9306 - precision: 0.9289 - recall: 0.9283 - auc: 0.9863 - val_loss: 0.1497 - val_accuracy: 0.9307 - val_precision: 0.9290 - val_recall: 0.9284 - val_auc: 0.9863\n",
      "Epoch 189/200\n",
      "90941/90941 [==============================] - 19s 205us/step - loss: 0.0933 - accuracy: 0.9307 - precision: 0.9291 - recall: 0.9284 - auc: 0.9863 - val_loss: 0.3308 - val_accuracy: 0.9308 - val_precision: 0.9291 - val_recall: 0.9285 - val_auc: 0.9864\n",
      "Epoch 190/200\n",
      "90941/90941 [==============================] - 19s 205us/step - loss: 0.0908 - accuracy: 0.9308 - precision: 0.9292 - recall: 0.9285 - auc: 0.9864 - val_loss: 0.2987 - val_accuracy: 0.9309 - val_precision: 0.9293 - val_recall: 0.9286 - val_auc: 0.9864\n",
      "Epoch 191/200\n",
      "90941/90941 [==============================] - 18s 202us/step - loss: 0.0903 - accuracy: 0.9310 - precision: 0.9293 - recall: 0.9286 - auc: 0.9864 - val_loss: 0.1975 - val_accuracy: 0.9310 - val_precision: 0.9294 - val_recall: 0.9286 - val_auc: 0.9864 precision: 0.9293 - recall: 0 - ETA: 3s - loss: 0.0904 - accuracy: 0\n",
      "Epoch 192/200\n",
      "90941/90941 [==============================] - 16s 179us/step - loss: 0.0878 - accuracy: 0.9318 - precision: 0.9304 - recall: 0.9293 - auc: 0.9867 - val_loss: 0.1981 - val_accuracy: 0.9319 - val_precision: 0.9304 - val_recall: 0.9294 - val_auc: 0.9867\n",
      "Epoch 199/200\n",
      "90941/90941 [==============================] - 16s 176us/step - loss: 0.0864 - accuracy: 0.9319 - precision: 0.9305 - recall: 0.9294 - auc: 0.9868 - val_loss: 0.1850 - val_accuracy: 0.9320 - val_precision: 0.9306 - val_recall: 0.9295 - val_auc: 0.9868\n",
      "Epoch 200/200\n",
      "90941/90941 [==============================] - 17s 186us/step - loss: 0.0854 - accuracy: 0.9321 - precision: 0.9306 - recall: 0.9296 - auc: 0.9868 - val_loss: 0.2160 - val_accuracy: 0.9321 - val_precision: 0.9307 - val_recall: 0.9296 - val_auc: 0.9868\n"
     ]
    },
    {
     "data": {
      "text/plain": [
       "<keras.callbacks.callbacks.History at 0x1e41daf0f60>"
      ]
     },
     "execution_count": 9,
     "metadata": {},
     "output_type": "execute_result"
    }
   ],
   "source": [
    "estimator = KerasClassifier(build_fn=neural_network)\n",
    "estimator.fit(X_train,Y_train,verbose=1,callbacks=[early_stopping], epochs=200,validation_split=0.1,batch_size=64)"
   ]
  },
  {
   "cell_type": "code",
   "execution_count": 10,
   "metadata": {
    "scrolled": true
   },
   "outputs": [
    {
     "data": {
      "text/plain": [
       "array([[1],\n",
       "       [1],\n",
       "       [1],\n",
       "       ...,\n",
       "       [1],\n",
       "       [1],\n",
       "       [1]], dtype=int64)"
      ]
     },
     "execution_count": 10,
     "metadata": {},
     "output_type": "execute_result"
    }
   ],
   "source": [
    "test_predictions = estimator.predict(X_test)\n",
    "test_predictions"
   ]
  },
  {
   "cell_type": "code",
   "execution_count": 11,
   "metadata": {
    "scrolled": true
   },
   "outputs": [
    {
     "name": "stdout",
     "output_type": "stream",
     "text": [
      "Epoch 1/1\n",
      "67364/67364 [==============================] - 17s 250us/step - loss: 0.4792 - accuracy: 0.9318 - precision: 0.9301 - recall: 0.9298 - auc: 0.9867\n",
      "33682/33682 [==============================] - 3s 92us/step\n",
      "Epoch 1/1\n",
      "67364/67364 [==============================] - 16s 238us/step - loss: 0.2636 - accuracy: 0.9314 - precision: 0.9294 - recall: 0.9295 - auc: 0.9865\n",
      "33682/33682 [==============================] - 3s 91us/step\n",
      "Epoch 1/1\n",
      "67364/67364 [==============================] - 16s 233us/step - loss: 0.3464 - accuracy: 0.9310 - precision: 0.9289 - recall: 0.9291 - auc: 0.9863\n",
      "33682/33682 [==============================] - 3s 88us/step\n",
      "Cross-Validation set accuracy: 93.123889 %\n"
     ]
    }
   ],
   "source": [
    "print(\"Cross-Validation set accuracy: {:.6f} %\".format((cross_val_score(estimator, X_train, Y_train, cv=3).mean())*100))"
   ]
  },
  {
   "cell_type": "code",
   "execution_count": 12,
   "metadata": {},
   "outputs": [
    {
     "name": "stdout",
     "output_type": "stream",
     "text": [
      "101046/101046 [==============================] - 8s 83us/step\n",
      "Train set accuracy : 0.9309\n",
      "Test set accuracy  : 0.8196\n",
      "Test set precision : 0.6854\n",
      "Test set recall    : 0.9359\n",
      "Test set F1-score  : 0.7913\n"
     ]
    }
   ],
   "source": [
    "print(\"Train set accuracy : {:.4f}\".format(estimator.score(X_train,Y_train)))\n",
    "print(\"Test set accuracy  : {:.4f}\".format(accuracy_score(Y_test, test_predictions)))\n",
    "print(\"Test set precision : {:.4f}\".format(precision_score(Y_test, test_predictions)))\n",
    "print(\"Test set recall    : {:.4f}\".format(recall_score(Y_test, test_predictions)))\n",
    "print(\"Test set F1-score  : {:.4f}\".format(f1_score(Y_test, test_predictions)))"
   ]
  },
  {
   "cell_type": "code",
   "execution_count": 14,
   "metadata": {},
   "outputs": [
    {
     "name": "stdout",
     "output_type": "stream",
     "text": [
      "True Negatives  : 0.75\n",
      "False Positives : 0.25\n",
      "False Negatives : 0.06\n",
      "True Positives  : 0.94\n"
     ]
    },
    {
     "data": {
      "image/png": "[encoded data removed]",
      "text/plain": [
       "<Figure size 180x144 with 2 Axes>"
      ]
     },
     "metadata": {
      "needs_background": "light"
     },
     "output_type": "display_data"
    }
   ],
   "source": [
    "def plot_cm(labels, predictions):\n",
    "    cm = confusion_matrix(labels, predictions, normalize= 'true')\n",
    "    plt.figure(figsize=(2.5,2))\n",
    "    sns.heatmap(cm, annot=True, fmt=\".2f\",annot_kws={'size':14})\n",
    "    plt.ylabel('Actual label')\n",
    "    plt.xlabel('Predicted label')\n",
    "\n",
    "    print('True Negatives  : {:.2f}'.format(cm[0][0]))\n",
    "    print('False Positives : {:.2f}'.format(cm[0][1]))\n",
    "    print('False Negatives : {:.2f}'.format(cm[1][0]))\n",
    "    print('True Positives  : {:.2f}'.format(cm[1][1]))\n",
    "    \n",
    "plot_cm(Y_test,test_predictions)"
   ]
  },
  {
   "cell_type": "code",
   "execution_count": 15,
   "metadata": {
    "scrolled": true
   },
   "outputs": [
    {
     "name": "stdout",
     "output_type": "stream",
     "text": [
      "              precision    recall  f1-score   support\n",
      "\n",
      "           0       0.95      0.75      0.84     34204\n",
      "           1       0.69      0.94      0.79     19695\n",
      "\n",
      "    accuracy                           0.82     53899\n",
      "   macro avg       0.82      0.84      0.82     53899\n",
      "weighted avg       0.86      0.82      0.82     53899\n",
      "\n"
     ]
    }
   ],
   "source": [
    "print(classification_report(Y_test, test_predictions))"
   ]
  },
  {
   "cell_type": "code",
   "execution_count": 16,
   "metadata": {},
   "outputs": [],
   "source": [
    "from sklearn.metrics import roc_curve, auc"
   ]
  },
  {
   "cell_type": "code",
   "execution_count": 17,
   "metadata": {},
   "outputs": [
    {
     "name": "stderr",
     "output_type": "stream",
     "text": [
      "c:\\users\\sharuka thirimanne\\appdata\\local\\programs\\python\\python37\\lib\\site-packages\\ipykernel_launcher.py:13: MatplotlibDeprecationWarning: Adding an axes using the same arguments as a previous axes currently reuses the earlier instance.  In a future version, a new instance will always be created and returned.  Meanwhile, this warning can be suppressed, and the future behavior ensured, by passing a unique label to each axes instance.\n",
      "  del sys.path[0]\n"
     ]
    },
    {
     "data": {
      "image/png": "[encoded data removed]",
      "text/plain": [
       "<Figure size 864x720 with 1 Axes>"
      ]
     },
     "metadata": {
      "needs_background": "light"
     },
     "output_type": "display_data"
    }
   ],
   "source": [
    "fpr_lr, tpr_lr, _ = roc_curve(Y_test, test_predictions)\n",
    "roc_auc_lr = auc(fpr_lr, tpr_lr)\n",
    "\n",
    "plt.figure()\n",
    "plt.xlim([-0.01, 1.00])\n",
    "plt.ylim([-0.01, 1.01])\n",
    "plt.plot(fpr_lr, tpr_lr, lw=3, label='KNN ROC curve (area = {:0.2f})'.format(roc_auc_lr))\n",
    "plt.xlabel('False Positive Rate', fontsize=16)\n",
    "plt.ylabel('True Positive Rate', fontsize=16)\n",
    "plt.title('ROC curve', fontsize=16)\n",
    "plt.legend(loc='lower right', fontsize=13)\n",
    "plt.plot([0, 1], [0, 1], color='navy', lw=3, linestyle='--')\n",
    "plt.axes().set_aspect('equal')\n",
    "plt.show()"
   ]
  }
 ],
 "metadata": {
  "kernelspec": {
   "display_name": "Python 3",
   "language": "python",
   "name": "python3"
  }
 },
 "nbformat": 4,
 "nbformat_minor": 4
}
