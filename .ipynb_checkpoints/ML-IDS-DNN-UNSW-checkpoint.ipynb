{
 "cells": [
  {
   "cell_type": "code",
   "execution_count": 1,
   "metadata": {},
   "outputs": [
    {
     "data": {
      "text/plain": [
       "'C:\\\\Users\\\\Sharuka Thirimanne\\\\Desktop\\\\FYP-ML-IDS\\\\Codes'"
      ]
     },
     "execution_count": 1,
     "metadata": {},
     "output_type": "execute_result"
    }
   ],
   "source": [
    "pwd"
   ]
  },
  {
   "cell_type": "code",
   "execution_count": null,
   "metadata": {},
   "outputs": [],
   "source": [
    "import sklearn\n",
    "import numpy as np\n",
    "import pandas as pd\n",
    "import seaborn as sns\n",
    "import tensorflow as tf\n",
    "import matplotlib as mpl\n",
    "import matplotlib.pyplot as plt\n",
    "\n",
    "from tensorflow import keras\n",
    "from keras.layers import Dense\n",
    "from keras.models import Sequential\n",
    "from tensorflow.keras import regularizers\n",
    "from tensorflow.keras import Model, layers\n",
    "from sklearn.metrics import confusion_matrix\n",
    "from sklearn.preprocessing import LabelEncoder\n",
    "from sklearn.preprocessing import MinMaxScaler\n",
    "from sklearn.metrics import classification_report\n",
    "from sklearn.model_selection import train_test_split\n",
    "scaler = MinMaxScaler()"
   ]
  },
  {
   "cell_type": "code",
   "execution_count": 3,
   "metadata": {},
   "outputs": [],
   "source": [
    "mpl.rcParams['figure.figsize'] = (12, 10)\n",
    "colors = plt.rcParams['axes.prop_cycle'].by_key()['color']"
   ]
  },
  {
   "cell_type": "code",
   "execution_count": 6,
   "metadata": {},
   "outputs": [],
   "source": [
    "def load_train_dataset():\n",
    "    df_train = pd.read_csv('Datasets/UNSW_NB15_training-set.csv')\n",
    "    df_test = pd.read_csv('Datasets/UNSW_NB15_testing-set.csv')\n",
    "    \n",
    "    df_train.drop(['id'], axis = 'columns' , inplace = True)\n",
    "    df_test.drop(['id'], axis = 'columns' , inplace = True)\n",
    "    \n",
    "    df_train['proto'] = LabelEncoder().fit_transform(df_train['proto'])\n",
    "    df_train['service'] = LabelEncoder().fit_transform(df_train['service'])\n",
    "    df_train['state'] = LabelEncoder().fit_transform(df_train['state'])\n",
    "    df_train['attack_cat'] = LabelEncoder().fit_transform(df_train['attack_cat'])\n",
    "    \n",
    "    df_test['proto'] = LabelEncoder().fit_transform(df_test['proto'])\n",
    "    df_test['service'] = LabelEncoder().fit_transform(df_test['service'])\n",
    "    df_test['state'] = LabelEncoder().fit_transform(df_test['state'])\n",
    "    df_test['attack_cat'] = LabelEncoder().fit_transform(df_test['attack_cat'])\n",
    "    \n",
    "    limit1 = df_train.shape[1]-1\n",
    "    limit2 = df_test.shape[1]-1\n",
    "    \n",
    "    X_train = df_train.iloc[:,0:limit1]\n",
    "    Y_train = df_train.iloc[:,limit1]\n",
    "    \n",
    "    X_test = df_test.iloc[:,0:limit2]\n",
    "    Y_test = df_test.iloc[:,limit2]\n",
    "    \n",
    "    return  X_train, X_test, Y_train, Y_test\n",
    "\n",
    "X_train, X_test, Y_train, Y_test = load_train_dataset()"
   ]
  },
  {
   "cell_type": "code",
   "execution_count": 7,
   "metadata": {},
   "outputs": [
    {
     "name": "stdout",
     "output_type": "stream",
     "text": [
      "X_train shape: (175341, 43)\n",
      "X_test shape: (82332, 43)\n",
      "Y_train shape: (175341,)\n",
      "Y_test shape: (82332,)\n"
     ]
    }
   ],
   "source": [
    "print('X_train shape:',X_train.shape)\n",
    "print('X_test shape:',X_test.shape)\n",
    "print('Y_train shape:',Y_train.shape)\n",
    "print('Y_test shape:',Y_test.shape)"
   ]
  },
  {
   "cell_type": "code",
   "execution_count": 9,
   "metadata": {},
   "outputs": [],
   "source": [
    "scaler = MinMaxScaler()\n",
    "X_train = scaler.fit_transform(X_train)\n",
    "X_test = scaler.transform(X_test)"
   ]
  },
  {
   "cell_type": "code",
   "execution_count": 10,
   "metadata": {},
   "outputs": [
    {
     "name": "stdout",
     "output_type": "stream",
     "text": [
      "Model: \"sequential_1\"\n",
      "_________________________________________________________________\n",
      "Layer (type)                 Output Shape              Param #   \n",
      "=================================================================\n",
      "dense_1 (Dense)              (None, 128)               5632      \n",
      "_________________________________________________________________\n",
      "dense_2 (Dense)              (None, 128)               16512     \n",
      "_________________________________________________________________\n",
      "dense_3 (Dense)              (None, 128)               16512     \n",
      "_________________________________________________________________\n",
      "dense_4 (Dense)              (None, 128)               16512     \n",
      "_________________________________________________________________\n",
      "dense_5 (Dense)              (None, 128)               16512     \n",
      "_________________________________________________________________\n",
      "dense_6 (Dense)              (None, 1)                 129       \n",
      "=================================================================\n",
      "Total params: 71,809\n",
      "Trainable params: 71,809\n",
      "Non-trainable params: 0\n",
      "_________________________________________________________________\n"
     ]
    }
   ],
   "source": [
    "#Neural Network Model\n",
    "model = Sequential()\n",
    "model.add(Dense(128, input_dim=43, activation='relu',kernel_initializer='glorot_uniform',\n",
    "                bias_initializer='zeros',kernel_regularizer=regularizers.l2(0.001)))\n",
    "model.add(Dense(128, activation='relu',kernel_regularizer=regularizers.l2(0.001)))\n",
    "model.add(Dense(128, activation='relu',kernel_regularizer=regularizers.l2(0.001)))\n",
    "model.add(Dense(128, activation='relu',kernel_regularizer=regularizers.l2(0.001)))\n",
    "model.add(Dense(128, activation='relu',kernel_regularizer=regularizers.l2(0.001)))\n",
    "model.add(Dense(1, activation='sigmoid'))\n",
    "\n",
    "model.summary()"
   ]
  },
  {
   "cell_type": "code",
   "execution_count": 11,
   "metadata": {},
   "outputs": [],
   "source": [
    "METRICS = [\n",
    "      keras.metrics.TruePositives(name='tp'),\n",
    "      keras.metrics.FalsePositives(name='fp'),\n",
    "      keras.metrics.TrueNegatives(name='tn'),\n",
    "      keras.metrics.FalseNegatives(name='fn'), \n",
    "      keras.metrics.BinaryAccuracy(name='accuracy'),\n",
    "      keras.metrics.Precision(name='precision'),\n",
    "      keras.metrics.Recall(name='recall'),\n",
    "      keras.metrics.AUC(name='auc'),\n",
    "]"
   ]
  },
  {
   "cell_type": "code",
   "execution_count": 12,
   "metadata": {},
   "outputs": [],
   "source": [
    "model.compile(loss='binary_crossentropy', optimizer='adam', metrics = METRICS)"
   ]
  },
  {
   "cell_type": "code",
   "execution_count": 13,
   "metadata": {},
   "outputs": [],
   "source": [
    "early_stopping = tf.keras.callbacks.EarlyStopping(\n",
    "    monitor='loss', \n",
    "    verbose=1,\n",
    "    patience=20,\n",
    "    mode='min',\n",
    "    restore_best_weights=True)"
   ]
  },
  {
   "cell_type": "code",
   "execution_count": 14,
   "metadata": {},
   "outputs": [
    {
     "name": "stdout",
     "output_type": "stream",
     "text": [
      "Train on 150340 samples, validate on 25001 samples\n",
      "Epoch 1/200\n",
      "150340/150340 [==============================] - 12s 81us/step - loss: 0.2070 - tp: 46187.9258 - fp: 2075.1055 - tn: 26002.8535 - fn: 998.0851 - accuracy: 0.9403 - precision: 0.9368 - recall: 0.9722 - auc: 0.9825 - val_loss: 0.0772 - val_tp: 105622.2031 - val_fp: 2540.0000 - val_tn: 53460.0000 - val_fn: 1325.3623 - val_accuracy: 0.9762 - val_precision: 0.9764 - val_recall: 0.9876 - val_auc: 0.9976\n",
      "Epoch 2/200\n",
      "150340/150340 [==============================] - 5s 32us/step - loss: 0.0576 - tp: 165264.5469 - fp: 2572.7090 - tn: 81386.6094 - fn: 1381.2451 - accuracy: 0.9837 - precision: 0.9843 - recall: 0.9915 - auc: 0.9987 - val_loss: 0.0437 - val_tp: 224852.3281 - val_fp: 2601.0000 - val_tn: 109399.2031 - val_fn: 1436.3214 - val_accuracy: 0.9881 - val_precision: 0.9886 - val_recall: 0.9936 - val_auc: 0.9992\n",
      "Epoch 3/200\n",
      "150340/150340 [==============================] - 5s 30us/step - loss: 0.0344 - tp: 284440.8125 - fp: 2614.1787 - tn: 137412.3438 - fn: 1478.7208 - accuracy: 0.9903 - precision: 0.9908 - recall: 0.9948 - auc: 0.9994 - val_loss: 0.0271 - val_tp: 344139.5625 - val_fp: 2623.0000 - val_tn: 165376.5312 - val_fn: 1490.0000 - val_accuracy: 0.9920 - val_precision: 0.9924 - val_recall: 0.9957 - val_auc: 0.9996\n",
      "Epoch 4/200\n",
      "150340/150340 [==============================] - 4s 30us/step - loss: 0.0258 - tp: 403826.1250 - fp: 2630.1643 - tn: 193334.1562 - fn: 1496.3514 - accuracy: 0.9931 - precision: 0.9935 - recall: 0.9963 - auc: 0.9997 - val_loss: 0.0261 - val_tp: 463458.1250 - val_fp: 2634.0000 - val_tn: 221366.4531 - val_fn: 1512.1735 - val_accuracy: 0.9940 - val_precision: 0.9943 - val_recall: 0.9967 - val_auc: 0.9997\n",
      "Epoch 5/200\n",
      "150340/150340 [==============================] - 4s 30us/step - loss: 0.0220 - tp: 523027.1250 - fp: 2636.8120 - tn: 249436.7031 - fn: 1527.3838 - accuracy: 0.9946 - precision: 0.9950 - recall: 0.9971 - auc: 0.9998 - val_loss: 0.0199 - val_tp: 582781.1875 - val_fp: 2637.0000 - val_tn: 277363.6875 - val_fn: 1532.0000 - val_accuracy: 0.9952 - val_precision: 0.9955 - val_recall: 0.9974 - val_auc: 0.9998\n",
      "Epoch 6/200\n",
      "150340/150340 [==============================] - 4s 30us/step - loss: 0.0197 - tp: 642341.1250 - fp: 2637.0000 - tn: 305454.3438 - fn: 1536.1967 - accuracy: 0.9956 - precision: 0.9959 - recall: 0.9976 - auc: 0.9998 - val_loss: 0.0196 - val_tp: 702112.5625 - val_fp: 2637.0000 - val_tn: 333363.7500 - val_fn: 1539.7449 - val_accuracy: 0.9960 - val_precision: 0.9963 - val_recall: 0.9978 - val_auc: 0.9999\n",
      "Epoch 7/200\n",
      "150340/150340 [==============================] - 5s 30us/step - loss: 0.0186 - tp: 761748.9375 - fp: 2647.5029 - tn: 361360.0625 - fn: 1553.5303 - accuracy: 0.9963 - precision: 0.9965 - recall: 0.9980 - auc: 0.9999 - val_loss: 0.0178 - val_tp: 821436.0625 - val_fp: 2652.0000 - val_tn: 389347.5000 - val_fn: 1558.3827 - val_accuracy: 0.9965 - val_precision: 0.9968 - val_recall: 0.9981 - val_auc: 0.9999\n",
      "Epoch 8/200\n",
      "150340/150340 [==============================] - 5s 30us/step - loss: 0.0165 - tp: 881075.1875 - fp: 2652.0000 - tn: 417365.1250 - fn: 1559.0000 - accuracy: 0.9968 - precision: 0.9970 - recall: 0.9982 - auc: 0.9999 - val_loss: 0.0163 - val_tp: 940773.5000 - val_fp: 2652.0000 - val_tn: 445347.0938 - val_fn: 1559.0000 - val_accuracy: 0.9970 - val_precision: 0.9972 - val_recall: 0.9983 - val_auc: 0.9999\n",
      "Epoch 9/200\n",
      "150340/150340 [==============================] - 5s 32us/step - loss: 0.0168 - tp: 1000446.3750 - fp: 2667.4519 - tn: 473300.9062 - fn: 1576.8273 - accuracy: 0.9971 - precision: 0.9973 - recall: 0.9984 - auc: 0.9999 - val_loss: 0.0152 - val_tp: 1060084.7500 - val_fp: 2678.0000 - val_tn: 501320.6875 - val_fn: 1589.0000 - val_accuracy: 0.9973 - val_precision: 0.9975 - val_recall: 0.9985 - val_auc: 0.9999\n",
      "Epoch 10/200\n",
      "150340/150340 [==============================] - 5s 33us/step - loss: 0.0151 - tp: 1119807.6250 - fp: 2678.0000 - tn: 529258.3750 - fn: 1589.0000 - accuracy: 0.9974 - precision: 0.9976 - recall: 0.9986 - auc: 0.9999 - val_loss: 0.0147 - val_tp: 1179424.8750 - val_fp: 2678.0000 - val_tn: 557320.6250 - val_fn: 1589.0000 - val_accuracy: 0.9975 - val_precision: 0.9977 - val_recall: 0.9987 - val_auc: 0.9999\n",
      "Epoch 11/200\n",
      "150340/150340 [==============================] - 5s 35us/step - loss: 0.0147 - tp: 1239050.6250 - fp: 2678.0000 - tn: 585356.3125 - fn: 1589.6417 - accuracy: 0.9977 - precision: 0.9978 - recall: 0.9987 - auc: 0.9999 - val_loss: 0.0144 - val_tp: 1298767.6250 - val_fp: 2678.0000 - val_tn: 613320.5625 - val_fn: 1590.0000 - val_accuracy: 0.9978 - val_precision: 0.9979 - val_recall: 0.9988 - val_auc: 0.9999\n",
      "Epoch 12/200\n",
      "150340/150340 [==============================] - 5s 35us/step - loss: 0.0140 - tp: 1358378.2500 - fp: 2678.0000 - tn: 641369.2500 - fn: 1590.0000 - accuracy: 0.9979 - precision: 0.9980 - recall: 0.9988 - auc: 0.9999 - val_loss: 0.0132 - val_tp: 1418110.5000 - val_fp: 2678.0000 - val_tn: 669320.5000 - val_fn: 1590.0000 - val_accuracy: 0.9980 - val_precision: 0.9981 - val_recall: 0.9989 - val_auc: 0.9999\n",
      "Epoch 13/200\n",
      "150340/150340 [==============================] - 5s 34us/step - loss: 0.0154 - tp: 1477700.6250 - fp: 2697.4604 - tn: 697343.2500 - fn: 1615.1727 - accuracy: 0.9980 - precision: 0.9982 - recall: 0.9989 - auc: 0.9999 - val_loss: 0.0133 - val_tp: 1537422.0000 - val_fp: 2698.0000 - val_tn: 725303.1250 - val_fn: 1616.0000 - val_accuracy: 0.9981 - val_precision: 0.9982 - val_recall: 0.9990 - val_auc: 0.9999\n",
      "Epoch 14/200\n",
      "150340/150340 [==============================] - 5s 32us/step - loss: 0.0133 - tp: 1597139.5000 - fp: 2698.0000 - tn: 753243.2500 - fn: 1616.0000 - accuracy: 0.9982 - precision: 0.9983 - recall: 0.9990 - auc: 0.9999 - val_loss: 0.0130 - val_tp: 1656766.7500 - val_fp: 2698.0000 - val_tn: 781302.5000 - val_fn: 1616.0000 - val_accuracy: 0.9982 - val_precision: 0.9984 - val_recall: 0.9990 - val_auc: 1.0000\n",
      "Epoch 15/200\n",
      "150340/150340 [==============================] - 5s 32us/step - loss: 0.0131 - tp: 1716356.3750 - fp: 2698.0000 - tn: 809367.9375 - fn: 1616.0000 - accuracy: 0.9983 - precision: 0.9984 - recall: 0.9991 - auc: 0.9999 - val_loss: 0.0129 - val_tp: 1776105.1250 - val_fp: 2698.0000 - val_tn: 837302.1250 - val_fn: 1616.0000 - val_accuracy: 0.9984 - val_precision: 0.9985 - val_recall: 0.9991 - val_auc: 1.0000\n",
      "Epoch 16/200\n",
      "150340/150340 [==============================] - 5s 32us/step - loss: 0.0157 - tp: 1835643.1250 - fp: 2717.3718 - tn: 865376.9375 - fn: 1640.8333 - accuracy: 0.9984 - precision: 0.9985 - recall: 0.9991 - auc: 1.0000 - val_loss: 0.0133 - val_tp: 1895392.3750 - val_fp: 2738.0000 - val_tn: 893263.5625 - val_fn: 1668.0000 - val_accuracy: 0.9984 - val_precision: 0.9986 - val_recall: 0.9991 - val_auc: 1.0000\n",
      "Epoch 17/200\n",
      "150340/150340 [==============================] - 5s 32us/step - loss: 0.0128 - tp: 1954980.7500 - fp: 2738.0000 - tn: 921332.0000 - fn: 1668.0000 - accuracy: 0.9985 - precision: 0.9986 - recall: 0.9991 - auc: 0.9999 - val_loss: 0.0129 - val_tp: 2014730.6250 - val_fp: 2738.0000 - val_tn: 949263.5625 - val_fn: 1669.4745 - val_accuracy: 0.9985 - val_precision: 0.9986 - val_recall: 0.9992 - val_auc: 1.0000\n",
      "Epoch 18/200\n",
      "150340/150340 [==============================] - 5s 32us/step - loss: 0.0123 - tp: 2074373.6250 - fp: 2738.0000 - tn: 977280.1250 - fn: 1670.0000 - accuracy: 0.9986 - precision: 0.9987 - recall: 0.9992 - auc: 1.0000 - val_loss: 0.0120 - val_tp: 2134077.5000 - val_fp: 2738.0000 - val_tn: 1005263.5625 - val_fn: 1670.0000 - val_accuracy: 0.9986 - val_precision: 0.9987 - val_recall: 0.9992 - val_auc: 1.0000\n",
      "Epoch 19/200\n",
      "150340/150340 [==============================] - 5s 33us/step - loss: 0.0149 - tp: 2193659.7500 - fp: 2744.0127 - tn: 1033320.5625 - fn: 1677.2629 - accuracy: 0.9986 - precision: 0.9988 - recall: 0.9993 - auc: 1.0000 - val_loss: 0.0127 - val_tp: 2253353.7500 - val_fp: 2783.0000 - val_tn: 1061216.1250 - val_fn: 1725.8877 - val_accuracy: 0.9986 - val_precision: 0.9988 - val_recall: 0.9992 - val_auc: 1.0000\n",
      "Epoch 20/200\n",
      "150340/150340 [==============================] - 6s 38us/step - loss: 0.0120 - tp: 2312971.0000 - fp: 2783.0000 - tn: 1089260.1250 - fn: 1727.7651 - accuracy: 0.9987 - precision: 0.9988 - recall: 0.9993 - auc: 1.0000 - val_loss: 0.0119 - val_tp: 2372701.7500 - val_fp: 2783.0000 - val_tn: 1117216.1250 - val_fn: 1728.0000 - val_accuracy: 0.9987 - val_precision: 0.9988 - val_recall: 0.9993 - val_auc: 1.0000\n",
      "Epoch 21/200\n",
      "150340/150340 [==============================] - 5s 32us/step - loss: 0.0117 - tp: 2432379.0000 - fp: 2783.0000 - tn: 1145194.6250 - fn: 1728.0000 - accuracy: 0.9987 - precision: 0.9989 - recall: 0.9993 - auc: 1.0000 - val_loss: 0.0124 - val_tp: 2492034.0000 - val_fp: 2783.0000 - val_tn: 1173216.1250 - val_fn: 1728.0000 - val_accuracy: 0.9988 - val_precision: 0.9989 - val_recall: 0.9993 - val_auc: 1.0000\n",
      "Epoch 22/200\n",
      "150340/150340 [==============================] - 5s 33us/step - loss: 0.0116 - tp: 2551670.7500 - fp: 2783.0000 - tn: 1201242.7500 - fn: 1728.0000 - accuracy: 0.9988 - precision: 0.9989 - recall: 0.9993 - auc: 1.0000 - val_loss: 0.0113 - val_tp: 2611384.7500 - val_fp: 2783.0000 - val_tn: 1229216.1250 - val_fn: 1728.0000 - val_accuracy: 0.9988 - val_precision: 0.9989 - val_recall: 0.9993 - val_auc: 1.0000\n",
      "Epoch 23/200\n",
      "150340/150340 [==============================] - 5s 33us/step - loss: 0.0157 - tp: 2670957.5000 - fp: 2789.2773 - tn: 1257285.3750 - fn: 1734.1949 - accuracy: 0.9988 - precision: 0.9990 - recall: 0.9994 - auc: 1.0000 - val_loss: 0.0136 - val_tp: 2730631.5000 - val_fp: 2869.0000 - val_tn: 1285132.7500 - val_fn: 1812.5051 - val_accuracy: 0.9988 - val_precision: 0.9989 - val_recall: 0.9993 - val_auc: 1.0000\n",
      "Epoch 24/200\n",
      "150340/150340 [==============================] - 5s 30us/step - loss: 0.0122 - tp: 2790236.7500 - fp: 2869.9514 - tn: 1313185.7500 - fn: 1815.2417 - accuracy: 0.9989 - precision: 0.9990 - recall: 0.9993 - auc: 1.0000 - val_loss: 0.0117 - val_tp: 2849977.5000 - val_fp: 2870.0000 - val_tn: 1341132.1250 - val_fn: 1816.0000 - val_accuracy: 0.9989 - val_precision: 0.9990 - val_recall: 0.9994 - val_auc: 1.0000\n",
      "Epoch 25/200\n",
      "150340/150340 [==============================] - 5s 31us/step - loss: 0.0113 - tp: 2909617.2500 - fp: 2870.0000 - tn: 1369146.3750 - fn: 1816.0000 - accuracy: 0.9989 - precision: 0.9990 - recall: 0.9994 - auc: 1.0000 - val_loss: 0.0114 - val_tp: 2969314.2500 - val_fp: 2870.0000 - val_tn: 1397132.1250 - val_fn: 1816.8776 - val_accuracy: 0.9989 - val_precision: 0.9990 - val_recall: 0.9994 - val_auc: 1.0000\n",
      "Epoch 26/200\n",
      "150340/150340 [==============================] - 5s 31us/step - loss: 0.0111 - tp: 3029002.5000 - fp: 2870.0000 - tn: 1425099.2500 - fn: 1817.0000 - accuracy: 0.9990 - precision: 0.9991 - recall: 0.9994 - auc: 1.0000 - val_loss: 0.0113 - val_tp: 3088646.7500 - val_fp: 2870.0000 - val_tn: 1453131.6250 - val_fn: 1817.0000 - val_accuracy: 0.9990 - val_precision: 0.9991 - val_recall: 0.9994 - val_auc: 1.0000\n",
      "Epoch 27/200\n",
      "150340/150340 [==============================] - 5s 31us/step - loss: 0.0110 - tp: 3148261.7500 - fp: 2870.9507 - tn: 1481178.6250 - fn: 1817.9685 - accuracy: 0.9990 - precision: 0.9991 - recall: 0.9994 - auc: 1.0000 - val_loss: 0.0117 - val_tp: 3207999.0000 - val_fp: 2871.0000 - val_tn: 1509131.0000 - val_fn: 1818.0000 - val_accuracy: 0.9990 - val_precision: 0.9991 - val_recall: 0.9994 - val_auc: 1.0000\n",
      "Epoch 28/200\n",
      "150340/150340 [==============================] - 5s 31us/step - loss: 0.0130 - tp: 3267617.5000 - fp: 2874.1736 - tn: 1537157.8750 - fn: 1821.2222 - accuracy: 0.9990 - precision: 0.9991 - recall: 0.9994 - auc: 1.0000 - val_loss: 0.0135 - val_tp: 3327293.7500 - val_fp: 2915.0000 - val_tn: 1565087.1250 - val_fn: 1867.4897 - val_accuracy: 0.9990 - val_precision: 0.9991 - val_recall: 0.9994 - val_auc: 1.0000\n",
      "Epoch 29/200\n",
      "150340/150340 [==============================] - 5s 32us/step - loss: 0.0115 - tp: 3386934.2500 - fp: 2915.0000 - tn: 1593088.3750 - fn: 1872.9004 - accuracy: 0.9990 - precision: 0.9991 - recall: 0.9995 - auc: 1.0000 - val_loss: 0.0109 - val_tp: 3446616.7500 - val_fp: 2915.0000 - val_tn: 1621087.1250 - val_fn: 1873.0000 - val_accuracy: 0.9991 - val_precision: 0.9992 - val_recall: 0.9995 - val_auc: 1.0000\n",
      "Epoch 30/200\n",
      "150340/150340 [==============================] - 5s 36us/step - loss: 0.0107 - tp: 3506287.0000 - fp: 2915.0000 - tn: 1649077.8750 - fn: 1873.0000 - accuracy: 0.9991 - precision: 0.9992 - recall: 0.9995 - auc: 1.0000 - val_loss: 0.0109 - val_tp: 3565957.5000 - val_fp: 2915.0000 - val_tn: 1677087.1250 - val_fn: 1873.0000 - val_accuracy: 0.9991 - val_precision: 0.9992 - val_recall: 0.9995 - val_auc: 1.0000\n",
      "Epoch 31/200\n",
      "150340/150340 [==============================] - 5s 36us/step - loss: 0.0105 - tp: 3625661.7500 - fp: 2915.0000 - tn: 1705044.1250 - fn: 1873.0000 - accuracy: 0.9991 - precision: 0.9992 - recall: 0.9995 - auc: 1.0000 - val_loss: 0.0108 - val_tp: 3685310.0000 - val_fp: 2915.0000 - val_tn: 1733087.1250 - val_fn: 1873.0000 - val_accuracy: 0.9991 - val_precision: 0.9992 - val_recall: 0.9995 - val_auc: 1.0000\n",
      "Epoch 32/200\n",
      "150340/150340 [==============================] - 5s 32us/step - loss: 0.0104 - tp: 3744850.2500 - fp: 2915.0000 - tn: 1761196.5000 - fn: 1873.0000 - accuracy: 0.9991 - precision: 0.9992 - recall: 0.9995 - auc: 1.0000 - val_loss: 0.0106 - val_tp: 3804649.7500 - val_fp: 2915.0000 - val_tn: 1789087.1250 - val_fn: 1873.0000 - val_accuracy: 0.9991 - val_precision: 0.9992 - val_recall: 0.9995 - val_auc: 1.0000\n",
      "Epoch 33/200\n",
      "150340/150340 [==============================] - 4s 30us/step - loss: 0.0145 - tp: 3864211.2500 - fp: 2954.3770 - tn: 1817081.8750 - fn: 1929.9132 - accuracy: 0.9991 - precision: 0.9992 - recall: 0.9995 - auc: 1.0000 - val_loss: 0.0105 - val_tp: 3923902.2500 - val_fp: 2975.0000 - val_tn: 1845024.1250 - val_fn: 1961.0000 - val_accuracy: 0.9991 - val_precision: 0.9992 - val_recall: 0.9995 - val_auc: 1.0000\n",
      "Epoch 34/200\n",
      "150340/150340 [==============================] - 5s 30us/step - loss: 0.0104 - tp: 3983496.7500 - fp: 2975.0000 - tn: 1873084.2500 - fn: 1961.0000 - accuracy: 0.9991 - precision: 0.9993 - recall: 0.9995 - auc: 1.0000 - val_loss: 0.0103 - val_tp: 4043243.0000 - val_fp: 2975.0000 - val_tn: 1901024.1250 - val_fn: 1961.0000 - val_accuracy: 0.9992 - val_precision: 0.9993 - val_recall: 0.9995 - val_auc: 1.0000\n",
      "Epoch 35/200\n",
      "150340/150340 [==============================] - 5s 31us/step - loss: 0.0102 - tp: 4102891.7500 - fp: 2975.0000 - tn: 1929029.2500 - fn: 1961.0000 - accuracy: 0.9992 - precision: 0.9993 - recall: 0.9995 - auc: 1.0000 - val_loss: 0.0101 - val_tp: 4162576.7500 - val_fp: 2975.0000 - val_tn: 1957024.1250 - val_fn: 1961.0000 - val_accuracy: 0.9992 - val_precision: 0.9993 - val_recall: 0.9995 - val_auc: 1.0000\n",
      "Epoch 36/200\n",
      "150340/150340 [==============================] - 5s 33us/step - loss: 0.0101 - tp: 4222189.5000 - fp: 2975.0000 - tn: 1985073.2500 - fn: 1961.0000 - accuracy: 0.9992 - precision: 0.9993 - recall: 0.9995 - auc: 1.0000 - val_loss: 0.0102 - val_tp: 4281920.0000 - val_fp: 2975.0000 - val_tn: 2013024.1250 - val_fn: 1961.0000 - val_accuracy: 0.9992 - val_precision: 0.9993 - val_recall: 0.9995 - val_auc: 1.0000\n",
      "Epoch 37/200\n",
      "150340/150340 [==============================] - 5s 33us/step - loss: 0.0100 - tp: 4341604.0000 - fp: 2975.0000 - tn: 2040998.8750 - fn: 1961.8247 - accuracy: 0.9992 - precision: 0.9993 - recall: 0.9996 - auc: 1.0000 - val_loss: 0.0098 - val_tp: 4401264.5000 - val_fp: 2975.0000 - val_tn: 2069024.1250 - val_fn: 1962.0000 - val_accuracy: 0.9992 - val_precision: 0.9993 - val_recall: 0.9996 - val_auc: 1.0000\n",
      "Epoch 38/200\n",
      "150340/150340 [==============================] - 5s 33us/step - loss: 0.0116 - tp: 4460901.5000 - fp: 2976.6775 - tn: 2097037.3750 - fn: 1963.8613 - accuracy: 0.9993 - precision: 0.9993 - recall: 0.9996 - auc: 1.0000 - val_loss: 0.0111 - val_tp: 4520571.5000 - val_fp: 3009.0000 - val_tn: 2124991.7500 - val_fn: 2002.0408 - val_accuracy: 0.9992 - val_precision: 0.9993 - val_recall: 0.9996 - val_auc: 1.0000\n",
      "Epoch 39/200\n"
     ]
    },
    {
     "name": "stdout",
     "output_type": "stream",
     "text": [
      "150340/150340 [==============================] - 5s 32us/step - loss: 0.0103 - tp: 4580237.0000 - fp: 3009.0000 - tn: 2152969.2500 - fn: 2007.4307 - accuracy: 0.9993 - precision: 0.9993 - recall: 0.9996 - auc: 1.0000 - val_loss: 0.0100 - val_tp: 4639889.5000 - val_fp: 3009.0000 - val_tn: 2180991.7500 - val_fn: 2008.0000 - val_accuracy: 0.9993 - val_precision: 0.9994 - val_recall: 0.9996 - val_auc: 1.0000\n",
      "Epoch 40/200\n",
      "150340/150340 [==============================] - 5s 33us/step - loss: 0.0098 - tp: 4699505.5000 - fp: 3009.0000 - tn: 2209039.7500 - fn: 2008.0000 - accuracy: 0.9993 - precision: 0.9994 - recall: 0.9996 - auc: 1.0000 - val_loss: 0.0096 - val_tp: 4759233.0000 - val_fp: 3009.0000 - val_tn: 2236991.7500 - val_fn: 2008.0000 - val_accuracy: 0.9993 - val_precision: 0.9994 - val_recall: 0.9996 - val_auc: 1.0000\n",
      "Epoch 41/200\n",
      "150340/150340 [==============================] - 5s 33us/step - loss: 0.0096 - tp: 4818832.5000 - fp: 3009.0000 - tn: 2265053.5000 - fn: 2008.0000 - accuracy: 0.9993 - precision: 0.9994 - recall: 0.9996 - auc: 1.0000 - val_loss: 0.0102 - val_tp: 4878587.0000 - val_fp: 3009.0000 - val_tn: 2292991.7500 - val_fn: 2008.0000 - val_accuracy: 0.9993 - val_precision: 0.9994 - val_recall: 0.9996 - val_auc: 1.0000\n",
      "Epoch 42/200\n",
      "150340/150340 [==============================] - 5s 33us/step - loss: 0.0096 - tp: 4938194.0000 - fp: 3009.0000 - tn: 2321035.5000 - fn: 2008.0000 - accuracy: 0.9993 - precision: 0.9994 - recall: 0.9996 - auc: 1.0000 - val_loss: 0.0093 - val_tp: 4997934.0000 - val_fp: 3009.0000 - val_tn: 2348991.7500 - val_fn: 2008.0000 - val_accuracy: 0.9993 - val_precision: 0.9994 - val_recall: 0.9996 - val_auc: 1.0000\n",
      "Epoch 43/200\n",
      "150340/150340 [==============================] - 5s 33us/step - loss: 0.0115 - tp: 5057487.0000 - fp: 3033.5950 - tn: 2377030.0000 - fn: 2033.4664 - accuracy: 0.9993 - precision: 0.9994 - recall: 0.9996 - auc: 1.0000 - val_loss: 0.0097 - val_tp: 5117234.0000 - val_fp: 3041.0000 - val_tn: 2404959.7500 - val_fn: 2042.0000 - val_accuracy: 0.9993 - val_precision: 0.9994 - val_recall: 0.9996 - val_auc: 1.0000\n",
      "Epoch 44/200\n",
      "150340/150340 [==============================] - 5s 35us/step - loss: 0.0095 - tp: 5176910.5000 - fp: 3041.0000 - tn: 2432931.2500 - fn: 2042.0000 - accuracy: 0.9993 - precision: 0.9994 - recall: 0.9996 - auc: 1.0000 - val_loss: 0.0094 - val_tp: 5236559.5000 - val_fp: 3041.0000 - val_tn: 2460959.7500 - val_fn: 2042.0000 - val_accuracy: 0.9993 - val_precision: 0.9994 - val_recall: 0.9996 - val_auc: 1.0000\n",
      "Epoch 45/200\n",
      "150340/150340 [==============================] - 5s 35us/step - loss: 0.0094 - tp: 5296187.5000 - fp: 3041.0000 - tn: 2488997.2500 - fn: 2042.0000 - accuracy: 0.9993 - precision: 0.9994 - recall: 0.9996 - auc: 1.0000 - val_loss: 0.0092 - val_tp: 5355904.5000 - val_fp: 3041.0000 - val_tn: 2516959.7500 - val_fn: 2042.0000 - val_accuracy: 0.9994 - val_precision: 0.9994 - val_recall: 0.9996 - val_auc: 1.0000\n",
      "Epoch 46/200\n",
      "150340/150340 [==============================] - 5s 35us/step - loss: 0.0093 - tp: 5415549.5000 - fp: 3041.0000 - tn: 2544977.2500 - fn: 2042.0000 - accuracy: 0.9994 - precision: 0.9994 - recall: 0.9996 - auc: 1.0000 - val_loss: 0.0096 - val_tp: 5475259.5000 - val_fp: 3041.0000 - val_tn: 2572959.7500 - val_fn: 2042.0000 - val_accuracy: 0.9994 - val_precision: 0.9994 - val_recall: 0.9996 - val_auc: 1.0000\n",
      "Epoch 47/200\n",
      "150340/150340 [==============================] - 5s 34us/step - loss: 0.0127 - tp: 5534888.0000 - fp: 3086.8000 - tn: 2600875.5000 - fn: 2099.5200 - accuracy: 0.9994 - precision: 0.9994 - recall: 0.9996 - auc: 1.0000 - val_loss: 0.0094 - val_tp: 5594511.5000 - val_fp: 3098.0000 - val_tn: 2628898.0000 - val_fn: 2114.0000 - val_accuracy: 0.9994 - val_precision: 0.9994 - val_recall: 0.9996 - val_auc: 1.0000\n",
      "Epoch 48/200\n",
      "150340/150340 [==============================] - 5s 31us/step - loss: 0.0093 - tp: 5654097.0000 - fp: 3098.0000 - tn: 2656982.7500 - fn: 2114.0000 - accuracy: 0.9994 - precision: 0.9995 - recall: 0.9996 - auc: 1.0000 - val_loss: 0.0093 - val_tp: 5713856.5000 - val_fp: 3098.0000 - val_tn: 2684898.0000 - val_fn: 2114.0000 - val_accuracy: 0.9994 - val_precision: 0.9995 - val_recall: 0.9996 - val_auc: 1.0000\n",
      "Epoch 49/200\n",
      "150340/150340 [==============================] - 5s 31us/step - loss: 0.0091 - tp: 5773467.0000 - fp: 3098.0000 - tn: 2712951.0000 - fn: 2114.0000 - accuracy: 0.9994 - precision: 0.9995 - recall: 0.9996 - auc: 1.0000 - val_loss: 0.0092 - val_tp: 5833208.0000 - val_fp: 3098.0000 - val_tn: 2740898.0000 - val_fn: 2114.0000 - val_accuracy: 0.9994 - val_precision: 0.9995 - val_recall: 0.9996 - val_auc: 1.0000\n",
      "Epoch 50/200\n",
      "150340/150340 [==============================] - 5s 33us/step - loss: 0.0091 - tp: 5892797.0000 - fp: 3098.0000 - tn: 2768962.0000 - fn: 2114.0000 - accuracy: 0.9994 - precision: 0.9995 - recall: 0.9996 - auc: 1.0000 - val_loss: 0.0088 - val_tp: 5952531.0000 - val_fp: 3098.0000 - val_tn: 2796898.5000 - val_fn: 2114.0000 - val_accuracy: 0.9994 - val_precision: 0.9995 - val_recall: 0.9996 - val_auc: 1.0000\n",
      "Epoch 51/200\n",
      "150340/150340 [==============================] - 5s 32us/step - loss: 0.0113 - tp: 6012216.0000 - fp: 3113.1846 - tn: 2824854.5000 - fn: 2129.8401 - accuracy: 0.9994 - precision: 0.9995 - recall: 0.9996 - auc: 1.0000 - val_loss: 0.0092 - val_tp: 6071857.0000 - val_fp: 3139.0000 - val_tn: 2852863.2500 - val_fn: 2157.0000 - val_accuracy: 0.9994 - val_precision: 0.9995 - val_recall: 0.9996 - val_auc: 1.0000\n",
      "Epoch 52/200\n",
      "150340/150340 [==============================] - 5s 31us/step - loss: 0.0091 - tp: 6131489.0000 - fp: 3139.0000 - tn: 2880870.7500 - fn: 2157.0000 - accuracy: 0.9994 - precision: 0.9995 - recall: 0.9996 - auc: 1.0000 - val_loss: 0.0094 - val_tp: 6191171.5000 - val_fp: 3139.0000 - val_tn: 2908863.2500 - val_fn: 2157.0000 - val_accuracy: 0.9994 - val_precision: 0.9995 - val_recall: 0.9997 - val_auc: 1.0000\n",
      "Epoch 53/200\n",
      "150340/150340 [==============================] - 5s 33us/step - loss: 0.0089 - tp: 6250799.5000 - fp: 3139.0000 - tn: 2936900.7500 - fn: 2157.0000 - accuracy: 0.9994 - precision: 0.9995 - recall: 0.9996 - auc: 1.0000 - val_loss: 0.0089 - val_tp: 6310519.0000 - val_fp: 3139.0000 - val_tn: 2964863.2500 - val_fn: 2157.0000 - val_accuracy: 0.9994 - val_precision: 0.9995 - val_recall: 0.9997 - val_auc: 1.0000\n",
      "Epoch 54/200\n",
      "150340/150340 [==============================] - 5s 31us/step - loss: 0.0089 - tp: 6370055.5000 - fp: 3139.0000 - tn: 2992985.7500 - fn: 2157.0000 - accuracy: 0.9994 - precision: 0.9995 - recall: 0.9996 - auc: 1.0000 - val_loss: 0.0091 - val_tp: 6429874.5000 - val_fp: 3139.0000 - val_tn: 3020863.2500 - val_fn: 2157.8774 - val_accuracy: 0.9994 - val_precision: 0.9995 - val_recall: 0.9997 - val_auc: 1.0000\n",
      "Epoch 55/200\n",
      "150340/150340 [==============================] - 5s 31us/step - loss: 0.0088 - tp: 6489511.0000 - fp: 3139.0000 - tn: 3048871.0000 - fn: 2158.0000 - accuracy: 0.9994 - precision: 0.9995 - recall: 0.9997 - auc: 1.0000 - val_loss: 0.0087 - val_tp: 6549194.0000 - val_fp: 3139.0000 - val_tn: 3076863.2500 - val_fn: 2158.0000 - val_accuracy: 0.9995 - val_precision: 0.9995 - val_recall: 0.9997 - val_auc: 1.0000\n",
      "Epoch 56/200\n",
      "150340/150340 [==============================] - 5s 33us/step - loss: 0.0139 - tp: 6608812.0000 - fp: 3192.9678 - tn: 3104794.7500 - fn: 2219.2544 - accuracy: 0.9994 - precision: 0.9995 - recall: 0.9996 - auc: 1.0000 - val_loss: 0.0090 - val_tp: 6668467.0000 - val_fp: 3217.0000 - val_tn: 3132778.7500 - val_fn: 2248.0000 - val_accuracy: 0.9994 - val_precision: 0.9995 - val_recall: 0.9997 - val_auc: 1.0000\n",
      "Epoch 57/200\n",
      "150340/150340 [==============================] - 5s 31us/step - loss: 0.0089 - tp: 6728120.5000 - fp: 3217.0000 - tn: 3160775.7500 - fn: 2248.0000 - accuracy: 0.9995 - precision: 0.9995 - recall: 0.9997 - auc: 1.0000 - val_loss: 0.0088 - val_tp: 6787786.0000 - val_fp: 3217.0000 - val_tn: 3188779.5000 - val_fn: 2248.0000 - val_accuracy: 0.9995 - val_precision: 0.9995 - val_recall: 0.9997 - val_auc: 1.0000\n",
      "Epoch 58/200\n",
      "150340/150340 [==============================] - 5s 34us/step - loss: 0.0087 - tp: 6847467.0000 - fp: 3217.0000 - tn: 3216769.0000 - fn: 2248.0000 - accuracy: 0.9995 - precision: 0.9995 - recall: 0.9997 - auc: 1.0000 - val_loss: 0.0090 - val_tp: 6907135.5000 - val_fp: 3217.0000 - val_tn: 3244779.7500 - val_fn: 2248.8774 - val_accuracy: 0.9995 - val_precision: 0.9995 - val_recall: 0.9997 - val_auc: 1.0000\n",
      "Epoch 59/200\n",
      "150340/150340 [==============================] - 5s 32us/step - loss: 0.0087 - tp: 6966759.0000 - fp: 3217.0000 - tn: 3272816.5000 - fn: 2249.0000 - accuracy: 0.9995 - precision: 0.9995 - recall: 0.9997 - auc: 1.0000 - val_loss: 0.0089 - val_tp: 7026485.5000 - val_fp: 3217.0000 - val_tn: 3300780.0000 - val_fn: 2249.0000 - val_accuracy: 0.9995 - val_precision: 0.9995 - val_recall: 0.9997 - val_auc: 1.0000\n",
      "Epoch 60/200\n",
      "150340/150340 [==============================] - 5s 31us/step - loss: 0.0086 - tp: 7086068.0000 - fp: 3217.0000 - tn: 3328848.2500 - fn: 2249.0000 - accuracy: 0.9995 - precision: 0.9996 - recall: 0.9997 - auc: 1.0000 - val_loss: 0.0087 - val_tp: 7145804.0000 - val_fp: 3217.0000 - val_tn: 3356780.5000 - val_fn: 2249.0000 - val_accuracy: 0.9995 - val_precision: 0.9996 - val_recall: 0.9997 - val_auc: 1.0000\n",
      "Epoch 61/200\n",
      "150340/150340 [==============================] - 5s 33us/step - loss: 0.0097 - tp: 7205403.0000 - fp: 3223.2681 - tn: 3384844.5000 - fn: 2256.4290 - accuracy: 0.9995 - precision: 0.9996 - recall: 0.9997 - auc: 1.0000 - val_loss: 0.0093 - val_tp: 7265133.0000 - val_fp: 3235.0000 - val_tn: 3412761.2500 - val_fn: 2272.7805 - val_accuracy: 0.9995 - val_precision: 0.9996 - val_recall: 0.9997 - val_auc: 1.0000\n",
      "Epoch 62/200\n",
      "150340/150340 [==============================] - 5s 33us/step - loss: 0.0086 - tp: 7324719.0000 - fp: 3235.0000 - tn: 3440839.2500 - fn: 2274.0000 - accuracy: 0.9995 - precision: 0.9996 - recall: 0.9997 - auc: 1.0000 - val_loss: 0.0088 - val_tp: 7384475.0000 - val_fp: 3235.0000 - val_tn: 3468760.7500 - val_fn: 2274.0000 - val_accuracy: 0.9995 - val_precision: 0.9996 - val_recall: 0.9997 - val_auc: 1.0000\n",
      "Epoch 63/200\n",
      "150340/150340 [==============================] - 5s 31us/step - loss: 0.0085 - tp: 7444030.5000 - fp: 3235.0000 - tn: 3496865.5000 - fn: 2274.0000 - accuracy: 0.9995 - precision: 0.9996 - recall: 0.9997 - auc: 1.0000 - val_loss: 0.0086 - val_tp: 7503808.5000 - val_fp: 3235.0000 - val_tn: 3524760.5000 - val_fn: 2274.0000 - val_accuracy: 0.9995 - val_precision: 0.9996 - val_recall: 0.9997 - val_auc: 1.0000\n",
      "Epoch 64/200\n",
      "150340/150340 [==============================] - 5s 36us/step - loss: 0.0084 - tp: 7563449.0000 - fp: 3235.0000 - tn: 3552788.7500 - fn: 2274.0000 - accuracy: 0.9995 - precision: 0.9996 - recall: 0.9997 - auc: 1.0000 - val_loss: 0.0083 - val_tp: 7623148.0000 - val_fp: 3235.0000 - val_tn: 3580759.7500 - val_fn: 2274.0000 - val_accuracy: 0.9995 - val_precision: 0.9996 - val_recall: 0.9997 - val_auc: 1.0000\n",
      "Epoch 65/200\n",
      "150340/150340 [==============================] - 5s 32us/step - loss: 0.0100 - tp: 7682726.0000 - fp: 3250.5361 - tn: 3608818.0000 - fn: 2291.3848 - accuracy: 0.9995 - precision: 0.9996 - recall: 0.9997 - auc: 1.0000 - val_loss: 0.0088 - val_tp: 7742483.0000 - val_fp: 3260.0000 - val_tn: 3636736.7500 - val_fn: 2303.4746 - val_accuracy: 0.9995 - val_precision: 0.9996 - val_recall: 0.9997 - val_auc: 1.0000\n",
      "Epoch 66/200\n",
      "150340/150340 [==============================] - 5s 32us/step - loss: 0.0084 - tp: 7802142.0000 - fp: 3260.0000 - tn: 3664722.5000 - fn: 2304.0000 - accuracy: 0.9995 - precision: 0.9996 - recall: 0.9997 - auc: 1.0000 - val_loss: 0.0083 - val_tp: 7861820.0000 - val_fp: 3260.0000 - val_tn: 3692736.7500 - val_fn: 2304.0000 - val_accuracy: 0.9995 - val_precision: 0.9996 - val_recall: 0.9997 - val_auc: 1.0000\n",
      "Epoch 67/200\n",
      "150340/150340 [==============================] - 5s 32us/step - loss: 0.0083 - tp: 7921482.5000 - fp: 3260.0000 - tn: 3720722.2500 - fn: 2304.0000 - accuracy: 0.9995 - precision: 0.9996 - recall: 0.9997 - auc: 1.0000 - val_loss: 0.0083 - val_tp: 7981131.0000 - val_fp: 3260.0000 - val_tn: 3748736.7500 - val_fn: 2304.0000 - val_accuracy: 0.9995 - val_precision: 0.9996 - val_recall: 0.9997 - val_auc: 1.0000\n",
      "Epoch 68/200\n",
      "150340/150340 [==============================] - 5s 32us/step - loss: 0.0082 - tp: 8040797.5000 - fp: 3260.0000 - tn: 3776749.5000 - fn: 2304.0000 - accuracy: 0.9995 - precision: 0.9996 - recall: 0.9997 - auc: 1.0000 - val_loss: 0.0080 - val_tp: 8100502.0000 - val_fp: 3260.0000 - val_tn: 3804736.7500 - val_fn: 2304.0000 - val_accuracy: 0.9995 - val_precision: 0.9996 - val_recall: 0.9997 - val_auc: 1.0000\n",
      "Epoch 69/200\n",
      "150340/150340 [==============================] - 5s 33us/step - loss: 0.0109 - tp: 8160031.0000 - fp: 3265.4512 - tn: 3832846.0000 - fn: 2310.1301 - accuracy: 0.9995 - precision: 0.9996 - recall: 0.9997 - auc: 1.0000 - val_loss: 0.0093 - val_tp: 8219797.0000 - val_fp: 3305.0000 - val_tn: 3860690.5000 - val_fn: 2357.4746 - val_accuracy: 0.9995 - val_precision: 0.9996 - val_recall: 0.9997 - val_auc: 1.0000\n",
      "Epoch 70/200\n",
      "150340/150340 [==============================] - 5s 31us/step - loss: 0.0085 - tp: 8279462.5000 - fp: 3305.0000 - tn: 3888667.0000 - fn: 2359.6655 - accuracy: 0.9995 - precision: 0.9996 - recall: 0.9997 - auc: 1.0000 - val_loss: 0.0082 - val_tp: 8339127.0000 - val_fp: 3305.0000 - val_tn: 3916690.2500 - val_fn: 2360.0000 - val_accuracy: 0.9995 - val_precision: 0.9996 - val_recall: 0.9997 - val_auc: 1.0000\n",
      "Epoch 71/200\n",
      "150340/150340 [==============================] - 5s 32us/step - loss: 0.0081 - tp: 8398750.0000 - fp: 3305.0000 - tn: 3944718.5000 - fn: 2360.0000 - accuracy: 0.9995 - precision: 0.9996 - recall: 0.9997 - auc: 1.0000 - val_loss: 0.0081 - val_tp: 8458442.0000 - val_fp: 3305.0000 - val_tn: 3972690.0000 - val_fn: 2360.0000 - val_accuracy: 0.9995 - val_precision: 0.9996 - val_recall: 0.9997 - val_auc: 1.0000\n",
      "Epoch 72/200\n",
      "150340/150340 [==============================] - 5s 32us/step - loss: 0.0081 - tp: 8518040.0000 - fp: 3305.0000 - tn: 4000767.5000 - fn: 2360.0000 - accuracy: 0.9996 - precision: 0.9996 - recall: 0.9997 - auc: 1.0000 - val_loss: 0.0085 - val_tp: 8577815.0000 - val_fp: 3305.0000 - val_tn: 4028689.7500 - val_fn: 2360.0000 - val_accuracy: 0.9996 - val_precision: 0.9996 - val_recall: 0.9997 - val_auc: 1.0000\n",
      "Epoch 73/200\n",
      "150340/150340 [==============================] - 5s 31us/step - loss: 0.0080 - tp: 8637477.0000 - fp: 3305.0000 - tn: 4056675.7500 - fn: 2360.0000 - accuracy: 0.9996 - precision: 0.9996 - recall: 0.9997 - auc: 1.0000 - val_loss: 0.0090 - val_tp: 8697149.0000 - val_fp: 3305.0000 - val_tn: 4084689.2500 - val_fn: 2360.0000 - val_accuracy: 0.9996 - val_precision: 0.9996 - val_recall: 0.9997 - val_auc: 1.0000\n",
      "Epoch 74/200\n",
      "150340/150340 [==============================] - 5s 33us/step - loss: 0.0089 - tp: 8756722.0000 - fp: 3311.8511 - tn: 4112753.5000 - fn: 2366.9600 - accuracy: 0.9996 - precision: 0.9996 - recall: 0.9997 - auc: 1.0000 - val_loss: 0.0080 - val_tp: 8816450.0000 - val_fp: 3323.0000 - val_tn: 4140673.0000 - val_fn: 2379.0000 - val_accuracy: 0.9996 - val_precision: 0.9996 - val_recall: 0.9997 - val_auc: 1.0000\n",
      "Epoch 75/200\n",
      "150340/150340 [==============================] - 5s 31us/step - loss: 0.0079 - tp: 8875992.0000 - fp: 3323.0000 - tn: 4168805.0000 - fn: 2379.0000 - accuracy: 0.9996 - precision: 0.9996 - recall: 0.9997 - auc: 1.0000 - val_loss: 0.0077 - val_tp: 8935783.0000 - val_fp: 3323.0000 - val_tn: 4196673.0000 - val_fn: 2379.0000 - val_accuracy: 0.9996 - val_precision: 0.9996 - val_recall: 0.9997 - val_auc: 1.0000\n",
      "Epoch 76/200\n",
      "150340/150340 [==============================] - 5s 31us/step - loss: 0.0078 - tp: 8995486.0000 - fp: 3323.0000 - tn: 4224651.0000 - fn: 2379.0000 - accuracy: 0.9996 - precision: 0.9996 - recall: 0.9997 - auc: 1.0000 - val_loss: 0.0081 - val_tp: 9055158.0000 - val_fp: 3323.0000 - val_tn: 4252673.0000 - val_fn: 2379.0000 - val_accuracy: 0.9996 - val_precision: 0.9996 - val_recall: 0.9997 - val_auc: 1.0000\n",
      "Epoch 77/200\n"
     ]
    },
    {
     "name": "stdout",
     "output_type": "stream",
     "text": [
      "150340/150340 [==============================] - 5s 31us/step - loss: 0.0078 - tp: 9114750.0000 - fp: 3323.0000 - tn: 4280727.0000 - fn: 2379.0000 - accuracy: 0.9996 - precision: 0.9996 - recall: 0.9997 - auc: 1.0000 - val_loss: 0.0075 - val_tp: 9174471.0000 - val_fp: 3323.0000 - val_tn: 4308673.0000 - val_fn: 2379.0000 - val_accuracy: 0.9996 - val_precision: 0.9996 - val_recall: 0.9997 - val_auc: 1.0000\n",
      "Epoch 78/200\n",
      "150340/150340 [==============================] - 5s 34us/step - loss: 0.0078 - tp: 9234079.0000 - fp: 3323.0000 - tn: 4336742.0000 - fn: 2379.0000 - accuracy: 0.9996 - precision: 0.9996 - recall: 0.9998 - auc: 1.0000 - val_loss: 0.0075 - val_tp: 9293850.0000 - val_fp: 3323.0000 - val_tn: 4364673.0000 - val_fn: 2379.0000 - val_accuracy: 0.9996 - val_precision: 0.9996 - val_recall: 0.9997 - val_auc: 1.0000\n",
      "Epoch 79/200\n",
      "150340/150340 [==============================] - 5s 35us/step - loss: 0.0113 - tp: 9353450.0000 - fp: 3349.9148 - tn: 4392644.5000 - fn: 2420.6204 - accuracy: 0.9996 - precision: 0.9996 - recall: 0.9998 - auc: 1.0000 - val_loss: 0.0079 - val_tp: 9413086.0000 - val_fp: 3364.0000 - val_tn: 4420627.5000 - val_fn: 2443.0000 - val_accuracy: 0.9996 - val_precision: 0.9996 - val_recall: 0.9997 - val_auc: 1.0000\n",
      "Epoch 80/200\n",
      "150340/150340 [==============================] - 5s 35us/step - loss: 0.0077 - tp: 9472744.0000 - fp: 3364.0000 - tn: 4448650.5000 - fn: 2443.0000 - accuracy: 0.9996 - precision: 0.9996 - recall: 0.9998 - auc: 1.0000 - val_loss: 0.0080 - val_tp: 9532452.0000 - val_fp: 3364.0000 - val_tn: 4476627.5000 - val_fn: 2443.0000 - val_accuracy: 0.9996 - val_precision: 0.9996 - val_recall: 0.9997 - val_auc: 1.0000\n",
      "Epoch 81/200\n",
      "150340/150340 [==============================] - 5s 35us/step - loss: 0.0076 - tp: 9592093.0000 - fp: 3364.0000 - tn: 4504646.0000 - fn: 2443.0000 - accuracy: 0.9996 - precision: 0.9996 - recall: 0.9998 - auc: 1.0000 - val_loss: 0.0076 - val_tp: 9651777.0000 - val_fp: 3364.0000 - val_tn: 4532627.0000 - val_fn: 2443.0000 - val_accuracy: 0.9996 - val_precision: 0.9997 - val_recall: 0.9997 - val_auc: 1.0000\n",
      "Epoch 82/200\n",
      "150340/150340 [==============================] - 5s 33us/step - loss: 0.0076 - tp: 9711379.0000 - fp: 3364.0000 - tn: 4560697.0000 - fn: 2443.0000 - accuracy: 0.9996 - precision: 0.9996 - recall: 0.9998 - auc: 1.0000 - val_loss: 0.0076 - val_tp: 9771106.0000 - val_fp: 3364.0000 - val_tn: 4588627.0000 - val_fn: 2443.0000 - val_accuracy: 0.9996 - val_precision: 0.9997 - val_recall: 0.9998 - val_auc: 1.0000\n",
      "Epoch 83/200\n",
      "150340/150340 [==============================] - 5s 30us/step - loss: 0.0087 - tp: 9830810.0000 - fp: 3367.8069 - tn: 4616597.0000 - fn: 2449.8699 - accuracy: 0.9996 - precision: 0.9996 - recall: 0.9998 - auc: 1.0000 - val_loss: 0.0080 - val_tp: 9890467.0000 - val_fp: 3373.0000 - val_tn: 4644622.5000 - val_fn: 2460.8774 - val_accuracy: 0.9996 - val_precision: 0.9997 - val_recall: 0.9998 - val_auc: 1.0000\n",
      "Epoch 84/200\n",
      "150340/150340 [==============================] - 5s 31us/step - loss: 0.0076 - tp: 9950037.0000 - fp: 3373.0000 - tn: 4672693.5000 - fn: 2461.0000 - accuracy: 0.9996 - precision: 0.9996 - recall: 0.9998 - auc: 1.0000 - val_loss: 0.0078 - val_tp: 10009791.0000 - val_fp: 3373.0000 - val_tn: 4700622.5000 - val_fn: 2461.0000 - val_accuracy: 0.9996 - val_precision: 0.9997 - val_recall: 0.9998 - val_auc: 1.0000\n",
      "Epoch 85/200\n",
      "150340/150340 [==============================] - 5s 30us/step - loss: 0.0075 - tp: 10069420.0000 - fp: 3373.0000 - tn: 4728651.5000 - fn: 2461.0000 - accuracy: 0.9996 - precision: 0.9997 - recall: 0.9998 - auc: 1.0000 - val_loss: 0.0075 - val_tp: 10129116.0000 - val_fp: 3373.0000 - val_tn: 4756622.0000 - val_fn: 2461.0000 - val_accuracy: 0.9996 - val_precision: 0.9997 - val_recall: 0.9998 - val_auc: 1.0000\n",
      "Epoch 86/200\n",
      "150340/150340 [==============================] - 5s 31us/step - loss: 0.0076 - tp: 10188711.0000 - fp: 3373.0000 - tn: 4784700.5000 - fn: 2461.0000 - accuracy: 0.9996 - precision: 0.9997 - recall: 0.9998 - auc: 1.0000 - val_loss: 0.0075 - val_tp: 10248485.0000 - val_fp: 3373.0000 - val_tn: 4812622.0000 - val_fn: 2461.0000 - val_accuracy: 0.9996 - val_precision: 0.9997 - val_recall: 0.9998 - val_auc: 1.0000\n",
      "Epoch 87/200\n",
      "150340/150340 [==============================] - 5s 35us/step - loss: 0.0099 - tp: 10308057.0000 - fp: 3403.8850 - tn: 4840635.0000 - fn: 2495.6350 - accuracy: 0.9996 - precision: 0.9997 - recall: 0.9998 - auc: 1.0000 - val_loss: 0.0078 - val_tp: 10367780.0000 - val_fp: 3419.0000 - val_tn: 4868591.0000 - val_fn: 2513.0000 - val_accuracy: 0.9996 - val_precision: 0.9997 - val_recall: 0.9998 - val_auc: 1.0000\n",
      "Epoch 88/200\n",
      "150340/150340 [==============================] - 5s 31us/step - loss: 0.0075 - tp: 10427367.0000 - fp: 3419.0000 - tn: 4896630.5000 - fn: 2513.0000 - accuracy: 0.9996 - precision: 0.9997 - recall: 0.9998 - auc: 1.0000 - val_loss: 0.0073 - val_tp: 10487103.0000 - val_fp: 3419.0000 - val_tn: 4924591.0000 - val_fn: 2513.0000 - val_accuracy: 0.9996 - val_precision: 0.9997 - val_recall: 0.9998 - val_auc: 1.0000\n",
      "Epoch 89/200\n",
      "150340/150340 [==============================] - 5s 32us/step - loss: 0.0074 - tp: 10546642.0000 - fp: 3419.0000 - tn: 4952700.0000 - fn: 2513.0000 - accuracy: 0.9996 - precision: 0.9997 - recall: 0.9998 - auc: 1.0000 - val_loss: 0.0078 - val_tp: 10606427.0000 - val_fp: 3419.0000 - val_tn: 4980591.5000 - val_fn: 2513.0000 - val_accuracy: 0.9996 - val_precision: 0.9997 - val_recall: 0.9998 - val_auc: 1.0000\n",
      "Epoch 90/200\n",
      "150340/150340 [==============================] - 5s 32us/step - loss: 0.0074 - tp: 10666038.0000 - fp: 3419.0000 - tn: 5008643.5000 - fn: 2513.0000 - accuracy: 0.9996 - precision: 0.9997 - recall: 0.9998 - auc: 1.0000 - val_loss: 0.0075 - val_tp: 10725798.0000 - val_fp: 3419.0000 - val_tn: 5036591.5000 - val_fn: 2513.8774 - val_accuracy: 0.9996 - val_precision: 0.9997 - val_recall: 0.9998 - val_auc: 1.0000\n",
      "Epoch 91/200\n",
      "150340/150340 [==============================] - 5s 32us/step - loss: 0.0074 - tp: 10785395.0000 - fp: 3419.0000 - tn: 5064628.5000 - fn: 2514.0000 - accuracy: 0.9996 - precision: 0.9997 - recall: 0.9998 - auc: 1.0000 - val_loss: 0.0073 - val_tp: 10845120.0000 - val_fp: 3419.0000 - val_tn: 5092591.5000 - val_fn: 2514.0000 - val_accuracy: 0.9996 - val_precision: 0.9997 - val_recall: 0.9998 - val_auc: 1.0000\n",
      "Epoch 92/200\n",
      "150340/150340 [==============================] - 5s 32us/step - loss: 0.0092 - tp: 10904670.0000 - fp: 3440.3889 - tn: 5120644.5000 - fn: 2537.0000 - accuracy: 0.9996 - precision: 0.9997 - recall: 0.9998 - auc: 1.0000 - val_loss: 0.0076 - val_tp: 10964417.0000 - val_fp: 3454.0000 - val_tn: 5148544.5000 - val_fn: 2552.8774 - val_accuracy: 0.9996 - val_precision: 0.9997 - val_recall: 0.9998 - val_auc: 1.0000\n",
      "Epoch 93/200\n",
      "150340/150340 [==============================] - 5s 32us/step - loss: 0.0074 - tp: 11024069.0000 - fp: 3454.0000 - tn: 5176557.0000 - fn: 2553.0000 - accuracy: 0.9996 - precision: 0.9997 - recall: 0.9998 - auc: 1.0000 - val_loss: 0.0074 - val_tp: 11083742.0000 - val_fp: 3454.0000 - val_tn: 5204544.5000 - val_fn: 2553.0000 - val_accuracy: 0.9996 - val_precision: 0.9997 - val_recall: 0.9998 - val_auc: 1.0000\n",
      "Epoch 94/200\n",
      "150340/150340 [==============================] - 5s 31us/step - loss: 0.0073 - tp: 11143365.0000 - fp: 3454.0000 - tn: 5232604.5000 - fn: 2553.0000 - accuracy: 0.9996 - precision: 0.9997 - recall: 0.9998 - auc: 1.0000 - val_loss: 0.0074 - val_tp: 11203127.0000 - val_fp: 3454.0000 - val_tn: 5260544.5000 - val_fn: 2553.0000 - val_accuracy: 0.9996 - val_precision: 0.9997 - val_recall: 0.9998 - val_auc: 1.0000\n",
      "Epoch 95/200\n",
      "150340/150340 [==============================] - 5s 31us/step - loss: 0.0073 - tp: 11262834.0000 - fp: 3454.0000 - tn: 5288477.0000 - fn: 2553.0000 - accuracy: 0.9996 - precision: 0.9997 - recall: 0.9998 - auc: 1.0000 - val_loss: 0.0070 - val_tp: 11322440.0000 - val_fp: 3454.0000 - val_tn: 5316544.5000 - val_fn: 2553.0000 - val_accuracy: 0.9996 - val_precision: 0.9997 - val_recall: 0.9998 - val_auc: 1.0000\n",
      "Epoch 96/200\n",
      "150340/150340 [==============================] - 5s 32us/step - loss: 0.0074 - tp: 11382103.0000 - fp: 3454.0000 - tn: 5344548.5000 - fn: 2553.0000 - accuracy: 0.9996 - precision: 0.9997 - recall: 0.9998 - auc: 1.0000 - val_loss: 0.0074 - val_tp: 11441761.0000 - val_fp: 3454.0000 - val_tn: 5372544.5000 - val_fn: 2553.8774 - val_accuracy: 0.9996 - val_precision: 0.9997 - val_recall: 0.9998 - val_auc: 1.0000\n",
      "Epoch 97/200\n",
      "150340/150340 [==============================] - 5s 32us/step - loss: 0.0083 - tp: 11501449.0000 - fp: 3463.0452 - tn: 5400518.5000 - fn: 2570.5906 - accuracy: 0.9996 - precision: 0.9997 - recall: 0.9998 - auc: 1.0000 - val_loss: 0.0074 - val_tp: 11561125.0000 - val_fp: 3467.0000 - val_tn: 5428540.5000 - val_fn: 2578.0000 - val_accuracy: 0.9996 - val_precision: 0.9997 - val_recall: 0.9998 - val_auc: 1.0000\n",
      "Epoch 98/200\n",
      "150340/150340 [==============================] - 5s 33us/step - loss: 0.0072 - tp: 11620803.0000 - fp: 3467.0000 - tn: 5456494.0000 - fn: 2578.0000 - accuracy: 0.9996 - precision: 0.9997 - recall: 0.9998 - auc: 1.0000 - val_loss: 0.0072 - val_tp: 11680443.0000 - val_fp: 3467.0000 - val_tn: 5484540.5000 - val_fn: 2578.0000 - val_accuracy: 0.9996 - val_precision: 0.9997 - val_recall: 0.9998 - val_auc: 1.0000\n",
      "Epoch 99/200\n",
      "150340/150340 [==============================] - 5s 31us/step - loss: 0.0072 - tp: 11740043.0000 - fp: 3467.0000 - tn: 5512593.0000 - fn: 2578.0000 - accuracy: 0.9996 - precision: 0.9997 - recall: 0.9998 - auc: 1.0000 - val_loss: 0.0073 - val_tp: 11799771.0000 - val_fp: 3467.0000 - val_tn: 5540540.0000 - val_fn: 2578.0000 - val_accuracy: 0.9997 - val_precision: 0.9997 - val_recall: 0.9998 - val_auc: 1.0000\n",
      "Epoch 100/200\n",
      "150340/150340 [==============================] - 5s 34us/step - loss: 0.0072 - tp: 11859353.0000 - fp: 3467.0000 - tn: 5568625.0000 - fn: 2578.0000 - accuracy: 0.9996 - precision: 0.9997 - recall: 0.9998 - auc: 1.0000 - val_loss: 0.0076 - val_tp: 11919141.0000 - val_fp: 3467.0000 - val_tn: 5596540.5000 - val_fn: 2578.0000 - val_accuracy: 0.9997 - val_precision: 0.9997 - val_recall: 0.9998 - val_auc: 1.0000\n",
      "Epoch 101/200\n",
      "150340/150340 [==============================] - 5s 32us/step - loss: 0.0378 - tp: 11978205.0000 - fp: 3575.1243 - tn: 5624436.5000 - fn: 3147.7131 - accuracy: 0.9996 - precision: 0.9997 - recall: 0.9997 - auc: 1.0000 - val_loss: 0.0081 - val_tp: 12037467.0000 - val_fp: 3638.0000 - val_tn: 5652355.5000 - val_fn: 3568.8774 - val_accuracy: 0.9996 - val_precision: 0.9997 - val_recall: 0.9997 - val_auc: 1.0000\n",
      "Epoch 102/200\n",
      "150340/150340 [==============================] - 5s 31us/step - loss: 0.0078 - tp: 12097105.0000 - fp: 3638.0000 - tn: 5680392.5000 - fn: 3570.5293 - accuracy: 0.9996 - precision: 0.9997 - recall: 0.9997 - auc: 1.0000 - val_loss: 0.0075 - val_tp: 12156834.0000 - val_fp: 3638.0000 - val_tn: 5708357.0000 - val_fn: 3571.0000 - val_accuracy: 0.9996 - val_precision: 0.9997 - val_recall: 0.9997 - val_auc: 1.0000\n",
      "Epoch 103/200\n",
      "150340/150340 [==============================] - 4s 30us/step - loss: 0.0075 - tp: 12216275.0000 - fp: 3638.0000 - tn: 5736564.5000 - fn: 3571.0000 - accuracy: 0.9996 - precision: 0.9997 - recall: 0.9997 - auc: 1.0000 - val_loss: 0.0077 - val_tp: 12276152.0000 - val_fp: 3638.0000 - val_tn: 5764355.5000 - val_fn: 3571.0000 - val_accuracy: 0.9996 - val_precision: 0.9997 - val_recall: 0.9997 - val_auc: 1.0000\n",
      "Epoch 104/200\n",
      "150340/150340 [==============================] - 5s 31us/step - loss: 0.0073 - tp: 12335846.0000 - fp: 3638.0000 - tn: 5792332.5000 - fn: 3571.0000 - accuracy: 0.9996 - precision: 0.9997 - recall: 0.9997 - auc: 1.0000 - val_loss: 0.0072 - val_tp: 12395485.0000 - val_fp: 3638.0000 - val_tn: 5820358.5000 - val_fn: 3571.0000 - val_accuracy: 0.9996 - val_precision: 0.9997 - val_recall: 0.9997 - val_auc: 1.0000\n",
      "Epoch 105/200\n",
      "150340/150340 [==============================] - 5s 34us/step - loss: 0.0072 - tp: 12455093.0000 - fp: 3638.0000 - tn: 5848426.0000 - fn: 3571.0000 - accuracy: 0.9996 - precision: 0.9997 - recall: 0.9997 - auc: 1.0000 - val_loss: 0.0070 - val_tp: 12514850.0000 - val_fp: 3638.0000 - val_tn: 5876355.5000 - val_fn: 3571.0000 - val_accuracy: 0.9996 - val_precision: 0.9997 - val_recall: 0.9997 - val_auc: 1.0000\n",
      "Epoch 106/200\n",
      "150340/150340 [==============================] - 5s 30us/step - loss: 0.0071 - tp: 12574353.0000 - fp: 3638.0000 - tn: 5904508.0000 - fn: 3571.0000 - accuracy: 0.9996 - precision: 0.9997 - recall: 0.9997 - auc: 1.0000 - val_loss: 0.0070 - val_tp: 12634185.0000 - val_fp: 3638.0000 - val_tn: 5932360.0000 - val_fn: 3571.0000 - val_accuracy: 0.9996 - val_precision: 0.9997 - val_recall: 0.9997 - val_auc: 1.0000\n",
      "Epoch 107/200\n",
      "150340/150340 [==============================] - 4s 30us/step - loss: 0.0090 - tp: 12693778.0000 - fp: 3655.5796 - tn: 5960387.0000 - fn: 3590.0637 - accuracy: 0.9996 - precision: 0.9997 - recall: 0.9997 - auc: 1.0000 - val_loss: 0.0073 - val_tp: 12753481.0000 - val_fp: 3677.0000 - val_tn: 5988337.5000 - val_fn: 3614.8774 - val_accuracy: 0.9996 - val_precision: 0.9997 - val_recall: 0.9997 - val_auc: 1.0000\n",
      "Epoch 108/200\n",
      "150340/150340 [==============================] - 5s 31us/step - loss: 0.0071 - tp: 12813225.0000 - fp: 3677.0000 - tn: 6016239.0000 - fn: 3615.0000 - accuracy: 0.9996 - precision: 0.9997 - recall: 0.9997 - auc: 1.0000 - val_loss: 0.0071 - val_tp: 12872803.0000 - val_fp: 3677.0000 - val_tn: 6044332.0000 - val_fn: 3615.0000 - val_accuracy: 0.9996 - val_precision: 0.9997 - val_recall: 0.9997 - val_auc: 1.0000\n",
      "Epoch 109/200\n",
      "150340/150340 [==============================] - 5s 31us/step - loss: 0.0070 - tp: 12932530.0000 - fp: 3677.0000 - tn: 6072271.0000 - fn: 3615.0000 - accuracy: 0.9996 - precision: 0.9997 - recall: 0.9997 - auc: 1.0000 - val_loss: 0.0070 - val_tp: 12992175.0000 - val_fp: 3677.0000 - val_tn: 6100337.5000 - val_fn: 3615.0000 - val_accuracy: 0.9996 - val_precision: 0.9997 - val_recall: 0.9997 - val_auc: 1.0000\n",
      "Epoch 110/200\n",
      "150340/150340 [==============================] - 5s 30us/step - loss: 0.0070 - tp: 13051814.0000 - fp: 3677.0000 - tn: 6128330.0000 - fn: 3615.0000 - accuracy: 0.9996 - precision: 0.9997 - recall: 0.9997 - auc: 1.0000 - val_loss: 0.0074 - val_tp: 13111500.0000 - val_fp: 3677.0000 - val_tn: 6156331.0000 - val_fn: 3615.0000 - val_accuracy: 0.9996 - val_precision: 0.9997 - val_recall: 0.9997 - val_auc: 1.0000\n",
      "Epoch 111/200\n",
      "150340/150340 [==============================] - 5s 31us/step - loss: 0.0070 - tp: 13171116.0000 - fp: 3677.0000 - tn: 6184366.0000 - fn: 3615.0000 - accuracy: 0.9996 - precision: 0.9997 - recall: 0.9997 - auc: 1.0000 - val_loss: 0.0069 - val_tp: 13230821.0000 - val_fp: 3677.0000 - val_tn: 6212338.5000 - val_fn: 3615.0000 - val_accuracy: 0.9996 - val_precision: 0.9997 - val_recall: 0.9997 - val_auc: 1.0000\n",
      "Epoch 112/200\n",
      "150340/150340 [==============================] - 6s 38us/step - loss: 0.0080 - tp: 13290472.0000 - fp: 3677.1013 - tn: 6240351.5000 - fn: 3615.0859 - accuracy: 0.9996 - precision: 0.9997 - recall: 0.9997 - auc: 1.0000 - val_loss: 0.2752 - val_tp: 13349342.0000 - val_fp: 3710.0000 - val_tn: 6268288.5000 - val_fn: 4456.6631 - val_accuracy: 0.9996 - val_precision: 0.9997 - val_recall: 0.9997 - val_auc: 1.0000\n",
      "Epoch 113/200\n",
      "150340/150340 [==============================] - 6s 38us/step - loss: 0.0117 - tp: 13407956.0000 - fp: 3761.9771 - tn: 6296403.5000 - fn: 5336.7217 - accuracy: 0.9995 - precision: 0.9997 - recall: 0.9996 - auc: 1.0000 - val_loss: 0.0072 - val_tp: 13467809.0000 - val_fp: 3763.0000 - val_tn: 6324227.5000 - val_fn: 5338.0000 - val_accuracy: 0.9995 - val_precision: 0.9997 - val_recall: 0.9996 - val_auc: 1.0000\n",
      "Epoch 114/200\n",
      "150340/150340 [==============================] - 6s 38us/step - loss: 0.0070 - tp: 13527453.0000 - fp: 3763.0000 - tn: 6352241.5000 - fn: 5338.0000 - accuracy: 0.9996 - precision: 0.9997 - recall: 0.9996 - auc: 1.0000 - val_loss: 0.0070 - val_tp: 13587148.0000 - val_fp: 3763.0000 - val_tn: 6380236.5000 - val_fn: 5338.0000 - val_accuracy: 0.9995 - val_precision: 0.9997 - val_recall: 0.9996 - val_auc: 1.0000\n",
      "Epoch 115/200\n"
     ]
    },
    {
     "name": "stdout",
     "output_type": "stream",
     "text": [
      "150340/150340 [==============================] - 6s 38us/step - loss: 0.0069 - tp: 13646667.0000 - fp: 3763.0000 - tn: 6408372.5000 - fn: 5338.0000 - accuracy: 0.9996 - precision: 0.9997 - recall: 0.9996 - auc: 1.0000 - val_loss: 0.0069 - val_tp: 13706469.0000 - val_fp: 3763.0000 - val_tn: 6436227.5000 - val_fn: 5338.0000 - val_accuracy: 0.9996 - val_precision: 0.9997 - val_recall: 0.9996 - val_auc: 1.0000\n",
      "Epoch 116/200\n",
      "150340/150340 [==============================] - 6s 38us/step - loss: 0.0069 - tp: 13766134.0000 - fp: 3763.0000 - tn: 6464245.5000 - fn: 5338.0000 - accuracy: 0.9996 - precision: 0.9997 - recall: 0.9996 - auc: 1.0000 - val_loss: 0.0076 - val_tp: 13825836.0000 - val_fp: 3763.0000 - val_tn: 6492237.0000 - val_fn: 5339.4746 - val_accuracy: 0.9996 - val_precision: 0.9997 - val_recall: 0.9996 - val_auc: 1.0000\n",
      "Epoch 117/200\n",
      "150340/150340 [==============================] - 5s 32us/step - loss: 0.0069 - tp: 13885544.0000 - fp: 3763.0000 - tn: 6520169.5000 - fn: 5340.0000 - accuracy: 0.9996 - precision: 0.9997 - recall: 0.9996 - auc: 1.0000 - val_loss: 0.0071 - val_tp: 13945168.0000 - val_fp: 3763.0000 - val_tn: 6548227.5000 - val_fn: 5340.0000 - val_accuracy: 0.9996 - val_precision: 0.9997 - val_recall: 0.9996 - val_auc: 1.0000\n",
      "Epoch 118/200\n",
      "150340/150340 [==============================] - 5s 31us/step - loss: 0.0069 - tp: 14004744.0000 - fp: 3763.0000 - tn: 6576313.0000 - fn: 5340.0000 - accuracy: 0.9996 - precision: 0.9997 - recall: 0.9996 - auc: 1.0000 - val_loss: 0.0068 - val_tp: 14064487.0000 - val_fp: 3763.0000 - val_tn: 6604238.5000 - val_fn: 5340.0000 - val_accuracy: 0.9996 - val_precision: 0.9997 - val_recall: 0.9996 - val_auc: 1.0000\n",
      "Epoch 119/200\n",
      "150340/150340 [==============================] - 5s 32us/step - loss: 0.0086 - tp: 14124124.0000 - fp: 3779.5310 - tn: 6632236.5000 - fn: 5360.1719 - accuracy: 0.9996 - precision: 0.9997 - recall: 0.9996 - auc: 1.0000 - val_loss: 0.0070 - val_tp: 14183833.0000 - val_fp: 3791.0000 - val_tn: 6660220.5000 - val_fn: 5375.0000 - val_accuracy: 0.9996 - val_precision: 0.9997 - val_recall: 0.9996 - val_auc: 1.0000\n",
      "Epoch 120/200\n",
      "150340/150340 [==============================] - 5s 31us/step - loss: 0.0069 - tp: 14243393.0000 - fp: 3791.0000 - tn: 6688282.0000 - fn: 5375.0000 - accuracy: 0.9996 - precision: 0.9997 - recall: 0.9996 - auc: 1.0000 - val_loss: 0.0069 - val_tp: 14303151.0000 - val_fp: 3791.0000 - val_tn: 6716209.0000 - val_fn: 5375.0000 - val_accuracy: 0.9996 - val_precision: 0.9997 - val_recall: 0.9996 - val_auc: 1.0000\n",
      "Epoch 121/200\n",
      "150340/150340 [==============================] - 5s 31us/step - loss: 0.0068 - tp: 14362894.0000 - fp: 3791.0000 - tn: 6744120.5000 - fn: 5375.0000 - accuracy: 0.9996 - precision: 0.9997 - recall: 0.9996 - auc: 1.0000 - val_loss: 0.0068 - val_tp: 14422485.0000 - val_fp: 3791.0000 - val_tn: 6772220.5000 - val_fn: 5375.0000 - val_accuracy: 0.9996 - val_precision: 0.9997 - val_recall: 0.9996 - val_auc: 1.0000\n",
      "Epoch 122/200\n",
      "150340/150340 [==============================] - 5s 31us/step - loss: 0.0085 - tp: 14482056.0000 - fp: 3793.5566 - tn: 6800297.0000 - fn: 5377.9780 - accuracy: 0.9996 - precision: 0.9997 - recall: 0.9996 - auc: 1.0000 - val_loss: 0.0077 - val_tp: 14541793.0000 - val_fp: 3821.0000 - val_tn: 6828170.0000 - val_fn: 5410.0000 - val_accuracy: 0.9996 - val_precision: 0.9997 - val_recall: 0.9996 - val_auc: 1.0000\n",
      "Epoch 123/200\n",
      "150340/150340 [==============================] - 5s 32us/step - loss: 0.0071 - tp: 14601331.0000 - fp: 3821.0000 - tn: 6856305.0000 - fn: 5410.6060 - accuracy: 0.9996 - precision: 0.9997 - recall: 0.9996 - auc: 1.0000 - val_loss: 0.0068 - val_tp: 14661147.0000 - val_fp: 3821.0000 - val_tn: 6884183.0000 - val_fn: 5411.0000 - val_accuracy: 0.9996 - val_precision: 0.9997 - val_recall: 0.9996 - val_auc: 1.0000\n",
      "Epoch 124/200\n",
      "150340/150340 [==============================] - 5s 32us/step - loss: 0.0068 - tp: 14720768.0000 - fp: 3821.0000 - tn: 6912215.0000 - fn: 5411.0000 - accuracy: 0.9996 - precision: 0.9997 - recall: 0.9996 - auc: 1.0000 - val_loss: 0.0069 - val_tp: 14780464.0000 - val_fp: 3821.0000 - val_tn: 6940170.0000 - val_fn: 5411.0000 - val_accuracy: 0.9996 - val_precision: 0.9997 - val_recall: 0.9996 - val_auc: 1.0000\n",
      "Epoch 125/200\n",
      "150340/150340 [==============================] - 6s 38us/step - loss: 0.0067 - tp: 14840066.0000 - fp: 3821.0000 - tn: 6968252.0000 - fn: 5411.0000 - accuracy: 0.9996 - precision: 0.9998 - recall: 0.9996 - auc: 1.0000 - val_loss: 0.0067 - val_tp: 14899811.0000 - val_fp: 3821.0000 - val_tn: 6996183.5000 - val_fn: 5411.0000 - val_accuracy: 0.9996 - val_precision: 0.9997 - val_recall: 0.9996 - val_auc: 1.0000\n",
      "Epoch 126/200\n",
      "150340/150340 [==============================] - 5s 34us/step - loss: 0.0068 - tp: 14959457.0000 - fp: 3821.0000 - tn: 7024201.0000 - fn: 5411.0000 - accuracy: 0.9996 - precision: 0.9998 - recall: 0.9996 - auc: 1.0000 - val_loss: 0.0070 - val_tp: 15019165.0000 - val_fp: 3821.0000 - val_tn: 7052170.0000 - val_fn: 5411.0000 - val_accuracy: 0.9996 - val_precision: 0.9997 - val_recall: 0.9996 - val_auc: 1.0000\n",
      "Epoch 127/200\n",
      "150340/150340 [==============================] - 5s 30us/step - loss: 0.0085 - tp: 15078803.0000 - fp: 3824.2605 - tn: 7080188.0000 - fn: 5415.1738 - accuracy: 0.9996 - precision: 0.9998 - recall: 0.9996 - auc: 1.0000 - val_loss: 0.0086 - val_tp: 15138459.0000 - val_fp: 3858.0000 - val_tn: 7108136.0000 - val_fn: 5460.2856 - val_accuracy: 0.9996 - val_precision: 0.9997 - val_recall: 0.9996 - val_auc: 1.0000\n",
      "Epoch 128/200\n",
      "150340/150340 [==============================] - 5s 30us/step - loss: 0.0071 - tp: 15197960.0000 - fp: 3858.0000 - tn: 7136286.0000 - fn: 5462.0000 - accuracy: 0.9996 - precision: 0.9998 - recall: 0.9996 - auc: 1.0000 - val_loss: 0.0068 - val_tp: 15257810.0000 - val_fp: 3858.0000 - val_tn: 7164151.0000 - val_fn: 5462.0000 - val_accuracy: 0.9996 - val_precision: 0.9997 - val_recall: 0.9996 - val_auc: 1.0000\n",
      "Epoch 129/200\n",
      "150340/150340 [==============================] - 5s 31us/step - loss: 0.0067 - tp: 15317386.0000 - fp: 3858.0000 - tn: 7192203.0000 - fn: 5462.0000 - accuracy: 0.9996 - precision: 0.9998 - recall: 0.9996 - auc: 1.0000 - val_loss: 0.0069 - val_tp: 15377123.0000 - val_fp: 3858.0000 - val_tn: 7220135.0000 - val_fn: 5462.0000 - val_accuracy: 0.9996 - val_precision: 0.9998 - val_recall: 0.9996 - val_auc: 1.0000\n",
      "Epoch 130/200\n",
      "150340/150340 [==============================] - 5s 31us/step - loss: 0.0067 - tp: 15436822.0000 - fp: 3858.0000 - tn: 7248104.0000 - fn: 5462.0000 - accuracy: 0.9996 - precision: 0.9998 - recall: 0.9996 - auc: 1.0000 - val_loss: 0.0067 - val_tp: 15496475.0000 - val_fp: 3858.0000 - val_tn: 7276151.0000 - val_fn: 5462.0000 - val_accuracy: 0.9996 - val_precision: 0.9998 - val_recall: 0.9996 - val_auc: 1.0000\n",
      "Epoch 131/200\n",
      "150340/150340 [==============================] - 5s 30us/step - loss: 0.0067 - tp: 15556038.0000 - fp: 3858.0000 - tn: 7304233.5000 - fn: 5462.0000 - accuracy: 0.9996 - precision: 0.9998 - recall: 0.9996 - auc: 1.0000 - val_loss: 0.0069 - val_tp: 15615828.0000 - val_fp: 3858.0000 - val_tn: 7332134.5000 - val_fn: 5462.0000 - val_accuracy: 0.9996 - val_precision: 0.9998 - val_recall: 0.9996 - val_auc: 1.0000\n",
      "Epoch 132/200\n",
      "150340/150340 [==============================] - 5s 31us/step - loss: 0.0067 - tp: 15675401.0000 - fp: 3858.0000 - tn: 7360215.5000 - fn: 5462.0000 - accuracy: 0.9996 - precision: 0.9998 - recall: 0.9996 - auc: 1.0000 - val_loss: 0.0067 - val_tp: 15735144.0000 - val_fp: 3858.0000 - val_tn: 7388151.0000 - val_fn: 5462.0000 - val_accuracy: 0.9996 - val_precision: 0.9998 - val_recall: 0.9997 - val_auc: 1.0000\n",
      "Epoch 133/200\n",
      "150340/150340 [==============================] - 5s 31us/step - loss: 0.0098 - tp: 15794774.0000 - fp: 3896.1116 - tn: 7416093.0000 - fn: 5510.6938 - accuracy: 0.9996 - precision: 0.9998 - recall: 0.9996 - auc: 1.0000 - val_loss: 0.0068 - val_tp: 15854437.0000 - val_fp: 3903.0000 - val_tn: 7444096.5000 - val_fn: 5520.8774 - val_accuracy: 0.9996 - val_precision: 0.9998 - val_recall: 0.9997 - val_auc: 1.0000\n",
      "Epoch 134/200\n",
      "150340/150340 [==============================] - 5s 32us/step - loss: 0.0067 - tp: 15914140.0000 - fp: 3903.0000 - tn: 7472048.5000 - fn: 5521.0000 - accuracy: 0.9996 - precision: 0.9998 - recall: 0.9996 - auc: 1.0000 - val_loss: 0.0067 - val_tp: 15973786.0000 - val_fp: 3903.0000 - val_tn: 7500113.5000 - val_fn: 5521.0000 - val_accuracy: 0.9996 - val_precision: 0.9998 - val_recall: 0.9997 - val_auc: 1.0000\n",
      "Epoch 135/200\n",
      "150340/150340 [==============================] - 5s 31us/step - loss: 0.0066 - tp: 16033382.0000 - fp: 3903.0000 - tn: 7528151.5000 - fn: 5521.0000 - accuracy: 0.9996 - precision: 0.9998 - recall: 0.9996 - auc: 1.0000 - val_loss: 0.0067 - val_tp: 16093140.0000 - val_fp: 3903.0000 - val_tn: 7556096.5000 - val_fn: 5521.0000 - val_accuracy: 0.9996 - val_precision: 0.9998 - val_recall: 0.9997 - val_auc: 1.0000\n",
      "Epoch 136/200\n",
      "150340/150340 [==============================] - 5s 31us/step - loss: 0.0066 - tp: 16152827.0000 - fp: 3903.0000 - tn: 7584051.0000 - fn: 5521.0000 - accuracy: 0.9996 - precision: 0.9998 - recall: 0.9996 - auc: 1.0000 - val_loss: 0.0071 - val_tp: 16212454.0000 - val_fp: 3903.0000 - val_tn: 7612114.5000 - val_fn: 5521.0000 - val_accuracy: 0.9996 - val_precision: 0.9998 - val_recall: 0.9997 - val_auc: 1.0000\n",
      "Epoch 137/200\n",
      "150340/150340 [==============================] - 5s 32us/step - loss: 0.0066 - tp: 16272144.0000 - fp: 3903.0000 - tn: 7640066.5000 - fn: 5521.0000 - accuracy: 0.9996 - precision: 0.9998 - recall: 0.9996 - auc: 1.0000 - val_loss: 0.0067 - val_tp: 16331802.0000 - val_fp: 3903.0000 - val_tn: 7668096.5000 - val_fn: 5521.0000 - val_accuracy: 0.9996 - val_precision: 0.9998 - val_recall: 0.9997 - val_auc: 1.0000\n",
      "Epoch 138/200\n",
      "150340/150340 [==============================] - 5s 32us/step - loss: 0.0066 - tp: 16391462.0000 - fp: 3903.0000 - tn: 7696097.5000 - fn: 5521.0000 - accuracy: 0.9996 - precision: 0.9998 - recall: 0.9996 - auc: 1.0000 - val_loss: 0.0064 - val_tp: 16451158.0000 - val_fp: 3903.0000 - val_tn: 7724115.0000 - val_fn: 5521.0000 - val_accuracy: 0.9996 - val_precision: 0.9998 - val_recall: 0.9997 - val_auc: 1.0000\n",
      "Epoch 139/200\n",
      "150340/150340 [==============================] - 5s 33us/step - loss: 0.0091 - tp: 16510728.0000 - fp: 3938.0452 - tn: 7752091.5000 - fn: 5567.3574 - accuracy: 0.9996 - precision: 0.9998 - recall: 0.9996 - auc: 1.0000 - val_loss: 0.0068 - val_tp: 16570410.0000 - val_fp: 3948.0000 - val_tn: 7780059.5000 - val_fn: 5581.0000 - val_accuracy: 0.9996 - val_precision: 0.9998 - val_recall: 0.9997 - val_auc: 1.0000\n",
      "Epoch 140/200\n",
      "150340/150340 [==============================] - 5s 33us/step - loss: 0.0066 - tp: 16630077.0000 - fp: 3948.0000 - tn: 7808053.0000 - fn: 5581.0000 - accuracy: 0.9996 - precision: 0.9998 - recall: 0.9997 - auc: 1.0000 - val_loss: 0.0065 - val_tp: 16689766.0000 - val_fp: 3948.0000 - val_tn: 7836040.5000 - val_fn: 5581.0000 - val_accuracy: 0.9996 - val_precision: 0.9998 - val_recall: 0.9997 - val_auc: 1.0000\n",
      "Epoch 141/200\n",
      "150340/150340 [==============================] - 5s 33us/step - loss: 0.0065 - tp: 16749447.0000 - fp: 3948.0000 - tn: 7864023.0000 - fn: 5581.0000 - accuracy: 0.9996 - precision: 0.9998 - recall: 0.9997 - auc: 1.0000 - val_loss: 0.0066 - val_tp: 16809108.0000 - val_fp: 3948.0000 - val_tn: 7892060.0000 - val_fn: 5581.0000 - val_accuracy: 0.9996 - val_precision: 0.9998 - val_recall: 0.9997 - val_auc: 1.0000\n",
      "Epoch 142/200\n",
      "150340/150340 [==============================] - 5s 33us/step - loss: 0.0065 - tp: 16868602.0000 - fp: 3948.0000 - tn: 7920207.0000 - fn: 5581.0000 - accuracy: 0.9996 - precision: 0.9998 - recall: 0.9997 - auc: 1.0000 - val_loss: 0.0065 - val_tp: 16928420.0000 - val_fp: 3948.0000 - val_tn: 7948040.5000 - val_fn: 5581.0000 - val_accuracy: 0.9996 - val_precision: 0.9998 - val_recall: 0.9997 - val_auc: 1.0000\n",
      "Epoch 143/200\n",
      "150340/150340 [==============================] - 5s 33us/step - loss: 0.0065 - tp: 16987994.0000 - fp: 3948.0000 - tn: 7976138.0000 - fn: 5581.0000 - accuracy: 0.9996 - precision: 0.9998 - recall: 0.9997 - auc: 1.0000 - val_loss: 0.0065 - val_tp: 17047768.0000 - val_fp: 3948.0000 - val_tn: 8004060.5000 - val_fn: 5581.0000 - val_accuracy: 0.9996 - val_precision: 0.9998 - val_recall: 0.9997 - val_auc: 1.0000\n",
      "Epoch 144/200\n",
      "150340/150340 [==============================] - 5s 33us/step - loss: 0.0065 - tp: 17107398.0000 - fp: 3948.0000 - tn: 8032077.5000 - fn: 5581.0000 - accuracy: 0.9996 - precision: 0.9998 - recall: 0.9997 - auc: 1.0000 - val_loss: 0.0070 - val_tp: 17167124.0000 - val_fp: 3948.0000 - val_tn: 8060040.5000 - val_fn: 5582.4746 - val_accuracy: 0.9996 - val_precision: 0.9998 - val_recall: 0.9997 - val_auc: 1.0000\n",
      "Epoch 145/200\n",
      "150340/150340 [==============================] - 5s 33us/step - loss: 0.0086 - tp: 17226712.0000 - fp: 3959.1565 - tn: 8088083.5000 - fn: 5595.4341 - accuracy: 0.9996 - precision: 0.9998 - recall: 0.9997 - auc: 1.0000 - val_loss: 0.0071 - val_tp: 17286378.0000 - val_fp: 3999.0000 - val_tn: 8116000.5000 - val_fn: 5642.5869 - val_accuracy: 0.9996 - val_precision: 0.9998 - val_recall: 0.9997 - val_auc: 1.0000\n",
      "Epoch 146/200\n",
      "150340/150340 [==============================] - 5s 33us/step - loss: 0.0068 - tp: 17345952.0000 - fp: 3999.0000 - tn: 8144110.0000 - fn: 5645.8521 - accuracy: 0.9996 - precision: 0.9998 - recall: 0.9997 - auc: 1.0000 - val_loss: 0.0065 - val_tp: 17405732.0000 - val_fp: 3999.0000 - val_tn: 8172021.5000 - val_fn: 5646.0000 - val_accuracy: 0.9996 - val_precision: 0.9998 - val_recall: 0.9997 - val_auc: 1.0000\n",
      "Epoch 147/200\n",
      "150340/150340 [==============================] - 5s 32us/step - loss: 0.0065 - tp: 17465370.0000 - fp: 3999.0000 - tn: 8200032.5000 - fn: 5646.0000 - accuracy: 0.9996 - precision: 0.9998 - recall: 0.9997 - auc: 1.0000 - val_loss: 0.0065 - val_tp: 17525080.0000 - val_fp: 3999.0000 - val_tn: 8228000.0000 - val_fn: 5646.0000 - val_accuracy: 0.9996 - val_precision: 0.9998 - val_recall: 0.9997 - val_auc: 1.0000\n",
      "Epoch 148/200\n",
      "150340/150340 [==============================] - 5s 31us/step - loss: 0.0064 - tp: 17584620.0000 - fp: 3999.0000 - tn: 8256098.0000 - fn: 5646.0000 - accuracy: 0.9996 - precision: 0.9998 - recall: 0.9997 - auc: 1.0000 - val_loss: 0.0064 - val_tp: 17644392.0000 - val_fp: 3999.0000 - val_tn: 8284021.5000 - val_fn: 5646.0000 - val_accuracy: 0.9996 - val_precision: 0.9998 - val_recall: 0.9997 - val_auc: 1.0000\n",
      "Epoch 149/200\n",
      "150340/150340 [==============================] - 5s 33us/step - loss: 0.0064 - tp: 17704058.0000 - fp: 3999.0000 - tn: 8311993.0000 - fn: 5646.0000 - accuracy: 0.9996 - precision: 0.9998 - recall: 0.9997 - auc: 1.0000 - val_loss: 0.0065 - val_tp: 17763748.0000 - val_fp: 3999.0000 - val_tn: 8339999.5000 - val_fn: 5646.0000 - val_accuracy: 0.9996 - val_precision: 0.9998 - val_recall: 0.9997 - val_auc: 1.0000\n",
      "Epoch 150/200\n",
      "150340/150340 [==============================] - 5s 30us/step - loss: 0.0064 - tp: 17823330.0000 - fp: 3999.0000 - tn: 8368072.0000 - fn: 5646.0000 - accuracy: 0.9996 - precision: 0.9998 - recall: 0.9997 - auc: 1.0000 - val_loss: 0.0064 - val_tp: 17883096.0000 - val_fp: 3999.0000 - val_tn: 8396022.0000 - val_fn: 5646.0000 - val_accuracy: 0.9996 - val_precision: 0.9998 - val_recall: 0.9997 - val_auc: 1.0000\n",
      "Epoch 151/200\n",
      "150340/150340 [==============================] - 5s 31us/step - loss: 0.0101 - tp: 17942684.0000 - fp: 4035.0188 - tn: 8424011.0000 - fn: 5681.0229 - accuracy: 0.9996 - precision: 0.9998 - recall: 0.9997 - auc: 1.0000 - val_loss: 0.0068 - val_tp: 18002450.0000 - val_fp: 4056.0000 - val_tn: 8451958.0000 - val_fn: 5702.3828 - val_accuracy: 0.9996 - val_precision: 0.9998 - val_recall: 0.9997 - val_auc: 1.0000\n",
      "Epoch 152/200\n",
      "150340/150340 [==============================] - 5s 33us/step - loss: 0.0066 - tp: 18062090.0000 - fp: 4056.0000 - tn: 8479937.0000 - fn: 5703.0000 - accuracy: 0.9996 - precision: 0.9998 - recall: 0.9997 - auc: 1.0000 - val_loss: 0.0064 - val_tp: 18121766.0000 - val_fp: 4056.0000 - val_tn: 8507935.0000 - val_fn: 5703.0000 - val_accuracy: 0.9996 - val_precision: 0.9998 - val_recall: 0.9997 - val_auc: 1.0000\n",
      "Epoch 153/200\n"
     ]
    },
    {
     "name": "stdout",
     "output_type": "stream",
     "text": [
      "150340/150340 [==============================] - 5s 33us/step - loss: 0.0064 - tp: 18181388.0000 - fp: 4056.0000 - tn: 8535984.0000 - fn: 5703.0000 - accuracy: 0.9996 - precision: 0.9998 - recall: 0.9997 - auc: 1.0000 - val_loss: 0.0063 - val_tp: 18241118.0000 - val_fp: 4056.0000 - val_tn: 8563958.0000 - val_fn: 5703.0000 - val_accuracy: 0.9996 - val_precision: 0.9998 - val_recall: 0.9997 - val_auc: 1.0000\n",
      "Epoch 154/200\n",
      "150340/150340 [==============================] - 5s 34us/step - loss: 0.0063 - tp: 18300672.0000 - fp: 4056.0000 - tn: 8592042.0000 - fn: 5703.0000 - accuracy: 0.9996 - precision: 0.9998 - recall: 0.9997 - auc: 1.0000 - val_loss: 0.0063 - val_tp: 18360468.0000 - val_fp: 4056.0000 - val_tn: 8619935.0000 - val_fn: 5703.0000 - val_accuracy: 0.9996 - val_precision: 0.9998 - val_recall: 0.9997 - val_auc: 1.0000\n",
      "Epoch 155/200\n",
      "150340/150340 [==============================] - 5s 34us/step - loss: 0.0063 - tp: 18420084.0000 - fp: 4056.0000 - tn: 8647953.0000 - fn: 5703.0000 - accuracy: 0.9996 - precision: 0.9998 - recall: 0.9997 - auc: 1.0000 - val_loss: 0.0064 - val_tp: 18479768.0000 - val_fp: 4056.0000 - val_tn: 8675958.0000 - val_fn: 5703.0000 - val_accuracy: 0.9996 - val_precision: 0.9998 - val_recall: 0.9997 - val_auc: 1.0000\n",
      "Epoch 156/200\n",
      "150340/150340 [==============================] - 5s 35us/step - loss: 0.0063 - tp: 18539340.0000 - fp: 4056.0000 - tn: 8704017.0000 - fn: 5703.0000 - accuracy: 0.9996 - precision: 0.9998 - recall: 0.9997 - auc: 1.0000 - val_loss: 0.0071 - val_tp: 18599130.0000 - val_fp: 4056.0000 - val_tn: 8731935.0000 - val_fn: 5703.8774 - val_accuracy: 0.9996 - val_precision: 0.9998 - val_recall: 0.9997 - val_auc: 1.0000\n",
      "Epoch 157/200\n",
      "150340/150340 [==============================] - 5s 34us/step - loss: 0.0107 - tp: 18658618.0000 - fp: 4108.2466 - tn: 8759974.0000 - fn: 5762.3560 - accuracy: 0.9996 - precision: 0.9998 - recall: 0.9997 - auc: 1.0000 - val_loss: 0.0066 - val_tp: 18718368.0000 - val_fp: 4128.0000 - val_tn: 8787850.0000 - val_fn: 5785.8774 - val_accuracy: 0.9996 - val_precision: 0.9998 - val_recall: 0.9997 - val_auc: 1.0000\n",
      "Epoch 158/200\n",
      "150340/150340 [==============================] - 5s 33us/step - loss: 0.0064 - tp: 18777988.0000 - fp: 4128.0000 - tn: 8815912.0000 - fn: 5786.0000 - accuracy: 0.9996 - precision: 0.9998 - recall: 0.9997 - auc: 1.0000 - val_loss: 0.0064 - val_tp: 18837726.0000 - val_fp: 4128.0000 - val_tn: 8843894.0000 - val_fn: 5786.0000 - val_accuracy: 0.9996 - val_precision: 0.9998 - val_recall: 0.9997 - val_auc: 1.0000\n",
      "Epoch 159/200\n",
      "150340/150340 [==============================] - 5s 31us/step - loss: 0.0063 - tp: 18897330.0000 - fp: 4128.0000 - tn: 8871933.0000 - fn: 5786.0000 - accuracy: 0.9996 - precision: 0.9998 - recall: 0.9997 - auc: 1.0000 - val_loss: 0.0064 - val_tp: 18957074.0000 - val_fp: 4128.0000 - val_tn: 8899850.0000 - val_fn: 5786.0000 - val_accuracy: 0.9996 - val_precision: 0.9998 - val_recall: 0.9997 - val_auc: 1.0000\n",
      "Epoch 160/200\n",
      "150340/150340 [==============================] - 5s 31us/step - loss: 0.0063 - tp: 19016808.0000 - fp: 4128.0000 - tn: 8927787.0000 - fn: 5786.0000 - accuracy: 0.9996 - precision: 0.9998 - recall: 0.9997 - auc: 1.0000 - val_loss: 0.0062 - val_tp: 19076388.0000 - val_fp: 4128.0000 - val_tn: 8955894.0000 - val_fn: 5786.0000 - val_accuracy: 0.9997 - val_precision: 0.9998 - val_recall: 0.9997 - val_auc: 1.0000\n",
      "Epoch 161/200\n",
      "150340/150340 [==============================] - 5s 33us/step - loss: 0.0063 - tp: 19135962.0000 - fp: 4128.0000 - tn: 8983964.0000 - fn: 5786.0000 - accuracy: 0.9996 - precision: 0.9998 - recall: 0.9997 - auc: 1.0000 - val_loss: 0.0061 - val_tp: 19195744.0000 - val_fp: 4128.0000 - val_tn: 9011850.0000 - val_fn: 5786.0000 - val_accuracy: 0.9997 - val_precision: 0.9998 - val_recall: 0.9997 - val_auc: 1.0000\n",
      "Epoch 162/200\n",
      "150340/150340 [==============================] - 5s 35us/step - loss: 0.0063 - tp: 19255316.0000 - fp: 4128.0000 - tn: 9039950.0000 - fn: 5786.0000 - accuracy: 0.9996 - precision: 0.9998 - recall: 0.9997 - auc: 1.0000 - val_loss: 0.0065 - val_tp: 19315090.0000 - val_fp: 4128.0000 - val_tn: 9067894.0000 - val_fn: 5786.0000 - val_accuracy: 0.9997 - val_precision: 0.9998 - val_recall: 0.9997 - val_auc: 1.0000\n",
      "Epoch 163/200\n",
      "150340/150340 [==============================] - 5s 35us/step - loss: 0.0080 - tp: 19374700.0000 - fp: 4149.5649 - tn: 9095851.0000 - fn: 5819.4790 - accuracy: 0.9996 - precision: 0.9998 - recall: 0.9997 - auc: 1.0000 - val_loss: 0.0062 - val_tp: 19434368.0000 - val_fp: 4157.0000 - val_tn: 9123841.0000 - val_fn: 5831.0000 - val_accuracy: 0.9997 - val_precision: 0.9998 - val_recall: 0.9997 - val_auc: 1.0000\n",
      "Epoch 164/200\n",
      "150340/150340 [==============================] - 5s 32us/step - loss: 0.0063 - tp: 19493962.0000 - fp: 4157.0000 - tn: 9151926.0000 - fn: 5831.0000 - accuracy: 0.9996 - precision: 0.9998 - recall: 0.9997 - auc: 1.0000 - val_loss: 0.0063 - val_tp: 19553700.0000 - val_fp: 4157.0000 - val_tn: 9179866.0000 - val_fn: 5831.0000 - val_accuracy: 0.9997 - val_precision: 0.9998 - val_recall: 0.9997 - val_auc: 1.0000\n",
      "Epoch 165/200\n",
      "150340/150340 [==============================] - 5s 30us/step - loss: 0.0062 - tp: 19613364.0000 - fp: 4157.0000 - tn: 9207849.0000 - fn: 5831.0000 - accuracy: 0.9996 - precision: 0.9998 - recall: 0.9997 - auc: 1.0000 - val_loss: 0.0063 - val_tp: 19673064.0000 - val_fp: 4157.0000 - val_tn: 9235841.0000 - val_fn: 5831.8774 - val_accuracy: 0.9997 - val_precision: 0.9998 - val_recall: 0.9997 - val_auc: 1.0000\n",
      "Epoch 166/200\n",
      "150340/150340 [==============================] - 5s 31us/step - loss: 0.0062 - tp: 19732614.0000 - fp: 4157.0000 - tn: 9263941.0000 - fn: 5832.0000 - accuracy: 0.9996 - precision: 0.9998 - recall: 0.9997 - auc: 1.0000 - val_loss: 0.0063 - val_tp: 19792366.0000 - val_fp: 4157.0000 - val_tn: 9291867.0000 - val_fn: 5832.0000 - val_accuracy: 0.9997 - val_precision: 0.9998 - val_recall: 0.9997 - val_auc: 1.0000\n",
      "Epoch 167/200\n",
      "150340/150340 [==============================] - 5s 34us/step - loss: 0.0062 - tp: 19852004.0000 - fp: 4157.0000 - tn: 9319859.0000 - fn: 5832.0000 - accuracy: 0.9996 - precision: 0.9998 - recall: 0.9997 - auc: 1.0000 - val_loss: 0.0064 - val_tp: 19911696.0000 - val_fp: 4157.0000 - val_tn: 9347841.0000 - val_fn: 5832.0000 - val_accuracy: 0.9997 - val_precision: 0.9998 - val_recall: 0.9997 - val_auc: 1.0000\n",
      "Epoch 168/200\n",
      "150340/150340 [==============================] - 5s 35us/step - loss: 0.0143 - tp: 19971242.0000 - fp: 4158.8169 - tn: 9375939.0000 - fn: 5834.1807 - accuracy: 0.9997 - precision: 0.9998 - recall: 0.9997 - auc: 1.0000 - val_loss: 0.0459 - val_tp: 20030768.0000 - val_fp: 4251.0000 - val_tn: 9403767.0000 - val_fn: 6099.9492 - val_accuracy: 0.9997 - val_precision: 0.9998 - val_recall: 0.9997 - val_auc: 1.0000\n",
      "Epoch 169/200\n",
      "150340/150340 [==============================] - 5s 34us/step - loss: 0.0072 - tp: 20090252.0000 - fp: 4258.9175 - tn: 9431778.0000 - fn: 6242.7207 - accuracy: 0.9996 - precision: 0.9998 - recall: 0.9997 - auc: 1.0000 - val_loss: 0.0066 - val_tp: 20149984.0000 - val_fp: 4259.0000 - val_tn: 9459721.0000 - val_fn: 6243.0000 - val_accuracy: 0.9996 - val_precision: 0.9998 - val_recall: 0.9997 - val_auc: 1.0000\n",
      "Epoch 170/200\n",
      "150340/150340 [==============================] - 5s 31us/step - loss: 0.0064 - tp: 20209602.0000 - fp: 4259.0000 - tn: 9487794.0000 - fn: 6243.0000 - accuracy: 0.9996 - precision: 0.9998 - recall: 0.9997 - auc: 1.0000 - val_loss: 0.0063 - val_tp: 20269344.0000 - val_fp: 4259.0000 - val_tn: 9515749.0000 - val_fn: 6243.0000 - val_accuracy: 0.9997 - val_precision: 0.9998 - val_recall: 0.9997 - val_auc: 1.0000\n",
      "Epoch 171/200\n",
      "150340/150340 [==============================] - 5s 30us/step - loss: 0.0063 - tp: 20328904.0000 - fp: 4259.0000 - tn: 9543848.0000 - fn: 6243.0000 - accuracy: 0.9996 - precision: 0.9998 - recall: 0.9997 - auc: 1.0000 - val_loss: 0.0063 - val_tp: 20388718.0000 - val_fp: 4259.0000 - val_tn: 9571721.0000 - val_fn: 6243.0000 - val_accuracy: 0.9997 - val_precision: 0.9998 - val_recall: 0.9997 - val_auc: 1.0000\n",
      "Epoch 172/200\n",
      "150340/150340 [==============================] - 4s 29us/step - loss: 0.0062 - tp: 20448346.0000 - fp: 4259.0000 - tn: 9599776.0000 - fn: 6243.0000 - accuracy: 0.9996 - precision: 0.9998 - recall: 0.9997 - auc: 1.0000 - val_loss: 0.0060 - val_tp: 20508048.0000 - val_fp: 4259.0000 - val_tn: 9627749.0000 - val_fn: 6243.0000 - val_accuracy: 0.9997 - val_precision: 0.9998 - val_recall: 0.9997 - val_auc: 1.0000\n",
      "Epoch 173/200\n",
      "150340/150340 [==============================] - 5s 31us/step - loss: 0.0062 - tp: 20567614.0000 - fp: 4259.0000 - tn: 9655840.0000 - fn: 6243.0000 - accuracy: 0.9996 - precision: 0.9998 - recall: 0.9997 - auc: 1.0000 - val_loss: 0.0061 - val_tp: 20627360.0000 - val_fp: 4259.0000 - val_tn: 9683721.0000 - val_fn: 6243.0000 - val_accuracy: 0.9997 - val_precision: 0.9998 - val_recall: 0.9997 - val_auc: 1.0000\n",
      "Epoch 174/200\n",
      "150340/150340 [==============================] - 4s 28us/step - loss: 0.0062 - tp: 20687010.0000 - fp: 4259.0000 - tn: 9711752.0000 - fn: 6243.0000 - accuracy: 0.9996 - precision: 0.9998 - recall: 0.9997 - auc: 1.0000 - val_loss: 0.0061 - val_tp: 20746718.0000 - val_fp: 4259.0000 - val_tn: 9739749.0000 - val_fn: 6243.0000 - val_accuracy: 0.9997 - val_precision: 0.9998 - val_recall: 0.9997 - val_auc: 1.0000\n",
      "Epoch 175/200\n",
      "150340/150340 [==============================] - 5s 32us/step - loss: 0.0078 - tp: 20806286.0000 - fp: 4280.0879 - tn: 9767749.0000 - fn: 6267.8237 - accuracy: 0.9996 - precision: 0.9998 - recall: 0.9997 - auc: 1.0000 - val_loss: 0.0062 - val_tp: 20865952.0000 - val_fp: 4281.0000 - val_tn: 9795713.0000 - val_fn: 6269.0000 - val_accuracy: 0.9997 - val_precision: 0.9998 - val_recall: 0.9997 - val_auc: 1.0000\n",
      "Epoch 176/200\n",
      "150340/150340 [==============================] - 4s 29us/step - loss: 0.0062 - tp: 20925508.0000 - fp: 4281.0000 - tn: 9823829.0000 - fn: 6269.0000 - accuracy: 0.9996 - precision: 0.9998 - recall: 0.9997 - auc: 1.0000 - val_loss: 0.0062 - val_tp: 20985312.0000 - val_fp: 4281.0000 - val_tn: 9851741.0000 - val_fn: 6269.0000 - val_accuracy: 0.9997 - val_precision: 0.9998 - val_recall: 0.9997 - val_auc: 1.0000\n",
      "Epoch 177/200\n",
      "150340/150340 [==============================] - 5s 32us/step - loss: 0.0062 - tp: 21044920.0000 - fp: 4281.0000 - tn: 9879760.0000 - fn: 6269.0000 - accuracy: 0.9997 - precision: 0.9998 - recall: 0.9997 - auc: 1.0000 - val_loss: 0.0062 - val_tp: 21104638.0000 - val_fp: 4281.0000 - val_tn: 9907713.0000 - val_fn: 6269.0000 - val_accuracy: 0.9997 - val_precision: 0.9998 - val_recall: 0.9997 - val_auc: 1.0000\n",
      "Epoch 178/200\n",
      "150340/150340 [==============================] - 5s 30us/step - loss: 0.0061 - tp: 21164310.0000 - fp: 4281.0000 - tn: 9935733.0000 - fn: 6269.0000 - accuracy: 0.9997 - precision: 0.9998 - recall: 0.9997 - auc: 1.0000 - val_loss: 0.0061 - val_tp: 21224032.0000 - val_fp: 4281.0000 - val_tn: 9963741.0000 - val_fn: 6269.0000 - val_accuracy: 0.9997 - val_precision: 0.9998 - val_recall: 0.9997 - val_auc: 1.0000\n",
      "Epoch 179/200\n",
      "150340/150340 [==============================] - 5s 32us/step - loss: 0.0104 - tp: 21283556.0000 - fp: 4326.1021 - tn: 9991755.0000 - fn: 6323.5693 - accuracy: 0.9997 - precision: 0.9998 - recall: 0.9997 - auc: 1.0000 - val_loss: 0.0063 - val_tp: 21343340.0000 - val_fp: 4342.0000 - val_tn: 10019679.0000 - val_fn: 6343.0000 - val_accuracy: 0.9997 - val_precision: 0.9998 - val_recall: 0.9997 - val_auc: 1.0000\n",
      "Epoch 180/200\n",
      "150340/150340 [==============================] - 4s 29us/step - loss: 0.0062 - tp: 21402960.0000 - fp: 4342.0000 - tn: 10047697.0000 - fn: 6343.0000 - accuracy: 0.9997 - precision: 0.9998 - recall: 0.9997 - auc: 1.0000 - val_loss: 0.0061 - val_tp: 21462684.0000 - val_fp: 4342.0000 - val_tn: 10075650.0000 - val_fn: 6343.0000 - val_accuracy: 0.9997 - val_precision: 0.9998 - val_recall: 0.9997 - val_auc: 1.0000\n",
      "Epoch 181/200\n",
      "150340/150340 [==============================] - 4s 27us/step - loss: 0.0061 - tp: 21522350.0000 - fp: 4342.0000 - tn: 10103648.0000 - fn: 6343.0000 - accuracy: 0.9997 - precision: 0.9998 - recall: 0.9997 - auc: 1.0000 - val_loss: 0.0061 - val_tp: 21582050.0000 - val_fp: 4342.0000 - val_tn: 10131679.0000 - val_fn: 6343.0000 - val_accuracy: 0.9997 - val_precision: 0.9998 - val_recall: 0.9997 - val_auc: 1.0000\n",
      "Epoch 182/200\n",
      "150340/150340 [==============================] - 4s 27us/step - loss: 0.0061 - tp: 21641692.0000 - fp: 4342.0000 - tn: 10159698.0000 - fn: 6343.0000 - accuracy: 0.9997 - precision: 0.9998 - recall: 0.9997 - auc: 1.0000 - val_loss: 0.0061 - val_tp: 21701408.0000 - val_fp: 4342.0000 - val_tn: 10187650.0000 - val_fn: 6343.0000 - val_accuracy: 0.9997 - val_precision: 0.9998 - val_recall: 0.9997 - val_auc: 1.0000\n",
      "Epoch 183/200\n",
      "150340/150340 [==============================] - 4s 27us/step - loss: 0.0060 - tp: 21760996.0000 - fp: 4342.0000 - tn: 10215728.0000 - fn: 6343.0000 - accuracy: 0.9997 - precision: 0.9998 - recall: 0.9997 - auc: 1.0000 - val_loss: 0.0063 - val_tp: 21820706.0000 - val_fp: 4342.0000 - val_tn: 10243679.0000 - val_fn: 6343.0000 - val_accuracy: 0.9997 - val_precision: 0.9998 - val_recall: 0.9997 - val_auc: 1.0000\n",
      "Epoch 184/200\n",
      "150340/150340 [==============================] - 4s 27us/step - loss: 0.0061 - tp: 21880278.0000 - fp: 4342.0000 - tn: 10271767.0000 - fn: 6343.0000 - accuracy: 0.9997 - precision: 0.9998 - recall: 0.9997 - auc: 1.0000 - val_loss: 0.0059 - val_tp: 21940064.0000 - val_fp: 4342.0000 - val_tn: 10299650.0000 - val_fn: 6343.0000 - val_accuracy: 0.9997 - val_precision: 0.9998 - val_recall: 0.9997 - val_auc: 1.0000\n",
      "Epoch 185/200\n",
      "150340/150340 [==============================] - 4s 29us/step - loss: 0.0098 - tp: 21999618.0000 - fp: 4387.5967 - tn: 10327658.0000 - fn: 6395.2715 - accuracy: 0.9997 - precision: 0.9998 - recall: 0.9997 - auc: 1.0000 - val_loss: 0.0063 - val_tp: 22059360.0000 - val_fp: 4405.0000 - val_tn: 10355586.0000 - val_fn: 6416.8774 - val_accuracy: 0.9997 - val_precision: 0.9998 - val_recall: 0.9997 - val_auc: 1.0000\n",
      "Epoch 186/200\n",
      "150340/150340 [==============================] - 4s 28us/step - loss: 0.0061 - tp: 22118978.0000 - fp: 4405.0000 - tn: 10383603.0000 - fn: 6417.0000 - accuracy: 0.9997 - precision: 0.9998 - recall: 0.9997 - auc: 1.0000 - val_loss: 0.0061 - val_tp: 22178670.0000 - val_fp: 4405.0000 - val_tn: 10411616.0000 - val_fn: 6417.0000 - val_accuracy: 0.9997 - val_precision: 0.9998 - val_recall: 0.9997 - val_auc: 1.0000\n",
      "Epoch 187/200\n",
      "150340/150340 [==============================] - 4s 27us/step - loss: 0.0060 - tp: 22238314.0000 - fp: 4405.0000 - tn: 10439634.0000 - fn: 6417.0000 - accuracy: 0.9997 - precision: 0.9998 - recall: 0.9997 - auc: 1.0000 - val_loss: 0.0061 - val_tp: 22298080.0000 - val_fp: 4405.0000 - val_tn: 10467586.0000 - val_fn: 6417.0000 - val_accuracy: 0.9997 - val_precision: 0.9998 - val_recall: 0.9997 - val_auc: 1.0000\n",
      "Epoch 188/200\n",
      "150340/150340 [==============================] - 4s 28us/step - loss: 0.0060 - tp: 22357730.0000 - fp: 4405.0000 - tn: 10495603.0000 - fn: 6417.0000 - accuracy: 0.9997 - precision: 0.9998 - recall: 0.9997 - auc: 1.0000 - val_loss: 0.0060 - val_tp: 22417424.0000 - val_fp: 4405.0000 - val_tn: 10523616.0000 - val_fn: 6417.0000 - val_accuracy: 0.9997 - val_precision: 0.9998 - val_recall: 0.9997 - val_auc: 1.0000\n",
      "Epoch 189/200\n",
      "150340/150340 [==============================] - 4s 28us/step - loss: 0.0060 - tp: 22477100.0000 - fp: 4405.0000 - tn: 10551541.0000 - fn: 6417.0000 - accuracy: 0.9997 - precision: 0.9998 - recall: 0.9997 - auc: 1.0000 - val_loss: 0.0060 - val_tp: 22536720.0000 - val_fp: 4405.0000 - val_tn: 10579586.0000 - val_fn: 6417.0000 - val_accuracy: 0.9997 - val_precision: 0.9998 - val_recall: 0.9997 - val_auc: 1.0000\n",
      "Epoch 190/200\n",
      "150340/150340 [==============================] - 4s 29us/step - loss: 0.0060 - tp: 22596444.0000 - fp: 4405.0000 - tn: 10607545.0000 - fn: 6417.0000 - accuracy: 0.9997 - precision: 0.9998 - recall: 0.9997 - auc: 1.0000 - val_loss: 0.0062 - val_tp: 22656100.0000 - val_fp: 4405.0000 - val_tn: 10635617.0000 - val_fn: 6417.0000 - val_accuracy: 0.9997 - val_precision: 0.9998 - val_recall: 0.9997 - val_auc: 1.0000\n",
      "Epoch 191/200\n"
     ]
    },
    {
     "name": "stdout",
     "output_type": "stream",
     "text": [
      "150340/150340 [==============================] - 4s 29us/step - loss: 0.0103 - tp: 22715622.0000 - fp: 4439.1641 - tn: 10663623.0000 - fn: 6459.2246 - accuracy: 0.9997 - precision: 0.9998 - recall: 0.9997 - auc: 1.0000 - val_loss: 0.0064 - val_tp: 22775312.0000 - val_fp: 4483.0000 - val_tn: 10691489.0000 - val_fn: 6514.0000 - val_accuracy: 0.9997 - val_precision: 0.9998 - val_recall: 0.9997 - val_auc: 1.0000\n",
      "Epoch 192/200\n",
      "150340/150340 [==============================] - 4s 29us/step - loss: 0.0062 - tp: 22834894.0000 - fp: 4483.0000 - tn: 10719602.0000 - fn: 6514.0000 - accuracy: 0.9997 - precision: 0.9998 - recall: 0.9997 - auc: 1.0000 - val_loss: 0.0060 - val_tp: 22894688.0000 - val_fp: 4483.0000 - val_tn: 10747519.0000 - val_fn: 6514.0000 - val_accuracy: 0.9997 - val_precision: 0.9998 - val_recall: 0.9997 - val_auc: 1.0000\n",
      "Epoch 193/200\n",
      "150340/150340 [==============================] - 4s 29us/step - loss: 0.0060 - tp: 22954204.0000 - fp: 4483.0000 - tn: 10775624.0000 - fn: 6514.0000 - accuracy: 0.9997 - precision: 0.9998 - recall: 0.9997 - auc: 1.0000 - val_loss: 0.0060 - val_tp: 23013996.0000 - val_fp: 4483.0000 - val_tn: 10803488.0000 - val_fn: 6514.0000 - val_accuracy: 0.9997 - val_precision: 0.9998 - val_recall: 0.9997 - val_auc: 1.0000\n",
      "Epoch 194/200\n",
      "150340/150340 [==============================] - 4s 28us/step - loss: 0.0060 - tp: 23073626.0000 - fp: 4483.0000 - tn: 10831538.0000 - fn: 6514.0000 - accuracy: 0.9997 - precision: 0.9998 - recall: 0.9997 - auc: 1.0000 - val_loss: 0.0061 - val_tp: 23133326.0000 - val_fp: 4483.0000 - val_tn: 10859519.0000 - val_fn: 6514.0000 - val_accuracy: 0.9997 - val_precision: 0.9998 - val_recall: 0.9997 - val_auc: 1.0000\n",
      "Epoch 195/200\n",
      "150340/150340 [==============================] - 4s 29us/step - loss: 0.0059 - tp: 23192906.0000 - fp: 4483.0000 - tn: 10887571.0000 - fn: 6514.0000 - accuracy: 0.9997 - precision: 0.9998 - recall: 0.9997 - auc: 1.0000 - val_loss: 0.0059 - val_tp: 23252634.0000 - val_fp: 4483.0000 - val_tn: 10915488.0000 - val_fn: 6514.0000 - val_accuracy: 0.9997 - val_precision: 0.9998 - val_recall: 0.9997 - val_auc: 1.0000\n",
      "Epoch 196/200\n",
      "150340/150340 [==============================] - 5s 33us/step - loss: 0.0059 - tp: 23312322.0000 - fp: 4483.0000 - tn: 10943520.0000 - fn: 6514.0000 - accuracy: 0.9997 - precision: 0.9998 - recall: 0.9997 - auc: 1.0000 - val_loss: 0.0060 - val_tp: 23372016.0000 - val_fp: 4483.0000 - val_tn: 10971519.0000 - val_fn: 6514.8774 - val_accuracy: 0.9997 - val_precision: 0.9998 - val_recall: 0.9997 - val_auc: 1.0000\n",
      "Epoch 197/200\n",
      "150340/150340 [==============================] - 5s 33us/step - loss: 0.0059 - tp: 23431710.0000 - fp: 4483.0000 - tn: 10999461.0000 - fn: 6515.0000 - accuracy: 0.9997 - precision: 0.9998 - recall: 0.9997 - auc: 1.0000 - val_loss: 0.0058 - val_tp: 23491344.0000 - val_fp: 4483.0000 - val_tn: 11027487.0000 - val_fn: 6515.0000 - val_accuracy: 0.9997 - val_precision: 0.9998 - val_recall: 0.9997 - val_auc: 1.0000\n",
      "Epoch 198/200\n",
      "150340/150340 [==============================] - 5s 33us/step - loss: 0.0074 - tp: 23551016.0000 - fp: 4498.6670 - tn: 11055489.0000 - fn: 6531.4844 - accuracy: 0.9997 - precision: 0.9998 - recall: 0.9997 - auc: 1.0000 - val_loss: 0.0060 - val_tp: 23610726.0000 - val_fp: 4504.0000 - val_tn: 11083512.0000 - val_fn: 6537.0000 - val_accuracy: 0.9997 - val_precision: 0.9998 - val_recall: 0.9997 - val_auc: 1.0000\n",
      "Epoch 199/200\n",
      "150340/150340 [==============================] - 5s 32us/step - loss: 0.0059 - tp: 23670294.0000 - fp: 4504.0000 - tn: 11111576.0000 - fn: 6537.0000 - accuracy: 0.9997 - precision: 0.9998 - recall: 0.9997 - auc: 1.0000 - val_loss: 0.0060 - val_tp: 23730064.0000 - val_fp: 4504.0000 - val_tn: 11139482.0000 - val_fn: 6537.0000 - val_accuracy: 0.9997 - val_precision: 0.9998 - val_recall: 0.9997 - val_auc: 1.0000\n",
      "Epoch 200/200\n",
      "150340/150340 [==============================] - 4s 29us/step - loss: 0.0059 - tp: 23789778.0000 - fp: 4504.0000 - tn: 11167448.0000 - fn: 6537.0000 - accuracy: 0.9997 - precision: 0.9998 - recall: 0.9997 - auc: 1.0000 - val_loss: 0.0060 - val_tp: 23849372.0000 - val_fp: 4504.0000 - val_tn: 11195510.0000 - val_fn: 6537.0000 - val_accuracy: 0.9997 - val_precision: 0.9998 - val_recall: 0.9997 - val_auc: 1.0000\n"
     ]
    }
   ],
   "source": [
    "exe = model.fit(X_train, Y_train, validation_split=0.14258, epochs=200,\n",
    "                callbacks = [early_stopping], batch_size=128)"
   ]
  },
  {
   "cell_type": "code",
   "execution_count": 17,
   "metadata": {},
   "outputs": [
    {
     "name": "stdout",
     "output_type": "stream",
     "text": [
      "175341/175341 [==============================] - 7s 42us/step\n",
      "Loss: 0.0059\n",
      "TP: 24023796.0000\n",
      "FP: 4504.0000\n",
      "TN: 11297125.0000\n",
      "FN: 6536.4688\n",
      "Accuracy: 0.9997\n",
      "Precision: 0.9998\n",
      "Recall: 0.9997\n",
      "AUC: 1.0000\n"
     ]
    }
   ],
   "source": [
    "metrics = ['Loss','TP','FP','TN','FN','Accuracy','Precision','Recall','AUC']\n",
    "results = model.evaluate(X_train, Y_train)\n",
    "for i in range(0,len(results)):\n",
    "    print((metrics[i]+': {:0.4f}').format(results[i]))"
   ]
  },
  {
   "cell_type": "code",
   "execution_count": 34,
   "metadata": {},
   "outputs": [
    {
     "name": "stdout",
     "output_type": "stream",
     "text": [
      "82332/82332 [==============================] - 3s 33us/step\n",
      "Loss: 0.0059\n",
      "TP: 24023796.0000\n",
      "FP: 4504.0000\n",
      "TN: 11297125.0000\n",
      "FN: 6536.4688\n",
      "Accuracy: 0.9997\n",
      "Precision: 0.9998\n",
      "Recall: 0.9997\n",
      "AUC: 1.0000\n"
     ]
    }
   ],
   "source": [
    "results_test = model.evaluate(X_test, Y_test)\n",
    "for i in range(0,len(results)):\n",
    "    print((metrics[i]+': {:0.4f}').format(results[i]))"
   ]
  },
  {
   "cell_type": "code",
   "execution_count": 23,
   "metadata": {},
   "outputs": [],
   "source": [
    "def plot_metrics(history):\n",
    "  metrics =  ['loss', 'accuracy', 'precision', 'recall']\n",
    "  for n, metric in enumerate(metrics):\n",
    "    name = metric.replace(\"_\",\" \").capitalize()\n",
    "    plt.subplot(2,2,n+1)\n",
    "    plt.plot(history.epoch,  history.history[metric], color=colors[0], label='Train')\n",
    "    plt.plot(history.epoch, history.history['val_'+metric],\n",
    "             color=colors[0], linestyle=\"--\", label='Val')\n",
    "    plt.xlabel('Epoch')\n",
    "    plt.ylabel(name)\n",
    "    if metric == 'loss':\n",
    "      plt.ylim([0, plt.ylim()[1]])\n",
    "    elif metric == 'accuracy':\n",
    "      plt.ylim([0.9,1])\n",
    "    elif metric == 'precision':\n",
    "      plt.ylim([0.9,1])\n",
    "    elif metric == 'recall':\n",
    "      plt.ylim([0.9,1])\n",
    "\n",
    "    plt.legend()"
   ]
  },
  {
   "cell_type": "code",
   "execution_count": 24,
   "metadata": {},
   "outputs": [
    {
     "data": {
      "image/png": "[encoded data removed]",
      "text/plain": [
       "<Figure size 864x720 with 4 Axes>"
      ]
     },
     "metadata": {
      "needs_background": "light"
     },
     "output_type": "display_data"
    }
   ],
   "source": [
    "plot_metrics(exe)"
   ]
  },
  {
   "cell_type": "code",
   "execution_count": 32,
   "metadata": {},
   "outputs": [],
   "source": [
    "test_predictions = model.predict(X_test)\n",
    "test_pred_classes = model.predict_classes(X_test)"
   ]
  },
  {
   "cell_type": "code",
   "execution_count": 26,
   "metadata": {},
   "outputs": [],
   "source": [
    "def plot_cm(labels, predictions, p=0.83):\n",
    "    cm = confusion_matrix(labels, predictions > p)\n",
    "    plt.figure(figsize=(5,5))\n",
    "    sns.heatmap(cm, annot=True, fmt=\"d\")\n",
    "    plt.title('Confusion matrix @{:.2f}'.format(p))\n",
    "    plt.ylabel('Actual label')\n",
    "    plt.xlabel('Predicted label')\n",
    "\n",
    "    print('True Negatives : ', cm[0][0])\n",
    "    print('False Positives: ', cm[0][1])\n",
    "    print('False Negatives: ', cm[1][0])\n",
    "    print('True Positives : ', cm[1][1])"
   ]
  },
  {
   "cell_type": "code",
   "execution_count": 27,
   "metadata": {
    "scrolled": false
   },
   "outputs": [
    {
     "name": "stdout",
     "output_type": "stream",
     "text": [
      "True Negatives :  37000\n",
      "False Positives:  0\n",
      "False Negatives:  2\n",
      "True Positives :  45330\n"
     ]
    },
    {
     "data": {
      "image/png": "[encoded data removed]",
      "text/plain": [
       "<Figure size 360x360 with 2 Axes>"
      ]
     },
     "metadata": {
      "needs_background": "light"
     },
     "output_type": "display_data"
    }
   ],
   "source": [
    "plot_cm(Y_test, test_predictions)"
   ]
  },
  {
   "cell_type": "code",
   "execution_count": 31,
   "metadata": {},
   "outputs": [
    {
     "name": "stdout",
     "output_type": "stream",
     "text": [
      "<class 'pandas.core.series.Series'>\n",
      "<class 'numpy.ndarray'>\n"
     ]
    }
   ],
   "source": [
    "print(type(Y_test))\n",
    "print(type(test_predictions))"
   ]
  },
  {
   "cell_type": "code",
   "execution_count": 29,
   "metadata": {},
   "outputs": [],
   "source": [
    "from sklearn.metrics import accuracy_score"
   ]
  },
  {
   "cell_type": "code",
   "execution_count": 33,
   "metadata": {},
   "outputs": [
    {
     "name": "stdout",
     "output_type": "stream",
     "text": [
      "1.0\n"
     ]
    }
   ],
   "source": [
    "accuracy = accuracy_score(Y_test, test_pred_classes)\n",
    "print(accuracy)"
   ]
  }
 ],
 "metadata": {
  "kernelspec": {
   "display_name": "Python 3",
   "language": "python",
   "name": "python3"
  },
  "language_info": {
   "codemirror_mode": {
    "name": "ipython",
    "version": 3
   },
   "file_extension": ".py",
   "mimetype": "text/x-python",
   "name": "python",
   "nbconvert_exporter": "python",
   "pygments_lexer": "ipython3",
   "version": "3.7.3"
  }
 },
 "nbformat": 4,
 "nbformat_minor": 4
}
