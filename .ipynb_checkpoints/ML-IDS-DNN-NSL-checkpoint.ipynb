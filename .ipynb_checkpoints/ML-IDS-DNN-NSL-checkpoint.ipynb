{
 "cells": [
  {
   "cell_type": "markdown",
   "metadata": {},
   "source": [
    "# DNN - NSL"
   ]
  },
  {
   "cell_type": "code",
   "execution_count": 1,
   "metadata": {},
   "outputs": [
    {
     "name": "stdout",
     "output_type": "stream",
     "text": [
      "C:\\Users\\Sharuka Thirimanne\\Desktop\\FYP-ML-IDS\n"
     ]
    }
   ],
   "source": [
    "cd C:\\\\Users\\\\Sharuka Thirimanne\\\\Desktop\\\\FYP-ML-IDS"
   ]
  },
  {
   "cell_type": "code",
   "execution_count": 2,
   "metadata": {},
   "outputs": [
    {
     "name": "stderr",
     "output_type": "stream",
     "text": [
      "c:\\users\\sharuka thirimanne\\appdata\\local\\programs\\python\\python37\\lib\\site-packages\\tensorboard\\compat\\tensorflow_stub\\dtypes.py:541: FutureWarning: Passing (type, 1) or '1type' as a synonym of type is deprecated; in a future version of numpy, it will be understood as (type, (1,)) / '(1,)type'.\n",
      "  _np_qint8 = np.dtype([(\"qint8\", np.int8, 1)])\n",
      "c:\\users\\sharuka thirimanne\\appdata\\local\\programs\\python\\python37\\lib\\site-packages\\tensorboard\\compat\\tensorflow_stub\\dtypes.py:542: FutureWarning: Passing (type, 1) or '1type' as a synonym of type is deprecated; in a future version of numpy, it will be understood as (type, (1,)) / '(1,)type'.\n",
      "  _np_quint8 = np.dtype([(\"quint8\", np.uint8, 1)])\n",
      "c:\\users\\sharuka thirimanne\\appdata\\local\\programs\\python\\python37\\lib\\site-packages\\tensorboard\\compat\\tensorflow_stub\\dtypes.py:543: FutureWarning: Passing (type, 1) or '1type' as a synonym of type is deprecated; in a future version of numpy, it will be understood as (type, (1,)) / '(1,)type'.\n",
      "  _np_qint16 = np.dtype([(\"qint16\", np.int16, 1)])\n",
      "c:\\users\\sharuka thirimanne\\appdata\\local\\programs\\python\\python37\\lib\\site-packages\\tensorboard\\compat\\tensorflow_stub\\dtypes.py:544: FutureWarning: Passing (type, 1) or '1type' as a synonym of type is deprecated; in a future version of numpy, it will be understood as (type, (1,)) / '(1,)type'.\n",
      "  _np_quint16 = np.dtype([(\"quint16\", np.uint16, 1)])\n",
      "c:\\users\\sharuka thirimanne\\appdata\\local\\programs\\python\\python37\\lib\\site-packages\\tensorboard\\compat\\tensorflow_stub\\dtypes.py:545: FutureWarning: Passing (type, 1) or '1type' as a synonym of type is deprecated; in a future version of numpy, it will be understood as (type, (1,)) / '(1,)type'.\n",
      "  _np_qint32 = np.dtype([(\"qint32\", np.int32, 1)])\n",
      "c:\\users\\sharuka thirimanne\\appdata\\local\\programs\\python\\python37\\lib\\site-packages\\tensorboard\\compat\\tensorflow_stub\\dtypes.py:550: FutureWarning: Passing (type, 1) or '1type' as a synonym of type is deprecated; in a future version of numpy, it will be understood as (type, (1,)) / '(1,)type'.\n",
      "  np_resource = np.dtype([(\"resource\", np.ubyte, 1)])\n",
      "Using TensorFlow backend.\n"
     ]
    }
   ],
   "source": [
    "import sklearn\n",
    "import numpy as np\n",
    "import pandas as pd\n",
    "import seaborn as sns\n",
    "import tensorflow as tf\n",
    "import matplotlib as mpl\n",
    "import matplotlib.pyplot as plt\n",
    "\n",
    "from tensorflow import keras\n",
    "from keras.layers import Dense\n",
    "from keras.models import Sequential\n",
    "from sklearn.decomposition import PCA\n",
    "from tensorflow.keras import regularizers\n",
    "from tensorflow.keras import Model, layers\n",
    "from keras.wrappers.scikit_learn import KerasClassifier\n",
    "from sklearn.model_selection import GridSearchCV\n",
    "from sklearn.model_selection import cross_val_score, train_test_split\n",
    "from sklearn.metrics import accuracy_score, precision_score, recall_score, classification_report,confusion_matrix,f1_score\n"
   ]
  },
  {
   "cell_type": "code",
   "execution_count": 3,
   "metadata": {},
   "outputs": [],
   "source": [
    "mpl.rcParams['figure.figsize'] = (12, 10)\n",
    "colors = plt.rcParams['axes.prop_cycle'].by_key()['color']"
   ]
  },
  {
   "cell_type": "code",
   "execution_count": 4,
   "metadata": {
    "scrolled": false
   },
   "outputs": [],
   "source": [
    "def load_train_dataset():\n",
    "    df_train = pd.read_csv('NSL_train-set.csv')\n",
    "    \n",
    "    limit = df_train.shape[1]-1\n",
    "    \n",
    "    X_train = df_train.iloc[:,0:limit]\n",
    "    Y_train = df_train.iloc[:,limit]\n",
    "    \n",
    "    return X_train, Y_train, df_train\n",
    "\n",
    "X_train, Y_train, df_train = load_train_dataset()"
   ]
  },
  {
   "cell_type": "code",
   "execution_count": 5,
   "metadata": {},
   "outputs": [],
   "source": [
    "def load_test_dataset():\n",
    "    df_test = pd.read_csv('NSL_test-set.csv')\n",
    "\n",
    "    limit = df_test.shape[1]-1\n",
    "    \n",
    "    X_test = df_test.iloc[:,0:limit]\n",
    "    Y_test = df_test.iloc[:,limit]\n",
    "    \n",
    "    return X_test, Y_test, df_test\n",
    "\n",
    "X_test, Y_test, df_test = load_test_dataset()"
   ]
  },
  {
   "cell_type": "code",
   "execution_count": 6,
   "metadata": {},
   "outputs": [
    {
     "data": {
      "text/plain": [
       "(114324, 77)"
      ]
     },
     "execution_count": 6,
     "metadata": {},
     "output_type": "execute_result"
    }
   ],
   "source": [
    "X_train.shape"
   ]
  },
  {
   "cell_type": "code",
   "execution_count": 7,
   "metadata": {},
   "outputs": [],
   "source": [
    "METRICS = [ \n",
    "      keras.metrics.BinaryAccuracy(name='accuracy'),\n",
    "      keras.metrics.Precision(name='precision'),\n",
    "      keras.metrics.Recall(name='recall'),\n",
    "      keras.metrics.AUC(name='auc'),\n",
    "]"
   ]
  },
  {
   "cell_type": "code",
   "execution_count": 8,
   "metadata": {},
   "outputs": [],
   "source": [
    "early_stopping = tf.keras.callbacks.EarlyStopping(\n",
    "    monitor='accuracy', \n",
    "    verbose=1,\n",
    "    patience=5,\n",
    "    mode='max',\n",
    "    restore_best_weights=True)"
   ]
  },
  {
   "cell_type": "code",
   "execution_count": 9,
   "metadata": {},
   "outputs": [
    {
     "data": {
      "text/plain": [
       "(114324, 77)"
      ]
     },
     "execution_count": 9,
     "metadata": {},
     "output_type": "execute_result"
    }
   ],
   "source": [
    "X_train.shape"
   ]
  },
  {
   "cell_type": "code",
   "execution_count": 10,
   "metadata": {},
   "outputs": [],
   "source": [
    "\n",
    "def neural_network(optimizer='sgd', init='glorot_uniform'):\n",
    "    #Neural Network Model\n",
    "    model = Sequential()\n",
    "    model.add(Dense(256, input_dim=77, activation='relu', kernel_initializer=init, bias_initializer='zeros'))\n",
    "    model.add(Dense(256, activation='relu'))\n",
    "    model.add(Dense(256, activation='relu'))\n",
    "    model.add(Dense(256, activation='relu'))\n",
    "    model.add(Dense(256, activation='relu'))\n",
    "    model.add(Dense(256, activation='relu'))\n",
    "    model.add(Dense(256, activation='relu'))\n",
    "    model.add(Dense(256, activation='relu'))\n",
    "    model.add(Dense(1, activation='sigmoid'))\n",
    "\n",
    "    model.compile(loss='binary_crossentropy', optimizer=optimizer, metrics = METRICS)\n",
    "    \n",
    "    return model"
   ]
  },
  {
   "cell_type": "code",
   "execution_count": null,
   "metadata": {
    "scrolled": true
   },
   "outputs": [
    {
     "name": "stdout",
     "output_type": "stream",
     "text": [
      "Train on 91459 samples, validate on 22865 samples\n",
      "Epoch 1/200\n",
      "91459/91459 [==============================] - 10s 107us/step - loss: 0.2690 - accuracy: 0.7934 - precision: 0.8857 - recall: 0.4923 - auc: 0.8970 - val_loss: 0.1119 - val_accuracy: 0.9089 - val_precision: 0.9805 - val_recall: 0.8081 - val_auc: 0.9746\n",
      "Epoch 2/200\n",
      "91459/91459 [==============================] - 9s 93us/step - loss: 0.0600 - accuracy: 0.9327 - precision: 0.9861 - recall: 0.8684 - auc: 0.9830 - val_loss: 0.1126 - val_accuracy: 0.9459 - val_precision: 0.9882 - val_recall: 0.8963 - val_auc: 0.9874\n",
      "Epoch 3/200\n",
      "91459/91459 [==============================] - 9s 96us/step - loss: 0.0462 - accuracy: 0.9530 - precision: 0.9896 - recall: 0.9116 - auc: 0.9897 - val_loss: 0.0462 - val_accuracy: 0.9588 - val_precision: 0.9905 - val_recall: 0.9235 - val_auc: 0.9917\n",
      "Epoch 4/200\n",
      "91459/91459 [==============================] - 9s 97us/step - loss: 0.0328 - accuracy: 0.9631 - precision: 0.9912 - recall: 0.9324 - auc: 0.9931 - val_loss: 0.0370 - val_accuracy: 0.9666 - val_precision: 0.9916 - val_recall: 0.9394 - val_auc: 0.9942\n",
      "Epoch 5/200\n",
      "91459/91459 [==============================] - 9s 97us/step - loss: 0.0267 - accuracy: 0.9694 - precision: 0.9920 - recall: 0.9451 - auc: 0.9950 - val_loss: 0.0286 - val_accuracy: 0.9719 - val_precision: 0.9923 - val_recall: 0.9499 - val_auc: 0.9956\n",
      "Epoch 6/200\n",
      "91459/91459 [==============================] - 9s 94us/step - loss: 0.0249 - accuracy: 0.9738 - precision: 0.9925 - recall: 0.9539 - auc: 0.9960 - val_loss: 0.0379 - val_accuracy: 0.9754 - val_precision: 0.9927 - val_recall: 0.9570 - val_auc: 0.9964\n",
      "Epoch 7/200\n",
      "91459/91459 [==============================] - 9s 94us/step - loss: 0.0211 - accuracy: 0.9768 - precision: 0.9930 - recall: 0.9596 - auc: 0.9967 - val_loss: 0.0361 - val_accuracy: 0.9780 - val_precision: 0.9932 - val_recall: 0.9619 - val_auc: 0.9970.0213 - accuracy: 0.9766 - precision: 0.9930 - recall: 0.9594 - auc: 0.99 - ETA: 0s - loss: 0.0213 - accuracy: 0.9767 - precision: 0.9930 - recall: 0.9595\n",
      "Epoch 8/200\n",
      "91459/91459 [==============================] - 9s 95us/step - loss: 0.0195 - accuracy: 0.9790 - precision: 0.9934 - recall: 0.9639 - auc: 0.9972 - val_loss: 0.0236 - val_accuracy: 0.9800 - val_precision: 0.9935 - val_recall: 0.9658 - val_auc: 0.9974\n",
      "Epoch 9/200\n",
      "91459/91459 [==============================] - 9s 93us/step - loss: 0.0195 - accuracy: 0.9809 - precision: 0.9937 - recall: 0.9674 - auc: 0.9975 - val_loss: 0.0262 - val_accuracy: 0.9816 - val_precision: 0.9938 - val_recall: 0.9688 - val_auc: 0.9977\n",
      "Epoch 10/200\n",
      "91459/91459 [==============================] - 8s 92us/step - loss: 0.0184 - accuracy: 0.9823 - precision: 0.9939 - recall: 0.9701 - auc: 0.9978 - val_loss: 0.0376 - val_accuracy: 0.9829 - val_precision: 0.9940 - val_recall: 0.9712 - val_auc: 0.9979\n",
      "Epoch 11/200\n",
      "91459/91459 [==============================] - 9s 97us/step - loss: 0.0172 - accuracy: 0.9834 - precision: 0.9941 - recall: 0.9723 - auc: 0.9980 - val_loss: 0.0423 - val_accuracy: 0.9839 - val_precision: 0.9942 - val_recall: 0.9731 - val_auc: 0.9981\n",
      "Epoch 12/200\n",
      "91459/91459 [==============================] - 9s 95us/step - loss: 0.0165 - accuracy: 0.9843 - precision: 0.9943 - recall: 0.9738 - auc: 0.9981 - val_loss: 0.0268 - val_accuracy: 0.9847 - val_precision: 0.9944 - val_recall: 0.9746 - val_auc: 0.9982\n",
      "Epoch 13/200\n",
      "91459/91459 [==============================] - 9s 94us/step - loss: 0.0161 - accuracy: 0.9851 - precision: 0.9945 - recall: 0.9753 - auc: 0.9983 - val_loss: 0.0223 - val_accuracy: 0.9855 - val_precision: 0.9946 - val_recall: 0.9760 - val_auc: 0.9983\n",
      "Epoch 14/200\n",
      "91459/91459 [==============================] - 9s 94us/step - loss: 0.0156 - accuracy: 0.9858 - precision: 0.9947 - recall: 0.9767 - auc: 0.9984 - val_loss: 0.0224 - val_accuracy: 0.9862 - val_precision: 0.9948 - val_recall: 0.9773 - val_auc: 0.9985\n",
      "Epoch 15/200\n",
      "91459/91459 [==============================] - 9s 98us/step - loss: 0.0148 - accuracy: 0.9865 - precision: 0.9949 - recall: 0.9779 - auc: 0.9985 - val_loss: 0.0157 - val_accuracy: 0.9868 - val_precision: 0.9949 - val_recall: 0.9784 - val_auc: 0.9985\n",
      "Epoch 16/200\n",
      "91459/91459 [==============================] - 9s 97us/step - loss: 0.0150 - accuracy: 0.9871 - precision: 0.9950 - recall: 0.9790 - auc: 0.9986 - val_loss: 0.0195 - val_accuracy: 0.9874 - val_precision: 0.9951 - val_recall: 0.9794 - val_auc: 0.9986\n",
      "Epoch 17/200\n",
      "91459/91459 [==============================] - 9s 95us/step - loss: 0.0143 - accuracy: 0.9876 - precision: 0.9951 - recall: 0.9799 - auc: 0.9987 - val_loss: 0.0219 - val_accuracy: 0.9879 - val_precision: 0.9952 - val_recall: 0.9803 - val_auc: 0.9987\n",
      "Epoch 18/200\n",
      "91459/91459 [==============================] - 9s 96us/step - loss: 0.0136 - accuracy: 0.9881 - precision: 0.9953 - recall: 0.9807 - auc: 0.9987 - val_loss: 0.0288 - val_accuracy: 0.9883 - val_precision: 0.9953 - val_recall: 0.9810 - val_auc: 0.9987\n",
      "Epoch 19/200\n",
      "91459/91459 [==============================] - 9s 96us/step - loss: 0.0132 - accuracy: 0.9884 - precision: 0.9954 - recall: 0.9813 - auc: 0.9988 - val_loss: 0.0250 - val_accuracy: 0.9886 - val_precision: 0.9954 - val_recall: 0.9817 - val_auc: 0.9988\n",
      "Epoch 20/200\n",
      "91459/91459 [==============================] - 9s 94us/step - loss: 0.0136 - accuracy: 0.9888 - precision: 0.9955 - recall: 0.9820 - auc: 0.9988 - val_loss: 0.0247 - val_accuracy: 0.9890 - val_precision: 0.9955 - val_recall: 0.9823 - val_auc: 0.9988\n",
      "Epoch 21/200\n",
      "91459/91459 [==============================] - 8s 92us/step - loss: 0.0129 - accuracy: 0.9891 - precision: 0.9956 - recall: 0.9826 - auc: 0.9989 - val_loss: 0.0246 - val_accuracy: 0.9893 - val_precision: 0.9956 - val_recall: 0.9828 - val_auc: 0.9989\n",
      "Epoch 22/200\n",
      "91459/91459 [==============================] - 10s 114us/step - loss: 0.0124 - accuracy: 0.9895 - precision: 0.9957 - recall: 0.9831 - auc: 0.9989 - val_loss: 0.0188 - val_accuracy: 0.9896 - val_precision: 0.9957 - val_recall: 0.9834 - val_auc: 0.9989\n",
      "Epoch 23/200\n",
      "91459/91459 [==============================] - 9s 103us/step - loss: 0.0118 - accuracy: 0.9897 - precision: 0.9957 - recall: 0.9836 - auc: 0.9989 - val_loss: 0.0376 - val_accuracy: 0.9899 - val_precision: 0.9958 - val_recall: 0.9838 - val_auc: 0.9989\n",
      "Epoch 24/200\n",
      "91459/91459 [==============================] - 10s 110us/step - loss: 0.0122 - accuracy: 0.9900 - precision: 0.9958 - recall: 0.9840 - auc: 0.9990 - val_loss: 0.0300 - val_accuracy: 0.9901 - val_precision: 0.9959 - val_recall: 0.9842 - val_auc: 0.9990\n",
      "Epoch 25/200\n",
      "91459/91459 [==============================] - 10s 107us/step - loss: 0.0118 - accuracy: 0.9902 - precision: 0.9959 - recall: 0.9844 - auc: 0.9990 - val_loss: 0.0282 - val_accuracy: 0.9903 - val_precision: 0.9959 - val_recall: 0.9846 - val_auc: 0.9990\n",
      "Epoch 26/200\n",
      "91459/91459 [==============================] - 9s 96us/step - loss: 0.0115 - accuracy: 0.9905 - precision: 0.9960 - recall: 0.9848 - auc: 0.9990 - val_loss: 0.0132 - val_accuracy: 0.9906 - val_precision: 0.9960 - val_recall: 0.9850 - val_auc: 0.9990\n",
      "Epoch 27/200\n",
      "91459/91459 [==============================] - 9s 98us/step - loss: 0.0107 - accuracy: 0.9907 - precision: 0.9960 - recall: 0.9852 - auc: 0.9990 - val_loss: 0.0300 - val_accuracy: 0.9908 - val_precision: 0.9961 - val_recall: 0.9854 - val_auc: 0.9990\n",
      "Epoch 28/200\n",
      "91459/91459 [==============================] - 8s 91us/step - loss: 0.0110 - accuracy: 0.9909 - precision: 0.9961 - recall: 0.9856 - auc: 0.9991 - val_loss: 0.0215 - val_accuracy: 0.9910 - val_precision: 0.9961 - val_recall: 0.9857 - val_auc: 0.9991\n",
      "Epoch 29/200\n",
      "91459/91459 [==============================] - 9s 101us/step - loss: 0.0107 - accuracy: 0.9911 - precision: 0.9962 - recall: 0.9859 - auc: 0.9991 - val_loss: 0.0245 - val_accuracy: 0.9912 - val_precision: 0.9962 - val_recall: 0.9861 - val_auc: 0.9991\n",
      "Epoch 30/200\n",
      "91459/91459 [==============================] - 9s 94us/step - loss: 0.0099 - accuracy: 0.9913 - precision: 0.9962 - recall: 0.9862 - auc: 0.9991 - val_loss: 0.0123 - val_accuracy: 0.9914 - val_precision: 0.9963 - val_recall: 0.9864 - val_auc: 0.9991\n",
      "Epoch 31/200\n"
     ]
    },
    {
     "name": "stdout",
     "output_type": "stream",
     "text": [
      "91459/91459 [==============================] - 9s 93us/step - loss: 0.0102 - accuracy: 0.9915 - precision: 0.9963 - recall: 0.9865 - auc: 0.9991 - val_loss: 0.0249 - val_accuracy: 0.9915 - val_precision: 0.9963 - val_recall: 0.9867 - val_auc: 0.9991\n",
      "Epoch 32/200\n",
      "91459/91459 [==============================] - 9s 101us/step - loss: 0.0104 - accuracy: 0.9916 - precision: 0.9964 - recall: 0.9868 - auc: 0.9991 - val_loss: 0.0143 - val_accuracy: 0.9917 - val_precision: 0.9964 - val_recall: 0.9869 - val_auc: 0.9991\n",
      "Epoch 33/200\n",
      "91459/91459 [==============================] - 9s 97us/step - loss: 0.0098 - accuracy: 0.9918 - precision: 0.9964 - recall: 0.9871 - auc: 0.9991 - val_loss: 0.0266 - val_accuracy: 0.9918 - val_precision: 0.9964 - val_recall: 0.9872 - val_auc: 0.9992\n",
      "Epoch 34/200\n",
      "91459/91459 [==============================] - 8s 91us/step - loss: 0.0097 - accuracy: 0.9919 - precision: 0.9965 - recall: 0.9873 - auc: 0.9992 - val_loss: 0.0191 - val_accuracy: 0.9920 - val_precision: 0.9965 - val_recall: 0.9874 - val_auc: 0.9992\n",
      "Epoch 35/200\n",
      "91459/91459 [==============================] - 8s 87us/step - loss: 0.0101 - accuracy: 0.9920 - precision: 0.9965 - recall: 0.9875 - auc: 0.9992 - val_loss: 0.0197 - val_accuracy: 0.9921 - val_precision: 0.9965 - val_recall: 0.9876 - val_auc: 0.9992\n",
      "Epoch 36/200\n",
      "91459/91459 [==============================] - 8s 90us/step - loss: 0.0104 - accuracy: 0.9922 - precision: 0.9965 - recall: 0.9877 - auc: 0.9992 - val_loss: 0.0253 - val_accuracy: 0.9922 - val_precision: 0.9966 - val_recall: 0.9878 - val_auc: 0.9992\n",
      "Epoch 37/200\n",
      "91459/91459 [==============================] - 8s 93us/step - loss: 0.0094 - accuracy: 0.9923 - precision: 0.9966 - recall: 0.9879 - auc: 0.9992 - val_loss: 0.0237 - val_accuracy: 0.9923 - val_precision: 0.9966 - val_recall: 0.9880 - val_auc: 0.9992\n",
      "Epoch 38/200\n",
      "91459/91459 [==============================] - 9s 97us/step - loss: 0.0094 - accuracy: 0.9924 - precision: 0.9966 - recall: 0.9881 - auc: 0.9992 - val_loss: 0.0181 - val_accuracy: 0.9925 - val_precision: 0.9966 - val_recall: 0.9882 - val_auc: 0.9992\n",
      "Epoch 39/200\n",
      "91459/91459 [==============================] - 9s 94us/step - loss: 0.0094 - accuracy: 0.9925 - precision: 0.9967 - recall: 0.9883 - auc: 0.9992 - val_loss: 0.0189 - val_accuracy: 0.9926 - val_precision: 0.9967 - val_recall: 0.9884 - val_auc: 0.9992\n",
      "Epoch 40/200\n",
      "91459/91459 [==============================] - 8s 92us/step - loss: 0.0088 - accuracy: 0.9926 - precision: 0.9967 - recall: 0.9885 - auc: 0.9992 - val_loss: 0.0244 - val_accuracy: 0.9927 - val_precision: 0.9967 - val_recall: 0.9886 - val_auc: 0.9993\n",
      "Epoch 41/200\n",
      "91459/91459 [==============================] - 8s 93us/step - loss: 0.0086 - accuracy: 0.9927 - precision: 0.9967 - recall: 0.9886 - auc: 0.9993 - val_loss: 0.0181 - val_accuracy: 0.9928 - val_precision: 0.9968 - val_recall: 0.9887 - val_auc: 0.9993\n",
      "Epoch 42/200\n",
      "91459/91459 [==============================] - 8s 91us/step - loss: 0.0086 - accuracy: 0.9928 - precision: 0.9968 - recall: 0.9888 - auc: 0.9993 - val_loss: 0.0273 - val_accuracy: 0.9929 - val_precision: 0.9968 - val_recall: 0.9889 - val_auc: 0.9993\n",
      "Epoch 43/200\n",
      "91459/91459 [==============================] - 9s 97us/step - loss: 0.0087 - accuracy: 0.9929 - precision: 0.9968 - recall: 0.9890 - auc: 0.9993 - val_loss: 0.0194 - val_accuracy: 0.9930 - val_precision: 0.9968 - val_recall: 0.9890 - val_auc: 0.9993\n",
      "Epoch 44/200\n",
      "91459/91459 [==============================] - 9s 96us/step - loss: 0.0087 - accuracy: 0.9930 - precision: 0.9968 - recall: 0.9891 - auc: 0.9993 - val_loss: 0.0159 - val_accuracy: 0.9931 - val_precision: 0.9969 - val_recall: 0.9892 - val_auc: 0.9993\n",
      "Epoch 45/200\n",
      "91459/91459 [==============================] - 9s 100us/step - loss: 0.0083 - accuracy: 0.9931 - precision: 0.9969 - recall: 0.9893 - auc: 0.9993 - val_loss: 0.0167 - val_accuracy: 0.9931 - val_precision: 0.9969 - val_recall: 0.9893 - val_auc: 0.9993\n",
      "Epoch 46/200\n",
      "91459/91459 [==============================] - 9s 100us/step - loss: 0.0085 - accuracy: 0.9932 - precision: 0.9969 - recall: 0.9894 - auc: 0.9993 - val_loss: 0.0244 - val_accuracy: 0.9932 - val_precision: 0.9969 - val_recall: 0.9895 - val_auc: 0.9993\n",
      "Epoch 47/200\n",
      "91459/91459 [==============================] - 9s 99us/step - loss: 0.0081 - accuracy: 0.9933 - precision: 0.9969 - recall: 0.9895 - auc: 0.9993 - val_loss: 0.0204 - val_accuracy: 0.9933 - val_precision: 0.9970 - val_recall: 0.9896 - val_auc: 0.9993\n",
      "Epoch 48/200\n",
      "91459/91459 [==============================] - 9s 103us/step - loss: 0.0077 - accuracy: 0.9934 - precision: 0.9970 - recall: 0.9897 - auc: 0.9993 - val_loss: 0.0241 - val_accuracy: 0.9934 - val_precision: 0.9970 - val_recall: 0.9897 - val_auc: 0.9993\n",
      "Epoch 49/200\n",
      "91459/91459 [==============================] - 9s 96us/step - loss: 0.0080 - accuracy: 0.9934 - precision: 0.9970 - recall: 0.9898 - auc: 0.9993 - val_loss: 0.0152 - val_accuracy: 0.9935 - val_precision: 0.9970 - val_recall: 0.9899 - val_auc: 0.9993\n",
      "Epoch 50/200\n",
      "91459/91459 [==============================] - 9s 103us/step - loss: 0.0075 - accuracy: 0.9935 - precision: 0.9970 - recall: 0.9899 - auc: 0.9993 - val_loss: 0.0226 - val_accuracy: 0.9935 - val_precision: 0.9970 - val_recall: 0.9900 - val_auc: 0.9993\n",
      "Epoch 51/200\n",
      "91459/91459 [==============================] - 9s 99us/step - loss: 0.0075 - accuracy: 0.9936 - precision: 0.9971 - recall: 0.9900 - auc: 0.9993 - val_loss: 0.0182 - val_accuracy: 0.9936 - val_precision: 0.9971 - val_recall: 0.9901 - val_auc: 0.9994\n",
      "Epoch 52/200\n",
      "91459/91459 [==============================] - 9s 101us/step - loss: 0.0075 - accuracy: 0.9936 - precision: 0.9971 - recall: 0.9902 - auc: 0.9994 - val_loss: 0.0200 - val_accuracy: 0.9937 - val_precision: 0.9971 - val_recall: 0.9902 - val_auc: 0.9994\n",
      "Epoch 53/200\n",
      "91459/91459 [==============================] - 9s 101us/step - loss: 0.0073 - accuracy: 0.9937 - precision: 0.9971 - recall: 0.9903 - auc: 0.9994 - val_loss: 0.0273 - val_accuracy: 0.9937 - val_precision: 0.9971 - val_recall: 0.9903 - val_auc: 0.9994\n",
      "Epoch 54/200\n",
      "91459/91459 [==============================] - 9s 101us/step - loss: 0.0074 - accuracy: 0.9938 - precision: 0.9971 - recall: 0.9904 - auc: 0.9994 - val_loss: 0.0269 - val_accuracy: 0.9938 - val_precision: 0.9972 - val_recall: 0.9904 - val_auc: 0.9994\n",
      "Epoch 55/200\n",
      "91459/91459 [==============================] - 9s 100us/step - loss: 0.0075 - accuracy: 0.9938 - precision: 0.9972 - recall: 0.9905 - auc: 0.9994 - val_loss: 0.0255 - val_accuracy: 0.9939 - val_precision: 0.9972 - val_recall: 0.9905 - val_auc: 0.9994\n",
      "Epoch 56/200\n",
      "91459/91459 [==============================] - 9s 99us/step - loss: 0.0073 - accuracy: 0.9939 - precision: 0.9972 - recall: 0.9905 - auc: 0.9994 - val_loss: 0.0272 - val_accuracy: 0.9939 - val_precision: 0.9972 - val_recall: 0.9906 - val_auc: 0.9994\n",
      "Epoch 57/200\n",
      "91459/91459 [==============================] - 9s 99us/step - loss: 0.0076 - accuracy: 0.9939 - precision: 0.9972 - recall: 0.9906 - auc: 0.9994 - val_loss: 0.0253 - val_accuracy: 0.9940 - val_precision: 0.9972 - val_recall: 0.9907 - val_auc: 0.9994\n",
      "Epoch 58/200\n",
      "91459/91459 [==============================] - 9s 97us/step - loss: 0.0075 - accuracy: 0.9940 - precision: 0.9972 - recall: 0.9907 - auc: 0.9994 - val_loss: 0.0157 - val_accuracy: 0.9940 - val_precision: 0.9972 - val_recall: 0.9908 - val_auc: 0.9994\n",
      "Epoch 59/200\n",
      "91459/91459 [==============================] - 9s 97us/step - loss: 0.0073 - accuracy: 0.9941 - precision: 0.9973 - recall: 0.9908 - auc: 0.9994 - val_loss: 0.0175 - val_accuracy: 0.9941 - val_precision: 0.9973 - val_recall: 0.9909 - val_auc: 0.9994\n",
      "Epoch 60/200\n",
      "91459/91459 [==============================] - 9s 99us/step - loss: 0.0070 - accuracy: 0.9941 - precision: 0.9973 - recall: 0.9909 - auc: 0.9994 - val_loss: 0.0158 - val_accuracy: 0.9941 - val_precision: 0.9973 - val_recall: 0.9910 - val_auc: 0.9994\n",
      "Epoch 61/200\n",
      "91459/91459 [==============================] - 9s 101us/step - loss: 0.0072 - accuracy: 0.9942 - precision: 0.9973 - recall: 0.9910 - auc: 0.9994 - val_loss: 0.0202 - val_accuracy: 0.9942 - val_precision: 0.9973 - val_recall: 0.9910 - val_auc: 0.9994\n",
      "Epoch 62/200\n"
     ]
    },
    {
     "name": "stdout",
     "output_type": "stream",
     "text": [
      "91459/91459 [==============================] - 8s 91us/step - loss: 0.0069 - accuracy: 0.9942 - precision: 0.9973 - recall: 0.9911 - auc: 0.9994 - val_loss: 0.0300 - val_accuracy: 0.9942 - val_precision: 0.9973 - val_recall: 0.9911 - val_auc: 0.9994\n",
      "Epoch 63/200\n",
      "91459/91459 [==============================] - 8s 92us/step - loss: 0.0068 - accuracy: 0.9943 - precision: 0.9973 - recall: 0.9911 - auc: 0.9994 - val_loss: 0.0191 - val_accuracy: 0.9943 - val_precision: 0.9973 - val_recall: 0.9912 - val_auc: 0.9994\n",
      "Epoch 64/200\n",
      "91459/91459 [==============================] - 9s 102us/step - loss: 0.0068 - accuracy: 0.9943 - precision: 0.9974 - recall: 0.9912 - auc: 0.9994 - val_loss: 0.0175 - val_accuracy: 0.9943 - val_precision: 0.9974 - val_recall: 0.9913 - val_auc: 0.9994\n",
      "Epoch 65/200\n",
      "91459/91459 [==============================] - 9s 99us/step - loss: 0.0066 - accuracy: 0.9944 - precision: 0.9974 - recall: 0.9913 - auc: 0.9994 - val_loss: 0.0190 - val_accuracy: 0.9944 - val_precision: 0.9974 - val_recall: 0.9913 - val_auc: 0.9994\n",
      "Epoch 66/200\n",
      "91459/91459 [==============================] - 8s 92us/step - loss: 0.0064 - accuracy: 0.9944 - precision: 0.9974 - recall: 0.9914 - auc: 0.9994 - val_loss: 0.0218 - val_accuracy: 0.9944 - val_precision: 0.9974 - val_recall: 0.9914 - val_auc: 0.9994\n",
      "Epoch 67/200\n",
      "91459/91459 [==============================] - 8s 87us/step - loss: 0.0070 - accuracy: 0.9944 - precision: 0.9974 - recall: 0.9914 - auc: 0.9995 - val_loss: 0.0208 - val_accuracy: 0.9945 - val_precision: 0.9974 - val_recall: 0.9915 - val_auc: 0.9995\n",
      "Epoch 68/200\n",
      "91459/91459 [==============================] - 9s 95us/step - loss: 0.0068 - accuracy: 0.9945 - precision: 0.9974 - recall: 0.9915 - auc: 0.9995 - val_loss: 0.0224 - val_accuracy: 0.9945 - val_precision: 0.9974 - val_recall: 0.9915 - val_auc: 0.9995\n",
      "Epoch 69/200\n",
      "91459/91459 [==============================] - 8s 91us/step - loss: 0.0066 - accuracy: 0.9945 - precision: 0.9974 - recall: 0.9916 - auc: 0.9995 - val_loss: 0.0141 - val_accuracy: 0.9945 - val_precision: 0.9975 - val_recall: 0.9916 - val_auc: 0.9995\n",
      "Epoch 70/200\n",
      "91459/91459 [==============================] - 8s 92us/step - loss: 0.0068 - accuracy: 0.9946 - precision: 0.9975 - recall: 0.9916 - auc: 0.9995 - val_loss: 0.0213 - val_accuracy: 0.9946 - val_precision: 0.9975 - val_recall: 0.9917 - val_auc: 0.9995\n",
      "Epoch 71/200\n",
      "91459/91459 [==============================] - 8s 92us/step - loss: 0.0067 - accuracy: 0.9946 - precision: 0.9975 - recall: 0.9917 - auc: 0.9995 - val_loss: 0.0176 - val_accuracy: 0.9946 - val_precision: 0.9975 - val_recall: 0.9917 - val_auc: 0.9995\n",
      "Epoch 72/200\n",
      "91459/91459 [==============================] - 9s 93us/step - loss: 0.0064 - accuracy: 0.9947 - precision: 0.9975 - recall: 0.9918 - auc: 0.9995 - val_loss: 0.0164 - val_accuracy: 0.9947 - val_precision: 0.9975 - val_recall: 0.9918 - val_auc: 0.9995\n",
      "Epoch 73/200\n",
      "91459/91459 [==============================] - 9s 104us/step - loss: 0.0064 - accuracy: 0.9947 - precision: 0.9975 - recall: 0.9919 - auc: 0.9995 - val_loss: 0.0215 - val_accuracy: 0.9947 - val_precision: 0.9975 - val_recall: 0.9919 - val_auc: 0.9995\n",
      "Epoch 74/200\n",
      "91459/91459 [==============================] - 9s 93us/step - loss: 0.0066 - accuracy: 0.9947 - precision: 0.9975 - recall: 0.9919 - auc: 0.9995 - val_loss: 0.0213 - val_accuracy: 0.9947 - val_precision: 0.9975 - val_recall: 0.9919 - val_auc: 0.9995\n",
      "Epoch 75/200\n",
      "91459/91459 [==============================] - 8s 92us/step - loss: 0.0064 - accuracy: 0.9947 - precision: 0.9975 - recall: 0.9919 - auc: 0.9995 - val_loss: 0.0288 - val_accuracy: 0.9948 - val_precision: 0.9975 - val_recall: 0.9920 - val_auc: 0.9995\n",
      "Epoch 76/200\n",
      "91459/91459 [==============================] - 8s 89us/step - loss: 0.0063 - accuracy: 0.9948 - precision: 0.9976 - recall: 0.9920 - auc: 0.9995 - val_loss: 0.0338 - val_accuracy: 0.9948 - val_precision: 0.9976 - val_recall: 0.9920 - val_auc: 0.9995\n",
      "Epoch 77/200\n",
      "91459/91459 [==============================] - 8s 90us/step - loss: 0.0065 - accuracy: 0.9948 - precision: 0.9976 - recall: 0.9920 - auc: 0.9995 - val_loss: 0.0229 - val_accuracy: 0.9948 - val_precision: 0.9976 - val_recall: 0.9921 - val_auc: 0.9995\n",
      "Epoch 78/200\n",
      "91459/91459 [==============================] - 9s 100us/step - loss: 0.0069 - accuracy: 0.9948 - precision: 0.9976 - recall: 0.9921 - auc: 0.9995 - val_loss: 0.0191 - val_accuracy: 0.9949 - val_precision: 0.9976 - val_recall: 0.9921 - val_auc: 0.9995\n",
      "Epoch 79/200\n",
      "91459/91459 [==============================] - 9s 93us/step - loss: 0.0067 - accuracy: 0.9949 - precision: 0.9976 - recall: 0.9921 - auc: 0.9995 - val_loss: 0.0205 - val_accuracy: 0.9949 - val_precision: 0.9976 - val_recall: 0.9922 - val_auc: 0.9995\n",
      "Epoch 80/200\n",
      "91459/91459 [==============================] - 9s 100us/step - loss: 0.0062 - accuracy: 0.9949 - precision: 0.9976 - recall: 0.9922 - auc: 0.9995 - val_loss: 0.0187 - val_accuracy: 0.9949 - val_precision: 0.9976 - val_recall: 0.9922 - val_auc: 0.9995\n",
      "Epoch 81/200\n",
      "91459/91459 [==============================] - 9s 97us/step - loss: 0.0060 - accuracy: 0.9949 - precision: 0.9976 - recall: 0.9922 - auc: 0.9995 - val_loss: 0.0213 - val_accuracy: 0.9949 - val_precision: 0.9976 - val_recall: 0.9923 - val_auc: 0.9995\n",
      "Epoch 82/200\n",
      "91459/91459 [==============================] - 9s 96us/step - loss: 0.0061 - accuracy: 0.9950 - precision: 0.9976 - recall: 0.9923 - auc: 0.9995 - val_loss: 0.0277 - val_accuracy: 0.9950 - val_precision: 0.9976 - val_recall: 0.9923 - val_auc: 0.9995\n",
      "Epoch 83/200\n",
      "91459/91459 [==============================] - 9s 97us/step - loss: 0.0061 - accuracy: 0.9950 - precision: 0.9976 - recall: 0.9923 - auc: 0.9995 - val_loss: 0.0190 - val_accuracy: 0.9950 - val_precision: 0.9976 - val_recall: 0.9923 - val_auc: 0.9995\n",
      "Epoch 84/200\n",
      "91459/91459 [==============================] - 9s 100us/step - loss: 0.0061 - accuracy: 0.9950 - precision: 0.9976 - recall: 0.9924 - auc: 0.9995 - val_loss: 0.0209 - val_accuracy: 0.9950 - val_precision: 0.9977 - val_recall: 0.9924 - val_auc: 0.9995\n",
      "Epoch 85/200\n",
      "91459/91459 [==============================] - 10s 108us/step - loss: 0.0063 - accuracy: 0.9951 - precision: 0.9977 - recall: 0.9924 - auc: 0.9995 - val_loss: 0.0238 - val_accuracy: 0.9951 - val_precision: 0.9977 - val_recall: 0.9924 - val_auc: 0.9995\n",
      "Epoch 86/200\n",
      "91459/91459 [==============================] - 9s 102us/step - loss: 0.0061 - accuracy: 0.9951 - precision: 0.9977 - recall: 0.9925 - auc: 0.9995 - val_loss: 0.0177 - val_accuracy: 0.9951 - val_precision: 0.9977 - val_recall: 0.9925 - val_auc: 0.9995\n",
      "Epoch 87/200\n",
      "91459/91459 [==============================] - 8s 93us/step - loss: 0.0060 - accuracy: 0.9951 - precision: 0.9977 - recall: 0.9925 - auc: 0.9995 - val_loss: 0.0228 - val_accuracy: 0.9951 - val_precision: 0.9977 - val_recall: 0.9925 - val_auc: 0.9995: 0.0059 - accuracy: 0.9951 - precision: 0.9977 - recall: 0.992\n",
      "Epoch 88/200\n",
      "91459/91459 [==============================] - 9s 97us/step - loss: 0.0059 - accuracy: 0.9951 - precision: 0.9977 - recall: 0.9925 - auc: 0.9995 - val_loss: 0.0163 - val_accuracy: 0.9951 - val_precision: 0.9977 - val_recall: 0.9926 - val_auc: 0.9995\n",
      "Epoch 89/200\n",
      "91459/91459 [==============================] - 9s 99us/step - loss: 0.0060 - accuracy: 0.9952 - precision: 0.9977 - recall: 0.9926 - auc: 0.9995 - val_loss: 0.0232 - val_accuracy: 0.9952 - val_precision: 0.9977 - val_recall: 0.9926 - val_auc: 0.9995\n",
      "Epoch 90/200\n",
      "91459/91459 [==============================] - 9s 96us/step - loss: 0.0058 - accuracy: 0.9952 - precision: 0.9977 - recall: 0.9926 - auc: 0.9995 - val_loss: 0.0302 - val_accuracy: 0.9952 - val_precision: 0.9977 - val_recall: 0.9926 - val_auc: 0.9995\n",
      "Epoch 91/200\n",
      "91459/91459 [==============================] - 8s 93us/step - loss: 0.0058 - accuracy: 0.9952 - precision: 0.9977 - recall: 0.9927 - auc: 0.9995 - val_loss: 0.0204 - val_accuracy: 0.9952 - val_precision: 0.9977 - val_recall: 0.9927 - val_auc: 0.9995\n",
      "Epoch 92/200\n",
      "91459/91459 [==============================] - 9s 94us/step - loss: 0.0059 - accuracy: 0.9952 - precision: 0.9977 - recall: 0.9927 - auc: 0.9995 - val_loss: 0.0451 - val_accuracy: 0.9952 - val_precision: 0.9977 - val_recall: 0.9927 - val_auc: 0.9995\n"
     ]
    },
    {
     "name": "stdout",
     "output_type": "stream",
     "text": [
      "Epoch 93/200\n",
      "91459/91459 [==============================] - 9s 101us/step - loss: 0.0060 - accuracy: 0.9952 - precision: 0.9977 - recall: 0.9927 - auc: 0.9995 - val_loss: 0.0196 - val_accuracy: 0.9952 - val_precision: 0.9978 - val_recall: 0.9927 - val_auc: 0.9995\n",
      "Epoch 94/200\n",
      "91459/91459 [==============================] - 8s 92us/step - loss: 0.0059 - accuracy: 0.9953 - precision: 0.9977 - recall: 0.9927 - auc: 0.9995 - val_loss: 0.0298 - val_accuracy: 0.9953 - val_precision: 0.9978 - val_recall: 0.9928 - val_auc: 0.9995\n",
      "Epoch 95/200\n",
      "91459/91459 [==============================] - 9s 94us/step - loss: 0.0060 - accuracy: 0.9953 - precision: 0.9978 - recall: 0.9928 - auc: 0.9995 - val_loss: 0.0149 - val_accuracy: 0.9953 - val_precision: 0.9978 - val_recall: 0.9928 - val_auc: 0.9995\n",
      "Epoch 96/200\n",
      "91459/91459 [==============================] - 9s 96us/step - loss: 0.0060 - accuracy: 0.9953 - precision: 0.9978 - recall: 0.9928 - auc: 0.9995 - val_loss: 0.0188 - val_accuracy: 0.9953 - val_precision: 0.9978 - val_recall: 0.9928 - val_auc: 0.9995\n",
      "Epoch 97/200\n",
      "91459/91459 [==============================] - 9s 97us/step - loss: 0.0058 - accuracy: 0.9953 - precision: 0.9978 - recall: 0.9929 - auc: 0.9996 - val_loss: 0.0187 - val_accuracy: 0.9953 - val_precision: 0.9978 - val_recall: 0.9929 - val_auc: 0.9995\n",
      "Epoch 98/200\n",
      "91459/91459 [==============================] - 9s 102us/step - loss: 0.0059 - accuracy: 0.9954 - precision: 0.9978 - recall: 0.9929 - auc: 0.9996 - val_loss: 0.0249 - val_accuracy: 0.9954 - val_precision: 0.9978 - val_recall: 0.9929 - val_auc: 0.9995\n",
      "Epoch 99/200\n",
      "91459/91459 [==============================] - 9s 97us/step - loss: 0.0060 - accuracy: 0.9954 - precision: 0.9978 - recall: 0.9929 - auc: 0.9996 - val_loss: 0.0204 - val_accuracy: 0.9954 - val_precision: 0.9978 - val_recall: 0.9929 - val_auc: 0.9995\n",
      "Epoch 100/200\n",
      "91459/91459 [==============================] - 9s 99us/step - loss: 0.0060 - accuracy: 0.9954 - precision: 0.9978 - recall: 0.9929 - auc: 0.9996 - val_loss: 0.0242 - val_accuracy: 0.9954 - val_precision: 0.9978 - val_recall: 0.9930 - val_auc: 0.9996\n",
      "Epoch 101/200\n",
      "91459/91459 [==============================] - 9s 95us/step - loss: 0.0057 - accuracy: 0.9954 - precision: 0.9978 - recall: 0.9930 - auc: 0.9996 - val_loss: 0.0171 - val_accuracy: 0.9954 - val_precision: 0.9978 - val_recall: 0.9930 - val_auc: 0.9996\n",
      "Epoch 102/200\n",
      "91459/91459 [==============================] - 8s 90us/step - loss: 0.0057 - accuracy: 0.9954 - precision: 0.9978 - recall: 0.9930 - auc: 0.9996 - val_loss: 0.0227 - val_accuracy: 0.9954 - val_precision: 0.9978 - val_recall: 0.9930 - val_auc: 0.9996\n",
      "Epoch 103/200\n",
      "91459/91459 [==============================] - 9s 96us/step - loss: 0.0056 - accuracy: 0.9955 - precision: 0.9978 - recall: 0.9930 - auc: 0.9996 - val_loss: 0.0312 - val_accuracy: 0.9955 - val_precision: 0.9978 - val_recall: 0.9930 - val_auc: 0.9996\n",
      "Epoch 104/200\n",
      "91459/91459 [==============================] - 8s 93us/step - loss: 0.0056 - accuracy: 0.9955 - precision: 0.9978 - recall: 0.9931 - auc: 0.9996 - val_loss: 0.0263 - val_accuracy: 0.9955 - val_precision: 0.9978 - val_recall: 0.9931 - val_auc: 0.9996\n",
      "Epoch 105/200\n",
      "91459/91459 [==============================] - 9s 95us/step - loss: 0.0056 - accuracy: 0.9955 - precision: 0.9979 - recall: 0.9931 - auc: 0.9996 - val_loss: 0.0199 - val_accuracy: 0.9955 - val_precision: 0.9979 - val_recall: 0.9931 - val_auc: 0.9996\n",
      "Epoch 106/200\n",
      "91459/91459 [==============================] - 8s 91us/step - loss: 0.0058 - accuracy: 0.9955 - precision: 0.9979 - recall: 0.9931 - auc: 0.9996 - val_loss: 0.0196 - val_accuracy: 0.9955 - val_precision: 0.9979 - val_recall: 0.9931 - val_auc: 0.9996\n",
      "Epoch 107/200\n",
      "91459/91459 [==============================] - 9s 94us/step - loss: 0.0058 - accuracy: 0.9955 - precision: 0.9979 - recall: 0.9931 - auc: 0.9996 - val_loss: 0.0282 - val_accuracy: 0.9955 - val_precision: 0.9979 - val_recall: 0.9932 - val_auc: 0.9996\n",
      "Epoch 108/200\n",
      "91459/91459 [==============================] - 9s 95us/step - loss: 0.0057 - accuracy: 0.9955 - precision: 0.9979 - recall: 0.9932 - auc: 0.9996 - val_loss: 0.0183 - val_accuracy: 0.9955 - val_precision: 0.9979 - val_recall: 0.9932 - val_auc: 0.9996\n",
      "Epoch 109/200\n",
      "91459/91459 [==============================] - 8s 92us/step - loss: 0.0056 - accuracy: 0.9955 - precision: 0.9979 - recall: 0.9932 - auc: 0.9996 - val_loss: 0.0235 - val_accuracy: 0.9956 - val_precision: 0.9979 - val_recall: 0.9932 - val_auc: 0.9996\n",
      "Epoch 110/200\n",
      "91459/91459 [==============================] - 9s 95us/step - loss: 0.0056 - accuracy: 0.9956 - precision: 0.9979 - recall: 0.9932 - auc: 0.9996 - val_loss: 0.0168 - val_accuracy: 0.9956 - val_precision: 0.9979 - val_recall: 0.9932 - val_auc: 0.9996\n",
      "Epoch 111/200\n",
      "91459/91459 [==============================] - 9s 94us/step - loss: 0.0055 - accuracy: 0.9956 - precision: 0.9979 - recall: 0.9933 - auc: 0.9996 - val_loss: 0.0260 - val_accuracy: 0.9956 - val_precision: 0.9979 - val_recall: 0.9933 - val_auc: 0.9996\n",
      "Epoch 112/200\n",
      "91459/91459 [==============================] - 9s 97us/step - loss: 0.0054 - accuracy: 0.9956 - precision: 0.9979 - recall: 0.9933 - auc: 0.9996 - val_loss: 0.0229 - val_accuracy: 0.9956 - val_precision: 0.9979 - val_recall: 0.9933 - val_auc: 0.9996\n",
      "Epoch 113/200\n",
      "91459/91459 [==============================] - 8s 91us/step - loss: 0.0054 - accuracy: 0.9956 - precision: 0.9979 - recall: 0.9933 - auc: 0.9996 - val_loss: 0.0206 - val_accuracy: 0.9956 - val_precision: 0.9979 - val_recall: 0.9933 - val_auc: 0.9996\n",
      "Epoch 114/200\n",
      "91459/91459 [==============================] - 9s 95us/step - loss: 0.0055 - accuracy: 0.9956 - precision: 0.9979 - recall: 0.9933 - auc: 0.9996 - val_loss: 0.0200 - val_accuracy: 0.9956 - val_precision: 0.9979 - val_recall: 0.9933 - val_auc: 0.9996\n",
      "Epoch 115/200\n",
      "91459/91459 [==============================] - 9s 95us/step - loss: 0.0054 - accuracy: 0.9957 - precision: 0.9979 - recall: 0.9933 - auc: 0.9996 - val_loss: 0.0159 - val_accuracy: 0.9957 - val_precision: 0.9979 - val_recall: 0.9934 - val_auc: 0.9996\n",
      "Epoch 116/200\n",
      "91459/91459 [==============================] - 8s 92us/step - loss: 0.0054 - accuracy: 0.9957 - precision: 0.9979 - recall: 0.9934 - auc: 0.9996 - val_loss: 0.0251 - val_accuracy: 0.9957 - val_precision: 0.9979 - val_recall: 0.9934 - val_auc: 0.9996\n",
      "Epoch 117/200\n",
      "91459/91459 [==============================] - 9s 96us/step - loss: 0.0053 - accuracy: 0.9957 - precision: 0.9979 - recall: 0.9934 - auc: 0.9996 - val_loss: 0.0127 - val_accuracy: 0.9957 - val_precision: 0.9979 - val_recall: 0.9934 - val_auc: 0.9996\n",
      "Epoch 118/200\n",
      "91459/91459 [==============================] - 9s 97us/step - loss: 0.0054 - accuracy: 0.9957 - precision: 0.9979 - recall: 0.9934 - auc: 0.9996 - val_loss: 0.0215 - val_accuracy: 0.9957 - val_precision: 0.9980 - val_recall: 0.9934 - val_auc: 0.9996\n",
      "Epoch 119/200\n",
      "91459/91459 [==============================] - 9s 99us/step - loss: 0.0053 - accuracy: 0.9957 - precision: 0.9979 - recall: 0.9935 - auc: 0.9996 - val_loss: 0.0149 - val_accuracy: 0.9957 - val_precision: 0.9980 - val_recall: 0.9935 - val_auc: 0.9996\n",
      "Epoch 120/200\n",
      "91459/91459 [==============================] - 8s 93us/step - loss: 0.0054 - accuracy: 0.9957 - precision: 0.9980 - recall: 0.9935 - auc: 0.9996 - val_loss: 0.0158 - val_accuracy: 0.9957 - val_precision: 0.9980 - val_recall: 0.9935 - val_auc: 0.9996\n",
      "Epoch 121/200\n",
      "91459/91459 [==============================] - 9s 100us/step - loss: 0.0052 - accuracy: 0.9957 - precision: 0.9980 - recall: 0.9935 - auc: 0.9996 - val_loss: 0.0184 - val_accuracy: 0.9958 - val_precision: 0.9980 - val_recall: 0.9935 - val_auc: 0.9996\n",
      "Epoch 122/200\n",
      "91459/91459 [==============================] - 9s 95us/step - loss: 0.0054 - accuracy: 0.9958 - precision: 0.9980 - recall: 0.9935 - auc: 0.9996 - val_loss: 0.0124 - val_accuracy: 0.9958 - val_precision: 0.9980 - val_recall: 0.9936 - val_auc: 0.9996\n",
      "Epoch 123/200\n",
      "91459/91459 [==============================] - 9s 95us/step - loss: 0.0053 - accuracy: 0.9958 - precision: 0.9980 - recall: 0.9936 - auc: 0.9996 - val_loss: 0.0265 - val_accuracy: 0.9958 - val_precision: 0.9980 - val_recall: 0.9936 - val_auc: 0.9996\n",
      "Epoch 124/200\n"
     ]
    },
    {
     "name": "stdout",
     "output_type": "stream",
     "text": [
      "91459/91459 [==============================] - 9s 94us/step - loss: 0.0052 - accuracy: 0.9958 - precision: 0.9980 - recall: 0.9936 - auc: 0.9996 - val_loss: 0.0220 - val_accuracy: 0.9958 - val_precision: 0.9980 - val_recall: 0.9936 - val_auc: 0.9996\n",
      "Epoch 125/200\n",
      "91459/91459 [==============================] - 8s 90us/step - loss: 0.0052 - accuracy: 0.9958 - precision: 0.9980 - recall: 0.9936 - auc: 0.9996 - val_loss: 0.0111 - val_accuracy: 0.9958 - val_precision: 0.9980 - val_recall: 0.9936 - val_auc: 0.9996\n",
      "Epoch 126/200\n",
      "91459/91459 [==============================] - 9s 95us/step - loss: 0.0052 - accuracy: 0.9958 - precision: 0.9980 - recall: 0.9936 - auc: 0.9996 - val_loss: 0.0287 - val_accuracy: 0.9958 - val_precision: 0.9980 - val_recall: 0.9936 - val_auc: 0.9996\n",
      "Epoch 127/200\n",
      "91459/91459 [==============================] - 8s 92us/step - loss: 0.0051 - accuracy: 0.9958 - precision: 0.9980 - recall: 0.9937 - auc: 0.9996 - val_loss: 0.0159 - val_accuracy: 0.9958 - val_precision: 0.9980 - val_recall: 0.9937 - val_auc: 0.9996\n",
      "Epoch 128/200\n",
      "91459/91459 [==============================] - 10s 105us/step - loss: 0.0051 - accuracy: 0.9958 - precision: 0.9980 - recall: 0.9937 - auc: 0.9996 - val_loss: 0.0254 - val_accuracy: 0.9959 - val_precision: 0.9980 - val_recall: 0.9937 - val_auc: 0.9996\n",
      "Epoch 129/200\n",
      "91459/91459 [==============================] - 9s 97us/step - loss: 0.0051 - accuracy: 0.9959 - precision: 0.9980 - recall: 0.9937 - auc: 0.9996 - val_loss: 0.0181 - val_accuracy: 0.9959 - val_precision: 0.9980 - val_recall: 0.9937 - val_auc: 0.9996\n",
      "Epoch 130/200\n",
      "91459/91459 [==============================] - 9s 96us/step - loss: 0.0052 - accuracy: 0.9959 - precision: 0.9980 - recall: 0.9937 - auc: 0.9996 - val_loss: 0.0248 - val_accuracy: 0.9959 - val_precision: 0.9980 - val_recall: 0.9937 - val_auc: 0.9996\n",
      "Epoch 131/200\n",
      "91459/91459 [==============================] - 9s 96us/step - loss: 0.0052 - accuracy: 0.9959 - precision: 0.9980 - recall: 0.9937 - auc: 0.9996 - val_loss: 0.0194 - val_accuracy: 0.9959 - val_precision: 0.9980 - val_recall: 0.9937 - val_auc: 0.9996\n",
      "Epoch 132/200\n",
      "91459/91459 [==============================] - 9s 98us/step - loss: 0.0052 - accuracy: 0.9959 - precision: 0.9980 - recall: 0.9938 - auc: 0.9996 - val_loss: 0.0235 - val_accuracy: 0.9959 - val_precision: 0.9980 - val_recall: 0.9938 - val_auc: 0.9996\n",
      "Epoch 133/200\n",
      "91459/91459 [==============================] - 9s 95us/step - loss: 0.0052 - accuracy: 0.9959 - precision: 0.9980 - recall: 0.9938 - auc: 0.9996 - val_loss: 0.0140 - val_accuracy: 0.9959 - val_precision: 0.9980 - val_recall: 0.9938 - val_auc: 0.9996\n",
      "Epoch 134/200\n",
      "91459/91459 [==============================] - 8s 92us/step - loss: 0.0050 - accuracy: 0.9959 - precision: 0.9980 - recall: 0.9938 - auc: 0.9996 - val_loss: 0.0143 - val_accuracy: 0.9959 - val_precision: 0.9980 - val_recall: 0.9938 - val_auc: 0.9996\n",
      "Epoch 135/200\n",
      "91459/91459 [==============================] - 9s 100us/step - loss: 0.0052 - accuracy: 0.9959 - precision: 0.9980 - recall: 0.9938 - auc: 0.9996 - val_loss: 0.0276 - val_accuracy: 0.9959 - val_precision: 0.9980 - val_recall: 0.9938 - val_auc: 0.9996\n",
      "Epoch 136/200\n",
      "91459/91459 [==============================] - 9s 96us/step - loss: 0.0052 - accuracy: 0.9960 - precision: 0.9980 - recall: 0.9938 - auc: 0.9996 - val_loss: 0.0226 - val_accuracy: 0.9960 - val_precision: 0.9981 - val_recall: 0.9938 - val_auc: 0.9996\n",
      "Epoch 137/200\n",
      "91459/91459 [==============================] - 9s 97us/step - loss: 0.0052 - accuracy: 0.9960 - precision: 0.9981 - recall: 0.9938 - auc: 0.9996 - val_loss: 0.0189 - val_accuracy: 0.9960 - val_precision: 0.9981 - val_recall: 0.9939 - val_auc: 0.9996\n",
      "Epoch 138/200\n",
      "91459/91459 [==============================] - 9s 97us/step - loss: 0.0051 - accuracy: 0.9960 - precision: 0.9981 - recall: 0.9939 - auc: 0.9996 - val_loss: 0.0207 - val_accuracy: 0.9960 - val_precision: 0.9981 - val_recall: 0.9939 - val_auc: 0.9996\n",
      "Epoch 139/200\n",
      "91459/91459 [==============================] - 9s 95us/step - loss: 0.0051 - accuracy: 0.9960 - precision: 0.9981 - recall: 0.9939 - auc: 0.9996 - val_loss: 0.0179 - val_accuracy: 0.9960 - val_precision: 0.9981 - val_recall: 0.9939 - val_auc: 0.9996\n",
      "Epoch 140/200\n",
      "91459/91459 [==============================] - 9s 96us/step - loss: 0.0050 - accuracy: 0.9960 - precision: 0.9981 - recall: 0.9939 - auc: 0.9996 - val_loss: 0.0210 - val_accuracy: 0.9960 - val_precision: 0.9981 - val_recall: 0.9939 - val_auc: 0.9996\n",
      "Epoch 141/200\n",
      "91459/91459 [==============================] - 8s 92us/step - loss: 0.0051 - accuracy: 0.9960 - precision: 0.9981 - recall: 0.9939 - auc: 0.9996 - val_loss: 0.0192 - val_accuracy: 0.9960 - val_precision: 0.9981 - val_recall: 0.9939 - val_auc: 0.9996\n",
      "Epoch 142/200\n",
      "91459/91459 [==============================] - 9s 97us/step - loss: 0.0048 - accuracy: 0.9960 - precision: 0.9981 - recall: 0.9939 - auc: 0.9996 - val_loss: 0.0168 - val_accuracy: 0.9960 - val_precision: 0.9981 - val_recall: 0.9940 - val_auc: 0.9996\n",
      "Epoch 143/200\n",
      "91459/91459 [==============================] - 9s 94us/step - loss: 0.0053 - accuracy: 0.9960 - precision: 0.9981 - recall: 0.9940 - auc: 0.9996 - val_loss: 0.0246 - val_accuracy: 0.9960 - val_precision: 0.9981 - val_recall: 0.9940 - val_auc: 0.9996\n",
      "Epoch 144/200\n",
      "91459/91459 [==============================] - 9s 97us/step - loss: 0.0050 - accuracy: 0.9960 - precision: 0.9981 - recall: 0.9940 - auc: 0.9996 - val_loss: 0.0227 - val_accuracy: 0.9960 - val_precision: 0.9981 - val_recall: 0.9940 - val_auc: 0.9996\n",
      "Epoch 145/200\n",
      "91459/91459 [==============================] - 9s 95us/step - loss: 0.0052 - accuracy: 0.9960 - precision: 0.9981 - recall: 0.9940 - auc: 0.9996 - val_loss: 0.0178 - val_accuracy: 0.9961 - val_precision: 0.9981 - val_recall: 0.9940 - val_auc: 0.9996\n",
      "Epoch 146/200\n",
      "91459/91459 [==============================] - 9s 95us/step - loss: 0.0053 - accuracy: 0.9961 - precision: 0.9981 - recall: 0.9940 - auc: 0.9996 - val_loss: 0.0211 - val_accuracy: 0.9961 - val_precision: 0.9981 - val_recall: 0.9940 - val_auc: 0.9996\n",
      "Epoch 147/200\n",
      "91459/91459 [==============================] - 9s 96us/step - loss: 0.0051 - accuracy: 0.9961 - precision: 0.9981 - recall: 0.9940 - auc: 0.9996 - val_loss: 0.0180 - val_accuracy: 0.9961 - val_precision: 0.9981 - val_recall: 0.9940 - val_auc: 0.9996\n",
      "Epoch 148/200\n",
      "91459/91459 [==============================] - 9s 93us/step - loss: 0.0049 - accuracy: 0.9961 - precision: 0.9981 - recall: 0.9941 - auc: 0.9996 - val_loss: 0.0175 - val_accuracy: 0.9961 - val_precision: 0.9981 - val_recall: 0.9941 - val_auc: 0.9996\n",
      "Epoch 149/200\n",
      "91459/91459 [==============================] - 9s 97us/step - loss: 0.0049 - accuracy: 0.9961 - precision: 0.9981 - recall: 0.9941 - auc: 0.9996 - val_loss: 0.0214 - val_accuracy: 0.9961 - val_precision: 0.9981 - val_recall: 0.9941 - val_auc: 0.9996\n",
      "Epoch 150/200\n",
      "91459/91459 [==============================] - 9s 94us/step - loss: 0.0048 - accuracy: 0.9961 - precision: 0.9981 - recall: 0.9941 - auc: 0.9996 - val_loss: 0.0167 - val_accuracy: 0.9961 - val_precision: 0.9981 - val_recall: 0.9941 - val_auc: 0.9996\n",
      "Epoch 151/200\n",
      "91459/91459 [==============================] - 9s 96us/step - loss: 0.0048 - accuracy: 0.9961 - precision: 0.9981 - recall: 0.9941 - auc: 0.9996 - val_loss: 0.0182 - val_accuracy: 0.9962 - val_precision: 0.9981 - val_recall: 0.9941 - val_auc: 0.9996\n",
      "Epoch 152/200\n",
      "91459/91459 [==============================] - 9s 93us/step - loss: 0.0047 - accuracy: 0.9962 - precision: 0.9981 - recall: 0.9941 - auc: 0.9996 - val_loss: 0.0214 - val_accuracy: 0.9962 - val_precision: 0.9981 - val_recall: 0.9941 - val_auc: 0.9996\n",
      "Epoch 153/200\n",
      "91459/91459 [==============================] - 9s 96us/step - loss: 0.0049 - accuracy: 0.9962 - precision: 0.9981 - recall: 0.9941 - auc: 0.9996 - val_loss: 0.0163 - val_accuracy: 0.9962 - val_precision: 0.9981 - val_recall: 0.9941 - val_auc: 0.9996\n",
      "Epoch 154/200\n",
      "91459/91459 [==============================] - 9s 95us/step - loss: 0.0049 - accuracy: 0.9962 - precision: 0.9981 - recall: 0.9941 - auc: 0.9996 - val_loss: 0.0182 - val_accuracy: 0.9962 - val_precision: 0.9981 - val_recall: 0.9942 - val_auc: 0.9996\n",
      "Epoch 155/200\n"
     ]
    },
    {
     "name": "stdout",
     "output_type": "stream",
     "text": [
      "91459/91459 [==============================] - 9s 95us/step - loss: 0.0050 - accuracy: 0.9962 - precision: 0.9981 - recall: 0.9942 - auc: 0.9996 - val_loss: 0.0136 - val_accuracy: 0.9962 - val_precision: 0.9981 - val_recall: 0.9942 - val_auc: 0.9996\n",
      "Epoch 156/200\n",
      "91459/91459 [==============================] - 9s 99us/step - loss: 0.0047 - accuracy: 0.9962 - precision: 0.9981 - recall: 0.9942 - auc: 0.9996 - val_loss: 0.0183 - val_accuracy: 0.9962 - val_precision: 0.9981 - val_recall: 0.9942 - val_auc: 0.9996\n",
      "Epoch 157/200\n",
      "91459/91459 [==============================] - 9s 93us/step - loss: 0.0049 - accuracy: 0.9963 - precision: 0.9982 - recall: 0.9942 - auc: 0.9996 - val_loss: 0.0258 - val_accuracy: 0.9963 - val_precision: 0.9982 - val_recall: 0.9942 - val_auc: 0.9996\n",
      "Epoch 158/200\n",
      "91459/91459 [==============================] - 9s 98us/step - loss: 0.0048 - accuracy: 0.9963 - precision: 0.9982 - recall: 0.9942 - auc: 0.9996 - val_loss: 0.0154 - val_accuracy: 0.9963 - val_precision: 0.9982 - val_recall: 0.9942 - val_auc: 0.9996\n",
      "Epoch 159/200\n",
      "91459/91459 [==============================] - 9s 97us/step - loss: 0.0049 - accuracy: 0.9963 - precision: 0.9982 - recall: 0.9942 - auc: 0.9996 - val_loss: 0.0177 - val_accuracy: 0.9963 - val_precision: 0.9982 - val_recall: 0.9942 - val_auc: 0.9996\n",
      "Epoch 160/200\n",
      "91459/91459 [==============================] - 9s 96us/step - loss: 0.0048 - accuracy: 0.9963 - precision: 0.9982 - recall: 0.9943 - auc: 0.9996 - val_loss: 0.0188 - val_accuracy: 0.9963 - val_precision: 0.9982 - val_recall: 0.9943 - val_auc: 0.9996\n",
      "Epoch 161/200\n",
      "91459/91459 [==============================] - 9s 96us/step - loss: 0.0046 - accuracy: 0.9963 - precision: 0.9982 - recall: 0.9943 - auc: 0.9996 - val_loss: 0.0165 - val_accuracy: 0.9963 - val_precision: 0.9982 - val_recall: 0.9943 - val_auc: 0.9996\n",
      "Epoch 162/200\n",
      "91459/91459 [==============================] - 8s 90us/step - loss: 0.0048 - accuracy: 0.9963 - precision: 0.9982 - recall: 0.9943 - auc: 0.9996 - val_loss: 0.0191 - val_accuracy: 0.9963 - val_precision: 0.9982 - val_recall: 0.9943 - val_auc: 0.9996: 0.9963 - precision: 0.9982 - r\n",
      "Epoch 163/200\n",
      "91459/91459 [==============================] - 9s 96us/step - loss: 0.0049 - accuracy: 0.9964 - precision: 0.9982 - recall: 0.9943 - auc: 0.9996 - val_loss: 0.0194 - val_accuracy: 0.9964 - val_precision: 0.9982 - val_recall: 0.9943 - val_auc: 0.9996\n",
      "Epoch 164/200\n",
      "91459/91459 [==============================] - 8s 92us/step - loss: 0.0047 - accuracy: 0.9964 - precision: 0.9982 - recall: 0.9943 - auc: 0.9996 - val_loss: 0.0245 - val_accuracy: 0.9964 - val_precision: 0.9982 - val_recall: 0.9943 - val_auc: 0.9996\n",
      "Epoch 165/200\n",
      "91459/91459 [==============================] - 9s 93us/step - loss: 0.0048 - accuracy: 0.9964 - precision: 0.9982 - recall: 0.9943 - auc: 0.9996 - val_loss: 0.0195 - val_accuracy: 0.9964 - val_precision: 0.9982 - val_recall: 0.9943 - val_auc: 0.9996\n",
      "Epoch 166/200\n",
      "91459/91459 [==============================] - 8s 92us/step - loss: 0.0049 - accuracy: 0.9964 - precision: 0.9982 - recall: 0.9943 - auc: 0.9996 - val_loss: 0.0213 - val_accuracy: 0.9964 - val_precision: 0.9982 - val_recall: 0.9943 - val_auc: 0.9996\n",
      "Epoch 167/200\n",
      "91459/91459 [==============================] - 9s 94us/step - loss: 0.0049 - accuracy: 0.9964 - precision: 0.9982 - recall: 0.9943 - auc: 0.9996 - val_loss: 0.0253 - val_accuracy: 0.9964 - val_precision: 0.9982 - val_recall: 0.9944 - val_auc: 0.9996\n",
      "Epoch 168/200\n",
      "91459/91459 [==============================] - 9s 94us/step - loss: 0.0047 - accuracy: 0.9964 - precision: 0.9982 - recall: 0.9944 - auc: 0.9996 - val_loss: 0.0223 - val_accuracy: 0.9964 - val_precision: 0.9982 - val_recall: 0.9944 - val_auc: 0.9996\n",
      "Epoch 169/200\n",
      "91459/91459 [==============================] - 8s 92us/step - loss: 0.0048 - accuracy: 0.9965 - precision: 0.9982 - recall: 0.9944 - auc: 0.9996 - val_loss: 0.0190 - val_accuracy: 0.9965 - val_precision: 0.9982 - val_recall: 0.9944 - val_auc: 0.9996\n",
      "Epoch 170/200\n",
      "91459/91459 [==============================] - 9s 94us/step - loss: 0.0048 - accuracy: 0.9965 - precision: 0.9982 - recall: 0.9944 - auc: 0.9996 - val_loss: 0.0295 - val_accuracy: 0.9965 - val_precision: 0.9982 - val_recall: 0.9944 - val_auc: 0.9996\n",
      "Epoch 171/200\n",
      "91459/91459 [==============================] - 8s 93us/step - loss: 0.0048 - accuracy: 0.9965 - precision: 0.9982 - recall: 0.9944 - auc: 0.9996 - val_loss: 0.0247 - val_accuracy: 0.9965 - val_precision: 0.9982 - val_recall: 0.9944 - val_auc: 0.9996\n",
      "Epoch 172/200\n",
      "91459/91459 [==============================] - 9s 94us/step - loss: 0.0049 - accuracy: 0.9965 - precision: 0.9982 - recall: 0.9944 - auc: 0.9996 - val_loss: 0.0212 - val_accuracy: 0.9965 - val_precision: 0.9982 - val_recall: 0.9944 - val_auc: 0.9996\n",
      "Epoch 173/200\n",
      "91459/91459 [==============================] - 8s 92us/step - loss: 0.0047 - accuracy: 0.9965 - precision: 0.9982 - recall: 0.9944 - auc: 0.9996 - val_loss: 0.0155 - val_accuracy: 0.9965 - val_precision: 0.9982 - val_recall: 0.9944 - val_auc: 0.9996\n",
      "Epoch 174/200\n",
      "91459/91459 [==============================] - 9s 96us/step - loss: 0.0048 - accuracy: 0.9965 - precision: 0.9982 - recall: 0.9944 - auc: 0.9997 - val_loss: 0.0178 - val_accuracy: 0.9965 - val_precision: 0.9982 - val_recall: 0.9944 - val_auc: 0.9996\n",
      "Epoch 175/200\n",
      "91459/91459 [==============================] - 8s 91us/step - loss: 0.0047 - accuracy: 0.9965 - precision: 0.9982 - recall: 0.9944 - auc: 0.9997 - val_loss: 0.0181 - val_accuracy: 0.9965 - val_precision: 0.9982 - val_recall: 0.9945 - val_auc: 0.9996\n",
      "Epoch 176/200\n",
      "91459/91459 [==============================] - 9s 94us/step - loss: 0.0050 - accuracy: 0.9965 - precision: 0.9982 - recall: 0.9945 - auc: 0.9997 - val_loss: 0.0228 - val_accuracy: 0.9966 - val_precision: 0.9982 - val_recall: 0.9945 - val_auc: 0.9997\n",
      "Epoch 177/200\n",
      "91459/91459 [==============================] - 9s 94us/step - loss: 0.0047 - accuracy: 0.9966 - precision: 0.9982 - recall: 0.9945 - auc: 0.9997 - val_loss: 0.0233 - val_accuracy: 0.9966 - val_precision: 0.9982 - val_recall: 0.9945 - val_auc: 0.9997\n",
      "Epoch 178/200\n",
      "91459/91459 [==============================] - 9s 100us/step - loss: 0.0046 - accuracy: 0.9966 - precision: 0.9982 - recall: 0.9945 - auc: 0.9997 - val_loss: 0.0192 - val_accuracy: 0.9966 - val_precision: 0.9982 - val_recall: 0.9945 - val_auc: 0.9997\n",
      "Epoch 179/200\n",
      "91459/91459 [==============================] - 8s 91us/step - loss: 0.0047 - accuracy: 0.9966 - precision: 0.9982 - recall: 0.9945 - auc: 0.9997 - val_loss: 0.0149 - val_accuracy: 0.9966 - val_precision: 0.9982 - val_recall: 0.9945 - val_auc: 0.9997\n",
      "Epoch 180/200\n",
      "91459/91459 [==============================] - 8s 89us/step - loss: 0.0046 - accuracy: 0.9966 - precision: 0.9982 - recall: 0.9945 - auc: 0.9997 - val_loss: 0.0215 - val_accuracy: 0.9966 - val_precision: 0.9982 - val_recall: 0.9945 - val_auc: 0.9997\n",
      "Epoch 181/200\n",
      "91459/91459 [==============================] - 8s 90us/step - loss: 0.0046 - accuracy: 0.9966 - precision: 0.9982 - recall: 0.9945 - auc: 0.9997 - val_loss: 0.0220 - val_accuracy: 0.9966 - val_precision: 0.9982 - val_recall: 0.9945 - val_auc: 0.9997\n",
      "Epoch 182/200\n",
      "91459/91459 [==============================] - 8s 90us/step - loss: 0.0046 - accuracy: 0.9966 - precision: 0.9982 - recall: 0.9945 - auc: 0.9997 - val_loss: 0.0150 - val_accuracy: 0.9966 - val_precision: 0.9982 - val_recall: 0.9945 - val_auc: 0.9997\n",
      "Epoch 183/200\n",
      "91459/91459 [==============================] - 8s 88us/step - loss: 0.0044 - accuracy: 0.9966 - precision: 0.9982 - recall: 0.9946 - auc: 0.9997 - val_loss: 0.0184 - val_accuracy: 0.9966 - val_precision: 0.9982 - val_recall: 0.9946 - val_auc: 0.9997\n",
      "Epoch 184/200\n",
      "91459/91459 [==============================] - 8s 88us/step - loss: 0.0047 - accuracy: 0.9966 - precision: 0.9982 - recall: 0.9946 - auc: 0.9997 - val_loss: 0.0228 - val_accuracy: 0.9967 - val_precision: 0.9982 - val_recall: 0.9946 - val_auc: 0.9997\n",
      "Epoch 185/200\n",
      "91459/91459 [==============================] - 8s 85us/step - loss: 0.0046 - accuracy: 0.9967 - precision: 0.9982 - recall: 0.9946 - auc: 0.9997 - val_loss: 0.0191 - val_accuracy: 0.9967 - val_precision: 0.9982 - val_recall: 0.9946 - val_auc: 0.9997\n"
     ]
    },
    {
     "name": "stdout",
     "output_type": "stream",
     "text": [
      "Epoch 186/200\n",
      "91459/91459 [==============================] - 8s 88us/step - loss: 0.0045 - accuracy: 0.9967 - precision: 0.9982 - recall: 0.9946 - auc: 0.9997 - val_loss: 0.0229 - val_accuracy: 0.9967 - val_precision: 0.9982 - val_recall: 0.9946 - val_auc: 0.9997\n",
      "Epoch 187/200\n",
      "91459/91459 [==============================] - 8s 85us/step - loss: 0.0046 - accuracy: 0.9967 - precision: 0.9982 - recall: 0.9946 - auc: 0.9997 - val_loss: 0.0242 - val_accuracy: 0.9967 - val_precision: 0.9983 - val_recall: 0.9946 - val_auc: 0.9997\n",
      "Epoch 188/200\n",
      "91459/91459 [==============================] - 8s 88us/step - loss: 0.0045 - accuracy: 0.9967 - precision: 0.9983 - recall: 0.9946 - auc: 0.9997 - val_loss: 0.0196 - val_accuracy: 0.9967 - val_precision: 0.9983 - val_recall: 0.9946 - val_auc: 0.9997 0.0046 - accuracy: 0.9967 - precision: 0.9983 - recall: 0.9946\n",
      "Epoch 189/200\n",
      "91459/91459 [==============================] - 8s 85us/step - loss: 0.0045 - accuracy: 0.9967 - precision: 0.9983 - recall: 0.9946 - auc: 0.9997 - val_loss: 0.0198 - val_accuracy: 0.9967 - val_precision: 0.9983 - val_recall: 0.9946 - val_auc: 0.9997\n",
      "Epoch 190/200\n",
      "56704/91459 [=================>............] - ETA: 2s - loss: 0.0045 - accuracy: 0.9967 - precision: 0.9983 - recall: 0.9946 - auc: 0.9997"
     ]
    }
   ],
   "source": [
    "estimator = KerasClassifier(build_fn=neural_network)\n",
    "estimator.fit(X_train,Y_train,verbose=1,callbacks=[early_stopping], epochs=200,validation_split=0.2, batch_size=128)\n"
   ]
  },
  {
   "cell_type": "code",
   "execution_count": 12,
   "metadata": {},
   "outputs": [
    {
     "name": "stdout",
     "output_type": "stream",
     "text": [
      "76216/76216 [==============================] - 18s 242us/step - loss: 0.1045 - accuracy: 0.9966 - precision: 0.9980 - recall: 0.9946 - auc: 0.9997\n",
      "Epoch 1/1\n",
      "76216/76216 [==============================] - 18s 230us/step - loss: 0.1093 - accuracy: 0.9965 - precision: 0.9980 - recall: 0.9943 - auc: 0.9997\n",
      "Cross-Validation set accuracy: 97.794864 %\n",
      "114324/114324 [==============================] - 9s 76us/step\n",
      "Train set accuracy           : 99.6564 %\n",
      "Test set accuracy            : 80.1723 %\n",
      "Test set precision : 0.9695\n",
      "Test set recall    : 0.6725\n",
      "Test set F1-score  : 0.7941\n"
     ]
    }
   ],
   "source": [
    "print(\"Cross-Validation set accuracy: {:.6f} %\".format((cross_val_score(estimator, X_train, Y_train, \n",
    "                                                                        cv=3,scoring='accuracy').mean())*100))\n",
    "test_predictions = estimator.predict(X_test)\n",
    "print(\"Train set accuracy           : {:.4f} %\".format(estimator.score(X_train,Y_train)*100))\n",
    "print(\"Test set accuracy            : {:.4f} %\".format(accuracy_score(Y_test, test_predictions)*100))\n",
    "print(\"Test set precision : {:.4f}\".format(precision_score(Y_test, test_predictions)))\n",
    "print(\"Test set recall    : {:.4f}\".format(recall_score(Y_test, test_predictions)))\n",
    "print(\"Test set F1-score  : {:.4f}\".format(f1_score(Y_test, test_predictions)))"
   ]
  },
  {
   "cell_type": "code",
   "execution_count": 13,
   "metadata": {},
   "outputs": [
    {
     "name": "stdout",
     "output_type": "stream",
     "text": [
      "True Negatives  : 0.97\n",
      "False Positives : 0.03\n",
      "False Negatives : 0.33\n",
      "True Positives  : 0.67\n"
     ]
    },
    {
     "data": {
      "image/png": "[encoded data removed]",
      "text/plain": [
       "<Figure size 180x144 with 2 Axes>"
      ]
     },
     "metadata": {
      "needs_background": "light"
     },
     "output_type": "display_data"
    }
   ],
   "source": [
    "def plot_cm(labels, predictions):\n",
    "    cm = confusion_matrix(labels, predictions, normalize= 'true')\n",
    "    plt.figure(figsize=(2.5,2))\n",
    "    sns.heatmap(cm, annot=True, fmt=\".2f\",annot_kws={'size':14})\n",
    "    plt.ylabel('Actual label')\n",
    "    plt.xlabel('Predicted label')\n",
    "\n",
    "    print('True Negatives  : {:.2f}'.format(cm[0][0]))\n",
    "    print('False Positives : {:.2f}'.format(cm[0][1]))\n",
    "    print('False Negatives : {:.2f}'.format(cm[1][0]))\n",
    "    print('True Positives  : {:.2f}'.format(cm[1][1]))\n",
    "    \n",
    "plot_cm(Y_test,test_predictions)"
   ]
  },
  {
   "cell_type": "code",
   "execution_count": 14,
   "metadata": {
    "scrolled": false
   },
   "outputs": [
    {
     "name": "stdout",
     "output_type": "stream",
     "text": [
      "              precision    recall  f1-score   support\n",
      "\n",
      "           0       0.69      0.97      0.81      9711\n",
      "           1       0.97      0.67      0.79     12803\n",
      "\n",
      "    accuracy                           0.80     22514\n",
      "   macro avg       0.83      0.82      0.80     22514\n",
      "weighted avg       0.85      0.80      0.80     22514\n",
      "\n"
     ]
    }
   ],
   "source": [
    "print(classification_report(Y_test, test_predictions.round()))"
   ]
  },
  {
   "cell_type": "code",
   "execution_count": 15,
   "metadata": {},
   "outputs": [],
   "source": [
    "from sklearn.metrics import roc_curve, auc"
   ]
  },
  {
   "cell_type": "code",
   "execution_count": 16,
   "metadata": {
    "scrolled": false
   },
   "outputs": [
    {
     "name": "stderr",
     "output_type": "stream",
     "text": [
      "c:\\users\\sharuka thirimanne\\appdata\\local\\programs\\python\\python37\\lib\\site-packages\\ipykernel_launcher.py:13: MatplotlibDeprecationWarning: Adding an axes using the same arguments as a previous axes currently reuses the earlier instance.  In a future version, a new instance will always be created and returned.  Meanwhile, this warning can be suppressed, and the future behavior ensured, by passing a unique label to each axes instance.\n",
      "  del sys.path[0]\n"
     ]
    },
    {
     "data": {
      "image/png": "[encoded data removed]",
      "text/plain": [
       "<Figure size 864x720 with 1 Axes>"
      ]
     },
     "metadata": {
      "needs_background": "light"
     },
     "output_type": "display_data"
    }
   ],
   "source": [
    "fpr_lr, tpr_lr, _ = roc_curve(Y_test, test_predictions)\n",
    "roc_auc_lr = auc(fpr_lr, tpr_lr)\n",
    "\n",
    "plt.figure()\n",
    "plt.xlim([-0.01, 1.00])\n",
    "plt.ylim([-0.01, 1.01])\n",
    "plt.plot(fpr_lr, tpr_lr, lw=3, label='KNN ROC curve (area = {:0.2f})'.format(roc_auc_lr))\n",
    "plt.xlabel('False Positive Rate', fontsize=18)\n",
    "plt.ylabel('True Positive Rate', fontsize=18)\n",
    "plt.title('ROC curve', fontsize=18)\n",
    "plt.legend(loc='lower right', fontsize=18)\n",
    "plt.plot([0, 1], [0, 1], color='navy', lw=3, linestyle='--')\n",
    "plt.axes().set_aspect('equal')\n",
    "plt.show()"
   ]
  },
  {
   "cell_type": "code",
   "execution_count": 18,
   "metadata": {},
   "outputs": [
    {
     "data": {
      "text/plain": [
       "{'build_fn': <function __main__.neural_network(optimizer='sgd', init='glorot_uniform')>}"
      ]
     },
     "execution_count": 18,
     "metadata": {},
     "output_type": "execute_result"
    }
   ],
   "source": [
    "estimator.get_params()"
   ]
  },
  {
   "cell_type": "code",
   "execution_count": 19,
   "metadata": {
    "scrolled": true
   },
   "outputs": [
    {
     "name": "stdout",
     "output_type": "stream",
     "text": [
      "Fitting 2 folds for each of 20 candidates, totalling 40 fits\n",
      "[CV] batch_size=32, nb_epoch=50 ......................................\n"
     ]
    },
    {
     "name": "stderr",
     "output_type": "stream",
     "text": [
      "[Parallel(n_jobs=1)]: Using backend SequentialBackend with 1 concurrent workers.\n"
     ]
    },
    {
     "name": "stdout",
     "output_type": "stream",
     "text": [
      "Epoch 1/1\n",
      "57162/57162 [==============================] - 12s 212us/step - loss: 0.0127 - accuracy: 0.9965 - precision: 0.9978 - recall: 0.9943 - auc: 0.9996\n",
      "[CV] ....................... batch_size=32, nb_epoch=50, total=  18.4s\n",
      "[CV] batch_size=32, nb_epoch=50 ......................................\n"
     ]
    },
    {
     "name": "stderr",
     "output_type": "stream",
     "text": [
      "[Parallel(n_jobs=1)]: Done   1 out of   1 | elapsed:   18.3s remaining:    0.0s\n"
     ]
    },
    {
     "name": "stdout",
     "output_type": "stream",
     "text": [
      "Epoch 1/1\n",
      "57162/57162 [==============================] - 12s 214us/step - loss: 0.0206 - accuracy: 0.9965 - precision: 0.9978 - recall: 0.9943 - auc: 0.9996\n",
      "[CV] ....................... batch_size=32, nb_epoch=50, total=  18.8s\n",
      "[CV] batch_size=32, nb_epoch=100 .....................................\n",
      "Epoch 1/1\n",
      "57162/57162 [==============================] - 12s 210us/step - loss: 0.0152 - accuracy: 0.9965 - precision: 0.9978 - recall: 0.9943 - auc: 0.9996\n",
      "[CV] ...................... batch_size=32, nb_epoch=100, total=  18.6s\n",
      "[CV] batch_size=32, nb_epoch=100 .....................................\n",
      "Epoch 1/1\n",
      "57162/57162 [==============================] - 12s 205us/step - loss: 0.0162 - accuracy: 0.9965 - precision: 0.9978 - recall: 0.9943 - auc: 0.9996\n",
      "[CV] ...................... batch_size=32, nb_epoch=100, total=  18.6s\n",
      "[CV] batch_size=32, nb_epoch=150 .....................................\n",
      "Epoch 1/1\n",
      "57162/57162 [==============================] - 12s 212us/step - loss: 0.0145 - accuracy: 0.9965 - precision: 0.9978 - recall: 0.9943 - auc: 0.9996\n",
      "[CV] ...................... batch_size=32, nb_epoch=150, total=  18.0s\n",
      "[CV] batch_size=32, nb_epoch=150 .....................................\n",
      "Epoch 1/1\n",
      "57162/57162 [==============================] - 12s 214us/step - loss: 0.0264 - accuracy: 0.9965 - precision: 0.9978 - recall: 0.9943 - auc: 0.9996\n",
      "[CV] ...................... batch_size=32, nb_epoch=150, total=  18.8s\n",
      "[CV] batch_size=32, nb_epoch=200 .....................................\n",
      "Epoch 1/1\n",
      "57162/57162 [==============================] - 12s 210us/step - loss: 0.0165 - accuracy: 0.9965 - precision: 0.9978 - recall: 0.9943 - auc: 0.9996\n",
      "[CV] ...................... batch_size=32, nb_epoch=200, total=  18.3s\n",
      "[CV] batch_size=32, nb_epoch=200 .....................................\n",
      "Epoch 1/1\n",
      "57162/57162 [==============================] - 12s 210us/step - loss: 0.0164 - accuracy: 0.9965 - precision: 0.9978 - recall: 0.9943 - auc: 0.9996\n",
      "[CV] ...................... batch_size=32, nb_epoch=200, total=  18.5s\n",
      "[CV] batch_size=64, nb_epoch=50 ......................................\n",
      "Epoch 1/1\n",
      "57162/57162 [==============================] - 8s 138us/step - loss: 0.0242 - accuracy: 0.9965 - precision: 0.9978 - recall: 0.9943 - auc: 0.9996\n",
      "[CV] ....................... batch_size=64, nb_epoch=50, total=  13.8s\n",
      "[CV] batch_size=64, nb_epoch=50 ......................................\n",
      "Epoch 1/1\n",
      "57162/57162 [==============================] - 8s 139us/step - loss: 0.0468 - accuracy: 0.9965 - precision: 0.9978 - recall: 0.9943 - auc: 0.9996\n",
      "[CV] ....................... batch_size=64, nb_epoch=50, total=  13.6s\n",
      "[CV] batch_size=64, nb_epoch=100 .....................................\n",
      "Epoch 1/1\n",
      "57162/57162 [==============================] - 8s 142us/step - loss: 0.0276 - accuracy: 0.9965 - precision: 0.9978 - recall: 0.9943 - auc: 0.9996\n",
      "[CV] ...................... batch_size=64, nb_epoch=100, total=  13.9s\n",
      "[CV] batch_size=64, nb_epoch=100 .....................................\n",
      "Epoch 1/1\n",
      "57162/57162 [==============================] - 8s 137us/step - loss: 0.0461 - accuracy: 0.9965 - precision: 0.9978 - recall: 0.9943 - auc: 0.9996\n",
      "[CV] ...................... batch_size=64, nb_epoch=100, total=  13.5s\n",
      "[CV] batch_size=64, nb_epoch=150 .....................................\n",
      "Epoch 1/1\n",
      "57162/57162 [==============================] - 8s 136us/step - loss: 0.0286 - accuracy: 0.9965 - precision: 0.9978 - recall: 0.9943 - auc: 0.9996\n",
      "[CV] ...................... batch_size=64, nb_epoch=150, total=  13.5s\n",
      "[CV] batch_size=64, nb_epoch=150 .....................................\n",
      "Epoch 1/1\n",
      "57162/57162 [==============================] - 8s 137us/step - loss: 0.0305 - accuracy: 0.9966 - precision: 0.9978 - recall: 0.9943 - auc: 0.9996\n",
      "[CV] ...................... batch_size=64, nb_epoch=150, total=  14.5s\n",
      "[CV] batch_size=64, nb_epoch=200 .....................................\n",
      "Epoch 1/1\n",
      "57162/57162 [==============================] - 8s 136us/step - loss: 0.0267 - accuracy: 0.9966 - precision: 0.9978 - recall: 0.9943 - auc: 0.9996\n",
      "[CV] ...................... batch_size=64, nb_epoch=200, total=  13.6s\n",
      "[CV] batch_size=64, nb_epoch=200 .....................................\n",
      "Epoch 1/1\n",
      "57162/57162 [==============================] - 8s 141us/step - loss: 0.0349 - accuracy: 0.9966 - precision: 0.9978 - recall: 0.9943 - auc: 0.9996\n",
      "[CV] ...................... batch_size=64, nb_epoch=200, total=  13.6s\n",
      "[CV] batch_size=128, nb_epoch=50 .....................................\n",
      "Epoch 1/1\n",
      "57162/57162 [==============================] - 5s 88us/step - loss: 0.0794 - accuracy: 0.9965 - precision: 0.9977 - recall: 0.9943 - auc: 0.9996\n",
      "[CV] ...................... batch_size=128, nb_epoch=50, total=   9.8s\n",
      "[CV] batch_size=128, nb_epoch=50 .....................................\n",
      "Epoch 1/1\n",
      "57162/57162 [==============================] - 5s 84us/step - loss: 0.0736 - accuracy: 0.9965 - precision: 0.9977 - recall: 0.9943 - auc: 0.9996\n",
      "[CV] ...................... batch_size=128, nb_epoch=50, total=   9.5s\n",
      "[CV] batch_size=128, nb_epoch=100 ....................................\n",
      "Epoch 1/1\n",
      "57162/57162 [==============================] - 5s 90us/step - loss: 0.0686 - accuracy: 0.9966 - precision: 0.9977 - recall: 0.9943 - auc: 0.9996\n",
      "[CV] ..................... batch_size=128, nb_epoch=100, total=   9.8s\n",
      "[CV] batch_size=128, nb_epoch=100 ....................................\n",
      "Epoch 1/1\n",
      "57162/57162 [==============================] - 5s 92us/step - loss: 0.0750 - accuracy: 0.9966 - precision: 0.9977 - recall: 0.9943 - auc: 0.9996\n",
      "[CV] ..................... batch_size=128, nb_epoch=100, total=  10.8s\n",
      "[CV] batch_size=128, nb_epoch=150 ....................................\n",
      "Epoch 1/1\n",
      "57162/57162 [==============================] - 5s 87us/step - loss: 0.0508 - accuracy: 0.9966 - precision: 0.9977 - recall: 0.9943 - auc: 0.9996\n",
      "[CV] ..................... batch_size=128, nb_epoch=150, total=   9.9s\n",
      "[CV] batch_size=128, nb_epoch=150 ....................................\n",
      "Epoch 1/1\n",
      "57162/57162 [==============================] - 5s 94us/step - loss: 0.0743 - accuracy: 0.9966 - precision: 0.9977 - recall: 0.9943 - auc: 0.9996\n",
      "[CV] ..................... batch_size=128, nb_epoch=150, total=  10.2s\n",
      "[CV] batch_size=128, nb_epoch=200 ....................................\n",
      "Epoch 1/1\n",
      "57162/57162 [==============================] - 5s 90us/step - loss: 0.0534 - accuracy: 0.9966 - precision: 0.9977 - recall: 0.9943 - auc: 0.9996\n",
      "[CV] ..................... batch_size=128, nb_epoch=200, total=   9.8s\n",
      "[CV] batch_size=128, nb_epoch=200 ....................................\n",
      "Epoch 1/1\n",
      "57162/57162 [==============================] - 5s 85us/step - loss: 0.0791 - accuracy: 0.9966 - precision: 0.9976 - recall: 0.9943 - auc: 0.9996\n",
      "[CV] ..................... batch_size=128, nb_epoch=200, total=   9.9s\n",
      "[CV] batch_size=256, nb_epoch=50 .....................................\n",
      "Epoch 1/1\n",
      "57162/57162 [==============================] - 4s 68us/step - loss: 0.1130 - accuracy: 0.9966 - precision: 0.9976 - recall: 0.9943 - auc: 0.9996\n",
      "[CV] ...................... batch_size=256, nb_epoch=50, total=   8.2s\n",
      "[CV] batch_size=256, nb_epoch=50 .....................................\n",
      "Epoch 1/1\n",
      "57162/57162 [==============================] - 4s 63us/step - loss: 0.1535 - accuracy: 0.9966 - precision: 0.9976 - recall: 0.9943 - auc: 0.9996\n",
      "[CV] ...................... batch_size=256, nb_epoch=50, total=   8.0s\n",
      "[CV] batch_size=256, nb_epoch=100 ....................................\n",
      "Epoch 1/1\n",
      "57162/57162 [==============================] - 4s 71us/step - loss: 0.1179 - accuracy: 0.9966 - precision: 0.9976 - recall: 0.9943 - auc: 0.9996\n",
      "[CV] ..................... batch_size=256, nb_epoch=100, total=   9.3s\n",
      "[CV] batch_size=256, nb_epoch=100 ....................................\n",
      "Epoch 1/1\n",
      "57162/57162 [==============================] - 4s 66us/step - loss: 0.1651 - accuracy: 0.9966 - precision: 0.9975 - recall: 0.9943 - auc: 0.9996\n",
      "[CV] ..................... batch_size=256, nb_epoch=100, total=   8.1s\n",
      "[CV] batch_size=256, nb_epoch=150 ....................................\n",
      "Epoch 1/1\n",
      "57162/57162 [==============================] - 4s 68us/step - loss: 0.1016 - accuracy: 0.9965 - precision: 0.9975 - recall: 0.9943 - auc: 0.9995\n"
     ]
    },
    {
     "name": "stdout",
     "output_type": "stream",
     "text": [
      "[CV] ..................... batch_size=256, nb_epoch=150, total=   8.1s\n",
      "[CV] batch_size=256, nb_epoch=150 ....................................\n",
      "Epoch 1/1\n",
      "57162/57162 [==============================] - 4s 66us/step - loss: 0.1567 - accuracy: 0.9965 - precision: 0.9975 - recall: 0.9943 - auc: 0.9995\n",
      "[CV] ..................... batch_size=256, nb_epoch=150, total=   8.1s\n",
      "[CV] batch_size=256, nb_epoch=200 ....................................\n",
      "Epoch 1/1\n",
      "57162/57162 [==============================] - 4s 71us/step - loss: 0.0921 - accuracy: 0.9966 - precision: 0.9975 - recall: 0.9943 - auc: 0.9995\n",
      "[CV] ..................... batch_size=256, nb_epoch=200, total=   8.7s\n",
      "[CV] batch_size=256, nb_epoch=200 ....................................\n",
      "Epoch 1/1\n",
      "57162/57162 [==============================] - 4s 70us/step - loss: 0.1334 - accuracy: 0.9966 - precision: 0.9975 - recall: 0.9943 - auc: 0.9995: 5s - loss: 0.4511 - accuracy: 0.9966 - preci\n",
      "[CV] ..................... batch_size=256, nb_epoch=200, total=   8.2s\n",
      "[CV] batch_size=512, nb_epoch=50 .....................................\n",
      "Epoch 1/1\n",
      "57162/57162 [==============================] - 3s 59us/step - loss: 0.1807 - accuracy: 0.9966 - precision: 0.9975 - recall: 0.9943 - auc: 0.9995\n",
      "[CV] ...................... batch_size=512, nb_epoch=50, total=   7.7s\n",
      "[CV] batch_size=512, nb_epoch=50 .....................................\n",
      "Epoch 1/1\n",
      "57162/57162 [==============================] - 3s 60us/step - loss: 0.3312 - accuracy: 0.9965 - precision: 0.9974 - recall: 0.9943 - auc: 0.9995\n",
      "[CV] ...................... batch_size=512, nb_epoch=50, total=   8.5s\n",
      "[CV] batch_size=512, nb_epoch=100 ....................................\n",
      "Epoch 1/1\n",
      "57162/57162 [==============================] - 3s 58us/step - loss: 0.2007 - accuracy: 0.9965 - precision: 0.9974 - recall: 0.9943 - auc: 0.9995\n",
      "[CV] ..................... batch_size=512, nb_epoch=100, total=   8.0s\n",
      "[CV] batch_size=512, nb_epoch=100 ....................................\n",
      "Epoch 1/1\n",
      "57162/57162 [==============================] - 3s 58us/step - loss: 0.3277 - accuracy: 0.9965 - precision: 0.9973 - recall: 0.9943 - auc: 0.9995: 1s - loss: 0.4526 - accuracy: 0.9965 - precision: 0.9973 - recall: 0.994\n",
      "[CV] ..................... batch_size=512, nb_epoch=100, total=   7.3s\n",
      "[CV] batch_size=512, nb_epoch=150 ....................................\n",
      "Epoch 1/1\n",
      "57162/57162 [==============================] - 3s 60us/step - loss: 0.1881 - accuracy: 0.9965 - precision: 0.9972 - recall: 0.9943 - auc: 0.9995\n",
      "[CV] ..................... batch_size=512, nb_epoch=150, total=   8.0s\n",
      "[CV] batch_size=512, nb_epoch=150 ....................................\n",
      "Epoch 1/1\n",
      "57162/57162 [==============================] - 3s 57us/step - loss: 0.2867 - accuracy: 0.9964 - precision: 0.9971 - recall: 0.9943 - auc: 0.9995\n",
      "[CV] ..................... batch_size=512, nb_epoch=150, total=   7.3s\n",
      "[CV] batch_size=512, nb_epoch=200 ....................................\n",
      "Epoch 1/1\n",
      "57162/57162 [==============================] - 3s 58us/step - loss: 0.1929 - accuracy: 0.9964 - precision: 0.9971 - recall: 0.9943 - auc: 0.9995\n",
      "[CV] ..................... batch_size=512, nb_epoch=200, total=   7.9s\n",
      "[CV] batch_size=512, nb_epoch=200 ....................................\n",
      "Epoch 1/1\n",
      "57162/57162 [==============================] - 3s 53us/step - loss: 0.2911 - accuracy: 0.9964 - precision: 0.9970 - recall: 0.9943 - auc: 0.9995: 1s - loss: 0.4776 - accuracy: 0.9964 - precision: 0.9970 - recall: \n",
      "[CV] ..................... batch_size=512, nb_epoch=200, total=   7.4s\n"
     ]
    },
    {
     "name": "stderr",
     "output_type": "stream",
     "text": [
      "[Parallel(n_jobs=1)]: Done  40 out of  40 | elapsed:  7.8min finished\n"
     ]
    },
    {
     "ename": "RuntimeError",
     "evalue": "Cannot clone object <keras.wrappers.scikit_learn.KerasClassifier object at 0x000001D39CDE35F8>, as the constructor either does not set or modifies parameter batch_size",
     "output_type": "error",
     "traceback": [
      "\u001b[1;31m---------------------------------------------------------------------------\u001b[0m",
      "\u001b[1;31mRuntimeError\u001b[0m                              Traceback (most recent call last)",
      "\u001b[1;32m<ipython-input-19-898d6a8a7a3d>\u001b[0m in \u001b[0;36m<module>\u001b[1;34m\u001b[0m\n\u001b[0;32m     12\u001b[0m     \u001b[0mscoring\u001b[0m \u001b[1;33m=\u001b[0m\u001b[1;34m'accuracy'\u001b[0m\u001b[1;33m,\u001b[0m\u001b[1;33m\u001b[0m\u001b[1;33m\u001b[0m\u001b[0m\n\u001b[0;32m     13\u001b[0m     verbose = 2)\n\u001b[1;32m---> 14\u001b[1;33m \u001b[0moptimal_params\u001b[0m\u001b[1;33m.\u001b[0m\u001b[0mfit\u001b[0m\u001b[1;33m(\u001b[0m\u001b[0mX_train\u001b[0m\u001b[1;33m,\u001b[0m\u001b[0mY_train\u001b[0m\u001b[1;33m)\u001b[0m\u001b[1;33m\u001b[0m\u001b[1;33m\u001b[0m\u001b[0m\n\u001b[0m\u001b[0;32m     15\u001b[0m \u001b[0mprint\u001b[0m\u001b[1;33m(\u001b[0m\u001b[0moptimal_params\u001b[0m\u001b[1;33m.\u001b[0m\u001b[0mbest_params_\u001b[0m\u001b[1;33m)\u001b[0m\u001b[1;33m\u001b[0m\u001b[1;33m\u001b[0m\u001b[0m\n",
      "\u001b[1;32mc:\\users\\sharuka thirimanne\\appdata\\local\\programs\\python\\python37\\lib\\site-packages\\sklearn\\utils\\validation.py\u001b[0m in \u001b[0;36minner_f\u001b[1;34m(*args, **kwargs)\u001b[0m\n\u001b[0;32m     70\u001b[0m                           FutureWarning)\n\u001b[0;32m     71\u001b[0m         \u001b[0mkwargs\u001b[0m\u001b[1;33m.\u001b[0m\u001b[0mupdate\u001b[0m\u001b[1;33m(\u001b[0m\u001b[1;33m{\u001b[0m\u001b[0mk\u001b[0m\u001b[1;33m:\u001b[0m \u001b[0marg\u001b[0m \u001b[1;32mfor\u001b[0m \u001b[0mk\u001b[0m\u001b[1;33m,\u001b[0m \u001b[0marg\u001b[0m \u001b[1;32min\u001b[0m \u001b[0mzip\u001b[0m\u001b[1;33m(\u001b[0m\u001b[0msig\u001b[0m\u001b[1;33m.\u001b[0m\u001b[0mparameters\u001b[0m\u001b[1;33m,\u001b[0m \u001b[0margs\u001b[0m\u001b[1;33m)\u001b[0m\u001b[1;33m}\u001b[0m\u001b[1;33m)\u001b[0m\u001b[1;33m\u001b[0m\u001b[1;33m\u001b[0m\u001b[0m\n\u001b[1;32m---> 72\u001b[1;33m         \u001b[1;32mreturn\u001b[0m \u001b[0mf\u001b[0m\u001b[1;33m(\u001b[0m\u001b[1;33m**\u001b[0m\u001b[0mkwargs\u001b[0m\u001b[1;33m)\u001b[0m\u001b[1;33m\u001b[0m\u001b[1;33m\u001b[0m\u001b[0m\n\u001b[0m\u001b[0;32m     73\u001b[0m     \u001b[1;32mreturn\u001b[0m \u001b[0minner_f\u001b[0m\u001b[1;33m\u001b[0m\u001b[1;33m\u001b[0m\u001b[0m\n\u001b[0;32m     74\u001b[0m \u001b[1;33m\u001b[0m\u001b[0m\n",
      "\u001b[1;32mc:\\users\\sharuka thirimanne\\appdata\\local\\programs\\python\\python37\\lib\\site-packages\\sklearn\\model_selection\\_search.py\u001b[0m in \u001b[0;36mfit\u001b[1;34m(self, X, y, groups, **fit_params)\u001b[0m\n\u001b[0;32m    760\u001b[0m             \u001b[1;31m# of the params are estimators as well.\u001b[0m\u001b[1;33m\u001b[0m\u001b[1;33m\u001b[0m\u001b[1;33m\u001b[0m\u001b[0m\n\u001b[0;32m    761\u001b[0m             self.best_estimator_ = clone(clone(base_estimator).set_params(\n\u001b[1;32m--> 762\u001b[1;33m                 **self.best_params_))\n\u001b[0m\u001b[0;32m    763\u001b[0m             \u001b[0mrefit_start_time\u001b[0m \u001b[1;33m=\u001b[0m \u001b[0mtime\u001b[0m\u001b[1;33m.\u001b[0m\u001b[0mtime\u001b[0m\u001b[1;33m(\u001b[0m\u001b[1;33m)\u001b[0m\u001b[1;33m\u001b[0m\u001b[1;33m\u001b[0m\u001b[0m\n\u001b[0;32m    764\u001b[0m             \u001b[1;32mif\u001b[0m \u001b[0my\u001b[0m \u001b[1;32mis\u001b[0m \u001b[1;32mnot\u001b[0m \u001b[1;32mNone\u001b[0m\u001b[1;33m:\u001b[0m\u001b[1;33m\u001b[0m\u001b[1;33m\u001b[0m\u001b[0m\n",
      "\u001b[1;32mc:\\users\\sharuka thirimanne\\appdata\\local\\programs\\python\\python37\\lib\\site-packages\\sklearn\\utils\\validation.py\u001b[0m in \u001b[0;36minner_f\u001b[1;34m(*args, **kwargs)\u001b[0m\n\u001b[0;32m     70\u001b[0m                           FutureWarning)\n\u001b[0;32m     71\u001b[0m         \u001b[0mkwargs\u001b[0m\u001b[1;33m.\u001b[0m\u001b[0mupdate\u001b[0m\u001b[1;33m(\u001b[0m\u001b[1;33m{\u001b[0m\u001b[0mk\u001b[0m\u001b[1;33m:\u001b[0m \u001b[0marg\u001b[0m \u001b[1;32mfor\u001b[0m \u001b[0mk\u001b[0m\u001b[1;33m,\u001b[0m \u001b[0marg\u001b[0m \u001b[1;32min\u001b[0m \u001b[0mzip\u001b[0m\u001b[1;33m(\u001b[0m\u001b[0msig\u001b[0m\u001b[1;33m.\u001b[0m\u001b[0mparameters\u001b[0m\u001b[1;33m,\u001b[0m \u001b[0margs\u001b[0m\u001b[1;33m)\u001b[0m\u001b[1;33m}\u001b[0m\u001b[1;33m)\u001b[0m\u001b[1;33m\u001b[0m\u001b[1;33m\u001b[0m\u001b[0m\n\u001b[1;32m---> 72\u001b[1;33m         \u001b[1;32mreturn\u001b[0m \u001b[0mf\u001b[0m\u001b[1;33m(\u001b[0m\u001b[1;33m**\u001b[0m\u001b[0mkwargs\u001b[0m\u001b[1;33m)\u001b[0m\u001b[1;33m\u001b[0m\u001b[1;33m\u001b[0m\u001b[0m\n\u001b[0m\u001b[0;32m     73\u001b[0m     \u001b[1;32mreturn\u001b[0m \u001b[0minner_f\u001b[0m\u001b[1;33m\u001b[0m\u001b[1;33m\u001b[0m\u001b[0m\n\u001b[0;32m     74\u001b[0m \u001b[1;33m\u001b[0m\u001b[0m\n",
      "\u001b[1;32mc:\\users\\sharuka thirimanne\\appdata\\local\\programs\\python\\python37\\lib\\site-packages\\sklearn\\base.py\u001b[0m in \u001b[0;36mclone\u001b[1;34m(estimator, safe)\u001b[0m\n\u001b[0;32m     96\u001b[0m             raise RuntimeError('Cannot clone object %s, as the constructor '\n\u001b[0;32m     97\u001b[0m                                \u001b[1;34m'either does not set or modifies parameter %s'\u001b[0m \u001b[1;33m%\u001b[0m\u001b[1;33m\u001b[0m\u001b[1;33m\u001b[0m\u001b[0m\n\u001b[1;32m---> 98\u001b[1;33m                                (estimator, name))\n\u001b[0m\u001b[0;32m     99\u001b[0m     \u001b[1;32mreturn\u001b[0m \u001b[0mnew_object\u001b[0m\u001b[1;33m\u001b[0m\u001b[1;33m\u001b[0m\u001b[0m\n\u001b[0;32m    100\u001b[0m \u001b[1;33m\u001b[0m\u001b[0m\n",
      "\u001b[1;31mRuntimeError\u001b[0m: Cannot clone object <keras.wrappers.scikit_learn.KerasClassifier object at 0x000001D39CDE35F8>, as the constructor either does not set or modifies parameter batch_size"
     ]
    }
   ],
   "source": [
    "optimizers = ['sgd','rmsprop', 'adam']\n",
    "init = ['glorot_uniform', 'normal', 'uniform']\n",
    "epochs = np.array([50, 100, 150,200])\n",
    "batches = np.array([32,64,128,256,512])\n",
    "#param_grid = dict(optimizer=optimizers, nb_epoch=epochs, batch_size=batches, init=init)\n",
    "param_grid = dict(nb_epoch=epochs, batch_size=batches)\n",
    "\n",
    "optimal_params = GridSearchCV(\n",
    "    estimator = estimator,\n",
    "    param_grid = param_grid,\n",
    "    cv=2,\n",
    "    scoring ='accuracy',\n",
    "    verbose = 2)\n",
    "optimal_params.fit(X_train,Y_train)\n",
    "print(optimal_params.best_params_)\n"
   ]
  },
  {
   "cell_type": "code",
   "execution_count": null,
   "metadata": {},
   "outputs": [],
   "source": [
    "def plot_metrics(history):\n",
    "  metrics =  ['accuracy', 'precision', 'recall','auc']\n",
    "  for n, metric in enumerate(metrics):\n",
    "    name = metric.replace(\"_\",\" \").capitalize()\n",
    "    plt.subplots(2,2)\n",
    "    plt.plot(history.epochs,  history.history[metric], color=colors[0], label='Train')\n",
    "    plt.plot(history.epochs, history.history['val_'+metric], color=colors[0], linestyle=\"--\", label='Val')\n",
    "    plt.xlabel('Epoch')\n",
    "    plt.ylabel(name)\n",
    "    if metric == 'loss':\n",
    "      plt.ylim([0, plt.ylim()[1]])\n",
    "    elif metric == 'accuracy':\n",
    "      plt.ylim([0.8,1])\n",
    "    elif metric == 'precision':\n",
    "      plt.ylim([0.8,1])\n",
    "    elif metric == 'recall':\n",
    "      plt.ylim([0.8,1])\n",
    "\n",
    "    plt.legend()\n",
    "    \n",
    "plot_metrics(estimator)"
   ]
  }
 ],
 "metadata": {
  "kernelspec": {
   "display_name": "Python 3",
   "language": "python",
   "name": "python3"
  },
  "language_info": {
   "codemirror_mode": {
    "name": "ipython",
    "version": 3
   },
   "file_extension": ".py",
   "mimetype": "text/x-python",
   "name": "python",
   "nbconvert_exporter": "python",
   "pygments_lexer": "ipython3",
   "version": "3.7.3"
  }
 },
 "nbformat": 4,
 "nbformat_minor": 4
}
