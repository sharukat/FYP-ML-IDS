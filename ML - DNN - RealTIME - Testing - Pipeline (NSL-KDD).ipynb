{
 "cells": [
  {
   "cell_type": "code",
   "execution_count": 1,
   "metadata": {},
   "outputs": [
    {
     "name": "stdout",
     "output_type": "stream",
     "text": [
      "/media/sharukathirimanne/OS/Users/Sharuka Thirimanne/Desktop/FYP-ML-IDS\n"
     ]
    }
   ],
   "source": [
    "cd /media/sharukathirimanne/OS/Users/Sharuka Thirimanne/Desktop/FYP-ML-IDS"
   ]
  },
  {
   "cell_type": "code",
   "execution_count": 2,
   "metadata": {},
   "outputs": [],
   "source": [
    "import sklearn\n",
    "import pandas as pd\n",
    "import tensorflow as tf\n",
    "\n",
    "from tensorflow import keras\n",
    "from keras.layers import Dense\n",
    "from keras.models import Sequential\n",
    "from tensorflow.keras import regularizers, Model, layers\n",
    "from sklearn.model_selection import cross_val_score\n",
    "from keras.wrappers.scikit_learn import KerasClassifier\n",
    "from sklearn.metrics import accuracy_score, precision_score, recall_score, classification_report, confusion_matrix,f1_score\n",
    "\n",
    "#Pipelines\n",
    "from sklearn.pipeline import make_pipeline\n",
    "\n",
    "from pickle import dump, load\n",
    "from sklearn.pipeline import Pipeline\n",
    "from io import StringIO\n",
    "from keras.models import model_from_json\n",
    "import joblib\n"
   ]
  },
  {
   "cell_type": "code",
   "execution_count": 3,
   "metadata": {},
   "outputs": [],
   "source": [
    "# Load the model\n",
    "estimator = model_from_json(open('DNN_Realtime_Model.json','r').read())\n",
    "estimator.load_weights('DNN_model_weights.h5')\n",
    "\n",
    "# Load Column Transformer \n",
    "column_transformer = joblib.load('DNN_Realtime_ColumnTransformer')"
   ]
  },
  {
   "cell_type": "code",
   "execution_count": 4,
   "metadata": {},
   "outputs": [],
   "source": [
    "METRICS = [ \n",
    "      keras.metrics.BinaryAccuracy(name='accuracy'),\n",
    "      keras.metrics.Precision(name='precision'),\n",
    "      keras.metrics.Recall(name='recall'),\n",
    "      keras.metrics.AUC(name='auc'),\n",
    "]\n",
    "estimator.compile(loss='binary_crossentropy', optimizer='adam', metrics = METRICS)"
   ]
  },
  {
   "cell_type": "code",
   "execution_count": 5,
   "metadata": {},
   "outputs": [],
   "source": [
    "pipe = Pipeline(steps=[\n",
    "    ('preprocessing',column_transformer),\n",
    "    ('classifier',estimator)])"
   ]
  },
  {
   "cell_type": "code",
   "execution_count": 6,
   "metadata": {},
   "outputs": [
    {
     "data": {
      "text/html": [
       "<style>div.sk-top-container {color: black;background-color: white;}div.sk-toggleable {background-color: white;}label.sk-toggleable__label {cursor: pointer;display: block;width: 100%;margin-bottom: 0;padding: 0.2em 0.3em;box-sizing: border-box;text-align: center;}div.sk-toggleable__content {max-height: 0;max-width: 0;overflow: hidden;text-align: left;background-color: #f0f8ff;}div.sk-toggleable__content pre {margin: 0.2em;color: black;border-radius: 0.25em;background-color: #f0f8ff;}input.sk-toggleable__control:checked~div.sk-toggleable__content {max-height: 200px;max-width: 100%;overflow: auto;}div.sk-estimator input.sk-toggleable__control:checked~label.sk-toggleable__label {background-color: #d4ebff;}div.sk-label input.sk-toggleable__control:checked~label.sk-toggleable__label {background-color: #d4ebff;}input.sk-hidden--visually {border: 0;clip: rect(1px 1px 1px 1px);clip: rect(1px, 1px, 1px, 1px);height: 1px;margin: -1px;overflow: hidden;padding: 0;position: absolute;width: 1px;}div.sk-estimator {font-family: monospace;background-color: #f0f8ff;margin: 0.25em 0.25em;border: 1px dotted black;border-radius: 0.25em;box-sizing: border-box;}div.sk-estimator:hover {background-color: #d4ebff;}div.sk-parallel-item::after {content: \"\";width: 100%;border-bottom: 1px solid gray;flex-grow: 1;}div.sk-label:hover label.sk-toggleable__label {background-color: #d4ebff;}div.sk-serial::before {content: \"\";position: absolute;border-left: 1px solid gray;box-sizing: border-box;top: 2em;bottom: 0;left: 50%;}div.sk-serial {display: flex;flex-direction: column;align-items: center;background-color: white;}div.sk-item {z-index: 1;}div.sk-parallel {display: flex;align-items: stretch;justify-content: center;background-color: white;}div.sk-parallel-item {display: flex;flex-direction: column;position: relative;background-color: white;}div.sk-parallel-item:first-child::after {align-self: flex-end;width: 50%;}div.sk-parallel-item:last-child::after {align-self: flex-start;width: 50%;}div.sk-parallel-item:only-child::after {width: 0;}div.sk-dashed-wrapped {border: 1px dashed gray;margin: 0.2em;box-sizing: border-box;padding-bottom: 0.1em;background-color: white;position: relative;}div.sk-label label {font-family: monospace;font-weight: bold;background-color: white;display: inline-block;line-height: 1.2em;}div.sk-label-container {position: relative;z-index: 2;text-align: center;}div.sk-container {display: inline-block;position: relative;}</style><div class=\"sk-top-container\"><div class=\"sk-container\"><div class=\"sk-item sk-dashed-wrapped\"><div class=\"sk-label-container\"><div class=\"sk-label sk-toggleable\"><input class=\"sk-toggleable__control sk-hidden--visually\" id=\"c3bc51c6-6b6c-437b-8b21-6f0efa2a26da\" type=\"checkbox\" ><label class=\"sk-toggleable__label\" for=\"c3bc51c6-6b6c-437b-8b21-6f0efa2a26da\">Pipeline</label><div class=\"sk-toggleable__content\"><pre>Pipeline(steps=[('preprocessing',\n",
       "                 ColumnTransformer(remainder='passthrough',\n",
       "                                   transformers=[('onehotencoder',\n",
       "                                                  OneHotEncoder(),\n",
       "                                                  ['protocol_type', 'flag',\n",
       "                                                   'service']),\n",
       "                                                 ('standardscaler',\n",
       "                                                  StandardScaler(),\n",
       "                                                  ['duration', 'src_bytes',\n",
       "                                                   'dst_bytes', 'land',\n",
       "                                                   'wrong_fragment', 'urgent',\n",
       "                                                   'count', 'srv_count',\n",
       "                                                   'serror_rate',\n",
       "                                                   'srv_serror_rate',\n",
       "                                                   'rerror_rate',\n",
       "                                                   'srv_rerror_rate',\n",
       "                                                   'sam...\n",
       "                                                   'diff_srv_rate',\n",
       "                                                   'srv_diff_host_rate',\n",
       "                                                   'dst_host_count',\n",
       "                                                   'dst_host_srv_count',\n",
       "                                                   'dst_host_same_srv_rate',\n",
       "                                                   'dst_host_diff_srv_rate',\n",
       "                                                   'dst_host_same_src_port_rate',\n",
       "                                                   'dst_host_srv_diff_host_rate',\n",
       "                                                   'dst_host_serror_rate',\n",
       "                                                   'dst_host_srv_serror_rate',\n",
       "                                                   'dst_host_rerror_rate',\n",
       "                                                   'dst_host_srv_rerror_rate'])])),\n",
       "                ('classifier',\n",
       "                 <keras.engine.sequential.Sequential object at 0x7f359834e2e0>)])</pre></div></div></div><div class=\"sk-serial\"><div class=\"sk-item sk-dashed-wrapped\"><div class=\"sk-label-container\"><div class=\"sk-label sk-toggleable\"><input class=\"sk-toggleable__control sk-hidden--visually\" id=\"432038f2-b916-4b52-a021-731bb6a749a1\" type=\"checkbox\" ><label class=\"sk-toggleable__label\" for=\"432038f2-b916-4b52-a021-731bb6a749a1\">preprocessing: ColumnTransformer</label><div class=\"sk-toggleable__content\"><pre>ColumnTransformer(remainder='passthrough',\n",
       "                  transformers=[('onehotencoder', OneHotEncoder(),\n",
       "                                 ['protocol_type', 'flag', 'service']),\n",
       "                                ('standardscaler', StandardScaler(),\n",
       "                                 ['duration', 'src_bytes', 'dst_bytes', 'land',\n",
       "                                  'wrong_fragment', 'urgent', 'count',\n",
       "                                  'srv_count', 'serror_rate', 'srv_serror_rate',\n",
       "                                  'rerror_rate', 'srv_rerror_rate',\n",
       "                                  'same_srv_rate', 'diff_srv_rate',\n",
       "                                  'srv_diff_host_rate', 'dst_host_count',\n",
       "                                  'dst_host_srv_count',\n",
       "                                  'dst_host_same_srv_rate',\n",
       "                                  'dst_host_diff_srv_rate',\n",
       "                                  'dst_host_same_src_port_rate',\n",
       "                                  'dst_host_srv_diff_host_rate',\n",
       "                                  'dst_host_serror_rate',\n",
       "                                  'dst_host_srv_serror_rate',\n",
       "                                  'dst_host_rerror_rate',\n",
       "                                  'dst_host_srv_rerror_rate'])])</pre></div></div></div><div class=\"sk-parallel\"><div class=\"sk-parallel-item\"><div class=\"sk-item\"><div class=\"sk-label-container\"><div class=\"sk-label sk-toggleable\"><input class=\"sk-toggleable__control sk-hidden--visually\" id=\"8996062d-9259-440c-b4e7-10ee3b95c2f3\" type=\"checkbox\" ><label class=\"sk-toggleable__label\" for=\"8996062d-9259-440c-b4e7-10ee3b95c2f3\">onehotencoder</label><div class=\"sk-toggleable__content\"><pre>['protocol_type', 'flag', 'service']</pre></div></div></div><div class=\"sk-serial\"><div class=\"sk-item\"><div class=\"sk-estimator sk-toggleable\"><input class=\"sk-toggleable__control sk-hidden--visually\" id=\"be92b752-1973-4222-82d9-462a3a75ecb3\" type=\"checkbox\" ><label class=\"sk-toggleable__label\" for=\"be92b752-1973-4222-82d9-462a3a75ecb3\">OneHotEncoder</label><div class=\"sk-toggleable__content\"><pre>OneHotEncoder()</pre></div></div></div></div></div></div><div class=\"sk-parallel-item\"><div class=\"sk-item\"><div class=\"sk-label-container\"><div class=\"sk-label sk-toggleable\"><input class=\"sk-toggleable__control sk-hidden--visually\" id=\"62753a5c-e01a-4e2e-8885-ad0e5e342854\" type=\"checkbox\" ><label class=\"sk-toggleable__label\" for=\"62753a5c-e01a-4e2e-8885-ad0e5e342854\">standardscaler</label><div class=\"sk-toggleable__content\"><pre>['duration', 'src_bytes', 'dst_bytes', 'land', 'wrong_fragment', 'urgent', 'count', 'srv_count', 'serror_rate', 'srv_serror_rate', 'rerror_rate', 'srv_rerror_rate', 'same_srv_rate', 'diff_srv_rate', 'srv_diff_host_rate', 'dst_host_count', 'dst_host_srv_count', 'dst_host_same_srv_rate', 'dst_host_diff_srv_rate', 'dst_host_same_src_port_rate', 'dst_host_srv_diff_host_rate', 'dst_host_serror_rate', 'dst_host_srv_serror_rate', 'dst_host_rerror_rate', 'dst_host_srv_rerror_rate']</pre></div></div></div><div class=\"sk-serial\"><div class=\"sk-item\"><div class=\"sk-estimator sk-toggleable\"><input class=\"sk-toggleable__control sk-hidden--visually\" id=\"a4ffe22d-c582-4204-866f-16fdae3aba95\" type=\"checkbox\" ><label class=\"sk-toggleable__label\" for=\"a4ffe22d-c582-4204-866f-16fdae3aba95\">StandardScaler</label><div class=\"sk-toggleable__content\"><pre>StandardScaler()</pre></div></div></div></div></div></div></div></div><div class=\"sk-item\"><div class=\"sk-estimator sk-toggleable\"><input class=\"sk-toggleable__control sk-hidden--visually\" id=\"5ad3eed3-03a7-499f-aa88-8e652976831e\" type=\"checkbox\" ><label class=\"sk-toggleable__label\" for=\"5ad3eed3-03a7-499f-aa88-8e652976831e\">Sequential</label><div class=\"sk-toggleable__content\"><pre><keras.engine.sequential.Sequential object at 0x7f359834e2e0></pre></div></div></div></div></div></div></div>"
      ],
      "text/plain": [
       "Pipeline(steps=[('preprocessing',\n",
       "                 ColumnTransformer(remainder='passthrough',\n",
       "                                   transformers=[('onehotencoder',\n",
       "                                                  OneHotEncoder(),\n",
       "                                                  ['protocol_type', 'flag',\n",
       "                                                   'service']),\n",
       "                                                 ('standardscaler',\n",
       "                                                  StandardScaler(),\n",
       "                                                  ['duration', 'src_bytes',\n",
       "                                                   'dst_bytes', 'land',\n",
       "                                                   'wrong_fragment', 'urgent',\n",
       "                                                   'count', 'srv_count',\n",
       "                                                   'serror_rate',\n",
       "                                                   'srv_serror_rate',\n",
       "                                                   'rerror_rate',\n",
       "                                                   'srv_rerror_rate',\n",
       "                                                   'sam...\n",
       "                                                   'diff_srv_rate',\n",
       "                                                   'srv_diff_host_rate',\n",
       "                                                   'dst_host_count',\n",
       "                                                   'dst_host_srv_count',\n",
       "                                                   'dst_host_same_srv_rate',\n",
       "                                                   'dst_host_diff_srv_rate',\n",
       "                                                   'dst_host_same_src_port_rate',\n",
       "                                                   'dst_host_srv_diff_host_rate',\n",
       "                                                   'dst_host_serror_rate',\n",
       "                                                   'dst_host_srv_serror_rate',\n",
       "                                                   'dst_host_rerror_rate',\n",
       "                                                   'dst_host_srv_rerror_rate'])])),\n",
       "                ('classifier',\n",
       "                 <keras.engine.sequential.Sequential object at 0x7f359834e2e0>)])"
      ]
     },
     "execution_count": 6,
     "metadata": {},
     "output_type": "execute_result"
    }
   ],
   "source": [
    "from sklearn import set_config\n",
    "set_config(display='diagram')\n",
    "pipe"
   ]
  },
  {
   "cell_type": "code",
   "execution_count": 7,
   "metadata": {},
   "outputs": [],
   "source": [
    "col_list = ['duration','protocol_type','service','flag','src_bytes','dst_bytes','land','wrong_fragment','urgent',\n",
    "            'count','srv_count','serror_rate','srv_serror_rate','rerror_rate','srv_rerror_rate','same_srv_rate',\n",
    "            'diff_srv_rate','srv_diff_host_rate','dst_host_count','dst_host_srv_count','dst_host_same_srv_rate',\n",
    "            'dst_host_diff_srv_rate','dst_host_same_src_port_rate','dst_host_srv_diff_host_rate','dst_host_serror_rate',\n",
    "            'dst_host_srv_serror_rate','dst_host_rerror_rate','dst_host_srv_rerror_rate']"
   ]
  },
  {
   "cell_type": "markdown",
   "metadata": {},
   "source": [
    "### Realtime IDS"
   ]
  },
  {
   "cell_type": "code",
   "execution_count": 8,
   "metadata": {},
   "outputs": [
    {
     "data": {
      "text/html": [
       "<div>\n",
       "<style scoped>\n",
       "    .dataframe tbody tr th:only-of-type {\n",
       "        vertical-align: middle;\n",
       "    }\n",
       "\n",
       "    .dataframe tbody tr th {\n",
       "        vertical-align: top;\n",
       "    }\n",
       "\n",
       "    .dataframe thead th {\n",
       "        text-align: right;\n",
       "    }\n",
       "</style>\n",
       "<table border=\"1\" class=\"dataframe\">\n",
       "  <thead>\n",
       "    <tr style=\"text-align: right;\">\n",
       "      <th></th>\n",
       "      <th>duration</th>\n",
       "      <th>protocol_type</th>\n",
       "      <th>service</th>\n",
       "      <th>flag</th>\n",
       "      <th>src_bytes</th>\n",
       "      <th>dst_bytes</th>\n",
       "      <th>land</th>\n",
       "      <th>wrong_fragment</th>\n",
       "      <th>urgent</th>\n",
       "      <th>count</th>\n",
       "      <th>...</th>\n",
       "      <th>dst_host_count</th>\n",
       "      <th>dst_host_srv_count</th>\n",
       "      <th>dst_host_same_srv_rate</th>\n",
       "      <th>dst_host_diff_srv_rate</th>\n",
       "      <th>dst_host_same_src_port_rate</th>\n",
       "      <th>dst_host_srv_diff_host_rate</th>\n",
       "      <th>dst_host_serror_rate</th>\n",
       "      <th>dst_host_srv_serror_rate</th>\n",
       "      <th>dst_host_rerror_rate</th>\n",
       "      <th>dst_host_srv_rerror_rate</th>\n",
       "    </tr>\n",
       "  </thead>\n",
       "  <tbody>\n",
       "    <tr>\n",
       "      <th>0</th>\n",
       "      <td>3</td>\n",
       "      <td>udp</td>\n",
       "      <td>other</td>\n",
       "      <td>SF</td>\n",
       "      <td>864</td>\n",
       "      <td>0</td>\n",
       "      <td>0</td>\n",
       "      <td>0</td>\n",
       "      <td>0</td>\n",
       "      <td>3</td>\n",
       "      <td>...</td>\n",
       "      <td>11</td>\n",
       "      <td>83</td>\n",
       "      <td>1.0</td>\n",
       "      <td>0.0</td>\n",
       "      <td>0.0</td>\n",
       "      <td>0.87</td>\n",
       "      <td>0.0</td>\n",
       "      <td>0.0</td>\n",
       "      <td>0.0</td>\n",
       "      <td>0.0</td>\n",
       "    </tr>\n",
       "  </tbody>\n",
       "</table>\n",
       "<p>1 rows × 28 columns</p>\n",
       "</div>"
      ],
      "text/plain": [
       "   duration protocol_type service flag  src_bytes  dst_bytes  land  \\\n",
       "0         3           udp   other   SF        864          0     0   \n",
       "\n",
       "   wrong_fragment  urgent  count  ...  dst_host_count  dst_host_srv_count  \\\n",
       "0               0       0      3  ...              11                  83   \n",
       "\n",
       "   dst_host_same_srv_rate  dst_host_diff_srv_rate  \\\n",
       "0                     1.0                     0.0   \n",
       "\n",
       "   dst_host_same_src_port_rate  dst_host_srv_diff_host_rate  \\\n",
       "0                          0.0                         0.87   \n",
       "\n",
       "   dst_host_serror_rate  dst_host_srv_serror_rate  dst_host_rerror_rate  \\\n",
       "0                   0.0                       0.0                   0.0   \n",
       "\n",
       "   dst_host_srv_rerror_rate  \n",
       "0                       0.0  \n",
       "\n",
       "[1 rows x 28 columns]"
      ]
     },
     "execution_count": 8,
     "metadata": {},
     "output_type": "execute_result"
    }
   ],
   "source": [
    "ccc = ['duration','protocol_type','service','flag','src_bytes','dst_bytes','land','wrong_fragment','urgent','count','srv_count',\n",
    "       'serror_rate','srv_serror_rate','rerror_rate','srv_rerror_rate','same_srv_rate','diff_srv_rate','srv_diff_host_rate',\n",
    "       'dst_host_count','dst_host_srv_count','dst_host_same_srv_rate','dst_host_diff_srv_rate','dst_host_same_src_port_rate',\n",
    "       'dst_host_srv_diff_host_rate','dst_host_serror_rate','dst_host_srv_serror_rate','dst_host_rerror_rate',\n",
    "       'dst_host_srv_rerror_rate']\n",
    "\n",
    "xx2 = \"3,udp,other,SF,864,0,0,0,0,3,6,0.00,0.00,0.00,0.00,1.00,0.00,0.50,11,83,1.00,0.00,0.00,0.87,0.00,0.00,0.00,0.00\"\n",
    "str_data_n = StringIO(xx2)\n",
    "\n",
    "df_tt = pd.read_csv(str_data_n,sep=\",\",names=ccc)\n",
    "df_tt = df_tt[col_list]\n",
    "df_tt"
   ]
  },
  {
   "cell_type": "code",
   "execution_count": 9,
   "metadata": {},
   "outputs": [
    {
     "data": {
      "text/plain": [
       "28"
      ]
     },
     "execution_count": 9,
     "metadata": {},
     "output_type": "execute_result"
    }
   ],
   "source": [
    "len(col_list)"
   ]
  },
  {
   "cell_type": "code",
   "execution_count": 10,
   "metadata": {},
   "outputs": [
    {
     "name": "stdout",
     "output_type": "stream",
     "text": [
      "Predicted value :  [[5.9953194e-08]]\n",
      "Status :  Normal\n"
     ]
    }
   ],
   "source": [
    "test_predictions = pipe.predict(df_tt)\n",
    "print('Predicted value : ',test_predictions)\n",
    "\n",
    "if test_predictions>0.5:\n",
    "    output = 'Anomaly'\n",
    "else:\n",
    "    output = 'Normal'\n",
    "        \n",
    "print('Status : ',output)"
   ]
  }
 ],
 "metadata": {
  "kernelspec": {
   "display_name": "Python 3",
   "language": "python",
   "name": "python3"
  },
  "language_info": {
   "codemirror_mode": {
    "name": "ipython",
    "version": 3
   },
   "file_extension": ".py",
   "mimetype": "text/x-python",
   "name": "python",
   "nbconvert_exporter": "python",
   "pygments_lexer": "ipython3",
   "version": "3.7.3"
  }
 },
 "nbformat": 4,
 "nbformat_minor": 4
}
