{
 "cells": [
  {
   "cell_type": "code",
   "execution_count": 1,
   "metadata": {},
   "outputs": [
    {
     "name": "stdout",
     "output_type": "stream",
     "text": [
      "C:\\Users\\Sharuka Thirimanne\\Desktop\\FYP-ML-IDS\n"
     ]
    }
   ],
   "source": [
    "cd C:\\\\Users\\\\Sharuka Thirimanne\\\\Desktop\\\\FYP-ML-IDS"
   ]
  },
  {
   "cell_type": "code",
   "execution_count": 2,
   "metadata": {},
   "outputs": [],
   "source": [
    "import numpy as np\n",
    "import pandas as pd\n",
    "import seaborn as sns\n",
    "from sklearn.neighbors import KNeighborsClassifier\n",
    "import matplotlib.pyplot as plt\n",
    "from sklearn.decomposition import PCA\n",
    "from sklearn.pipeline import Pipeline\n",
    "from matplotlib.colors import ListedColormap\n",
    "from sklearn import neighbors\n",
    "from sklearn.model_selection import train_test_split\n",
    "from sklearn.preprocessing import StandardScaler\n",
    "from sklearn.preprocessing import MinMaxScaler\n",
    "from sklearn.preprocessing import OneHotEncoder\n",
    "from sklearn.preprocessing import LabelEncoder\n",
    "from sklearn.compose import make_column_transformer\n",
    "from sklearn.pipeline import make_pipeline\n",
    "from sklearn.model_selection import cross_val_score\n",
    "from sklearn.metrics import confusion_matrix\n",
    "from sklearn.metrics import classification_report\n",
    "from sklearn.metrics import accuracy_score\n",
    "from sklearn.model_selection import GridSearchCV\n",
    "from sklearn.pipeline import make_pipeline"
   ]
  },
  {
   "cell_type": "code",
   "execution_count": 3,
   "metadata": {},
   "outputs": [],
   "source": [
    "def load_train_dataset():\n",
    "    df_train = pd.read_csv('Datasets/UNSW_train-set.csv')\n",
    "    df_train.drop(['index'], axis = 'columns' , inplace = True)\n",
    "    df_train.drop(['attack_cat'], axis = 'columns' , inplace = True)\n",
    "    \n",
    "    \n",
    "    for col in ['proto','service','state']:\n",
    "        df_train[col] = df_train[col].astype('category')\n",
    "        \n",
    "    others1 = df_train['proto'].value_counts().index[8:]\n",
    "    label = 'Other'\n",
    "    # apply new category label\n",
    "    df_train['proto'] = df_train['proto'].cat.add_categories([label])\n",
    "    df_train['proto'] = df_train['proto'].replace(others1, label)\n",
    "    \n",
    "    others3 = df_train['service'].value_counts().index[8:]\n",
    "    # apply new category label\n",
    "    df_train['service'] = df_train['service'].cat.add_categories([label])\n",
    "    df_train['service'] = df_train['service'].replace(others3, label)\n",
    "    \n",
    "    others5 = df_train['state'].value_counts().index[4:]\n",
    "    # apply new category label\n",
    "    df_train['state'] = df_train['state'].cat.add_categories([label])\n",
    "    df_train['state'] = df_train['state'].replace(others5, label)\n",
    "    \n",
    "    df_train.drop_duplicates(keep='first',inplace=True)\n",
    "    \n",
    "    limit1 = df_train.shape[1]-1\n",
    "    \n",
    "    X_train = df_train.iloc[:,0:limit1]\n",
    "    Y_train = df_train.iloc[:,limit1]\n",
    "    \n",
    "    return  X_train, Y_train,  df_train\n",
    "\n",
    "X_train, Y_train,  df_train = load_train_dataset()"
   ]
  },
  {
   "cell_type": "code",
   "execution_count": 4,
   "metadata": {},
   "outputs": [],
   "source": [
    "def load_test_dataset():\n",
    "    df_test = pd.read_csv('Datasets/UNSW_test-set.csv')\n",
    "    df_test.drop(['index'], axis = 'columns' , inplace = True)\n",
    "    df_test.drop(['attack_cat'], axis = 'columns' , inplace = True)\n",
    "    \n",
    "    #Below categories in the state feature are available in the test set but not in the training set\n",
    "    df_test.drop(df_test[df_test['state'] == 'CLO'].index, inplace = True)\n",
    "    df_test.drop(df_test[df_test['state'] == 'ACC'].index, inplace = True)\n",
    "    \n",
    "    \n",
    "    \n",
    "    for col in ['proto','service','state']:\n",
    "        df_test[col] = df_test[col].astype('category')\n",
    "        \n",
    "    label = 'Other'\n",
    "    \n",
    "    others2 = df_test['proto'].value_counts().index[8:]\n",
    "    # apply new category label\n",
    "    df_test['proto'] = df_test['proto'].cat.add_categories([label])\n",
    "    df_test['proto'] = df_test['proto'].replace(others2, label)\n",
    "    \n",
    "    others4 = df_test['service'].value_counts().index[8:]\n",
    "    # apply new category label\n",
    "    df_test['service'] = df_test['service'].cat.add_categories([label])\n",
    "    df_test['service'] = df_test['service'].replace(others4, label)\n",
    "    \n",
    "    others6 = df_test['state'].value_counts().index[4:]\n",
    "    # apply new category label\n",
    "    df_test['state'] = df_test['state'].cat.add_categories([label])\n",
    "    df_test['state'] = df_test['state'].replace(others6, label)\n",
    "    \n",
    "    df_test.drop_duplicates(keep='first',inplace=True)\n",
    "    \n",
    "    limit2 = df_test.shape[1]-1\n",
    "    \n",
    "    X_test = df_test.iloc[:,0:limit2]\n",
    "    Y_test = df_test.iloc[:,limit2]\n",
    "    \n",
    "    return X_test, Y_test,df_test\n",
    "\n",
    "X_test, Y_test ,df_test = load_test_dataset()"
   ]
  },
  {
   "cell_type": "markdown",
   "metadata": {},
   "source": [
    "Performed one hot encoding on training set and test set separetely to avoid data leakage. "
   ]
  },
  {
   "cell_type": "code",
   "execution_count": 5,
   "metadata": {},
   "outputs": [],
   "source": [
    "categorical_cols = ['proto','service','state']"
   ]
  },
  {
   "cell_type": "code",
   "execution_count": 6,
   "metadata": {},
   "outputs": [],
   "source": [
    "# Training dataset one hot encoding\n",
    "ohe1 = OneHotEncoder(handle_unknown = 'ignore')\n",
    "ohe1.fit(X_train[categorical_cols])\n",
    "array_hot_encoded1 = ohe1.transform(X_train[categorical_cols]).toarray()\n",
    "data_hot_encoded1 = pd.DataFrame(array_hot_encoded1, index=X_train.index)\n",
    "X_train = X_train.drop(columns=categorical_cols)\n",
    "X_train = pd.concat([data_hot_encoded1,X_train], axis=1)"
   ]
  },
  {
   "cell_type": "code",
   "execution_count": 7,
   "metadata": {},
   "outputs": [
    {
     "name": "stdout",
     "output_type": "stream",
     "text": [
      "(122378, 62)\n",
      "(122378,)\n"
     ]
    }
   ],
   "source": [
    "print(X_train.shape)\n",
    "print(Y_train.shape)"
   ]
  },
  {
   "cell_type": "code",
   "execution_count": 12,
   "metadata": {},
   "outputs": [],
   "source": [
    "X_train_save = pd.DataFrame(X_train)"
   ]
  },
  {
   "cell_type": "code",
   "execution_count": 8,
   "metadata": {},
   "outputs": [],
   "source": [
    "# Test dataset one hot encoding\n",
    "#ohe1 = OneHotEncoder(handle_unknown = 'ignore')\n",
    "array_hot_encoded2 = ohe1.transform(X_test[categorical_cols]).toarray()\n",
    "data_hot_encoded2 = pd.DataFrame(array_hot_encoded2, index=X_test.index)\n",
    "X_test = X_test.drop(columns=categorical_cols)\n",
    "X_test = pd.concat([data_hot_encoded2,X_test], axis=1)"
   ]
  },
  {
   "cell_type": "code",
   "execution_count": null,
   "metadata": {},
   "outputs": [],
   "source": [
    "'''\n",
    "#Get missing columns in the training test\n",
    "missing_cols = set(X_train.columns) - set(X_test.columns)\n",
    "#Add a missing column in test set with default value equal to 0\n",
    "for c in missing_cols:\n",
    "    X_test[c] = 0\n",
    "# Ensure the order of column in the test set is in the same order than in train set\n",
    "X_test = X_test[X_train.columns]\n"
   ]
  },
  {
   "cell_type": "code",
   "execution_count": 34,
   "metadata": {},
   "outputs": [],
   "source": [
    "scaler = StandardScaler()\n",
    "X_train = scaler.fit_transform(X_train)\n",
    "X_test = scaler.transform(X_test)"
   ]
  },
  {
   "cell_type": "code",
   "execution_count": 19,
   "metadata": {},
   "outputs": [],
   "source": [
    "knn_classifier = KNeighborsClassifier(n_neighbors = 23, p = 2, weights ='distance').fit(X_train,Y_train)"
   ]
  },
  {
   "cell_type": "code",
   "execution_count": 20,
   "metadata": {},
   "outputs": [
    {
     "name": "stdout",
     "output_type": "stream",
     "text": [
      "Cross-Validation set accuracy: 93.516502 %\n",
      "Train set accuracy           : 99.802252 %\n",
      "Test set accuracy            : 61.425303 %\n"
     ]
    }
   ],
   "source": [
    "test_predictions = knn_classifier.predict(X_test)\n",
    "\n",
    "print(\"Cross-Validation set accuracy: {:.6f} %\".format((cross_val_score(knn_classifier, X_train, Y_train, \n",
    "                                                                        cv=5,scoring='recall').mean())*100))\n",
    "print(\"Train set accuracy           : {:.6f} %\".format(knn_classifier.score(X_train,Y_train)*100))\n",
    "print(\"Test set accuracy            : {:.6f} %\".format(accuracy_score(Y_test, test_predictions)*100))"
   ]
  },
  {
   "cell_type": "code",
   "execution_count": 23,
   "metadata": {},
   "outputs": [],
   "source": [
    "def plot_cm(labels, predictions, p=0.5):\n",
    "    cm = confusion_matrix(labels, predictions > p)\n",
    "    plt.figure(figsize=(5,5))\n",
    "    sns.heatmap(cm, annot=True, fmt=\"d\")\n",
    "    plt.title('Confusion matrix @{:.2f}'.format(p))\n",
    "    plt.ylabel('Actual label')\n",
    "    plt.xlabel('Predicted label')\n",
    "\n",
    "    plt.text(0.3,2.6,'True Negatives  : '+ str(cm[0][0]),size=14)\n",
    "    plt.text(0.3,2.8,'False Positives   : '+ str(cm[0][1]),size=14)\n",
    "    plt.text(0.3,3,'False Negatives : '+ str(cm[1][0]),size=14)\n",
    "    plt.text(0.3,3.2,'True Positives    : '+ str(cm[1][1]),size=14)"
   ]
  },
  {
   "cell_type": "code",
   "execution_count": 24,
   "metadata": {
    "scrolled": false
   },
   "outputs": [
    {
     "data": {
      "image/png": "[encoded data removed]",
      "text/plain": [
       "<Figure size 360x360 with 2 Axes>"
      ]
     },
     "metadata": {
      "needs_background": "light"
     },
     "output_type": "display_data"
    }
   ],
   "source": [
    "plot_cm(Y_test, test_predictions)"
   ]
  },
  {
   "cell_type": "code",
   "execution_count": 25,
   "metadata": {},
   "outputs": [
    {
     "name": "stdout",
     "output_type": "stream",
     "text": [
      "              precision    recall  f1-score   support\n",
      "\n",
      "           0       0.94      0.41      0.57     19795\n",
      "           1       0.49      0.95      0.65     11679\n",
      "\n",
      "    accuracy                           0.61     31474\n",
      "   macro avg       0.71      0.68      0.61     31474\n",
      "weighted avg       0.77      0.61      0.60     31474\n",
      "\n"
     ]
    }
   ],
   "source": [
    "print(classification_report(Y_test, test_predictions))"
   ]
  },
  {
   "cell_type": "code",
   "execution_count": 15,
   "metadata": {
    "scrolled": false
   },
   "outputs": [
    {
     "name": "stderr",
     "output_type": "stream",
     "text": [
      "c:\\users\\sharuka thirimanne\\appdata\\local\\programs\\python\\python37\\lib\\site-packages\\ipykernel_launcher.py:16: MatplotlibDeprecationWarning: Adding an axes using the same arguments as a previous axes currently reuses the earlier instance.  In a future version, a new instance will always be created and returned.  Meanwhile, this warning can be suppressed, and the future behavior ensured, by passing a unique label to each axes instance.\n",
      "  app.launch_new_instance()\n"
     ]
    },
    {
     "data": {
      "image/png": "[encoded data removed]",
      "text/plain": [
       "<Figure size 720x360 with 1 Axes>"
      ]
     },
     "metadata": {
      "needs_background": "light"
     },
     "output_type": "display_data"
    }
   ],
   "source": [
    "from sklearn.metrics import precision_recall_curve\n",
    "\n",
    "#y_scores_lr = knn_classifier.fit(X_train, Y_train).decision_function(X_test)\n",
    "precision, recall, thresholds = precision_recall_curve(Y_test, test_predictions)\n",
    "closest_zero = np.argmin(np.abs(thresholds))\n",
    "closest_zero_p = precision[closest_zero]\n",
    "closest_zero_r = recall[closest_zero]\n",
    "\n",
    "plt.figure(figsize=(10,5))\n",
    "plt.xlim([0.0, 1.01])\n",
    "plt.ylim([0.0, 1.01])\n",
    "plt.plot(precision, recall, label='Precision-Recall Curve')\n",
    "plt.plot(closest_zero_p, closest_zero_r, 'o', markersize = 12, fillstyle = 'none', c='r', mew=3)\n",
    "plt.xlabel('Precision', fontsize=16)\n",
    "plt.ylabel('Recall', fontsize=16)\n",
    "plt.axes().set_aspect('equal')\n",
    "plt.show()"
   ]
  },
  {
   "cell_type": "code",
   "execution_count": 16,
   "metadata": {},
   "outputs": [],
   "source": [
    "from sklearn.metrics import roc_curve, auc"
   ]
  },
  {
   "cell_type": "code",
   "execution_count": 17,
   "metadata": {
    "scrolled": false
   },
   "outputs": [
    {
     "name": "stderr",
     "output_type": "stream",
     "text": [
      "c:\\users\\sharuka thirimanne\\appdata\\local\\programs\\python\\python37\\lib\\site-packages\\ipykernel_launcher.py:13: MatplotlibDeprecationWarning: Adding an axes using the same arguments as a previous axes currently reuses the earlier instance.  In a future version, a new instance will always be created and returned.  Meanwhile, this warning can be suppressed, and the future behavior ensured, by passing a unique label to each axes instance.\n",
      "  del sys.path[0]\n"
     ]
    },
    {
     "data": {
      "image/png": "[encoded data removed]",
      "text/plain": [
       "<Figure size 432x288 with 1 Axes>"
      ]
     },
     "metadata": {
      "needs_background": "light"
     },
     "output_type": "display_data"
    }
   ],
   "source": [
    "fpr_lr, tpr_lr, _ = roc_curve(Y_test, test_predictions)\n",
    "roc_auc_lr = auc(fpr_lr, tpr_lr)\n",
    "\n",
    "plt.figure()\n",
    "plt.xlim([-0.01, 1.00])\n",
    "plt.ylim([-0.01, 1.01])\n",
    "plt.plot(fpr_lr, tpr_lr, lw=3, label='KNN ROC curve (area = {:0.2f})'.format(roc_auc_lr))\n",
    "plt.xlabel('False Positive Rate', fontsize=16)\n",
    "plt.ylabel('True Positive Rate', fontsize=16)\n",
    "plt.title('ROC curve', fontsize=16)\n",
    "plt.legend(loc='lower right', fontsize=13)\n",
    "plt.plot([0, 1], [0, 1], color='navy', lw=3, linestyle='--')\n",
    "plt.axes().set_aspect('equal')\n",
    "plt.show()"
   ]
  },
  {
   "cell_type": "code",
   "execution_count": 18,
   "metadata": {
    "scrolled": true
   },
   "outputs": [
    {
     "name": "stdout",
     "output_type": "stream",
     "text": [
      "Fitting 2 folds for each of 24 candidates, totalling 48 fits\n",
      "[CV] n_neighbors=1, p=1 ..............................................\n"
     ]
    },
    {
     "name": "stderr",
     "output_type": "stream",
     "text": [
      "[Parallel(n_jobs=1)]: Using backend SequentialBackend with 1 concurrent workers.\n"
     ]
    },
    {
     "name": "stdout",
     "output_type": "stream",
     "text": [
      "[CV] ............................... n_neighbors=1, p=1, total= 2.7min\n",
      "[CV] n_neighbors=1, p=1 ..............................................\n"
     ]
    },
    {
     "name": "stderr",
     "output_type": "stream",
     "text": [
      "[Parallel(n_jobs=1)]: Done   1 out of   1 | elapsed:  2.7min remaining:    0.0s\n"
     ]
    },
    {
     "name": "stdout",
     "output_type": "stream",
     "text": [
      "[CV] ............................... n_neighbors=1, p=1, total= 4.6min\n",
      "[CV] n_neighbors=1, p=2 ..............................................\n",
      "[CV] ............................... n_neighbors=1, p=2, total= 2.5min\n",
      "[CV] n_neighbors=1, p=2 ..............................................\n",
      "[CV] ............................... n_neighbors=1, p=2, total= 3.1min\n",
      "[CV] n_neighbors=3, p=1 ..............................................\n",
      "[CV] ............................... n_neighbors=3, p=1, total= 2.5min\n",
      "[CV] n_neighbors=3, p=1 ..............................................\n",
      "[CV] ............................... n_neighbors=3, p=1, total= 3.2min\n",
      "[CV] n_neighbors=3, p=2 ..............................................\n",
      "[CV] ............................... n_neighbors=3, p=2, total= 3.3min\n",
      "[CV] n_neighbors=3, p=2 ..............................................\n",
      "[CV] ............................... n_neighbors=3, p=2, total= 3.3min\n",
      "[CV] n_neighbors=5, p=1 ..............................................\n",
      "[CV] ............................... n_neighbors=5, p=1, total= 2.5min\n",
      "[CV] n_neighbors=5, p=1 ..............................................\n",
      "[CV] ............................... n_neighbors=5, p=1, total= 3.3min\n",
      "[CV] n_neighbors=5, p=2 ..............................................\n",
      "[CV] ............................... n_neighbors=5, p=2, total= 2.8min\n",
      "[CV] n_neighbors=5, p=2 ..............................................\n",
      "[CV] ............................... n_neighbors=5, p=2, total= 3.6min\n",
      "[CV] n_neighbors=7, p=1 ..............................................\n",
      "[CV] ............................... n_neighbors=7, p=1, total= 2.7min\n",
      "[CV] n_neighbors=7, p=1 ..............................................\n",
      "[CV] ............................... n_neighbors=7, p=1, total= 3.5min\n",
      "[CV] n_neighbors=7, p=2 ..............................................\n",
      "[CV] ............................... n_neighbors=7, p=2, total= 3.1min\n",
      "[CV] n_neighbors=7, p=2 ..............................................\n",
      "[CV] ............................... n_neighbors=7, p=2, total= 3.8min\n",
      "[CV] n_neighbors=9, p=1 ..............................................\n",
      "[CV] ............................... n_neighbors=9, p=1, total= 2.7min\n",
      "[CV] n_neighbors=9, p=1 ..............................................\n",
      "[CV] ............................... n_neighbors=9, p=1, total= 3.4min\n",
      "[CV] n_neighbors=9, p=2 ..............................................\n",
      "[CV] ............................... n_neighbors=9, p=2, total= 2.6min\n",
      "[CV] n_neighbors=9, p=2 ..............................................\n",
      "[CV] ............................... n_neighbors=9, p=2, total= 3.4min\n",
      "[CV] n_neighbors=11, p=1 .............................................\n",
      "[CV] .............................. n_neighbors=11, p=1, total= 3.4min\n",
      "[CV] n_neighbors=11, p=1 .............................................\n",
      "[CV] .............................. n_neighbors=11, p=1, total= 4.0min\n",
      "[CV] n_neighbors=11, p=2 .............................................\n",
      "[CV] .............................. n_neighbors=11, p=2, total= 2.5min\n",
      "[CV] n_neighbors=11, p=2 .............................................\n",
      "[CV] .............................. n_neighbors=11, p=2, total= 3.2min\n",
      "[CV] n_neighbors=13, p=1 .............................................\n",
      "[CV] .............................. n_neighbors=13, p=1, total= 2.4min\n",
      "[CV] n_neighbors=13, p=1 .............................................\n",
      "[CV] .............................. n_neighbors=13, p=1, total= 3.2min\n",
      "[CV] n_neighbors=13, p=2 .............................................\n",
      "[CV] .............................. n_neighbors=13, p=2, total= 2.5min\n",
      "[CV] n_neighbors=13, p=2 .............................................\n",
      "[CV] .............................. n_neighbors=13, p=2, total= 3.2min\n",
      "[CV] n_neighbors=15, p=1 .............................................\n",
      "[CV] .............................. n_neighbors=15, p=1, total= 2.4min\n",
      "[CV] n_neighbors=15, p=1 .............................................\n",
      "[CV] .............................. n_neighbors=15, p=1, total= 3.2min\n",
      "[CV] n_neighbors=15, p=2 .............................................\n",
      "[CV] .............................. n_neighbors=15, p=2, total= 2.5min\n",
      "[CV] n_neighbors=15, p=2 .............................................\n",
      "[CV] .............................. n_neighbors=15, p=2, total= 3.3min\n",
      "[CV] n_neighbors=17, p=1 .............................................\n",
      "[CV] .............................. n_neighbors=17, p=1, total= 2.5min\n",
      "[CV] n_neighbors=17, p=1 .............................................\n",
      "[CV] .............................. n_neighbors=17, p=1, total= 3.2min\n",
      "[CV] n_neighbors=17, p=2 .............................................\n",
      "[CV] .............................. n_neighbors=17, p=2, total= 2.5min\n",
      "[CV] n_neighbors=17, p=2 .............................................\n",
      "[CV] .............................. n_neighbors=17, p=2, total= 3.2min\n",
      "[CV] n_neighbors=19, p=1 .............................................\n",
      "[CV] .............................. n_neighbors=19, p=1, total= 2.4min\n",
      "[CV] n_neighbors=19, p=1 .............................................\n",
      "[CV] .............................. n_neighbors=19, p=1, total= 3.3min\n",
      "[CV] n_neighbors=19, p=2 .............................................\n",
      "[CV] .............................. n_neighbors=19, p=2, total= 2.5min\n",
      "[CV] n_neighbors=19, p=2 .............................................\n",
      "[CV] .............................. n_neighbors=19, p=2, total= 3.3min\n",
      "[CV] n_neighbors=21, p=1 .............................................\n",
      "[CV] .............................. n_neighbors=21, p=1, total= 2.4min\n",
      "[CV] n_neighbors=21, p=1 .............................................\n",
      "[CV] .............................. n_neighbors=21, p=1, total= 3.3min\n",
      "[CV] n_neighbors=21, p=2 .............................................\n",
      "[CV] .............................. n_neighbors=21, p=2, total= 2.5min\n",
      "[CV] n_neighbors=21, p=2 .............................................\n",
      "[CV] .............................. n_neighbors=21, p=2, total= 3.3min\n",
      "[CV] n_neighbors=23, p=1 .............................................\n",
      "[CV] .............................. n_neighbors=23, p=1, total= 2.4min\n",
      "[CV] n_neighbors=23, p=1 .............................................\n",
      "[CV] .............................. n_neighbors=23, p=1, total= 3.2min\n",
      "[CV] n_neighbors=23, p=2 .............................................\n",
      "[CV] .............................. n_neighbors=23, p=2, total= 2.6min\n",
      "[CV] n_neighbors=23, p=2 .............................................\n",
      "[CV] .............................. n_neighbors=23, p=2, total= 3.3min\n"
     ]
    },
    {
     "name": "stderr",
     "output_type": "stream",
     "text": [
      "[Parallel(n_jobs=1)]: Done  48 out of  48 | elapsed: 144.6min finished\n"
     ]
    },
    {
     "name": "stdout",
     "output_type": "stream",
     "text": [
      "{'n_neighbors': 23, 'p': 2}\n"
     ]
    }
   ],
   "source": [
    "n_neighbors = list(range(1,25,2))\n",
    "p=[1,2]\n",
    "\n",
    "param_grid = [\n",
    "    {'n_neighbors' : n_neighbors,\n",
    "     'p' :p\n",
    "    },\n",
    "]\n",
    "\n",
    "optimal_params = GridSearchCV(\n",
    "    estimator = knn_classifier,\n",
    "    param_grid = param_grid,\n",
    "    cv=2,\n",
    "    scoring ='accuracy',\n",
    "    verbose = 2\n",
    ")\n",
    "\n",
    "optimal_params.fit(X_train,Y_train)\n",
    "print(optimal_params.best_params_)"
   ]
  }
 ],
 "metadata": {
  "kernelspec": {
   "display_name": "Python 3",
   "language": "python",
   "name": "python3"
  },
  "language_info": {
   "codemirror_mode": {
    "name": "ipython",
    "version": 3
   },
   "file_extension": ".py",
   "mimetype": "text/x-python",
   "name": "python",
   "nbconvert_exporter": "python",
   "pygments_lexer": "ipython3",
   "version": "3.7.3"
  }
 },
 "nbformat": 4,
 "nbformat_minor": 4
}
