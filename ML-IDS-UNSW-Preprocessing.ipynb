{
 "cells": [
  {
   "cell_type": "markdown",
   "metadata": {},
   "source": [
    "# UNSW Pre-processing"
   ]
  },
  {
   "cell_type": "code",
   "execution_count": 2,
   "metadata": {},
   "outputs": [
    {
     "name": "stdout",
     "output_type": "stream",
     "text": [
      "C:\\Users\\Sharuka Thirimanne\\Desktop\\FYP-ML-IDS\n"
     ]
    }
   ],
   "source": [
    "cd C:\\\\Users\\\\Sharuka Thirimanne\\\\Desktop\\\\FYP-ML-IDS"
   ]
  },
  {
   "cell_type": "code",
   "execution_count": 3,
   "metadata": {},
   "outputs": [],
   "source": [
    "import numpy as np\n",
    "import pandas as pd\n",
    "import seaborn as sns\n",
    "import matplotlib.pyplot as plt\n",
    "from sklearn.decomposition import PCA\n",
    "from sklearn.model_selection import train_test_split\n",
    "from sklearn.preprocessing import StandardScaler\n",
    "from sklearn.preprocessing import MinMaxScaler\n",
    "from sklearn.preprocessing import OneHotEncoder\n",
    "from sklearn.preprocessing import LabelEncoder\n",
    "from sklearn.model_selection import cross_val_score\n",
    "from sklearn.metrics import confusion_matrix\n",
    "from sklearn.metrics import classification_report\n",
    "from sklearn.metrics import accuracy_score\n",
    "from sklearn.model_selection import GridSearchCV"
   ]
  },
  {
   "cell_type": "code",
   "execution_count": 4,
   "metadata": {},
   "outputs": [
    {
     "name": "stdout",
     "output_type": "stream",
     "text": [
      "Index(['dur', 'proto', 'service', 'state', 'spkts', 'dpkts', 'sbytes',\n",
      "       'dbytes', 'rate', 'sttl', 'dttl', 'sload', 'dload', 'sloss', 'dloss',\n",
      "       'sinpkt', 'dinpkt', 'sjit', 'djit', 'swin', 'stcpb', 'dtcpb', 'dwin',\n",
      "       'tcprtt', 'synack', 'ackdat', 'smean', 'dmean', 'trans_depth',\n",
      "       'response_body_len', 'ct_srv_src', 'ct_state_ttl', 'ct_dst_ltm',\n",
      "       'ct_src_dport_ltm', 'ct_dst_sport_ltm', 'ct_dst_src_ltm',\n",
      "       'is_ftp_login', 'ct_ftp_cmd', 'ct_flw_http_mthd', 'ct_src_ltm',\n",
      "       'ct_srv_dst', 'is_sm_ips_ports', 'attack_cat', 'label'],\n",
      "      dtype='object')\n",
      "Number of features before feature selection : 43\n",
      "Original dataset duplicates : 67601\n",
      "Number of features after feature selection : 28\n",
      "Duplicates after feature selection : 76463\n",
      "Duplicates after category reduction : 524\n",
      "Duplicates after duplicate drop : 0\n"
     ]
    }
   ],
   "source": [
    "def train_preprocess():\n",
    "    df_train = pd.read_csv('Datasets/UNSW_NB15_training-set.csv')\n",
    "    df_train.drop(['id'], axis = 'columns' , inplace = True)\n",
    "    num_features = len(df_train.columns) - 1\n",
    "    print(df_train.columns)\n",
    "    print('Number of features before feature selection :',num_features)\n",
    "    print('Original dataset duplicates :',df_train.duplicated().sum())\n",
    "    df_train.drop(['attack_cat','sbytes', 'sjit', 'sloss', 'dinpkt', 'is_ftp_login', 'ct_ftp_cmd', \n",
    "                   'ct_src_ltm', 'response_body_len', 'spkts', 'djit','dtcpb',\n",
    "                   'stcpb','ct_dst_ltm','dbytes'], axis = 'columns' , inplace = True)\n",
    "    num_features = len(df_train.columns) - 1\n",
    "    print('Number of features after feature selection :',num_features)\n",
    "    print('Duplicates after feature selection :',df_train.duplicated().sum())\n",
    "    df_train.drop_duplicates(keep='first',inplace=True)\n",
    "    \n",
    "    for col in ['proto','service','state']:\n",
    "        df_train[col] = df_train[col].astype('category')\n",
    "    \n",
    "    label1 = 'other_proto'\n",
    "    others2 = df_train['proto'].value_counts().index[2:]\n",
    "    # apply new category label\n",
    "    df_train['proto'] = df_train['proto'].cat.add_categories([label1])\n",
    "    df_train['proto'] = df_train['proto'].replace(others2, label1)\n",
    "    \n",
    "    label2 = 'other_state'\n",
    "    others3 = df_train['state'].value_counts().index[3:]\n",
    "    # apply new category label\n",
    "    df_train['state'] = df_train['state'].cat.add_categories([label2])\n",
    "    df_train['state'] = df_train['state'].replace(others3, label2)\n",
    "    \n",
    "    label3 = 'other_service'\n",
    "    others_service = df_train['service'].value_counts().index[6:]\n",
    "    # apply new category label\n",
    "    df_train['service'] = df_train['service'].cat.add_categories([label3])\n",
    "    df_train['service'] = df_train['service'].replace(others_service, label3)\n",
    "    \n",
    "    print('Duplicates after category reduction :',df_train.duplicated().sum())\n",
    "    \n",
    "    df_train.drop_duplicates(subset=['dur', 'proto', 'service', 'state', 'dpkts', 'rate', 'sttl', 'dttl',\n",
    "                           'sload', 'dload', 'dloss', 'sinpkt', 'swin', 'dwin', 'tcprtt', 'synack',\n",
    "                           'ackdat', 'smean', 'dmean', 'trans_depth', 'ct_srv_src', 'ct_state_ttl',\n",
    "                           'ct_src_dport_ltm', 'ct_dst_sport_ltm', 'ct_dst_src_ltm',\n",
    "                           'ct_flw_http_mthd', 'ct_srv_dst', 'is_sm_ips_ports'],inplace=True)\n",
    "    \n",
    "    print('Duplicates after duplicate drop :',df_train.duplicated().sum())\n",
    "    \n",
    "    return df_train\n",
    "df_train = train_preprocess()"
   ]
  },
  {
   "cell_type": "code",
   "execution_count": 6,
   "metadata": {},
   "outputs": [
    {
     "name": "stdout",
     "output_type": "stream",
     "text": [
      "Original dataset duplicates : 26387\n",
      "Duplicates after feature selection : 29844\n",
      "Duplicates after category reduction : 117\n",
      "Duplicates after duplicate drop : 0\n"
     ]
    }
   ],
   "source": [
    "def test_preprocess():\n",
    "    df_test = pd.read_csv('Datasets/UNSW_NB15_testing-set.csv')\n",
    "    df_test.drop(['id'], axis = 'columns' , inplace = True)\n",
    "    print('Original dataset duplicates :',df_test.duplicated().sum())\n",
    "    df_test.drop(['attack_cat','sbytes', 'sjit', 'sloss', 'dinpkt', 'is_ftp_login', 'ct_ftp_cmd', \n",
    "         'ct_src_ltm', 'response_body_len', 'spkts', 'djit','dtcpb',\n",
    "         'stcpb','ct_dst_ltm','dbytes'], axis = 'columns' , inplace = True)\n",
    "    \n",
    "    print('Duplicates after feature selection :',df_test.duplicated().sum())\n",
    "    df_test.drop_duplicates(keep='first',inplace=True)\n",
    "    \n",
    "    for col in ['proto','service','state']:\n",
    "        df_test[col] = df_test[col].astype('category')\n",
    "    \n",
    "    label1 = 'other_proto'\n",
    "    others4 = df_test['proto'].value_counts().index[2:]\n",
    "    # apply new category label\n",
    "    df_test['proto'] = df_test['proto'].cat.add_categories([label1])\n",
    "    df_test['proto'] = df_test['proto'].replace(others4, label1)\n",
    "    \n",
    "    label2 = 'other_state'\n",
    "    others5 = df_test['state'].value_counts().index[3:]\n",
    "    # apply new category label\n",
    "    df_test['state'] = df_test['state'].cat.add_categories([label2])\n",
    "    df_test['state'] = df_test['state'].replace(others5, label2)\n",
    "    \n",
    "    label3 = 'other_service'\n",
    "    others_service1 = df_test['service'].value_counts().index[6:]\n",
    "    # apply new category label\n",
    "    df_test['service'] = df_test['service'].cat.add_categories([label3])\n",
    "    df_test['service'] = df_test['service'].replace(others_service1, label3)\n",
    "    \n",
    "    print('Duplicates after category reduction :',df_test.duplicated().sum())\n",
    "    \n",
    "    df_test.drop_duplicates(subset=['dur', 'proto', 'service', 'state', 'dpkts', 'rate', 'sttl', 'dttl',\n",
    "                                    'sload', 'dload', 'dloss', 'sinpkt', 'swin', 'dwin', 'tcprtt', 'synack',\n",
    "                                    'ackdat', 'smean', 'dmean', 'trans_depth', 'ct_srv_src', 'ct_state_ttl',\n",
    "                                    'ct_src_dport_ltm', 'ct_dst_sport_ltm', 'ct_dst_src_ltm',\n",
    "                                    'ct_flw_http_mthd', 'ct_srv_dst', 'is_sm_ips_ports'],inplace=True)\n",
    "    \n",
    "    print('Duplicates after duplicate drop :',df_test.duplicated().sum())\n",
    "    \n",
    "    return df_test\n",
    "df_test = test_preprocess()"
   ]
  },
  {
   "cell_type": "code",
   "execution_count": 7,
   "metadata": {},
   "outputs": [
    {
     "name": "stdout",
     "output_type": "stream",
     "text": [
      "Train set shape: (98066, 29)\n",
      "Test set shape: (52347, 29)\n"
     ]
    }
   ],
   "source": [
    "print('Train set shape:',df_train.shape)\n",
    "print('Test set shape:',df_test.shape)"
   ]
  },
  {
   "cell_type": "code",
   "execution_count": 8,
   "metadata": {},
   "outputs": [
    {
     "name": "stdout",
     "output_type": "stream",
     "text": [
      "Train 3\n",
      "Test 3\n",
      "=======================================\n",
      "Train 7\n",
      "Test 7\n",
      "=======================================\n",
      "Train 4\n",
      "Test 4\n"
     ]
    }
   ],
   "source": [
    "print('Train',len(df_train['proto'].unique()))\n",
    "print('Test',len(df_test['proto'].unique()))\n",
    "print('=======================================')\n",
    "print('Train',len(df_train['service'].unique()))\n",
    "print('Test',len(df_test['service'].unique()))\n",
    "print('=======================================')\n",
    "print('Train',len(df_train['state'].unique()))\n",
    "print('Test',len(df_test['state'].unique()))"
   ]
  },
  {
   "cell_type": "code",
   "execution_count": 9,
   "metadata": {},
   "outputs": [],
   "source": [
    "limit1 = df_train.shape[1]-1\n",
    "    \n",
    "X_train = df_train.iloc[:,0:limit1] # train set features\n",
    "Y_train = df_train.iloc[:,limit1]\n",
    "    \n",
    "limit2 = df_test.shape[1]-1\n",
    "    \n",
    "X_test = df_test.iloc[:,0:limit2] # train set features\n",
    "Y_test = df_test.iloc[:,limit2]"
   ]
  },
  {
   "cell_type": "code",
   "execution_count": 10,
   "metadata": {},
   "outputs": [
    {
     "name": "stdout",
     "output_type": "stream",
     "text": [
      "X_train shape : (98066, 39)\n",
      "X_test shape : (52347, 39)\n"
     ]
    }
   ],
   "source": [
    "def one_hot_encode(X_train,X_test):\n",
    "    \n",
    "    categorical_cols = ['proto','service','state']\n",
    "\n",
    "    # Training dataset one hot encoding\n",
    "    ohe = OneHotEncoder(handle_unknown = 'ignore')\n",
    "    ohe.fit(X_train[categorical_cols])\n",
    "    array_hot_encoded1 = ohe.transform(X_train[categorical_cols]).toarray()\n",
    "    data_hot_encoded1 = pd.DataFrame(array_hot_encoded1, index=X_train.index)\n",
    "    X_train = X_train.drop(columns=categorical_cols)\n",
    "    X_train = pd.concat([data_hot_encoded1,X_train], axis=1)\n",
    "    \n",
    "    print('X_train shape :',X_train.shape)\n",
    "    \n",
    "    # Test dataset one hot encoding\n",
    "    array_hot_encoded2 = ohe.transform(X_test[categorical_cols]).toarray()\n",
    "    data_hot_encoded2 = pd.DataFrame(array_hot_encoded2, index=X_test.index)\n",
    "    X_test = X_test.drop(columns=categorical_cols)\n",
    "    X_test = pd.concat([data_hot_encoded2,X_test], axis=1)\n",
    "    \n",
    "    print('X_test shape :',X_test.shape)\n",
    "    \n",
    "    return X_train, X_test\n",
    "\n",
    "X_train, X_test = one_hot_encode(X_train,X_test)"
   ]
  },
  {
   "cell_type": "code",
   "execution_count": 11,
   "metadata": {},
   "outputs": [],
   "source": [
    "def scaling(X_train,X_test):\n",
    "    scaler = MinMaxScaler()\n",
    "    X_train = scaler.fit_transform(X_train)\n",
    "    X_test = scaler.transform(X_test)\n",
    "    \n",
    "    return X_train, X_test\n",
    "\n",
    "X_train, X_test = scaling(X_train,X_test)"
   ]
  },
  {
   "cell_type": "code",
   "execution_count": 12,
   "metadata": {},
   "outputs": [],
   "source": [
    "X_train = pd.DataFrame(X_train)\n",
    "X_test = pd.DataFrame(X_test)\n",
    "\n",
    "Y_train.reset_index(drop=True,inplace=True)\n",
    "Y_test.reset_index(drop=True,inplace=True)"
   ]
  },
  {
   "cell_type": "code",
   "execution_count": 13,
   "metadata": {},
   "outputs": [
    {
     "name": "stdout",
     "output_type": "stream",
     "text": [
      "(98066, 39)\n",
      "(98066,)\n",
      "(52347, 39)\n",
      "(52347,)\n"
     ]
    }
   ],
   "source": [
    "print(X_train.shape)\n",
    "print(Y_train.shape)\n",
    "print(X_test.shape)\n",
    "print(Y_test.shape)"
   ]
  },
  {
   "cell_type": "code",
   "execution_count": 14,
   "metadata": {},
   "outputs": [],
   "source": [
    "df_train = pd.concat([X_train,Y_train],axis=1)\n",
    "df_test = pd.concat([X_test,Y_test],axis=1)"
   ]
  },
  {
   "cell_type": "code",
   "execution_count": 16,
   "metadata": {},
   "outputs": [],
   "source": [
    "# Class count\n",
    "count_class_0, count_class_1 = df_train['label'].value_counts()\n",
    "\n",
    "# Divide by class\n",
    "df_class_0 = df_train[df_train['label'] == 0]\n",
    "df_class_1 = df_train[df_train['label'] == 1]\n",
    "    \n",
    "df_class_0_under = df_class_0.sample(count_class_1)\n",
    "df_train = pd.concat([df_class_0_under, df_class_1], axis=0)"
   ]
  },
  {
   "cell_type": "code",
   "execution_count": 18,
   "metadata": {},
   "outputs": [
    {
     "data": {
      "text/plain": [
       "label\n",
       "0    46942\n",
       "1    46942\n",
       "Name: label, dtype: int64"
      ]
     },
     "execution_count": 18,
     "metadata": {},
     "output_type": "execute_result"
    }
   ],
   "source": [
    "df_train.groupby('label')['label'].count()"
   ]
  },
  {
   "cell_type": "code",
   "execution_count": 19,
   "metadata": {},
   "outputs": [],
   "source": [
    "df_train.reset_index(drop=True,inplace=True)\n",
    "df_test.reset_index(drop=True,inplace=True)"
   ]
  },
  {
   "cell_type": "code",
   "execution_count": 22,
   "metadata": {},
   "outputs": [],
   "source": [
    "df_train.to_csv('USNW_train-set.csv')\n",
    "df_test.to_csv('USNW_test-set.csv')"
   ]
  }
 ],
 "metadata": {
  "kernelspec": {
   "display_name": "Python 3",
   "language": "python",
   "name": "python3"
  },
  "language_info": {
   "codemirror_mode": {
    "name": "ipython",
    "version": 3
   },
   "file_extension": ".py",
   "mimetype": "text/x-python",
   "name": "python",
   "nbconvert_exporter": "python",
   "pygments_lexer": "ipython3",
   "version": "3.7.3"
  }
 },
 "nbformat": 4,
 "nbformat_minor": 4
}
