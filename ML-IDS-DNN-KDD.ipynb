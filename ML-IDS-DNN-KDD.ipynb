{
 "cells": [
  {
   "cell_type": "markdown",
   "metadata": {},
   "source": [
    "# IDS ML Algorithm Using KDD-99 Dataset"
   ]
  },
  {
   "cell_type": "markdown",
   "metadata": {},
   "source": [
    "- Removed categories which has less frequency of occurance on features like **flag** and **services**."
   ]
  },
  {
   "cell_type": "code",
   "execution_count": 1,
   "metadata": {
    "collapsed": true
   },
   "outputs": [
    {
     "name": "stderr",
     "output_type": "stream",
     "text": [
      "c:\\users\\sharuka thirimanne\\appdata\\local\\programs\\python\\python37\\lib\\site-packages\\tensorboard\\compat\\tensorflow_stub\\dtypes.py:541: FutureWarning: Passing (type, 1) or '1type' as a synonym of type is deprecated; in a future version of numpy, it will be understood as (type, (1,)) / '(1,)type'.\n",
      "  _np_qint8 = np.dtype([(\"qint8\", np.int8, 1)])\n",
      "c:\\users\\sharuka thirimanne\\appdata\\local\\programs\\python\\python37\\lib\\site-packages\\tensorboard\\compat\\tensorflow_stub\\dtypes.py:542: FutureWarning: Passing (type, 1) or '1type' as a synonym of type is deprecated; in a future version of numpy, it will be understood as (type, (1,)) / '(1,)type'.\n",
      "  _np_quint8 = np.dtype([(\"quint8\", np.uint8, 1)])\n",
      "c:\\users\\sharuka thirimanne\\appdata\\local\\programs\\python\\python37\\lib\\site-packages\\tensorboard\\compat\\tensorflow_stub\\dtypes.py:543: FutureWarning: Passing (type, 1) or '1type' as a synonym of type is deprecated; in a future version of numpy, it will be understood as (type, (1,)) / '(1,)type'.\n",
      "  _np_qint16 = np.dtype([(\"qint16\", np.int16, 1)])\n",
      "c:\\users\\sharuka thirimanne\\appdata\\local\\programs\\python\\python37\\lib\\site-packages\\tensorboard\\compat\\tensorflow_stub\\dtypes.py:544: FutureWarning: Passing (type, 1) or '1type' as a synonym of type is deprecated; in a future version of numpy, it will be understood as (type, (1,)) / '(1,)type'.\n",
      "  _np_quint16 = np.dtype([(\"quint16\", np.uint16, 1)])\n",
      "c:\\users\\sharuka thirimanne\\appdata\\local\\programs\\python\\python37\\lib\\site-packages\\tensorboard\\compat\\tensorflow_stub\\dtypes.py:545: FutureWarning: Passing (type, 1) or '1type' as a synonym of type is deprecated; in a future version of numpy, it will be understood as (type, (1,)) / '(1,)type'.\n",
      "  _np_qint32 = np.dtype([(\"qint32\", np.int32, 1)])\n",
      "c:\\users\\sharuka thirimanne\\appdata\\local\\programs\\python\\python37\\lib\\site-packages\\tensorboard\\compat\\tensorflow_stub\\dtypes.py:550: FutureWarning: Passing (type, 1) or '1type' as a synonym of type is deprecated; in a future version of numpy, it will be understood as (type, (1,)) / '(1,)type'.\n",
      "  np_resource = np.dtype([(\"resource\", np.ubyte, 1)])\n",
      "Using TensorFlow backend.\n"
     ]
    }
   ],
   "source": [
    "import pandas as pd\n",
    "import seaborn as sns\n",
    "import tensorflow as tf\n",
    "import matplotlib as mpl\n",
    "import matplotlib.pyplot as plt\n",
    "\n",
    "from tensorflow import keras\n",
    "from keras.layers import Dense\n",
    "from keras.models import Sequential\n",
    "from tensorflow.keras import regularizers\n",
    "from sklearn.metrics import confusion_matrix\n",
    "from sklearn.preprocessing import LabelEncoder\n",
    "from sklearn.metrics import classification_report\n",
    "from sklearn.model_selection import train_test_split"
   ]
  },
  {
   "cell_type": "code",
   "execution_count": 2,
   "metadata": {},
   "outputs": [],
   "source": [
    "mpl.rcParams['figure.figsize'] = (12, 10)\n",
    "colors = plt.rcParams['axes.prop_cycle'].by_key()['color']"
   ]
  },
  {
   "cell_type": "code",
   "execution_count": 7,
   "metadata": {},
   "outputs": [],
   "source": [
    "def load_dataset():\n",
    "    df = pd.read_csv('Datasets/KDD-99_Dataset.csv')\n",
    "    df.drop(['num_outbound_cmds',\n",
    "          'is_host_login',\n",
    "          'urgent',\n",
    "          'id'], axis = 'columns' , inplace = True)\n",
    "    \n",
    "    #freq = df['service'].value_counts()\n",
    "    #frequent_values = freq[freq < 1000].index\n",
    "    #to_del1 = df[df['service'].isin(frequent_values)].index.tolist()\n",
    "    #df = df.drop(to_del1)\n",
    "    \n",
    "    df['protocol_type'] = LabelEncoder().fit_transform(df['protocol_type'])\n",
    "    df['flag'] = LabelEncoder().fit_transform(df['flag'])\n",
    "    df['service'] = LabelEncoder().fit_transform(df['service'])\n",
    "    \n",
    "    df['outcome'] = df['outcome'].apply(lambda x: x.replace('.', ''))\n",
    "\n",
    "    df['class'] = df['outcome'].map( {'back':1, 'buffer_overflow':1, 'ftp_write':1,\n",
    "                                      'guess_passwd':1, 'imap':1, 'ipsweep':1,\n",
    "                                      'land':1, 'loadmodule':1, 'multihop':1,\n",
    "                                      'neptune':1, 'nmap':1, 'perl':1,\n",
    "                                      'phf':1, 'pod':1, 'portsweep':1,\n",
    "                                      'rootkit':1, 'satan':1, 'smurf':1,\n",
    "                                      'spy':1,'teardrop':1,'warezclient':1,\n",
    "                                      'warezmaster':1, 'normal':0} )\n",
    "    df = df.drop(['outcome'],axis='columns')\n",
    "    df.rename(columns=lambda x: x.strip(), inplace=True)\n",
    "    limit = df.shape[1]-1\n",
    "    \n",
    "    X = df.iloc[:,0:limit].values # train set features\n",
    "    Y = df.iloc[:,limit].values # train set labels\n",
    "    \n",
    "    return X, Y, df"
   ]
  },
  {
   "cell_type": "code",
   "execution_count": 8,
   "metadata": {},
   "outputs": [
    {
     "data": {
      "text/html": [
       "<div>\n",
       "<style scoped>\n",
       "    .dataframe tbody tr th:only-of-type {\n",
       "        vertical-align: middle;\n",
       "    }\n",
       "\n",
       "    .dataframe tbody tr th {\n",
       "        vertical-align: top;\n",
       "    }\n",
       "\n",
       "    .dataframe thead th {\n",
       "        text-align: right;\n",
       "    }\n",
       "</style>\n",
       "<table border=\"1\" class=\"dataframe\">\n",
       "  <thead>\n",
       "    <tr style=\"text-align: right;\">\n",
       "      <th></th>\n",
       "      <th>duration</th>\n",
       "      <th>protocol_type</th>\n",
       "      <th>service</th>\n",
       "      <th>flag</th>\n",
       "      <th>src_bytes</th>\n",
       "      <th>dst_bytes</th>\n",
       "      <th>land</th>\n",
       "      <th>wrong_fragment</th>\n",
       "      <th>hot</th>\n",
       "      <th>num_failed_logins</th>\n",
       "      <th>...</th>\n",
       "      <th>dst_host_srv_count</th>\n",
       "      <th>dst_host_same_srv_rate</th>\n",
       "      <th>dst_host_diff_srv_rate</th>\n",
       "      <th>dst_host_same_src_port_rate</th>\n",
       "      <th>dst_host_srv_diff_host_rate</th>\n",
       "      <th>dst_host_serror_rate</th>\n",
       "      <th>dst_host_srv_serror_rate</th>\n",
       "      <th>dst_host_rerror_rate</th>\n",
       "      <th>dst_host_srv_rerror_rate</th>\n",
       "      <th>class</th>\n",
       "    </tr>\n",
       "  </thead>\n",
       "  <tbody>\n",
       "    <tr>\n",
       "      <th>0</th>\n",
       "      <td>0</td>\n",
       "      <td>1</td>\n",
       "      <td>24</td>\n",
       "      <td>9</td>\n",
       "      <td>162</td>\n",
       "      <td>4528</td>\n",
       "      <td>0</td>\n",
       "      <td>0</td>\n",
       "      <td>0</td>\n",
       "      <td>0</td>\n",
       "      <td>...</td>\n",
       "      <td>1</td>\n",
       "      <td>1.0</td>\n",
       "      <td>0.0</td>\n",
       "      <td>1.00</td>\n",
       "      <td>0.00</td>\n",
       "      <td>0.0</td>\n",
       "      <td>0.00</td>\n",
       "      <td>0.0</td>\n",
       "      <td>0.0</td>\n",
       "      <td>0</td>\n",
       "    </tr>\n",
       "    <tr>\n",
       "      <th>1</th>\n",
       "      <td>0</td>\n",
       "      <td>1</td>\n",
       "      <td>24</td>\n",
       "      <td>9</td>\n",
       "      <td>236</td>\n",
       "      <td>1228</td>\n",
       "      <td>0</td>\n",
       "      <td>0</td>\n",
       "      <td>0</td>\n",
       "      <td>0</td>\n",
       "      <td>...</td>\n",
       "      <td>2</td>\n",
       "      <td>1.0</td>\n",
       "      <td>0.0</td>\n",
       "      <td>0.50</td>\n",
       "      <td>0.00</td>\n",
       "      <td>0.0</td>\n",
       "      <td>0.00</td>\n",
       "      <td>0.0</td>\n",
       "      <td>0.0</td>\n",
       "      <td>0</td>\n",
       "    </tr>\n",
       "    <tr>\n",
       "      <th>2</th>\n",
       "      <td>0</td>\n",
       "      <td>1</td>\n",
       "      <td>24</td>\n",
       "      <td>9</td>\n",
       "      <td>233</td>\n",
       "      <td>2032</td>\n",
       "      <td>0</td>\n",
       "      <td>0</td>\n",
       "      <td>0</td>\n",
       "      <td>0</td>\n",
       "      <td>...</td>\n",
       "      <td>3</td>\n",
       "      <td>1.0</td>\n",
       "      <td>0.0</td>\n",
       "      <td>0.33</td>\n",
       "      <td>0.00</td>\n",
       "      <td>0.0</td>\n",
       "      <td>0.00</td>\n",
       "      <td>0.0</td>\n",
       "      <td>0.0</td>\n",
       "      <td>0</td>\n",
       "    </tr>\n",
       "    <tr>\n",
       "      <th>3</th>\n",
       "      <td>0</td>\n",
       "      <td>1</td>\n",
       "      <td>24</td>\n",
       "      <td>9</td>\n",
       "      <td>239</td>\n",
       "      <td>486</td>\n",
       "      <td>0</td>\n",
       "      <td>0</td>\n",
       "      <td>0</td>\n",
       "      <td>0</td>\n",
       "      <td>...</td>\n",
       "      <td>4</td>\n",
       "      <td>1.0</td>\n",
       "      <td>0.0</td>\n",
       "      <td>0.25</td>\n",
       "      <td>0.00</td>\n",
       "      <td>0.0</td>\n",
       "      <td>0.00</td>\n",
       "      <td>0.0</td>\n",
       "      <td>0.0</td>\n",
       "      <td>0</td>\n",
       "    </tr>\n",
       "    <tr>\n",
       "      <th>4</th>\n",
       "      <td>0</td>\n",
       "      <td>1</td>\n",
       "      <td>24</td>\n",
       "      <td>9</td>\n",
       "      <td>238</td>\n",
       "      <td>1282</td>\n",
       "      <td>0</td>\n",
       "      <td>0</td>\n",
       "      <td>0</td>\n",
       "      <td>0</td>\n",
       "      <td>...</td>\n",
       "      <td>5</td>\n",
       "      <td>1.0</td>\n",
       "      <td>0.0</td>\n",
       "      <td>0.20</td>\n",
       "      <td>0.00</td>\n",
       "      <td>0.0</td>\n",
       "      <td>0.00</td>\n",
       "      <td>0.0</td>\n",
       "      <td>0.0</td>\n",
       "      <td>0</td>\n",
       "    </tr>\n",
       "    <tr>\n",
       "      <th>...</th>\n",
       "      <td>...</td>\n",
       "      <td>...</td>\n",
       "      <td>...</td>\n",
       "      <td>...</td>\n",
       "      <td>...</td>\n",
       "      <td>...</td>\n",
       "      <td>...</td>\n",
       "      <td>...</td>\n",
       "      <td>...</td>\n",
       "      <td>...</td>\n",
       "      <td>...</td>\n",
       "      <td>...</td>\n",
       "      <td>...</td>\n",
       "      <td>...</td>\n",
       "      <td>...</td>\n",
       "      <td>...</td>\n",
       "      <td>...</td>\n",
       "      <td>...</td>\n",
       "      <td>...</td>\n",
       "      <td>...</td>\n",
       "      <td>...</td>\n",
       "    </tr>\n",
       "    <tr>\n",
       "      <th>4898425</th>\n",
       "      <td>0</td>\n",
       "      <td>1</td>\n",
       "      <td>24</td>\n",
       "      <td>9</td>\n",
       "      <td>212</td>\n",
       "      <td>2288</td>\n",
       "      <td>0</td>\n",
       "      <td>0</td>\n",
       "      <td>0</td>\n",
       "      <td>0</td>\n",
       "      <td>...</td>\n",
       "      <td>255</td>\n",
       "      <td>1.0</td>\n",
       "      <td>0.0</td>\n",
       "      <td>0.33</td>\n",
       "      <td>0.05</td>\n",
       "      <td>0.0</td>\n",
       "      <td>0.01</td>\n",
       "      <td>0.0</td>\n",
       "      <td>0.0</td>\n",
       "      <td>0</td>\n",
       "    </tr>\n",
       "    <tr>\n",
       "      <th>4898426</th>\n",
       "      <td>0</td>\n",
       "      <td>1</td>\n",
       "      <td>24</td>\n",
       "      <td>9</td>\n",
       "      <td>219</td>\n",
       "      <td>236</td>\n",
       "      <td>0</td>\n",
       "      <td>0</td>\n",
       "      <td>0</td>\n",
       "      <td>0</td>\n",
       "      <td>...</td>\n",
       "      <td>255</td>\n",
       "      <td>1.0</td>\n",
       "      <td>0.0</td>\n",
       "      <td>0.25</td>\n",
       "      <td>0.05</td>\n",
       "      <td>0.0</td>\n",
       "      <td>0.01</td>\n",
       "      <td>0.0</td>\n",
       "      <td>0.0</td>\n",
       "      <td>0</td>\n",
       "    </tr>\n",
       "    <tr>\n",
       "      <th>4898427</th>\n",
       "      <td>0</td>\n",
       "      <td>1</td>\n",
       "      <td>24</td>\n",
       "      <td>9</td>\n",
       "      <td>218</td>\n",
       "      <td>3610</td>\n",
       "      <td>0</td>\n",
       "      <td>0</td>\n",
       "      <td>0</td>\n",
       "      <td>0</td>\n",
       "      <td>...</td>\n",
       "      <td>255</td>\n",
       "      <td>1.0</td>\n",
       "      <td>0.0</td>\n",
       "      <td>0.20</td>\n",
       "      <td>0.05</td>\n",
       "      <td>0.0</td>\n",
       "      <td>0.01</td>\n",
       "      <td>0.0</td>\n",
       "      <td>0.0</td>\n",
       "      <td>0</td>\n",
       "    </tr>\n",
       "    <tr>\n",
       "      <th>4898428</th>\n",
       "      <td>0</td>\n",
       "      <td>1</td>\n",
       "      <td>24</td>\n",
       "      <td>9</td>\n",
       "      <td>219</td>\n",
       "      <td>1234</td>\n",
       "      <td>0</td>\n",
       "      <td>0</td>\n",
       "      <td>0</td>\n",
       "      <td>0</td>\n",
       "      <td>...</td>\n",
       "      <td>255</td>\n",
       "      <td>1.0</td>\n",
       "      <td>0.0</td>\n",
       "      <td>0.17</td>\n",
       "      <td>0.05</td>\n",
       "      <td>0.0</td>\n",
       "      <td>0.01</td>\n",
       "      <td>0.0</td>\n",
       "      <td>0.0</td>\n",
       "      <td>0</td>\n",
       "    </tr>\n",
       "    <tr>\n",
       "      <th>4898429</th>\n",
       "      <td>0</td>\n",
       "      <td>1</td>\n",
       "      <td>24</td>\n",
       "      <td>9</td>\n",
       "      <td>219</td>\n",
       "      <td>1098</td>\n",
       "      <td>0</td>\n",
       "      <td>0</td>\n",
       "      <td>0</td>\n",
       "      <td>0</td>\n",
       "      <td>...</td>\n",
       "      <td>255</td>\n",
       "      <td>1.0</td>\n",
       "      <td>0.0</td>\n",
       "      <td>0.14</td>\n",
       "      <td>0.05</td>\n",
       "      <td>0.0</td>\n",
       "      <td>0.01</td>\n",
       "      <td>0.0</td>\n",
       "      <td>0.0</td>\n",
       "      <td>0</td>\n",
       "    </tr>\n",
       "  </tbody>\n",
       "</table>\n",
       "<p>4898430 rows × 39 columns</p>\n",
       "</div>"
      ],
      "text/plain": [
       "         duration  protocol_type  service  flag  src_bytes  dst_bytes  land  \\\n",
       "0               0              1       24     9        162       4528     0   \n",
       "1               0              1       24     9        236       1228     0   \n",
       "2               0              1       24     9        233       2032     0   \n",
       "3               0              1       24     9        239        486     0   \n",
       "4               0              1       24     9        238       1282     0   \n",
       "...           ...            ...      ...   ...        ...        ...   ...   \n",
       "4898425         0              1       24     9        212       2288     0   \n",
       "4898426         0              1       24     9        219        236     0   \n",
       "4898427         0              1       24     9        218       3610     0   \n",
       "4898428         0              1       24     9        219       1234     0   \n",
       "4898429         0              1       24     9        219       1098     0   \n",
       "\n",
       "         wrong_fragment  hot  num_failed_logins  ...  dst_host_srv_count  \\\n",
       "0                     0    0                  0  ...                   1   \n",
       "1                     0    0                  0  ...                   2   \n",
       "2                     0    0                  0  ...                   3   \n",
       "3                     0    0                  0  ...                   4   \n",
       "4                     0    0                  0  ...                   5   \n",
       "...                 ...  ...                ...  ...                 ...   \n",
       "4898425               0    0                  0  ...                 255   \n",
       "4898426               0    0                  0  ...                 255   \n",
       "4898427               0    0                  0  ...                 255   \n",
       "4898428               0    0                  0  ...                 255   \n",
       "4898429               0    0                  0  ...                 255   \n",
       "\n",
       "         dst_host_same_srv_rate  dst_host_diff_srv_rate  \\\n",
       "0                           1.0                     0.0   \n",
       "1                           1.0                     0.0   \n",
       "2                           1.0                     0.0   \n",
       "3                           1.0                     0.0   \n",
       "4                           1.0                     0.0   \n",
       "...                         ...                     ...   \n",
       "4898425                     1.0                     0.0   \n",
       "4898426                     1.0                     0.0   \n",
       "4898427                     1.0                     0.0   \n",
       "4898428                     1.0                     0.0   \n",
       "4898429                     1.0                     0.0   \n",
       "\n",
       "         dst_host_same_src_port_rate  dst_host_srv_diff_host_rate  \\\n",
       "0                               1.00                         0.00   \n",
       "1                               0.50                         0.00   \n",
       "2                               0.33                         0.00   \n",
       "3                               0.25                         0.00   \n",
       "4                               0.20                         0.00   \n",
       "...                              ...                          ...   \n",
       "4898425                         0.33                         0.05   \n",
       "4898426                         0.25                         0.05   \n",
       "4898427                         0.20                         0.05   \n",
       "4898428                         0.17                         0.05   \n",
       "4898429                         0.14                         0.05   \n",
       "\n",
       "         dst_host_serror_rate  dst_host_srv_serror_rate  dst_host_rerror_rate  \\\n",
       "0                         0.0                      0.00                   0.0   \n",
       "1                         0.0                      0.00                   0.0   \n",
       "2                         0.0                      0.00                   0.0   \n",
       "3                         0.0                      0.00                   0.0   \n",
       "4                         0.0                      0.00                   0.0   \n",
       "...                       ...                       ...                   ...   \n",
       "4898425                   0.0                      0.01                   0.0   \n",
       "4898426                   0.0                      0.01                   0.0   \n",
       "4898427                   0.0                      0.01                   0.0   \n",
       "4898428                   0.0                      0.01                   0.0   \n",
       "4898429                   0.0                      0.01                   0.0   \n",
       "\n",
       "         dst_host_srv_rerror_rate  class  \n",
       "0                             0.0      0  \n",
       "1                             0.0      0  \n",
       "2                             0.0      0  \n",
       "3                             0.0      0  \n",
       "4                             0.0      0  \n",
       "...                           ...    ...  \n",
       "4898425                       0.0      0  \n",
       "4898426                       0.0      0  \n",
       "4898427                       0.0      0  \n",
       "4898428                       0.0      0  \n",
       "4898429                       0.0      0  \n",
       "\n",
       "[4898430 rows x 39 columns]"
      ]
     },
     "execution_count": 8,
     "metadata": {},
     "output_type": "execute_result"
    }
   ],
   "source": [
    "X, Y , df = load_dataset()\n",
    "df"
   ]
  },
  {
   "cell_type": "code",
   "execution_count": 10,
   "metadata": {},
   "outputs": [
    {
     "name": "stdout",
     "output_type": "stream",
     "text": [
      "Shape of X : (38, 4898430)\n",
      "Shape of Y : (1, 4898430)\n",
      "# of training examples : 4898430\n"
     ]
    }
   ],
   "source": [
    "X = X.reshape(X.shape[0],X.shape[1])\n",
    "Y = Y.reshape(Y.shape[0],1)\n",
    "\n",
    "print('Shape of X :',X.T.shape)\n",
    "print('Shape of Y :',Y.T.shape)\n",
    "print('# of training examples :',X.T.shape[1])"
   ]
  },
  {
   "cell_type": "code",
   "execution_count": 11,
   "metadata": {},
   "outputs": [
    {
     "data": {
      "text/plain": [
       "class\n",
       "0     972780\n",
       "1    3925650\n",
       "Name: class, dtype: int64"
      ]
     },
     "execution_count": 11,
     "metadata": {},
     "output_type": "execute_result"
    }
   ],
   "source": [
    "df.groupby('class')['class'].count()"
   ]
  },
  {
   "cell_type": "code",
   "execution_count": 12,
   "metadata": {},
   "outputs": [
    {
     "name": "stdout",
     "output_type": "stream",
     "text": [
      "Training X : (4408587, 38)\n",
      "Test_X : (489843, 38)\n",
      "Training_Y : (4408587, 1)\n",
      "Test_Y : (489843, 1)\n"
     ]
    }
   ],
   "source": [
    "train_X, test_X , train_Y , test_Y = train_test_split(X, Y, test_size=0.1,shuffle=True)\n",
    "\n",
    "print('Training X :',train_X.shape)\n",
    "print('Test_X :',test_X.shape)\n",
    "print('Training_Y :',train_Y.shape)\n",
    "print('Test_Y :',test_Y.shape)"
   ]
  },
  {
   "cell_type": "code",
   "execution_count": 13,
   "metadata": {},
   "outputs": [],
   "source": [
    "from sklearn.preprocessing import MinMaxScaler\n",
    "scaler = MinMaxScaler()"
   ]
  },
  {
   "cell_type": "code",
   "execution_count": 14,
   "metadata": {},
   "outputs": [],
   "source": [
    "scaler = MinMaxScaler()\n",
    "train_X = scaler.fit_transform(train_X)\n",
    "test_X = scaler.transform(test_X)"
   ]
  },
  {
   "cell_type": "code",
   "execution_count": 15,
   "metadata": {},
   "outputs": [
    {
     "name": "stdout",
     "output_type": "stream",
     "text": [
      "Training X : (3967728, 38)\n",
      "Validation X : (440859, 38)\n",
      "Test_X : (489843, 38)\n",
      "Training_Y : (3967728, 1)\n",
      "Validation Y : (440859, 1)\n",
      "Test_Y : (489843, 1)\n"
     ]
    }
   ],
   "source": [
    "train_X, val_X , train_Y , val_Y = train_test_split(train_X,train_Y, test_size=0.1,shuffle=True)\n",
    "\n",
    "print('Training X :',train_X.shape)\n",
    "print('Validation X :',val_X.shape)\n",
    "print('Test_X :',test_X.shape)\n",
    "print('Training_Y :',train_Y.shape)\n",
    "print('Validation Y :',val_Y.shape)\n",
    "print('Test_Y :',test_Y.shape)"
   ]
  },
  {
   "cell_type": "code",
   "execution_count": 16,
   "metadata": {},
   "outputs": [],
   "source": [
    "METRICS = [\n",
    "      keras.metrics.TruePositives(name='tp'),\n",
    "      keras.metrics.FalsePositives(name='fp'),\n",
    "      keras.metrics.TrueNegatives(name='tn'),\n",
    "      keras.metrics.FalseNegatives(name='fn'), \n",
    "      keras.metrics.BinaryAccuracy(name='accuracy'),\n",
    "      keras.metrics.Precision(name='precision'),\n",
    "      keras.metrics.Recall(name='recall'),\n",
    "      keras.metrics.AUC(name='auc'),\n",
    "]"
   ]
  },
  {
   "cell_type": "code",
   "execution_count": 17,
   "metadata": {},
   "outputs": [
    {
     "name": "stdout",
     "output_type": "stream",
     "text": [
      "Model: \"sequential_1\"\n",
      "_________________________________________________________________\n",
      "Layer (type)                 Output Shape              Param #   \n",
      "=================================================================\n",
      "dense_1 (Dense)              (None, 128)               4992      \n",
      "_________________________________________________________________\n",
      "dense_2 (Dense)              (None, 128)               16512     \n",
      "_________________________________________________________________\n",
      "dense_3 (Dense)              (None, 128)               16512     \n",
      "_________________________________________________________________\n",
      "dense_4 (Dense)              (None, 128)               16512     \n",
      "_________________________________________________________________\n",
      "dense_5 (Dense)              (None, 128)               16512     \n",
      "_________________________________________________________________\n",
      "dense_6 (Dense)              (None, 1)                 129       \n",
      "=================================================================\n",
      "Total params: 71,169\n",
      "Trainable params: 71,169\n",
      "Non-trainable params: 0\n",
      "_________________________________________________________________\n"
     ]
    }
   ],
   "source": [
    "model = Sequential()\n",
    "model.add(Dense(128, input_dim=38, activation='relu',kernel_initializer='glorot_uniform',bias_initializer='zeros',kernel_regularizer=regularizers.l2(0.001)))\n",
    "model.add(Dense(128, activation='relu',kernel_regularizer=regularizers.l2(0.001)))\n",
    "model.add(Dense(128, activation='relu',kernel_regularizer=regularizers.l2(0.001)))\n",
    "model.add(Dense(128, activation='relu',kernel_regularizer=regularizers.l2(0.001)))\n",
    "model.add(Dense(128, activation='relu',kernel_regularizer=regularizers.l2(0.001)))\n",
    "model.add(Dense(1, activation='sigmoid'))\n",
    "\n",
    "model.summary()"
   ]
  },
  {
   "cell_type": "code",
   "execution_count": 18,
   "metadata": {},
   "outputs": [],
   "source": [
    "model.compile(loss='binary_crossentropy', optimizer='adam', metrics=METRICS)"
   ]
  },
  {
   "cell_type": "code",
   "execution_count": 19,
   "metadata": {},
   "outputs": [],
   "source": [
    "early_stopping = tf.keras.callbacks.EarlyStopping(\n",
    "    monitor='loss', \n",
    "    verbose=1,\n",
    "    patience=20,\n",
    "    mode='min',\n",
    "    restore_best_weights=True)"
   ]
  },
  {
   "cell_type": "code",
   "execution_count": 20,
   "metadata": {
    "scrolled": true
   },
   "outputs": [
    {
     "name": "stdout",
     "output_type": "stream",
     "text": [
      "Train on 3967728 samples, validate on 440859 samples\n",
      "Epoch 1/40\n",
      "3967728/3967728 [==============================] - 51s 13us/step - loss: 0.0250 - tp: 1587473.6250 - fp: 1861.2723 - tn: 392082.3438 - fn: 2837.3652 - accuracy: 0.9957 - precision: 0.9967 - recall: 0.9978 - auc: 0.9988 - val_loss: 0.0129 - val_tp: 3351450.7500 - val_fp: 2358.7876 - val_tn: 829228.9375 - val_fn: 5617.8633 - val_accuracy: 0.9981 - val_precision: 0.9993 - val_recall: 0.9983 - val_auc: 0.9996\n",
      "Epoch 2/40\n",
      "3967728/3967728 [==============================] - 48s 12us/step - loss: 0.0126 - tp: 5115527.0000 - fp: 2808.2363 - tn: 1266284.7500 - fn: 8195.8037 - accuracy: 0.9983 - precision: 0.9995 - recall: 0.9984 - auc: 0.9996 - val_loss: 0.0114 - val_tp: 6879579.0000 - val_fp: 3240.6379 - val_tn: 1703696.5000 - val_fn: 10729.7354 - val_accuracy: 0.9984 - val_precision: 0.9995 - val_recall: 0.9985 - val_auc: 0.9997\n",
      "Epoch 3/40\n",
      "3967728/3967728 [==============================] - 50s 13us/step - loss: 0.0114 - tp: 8643544.0000 - fp: 3667.7744 - tn: 2141038.7500 - fn: 13185.5879 - accuracy: 0.9985 - precision: 0.9995 - recall: 0.9985 - auc: 0.9998 - val_loss: 0.0108 - val_tp: 10407976.0000 - val_fp: 4101.1694 - val_tn: 2578185.0000 - val_fn: 15566.4443 - val_accuracy: 0.9985 - val_precision: 0.9996 - val_recall: 0.9985 - val_auc: 0.9998\n",
      "Epoch 4/40\n",
      "3967728/3967728 [==============================] - 50s 13us/step - loss: 0.0107 - tp: 12172068.0000 - fp: 4519.8125 - tn: 3015509.2500 - fn: 17928.7441 - accuracy: 0.9985 - precision: 0.9995 - recall: 0.9985 - auc: 0.9999 - val_loss: 0.0115 - val_tp: 13936534.0000 - val_fp: 4989.2588 - val_tn: 3452646.2500 - val_fn: 20251.1777 - val_accuracy: 0.9986 - val_precision: 0.9996 - val_recall: 0.9985 - val_auc: 0.9998\n",
      "Epoch 5/40\n",
      "3967728/3967728 [==============================] - 49s 12us/step - loss: 0.0103 - tp: 15700936.0000 - fp: 5465.3081 - tn: 3889688.0000 - fn: 22507.9082 - accuracy: 0.9985 - precision: 0.9996 - recall: 0.9985 - auc: 0.9999 - val_loss: 0.0103 - val_tp: 17465044.0000 - val_fp: 5849.6890 - val_tn: 4327134.5000 - val_fn: 24946.2598 - val_accuracy: 0.9987 - val_precision: 0.9997 - val_recall: 0.9986 - val_auc: 0.9998\n",
      "Epoch 6/40\n",
      "3967728/3967728 [==============================] - 50s 12us/step - loss: 0.0100 - tp: 19229204.0000 - fp: 6239.2070 - tn: 4764349.5000 - fn: 27318.3008 - accuracy: 0.9986 - precision: 0.9996 - recall: 0.9985 - auc: 0.9999 - val_loss: 0.0094 - val_tp: 20993484.0000 - val_fp: 6638.8096 - val_tn: 5201693.0000 - val_fn: 29653.5547 - val_accuracy: 0.9988 - val_precision: 0.9997 - val_recall: 0.9986 - val_auc: 0.9998\n",
      "Epoch 7/40\n",
      "3967728/3967728 [==============================] - 49s 12us/step - loss: 0.0097 - tp: 22757864.0000 - fp: 7035.2949 - tn: 5638771.0000 - fn: 31974.3418 - accuracy: 0.9989 - precision: 0.9996 - recall: 0.9985 - auc: 0.9999 - val_loss: 0.0095 - val_tp: 24522122.0000 - val_fp: 7402.0605 - val_tn: 6076277.5000 - val_fn: 34288.5391 - val_accuracy: 0.9988 - val_precision: 0.9997 - val_recall: 0.9986 - val_auc: 0.9998\n",
      "Epoch 8/40\n",
      "3967728/3967728 [==============================] - 50s 13us/step - loss: 0.0095 - tp: 26286454.0000 - fp: 7783.8257 - tn: 6513355.5000 - fn: 36599.9727 - accuracy: 0.9989 - precision: 0.9996 - recall: 0.9986 - auc: 0.9999 - val_loss: 0.0093 - val_tp: 28050718.0000 - val_fp: 8222.6309 - val_tn: 6950807.0000 - val_fn: 38814.7812 - val_accuracy: 0.9989 - val_precision: 0.9997 - val_recall: 0.9986 - val_auc: 0.9998\n",
      "Epoch 9/40\n",
      "3967728/3967728 [==============================] - 50s 13us/step - loss: 0.0093 - tp: 29814944.0000 - fp: 8635.0117 - tn: 7388222.5000 - fn: 40966.4961 - accuracy: 0.9990 - precision: 0.9996 - recall: 0.9986 - auc: 0.9999 - val_loss: 0.0091 - val_tp: 31579702.0000 - val_fp: 9021.2393 - val_tn: 7825358.5000 - val_fn: 43130.3750 - val_accuracy: 0.9990 - val_precision: 0.9997 - val_recall: 0.9986 - val_auc: 0.9998\n",
      "Epoch 10/40\n",
      "3967728/3967728 [==============================] - 50s 12us/step - loss: 0.0092 - tp: 33343428.0000 - fp: 9408.8682 - tn: 8263345.5000 - fn: 45284.0117 - accuracy: 0.9990 - precision: 0.9996 - recall: 0.9986 - auc: 0.9999 - val_loss: 0.0088 - val_tp: 35108692.0000 - val_fp: 9763.7031 - val_tn: 8699963.0000 - val_fn: 47426.4141 - val_accuracy: 0.9990 - val_precision: 0.9997 - val_recall: 0.9987 - val_auc: 0.9998\n",
      "Epoch 11/40\n",
      "3967728/3967728 [==============================] - 50s 12us/step - loss: 0.0090 - tp: 36873016.0000 - fp: 10125.5703 - tn: 9137236.0000 - fn: 49573.8242 - accuracy: 0.9990 - precision: 0.9996 - recall: 0.9986 - auc: 0.9999 - val_loss: 0.0084 - val_tp: 38637536.0000 - val_fp: 10472.9404 - val_tn: 9574606.0000 - val_fn: 51683.0430 - val_accuracy: 0.9991 - val_precision: 0.9997 - val_recall: 0.9987 - val_auc: 0.9998\n",
      "Epoch 12/40\n",
      "3967728/3967728 [==============================] - 49s 12us/step - loss: 0.0089 - tp: 40401932.0000 - fp: 10826.7393 - tn: 10011844.0000 - fn: 53835.7344 - accuracy: 0.9991 - precision: 0.9996 - recall: 0.9986 - auc: 0.9999 - val_loss: 0.0083 - val_tp: 42166492.0000 - val_fp: 11205.2881 - val_tn: 10449225.0000 - val_fn: 55972.0078 - val_accuracy: 0.9991 - val_precision: 0.9997 - val_recall: 0.9987 - val_auc: 0.9998\n",
      "Epoch 13/40\n",
      "3967728/3967728 [==============================] - 49s 12us/step - loss: 0.0088 - tp: 43930708.0000 - fp: 11591.7217 - tn: 10886680.0000 - fn: 58065.9531 - accuracy: 0.9991 - precision: 0.9996 - recall: 0.9986 - auc: 0.9999 - val_loss: 0.0084 - val_tp: 45695548.0000 - val_fp: 11963.8018 - val_tn: 11323814.0000 - val_fn: 60191.6250 - val_accuracy: 0.9992 - val_precision: 0.9997 - val_recall: 0.9987 - val_auc: 0.9999\n",
      "Epoch 14/40\n",
      "3967728/3967728 [==============================] - 50s 13us/step - loss: 0.0087 - tp: 47460004.0000 - fp: 12323.6104 - tn: 11761094.0000 - fn: 62299.0781 - accuracy: 0.9991 - precision: 0.9996 - recall: 0.9986 - auc: 0.9999 - val_loss: 0.0081 - val_tp: 49224596.0000 - val_fp: 12701.6826 - val_tn: 12198419.0000 - val_fn: 64405.4219 - val_accuracy: 0.9992 - val_precision: 0.9998 - val_recall: 0.9987 - val_auc: 0.9999\n",
      "Epoch 15/40\n",
      "3967728/3967728 [==============================] - 49s 12us/step - loss: 0.0086 - tp: 50988892.0000 - fp: 13072.5488 - tn: 12635754.0000 - fn: 66549.1875 - accuracy: 0.9992 - precision: 0.9996 - recall: 0.9986 - auc: 0.9999 - val_loss: 0.0088 - val_tp: 52753428.0000 - val_fp: 13438.7363 - val_tn: 13073034.0000 - val_fn: 68679.7031 - val_accuracy: 0.9993 - val_precision: 0.9998 - val_recall: 0.9987 - val_auc: 0.9999\n",
      "Epoch 16/40\n",
      "3967728/3967728 [==============================] - 49s 12us/step - loss: 0.0086 - tp: 54517916.0000 - fp: 13782.3857 - tn: 13510275.0000 - fn: 70802.2969 - accuracy: 0.9994 - precision: 0.9996 - recall: 0.9986 - auc: 0.9999 - val_loss: 0.0081 - val_tp: 56282448.0000 - val_fp: 14189.5762 - val_tn: 13947626.0000 - val_fn: 72882.6484 - val_accuracy: 0.9993 - val_precision: 0.9998 - val_recall: 0.9987 - val_auc: 0.9999\n",
      "Epoch 17/40\n",
      "3967728/3967728 [==============================] - 48s 12us/step - loss: 0.0085 - tp: 58047096.0000 - fp: 14598.6416 - tn: 14384779.0000 - fn: 74921.5703 - accuracy: 0.9994 - precision: 0.9996 - recall: 0.9986 - auc: 0.9999 - val_loss: 0.0082 - val_tp: 59811628.0000 - val_fp: 14959.5918 - val_tn: 14822209.0000 - val_fn: 77011.6172 - val_accuracy: 0.9993 - val_precision: 0.9998 - val_recall: 0.9987 - val_auc: 0.9999\n",
      "Epoch 18/40\n",
      "3967728/3967728 [==============================] - 48s 12us/step - loss: 0.0084 - tp: 61576428.0000 - fp: 15334.3750 - tn: 15259117.0000 - fn: 79131.0547 - accuracy: 0.9994 - precision: 0.9996 - recall: 0.9986 - auc: 0.9999 - val_loss: 0.0080 - val_tp: 63340800.0000 - val_fp: 15711.2012 - val_tn: 15696808.0000 - val_fn: 81219.2656 - val_accuracy: 0.9994 - val_precision: 0.9998 - val_recall: 0.9987 - val_auc: 0.9999\n",
      "Epoch 19/40\n",
      "3967728/3967728 [==============================] - 49s 12us/step - loss: 0.0084 - tp: 65105564.0000 - fp: 16091.3457 - tn: 16133769.0000 - fn: 83286.3594 - accuracy: 0.9995 - precision: 0.9996 - recall: 0.9987 - auc: 0.9999 - val_loss: 0.0081 - val_tp: 66869764.0000 - val_fp: 16470.9121 - val_tn: 16571396.0000 - val_fn: 85416.7344 - val_accuracy: 0.9994 - val_precision: 0.9998 - val_recall: 0.9987 - val_auc: 0.9999\n",
      "Epoch 20/40\n"
     ]
    },
    {
     "name": "stdout",
     "output_type": "stream",
     "text": [
      "3967728/3967728 [==============================] - 48s 12us/step - loss: 0.0083 - tp: 68634336.0000 - fp: 16864.9180 - tn: 17008530.0000 - fn: 87537.9922 - accuracy: 0.9995 - precision: 0.9996 - recall: 0.9987 - auc: 0.9999 - val_loss: 0.0078 - val_tp: 70398944.0000 - val_fp: 17268.5957 - val_tn: 17445976.0000 - val_fn: 89580.1016 - val_accuracy: 0.9994 - val_precision: 0.9998 - val_recall: 0.9987 - val_auc: 0.9999\n",
      "Epoch 21/40\n",
      "3967728/3967728 [==============================] - 48s 12us/step - loss: 0.0083 - tp: 72163440.0000 - fp: 17681.1738 - tn: 17883366.0000 - fn: 91613.9297 - accuracy: 0.9995 - precision: 0.9996 - recall: 0.9987 - auc: 0.9999 - val_loss: 0.0110 - val_tp: 73928408.0000 - val_fp: 18056.6113 - val_tn: 18320636.0000 - val_fn: 93791.0781 - val_accuracy: 0.9995 - val_precision: 0.9998 - val_recall: 0.9987 - val_auc: 0.9999\n",
      "Epoch 22/40\n",
      "3967728/3967728 [==============================] - 48s 12us/step - loss: 0.0082 - tp: 75692936.0000 - fp: 18445.6934 - tn: 18757816.0000 - fn: 95964.8203 - accuracy: 0.9995 - precision: 0.9999 - recall: 0.9987 - auc: 0.9999 - val_loss: 0.0082 - val_tp: 77457576.0000 - val_fp: 18816.0156 - val_tn: 19195152.0000 - val_fn: 98021.7578 - val_accuracy: 0.9995 - val_precision: 0.9998 - val_recall: 0.9987 - val_auc: 0.9999\n",
      "Epoch 23/40\n",
      "3967728/3967728 [==============================] - 50s 13us/step - loss: 0.0082 - tp: 79222256.0000 - fp: 19206.4629 - tn: 19632522.0000 - fn: 100120.1328 - accuracy: 0.9995 - precision: 0.9999 - recall: 0.9987 - auc: 0.9999 - val_loss: 0.0080 - val_tp: 80987072.0000 - val_fp: 19601.7500 - val_tn: 20069706.0000 - val_fn: 102182.9922 - val_accuracy: 0.9995 - val_precision: 0.9998 - val_recall: 0.9987 - val_auc: 0.9999\n",
      "Epoch 24/40\n",
      "3967728/3967728 [==============================] - 50s 13us/step - loss: 0.0082 - tp: 82751720.0000 - fp: 20006.6895 - tn: 20506894.0000 - fn: 104278.2344 - accuracy: 0.9995 - precision: 0.9999 - recall: 0.9987 - auc: 0.9999 - val_loss: 0.0076 - val_tp: 84516112.0000 - val_fp: 20409.6094 - val_tn: 20944352.0000 - val_fn: 106349.7656 - val_accuracy: 0.9995 - val_precision: 0.9998 - val_recall: 0.9987 - val_auc: 0.9999\n",
      "Epoch 25/40\n",
      "3967728/3967728 [==============================] - 50s 13us/step - loss: 0.0081 - tp: 86280744.0000 - fp: 20805.9727 - tn: 21381538.0000 - fn: 108373.1562 - accuracy: 0.9995 - precision: 0.9999 - recall: 0.9987 - auc: 0.9999 - val_loss: 0.0086 - val_tp: 88045208.0000 - val_fp: 21212.3164 - val_tn: 21818876.0000 - val_fn: 110507.3203 - val_accuracy: 0.9996 - val_precision: 0.9998 - val_recall: 0.9987 - val_auc: 0.9999\n",
      "Epoch 26/40\n",
      "3967728/3967728 [==============================] - 50s 12us/step - loss: 0.0080 - tp: 89809784.0000 - fp: 21592.8242 - tn: 22255994.0000 - fn: 112610.8984 - accuracy: 0.9995 - precision: 0.9999 - recall: 0.9987 - auc: 0.9999 - val_loss: 0.0080 - val_tp: 91574368.0000 - val_fp: 21986.9707 - val_tn: 22693458.0000 - val_fn: 114669.4844 - val_accuracy: 0.9996 - val_precision: 0.9998 - val_recall: 0.9988 - val_auc: 0.9999\n",
      "Epoch 27/40\n",
      "3967728/3967728 [==============================] - 49s 12us/step - loss: 0.0080 - tp: 93338976.0000 - fp: 22384.7852 - tn: 23130426.0000 - fn: 116737.2656 - accuracy: 0.9995 - precision: 0.9999 - recall: 0.9987 - auc: 0.9999 - val_loss: 0.0076 - val_tp: 95103688.0000 - val_fp: 22822.1465 - val_tn: 23567968.0000 - val_fn: 118761.4609 - val_accuracy: 0.9996 - val_precision: 0.9998 - val_recall: 0.9988 - val_auc: 0.9999\n",
      "Epoch 28/40\n",
      "3967728/3967728 [==============================] - 49s 12us/step - loss: 0.0080 - tp: 96868432.0000 - fp: 23264.3867 - tn: 24005340.0000 - fn: 120761.8359 - accuracy: 0.9995 - precision: 0.9999 - recall: 0.9987 - auc: 0.9999 - val_loss: 0.0081 - val_tp: 98633360.0000 - val_fp: 23730.6914 - val_tn: 24442486.0000 - val_fn: 122729.8672 - val_accuracy: 0.9996 - val_precision: 0.9998 - val_recall: 0.9988 - val_auc: 0.9999\n",
      "Epoch 29/40\n",
      "3967728/3967728 [==============================] - 51s 13us/step - loss: 0.0079 - tp: 100397776.0000 - fp: 24221.2598 - tn: 24879818.0000 - fn: 124679.3672 - accuracy: 0.9995 - precision: 0.9999 - recall: 0.9987 - auc: 0.9999 - val_loss: 0.0076 - val_tp: 102162784.0000 - val_fp: 24610.0566 - val_tn: 25316958.0000 - val_fn: 126720.1797 - val_accuracy: 0.9996 - val_precision: 0.9998 - val_recall: 0.9988 - val_auc: 0.9999\n",
      "Epoch 30/40\n",
      "3967728/3967728 [==============================] - 50s 13us/step - loss: 0.0079 - tp: 103927400.0000 - fp: 24989.6504 - tn: 25754056.0000 - fn: 128734.4922 - accuracy: 0.9995 - precision: 0.9999 - recall: 0.9987 - auc: 0.9999 - val_loss: 0.0077 - val_tp: 105691952.0000 - val_fp: 25431.2148 - val_tn: 26191368.0000 - val_fn: 130691.3047 - val_accuracy: 0.9996 - val_precision: 0.9998 - val_recall: 0.9988 - val_auc: 0.9999\n",
      "Epoch 31/40\n",
      "3967728/3967728 [==============================] - 50s 12us/step - loss: 0.0078 - tp: 107456976.0000 - fp: 25896.8652 - tn: 26628422.0000 - fn: 132631.9844 - accuracy: 0.9995 - precision: 0.9999 - recall: 0.9987 - auc: 0.9999 - val_loss: 0.0084 - val_tp: 109221552.0000 - val_fp: 26323.4492 - val_tn: 27065794.0000 - val_fn: 134664.6250 - val_accuracy: 0.9996 - val_precision: 0.9998 - val_recall: 0.9988 - val_auc: 0.9999\n",
      "Epoch 32/40\n",
      "3967728/3967728 [==============================] - 50s 12us/step - loss: 0.0079 - tp: 110986264.0000 - fp: 26767.6250 - tn: 27502994.0000 - fn: 136665.2969 - accuracy: 0.9996 - precision: 0.9999 - recall: 0.9987 - auc: 0.9999 - val_loss: 0.0074 - val_tp: 112751184.0000 - val_fp: 27202.7520 - val_tn: 27940180.0000 - val_fn: 138654.8438 - val_accuracy: 0.9996 - val_precision: 0.9998 - val_recall: 0.9988 - val_auc: 0.9999\n",
      "Epoch 33/40\n",
      "3967728/3967728 [==============================] - 49s 12us/step - loss: 0.0079 - tp: 114515576.0000 - fp: 27656.9258 - tn: 28377640.0000 - fn: 140632.4219 - accuracy: 0.9996 - precision: 0.9999 - recall: 0.9987 - auc: 0.9999 - val_loss: 0.0074 - val_tp: 116280576.0000 - val_fp: 28086.0645 - val_tn: 28814676.0000 - val_fn: 142645.2188 - val_accuracy: 0.9997 - val_precision: 0.9998 - val_recall: 0.9988 - val_auc: 0.9999\n",
      "Epoch 34/40\n",
      "3967728/3967728 [==============================] - 49s 12us/step - loss: 0.0078 - tp: 118045344.0000 - fp: 28507.8711 - tn: 29251746.0000 - fn: 144628.4375 - accuracy: 0.9996 - precision: 0.9999 - recall: 0.9987 - auc: 0.9999 - val_loss: 0.0072 - val_tp: 119810112.0000 - val_fp: 28958.5332 - val_tn: 29689174.0000 - val_fn: 146599.5469 - val_accuracy: 0.9997 - val_precision: 0.9998 - val_recall: 0.9988 - val_auc: 0.9999\n",
      "Epoch 35/40\n",
      "3967728/3967728 [==============================] - 50s 13us/step - loss: 0.0077 - tp: 121574736.0000 - fp: 29390.2949 - tn: 30126114.0000 - fn: 148583.7188 - accuracy: 0.9996 - precision: 0.9999 - recall: 0.9989 - auc: 0.9999 - val_loss: 0.0076 - val_tp: 123339216.0000 - val_fp: 29815.2754 - val_tn: 30563616.0000 - val_fn: 150571.7500 - val_accuracy: 0.9997 - val_precision: 0.9998 - val_recall: 0.9988 - val_auc: 0.9999\n",
      "Epoch 36/40\n",
      "3967728/3967728 [==============================] - 49s 12us/step - loss: 0.0078 - tp: 125103656.0000 - fp: 30243.7812 - tn: 31001174.0000 - fn: 152619.2656 - accuracy: 0.9996 - precision: 0.9999 - recall: 0.9989 - auc: 0.9999 - val_loss: 0.0070 - val_tp: 126868712.0000 - val_fp: 30662.9121 - val_tn: 31438148.0000 - val_fn: 154570.1875 - val_accuracy: 0.9997 - val_precision: 0.9998 - val_recall: 0.9988 - val_auc: 0.9999\n",
      "Epoch 37/40\n",
      "3967728/3967728 [==============================] - 49s 12us/step - loss: 0.0078 - tp: 128633584.0000 - fp: 31114.9004 - tn: 31875210.0000 - fn: 156517.9688 - accuracy: 0.9996 - precision: 0.9999 - recall: 0.9989 - auc: 1.0000 - val_loss: 0.0085 - val_tp: 130398152.0000 - val_fp: 31537.6465 - val_tn: 32312628.0000 - val_fn: 158568.1094 - val_accuracy: 0.9997 - val_precision: 0.9998 - val_recall: 0.9988 - val_auc: 0.9999\n",
      "Epoch 38/40\n",
      "3967728/3967728 [==============================] - 50s 12us/step - loss: 0.0078 - tp: 132162688.0000 - fp: 31946.1973 - tn: 32750060.0000 - fn: 160620.7031 - accuracy: 0.9996 - precision: 0.9999 - recall: 0.9989 - auc: 1.0000 - val_loss: 0.0071 - val_tp: 133927560.0000 - val_fp: 32378.2871 - val_tn: 33187208.0000 - val_fn: 162628.6250 - val_accuracy: 0.9997 - val_precision: 0.9998 - val_recall: 0.9988 - val_auc: 0.9999\n"
     ]
    },
    {
     "name": "stdout",
     "output_type": "stream",
     "text": [
      "Epoch 39/40\n",
      "3967728/3967728 [==============================] - 48s 12us/step - loss: 0.0078 - tp: 135692112.0000 - fp: 32810.5078 - tn: 33624416.0000 - fn: 164650.0469 - accuracy: 0.9996 - precision: 0.9999 - recall: 0.9989 - auc: 1.0000 - val_loss: 0.0074 - val_tp: 137456992.0000 - val_fp: 33237.7617 - val_tn: 34061736.0000 - val_fn: 166637.2969 - val_accuracy: 0.9997 - val_precision: 0.9998 - val_recall: 0.9988 - val_auc: 0.9999\n",
      "Epoch 40/40\n",
      "3967728/3967728 [==============================] - 48s 12us/step - loss: 0.0078 - tp: 139221680.0000 - fp: 33665.0977 - tn: 34498876.0000 - fn: 168656.7812 - accuracy: 0.9996 - precision: 0.9999 - recall: 0.9989 - auc: 1.0000 - val_loss: 0.0072 - val_tp: 140986464.0000 - val_fp: 34121.3242 - val_tn: 34936272.0000 - val_fn: 170594.8750 - val_accuracy: 0.9997 - val_precision: 0.9998 - val_recall: 0.9988 - val_auc: 0.9999\n"
     ]
    }
   ],
   "source": [
    "exe = model.fit(train_X, train_Y, validation_data=(val_X, val_Y), epochs=40,callbacks = [early_stopping], batch_size=512)"
   ]
  },
  {
   "cell_type": "code",
   "execution_count": 21,
   "metadata": {},
   "outputs": [
    {
     "name": "stdout",
     "output_type": "stream",
     "text": [
      "3967728/3967728 [==============================] - 132s 33us/step\n",
      "0: 0.0072\n",
      "1: 142939360.0000\n",
      "2: 34558.0469\n",
      "3: 35368944.0000\n",
      "4: 172270.3438\n",
      "5: 1.0000\n",
      "6: 1.0000\n",
      "7: 0.9996\n",
      "8: 1.0000\n"
     ]
    }
   ],
   "source": [
    "results = model.evaluate(train_X, train_Y)\n",
    "for i in range(0,len(results)):\n",
    "    print((str(i)+': {:0.4f}').format(results[i]))\n"
   ]
  },
  {
   "cell_type": "code",
   "execution_count": 22,
   "metadata": {},
   "outputs": [],
   "source": [
    "def plot_metrics(history):\n",
    "  metrics =  ['loss', 'accuracy', 'precision', 'recall']\n",
    "  for n, metric in enumerate(metrics):\n",
    "    name = metric.replace(\"_\",\" \").capitalize()\n",
    "    plt.subplot(2,2,n+1)\n",
    "    plt.plot(history.epoch,  history.history[metric], color=colors[0], label='Train')\n",
    "    plt.plot(history.epoch, history.history['val_'+metric],\n",
    "             color=colors[0], linestyle=\"--\", label='Val')\n",
    "    plt.xlabel('Epoch')\n",
    "    plt.ylabel(name)\n",
    "    if metric == 'loss':\n",
    "      plt.ylim([0, plt.ylim()[1]])\n",
    "    elif metric == 'accuracy':\n",
    "      plt.ylim([0.985,1])\n",
    "    elif metric == 'precision':\n",
    "      plt.ylim([0.99,1])\n",
    "    elif metric == 'recall':\n",
    "      plt.ylim([0.99,1])\n",
    "\n",
    "    plt.legend()"
   ]
  },
  {
   "cell_type": "code",
   "execution_count": 23,
   "metadata": {},
   "outputs": [
    {
     "data": {
      "image/png": "[encoded data removed]",
      "text/plain": [
       "<Figure size 864x720 with 4 Axes>"
      ]
     },
     "metadata": {
      "needs_background": "light"
     },
     "output_type": "display_data"
    }
   ],
   "source": [
    "plot_metrics(exe)"
   ]
  },
  {
   "cell_type": "code",
   "execution_count": 24,
   "metadata": {},
   "outputs": [
    {
     "data": {
      "image/png": "[encoded data removed]",
      "text/plain": [
       "<Figure size 864x720 with 1 Axes>"
      ]
     },
     "metadata": {
      "needs_background": "light"
     },
     "output_type": "display_data"
    }
   ],
   "source": [
    "# summarize history for accuracy\n",
    "plt.plot(exe.history['accuracy'])\n",
    "plt.plot(exe.history['val_accuracy'])\n",
    "plt.title('model accuracy')\n",
    "plt.ylabel('accuracy')\n",
    "plt.xlabel('epoch')\n",
    "plt.legend(['train', 'test'], loc='upper left')\n",
    "plt.show()"
   ]
  },
  {
   "cell_type": "code",
   "execution_count": 25,
   "metadata": {},
   "outputs": [
    {
     "data": {
      "image/png": "[encoded data removed]",
      "text/plain": [
       "<Figure size 864x720 with 1 Axes>"
      ]
     },
     "metadata": {
      "needs_background": "light"
     },
     "output_type": "display_data"
    }
   ],
   "source": [
    "# summarize history for loss\n",
    "plt.plot(exe.history['loss'])\n",
    "plt.plot(exe.history['val_loss'])\n",
    "plt.title('model loss')\n",
    "plt.ylabel('loss')\n",
    "plt.xlabel('epoch')\n",
    "plt.legend(['train', 'test'], loc='upper left')\n",
    "plt.show()"
   ]
  },
  {
   "cell_type": "code",
   "execution_count": 26,
   "metadata": {
    "scrolled": true
   },
   "outputs": [
    {
     "name": "stdout",
     "output_type": "stream",
     "text": [
      "489843/489843 [==============================] - 18s 36us/step\n",
      "0: 0.0072\n",
      "1: 144919248.0000\n",
      "2: 35016.6172\n",
      "3: 35821656.0000\n",
      "4: 173771.9531\n",
      "5: 0.9998\n",
      "6: 0.9999\n",
      "7: 0.9990\n",
      "8: 1.0000\n"
     ]
    }
   ],
   "source": [
    "results_test = model.evaluate(test_X, test_Y)\n",
    "for i in range(0,len(results_test)):\n",
    "    print((str(i)+': {:0.4f}').format(results_test[i]))"
   ]
  },
  {
   "cell_type": "code",
   "execution_count": 46,
   "metadata": {},
   "outputs": [],
   "source": [
    "from sklearn.metrics import accuracy_score\n",
    "from keras.wrappers.scikit_learn import KerasClassifier"
   ]
  },
  {
   "cell_type": "code",
   "execution_count": 44,
   "metadata": {},
   "outputs": [],
   "source": [
    "test_predictions = model.predict(test_X)"
   ]
  },
  {
   "cell_type": "code",
   "execution_count": 47,
   "metadata": {},
   "outputs": [
    {
     "ename": "AttributeError",
     "evalue": "'KerasClassifier' object has no attribute 'model'",
     "output_type": "error",
     "traceback": [
      "\u001b[1;31m---------------------------------------------------------------------------\u001b[0m",
      "\u001b[1;31mAttributeError\u001b[0m                            Traceback (most recent call last)",
      "\u001b[1;32m<ipython-input-47-67b4d0663dce>\u001b[0m in \u001b[0;36m<module>\u001b[1;34m\u001b[0m\n\u001b[0;32m      1\u001b[0m \u001b[0mclassifier\u001b[0m \u001b[1;33m=\u001b[0m \u001b[0mKerasClassifier\u001b[0m\u001b[1;33m(\u001b[0m\u001b[0mmodel\u001b[0m\u001b[1;33m,\u001b[0m \u001b[0mbatch_size\u001b[0m\u001b[1;33m=\u001b[0m\u001b[1;36m128\u001b[0m\u001b[1;33m)\u001b[0m\u001b[1;33m\u001b[0m\u001b[1;33m\u001b[0m\u001b[0m\n\u001b[1;32m----> 2\u001b[1;33m \u001b[0my_pred_keras\u001b[0m \u001b[1;33m=\u001b[0m \u001b[0mclassifier\u001b[0m\u001b[1;33m.\u001b[0m\u001b[0mpredict\u001b[0m\u001b[1;33m(\u001b[0m\u001b[0mtest_X\u001b[0m\u001b[1;33m)\u001b[0m\u001b[1;33m\u001b[0m\u001b[1;33m\u001b[0m\u001b[0m\n\u001b[0m",
      "\u001b[1;32mc:\\users\\sharuka thirimanne\\appdata\\local\\programs\\python\\python37\\lib\\site-packages\\keras\\wrappers\\scikit_learn.py\u001b[0m in \u001b[0;36mpredict\u001b[1;34m(self, x, **kwargs)\u001b[0m\n\u001b[0;32m    226\u001b[0m         \u001b[0mkwargs\u001b[0m \u001b[1;33m=\u001b[0m \u001b[0mself\u001b[0m\u001b[1;33m.\u001b[0m\u001b[0mfilter_sk_params\u001b[0m\u001b[1;33m(\u001b[0m\u001b[0mSequential\u001b[0m\u001b[1;33m.\u001b[0m\u001b[0mpredict_classes\u001b[0m\u001b[1;33m,\u001b[0m \u001b[0mkwargs\u001b[0m\u001b[1;33m)\u001b[0m\u001b[1;33m\u001b[0m\u001b[1;33m\u001b[0m\u001b[0m\n\u001b[0;32m    227\u001b[0m \u001b[1;33m\u001b[0m\u001b[0m\n\u001b[1;32m--> 228\u001b[1;33m         \u001b[0mproba\u001b[0m \u001b[1;33m=\u001b[0m \u001b[0mself\u001b[0m\u001b[1;33m.\u001b[0m\u001b[0mmodel\u001b[0m\u001b[1;33m.\u001b[0m\u001b[0mpredict\u001b[0m\u001b[1;33m(\u001b[0m\u001b[0mx\u001b[0m\u001b[1;33m,\u001b[0m \u001b[1;33m**\u001b[0m\u001b[0mkwargs\u001b[0m\u001b[1;33m)\u001b[0m\u001b[1;33m\u001b[0m\u001b[1;33m\u001b[0m\u001b[0m\n\u001b[0m\u001b[0;32m    229\u001b[0m         \u001b[1;32mif\u001b[0m \u001b[0mproba\u001b[0m\u001b[1;33m.\u001b[0m\u001b[0mshape\u001b[0m\u001b[1;33m[\u001b[0m\u001b[1;33m-\u001b[0m\u001b[1;36m1\u001b[0m\u001b[1;33m]\u001b[0m \u001b[1;33m>\u001b[0m \u001b[1;36m1\u001b[0m\u001b[1;33m:\u001b[0m\u001b[1;33m\u001b[0m\u001b[1;33m\u001b[0m\u001b[0m\n\u001b[0;32m    230\u001b[0m             \u001b[0mclasses\u001b[0m \u001b[1;33m=\u001b[0m \u001b[0mproba\u001b[0m\u001b[1;33m.\u001b[0m\u001b[0margmax\u001b[0m\u001b[1;33m(\u001b[0m\u001b[0maxis\u001b[0m\u001b[1;33m=\u001b[0m\u001b[1;33m-\u001b[0m\u001b[1;36m1\u001b[0m\u001b[1;33m)\u001b[0m\u001b[1;33m\u001b[0m\u001b[1;33m\u001b[0m\u001b[0m\n",
      "\u001b[1;31mAttributeError\u001b[0m: 'KerasClassifier' object has no attribute 'model'"
     ]
    }
   ],
   "source": [
    "classifier = KerasClassifier(model, batch_size=128)\n",
    "y_pred_keras = classifier.predict(test_X)"
   ]
  },
  {
   "cell_type": "code",
   "execution_count": 28,
   "metadata": {},
   "outputs": [],
   "source": [
    "def plot_cm(labels, predictions, p=0.5):\n",
    "    cm = confusion_matrix(labels, predictions > p)\n",
    "    plt.figure(figsize=(5,5))\n",
    "    sns.heatmap(cm, annot=True, fmt=\"d\")\n",
    "    plt.title('Confusion matrix @{:.2f}'.format(p))\n",
    "    plt.ylabel('Actual label')\n",
    "    plt.xlabel('Predicted label')\n",
    "\n",
    "    print('True Negatives : ', cm[0][0])\n",
    "    print('False Positives: ', cm[0][1])\n",
    "    print('False Negatives: ', cm[1][0])\n",
    "    print('True Positives : ', cm[1][1])\n",
    "    print('Total Transactions: ', np.sum(cm[1]))"
   ]
  },
  {
   "cell_type": "code",
   "execution_count": 29,
   "metadata": {},
   "outputs": [],
   "source": [
    "import numpy as np"
   ]
  },
  {
   "cell_type": "code",
   "execution_count": 30,
   "metadata": {
    "scrolled": false
   },
   "outputs": [
    {
     "name": "stdout",
     "output_type": "stream",
     "text": [
      "True Negatives :  97315\n",
      "False Positives:  116\n",
      "False Negatives:  350\n",
      "True Positives :  392062\n",
      "Total Transactions:  392412\n"
     ]
    },
    {
     "data": {
      "image/png": "[encoded data removed]",
      "text/plain": [
       "<Figure size 360x360 with 2 Axes>"
      ]
     },
     "metadata": {
      "needs_background": "light"
     },
     "output_type": "display_data"
    }
   ],
   "source": [
    "plot_cm(test_Y, test_predictions)"
   ]
  },
  {
   "cell_type": "code",
   "execution_count": 31,
   "metadata": {},
   "outputs": [],
   "source": [
    "from sklearn.metrics import classification_report"
   ]
  },
  {
   "cell_type": "code",
   "execution_count": 45,
   "metadata": {},
   "outputs": [
    {
     "ename": "TypeError",
     "evalue": "Singleton array 0 cannot be considered a valid collection.",
     "output_type": "error",
     "traceback": [
      "\u001b[1;31m---------------------------------------------------------------------------\u001b[0m",
      "\u001b[1;31mTypeError\u001b[0m                                 Traceback (most recent call last)",
      "\u001b[1;32m<ipython-input-45-6583c4e1ad3e>\u001b[0m in \u001b[0;36m<module>\u001b[1;34m\u001b[0m\n\u001b[1;32m----> 1\u001b[1;33m \u001b[0mprint\u001b[0m\u001b[1;33m(\u001b[0m\u001b[0mclassification_report\u001b[0m\u001b[1;33m(\u001b[0m\u001b[0mtest_Y\u001b[0m\u001b[1;33m,\u001b[0m \u001b[0mtest_pred_bool\u001b[0m\u001b[1;33m)\u001b[0m\u001b[1;33m)\u001b[0m\u001b[1;33m\u001b[0m\u001b[1;33m\u001b[0m\u001b[0m\n\u001b[0m",
      "\u001b[1;32mc:\\users\\sharuka thirimanne\\appdata\\local\\programs\\python\\python37\\lib\\site-packages\\sklearn\\utils\\validation.py\u001b[0m in \u001b[0;36minner_f\u001b[1;34m(*args, **kwargs)\u001b[0m\n\u001b[0;32m     70\u001b[0m                           FutureWarning)\n\u001b[0;32m     71\u001b[0m         \u001b[0mkwargs\u001b[0m\u001b[1;33m.\u001b[0m\u001b[0mupdate\u001b[0m\u001b[1;33m(\u001b[0m\u001b[1;33m{\u001b[0m\u001b[0mk\u001b[0m\u001b[1;33m:\u001b[0m \u001b[0marg\u001b[0m \u001b[1;32mfor\u001b[0m \u001b[0mk\u001b[0m\u001b[1;33m,\u001b[0m \u001b[0marg\u001b[0m \u001b[1;32min\u001b[0m \u001b[0mzip\u001b[0m\u001b[1;33m(\u001b[0m\u001b[0msig\u001b[0m\u001b[1;33m.\u001b[0m\u001b[0mparameters\u001b[0m\u001b[1;33m,\u001b[0m \u001b[0margs\u001b[0m\u001b[1;33m)\u001b[0m\u001b[1;33m}\u001b[0m\u001b[1;33m)\u001b[0m\u001b[1;33m\u001b[0m\u001b[1;33m\u001b[0m\u001b[0m\n\u001b[1;32m---> 72\u001b[1;33m         \u001b[1;32mreturn\u001b[0m \u001b[0mf\u001b[0m\u001b[1;33m(\u001b[0m\u001b[1;33m**\u001b[0m\u001b[0mkwargs\u001b[0m\u001b[1;33m)\u001b[0m\u001b[1;33m\u001b[0m\u001b[1;33m\u001b[0m\u001b[0m\n\u001b[0m\u001b[0;32m     73\u001b[0m     \u001b[1;32mreturn\u001b[0m \u001b[0minner_f\u001b[0m\u001b[1;33m\u001b[0m\u001b[1;33m\u001b[0m\u001b[0m\n\u001b[0;32m     74\u001b[0m \u001b[1;33m\u001b[0m\u001b[0m\n",
      "\u001b[1;32mc:\\users\\sharuka thirimanne\\appdata\\local\\programs\\python\\python37\\lib\\site-packages\\sklearn\\metrics\\_classification.py\u001b[0m in \u001b[0;36mclassification_report\u001b[1;34m(y_true, y_pred, labels, target_names, sample_weight, digits, output_dict, zero_division)\u001b[0m\n\u001b[0;32m   1927\u001b[0m     \"\"\"\n\u001b[0;32m   1928\u001b[0m \u001b[1;33m\u001b[0m\u001b[0m\n\u001b[1;32m-> 1929\u001b[1;33m     \u001b[0my_type\u001b[0m\u001b[1;33m,\u001b[0m \u001b[0my_true\u001b[0m\u001b[1;33m,\u001b[0m \u001b[0my_pred\u001b[0m \u001b[1;33m=\u001b[0m \u001b[0m_check_targets\u001b[0m\u001b[1;33m(\u001b[0m\u001b[0my_true\u001b[0m\u001b[1;33m,\u001b[0m \u001b[0my_pred\u001b[0m\u001b[1;33m)\u001b[0m\u001b[1;33m\u001b[0m\u001b[1;33m\u001b[0m\u001b[0m\n\u001b[0m\u001b[0;32m   1930\u001b[0m \u001b[1;33m\u001b[0m\u001b[0m\n\u001b[0;32m   1931\u001b[0m     \u001b[0mlabels_given\u001b[0m \u001b[1;33m=\u001b[0m \u001b[1;32mTrue\u001b[0m\u001b[1;33m\u001b[0m\u001b[1;33m\u001b[0m\u001b[0m\n",
      "\u001b[1;32mc:\\users\\sharuka thirimanne\\appdata\\local\\programs\\python\\python37\\lib\\site-packages\\sklearn\\metrics\\_classification.py\u001b[0m in \u001b[0;36m_check_targets\u001b[1;34m(y_true, y_pred)\u001b[0m\n\u001b[0;32m     79\u001b[0m     \u001b[0my_pred\u001b[0m \u001b[1;33m:\u001b[0m \u001b[0marray\u001b[0m \u001b[1;32mor\u001b[0m \u001b[0mindicator\u001b[0m \u001b[0mmatrix\u001b[0m\u001b[1;33m\u001b[0m\u001b[1;33m\u001b[0m\u001b[0m\n\u001b[0;32m     80\u001b[0m     \"\"\"\n\u001b[1;32m---> 81\u001b[1;33m     \u001b[0mcheck_consistent_length\u001b[0m\u001b[1;33m(\u001b[0m\u001b[0my_true\u001b[0m\u001b[1;33m,\u001b[0m \u001b[0my_pred\u001b[0m\u001b[1;33m)\u001b[0m\u001b[1;33m\u001b[0m\u001b[1;33m\u001b[0m\u001b[0m\n\u001b[0m\u001b[0;32m     82\u001b[0m     \u001b[0mtype_true\u001b[0m \u001b[1;33m=\u001b[0m \u001b[0mtype_of_target\u001b[0m\u001b[1;33m(\u001b[0m\u001b[0my_true\u001b[0m\u001b[1;33m)\u001b[0m\u001b[1;33m\u001b[0m\u001b[1;33m\u001b[0m\u001b[0m\n\u001b[0;32m     83\u001b[0m     \u001b[0mtype_pred\u001b[0m \u001b[1;33m=\u001b[0m \u001b[0mtype_of_target\u001b[0m\u001b[1;33m(\u001b[0m\u001b[0my_pred\u001b[0m\u001b[1;33m)\u001b[0m\u001b[1;33m\u001b[0m\u001b[1;33m\u001b[0m\u001b[0m\n",
      "\u001b[1;32mc:\\users\\sharuka thirimanne\\appdata\\local\\programs\\python\\python37\\lib\\site-packages\\sklearn\\utils\\validation.py\u001b[0m in \u001b[0;36mcheck_consistent_length\u001b[1;34m(*arrays)\u001b[0m\n\u001b[0;32m    250\u001b[0m     \"\"\"\n\u001b[0;32m    251\u001b[0m \u001b[1;33m\u001b[0m\u001b[0m\n\u001b[1;32m--> 252\u001b[1;33m     \u001b[0mlengths\u001b[0m \u001b[1;33m=\u001b[0m \u001b[1;33m[\u001b[0m\u001b[0m_num_samples\u001b[0m\u001b[1;33m(\u001b[0m\u001b[0mX\u001b[0m\u001b[1;33m)\u001b[0m \u001b[1;32mfor\u001b[0m \u001b[0mX\u001b[0m \u001b[1;32min\u001b[0m \u001b[0marrays\u001b[0m \u001b[1;32mif\u001b[0m \u001b[0mX\u001b[0m \u001b[1;32mis\u001b[0m \u001b[1;32mnot\u001b[0m \u001b[1;32mNone\u001b[0m\u001b[1;33m]\u001b[0m\u001b[1;33m\u001b[0m\u001b[1;33m\u001b[0m\u001b[0m\n\u001b[0m\u001b[0;32m    253\u001b[0m     \u001b[0muniques\u001b[0m \u001b[1;33m=\u001b[0m \u001b[0mnp\u001b[0m\u001b[1;33m.\u001b[0m\u001b[0munique\u001b[0m\u001b[1;33m(\u001b[0m\u001b[0mlengths\u001b[0m\u001b[1;33m)\u001b[0m\u001b[1;33m\u001b[0m\u001b[1;33m\u001b[0m\u001b[0m\n\u001b[0;32m    254\u001b[0m     \u001b[1;32mif\u001b[0m \u001b[0mlen\u001b[0m\u001b[1;33m(\u001b[0m\u001b[0muniques\u001b[0m\u001b[1;33m)\u001b[0m \u001b[1;33m>\u001b[0m \u001b[1;36m1\u001b[0m\u001b[1;33m:\u001b[0m\u001b[1;33m\u001b[0m\u001b[1;33m\u001b[0m\u001b[0m\n",
      "\u001b[1;32mc:\\users\\sharuka thirimanne\\appdata\\local\\programs\\python\\python37\\lib\\site-packages\\sklearn\\utils\\validation.py\u001b[0m in \u001b[0;36m<listcomp>\u001b[1;34m(.0)\u001b[0m\n\u001b[0;32m    250\u001b[0m     \"\"\"\n\u001b[0;32m    251\u001b[0m \u001b[1;33m\u001b[0m\u001b[0m\n\u001b[1;32m--> 252\u001b[1;33m     \u001b[0mlengths\u001b[0m \u001b[1;33m=\u001b[0m \u001b[1;33m[\u001b[0m\u001b[0m_num_samples\u001b[0m\u001b[1;33m(\u001b[0m\u001b[0mX\u001b[0m\u001b[1;33m)\u001b[0m \u001b[1;32mfor\u001b[0m \u001b[0mX\u001b[0m \u001b[1;32min\u001b[0m \u001b[0marrays\u001b[0m \u001b[1;32mif\u001b[0m \u001b[0mX\u001b[0m \u001b[1;32mis\u001b[0m \u001b[1;32mnot\u001b[0m \u001b[1;32mNone\u001b[0m\u001b[1;33m]\u001b[0m\u001b[1;33m\u001b[0m\u001b[1;33m\u001b[0m\u001b[0m\n\u001b[0m\u001b[0;32m    253\u001b[0m     \u001b[0muniques\u001b[0m \u001b[1;33m=\u001b[0m \u001b[0mnp\u001b[0m\u001b[1;33m.\u001b[0m\u001b[0munique\u001b[0m\u001b[1;33m(\u001b[0m\u001b[0mlengths\u001b[0m\u001b[1;33m)\u001b[0m\u001b[1;33m\u001b[0m\u001b[1;33m\u001b[0m\u001b[0m\n\u001b[0;32m    254\u001b[0m     \u001b[1;32mif\u001b[0m \u001b[0mlen\u001b[0m\u001b[1;33m(\u001b[0m\u001b[0muniques\u001b[0m\u001b[1;33m)\u001b[0m \u001b[1;33m>\u001b[0m \u001b[1;36m1\u001b[0m\u001b[1;33m:\u001b[0m\u001b[1;33m\u001b[0m\u001b[1;33m\u001b[0m\u001b[0m\n",
      "\u001b[1;32mc:\\users\\sharuka thirimanne\\appdata\\local\\programs\\python\\python37\\lib\\site-packages\\sklearn\\utils\\validation.py\u001b[0m in \u001b[0;36m_num_samples\u001b[1;34m(x)\u001b[0m\n\u001b[0;32m    194\u001b[0m         \u001b[1;32mif\u001b[0m \u001b[0mlen\u001b[0m\u001b[1;33m(\u001b[0m\u001b[0mx\u001b[0m\u001b[1;33m.\u001b[0m\u001b[0mshape\u001b[0m\u001b[1;33m)\u001b[0m \u001b[1;33m==\u001b[0m \u001b[1;36m0\u001b[0m\u001b[1;33m:\u001b[0m\u001b[1;33m\u001b[0m\u001b[1;33m\u001b[0m\u001b[0m\n\u001b[0;32m    195\u001b[0m             raise TypeError(\"Singleton array %r cannot be considered\"\n\u001b[1;32m--> 196\u001b[1;33m                             \" a valid collection.\" % x)\n\u001b[0m\u001b[0;32m    197\u001b[0m         \u001b[1;31m# Check that shape is returning an integer or default to len\u001b[0m\u001b[1;33m\u001b[0m\u001b[1;33m\u001b[0m\u001b[1;33m\u001b[0m\u001b[0m\n\u001b[0;32m    198\u001b[0m         \u001b[1;31m# Dask dataframes may not return numeric shape[0] value\u001b[0m\u001b[1;33m\u001b[0m\u001b[1;33m\u001b[0m\u001b[1;33m\u001b[0m\u001b[0m\n",
      "\u001b[1;31mTypeError\u001b[0m: Singleton array 0 cannot be considered a valid collection."
     ]
    }
   ],
   "source": [
    "print(classification_report(test_Y, test_pred_bool))"
   ]
  },
  {
   "cell_type": "code",
   "execution_count": 33,
   "metadata": {},
   "outputs": [
    {
     "name": "stdout",
     "output_type": "stream",
     "text": [
      "Number of incorrect predictions =  460\n",
      "Number of correct predictions   =  484668\n",
      "Test set accuracy               =  99.90517966392375%\n"
     ]
    }
   ],
   "source": [
    "count = 0\n",
    "predictions = model.predict_classes(test_X)\n",
    "for i in range(0,485128):\n",
    "    if predictions[i] != test_Y[i]:\n",
    "        #print('%s => %d (expected %d)' % (test_X[i].tolist(), predictions[i], test_Y[i]))\n",
    "        count = count + 1\n",
    "print('Number of incorrect predictions = ',count)\n",
    "print('Number of correct predictions   = ', (485128-count))\n",
    "print('Test set accuracy               =  '+ str(((485128-count)/485128)*100) + '%')"
   ]
  }
 ],
 "metadata": {
  "kernelspec": {
   "display_name": "Python 3",
   "language": "python",
   "name": "python3"
  },
  "language_info": {
   "codemirror_mode": {
    "name": "ipython",
    "version": 3
   },
   "file_extension": ".py",
   "mimetype": "text/x-python",
   "name": "python",
   "nbconvert_exporter": "python",
   "pygments_lexer": "ipython3",
   "version": "3.7.3"
  }
 },
 "nbformat": 4,
 "nbformat_minor": 4
}
